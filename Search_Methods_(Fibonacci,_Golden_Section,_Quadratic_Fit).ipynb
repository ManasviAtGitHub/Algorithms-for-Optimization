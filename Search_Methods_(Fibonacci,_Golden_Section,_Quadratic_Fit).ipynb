{
  "nbformat": 4,
  "nbformat_minor": 0,
  "metadata": {
    "colab": {
      "name": "Search Methods (Fibonacci, Golden Section, Quadratic Fit).ipynb",
      "provenance": [],
      "collapsed_sections": [],
      "include_colab_link": true
    },
    "kernelspec": {
      "display_name": "Julia",
      "language": "julia",
      "name": "julia"
    },
    "language_info": {
      "file_extension": ".jl",
      "mimetype": "application/julia",
      "name": "julia"
    }
  },
  "cells": [
    {
      "cell_type": "markdown",
      "metadata": {
        "id": "view-in-github",
        "colab_type": "text"
      },
      "source": [
        "<a href=\"https://colab.research.google.com/github/ManasviAtGitHub/Algorithms-for-Optimization/blob/main/Search_Methods_(Fibonacci%2C_Golden_Section%2C_Quadratic_Fit).ipynb\" target=\"_parent\"><img src=\"https://colab.research.google.com/assets/colab-badge.svg\" alt=\"Open In Colab\"/></a>"
      ]
    },
    {
      "cell_type": "markdown",
      "metadata": {
        "id": "tQ1r1bbb0yBv"
      },
      "source": [
        "# <img src=\"https://github.com/JuliaLang/julia-logo-graphics/raw/master/images/julia-logo-color.png\" height=\"100\" /> _Colab Notebook Template_\n",
        "\n",
        "## Instructions\n",
        "1. Work on a copy of this notebook: _File_ > _Save a copy in Drive_ (you will need a Google account). Alternatively, you can download the notebook using _File_ > _Download .ipynb_, then upload it to [Colab](https://colab.research.google.com/).\n",
        "2. If you need a GPU: _Runtime_ > _Change runtime type_ > _Harware accelerator_ = _GPU_.\n",
        "3. Execute the following cell (click on it and press Ctrl+Enter) to install Julia, IJulia and other packages (if needed, update `JULIA_VERSION` and the other parameters). This takes a couple of minutes.\n",
        "4. Reload this page (press Ctrl+R, or ⌘+R, or the F5 key) and continue to the next section.\n",
        "\n",
        "_Notes_:\n",
        "* If your Colab Runtime gets reset (e.g., due to inactivity), repeat steps 2, 3 and 4.\n",
        "* After installation, if you want to change the Julia version or activate/deactivate the GPU, you will need to reset the Runtime: _Runtime_ > _Factory reset runtime_ and repeat steps 3 and 4."
      ]
    },
    {
      "cell_type": "code",
      "metadata": {
        "id": "GIeFXS0F0zww",
        "colab": {
          "base_uri": "https://localhost:8080/"
        },
        "outputId": "d0ac1480-d97d-4216-f978-6f55829af2eb"
      },
      "source": [
        "%%shell\n",
        "set -e\n",
        "\n",
        "#---------------------------------------------------#\n",
        "JULIA_VERSION=\"1.6.0\" # any version ≥ 0.7.0\n",
        "JULIA_PACKAGES=\"IJulia BenchmarkTools Plots\"\n",
        "JULIA_PACKAGES_IF_GPU=\"CUDA\" # or CuArrays for older Julia versions\n",
        "JULIA_NUM_THREADS=2\n",
        "#---------------------------------------------------#\n",
        "\n",
        "if [ -n \"$COLAB_GPU\" ] && [ -z `which julia` ]; then\n",
        "  # Install Julia\n",
        "  JULIA_VER=`cut -d '.' -f -2 <<< \"$JULIA_VERSION\"`\n",
        "  echo \"Installing Julia $JULIA_VERSION on the current Colab Runtime...\"\n",
        "  BASE_URL=\"https://julialang-s3.julialang.org/bin/linux/x64\"\n",
        "  URL=\"$BASE_URL/$JULIA_VER/julia-$JULIA_VERSION-linux-x86_64.tar.gz\"\n",
        "  wget -nv $URL -O /tmp/julia.tar.gz # -nv means \"not verbose\"\n",
        "  tar -x -f /tmp/julia.tar.gz -C /usr/local --strip-components 1\n",
        "  rm /tmp/julia.tar.gz\n",
        "\n",
        "  # Install Packages\n",
        "  if [ \"$COLAB_GPU\" = \"1\" ]; then\n",
        "      JULIA_PACKAGES=\"$JULIA_PACKAGES $JULIA_PACKAGES_IF_GPU\"\n",
        "  fi\n",
        "  for PKG in `echo $JULIA_PACKAGES`; do\n",
        "    echo \"Installing Julia package $PKG...\"\n",
        "    julia -e 'using Pkg; pkg\"add '$PKG'; precompile;\"' &> /dev/null\n",
        "  done\n",
        "\n",
        "  # Install kernel and rename it to \"julia\"\n",
        "  echo \"Installing IJulia kernel...\"\n",
        "  julia -e 'using IJulia; IJulia.installkernel(\"julia\", env=Dict(\n",
        "      \"JULIA_NUM_THREADS\"=>\"'\"$JULIA_NUM_THREADS\"'\"))'\n",
        "  KERNEL_DIR=`julia -e \"using IJulia; print(IJulia.kerneldir())\"`\n",
        "  KERNEL_NAME=`ls -d \"$KERNEL_DIR\"/julia*`\n",
        "  mv -f $KERNEL_NAME \"$KERNEL_DIR\"/julia  \n",
        "\n",
        "  echo ''\n",
        "  echo \"Success! Please reload this page and jump to the next section.\"\n",
        "fi"
      ],
      "execution_count": null,
      "outputs": [
        {
          "output_type": "stream",
          "name": "stdout",
          "text": [
            "Installing Julia 1.6.0 on the current Colab Runtime...\n",
            "2021-10-30 05:01:50 URL:https://storage.googleapis.com/julialang2/bin/linux/x64/1.6/julia-1.6.0-linux-x86_64.tar.gz [112838927/112838927] -> \"/tmp/julia.tar.gz\" [1]\n",
            "Installing Julia package IJulia...\n",
            "Installing Julia package BenchmarkTools...\n",
            "Installing Julia package Plots...\n",
            "Installing IJulia kernel...\n",
            "\u001b[36m\u001b[1m[ \u001b[22m\u001b[39m\u001b[36m\u001b[1mInfo: \u001b[22m\u001b[39mInstalling julia kernelspec in /root/.local/share/jupyter/kernels/julia-1.6\n",
            "\n",
            "Success! Please reload this page and jump to the next section.\n"
          ]
        },
        {
          "output_type": "execute_result",
          "data": {
            "text/plain": [
              ""
            ]
          },
          "metadata": {},
          "execution_count": 1
        }
      ]
    },
    {
      "cell_type": "markdown",
      "metadata": {
        "id": "8RC1QNNqk6h1"
      },
      "source": [
        "# Need Help?\n",
        "\n",
        "* Learning: https://julialang.org/learning/\n",
        "* Documentation: https://docs.julialang.org/\n",
        "* Questions & Discussions:\n",
        "  * https://discourse.julialang.org/\n",
        "  * http://julialang.slack.com/\n",
        "  * https://stackoverflow.com/questions/tagged/julia\n",
        "\n",
        "If you ever ask for help or file an issue about Julia, you should generally provide the output of `versioninfo()`."
      ]
    },
    {
      "cell_type": "markdown",
      "metadata": {
        "id": "2UMidUQB03vJ"
      },
      "source": [
        "Add new code cells by clicking the `+ Code` button (or _Insert_ > _Code cell_).\n",
        "\n",
        "Have fun!\n",
        "\n",
        "<img src=\"https://raw.githubusercontent.com/JuliaLang/julia-logo-graphics/master/images/julia-logo-mask.png\" height=\"100\" />"
      ]
    },
    {
      "cell_type": "markdown",
      "metadata": {
        "id": "4x2gDaxNj1PL"
      },
      "source": [
        "## Functions for which we will try to find minimum using the search methods"
      ]
    },
    {
      "cell_type": "code",
      "metadata": {
        "colab": {
          "base_uri": "https://localhost:8080/"
        },
        "id": "8hIlLvTUmDLK",
        "outputId": "b9cb7106-ae1e-462e-c55c-83f2b2dd3053"
      },
      "source": [
        "g=x->x^2"
      ],
      "execution_count": 1,
      "outputs": [
        {
          "output_type": "execute_result",
          "data": {
            "text/plain": [
              "#1 (generic function with 1 method)"
            ]
          },
          "metadata": {},
          "execution_count": 1
        }
      ]
    },
    {
      "cell_type": "code",
      "metadata": {
        "colab": {
          "base_uri": "https://localhost:8080/"
        },
        "id": "QzydD8IDmDHZ",
        "outputId": "22dd84a1-77d4-4649-9a24-4e44c6371790"
      },
      "source": [
        "g(5)"
      ],
      "execution_count": 2,
      "outputs": [
        {
          "output_type": "execute_result",
          "data": {
            "text/plain": [
              "25"
            ]
          },
          "metadata": {},
          "execution_count": 2
        }
      ]
    },
    {
      "cell_type": "code",
      "metadata": {
        "id": "cEhBZD8tlIek",
        "colab": {
          "base_uri": "https://localhost:8080/"
        },
        "outputId": "858f745c-08e5-4add-ad51-47154c166415"
      },
      "source": [
        "h=x->((x^2)+(2*x)+5)"
      ],
      "execution_count": 3,
      "outputs": [
        {
          "output_type": "execute_result",
          "data": {
            "text/plain": [
              "#3 (generic function with 1 method)"
            ]
          },
          "metadata": {},
          "execution_count": 3
        }
      ]
    },
    {
      "cell_type": "code",
      "metadata": {
        "id": "sn-vkLB0lIZ0",
        "colab": {
          "base_uri": "https://localhost:8080/"
        },
        "outputId": "1539a6f3-79a7-4bf3-e81f-30b5f0070cf4"
      },
      "source": [
        "h(-1)"
      ],
      "execution_count": 4,
      "outputs": [
        {
          "output_type": "execute_result",
          "data": {
            "text/plain": [
              "4"
            ]
          },
          "metadata": {},
          "execution_count": 4
        }
      ]
    },
    {
      "cell_type": "code",
      "metadata": {
        "id": "zPmABLv0pB2a",
        "outputId": "7307a956-dd81-4be1-e4f6-1618aa4afaac",
        "colab": {
          "base_uri": "https://localhost:8080/"
        }
      },
      "source": [
        "d=x->(4*(x^2)+(10*x)+10)"
      ],
      "execution_count": 24,
      "outputs": [
        {
          "output_type": "execute_result",
          "data": {
            "text/plain": [
              "#9 (generic function with 1 method)"
            ]
          },
          "metadata": {},
          "execution_count": 24
        }
      ]
    },
    {
      "cell_type": "markdown",
      "metadata": {
        "id": "xtKIajBYpCJQ"
      },
      "source": [
        "## Funtion to find intervals ie brackets in which global minimum must lie"
      ]
    },
    {
      "cell_type": "code",
      "metadata": {
        "id": "o10Zi7l7lIWc",
        "colab": {
          "base_uri": "https://localhost:8080/"
        },
        "outputId": "7673b08d-9160-4134-f4eb-74166abb70a5"
      },
      "source": [
        "function bracket_minimum(fun1,x=0, s=1e-2, k=2.0)\n",
        "    a, ya = x, fun1(x)\n",
        "    b, yb = a + s, fun1(a + s)\n",
        "    if yb > ya\n",
        "        a, b = b, a\n",
        "        ya, yb = yb, ya\n",
        "        s = -s\n",
        "    end\n",
        "    while true\n",
        "        c, yc = b + s, fun1(b + s)\n",
        "        if yc > yb\n",
        "            return a < c ? (a, c) : (c, a)\n",
        "        end\n",
        "        a, ya, b, yb = b, yb, c, yc\n",
        "        s *= k\n",
        "    end\n",
        "end"
      ],
      "execution_count": 5,
      "outputs": [
        {
          "output_type": "execute_result",
          "data": {
            "text/plain": [
              "bracket_minimum (generic function with 4 methods)"
            ]
          },
          "metadata": {},
          "execution_count": 5
        }
      ]
    },
    {
      "cell_type": "code",
      "metadata": {
        "id": "lv__wgZolIFM",
        "colab": {
          "base_uri": "https://localhost:8080/"
        },
        "outputId": "b7a7b5b5-c539-4e62-fc25-9f5b7ff665eb"
      },
      "source": [
        "bracket_minimum(g)"
      ],
      "execution_count": 6,
      "outputs": [
        {
          "output_type": "execute_result",
          "data": {
            "text/plain": [
              "(-0.01, 0.01)"
            ]
          },
          "metadata": {},
          "execution_count": 6
        }
      ]
    },
    {
      "cell_type": "code",
      "metadata": {
        "colab": {
          "base_uri": "https://localhost:8080/"
        },
        "id": "EGhBbMhppOs5",
        "outputId": "7d8b7905-3291-42c4-b8f4-14dfa6062b48"
      },
      "source": [
        "bracket_minimum(h)"
      ],
      "execution_count": 7,
      "outputs": [
        {
          "output_type": "execute_result",
          "data": {
            "text/plain": [
              "(-2.55, -0.6300000000000001)"
            ]
          },
          "metadata": {},
          "execution_count": 7
        }
      ]
    },
    {
      "cell_type": "code",
      "metadata": {
        "id": "9poLA4ROrEdk"
      },
      "source": [
        ""
      ],
      "execution_count": null,
      "outputs": []
    },
    {
      "cell_type": "markdown",
      "metadata": {
        "id": "P40iMkCKrF0Z"
      },
      "source": [
        "Fibonacci Search Method"
      ]
    },
    {
      "cell_type": "code",
      "metadata": {
        "colab": {
          "base_uri": "https://localhost:8080/"
        },
        "id": "hMrgL-41rEgi",
        "outputId": "f1ad7a63-e356-4b0e-bd8f-59c99f5811d1"
      },
      "source": [
        "s=(1-√5)/(1+√5)"
      ],
      "execution_count": 8,
      "outputs": [
        {
          "output_type": "execute_result",
          "data": {
            "text/plain": [
              "-0.38196601125010515"
            ]
          },
          "metadata": {},
          "execution_count": 8
        }
      ]
    },
    {
      "cell_type": "code",
      "metadata": {
        "colab": {
          "base_uri": "https://localhost:8080/"
        },
        "id": "xYq6gaRErEnL",
        "outputId": "3b6934a7-718c-4359-a532-eca0bd9a4986"
      },
      "source": [
        "φ = MathConstants.φ"
      ],
      "execution_count": 9,
      "outputs": [
        {
          "output_type": "execute_result",
          "data": {
            "text/plain": [
              "φ = 1.6180339887498..."
            ]
          },
          "metadata": {},
          "execution_count": 9
        }
      ]
    },
    {
      "cell_type": "code",
      "metadata": {
        "colab": {
          "base_uri": "https://localhost:8080/"
        },
        "id": "leynikYjrbP5",
        "outputId": "635d0f52-b35d-458b-8344-4e0c4769e9b6"
      },
      "source": [
        "phi = 1.618"
      ],
      "execution_count": 10,
      "outputs": [
        {
          "output_type": "execute_result",
          "data": {
            "text/plain": [
              "1.618"
            ]
          },
          "metadata": {},
          "execution_count": 10
        }
      ]
    },
    {
      "cell_type": "markdown",
      "metadata": {
        "id": "i2_786TcsMkY"
      },
      "source": [
        "Fn-1/Fn"
      ]
    },
    {
      "cell_type": "code",
      "metadata": {
        "colab": {
          "base_uri": "https://localhost:8080/"
        },
        "id": "b74RcF2BrmA6",
        "outputId": "307eceb5-eebe-4e1a-ab5c-f1b345e70bfa"
      },
      "source": [
        "smallerToLargerRatio=n-> 1 / (φ*(1-s^(n+1))/(1-s^n))"
      ],
      "execution_count": 11,
      "outputs": [
        {
          "output_type": "execute_result",
          "data": {
            "text/plain": [
              "#5 (generic function with 1 method)"
            ]
          },
          "metadata": {},
          "execution_count": 11
        }
      ]
    },
    {
      "cell_type": "markdown",
      "metadata": {
        "id": "uBIdypeTsemW"
      },
      "source": [
        "Fn/Fn-1"
      ]
    },
    {
      "cell_type": "code",
      "metadata": {
        "colab": {
          "base_uri": "https://localhost:8080/"
        },
        "id": "UzeMtFlvsFuf",
        "outputId": "8d03e825-98a7-41de-c9f7-4a4fe6630b63"
      },
      "source": [
        "largerToSmallerRatio=n-> φ*(1-s^(n+1))/(1-s^n)"
      ],
      "execution_count": 12,
      "outputs": [
        {
          "output_type": "execute_result",
          "data": {
            "text/plain": [
              "#7 (generic function with 1 method)"
            ]
          },
          "metadata": {},
          "execution_count": 12
        }
      ]
    },
    {
      "cell_type": "code",
      "metadata": {
        "colab": {
          "base_uri": "https://localhost:8080/"
        },
        "id": "oiAiESzisnCN",
        "outputId": "278d84b6-8b4d-45c3-efe7-373aaeea7c42"
      },
      "source": [
        "smallerToLargerRatio(100)"
      ],
      "execution_count": 13,
      "outputs": [
        {
          "output_type": "execute_result",
          "data": {
            "text/plain": [
              "0.6180339887498948"
            ]
          },
          "metadata": {},
          "execution_count": 13
        }
      ]
    },
    {
      "cell_type": "code",
      "metadata": {
        "colab": {
          "base_uri": "https://localhost:8080/"
        },
        "id": "tqmeFKLcsta2",
        "outputId": "1302a1e1-2fe4-4e5a-d389-87f1fe55635e"
      },
      "source": [
        "largerToSmallerRatio(100)"
      ],
      "execution_count": 14,
      "outputs": [
        {
          "output_type": "execute_result",
          "data": {
            "text/plain": [
              "1.618033988749895"
            ]
          },
          "metadata": {},
          "execution_count": 14
        }
      ]
    },
    {
      "cell_type": "markdown",
      "metadata": {
        "id": "sAQQvuastwDy"
      },
      "source": [
        "### Rules that must be satisfied for applying such search methods\n",
        "[a,b]\n",
        "\n",
        "a<b<c\n",
        "\n",
        "f(a)>f(b)<f(c) "
      ]
    },
    {
      "cell_type": "markdown",
      "source": [
        "## Fibonacci Search"
      ],
      "metadata": {
        "id": "exvg_ozyaoK3"
      }
    },
    {
      "cell_type": "code",
      "metadata": {
        "colab": {
          "base_uri": "https://localhost:8080/"
        },
        "id": "gtt5cauitalr",
        "outputId": "d65847e3-b316-40f8-daec-932c64151c90"
      },
      "source": [
        "function fibonacci_search(g, a, b, n, ϵ=0.01)\n",
        "    s = (1-√5)/(1+√5)\n",
        "    ρ = 1 / (φ*(1-s^(n+1))/(1-s^n))\n",
        "    d = ρ*b + (1-ρ)*a\n",
        "    yd = g(d)\n",
        "    for i in 1 : n-1\n",
        "        if i == n-1\n",
        "            c = ϵ*a + (1-ϵ)*d\n",
        "        else\n",
        "            c = ρ*a + (1-ρ)*b\n",
        "        end\n",
        "        yc = g(c)\n",
        "        if yc < yd\n",
        "            b, d, yd = d, c, yc\n",
        "        else\n",
        "            a, b = b, c\n",
        "        end\n",
        "        ρ = 1 / (φ*(1-s^(n-i+1))/(1-s^(n-i)))\n",
        "    end\n",
        "    return a < b ? (a, b) : (b, a)\n",
        "end"
      ],
      "execution_count": 15,
      "outputs": [
        {
          "output_type": "execute_result",
          "data": {
            "text/plain": [
              "fibonacci_search (generic function with 2 methods)"
            ]
          },
          "metadata": {},
          "execution_count": 15
        }
      ]
    },
    {
      "cell_type": "code",
      "metadata": {
        "colab": {
          "base_uri": "https://localhost:8080/"
        },
        "id": "oNS5anM9zj04",
        "outputId": "d5ee938e-70dd-4756-e4e4-9ceff8433860"
      },
      "source": [
        "fibonacci_search(g,-1,1,10)"
      ],
      "execution_count": 16,
      "outputs": [
        {
          "output_type": "execute_result",
          "data": {
            "text/plain": [
              "(-0.011235955056179792, 0.011235955056179796)"
            ]
          },
          "metadata": {},
          "execution_count": 16
        }
      ]
    },
    {
      "cell_type": "code",
      "metadata": {
        "colab": {
          "base_uri": "https://localhost:8080/"
        },
        "id": "Q_kEAgi754AC",
        "outputId": "2ec23191-9a92-408e-8be8-6e1d118d8a84"
      },
      "source": [
        "fibonacci_search(h,-1.5,0.5,25)"
      ],
      "execution_count": 17,
      "outputs": [
        {
          "output_type": "execute_result",
          "data": {
            "text/plain": [
              "(-1.0000041188536406, -0.999987643439078)"
            ]
          },
          "metadata": {},
          "execution_count": 17
        }
      ]
    },
    {
      "cell_type": "markdown",
      "source": [
        "### Debugging the search method"
      ],
      "metadata": {
        "id": "N2uKR4usahxN"
      }
    },
    {
      "cell_type": "code",
      "metadata": {
        "colab": {
          "base_uri": "https://localhost:8080/"
        },
        "id": "YcRqsxCY0sUl",
        "outputId": "4c73923d-45c3-476d-e11b-ba4cf41dc1ea"
      },
      "source": [
        "function fibonacci_search_rough(g, a, b, n, ϵ=0.01)\n",
        "    s = (1-√5)/(1+√5)\n",
        "    ρ = 1 / (φ*(1-s^(n+1))/(1-s^n))\n",
        "    d = ρ*b + (1-ρ)*a\n",
        "    println(\"d $d\")\n",
        "    yd = g(d)\n",
        "    println(\"yd $yd\")\n",
        "    for i in 1 : n-1\n",
        "        if i == n-1\n",
        "            c = ϵ*a + (1-ϵ)*d\n",
        "            println(\"eps_c $c\")\n",
        "        else\n",
        "            c = ρ*a + (1-ρ)*b\n",
        "            println(\"c $c\")\n",
        "        end\n",
        "        yc = g(c)\n",
        "\n",
        "        println(\"yc $yc\")\n",
        "        if yc < yd\n",
        "            b, d, yd = d, c, yc\n",
        "        else\n",
        "            a, b = b, c\n",
        "        end\n",
        "        \n",
        "        ρ = 1 / (φ*(1-s^(n-i+1))/(1-s^(n-i)))\n",
        "    end\n",
        "    return a < b ? (a, b) : (b, a)\n",
        "end"
      ],
      "execution_count": 18,
      "outputs": [
        {
          "output_type": "execute_result",
          "data": {
            "text/plain": [
              "fibonacci_search_rough (generic function with 2 methods)"
            ]
          },
          "metadata": {},
          "execution_count": 18
        }
      ]
    },
    {
      "cell_type": "code",
      "metadata": {
        "colab": {
          "base_uri": "https://localhost:8080/"
        },
        "id": "vJ-peglX1S9S",
        "outputId": "97f80775-1ff8-4dfb-f2b0-6241e8404558"
      },
      "source": [
        "fibonacci_search_rough(g,-1,1,5)"
      ],
      "execution_count": 19,
      "outputs": [
        {
          "output_type": "stream",
          "name": "stdout",
          "text": [
            "d 0.24999999999999978\n",
            "yd 0.06249999999999989\n",
            "c -0.24999999999999978\n",
            "yc 0.06249999999999989\n",
            "c 0.5000000000000002\n",
            "yc 0.2500000000000002\n",
            "c 2.498001805406602e-16\n",
            "yc 6.240013019814644e-32\n",
            "eps_c -0.0024999999999997507\n",
            "yc 6.2499999999987535e-6\n"
          ]
        },
        {
          "output_type": "execute_result",
          "data": {
            "text/plain": [
              "(-0.0024999999999997507, 0.24999999999999978)"
            ]
          },
          "metadata": {},
          "execution_count": 19
        }
      ]
    },
    {
      "cell_type": "code",
      "metadata": {
        "id": "q9u6QIE352Dk"
      },
      "source": [
        ""
      ],
      "execution_count": null,
      "outputs": []
    },
    {
      "cell_type": "markdown",
      "metadata": {
        "id": "1-7k5Lmg6cK4"
      },
      "source": [
        "## Golden Section Search"
      ]
    },
    {
      "cell_type": "code",
      "metadata": {
        "colab": {
          "base_uri": "https://localhost:8080/"
        },
        "id": "CPeweb8C6f0v",
        "outputId": "59360c48-d7e3-4aa8-a97f-595a92344a07"
      },
      "source": [
        "function golden_section_search(f, a, b, n)\n",
        "    ρ = φ-1\n",
        "    d = ρ * b + (1 - ρ)*a\n",
        "    fd = f(d)\n",
        "    for i = 1 : n-1\n",
        "        c = ρ*a + (1 - ρ)*b\n",
        "        fc = f(c)\n",
        "        if fc < fd\n",
        "            b, d, fd = d, c, fc\n",
        "        else\n",
        "            a, b, fb = b, c, fc\n",
        "        end\n",
        "    end\n",
        "    return a < b ? (a, b) : (b, a)\n",
        "end"
      ],
      "execution_count": 20,
      "outputs": [
        {
          "output_type": "execute_result",
          "data": {
            "text/plain": [
              "golden_section_search (generic function with 1 method)"
            ]
          },
          "metadata": {},
          "execution_count": 20
        }
      ]
    },
    {
      "cell_type": "code",
      "metadata": {
        "colab": {
          "base_uri": "https://localhost:8080/"
        },
        "id": "MQrIjtQb6ma3",
        "outputId": "1646a559-dfc6-4dff-d1f8-f060c681d272"
      },
      "source": [
        "golden_section_search(g,-1,1,10)"
      ],
      "execution_count": 21,
      "outputs": [
        {
          "output_type": "execute_result",
          "data": {
            "text/plain": [
              "(-0.01315561749642492, 0.013155617496424812)"
            ]
          },
          "metadata": {},
          "execution_count": 21
        }
      ]
    },
    {
      "cell_type": "code",
      "metadata": {
        "colab": {
          "base_uri": "https://localhost:8080/"
        },
        "id": "YGKxdvOE7wMd",
        "outputId": "416e02cd-6bf2-4121-bb44-7fb17d7988e8"
      },
      "source": [
        "golden_section_search(h,-1.5,0.5,10)"
      ],
      "execution_count": 22,
      "outputs": [
        {
          "output_type": "execute_result",
          "data": {
            "text/plain": [
              "(-1.011602807488854, -0.9852915724960042)"
            ]
          },
          "metadata": {},
          "execution_count": 22
        }
      ]
    },
    {
      "cell_type": "markdown",
      "source": [
        "## Quadratic Fit Search"
      ],
      "metadata": {
        "id": "Ib9DMrAmb8nj"
      }
    },
    {
      "cell_type": "code",
      "source": [
        "function quadratic_fit_search(f, a, b, c, n)\n",
        "    ya, yb, yc = f(a), f(b), f(c)\n",
        "    for i in 1:n-3\n",
        "        x = 0.5*(ya*(b^2-c^2)+yb*(c^2-a^2)+yc*(a^2-b^2)) /(ya*(b-c) +yb*(c-a) +yc*(a-b))\n",
        "        yx = f(x)\n",
        "        if x > b\n",
        "            if yx > yb\n",
        "                c, yc = x, yx\n",
        "            else\n",
        "                a, ya, b, yb = b, yb, x, yx\n",
        "            end\n",
        "        elseif x < b\n",
        "            if yx > yb\n",
        "                a, ya = x, yx\n",
        "            else\n",
        "                c, yc, b, yb = b, yb, x, yx\n",
        "            end\n",
        "        end\n",
        "    end\n",
        "    return (a, b, c)\n",
        "end"
      ],
      "metadata": {
        "id": "v17bpyR5a8hS",
        "outputId": "412ae453-1799-4658-a1e2-893e0c7a5784",
        "colab": {
          "base_uri": "https://localhost:8080/"
        }
      },
      "execution_count": 25,
      "outputs": [
        {
          "output_type": "execute_result",
          "data": {
            "text/plain": [
              "quadratic_fit_search (generic function with 1 method)"
            ]
          },
          "metadata": {},
          "execution_count": 25
        }
      ]
    },
    {
      "cell_type": "code",
      "source": [
        "quadratic_fit_search(h,-3,-2,2,30)"
      ],
      "metadata": {
        "id": "Ul4TxJ-GbA5x",
        "outputId": "43f50323-d30c-40f3-f492-03539f9e1523",
        "colab": {
          "base_uri": "https://localhost:8080/"
        }
      },
      "execution_count": 26,
      "outputs": [
        {
          "output_type": "execute_result",
          "data": {
            "text/plain": [
              "(-2, -1.0, 2)"
            ]
          },
          "metadata": {},
          "execution_count": 26
        }
      ]
    },
    {
      "cell_type": "code",
      "source": [
        "quadratic_fit_search(g,-3,-2,1,30)"
      ],
      "metadata": {
        "id": "s0mThIWCbBI4",
        "outputId": "c0850f54-a453-4d4c-f921-0808ad97179a",
        "colab": {
          "base_uri": "https://localhost:8080/"
        }
      },
      "execution_count": 27,
      "outputs": [
        {
          "output_type": "execute_result",
          "data": {
            "text/plain": [
              "(-2, -0.0, 1)"
            ]
          },
          "metadata": {},
          "execution_count": 27
        }
      ]
    },
    {
      "cell_type": "code",
      "source": [
        "quadratic_fit_search(d,-2.5,-2,-1,30)"
      ],
      "metadata": {
        "id": "hRIoM6UGbGGx",
        "outputId": "70536d1c-42ce-4ea3-9084-b3b74f0ac5d6",
        "colab": {
          "base_uri": "https://localhost:8080/"
        }
      },
      "execution_count": 28,
      "outputs": [
        {
          "output_type": "execute_result",
          "data": {
            "text/plain": [
              "(-2, -1.25, -1)"
            ]
          },
          "metadata": {},
          "execution_count": 28
        }
      ]
    }
  ]
}