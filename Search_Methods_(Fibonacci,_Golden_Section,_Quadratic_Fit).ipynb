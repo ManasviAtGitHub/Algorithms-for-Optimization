{
  "nbformat": 4,
  "nbformat_minor": 0,
  "metadata": {
    "colab": {
      "name": "Search Methods (Fibonacci, Golden Section, Quadratic Fit).ipynb",
      "provenance": [],
      "collapsed_sections": [],
      "include_colab_link": true
    },
    "kernelspec": {
      "display_name": "Julia",
      "language": "julia",
      "name": "julia"
    },
    "language_info": {
      "file_extension": ".jl",
      "mimetype": "application/julia",
      "name": "julia"
    }
  },
  "cells": [
    {
      "cell_type": "markdown",
      "metadata": {
        "id": "view-in-github",
        "colab_type": "text"
      },
      "source": [
        "<a href=\"https://colab.research.google.com/github/ManasviAtGitHub/Algorithms-for-Optimization/blob/main/Search_Methods_(Fibonacci%2C_Golden_Section%2C_Quadratic_Fit).ipynb\" target=\"_parent\"><img src=\"https://colab.research.google.com/assets/colab-badge.svg\" alt=\"Open In Colab\"/></a>"
      ]
    },
    {
      "cell_type": "markdown",
      "metadata": {
        "id": "tQ1r1bbb0yBv"
      },
      "source": [
        "# <img src=\"https://github.com/JuliaLang/julia-logo-graphics/raw/master/images/julia-logo-color.png\" height=\"100\" /> _Colab Notebook Template_\n",
        "\n",
        "## Instructions\n",
        "1. Work on a copy of this notebook: _File_ > _Save a copy in Drive_ (you will need a Google account). Alternatively, you can download the notebook using _File_ > _Download .ipynb_, then upload it to [Colab](https://colab.research.google.com/).\n",
        "2. If you need a GPU: _Runtime_ > _Change runtime type_ > _Harware accelerator_ = _GPU_.\n",
        "3. Execute the following cell (click on it and press Ctrl+Enter) to install Julia, IJulia and other packages (if needed, update `JULIA_VERSION` and the other parameters). This takes a couple of minutes.\n",
        "4. Reload this page (press Ctrl+R, or ⌘+R, or the F5 key) and continue to the next section.\n",
        "\n",
        "_Notes_:\n",
        "* If your Colab Runtime gets reset (e.g., due to inactivity), repeat steps 2, 3 and 4.\n",
        "* After installation, if you want to change the Julia version or activate/deactivate the GPU, you will need to reset the Runtime: _Runtime_ > _Factory reset runtime_ and repeat steps 3 and 4."
      ]
    },
    {
      "cell_type": "code",
      "metadata": {
        "id": "GIeFXS0F0zww",
        "colab": {
          "base_uri": "https://localhost:8080/"
        },
        "outputId": "d0ac1480-d97d-4216-f978-6f55829af2eb"
      },
      "source": [
        "%%shell\n",
        "set -e\n",
        "\n",
        "#---------------------------------------------------#\n",
        "JULIA_VERSION=\"1.6.0\" # any version ≥ 0.7.0\n",
        "JULIA_PACKAGES=\"IJulia BenchmarkTools Plots\"\n",
        "JULIA_PACKAGES_IF_GPU=\"CUDA\" # or CuArrays for older Julia versions\n",
        "JULIA_NUM_THREADS=2\n",
        "#---------------------------------------------------#\n",
        "\n",
        "if [ -n \"$COLAB_GPU\" ] && [ -z `which julia` ]; then\n",
        "  # Install Julia\n",
        "  JULIA_VER=`cut -d '.' -f -2 <<< \"$JULIA_VERSION\"`\n",
        "  echo \"Installing Julia $JULIA_VERSION on the current Colab Runtime...\"\n",
        "  BASE_URL=\"https://julialang-s3.julialang.org/bin/linux/x64\"\n",
        "  URL=\"$BASE_URL/$JULIA_VER/julia-$JULIA_VERSION-linux-x86_64.tar.gz\"\n",
        "  wget -nv $URL -O /tmp/julia.tar.gz # -nv means \"not verbose\"\n",
        "  tar -x -f /tmp/julia.tar.gz -C /usr/local --strip-components 1\n",
        "  rm /tmp/julia.tar.gz\n",
        "\n",
        "  # Install Packages\n",
        "  if [ \"$COLAB_GPU\" = \"1\" ]; then\n",
        "      JULIA_PACKAGES=\"$JULIA_PACKAGES $JULIA_PACKAGES_IF_GPU\"\n",
        "  fi\n",
        "  for PKG in `echo $JULIA_PACKAGES`; do\n",
        "    echo \"Installing Julia package $PKG...\"\n",
        "    julia -e 'using Pkg; pkg\"add '$PKG'; precompile;\"' &> /dev/null\n",
        "  done\n",
        "\n",
        "  # Install kernel and rename it to \"julia\"\n",
        "  echo \"Installing IJulia kernel...\"\n",
        "  julia -e 'using IJulia; IJulia.installkernel(\"julia\", env=Dict(\n",
        "      \"JULIA_NUM_THREADS\"=>\"'\"$JULIA_NUM_THREADS\"'\"))'\n",
        "  KERNEL_DIR=`julia -e \"using IJulia; print(IJulia.kerneldir())\"`\n",
        "  KERNEL_NAME=`ls -d \"$KERNEL_DIR\"/julia*`\n",
        "  mv -f $KERNEL_NAME \"$KERNEL_DIR\"/julia  \n",
        "\n",
        "  echo ''\n",
        "  echo \"Success! Please reload this page and jump to the next section.\"\n",
        "fi"
      ],
      "execution_count": null,
      "outputs": [
        {
          "output_type": "stream",
          "name": "stdout",
          "text": [
            "Installing Julia 1.6.0 on the current Colab Runtime...\n",
            "2021-10-30 05:01:50 URL:https://storage.googleapis.com/julialang2/bin/linux/x64/1.6/julia-1.6.0-linux-x86_64.tar.gz [112838927/112838927] -> \"/tmp/julia.tar.gz\" [1]\n",
            "Installing Julia package IJulia...\n",
            "Installing Julia package BenchmarkTools...\n",
            "Installing Julia package Plots...\n",
            "Installing IJulia kernel...\n",
            "\u001b[36m\u001b[1m[ \u001b[22m\u001b[39m\u001b[36m\u001b[1mInfo: \u001b[22m\u001b[39mInstalling julia kernelspec in /root/.local/share/jupyter/kernels/julia-1.6\n",
            "\n",
            "Success! Please reload this page and jump to the next section.\n"
          ]
        },
        {
          "output_type": "execute_result",
          "data": {
            "text/plain": [
              ""
            ]
          },
          "metadata": {},
          "execution_count": 1
        }
      ]
    },
    {
      "cell_type": "markdown",
      "metadata": {
        "id": "8RC1QNNqk6h1"
      },
      "source": [
        "# Need Help?\n",
        "\n",
        "* Learning: https://julialang.org/learning/\n",
        "* Documentation: https://docs.julialang.org/\n",
        "* Questions & Discussions:\n",
        "  * https://discourse.julialang.org/\n",
        "  * http://julialang.slack.com/\n",
        "  * https://stackoverflow.com/questions/tagged/julia\n",
        "\n",
        "If you ever ask for help or file an issue about Julia, you should generally provide the output of `versioninfo()`."
      ]
    },
    {
      "cell_type": "markdown",
      "metadata": {
        "id": "2UMidUQB03vJ"
      },
      "source": [
        "Add new code cells by clicking the `+ Code` button (or _Insert_ > _Code cell_).\n",
        "\n",
        "Have fun!\n",
        "\n",
        "<img src=\"https://raw.githubusercontent.com/JuliaLang/julia-logo-graphics/master/images/julia-logo-mask.png\" height=\"100\" />"
      ]
    },
    {
      "cell_type": "markdown",
      "metadata": {
        "id": "4x2gDaxNj1PL"
      },
      "source": [
        ""
      ]
    },
    {
      "cell_type": "code",
      "metadata": {
        "id": "bDmbVZOPmDOh"
      },
      "source": [
        ""
      ],
      "execution_count": null,
      "outputs": []
    },
    {
      "cell_type": "code",
      "metadata": {
        "colab": {
          "base_uri": "https://localhost:8080/"
        },
        "id": "8hIlLvTUmDLK",
        "outputId": "22600eba-a31d-4210-9a46-ebf9d8a7864f"
      },
      "source": [
        "g=x->x^2"
      ],
      "execution_count": null,
      "outputs": [
        {
          "output_type": "execute_result",
          "data": {
            "text/plain": [
              "#1 (generic function with 1 method)"
            ]
          },
          "metadata": {},
          "execution_count": 1
        }
      ]
    },
    {
      "cell_type": "code",
      "metadata": {
        "colab": {
          "base_uri": "https://localhost:8080/"
        },
        "id": "QzydD8IDmDHZ",
        "outputId": "5ce12afe-6ed1-41a5-d9fd-a0a8d89e736b"
      },
      "source": [
        "g(5)"
      ],
      "execution_count": null,
      "outputs": [
        {
          "output_type": "execute_result",
          "data": {
            "text/plain": [
              "25"
            ]
          },
          "metadata": {},
          "execution_count": 2
        }
      ]
    },
    {
      "cell_type": "code",
      "metadata": {
        "id": "cEhBZD8tlIek",
        "colab": {
          "base_uri": "https://localhost:8080/"
        },
        "outputId": "9c5cb8e8-9a41-4f7a-eb5d-97ec517c261e"
      },
      "source": [
        "h=x->((x^2)+(2*x)+5)"
      ],
      "execution_count": null,
      "outputs": [
        {
          "output_type": "execute_result",
          "data": {
            "text/plain": [
              "#3 (generic function with 1 method)"
            ]
          },
          "metadata": {},
          "execution_count": 4
        }
      ]
    },
    {
      "cell_type": "code",
      "metadata": {
        "id": "sn-vkLB0lIZ0",
        "colab": {
          "base_uri": "https://localhost:8080/"
        },
        "outputId": "3f193482-567b-462d-d93b-c5a00b18ae9b"
      },
      "source": [
        "h(-1)"
      ],
      "execution_count": null,
      "outputs": [
        {
          "output_type": "execute_result",
          "data": {
            "text/plain": [
              "4"
            ]
          },
          "metadata": {},
          "execution_count": 5
        }
      ]
    },
    {
      "cell_type": "code",
      "metadata": {
        "id": "zPmABLv0pB2a"
      },
      "source": [
        ""
      ],
      "execution_count": null,
      "outputs": []
    },
    {
      "cell_type": "markdown",
      "metadata": {
        "id": "xtKIajBYpCJQ"
      },
      "source": [
        "Funtion to find intervals"
      ]
    },
    {
      "cell_type": "code",
      "metadata": {
        "id": "o10Zi7l7lIWc",
        "colab": {
          "base_uri": "https://localhost:8080/"
        },
        "outputId": "c48ca905-6a8d-437a-ab9e-84bd4aeef733"
      },
      "source": [
        "function bracket_minimum(fun1,x=0, s=1e-2, k=2.0)\n",
        "    a, ya = x, fun1(x)\n",
        "    b, yb = a + s, fun1(a + s)\n",
        "    if yb > ya\n",
        "        a, b = b, a\n",
        "        ya, yb = yb, ya\n",
        "        s = -s\n",
        "    end\n",
        "    while true\n",
        "        c, yc = b + s, fun1(b + s)\n",
        "        if yc > yb\n",
        "            return a < c ? (a, c) : (c, a)\n",
        "        end\n",
        "        a, ya, b, yb = b, yb, c, yc\n",
        "        s *= k\n",
        "    end\n",
        "end"
      ],
      "execution_count": null,
      "outputs": [
        {
          "output_type": "execute_result",
          "data": {
            "text/plain": [
              "bracket_minimum (generic function with 4 methods)"
            ]
          },
          "metadata": {},
          "execution_count": 7
        }
      ]
    },
    {
      "cell_type": "code",
      "metadata": {
        "id": "lv__wgZolIFM",
        "colab": {
          "base_uri": "https://localhost:8080/"
        },
        "outputId": "c97345cc-8c9c-4036-f77d-1b0eba53cef6"
      },
      "source": [
        "bracket_minimum(g)"
      ],
      "execution_count": null,
      "outputs": [
        {
          "output_type": "execute_result",
          "data": {
            "text/plain": [
              "(-0.01, 0.01)"
            ]
          },
          "metadata": {},
          "execution_count": 8
        }
      ]
    },
    {
      "cell_type": "code",
      "metadata": {
        "colab": {
          "base_uri": "https://localhost:8080/"
        },
        "id": "EGhBbMhppOs5",
        "outputId": "95255271-481a-4285-e057-ca599cae296e"
      },
      "source": [
        "bracket_minimum(h)"
      ],
      "execution_count": null,
      "outputs": [
        {
          "output_type": "execute_result",
          "data": {
            "text/plain": [
              "(-2.55, -0.6300000000000001)"
            ]
          },
          "metadata": {},
          "execution_count": 9
        }
      ]
    },
    {
      "cell_type": "code",
      "metadata": {
        "id": "9poLA4ROrEdk"
      },
      "source": [
        ""
      ],
      "execution_count": null,
      "outputs": []
    },
    {
      "cell_type": "markdown",
      "metadata": {
        "id": "P40iMkCKrF0Z"
      },
      "source": [
        "Fibonacci Search Method"
      ]
    },
    {
      "cell_type": "code",
      "metadata": {
        "colab": {
          "base_uri": "https://localhost:8080/"
        },
        "id": "hMrgL-41rEgi",
        "outputId": "6c0ce1f8-2416-43cb-d049-a6c3ded39e01"
      },
      "source": [
        "s=(1-√5)/(1+√5)"
      ],
      "execution_count": null,
      "outputs": [
        {
          "output_type": "execute_result",
          "data": {
            "text/plain": [
              "-0.38196601125010515"
            ]
          },
          "metadata": {},
          "execution_count": 10
        }
      ]
    },
    {
      "cell_type": "code",
      "metadata": {
        "colab": {
          "base_uri": "https://localhost:8080/"
        },
        "id": "xYq6gaRErEnL",
        "outputId": "72f0db6d-d888-4178-b7a9-165cba87fabc"
      },
      "source": [
        "φ = MathConstants.φ"
      ],
      "execution_count": null,
      "outputs": [
        {
          "output_type": "execute_result",
          "data": {
            "text/plain": [
              "φ = 1.6180339887498..."
            ]
          },
          "metadata": {},
          "execution_count": 11
        }
      ]
    },
    {
      "cell_type": "code",
      "metadata": {
        "colab": {
          "base_uri": "https://localhost:8080/"
        },
        "id": "leynikYjrbP5",
        "outputId": "2c1707e8-203c-4d1b-ddc2-dbd16465a1e3"
      },
      "source": [
        "phi = 1.618"
      ],
      "execution_count": null,
      "outputs": [
        {
          "output_type": "execute_result",
          "data": {
            "text/plain": [
              "1.618"
            ]
          },
          "metadata": {},
          "execution_count": 12
        }
      ]
    },
    {
      "cell_type": "markdown",
      "metadata": {
        "id": "i2_786TcsMkY"
      },
      "source": [
        "Fn-1/Fn"
      ]
    },
    {
      "cell_type": "code",
      "metadata": {
        "colab": {
          "base_uri": "https://localhost:8080/"
        },
        "id": "b74RcF2BrmA6",
        "outputId": "bc2a9b16-11fc-4ead-b53a-b5d1dae94097"
      },
      "source": [
        "smallerToLargerRatio=n-> 1 / (φ*(1-s^(n+1))/(1-s^n))"
      ],
      "execution_count": null,
      "outputs": [
        {
          "output_type": "execute_result",
          "data": {
            "text/plain": [
              "#5 (generic function with 1 method)"
            ]
          },
          "metadata": {},
          "execution_count": 13
        }
      ]
    },
    {
      "cell_type": "markdown",
      "metadata": {
        "id": "uBIdypeTsemW"
      },
      "source": [
        "Fn/Fn-1"
      ]
    },
    {
      "cell_type": "code",
      "metadata": {
        "colab": {
          "base_uri": "https://localhost:8080/"
        },
        "id": "UzeMtFlvsFuf",
        "outputId": "afc6be71-a6e2-4995-defe-df53a10d1ea7"
      },
      "source": [
        "largerToSmallerRatio=n-> φ*(1-s^(n+1))/(1-s^n)"
      ],
      "execution_count": null,
      "outputs": [
        {
          "output_type": "execute_result",
          "data": {
            "text/plain": [
              "#7 (generic function with 1 method)"
            ]
          },
          "metadata": {},
          "execution_count": 14
        }
      ]
    },
    {
      "cell_type": "code",
      "metadata": {
        "colab": {
          "base_uri": "https://localhost:8080/"
        },
        "id": "oiAiESzisnCN",
        "outputId": "1f89531e-7df0-417d-adf5-eacec5caae9a"
      },
      "source": [
        "smallerToLargerRatio(100)"
      ],
      "execution_count": null,
      "outputs": [
        {
          "output_type": "execute_result",
          "data": {
            "text/plain": [
              "0.6180339887498948"
            ]
          },
          "metadata": {},
          "execution_count": 20
        }
      ]
    },
    {
      "cell_type": "code",
      "metadata": {
        "colab": {
          "base_uri": "https://localhost:8080/"
        },
        "id": "tqmeFKLcsta2",
        "outputId": "5862fb96-9865-4020-dcfb-9f1a954ec818"
      },
      "source": [
        "largerToSmallerRatio(100)"
      ],
      "execution_count": null,
      "outputs": [
        {
          "output_type": "execute_result",
          "data": {
            "text/plain": [
              "1.618033988749895"
            ]
          },
          "metadata": {},
          "execution_count": 21
        }
      ]
    },
    {
      "cell_type": "code",
      "metadata": {
        "id": "aQjAg1fMtae8"
      },
      "source": [
        ""
      ],
      "execution_count": null,
      "outputs": []
    },
    {
      "cell_type": "code",
      "metadata": {
        "id": "32BPb-7otsmK"
      },
      "source": [
        ""
      ],
      "execution_count": null,
      "outputs": []
    },
    {
      "cell_type": "markdown",
      "metadata": {
        "id": "sAQQvuastwDy"
      },
      "source": [
        "[a,b]\n",
        "\n",
        "a<b<c\n",
        "\n",
        "f(a)>f(b)<f(c) "
      ]
    },
    {
      "cell_type": "code",
      "metadata": {
        "colab": {
          "base_uri": "https://localhost:8080/"
        },
        "id": "gtt5cauitalr",
        "outputId": "d4b74b89-48a6-43af-8b39-7a4163cbb4ba"
      },
      "source": [
        "function fibonacci_search(g, a, b, n, ϵ=0.01)\n",
        "    s = (1-√5)/(1+√5)\n",
        "    ρ = 1 / (φ*(1-s^(n+1))/(1-s^n))\n",
        "    d = ρ*b + (1-ρ)*a\n",
        "    yd = g(d)\n",
        "    for i in 1 : n-1\n",
        "        if i == n-1\n",
        "            c = ϵ*a + (1-ϵ)*d\n",
        "        else\n",
        "            c = ρ*a + (1-ρ)*b\n",
        "        end\n",
        "        yc = g(c)\n",
        "        if yc < yd\n",
        "            b, d, yd = d, c, yc\n",
        "        else\n",
        "            a, b = b, c\n",
        "        end\n",
        "        ρ = 1 / (φ*(1-s^(n-i+1))/(1-s^(n-i)))\n",
        "    end\n",
        "    return a < b ? (a, b) : (b, a)\n",
        "end"
      ],
      "execution_count": null,
      "outputs": [
        {
          "output_type": "execute_result",
          "data": {
            "text/plain": [
              "fibonacci_search (generic function with 2 methods)"
            ]
          },
          "metadata": {},
          "execution_count": 22
        }
      ]
    },
    {
      "cell_type": "code",
      "metadata": {
        "colab": {
          "base_uri": "https://localhost:8080/"
        },
        "id": "oNS5anM9zj04",
        "outputId": "0dbcd859-ba3e-43b2-aa08-677c2f27beb5"
      },
      "source": [
        "fibonacci_search(g,-1,1,10)"
      ],
      "execution_count": null,
      "outputs": [
        {
          "output_type": "execute_result",
          "data": {
            "text/plain": [
              "(-0.011235955056179792, 0.011235955056179796)"
            ]
          },
          "metadata": {},
          "execution_count": 27
        }
      ]
    },
    {
      "cell_type": "code",
      "metadata": {
        "colab": {
          "base_uri": "https://localhost:8080/"
        },
        "id": "Q_kEAgi754AC",
        "outputId": "ef2f693d-1970-43e8-c2ab-a1ca238e7ac2"
      },
      "source": [
        "fibonacci_search(h,-1.5,0.5,25)"
      ],
      "execution_count": null,
      "outputs": [
        {
          "output_type": "execute_result",
          "data": {
            "text/plain": [
              "(-1.0000041188536406, -0.999987643439078)"
            ]
          },
          "metadata": {},
          "execution_count": 36
        }
      ]
    },
    {
      "cell_type": "code",
      "metadata": {
        "colab": {
          "base_uri": "https://localhost:8080/"
        },
        "id": "YcRqsxCY0sUl",
        "outputId": "e8d2f04a-0cff-46d8-bc84-add72902aca3"
      },
      "source": [
        "function fibonacci_search_rough(g, a, b, n, ϵ=0.01)\n",
        "    s = (1-√5)/(1+√5)\n",
        "    ρ = 1 / (φ*(1-s^(n+1))/(1-s^n))\n",
        "    d = ρ*b + (1-ρ)*a\n",
        "    println(\"d $d\")\n",
        "    yd = g(d)\n",
        "    println(\"yd $yd\")\n",
        "    for i in 1 : n-1\n",
        "        if i == n-1\n",
        "            c = ϵ*a + (1-ϵ)*d\n",
        "            println(\"eps_c $c\")\n",
        "        else\n",
        "            c = ρ*a + (1-ρ)*b\n",
        "            println(\"c $c\")\n",
        "        end\n",
        "        yc = g(c)\n",
        "\n",
        "        println(\"yc $yc\")\n",
        "        if yc < yd\n",
        "            b, d, yd = d, c, yc\n",
        "        else\n",
        "            a, b = b, c\n",
        "        end\n",
        "        \n",
        "        ρ = 1 / (φ*(1-s^(n-i+1))/(1-s^(n-i)))\n",
        "    end\n",
        "    return a < b ? (a, b) : (b, a)\n",
        "end"
      ],
      "execution_count": null,
      "outputs": [
        {
          "output_type": "execute_result",
          "data": {
            "text/plain": [
              "fibonacci_search_rough (generic function with 2 methods)"
            ]
          },
          "metadata": {},
          "execution_count": 30
        }
      ]
    },
    {
      "cell_type": "code",
      "metadata": {
        "id": "o06A9nNT1S3a"
      },
      "source": [
        ""
      ],
      "execution_count": null,
      "outputs": []
    },
    {
      "cell_type": "code",
      "metadata": {
        "colab": {
          "base_uri": "https://localhost:8080/"
        },
        "id": "vJ-peglX1S9S",
        "outputId": "62e68097-8c32-45f2-887b-fa6303f37130"
      },
      "source": [
        "fibonacci_search_rough(g,-1,1,5)"
      ],
      "execution_count": null,
      "outputs": [
        {
          "output_type": "stream",
          "name": "stdout",
          "text": [
            "d 0.24999999999999978\n",
            "yd 0.06249999999999989\n",
            "c -0.24999999999999978\n",
            "yc 0.06249999999999989\n",
            "c 0.5000000000000002\n",
            "yc 0.2500000000000002\n",
            "c 2.498001805406602e-16\n",
            "yc 6.240013019814644e-32\n",
            "eps_c -0.0024999999999997507\n",
            "yc 6.2499999999987535e-6\n"
          ]
        },
        {
          "output_type": "execute_result",
          "data": {
            "text/plain": [
              "(-0.0024999999999997507, 0.24999999999999978)"
            ]
          },
          "metadata": {},
          "execution_count": 39
        }
      ]
    },
    {
      "cell_type": "code",
      "metadata": {
        "id": "q9u6QIE352Dk"
      },
      "source": [
        ""
      ],
      "execution_count": null,
      "outputs": []
    },
    {
      "cell_type": "markdown",
      "metadata": {
        "id": "1-7k5Lmg6cK4"
      },
      "source": [
        "Golden Section Search"
      ]
    },
    {
      "cell_type": "code",
      "metadata": {
        "colab": {
          "base_uri": "https://localhost:8080/"
        },
        "id": "CPeweb8C6f0v",
        "outputId": "6be798d1-fb9b-4c93-b524-84bf7159bec6"
      },
      "source": [
        "function golden_section_search(f, a, b, n)\n",
        "    ρ = φ-1\n",
        "    d = ρ * b + (1 - ρ)*a\n",
        "    fd = f(d)\n",
        "    for i = 1 : n-1\n",
        "        c = ρ*a + (1 - ρ)*b\n",
        "        fc = f(c)\n",
        "        if fc < fd\n",
        "            b, d, fd = d, c, fc\n",
        "        else\n",
        "            a, b, fb = b, c, fc\n",
        "        end\n",
        "    end\n",
        "    return a < b ? (a, b) : (b, a)\n",
        "end"
      ],
      "execution_count": null,
      "outputs": [
        {
          "output_type": "execute_result",
          "data": {
            "text/plain": [
              "golden_section_search (generic function with 1 method)"
            ]
          },
          "metadata": {},
          "execution_count": 37
        }
      ]
    },
    {
      "cell_type": "code",
      "metadata": {
        "colab": {
          "base_uri": "https://localhost:8080/"
        },
        "id": "MQrIjtQb6ma3",
        "outputId": "a1187826-ef4f-4058-a2a6-9ce211fda1bd"
      },
      "source": [
        "golden_section_search(g,-1,1,10)"
      ],
      "execution_count": null,
      "outputs": [
        {
          "output_type": "execute_result",
          "data": {
            "text/plain": [
              "(-0.01315561749642492, 0.013155617496424812)"
            ]
          },
          "metadata": {},
          "execution_count": 40
        }
      ]
    },
    {
      "cell_type": "code",
      "metadata": {
        "colab": {
          "base_uri": "https://localhost:8080/"
        },
        "id": "YGKxdvOE7wMd",
        "outputId": "1bb649a8-de59-4635-ede9-4ebaba75fa94"
      },
      "source": [
        "golden_section_search(h,-1.5,0.5,10)"
      ],
      "execution_count": null,
      "outputs": [
        {
          "output_type": "execute_result",
          "data": {
            "text/plain": [
              "(-1.011602807488854, -0.9852915724960042)"
            ]
          },
          "metadata": {},
          "execution_count": 42
        }
      ]
    },
    {
      "cell_type": "code",
      "metadata": {
        "id": "KECjqcAe7wQD"
      },
      "source": [
        ""
      ],
      "execution_count": null,
      "outputs": []
    }
  ]
}