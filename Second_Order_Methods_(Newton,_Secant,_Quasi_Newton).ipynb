{
  "nbformat": 4,
  "nbformat_minor": 0,
  "metadata": {
    "colab": {
      "name": "Second Order Methods (Newton, Secant, Quasi Newton).ipynb",
      "provenance": [],
      "collapsed_sections": [],
      "include_colab_link": true
    },
    "kernelspec": {
      "display_name": "Julia",
      "language": "julia",
      "name": "julia"
    },
    "language_info": {
      "file_extension": ".jl",
      "mimetype": "application/julia",
      "name": "julia"
    }
  },
  "cells": [
    {
      "cell_type": "markdown",
      "metadata": {
        "id": "view-in-github",
        "colab_type": "text"
      },
      "source": [
        "<a href=\"https://colab.research.google.com/github/ManasviAtGitHub/Algorithms-for-Optimization/blob/main/Second_Order_Methods_(Newton%2C_Secant%2C_Quasi_Newton).ipynb\" target=\"_parent\"><img src=\"https://colab.research.google.com/assets/colab-badge.svg\" alt=\"Open In Colab\"/></a>"
      ]
    },
    {
      "cell_type": "markdown",
      "metadata": {
        "id": "tQ1r1bbb0yBv"
      },
      "source": [
        "# <img src=\"https://github.com/JuliaLang/julia-logo-graphics/raw/master/images/julia-logo-color.png\" height=\"100\" /> _Colab Notebook Template_\n",
        "\n",
        "## Instructions\n",
        "1. Work on a copy of this notebook: _File_ > _Save a copy in Drive_ (you will need a Google account). Alternatively, you can download the notebook using _File_ > _Download .ipynb_, then upload it to [Colab](https://colab.research.google.com/).\n",
        "2. If you need a GPU: _Runtime_ > _Change runtime type_ > _Harware accelerator_ = _GPU_.\n",
        "3. Execute the following cell (click on it and press Ctrl+Enter) to install Julia, IJulia and other packages (if needed, update `JULIA_VERSION` and the other parameters). This takes a couple of minutes.\n",
        "4. Reload this page (press Ctrl+R, or ⌘+R, or the F5 key) and continue to the next section.\n",
        "\n",
        "_Notes_:\n",
        "* If your Colab Runtime gets reset (e.g., due to inactivity), repeat steps 2, 3 and 4.\n",
        "* After installation, if you want to change the Julia version or activate/deactivate the GPU, you will need to reset the Runtime: _Runtime_ > _Factory reset runtime_ and repeat steps 3 and 4."
      ]
    },
    {
      "cell_type": "code",
      "metadata": {
        "id": "GIeFXS0F0zww",
        "colab": {
          "base_uri": "https://localhost:8080/"
        },
        "outputId": "fbee4090-83a2-49e9-bd89-052e641338b7"
      },
      "source": [
        "%%shell\n",
        "set -e\n",
        "\n",
        "#---------------------------------------------------#\n",
        "JULIA_VERSION=\"1.6.0\" # any version ≥ 0.7.0\n",
        "JULIA_PACKAGES=\"IJulia BenchmarkTools Plots\"\n",
        "JULIA_PACKAGES_IF_GPU=\"CUDA\" # or CuArrays for older Julia versions\n",
        "JULIA_NUM_THREADS=2\n",
        "#---------------------------------------------------#\n",
        "\n",
        "if [ -n \"$COLAB_GPU\" ] && [ -z `which julia` ]; then\n",
        "  # Install Julia\n",
        "  JULIA_VER=`cut -d '.' -f -2 <<< \"$JULIA_VERSION\"`\n",
        "  echo \"Installing Julia $JULIA_VERSION on the current Colab Runtime...\"\n",
        "  BASE_URL=\"https://julialang-s3.julialang.org/bin/linux/x64\"\n",
        "  URL=\"$BASE_URL/$JULIA_VER/julia-$JULIA_VERSION-linux-x86_64.tar.gz\"\n",
        "  wget -nv $URL -O /tmp/julia.tar.gz # -nv means \"not verbose\"\n",
        "  tar -x -f /tmp/julia.tar.gz -C /usr/local --strip-components 1\n",
        "  rm /tmp/julia.tar.gz\n",
        "\n",
        "  # Install Packages\n",
        "  if [ \"$COLAB_GPU\" = \"1\" ]; then\n",
        "      JULIA_PACKAGES=\"$JULIA_PACKAGES $JULIA_PACKAGES_IF_GPU\"\n",
        "  fi\n",
        "  for PKG in `echo $JULIA_PACKAGES`; do\n",
        "    echo \"Installing Julia package $PKG...\"\n",
        "    julia -e 'using Pkg; pkg\"add '$PKG'; precompile;\"' &> /dev/null\n",
        "  done\n",
        "\n",
        "  # Install kernel and rename it to \"julia\"\n",
        "  echo \"Installing IJulia kernel...\"\n",
        "  julia -e 'using IJulia; IJulia.installkernel(\"julia\", env=Dict(\n",
        "      \"JULIA_NUM_THREADS\"=>\"'\"$JULIA_NUM_THREADS\"'\"))'\n",
        "  KERNEL_DIR=`julia -e \"using IJulia; print(IJulia.kerneldir())\"`\n",
        "  KERNEL_NAME=`ls -d \"$KERNEL_DIR\"/julia*`\n",
        "  mv -f $KERNEL_NAME \"$KERNEL_DIR\"/julia  \n",
        "\n",
        "  echo ''\n",
        "  echo \"Success! Please reload this page and jump to the next section.\"\n",
        "fi"
      ],
      "execution_count": null,
      "outputs": [
        {
          "output_type": "stream",
          "name": "stdout",
          "text": [
            "Installing Julia 1.6.0 on the current Colab Runtime...\n",
            "2021-12-29 12:40:56 URL:https://storage.googleapis.com/julialang2/bin/linux/x64/1.6/julia-1.6.0-linux-x86_64.tar.gz [112838927/112838927] -> \"/tmp/julia.tar.gz\" [1]\n",
            "Installing Julia package IJulia...\n",
            "Installing Julia package BenchmarkTools...\n",
            "Installing Julia package Plots...\n",
            "Installing IJulia kernel...\n",
            "\u001b[36m\u001b[1m[ \u001b[22m\u001b[39m\u001b[36m\u001b[1mInfo: \u001b[22m\u001b[39mInstalling julia kernelspec in /root/.local/share/jupyter/kernels/julia-1.6\n",
            "\n",
            "Success! Please reload this page and jump to the next section.\n"
          ]
        },
        {
          "output_type": "execute_result",
          "data": {
            "text/plain": [
              ""
            ]
          },
          "metadata": {},
          "execution_count": 1
        }
      ]
    },
    {
      "cell_type": "markdown",
      "metadata": {
        "id": "8RC1QNNqk6h1"
      },
      "source": [
        "# Need Help?\n",
        "\n",
        "* Learning: https://julialang.org/learning/\n",
        "* Documentation: https://docs.julialang.org/\n",
        "* Questions & Discussions:\n",
        "  * https://discourse.julialang.org/\n",
        "  * http://julialang.slack.com/\n",
        "  * https://stackoverflow.com/questions/tagged/julia\n",
        "\n",
        "If you ever ask for help or file an issue about Julia, you should generally provide the output of `versioninfo()`."
      ]
    },
    {
      "cell_type": "markdown",
      "metadata": {
        "id": "2UMidUQB03vJ"
      },
      "source": [
        "Add new code cells by clicking the `+ Code` button (or _Insert_ > _Code cell_).\n",
        "\n",
        "Have fun!\n",
        "\n",
        "<img src=\"https://raw.githubusercontent.com/JuliaLang/julia-logo-graphics/master/images/julia-logo-mask.png\" height=\"100\" />"
      ]
    },
    {
      "cell_type": "markdown",
      "metadata": {
        "id": "4x2gDaxNj1PL"
      },
      "source": [
        "## Newton's Method for univariate functions\n",
        "\n",
        "f(x) = x^2,\n",
        "f'(x) = 2x,\n",
        "f''(x) = 2"
      ]
    },
    {
      "cell_type": "code",
      "source": [
        "function newtonsMethodForUnivariate(x_guess,max_iter)\n",
        "    f_1 = 2*x_guess\n",
        "    f_2 = 2\n",
        "    converged = false\n",
        "    iter=0\n",
        "    while converged == false\n",
        "        x_optimum = x_guess - (f_1/f_2)\n",
        "        x_guess = x_optimum\n",
        "        \n",
        "        println(\"Iteration : $iter, Current Guess: $x_guess\")\n",
        "        \n",
        "        if x_guess - 1 < 0.01\n",
        "            converged = true\n",
        "        end    \n",
        "        if iter>max_iter\n",
        "            converged = true \n",
        "        end\n",
        "        iter = iter+1\n",
        "    end     \n",
        "end"
      ],
      "metadata": {
        "colab": {
          "base_uri": "https://localhost:8080/"
        },
        "id": "LQvYPANcPKJT",
        "outputId": "34725695-1f27-4f34-971a-ed2f32c1b3b5"
      },
      "execution_count": 1,
      "outputs": [
        {
          "output_type": "execute_result",
          "data": {
            "text/plain": [
              "newtonsMethodForUnivariate (generic function with 1 method)"
            ]
          },
          "metadata": {},
          "execution_count": 1
        }
      ]
    },
    {
      "cell_type": "code",
      "source": [
        "newtonsMethodForUnivariate(3,100)"
      ],
      "metadata": {
        "colab": {
          "base_uri": "https://localhost:8080/"
        },
        "id": "6HMMg4zZP4IK",
        "outputId": "39fd0a26-3cbb-4e72-e70b-d6d9ae41299c"
      },
      "execution_count": 2,
      "outputs": [
        {
          "output_type": "stream",
          "name": "stdout",
          "text": [
            "Iteration : 0, Current Guess: 0.0\n"
          ]
        }
      ]
    },
    {
      "cell_type": "code",
      "source": [
        "function newtonsMethodForUnivariate_2(x_guess,max_iter)\n",
        "    f_1 = 2*x_guess - 2\n",
        "    f_2 = 2\n",
        "    converged = false\n",
        "    iter=0\n",
        "    while converged == false\n",
        "        x_optimum = x_guess - (f_1/f_2)\n",
        "        x_guess = x_optimum\n",
        "        \n",
        "        println(\"Iteration : $iter, Current Guess: $x_guess\")\n",
        "        \n",
        "        if x_guess - 1 < 0.01\n",
        "            converged = true\n",
        "        end    \n",
        "        if iter>max_iter\n",
        "            converged = true \n",
        "        end\n",
        "        iter = iter+1\n",
        "    end     \n",
        "end"
      ],
      "metadata": {
        "colab": {
          "base_uri": "https://localhost:8080/"
        },
        "id": "YA1nb49dP4Mc",
        "outputId": "a941f19a-c19b-4ae6-ad60-bd442bb865db"
      },
      "execution_count": 3,
      "outputs": [
        {
          "output_type": "execute_result",
          "data": {
            "text/plain": [
              "newtonsMethodForUnivariate_2 (generic function with 1 method)"
            ]
          },
          "metadata": {},
          "execution_count": 3
        }
      ]
    },
    {
      "cell_type": "code",
      "source": [
        "newtonsMethodForUnivariate_2(10,100)"
      ],
      "metadata": {
        "colab": {
          "base_uri": "https://localhost:8080/"
        },
        "id": "UDYGnbBFP4gV",
        "outputId": "2fc5ffc1-8961-42aa-fd65-33f768d95a15"
      },
      "execution_count": 4,
      "outputs": [
        {
          "output_type": "stream",
          "name": "stdout",
          "text": [
            "Iteration : 0, Current Guess: 1.0\n"
          ]
        }
      ]
    },
    {
      "cell_type": "code",
      "source": [
        ""
      ],
      "metadata": {
        "id": "XA515BZBQClo"
      },
      "execution_count": null,
      "outputs": []
    },
    {
      "cell_type": "markdown",
      "source": [
        "## Newton's Method for Multivariate functions"
      ],
      "metadata": {
        "id": "WRQGCQZ7QJ5j"
      }
    },
    {
      "cell_type": "markdown",
      "source": [
        "### Gradient and Hessian Computation for the function\n",
        "f(x,y) = x^2 + y^2 - 2x - 2y + 6\n",
        "\n",
        "p_x = 2x - 2\n",
        "\n",
        "p_y = 2y - 2\n",
        "\n",
        "p_x_x = 2\n",
        "\n",
        "p_x_y = 0\n",
        "\n",
        "p_y_x = 0\n",
        "\n",
        "p_y_y = 2\n",
        "\n",
        "grad_f = [2x-2, 2y-2]\n",
        "\n",
        "hessian_f = [2 0; 0 2]"
      ],
      "metadata": {
        "id": "f8BUphPFQUb3"
      }
    },
    {
      "cell_type": "markdown",
      "source": [
        "### Some matrix algebra"
      ],
      "metadata": {
        "id": "CxPKA39JQjaF"
      }
    },
    {
      "cell_type": "code",
      "source": [
        "hess = [2 0; 0 2]"
      ],
      "metadata": {
        "colab": {
          "base_uri": "https://localhost:8080/"
        },
        "id": "pGilsjQ5QCpK",
        "outputId": "89e477a9-a0a5-4d51-ee1a-217298a8ecb2"
      },
      "execution_count": 5,
      "outputs": [
        {
          "output_type": "execute_result",
          "data": {
            "text/plain": [
              "2×2 Matrix{Int64}:\n",
              " 2  0\n",
              " 0  2"
            ]
          },
          "metadata": {},
          "execution_count": 5
        }
      ]
    },
    {
      "cell_type": "code",
      "source": [
        "h_inv= inv(hess)"
      ],
      "metadata": {
        "colab": {
          "base_uri": "https://localhost:8080/"
        },
        "id": "5BK1cJlCQCsl",
        "outputId": "7cad5f81-c90d-48d6-8124-4b4f1f82afc0"
      },
      "execution_count": 6,
      "outputs": [
        {
          "output_type": "execute_result",
          "data": {
            "text/plain": [
              "2×2 Matrix{Float64}:\n",
              " 0.5  0.0\n",
              " 0.0  0.5"
            ]
          },
          "metadata": {},
          "execution_count": 6
        }
      ]
    },
    {
      "cell_type": "code",
      "source": [
        "vec1 = [3,4]"
      ],
      "metadata": {
        "colab": {
          "base_uri": "https://localhost:8080/"
        },
        "id": "qeWw-R02QCwa",
        "outputId": "0435e4c2-5de2-422f-b5c0-1c97b2a30366"
      },
      "execution_count": 7,
      "outputs": [
        {
          "output_type": "execute_result",
          "data": {
            "text/plain": [
              "2-element Vector{Int64}:\n",
              " 3\n",
              " 4"
            ]
          },
          "metadata": {},
          "execution_count": 7
        }
      ]
    },
    {
      "cell_type": "code",
      "source": [
        "vec1'"
      ],
      "metadata": {
        "colab": {
          "base_uri": "https://localhost:8080/"
        },
        "id": "_Ksx9YkxSck9",
        "outputId": "ac1fcbec-c7ff-42e6-bd75-5d051ed575bc"
      },
      "execution_count": 8,
      "outputs": [
        {
          "output_type": "execute_result",
          "data": {
            "text/plain": [
              "1×2 adjoint(::Vector{Int64}) with eltype Int64:\n",
              " 3  4"
            ]
          },
          "metadata": {},
          "execution_count": 8
        }
      ]
    },
    {
      "cell_type": "code",
      "source": [
        "vec2=(h_inv * vec1)"
      ],
      "metadata": {
        "colab": {
          "base_uri": "https://localhost:8080/"
        },
        "id": "tiyYac84ScpC",
        "outputId": "75085711-a9e0-4350-fa8f-84fe55eafd36"
      },
      "execution_count": 9,
      "outputs": [
        {
          "output_type": "execute_result",
          "data": {
            "text/plain": [
              "2-element Vector{Float64}:\n",
              " 1.5\n",
              " 2.0"
            ]
          },
          "metadata": {},
          "execution_count": 9
        }
      ]
    },
    {
      "cell_type": "code",
      "source": [
        "vec3 = [1, 2]"
      ],
      "metadata": {
        "colab": {
          "base_uri": "https://localhost:8080/"
        },
        "id": "uyfm-bK-Scsg",
        "outputId": "72837999-77e1-4521-dd51-02208e66f489"
      },
      "execution_count": 10,
      "outputs": [
        {
          "output_type": "execute_result",
          "data": {
            "text/plain": [
              "2-element Vector{Int64}:\n",
              " 1\n",
              " 2"
            ]
          },
          "metadata": {},
          "execution_count": 10
        }
      ]
    },
    {
      "cell_type": "code",
      "source": [
        "vec4 = vec3 - vec2"
      ],
      "metadata": {
        "colab": {
          "base_uri": "https://localhost:8080/"
        },
        "id": "-fy2KF5yScwC",
        "outputId": "3b7646aa-472d-4d57-f83c-d87393010d4f"
      },
      "execution_count": 11,
      "outputs": [
        {
          "output_type": "execute_result",
          "data": {
            "text/plain": [
              "2-element Vector{Float64}:\n",
              " -0.5\n",
              "  0.0"
            ]
          },
          "metadata": {},
          "execution_count": 11
        }
      ]
    },
    {
      "cell_type": "code",
      "source": [
        "function newtonsMethodForMultivariate(x_guess,y_guess,max_iter)\n",
        "    p_x = 2*x_guess-2\n",
        "    p_y = 2*y_guess-2\n",
        "\n",
        "    # just for illustration purpose we write down the 2nd order derivatives\n",
        "    p_x_x = 2\n",
        "    p_x_y = 0\n",
        "    p_y_x = 0\n",
        "    p_y_y = 2\n",
        "    \n",
        "    gradient = [p_x, p_y]\n",
        "    hessian = [p_x_x p_x_y;\n",
        "                p_y_x p_y_y]\n",
        "    \n",
        "    \n",
        "    guess_vector = [x_guess, y_guess]\n",
        "    \n",
        "    \n",
        "    converged = false\n",
        "    iter=0\n",
        "\n",
        "    while converged ==false\n",
        "         \n",
        "        x_optimum = (guess_vector - (inv(hessian) * gradient))\n",
        "    \n",
        "        guess_vector = x_optimum\n",
        "        \n",
        "        \n",
        "        println(\"Iteration : $iter, Current Guess: $guess_vector\")\n",
        "       \n",
        "        if guess_vector[1] - 1 < 0.01 && guess_vector[2] - 1 < 0.01\n",
        "            converged = true\n",
        "        end             \n",
        "        if iter>max_iter\n",
        "            converged = true \n",
        "        end\n",
        "        iter = iter+1\n",
        "    end\n",
        "end"
      ],
      "metadata": {
        "colab": {
          "base_uri": "https://localhost:8080/"
        },
        "id": "1FsRuVBsSc0F",
        "outputId": "08a20557-36bd-4d49-e12b-a5f16e252fd0"
      },
      "execution_count": 12,
      "outputs": [
        {
          "output_type": "execute_result",
          "data": {
            "text/plain": [
              "newtonsMethodForMultivariate (generic function with 1 method)"
            ]
          },
          "metadata": {},
          "execution_count": 12
        }
      ]
    },
    {
      "cell_type": "code",
      "source": [
        "newtonsMethodForMultivariate(30,40,100)"
      ],
      "metadata": {
        "colab": {
          "base_uri": "https://localhost:8080/"
        },
        "id": "3pBG_buZSc3O",
        "outputId": "fc70a0b1-22f4-4186-814a-7d8e680d2e0c"
      },
      "execution_count": 13,
      "outputs": [
        {
          "output_type": "stream",
          "name": "stdout",
          "text": [
            "Iteration : 0, Current Guess: [1.0, 1.0]\n"
          ]
        }
      ]
    },
    {
      "cell_type": "markdown",
      "source": [
        "### Booth's Function\n",
        "\n",
        "f(x,y) = (x + 2y -7)^2 + (2x + y -5)^2\n",
        "\n",
        "p_x = 10x + 8y - 34\n",
        "\n",
        "p_y = 8x + 10y - 38\n",
        "\n",
        "p_x_x = 10\n",
        "\n",
        "p_x_y = 8\n",
        "\n",
        "p_y_x = 10\n",
        "\n",
        "p_y_y = 8"
      ],
      "metadata": {
        "id": "2rS5Jji-S2MR"
      }
    },
    {
      "cell_type": "code",
      "source": [
        "function newtonsMethodForMultivariate_2(x,y,max_iter)\n",
        "    p_x = ((10*x) + (8*y) - 34)\n",
        "    p_y = ((8*x) + (10*y) - 38)\n",
        "\n",
        "    # just for illustration purpose we write down the 2nd order derivatives\n",
        "    p_x_x = 10\n",
        "    p_x_y = 8\n",
        "    p_y_x = 8\n",
        "    p_y_y = 10\n",
        "    \n",
        "    gradient = [p_x, p_y]\n",
        "    hessian = [p_x_x p_x_y;\n",
        "                p_y_x p_y_y]\n",
        "    \n",
        "    \n",
        "    guess_vector = [x, y]\n",
        "    \n",
        "    \n",
        "    converged = false\n",
        "    iter=0\n",
        "    \n",
        "    while converged ==false\n",
        "        println(\"Current guess: $guess_vector, grad: $gradient, hess : $hessian\")\n",
        "        x_optimum = (guess_vector - (inv(hessian) * (gradient)))\n",
        "        \n",
        "        guess_vector = x_optimum\n",
        "        \n",
        "        \n",
        "        println(\"Iteration : $iter, Current Guess: $guess_vector\")\n",
        "        \n",
        "        #Recompute Gradients and Hessians\n",
        "        x = guess_vector[1]\n",
        "        y = guess_vector[2]\n",
        "        \n",
        "        p_x = ((10*x) + (8*y) - 34)\n",
        "        p_y = ((8*x) + (10*y) - 38)\n",
        "        \n",
        "        gradient = [p_x, p_y]\n",
        "        \n",
        "        if guess_vector[1] - 1 < 0.01 && guess_vector[2] - 3 < 0.01\n",
        "            converged = true\n",
        "        end                     \n",
        "        if iter>max_iter\n",
        "            converged = true \n",
        "        end\n",
        "        iter = iter+1\n",
        "    end\n",
        "end"
      ],
      "metadata": {
        "colab": {
          "base_uri": "https://localhost:8080/"
        },
        "id": "kQCeI06lSc6O",
        "outputId": "9f4b1af9-9930-4528-cc20-7ac268369871"
      },
      "execution_count": 14,
      "outputs": [
        {
          "output_type": "execute_result",
          "data": {
            "text/plain": [
              "newtonsMethodForMultivariate_2 (generic function with 1 method)"
            ]
          },
          "metadata": {},
          "execution_count": 14
        }
      ]
    },
    {
      "cell_type": "code",
      "source": [
        "newtonsMethodForMultivariate_2(90,80,100)"
      ],
      "metadata": {
        "colab": {
          "base_uri": "https://localhost:8080/"
        },
        "id": "1PLk-hSoS8pb",
        "outputId": "fc4bc6fe-8b52-4dbd-da3f-7a9b5645eb56"
      },
      "execution_count": 15,
      "outputs": [
        {
          "output_type": "stream",
          "name": "stdout",
          "text": [
            "Current guess: [90, 80], grad: [1506, 1482], hess : [10 8; 8 10]\n",
            "Iteration : 0, Current Guess: [1.0, 3.0]\n"
          ]
        }
      ]
    },
    {
      "cell_type": "markdown",
      "source": [
        "## Secant Method\n"
      ],
      "metadata": {
        "id": "BcRg606nTWYQ"
      }
    },
    {
      "cell_type": "code",
      "source": [
        "function secant_method(curr_x,max_iter)\n",
        "    \n",
        "    curr_fd = 2*curr_x\n",
        "    prev_x = 0\n",
        "    prev_fd = 0\n",
        "    \n",
        "    converged = false\n",
        "    iter=0\n",
        "    while converged == false\n",
        "        \n",
        "        \n",
        "        c_x = curr_x - prev_x\n",
        "        c_fd = curr_fd - prev_fd\n",
        "\n",
        "        prev_x = curr_x\n",
        "        prev_fd = curr_fd\n",
        "        \n",
        "        \n",
        "        curr_x = curr_x - (c_x/c_fd)*curr_fd\n",
        "        curr_fd = 2*curr_x\n",
        "        \n",
        "        \n",
        "        println(\"Iteration : $iter, Current Guess: $curr_x\")\n",
        "        \n",
        "        if curr_x - 1 < 0.01\n",
        "            converged = true\n",
        "        end\n",
        "        \n",
        "        if iter > max_iter\n",
        "            converged = true \n",
        "        end\n",
        "        iter = iter+1\n",
        "    end\n",
        "end\n"
      ],
      "metadata": {
        "colab": {
          "base_uri": "https://localhost:8080/"
        },
        "id": "C8HtSWWfSdQJ",
        "outputId": "3aa3d713-8454-4781-a4b6-479682e77e51"
      },
      "execution_count": 16,
      "outputs": [
        {
          "output_type": "execute_result",
          "data": {
            "text/plain": [
              "secant_method (generic function with 1 method)"
            ]
          },
          "metadata": {},
          "execution_count": 16
        }
      ]
    },
    {
      "cell_type": "code",
      "source": [
        "secant_method(5,100)"
      ],
      "metadata": {
        "colab": {
          "base_uri": "https://localhost:8080/"
        },
        "id": "7cdQ1ee7SdTL",
        "outputId": "ccb8ec66-9023-426f-80e4-4133b26057d1"
      },
      "execution_count": 17,
      "outputs": [
        {
          "output_type": "stream",
          "name": "stdout",
          "text": [
            "Iteration : 0, Current Guess: 0.0\n"
          ]
        }
      ]
    },
    {
      "cell_type": "markdown",
      "source": [
        "## Using Himmelblau function"
      ],
      "metadata": {
        "id": "IXkd3XkzT-cK"
      }
    },
    {
      "cell_type": "code",
      "source": [
        "using Plots"
      ],
      "metadata": {
        "id": "I3bFlTB5SdWI"
      },
      "execution_count": 20,
      "outputs": []
    },
    {
      "cell_type": "code",
      "source": [
        "himmelblau2(x) = (x[1]^2 + x[2] - 11)^2 + (x[1] + x[2]^2 - 7)^2"
      ],
      "metadata": {
        "colab": {
          "base_uri": "https://localhost:8080/"
        },
        "id": "tsC6CfQ6SdZm",
        "outputId": "97ce5d08-2327-4a83-8d25-e63db8e29ca7"
      },
      "execution_count": 21,
      "outputs": [
        {
          "output_type": "execute_result",
          "data": {
            "text/plain": [
              "himmelblau2 (generic function with 1 method)"
            ]
          },
          "metadata": {},
          "execution_count": 21
        }
      ]
    },
    {
      "cell_type": "code",
      "source": [
        "himmelblau(x,y) = (x^2 + y - 11)^2 + (x + y^2 - 7)^2"
      ],
      "metadata": {
        "colab": {
          "base_uri": "https://localhost:8080/"
        },
        "id": "XhaMjVO6SdgN",
        "outputId": "7197d02d-3dda-45ab-fb58-dcf16f915c33"
      },
      "execution_count": 22,
      "outputs": [
        {
          "output_type": "execute_result",
          "data": {
            "text/plain": [
              "himmelblau (generic function with 1 method)"
            ]
          },
          "metadata": {},
          "execution_count": 22
        }
      ]
    },
    {
      "cell_type": "code",
      "source": [
        "surface(0:1:1000, 0:1:1000, himmelblau)"
      ],
      "metadata": {
        "colab": {
          "base_uri": "https://localhost:8080/",
          "height": 421
        },
        "id": "hF9tT4-sSddG",
        "outputId": "dc7822ef-e26f-4003-e91d-ec51921673aa"
      },
      "execution_count": 23,
      "outputs": [
        {
          "output_type": "execute_result",
          "data": {
            "image/svg+xml": "<?xml version=\"1.0\" encoding=\"utf-8\"?>\n<svg xmlns=\"http://www.w3.org/2000/svg\" xmlns:xlink=\"http://www.w3.org/1999/xlink\" width=\"600\" height=\"400\" viewBox=\"0 0 2400 1600\">\n<defs>\n  <clipPath id=\"clip340\">\n    <rect x=\"0\" y=\"0\" width=\"2400\" height=\"1600\"/>\n  </clipPath>\n</defs>\n<path clip-path=\"url(#clip340)\" d=\"\nM0 1600 L2400 1600 L2400 0 L0 0  Z\n  \" fill=\"#ffffff\" fill-rule=\"evenodd\" fill-opacity=\"1\"/>\n<defs>\n  <clipPath id=\"clip341\">\n    <rect x=\"480\" y=\"0\" width=\"1681\" height=\"1600\"/>\n  </clipPath>\n</defs>\n<defs>\n  <clipPath id=\"clip342\">\n    <rect x=\"327\" y=\"47\" width=\"1667\" height=\"1440\"/>\n  </clipPath>\n</defs>\n<path clip-path=\"url(#clip342)\" d=\"\nM327.014 1401.43 L327.014 302.298 L936.718 47.2441 L1992.76 132.262 L1992.76 1231.39 L1383.05 1486.45 L327.014 1401.43  Z\n  \" fill=\"#ffffff\" fill-rule=\"evenodd\" fill-opacity=\"1\"/>\n<polyline clip-path=\"url(#clip342)\" style=\"stroke:#000000; stroke-linecap:butt; stroke-linejoin:round; stroke-width:2; stroke-opacity:0.1; fill:none\" points=\"\n  327.014,1401.43 936.718,1146.38 \n  \"/>\n<polyline clip-path=\"url(#clip342)\" style=\"stroke:#000000; stroke-linecap:butt; stroke-linejoin:round; stroke-width:2; stroke-opacity:0.1; fill:none\" points=\"\n  936.718,1146.38 936.718,47.2441 \n  \"/>\n<polyline clip-path=\"url(#clip342)\" style=\"stroke:#000000; stroke-linecap:butt; stroke-linejoin:round; stroke-width:2; stroke-opacity:0.1; fill:none\" points=\"\n  538.222,1418.43 1147.93,1163.38 \n  \"/>\n<polyline clip-path=\"url(#clip342)\" style=\"stroke:#000000; stroke-linecap:butt; stroke-linejoin:round; stroke-width:2; stroke-opacity:0.1; fill:none\" points=\"\n  1147.93,1163.38 1147.93,64.2477 \n  \"/>\n<polyline clip-path=\"url(#clip342)\" style=\"stroke:#000000; stroke-linecap:butt; stroke-linejoin:round; stroke-width:2; stroke-opacity:0.1; fill:none\" points=\"\n  749.429,1435.44 1359.13,1180.38 \n  \"/>\n<polyline clip-path=\"url(#clip342)\" style=\"stroke:#000000; stroke-linecap:butt; stroke-linejoin:round; stroke-width:2; stroke-opacity:0.1; fill:none\" points=\"\n  1359.13,1180.38 1359.13,81.2513 \n  \"/>\n<polyline clip-path=\"url(#clip342)\" style=\"stroke:#000000; stroke-linecap:butt; stroke-linejoin:round; stroke-width:2; stroke-opacity:0.1; fill:none\" points=\"\n  960.637,1452.44 1570.34,1197.39 \n  \"/>\n<polyline clip-path=\"url(#clip342)\" style=\"stroke:#000000; stroke-linecap:butt; stroke-linejoin:round; stroke-width:2; stroke-opacity:0.1; fill:none\" points=\"\n  1570.34,1197.39 1570.34,98.255 \n  \"/>\n<polyline clip-path=\"url(#clip342)\" style=\"stroke:#000000; stroke-linecap:butt; stroke-linejoin:round; stroke-width:2; stroke-opacity:0.1; fill:none\" points=\"\n  1171.84,1469.44 1781.55,1214.39 \n  \"/>\n<polyline clip-path=\"url(#clip342)\" style=\"stroke:#000000; stroke-linecap:butt; stroke-linejoin:round; stroke-width:2; stroke-opacity:0.1; fill:none\" points=\"\n  1781.55,1214.39 1781.55,115.259 \n  \"/>\n<polyline clip-path=\"url(#clip342)\" style=\"stroke:#000000; stroke-linecap:butt; stroke-linejoin:round; stroke-width:2; stroke-opacity:0.1; fill:none\" points=\"\n  1383.05,1486.45 1992.76,1231.39 \n  \"/>\n<polyline clip-path=\"url(#clip342)\" style=\"stroke:#000000; stroke-linecap:butt; stroke-linejoin:round; stroke-width:2; stroke-opacity:0.1; fill:none\" points=\"\n  1992.76,1231.39 1992.76,132.262 \n  \"/>\n<polyline clip-path=\"url(#clip340)\" style=\"stroke:#000000; stroke-linecap:butt; stroke-linejoin:round; stroke-width:4; stroke-opacity:1; fill:none\" points=\"\n  327.014,1401.43 1383.05,1486.45 \n  \"/>\n<polyline clip-path=\"url(#clip340)\" style=\"stroke:#000000; stroke-linecap:butt; stroke-linejoin:round; stroke-width:4; stroke-opacity:1; fill:none\" points=\"\n  327.014,1401.43 334.33,1398.37 \n  \"/>\n<polyline clip-path=\"url(#clip340)\" style=\"stroke:#000000; stroke-linecap:butt; stroke-linejoin:round; stroke-width:4; stroke-opacity:1; fill:none\" points=\"\n  538.222,1418.43 545.538,1415.37 \n  \"/>\n<polyline clip-path=\"url(#clip340)\" style=\"stroke:#000000; stroke-linecap:butt; stroke-linejoin:round; stroke-width:4; stroke-opacity:1; fill:none\" points=\"\n  749.429,1435.44 756.746,1432.38 \n  \"/>\n<polyline clip-path=\"url(#clip340)\" style=\"stroke:#000000; stroke-linecap:butt; stroke-linejoin:round; stroke-width:4; stroke-opacity:1; fill:none\" points=\"\n  960.637,1452.44 967.953,1449.38 \n  \"/>\n<polyline clip-path=\"url(#clip340)\" style=\"stroke:#000000; stroke-linecap:butt; stroke-linejoin:round; stroke-width:4; stroke-opacity:1; fill:none\" points=\"\n  1171.84,1469.44 1179.16,1466.38 \n  \"/>\n<polyline clip-path=\"url(#clip340)\" style=\"stroke:#000000; stroke-linecap:butt; stroke-linejoin:round; stroke-width:4; stroke-opacity:1; fill:none\" points=\"\n  1383.05,1486.45 1390.37,1483.39 \n  \"/>\n<path clip-path=\"url(#clip340)\" d=\"M312.758 1415.94 Q309.147 1415.94 307.319 1419.5 Q305.513 1423.04 305.513 1430.17 Q305.513 1437.28 307.319 1440.84 Q309.147 1444.38 312.758 1444.38 Q316.393 1444.38 318.198 1440.84 Q320.027 1437.28 320.027 1430.17 Q320.027 1423.04 318.198 1419.5 Q316.393 1415.94 312.758 1415.94 M312.758 1412.23 Q318.569 1412.23 321.624 1416.84 Q324.703 1421.42 324.703 1430.17 Q324.703 1438.9 321.624 1443.5 Q318.569 1448.09 312.758 1448.09 Q306.948 1448.09 303.87 1443.5 Q300.814 1438.9 300.814 1430.17 Q300.814 1421.42 303.87 1416.84 Q306.948 1412.23 312.758 1412.23 Z\" fill=\"#000000\" fill-rule=\"evenodd\" fill-opacity=\"1\" /><path clip-path=\"url(#clip340)\" d=\"M457.67 1460.49 L473.99 1460.49 L473.99 1464.42 L452.045 1464.42 L452.045 1460.49 Q454.707 1457.73 459.291 1453.1 Q463.897 1448.45 465.078 1447.11 Q467.323 1444.58 468.203 1442.85 Q469.105 1441.09 469.105 1439.4 Q469.105 1436.64 467.161 1434.91 Q465.24 1433.17 462.138 1433.17 Q459.939 1433.17 457.485 1433.93 Q455.054 1434.7 452.277 1436.25 L452.277 1431.53 Q455.101 1430.39 457.554 1429.81 Q460.008 1429.24 462.045 1429.24 Q467.415 1429.24 470.61 1431.92 Q473.804 1434.61 473.804 1439.1 Q473.804 1441.23 472.994 1443.15 Q472.207 1445.05 470.101 1447.64 Q469.522 1448.31 466.42 1451.53 Q463.318 1454.72 457.67 1460.49 Z\" fill=\"#000000\" fill-rule=\"evenodd\" fill-opacity=\"1\" /><path clip-path=\"url(#clip340)\" d=\"M493.804 1432.94 Q490.193 1432.94 488.364 1436.5 Q486.559 1440.05 486.559 1447.18 Q486.559 1454.28 488.364 1457.85 Q490.193 1461.39 493.804 1461.39 Q497.438 1461.39 499.244 1457.85 Q501.073 1454.28 501.073 1447.18 Q501.073 1440.05 499.244 1436.5 Q497.438 1432.94 493.804 1432.94 M493.804 1429.24 Q499.614 1429.24 502.67 1433.84 Q505.749 1438.43 505.749 1447.18 Q505.749 1455.9 502.67 1460.51 Q499.614 1465.09 493.804 1465.09 Q487.994 1465.09 484.915 1460.51 Q481.86 1455.9 481.86 1447.18 Q481.86 1438.43 484.915 1433.84 Q487.994 1429.24 493.804 1429.24 Z\" fill=\"#000000\" fill-rule=\"evenodd\" fill-opacity=\"1\" /><path clip-path=\"url(#clip340)\" d=\"M523.966 1432.94 Q520.355 1432.94 518.526 1436.5 Q516.721 1440.05 516.721 1447.18 Q516.721 1454.28 518.526 1457.85 Q520.355 1461.39 523.966 1461.39 Q527.6 1461.39 529.406 1457.85 Q531.235 1454.28 531.235 1447.18 Q531.235 1440.05 529.406 1436.5 Q527.6 1432.94 523.966 1432.94 M523.966 1429.24 Q529.776 1429.24 532.832 1433.84 Q535.91 1438.43 535.91 1447.18 Q535.91 1455.9 532.832 1460.51 Q529.776 1465.09 523.966 1465.09 Q518.156 1465.09 515.077 1460.51 Q512.022 1455.9 512.022 1447.18 Q512.022 1438.43 515.077 1433.84 Q518.156 1429.24 523.966 1429.24 Z\" fill=\"#000000\" fill-rule=\"evenodd\" fill-opacity=\"1\" /><path clip-path=\"url(#clip340)\" d=\"M677.697 1450.94 L665.892 1469.39 L677.697 1469.39 L677.697 1450.94 M676.47 1446.86 L682.35 1446.86 L682.35 1469.39 L687.28 1469.39 L687.28 1473.28 L682.35 1473.28 L682.35 1481.42 L677.697 1481.42 L677.697 1473.28 L662.095 1473.28 L662.095 1468.76 L676.47 1446.86 Z\" fill=\"#000000\" fill-rule=\"evenodd\" fill-opacity=\"1\" /><path clip-path=\"url(#clip340)\" d=\"M705.012 1449.94 Q701.401 1449.94 699.572 1453.51 Q697.767 1457.05 697.767 1464.18 Q697.767 1471.29 699.572 1474.85 Q701.401 1478.39 705.012 1478.39 Q708.646 1478.39 710.452 1474.85 Q712.28 1471.29 712.28 1464.18 Q712.28 1457.05 710.452 1453.51 Q708.646 1449.94 705.012 1449.94 M705.012 1446.24 Q710.822 1446.24 713.878 1450.85 Q716.956 1455.43 716.956 1464.18 Q716.956 1472.91 713.878 1477.51 Q710.822 1482.1 705.012 1482.1 Q699.202 1482.1 696.123 1477.51 Q693.067 1472.91 693.067 1464.18 Q693.067 1455.43 696.123 1450.85 Q699.202 1446.24 705.012 1446.24 Z\" fill=\"#000000\" fill-rule=\"evenodd\" fill-opacity=\"1\" /><path clip-path=\"url(#clip340)\" d=\"M735.174 1449.94 Q731.563 1449.94 729.734 1453.51 Q727.928 1457.05 727.928 1464.18 Q727.928 1471.29 729.734 1474.85 Q731.563 1478.39 735.174 1478.39 Q738.808 1478.39 740.614 1474.85 Q742.442 1471.29 742.442 1464.18 Q742.442 1457.05 740.614 1453.51 Q738.808 1449.94 735.174 1449.94 M735.174 1446.24 Q740.984 1446.24 744.039 1450.85 Q747.118 1455.43 747.118 1464.18 Q747.118 1472.91 744.039 1477.51 Q740.984 1482.1 735.174 1482.1 Q729.364 1482.1 726.285 1477.51 Q723.229 1472.91 723.229 1464.18 Q723.229 1455.43 726.285 1450.85 Q729.364 1446.24 735.174 1446.24 Z\" fill=\"#000000\" fill-rule=\"evenodd\" fill-opacity=\"1\" /><path clip-path=\"url(#clip340)\" d=\"M886.636 1479.28 Q883.488 1479.28 881.636 1481.44 Q879.808 1483.59 879.808 1487.34 Q879.808 1491.07 881.636 1493.24 Q883.488 1495.4 886.636 1495.4 Q889.784 1495.4 891.613 1493.24 Q893.465 1491.07 893.465 1487.34 Q893.465 1483.59 891.613 1481.44 Q889.784 1479.28 886.636 1479.28 M895.919 1464.63 L895.919 1468.89 Q894.159 1468.06 892.354 1467.62 Q890.571 1467.18 888.812 1467.18 Q884.183 1467.18 881.729 1470.3 Q879.298 1473.43 878.951 1479.75 Q880.317 1477.73 882.377 1476.67 Q884.437 1475.58 886.914 1475.58 Q892.122 1475.58 895.132 1478.75 Q898.164 1481.9 898.164 1487.34 Q898.164 1492.66 895.016 1495.88 Q891.868 1499.1 886.636 1499.1 Q880.641 1499.1 877.47 1494.52 Q874.298 1489.91 874.298 1481.18 Q874.298 1472.99 878.187 1468.13 Q882.076 1463.24 888.627 1463.24 Q890.386 1463.24 892.169 1463.59 Q893.974 1463.94 895.919 1464.63 Z\" fill=\"#000000\" fill-rule=\"evenodd\" fill-opacity=\"1\" /><path clip-path=\"url(#clip340)\" d=\"M916.219 1466.95 Q912.608 1466.95 910.78 1470.51 Q908.974 1474.05 908.974 1481.18 Q908.974 1488.29 910.78 1491.85 Q912.608 1495.4 916.219 1495.4 Q919.854 1495.4 921.659 1491.85 Q923.488 1488.29 923.488 1481.18 Q923.488 1474.05 921.659 1470.51 Q919.854 1466.95 916.219 1466.95 M916.219 1463.24 Q922.03 1463.24 925.085 1467.85 Q928.164 1472.43 928.164 1481.18 Q928.164 1489.91 925.085 1494.52 Q922.03 1499.1 916.219 1499.1 Q910.409 1499.1 907.331 1494.52 Q904.275 1489.91 904.275 1481.18 Q904.275 1472.43 907.331 1467.85 Q910.409 1463.24 916.219 1463.24 Z\" fill=\"#000000\" fill-rule=\"evenodd\" fill-opacity=\"1\" /><path clip-path=\"url(#clip340)\" d=\"M946.381 1466.95 Q942.77 1466.95 940.942 1470.51 Q939.136 1474.05 939.136 1481.18 Q939.136 1488.29 940.942 1491.85 Q942.77 1495.4 946.381 1495.4 Q950.016 1495.4 951.821 1491.85 Q953.65 1488.29 953.65 1481.18 Q953.65 1474.05 951.821 1470.51 Q950.016 1466.95 946.381 1466.95 M946.381 1463.24 Q952.191 1463.24 955.247 1467.85 Q958.326 1472.43 958.326 1481.18 Q958.326 1489.91 955.247 1494.52 Q952.191 1499.1 946.381 1499.1 Q940.571 1499.1 937.492 1494.52 Q934.437 1489.91 934.437 1481.18 Q934.437 1472.43 937.492 1467.85 Q940.571 1463.24 946.381 1463.24 Z\" fill=\"#000000\" fill-rule=\"evenodd\" fill-opacity=\"1\" /><path clip-path=\"url(#clip340)\" d=\"M1097.27 1499.02 Q1093.93 1499.02 1092.01 1500.8 Q1090.11 1502.58 1090.11 1505.71 Q1090.11 1508.83 1092.01 1510.62 Q1093.93 1512.4 1097.27 1512.4 Q1100.6 1512.4 1102.52 1510.62 Q1104.44 1508.81 1104.44 1505.71 Q1104.44 1502.58 1102.52 1500.8 Q1100.62 1499.02 1097.27 1499.02 M1092.59 1497.03 Q1089.58 1496.29 1087.89 1494.23 Q1086.22 1492.17 1086.22 1489.2 Q1086.22 1485.06 1089.16 1482.65 Q1092.13 1480.25 1097.27 1480.25 Q1102.43 1480.25 1105.37 1482.65 Q1108.31 1485.06 1108.31 1489.2 Q1108.31 1492.17 1106.62 1494.23 Q1104.95 1496.29 1101.96 1497.03 Q1105.34 1497.82 1107.22 1500.11 Q1109.12 1502.4 1109.12 1505.71 Q1109.12 1510.73 1106.04 1513.42 Q1102.98 1516.1 1097.27 1516.1 Q1091.55 1516.1 1088.47 1513.42 Q1085.41 1510.73 1085.41 1505.71 Q1085.41 1502.4 1087.31 1500.11 Q1089.21 1497.82 1092.59 1497.03 M1090.88 1489.64 Q1090.88 1492.33 1092.54 1493.83 Q1094.23 1495.34 1097.27 1495.34 Q1100.27 1495.34 1101.96 1493.83 Q1103.68 1492.33 1103.68 1489.64 Q1103.68 1486.96 1101.96 1485.45 Q1100.27 1483.95 1097.27 1483.95 Q1094.23 1483.95 1092.54 1485.45 Q1090.88 1486.96 1090.88 1489.64 Z\" fill=\"#000000\" fill-rule=\"evenodd\" fill-opacity=\"1\" /><path clip-path=\"url(#clip340)\" d=\"M1127.43 1483.95 Q1123.82 1483.95 1121.99 1487.51 Q1120.18 1491.06 1120.18 1498.19 Q1120.18 1505.29 1121.99 1508.86 Q1123.82 1512.4 1127.43 1512.4 Q1131.06 1512.4 1132.87 1508.86 Q1134.7 1505.29 1134.7 1498.19 Q1134.7 1491.06 1132.87 1487.51 Q1131.06 1483.95 1127.43 1483.95 M1127.43 1480.25 Q1133.24 1480.25 1136.29 1484.85 Q1139.37 1489.44 1139.37 1498.19 Q1139.37 1506.91 1136.29 1511.52 Q1133.24 1516.1 1127.43 1516.1 Q1121.62 1516.1 1118.54 1511.52 Q1115.48 1506.91 1115.48 1498.19 Q1115.48 1489.44 1118.54 1484.85 Q1121.62 1480.25 1127.43 1480.25 Z\" fill=\"#000000\" fill-rule=\"evenodd\" fill-opacity=\"1\" /><path clip-path=\"url(#clip340)\" d=\"M1157.59 1483.95 Q1153.98 1483.95 1152.15 1487.51 Q1150.34 1491.06 1150.34 1498.19 Q1150.34 1505.29 1152.15 1508.86 Q1153.98 1512.4 1157.59 1512.4 Q1161.22 1512.4 1163.03 1508.86 Q1164.86 1505.29 1164.86 1498.19 Q1164.86 1491.06 1163.03 1487.51 Q1161.22 1483.95 1157.59 1483.95 M1157.59 1480.25 Q1163.4 1480.25 1166.45 1484.85 Q1169.53 1489.44 1169.53 1498.19 Q1169.53 1506.91 1166.45 1511.52 Q1163.4 1516.1 1157.59 1516.1 Q1151.78 1516.1 1148.7 1511.52 Q1145.64 1506.91 1145.64 1498.19 Q1145.64 1489.44 1148.7 1484.85 Q1151.78 1480.25 1157.59 1480.25 Z\" fill=\"#000000\" fill-rule=\"evenodd\" fill-opacity=\"1\" /><path clip-path=\"url(#clip340)\" d=\"M1269.12 1528.5 L1276.76 1528.5 L1276.76 1502.13 L1268.45 1503.8 L1268.45 1499.54 L1276.71 1497.87 L1281.39 1497.87 L1281.39 1528.5 L1289.03 1528.5 L1289.03 1532.43 L1269.12 1532.43 L1269.12 1528.5 Z\" fill=\"#000000\" fill-rule=\"evenodd\" fill-opacity=\"1\" /><path clip-path=\"url(#clip340)\" d=\"M1308.47 1500.95 Q1304.86 1500.95 1303.03 1504.52 Q1301.23 1508.06 1301.23 1515.19 Q1301.23 1522.3 1303.03 1525.86 Q1304.86 1529.4 1308.47 1529.4 Q1312.11 1529.4 1313.91 1525.86 Q1315.74 1522.3 1315.74 1515.19 Q1315.74 1508.06 1313.91 1504.52 Q1312.11 1500.95 1308.47 1500.95 M1308.47 1497.25 Q1314.28 1497.25 1317.34 1501.86 Q1320.42 1506.44 1320.42 1515.19 Q1320.42 1523.92 1317.34 1528.52 Q1314.28 1533.11 1308.47 1533.11 Q1302.66 1533.11 1299.58 1528.52 Q1296.53 1523.92 1296.53 1515.19 Q1296.53 1506.44 1299.58 1501.86 Q1302.66 1497.25 1308.47 1497.25 Z\" fill=\"#000000\" fill-rule=\"evenodd\" fill-opacity=\"1\" /><path clip-path=\"url(#clip340)\" d=\"M1338.63 1500.95 Q1335.02 1500.95 1333.19 1504.52 Q1331.39 1508.06 1331.39 1515.19 Q1331.39 1522.3 1333.19 1525.86 Q1335.02 1529.4 1338.63 1529.4 Q1342.27 1529.4 1344.07 1525.86 Q1345.9 1522.3 1345.9 1515.19 Q1345.9 1508.06 1344.07 1504.52 Q1342.27 1500.95 1338.63 1500.95 M1338.63 1497.25 Q1344.44 1497.25 1347.5 1501.86 Q1350.58 1506.44 1350.58 1515.19 Q1350.58 1523.92 1347.5 1528.52 Q1344.44 1533.11 1338.63 1533.11 Q1332.82 1533.11 1329.75 1528.52 Q1326.69 1523.92 1326.69 1515.19 Q1326.69 1506.44 1329.75 1501.86 Q1332.82 1497.25 1338.63 1497.25 Z\" fill=\"#000000\" fill-rule=\"evenodd\" fill-opacity=\"1\" /><path clip-path=\"url(#clip340)\" d=\"M1368.8 1500.95 Q1365.19 1500.95 1363.36 1504.52 Q1361.55 1508.06 1361.55 1515.19 Q1361.55 1522.3 1363.36 1525.86 Q1365.19 1529.4 1368.8 1529.4 Q1372.43 1529.4 1374.24 1525.86 Q1376.07 1522.3 1376.07 1515.19 Q1376.07 1508.06 1374.24 1504.52 Q1372.43 1500.95 1368.8 1500.95 M1368.8 1497.25 Q1374.61 1497.25 1377.66 1501.86 Q1380.74 1506.44 1380.74 1515.19 Q1380.74 1523.92 1377.66 1528.52 Q1374.61 1533.11 1368.8 1533.11 Q1362.99 1533.11 1359.91 1528.52 Q1356.85 1523.92 1356.85 1515.19 Q1356.85 1506.44 1359.91 1501.86 Q1362.99 1497.25 1368.8 1497.25 Z\" fill=\"#000000\" fill-rule=\"evenodd\" fill-opacity=\"1\" /><polyline clip-path=\"url(#clip342)\" style=\"stroke:#000000; stroke-linecap:butt; stroke-linejoin:round; stroke-width:2; stroke-opacity:0.1; fill:none\" points=\"\n  1383.05,1486.45 327.014,1401.43 \n  \"/>\n<polyline clip-path=\"url(#clip342)\" style=\"stroke:#000000; stroke-linecap:butt; stroke-linejoin:round; stroke-width:2; stroke-opacity:0.1; fill:none\" points=\"\n  327.014,1401.43 327.014,302.298 \n  \"/>\n<polyline clip-path=\"url(#clip342)\" style=\"stroke:#000000; stroke-linecap:butt; stroke-linejoin:round; stroke-width:2; stroke-opacity:0.1; fill:none\" points=\"\n  1504.99,1435.44 448.955,1350.42 \n  \"/>\n<polyline clip-path=\"url(#clip342)\" style=\"stroke:#000000; stroke-linecap:butt; stroke-linejoin:round; stroke-width:2; stroke-opacity:0.1; fill:none\" points=\"\n  448.955,1350.42 448.955,251.288 \n  \"/>\n<polyline clip-path=\"url(#clip342)\" style=\"stroke:#000000; stroke-linecap:butt; stroke-linejoin:round; stroke-width:2; stroke-opacity:0.1; fill:none\" points=\"\n  1626.93,1384.43 570.896,1299.41 \n  \"/>\n<polyline clip-path=\"url(#clip342)\" style=\"stroke:#000000; stroke-linecap:butt; stroke-linejoin:round; stroke-width:2; stroke-opacity:0.1; fill:none\" points=\"\n  570.896,1299.41 570.896,200.277 \n  \"/>\n<polyline clip-path=\"url(#clip342)\" style=\"stroke:#000000; stroke-linecap:butt; stroke-linejoin:round; stroke-width:2; stroke-opacity:0.1; fill:none\" points=\"\n  1748.87,1333.42 692.836,1248.4 \n  \"/>\n<polyline clip-path=\"url(#clip342)\" style=\"stroke:#000000; stroke-linecap:butt; stroke-linejoin:round; stroke-width:2; stroke-opacity:0.1; fill:none\" points=\"\n  692.836,1248.4 692.836,149.266 \n  \"/>\n<polyline clip-path=\"url(#clip342)\" style=\"stroke:#000000; stroke-linecap:butt; stroke-linejoin:round; stroke-width:2; stroke-opacity:0.1; fill:none\" points=\"\n  1870.82,1282.4 814.777,1197.39 \n  \"/>\n<polyline clip-path=\"url(#clip342)\" style=\"stroke:#000000; stroke-linecap:butt; stroke-linejoin:round; stroke-width:2; stroke-opacity:0.1; fill:none\" points=\"\n  814.777,1197.39 814.777,98.255 \n  \"/>\n<polyline clip-path=\"url(#clip342)\" style=\"stroke:#000000; stroke-linecap:butt; stroke-linejoin:round; stroke-width:2; stroke-opacity:0.1; fill:none\" points=\"\n  1992.76,1231.39 936.718,1146.38 \n  \"/>\n<polyline clip-path=\"url(#clip342)\" style=\"stroke:#000000; stroke-linecap:butt; stroke-linejoin:round; stroke-width:2; stroke-opacity:0.1; fill:none\" points=\"\n  936.718,1146.38 936.718,47.2441 \n  \"/>\n<polyline clip-path=\"url(#clip340)\" style=\"stroke:#000000; stroke-linecap:butt; stroke-linejoin:round; stroke-width:4; stroke-opacity:1; fill:none\" points=\"\n  1383.05,1486.45 1992.76,1231.39 \n  \"/>\n<polyline clip-path=\"url(#clip340)\" style=\"stroke:#000000; stroke-linecap:butt; stroke-linejoin:round; stroke-width:4; stroke-opacity:1; fill:none\" points=\"\n  1383.05,1486.45 1370.38,1485.43 \n  \"/>\n<polyline clip-path=\"url(#clip340)\" style=\"stroke:#000000; stroke-linecap:butt; stroke-linejoin:round; stroke-width:4; stroke-opacity:1; fill:none\" points=\"\n  1504.99,1435.44 1492.32,1434.42 \n  \"/>\n<polyline clip-path=\"url(#clip340)\" style=\"stroke:#000000; stroke-linecap:butt; stroke-linejoin:round; stroke-width:4; stroke-opacity:1; fill:none\" points=\"\n  1626.93,1384.43 1614.26,1383.41 \n  \"/>\n<polyline clip-path=\"url(#clip340)\" style=\"stroke:#000000; stroke-linecap:butt; stroke-linejoin:round; stroke-width:4; stroke-opacity:1; fill:none\" points=\"\n  1748.87,1333.42 1736.2,1332.4 \n  \"/>\n<polyline clip-path=\"url(#clip340)\" style=\"stroke:#000000; stroke-linecap:butt; stroke-linejoin:round; stroke-width:4; stroke-opacity:1; fill:none\" points=\"\n  1870.82,1282.4 1858.14,1281.38 \n  \"/>\n<polyline clip-path=\"url(#clip340)\" style=\"stroke:#000000; stroke-linecap:butt; stroke-linejoin:round; stroke-width:4; stroke-opacity:1; fill:none\" points=\"\n  1992.76,1231.39 1980.08,1230.37 \n  \"/>\n<path clip-path=\"url(#clip340)\" d=\"M1406.11 1498.82 Q1402.5 1498.82 1400.67 1502.38 Q1398.87 1505.92 1398.87 1513.05 Q1398.87 1520.16 1400.67 1523.72 Q1402.5 1527.26 1406.11 1527.26 Q1409.75 1527.26 1411.55 1523.72 Q1413.38 1520.16 1413.38 1513.05 Q1413.38 1505.92 1411.55 1502.38 Q1409.75 1498.82 1406.11 1498.82 M1406.11 1495.11 Q1411.92 1495.11 1414.98 1499.72 Q1418.06 1504.3 1418.06 1513.05 Q1418.06 1521.78 1414.98 1526.38 Q1411.92 1530.97 1406.11 1530.97 Q1400.3 1530.97 1397.22 1526.38 Q1394.17 1521.78 1394.17 1513.05 Q1394.17 1504.3 1397.22 1499.72 Q1400.3 1495.11 1406.11 1495.11 Z\" fill=\"#000000\" fill-rule=\"evenodd\" fill-opacity=\"1\" /><path clip-path=\"url(#clip340)\" d=\"M1521.73 1475.35 L1538.05 1475.35 L1538.05 1479.29 L1516.11 1479.29 L1516.11 1475.35 Q1518.77 1472.6 1523.35 1467.97 Q1527.96 1463.31 1529.14 1461.97 Q1531.38 1459.45 1532.26 1457.71 Q1533.17 1455.95 1533.17 1454.26 Q1533.17 1451.51 1531.22 1449.77 Q1529.3 1448.04 1526.2 1448.04 Q1524 1448.04 1521.55 1448.8 Q1519.12 1449.56 1516.34 1451.11 L1516.34 1446.39 Q1519.16 1445.26 1521.62 1444.68 Q1524.07 1444.1 1526.11 1444.1 Q1531.48 1444.1 1534.67 1446.79 Q1537.87 1449.47 1537.87 1453.96 Q1537.87 1456.09 1537.06 1458.01 Q1536.27 1459.91 1534.16 1462.5 Q1533.58 1463.17 1530.48 1466.39 Q1527.38 1469.59 1521.73 1475.35 Z\" fill=\"#000000\" fill-rule=\"evenodd\" fill-opacity=\"1\" /><path clip-path=\"url(#clip340)\" d=\"M1557.87 1447.8 Q1554.26 1447.8 1552.43 1451.37 Q1550.62 1454.91 1550.62 1462.04 Q1550.62 1469.15 1552.43 1472.71 Q1554.26 1476.25 1557.87 1476.25 Q1561.5 1476.25 1563.31 1472.71 Q1565.13 1469.15 1565.13 1462.04 Q1565.13 1454.91 1563.31 1451.37 Q1561.5 1447.8 1557.87 1447.8 M1557.87 1444.1 Q1563.68 1444.1 1566.73 1448.71 Q1569.81 1453.29 1569.81 1462.04 Q1569.81 1470.77 1566.73 1475.37 Q1563.68 1479.96 1557.87 1479.96 Q1552.06 1479.96 1548.98 1475.37 Q1545.92 1470.77 1545.92 1462.04 Q1545.92 1453.29 1548.98 1448.71 Q1552.06 1444.1 1557.87 1444.1 Z\" fill=\"#000000\" fill-rule=\"evenodd\" fill-opacity=\"1\" /><path clip-path=\"url(#clip340)\" d=\"M1588.03 1447.8 Q1584.42 1447.8 1582.59 1451.37 Q1580.78 1454.91 1580.78 1462.04 Q1580.78 1469.15 1582.59 1472.71 Q1584.42 1476.25 1588.03 1476.25 Q1591.66 1476.25 1593.47 1472.71 Q1595.3 1469.15 1595.3 1462.04 Q1595.3 1454.91 1593.47 1451.37 Q1591.66 1447.8 1588.03 1447.8 M1588.03 1444.1 Q1593.84 1444.1 1596.89 1448.71 Q1599.97 1453.29 1599.97 1462.04 Q1599.97 1470.77 1596.89 1475.37 Q1593.84 1479.96 1588.03 1479.96 Q1582.22 1479.96 1579.14 1475.37 Q1576.08 1470.77 1576.08 1462.04 Q1576.08 1453.29 1579.14 1448.71 Q1582.22 1444.1 1588.03 1444.1 Z\" fill=\"#000000\" fill-rule=\"evenodd\" fill-opacity=\"1\" /><path clip-path=\"url(#clip340)\" d=\"M1653.65 1397.79 L1641.84 1416.24 L1653.65 1416.24 L1653.65 1397.79 M1652.42 1393.72 L1658.3 1393.72 L1658.3 1416.24 L1663.23 1416.24 L1663.23 1420.13 L1658.3 1420.13 L1658.3 1428.28 L1653.65 1428.28 L1653.65 1420.13 L1638.05 1420.13 L1638.05 1415.61 L1652.42 1393.72 Z\" fill=\"#000000\" fill-rule=\"evenodd\" fill-opacity=\"1\" /><path clip-path=\"url(#clip340)\" d=\"M1680.96 1396.79 Q1677.35 1396.79 1675.52 1400.36 Q1673.72 1403.9 1673.72 1411.03 Q1673.72 1418.14 1675.52 1421.7 Q1677.35 1425.24 1680.96 1425.24 Q1684.6 1425.24 1686.4 1421.7 Q1688.23 1418.14 1688.23 1411.03 Q1688.23 1403.9 1686.4 1400.36 Q1684.6 1396.79 1680.96 1396.79 M1680.96 1393.09 Q1686.77 1393.09 1689.83 1397.7 Q1692.91 1402.28 1692.91 1411.03 Q1692.91 1419.76 1689.83 1424.36 Q1686.77 1428.95 1680.96 1428.95 Q1675.15 1428.95 1672.08 1424.36 Q1669.02 1419.76 1669.02 1411.03 Q1669.02 1402.28 1672.08 1397.7 Q1675.15 1393.09 1680.96 1393.09 Z\" fill=\"#000000\" fill-rule=\"evenodd\" fill-opacity=\"1\" /><path clip-path=\"url(#clip340)\" d=\"M1711.13 1396.79 Q1707.52 1396.79 1705.69 1400.36 Q1703.88 1403.9 1703.88 1411.03 Q1703.88 1418.14 1705.69 1421.7 Q1707.52 1425.24 1711.13 1425.24 Q1714.76 1425.24 1716.57 1421.7 Q1718.39 1418.14 1718.39 1411.03 Q1718.39 1403.9 1716.57 1400.36 Q1714.76 1396.79 1711.13 1396.79 M1711.13 1393.09 Q1716.94 1393.09 1719.99 1397.7 Q1723.07 1402.28 1723.07 1411.03 Q1723.07 1419.76 1719.99 1424.36 Q1716.94 1428.95 1711.13 1428.95 Q1705.32 1428.95 1702.24 1424.36 Q1699.18 1419.76 1699.18 1411.03 Q1699.18 1402.28 1702.24 1397.7 Q1705.32 1393.09 1711.13 1393.09 Z\" fill=\"#000000\" fill-rule=\"evenodd\" fill-opacity=\"1\" /><path clip-path=\"url(#clip340)\" d=\"M1772.33 1358.12 Q1769.18 1358.12 1767.33 1360.27 Q1765.5 1362.43 1765.5 1366.18 Q1765.5 1369.9 1767.33 1372.08 Q1769.18 1374.23 1772.33 1374.23 Q1775.47 1374.23 1777.3 1372.08 Q1779.16 1369.9 1779.16 1366.18 Q1779.16 1362.43 1777.3 1360.27 Q1775.47 1358.12 1772.33 1358.12 M1781.61 1343.47 L1781.61 1347.73 Q1779.85 1346.89 1778.04 1346.45 Q1776.26 1346.01 1774.5 1346.01 Q1769.87 1346.01 1767.42 1349.14 Q1764.99 1352.26 1764.64 1358.58 Q1766.01 1356.57 1768.07 1355.51 Q1770.13 1354.42 1772.6 1354.42 Q1777.81 1354.42 1780.82 1357.59 Q1783.85 1360.74 1783.85 1366.18 Q1783.85 1371.5 1780.71 1374.72 Q1777.56 1377.94 1772.33 1377.94 Q1766.33 1377.94 1763.16 1373.35 Q1759.99 1368.75 1759.99 1360.02 Q1759.99 1351.82 1763.88 1346.96 Q1767.77 1342.08 1774.32 1342.08 Q1776.08 1342.08 1777.86 1342.43 Q1779.66 1342.77 1781.61 1343.47 Z\" fill=\"#000000\" fill-rule=\"evenodd\" fill-opacity=\"1\" /><path clip-path=\"url(#clip340)\" d=\"M1801.91 1345.78 Q1798.3 1345.78 1796.47 1349.35 Q1794.66 1352.89 1794.66 1360.02 Q1794.66 1367.13 1796.47 1370.69 Q1798.3 1374.23 1801.91 1374.23 Q1805.54 1374.23 1807.35 1370.69 Q1809.18 1367.13 1809.18 1360.02 Q1809.18 1352.89 1807.35 1349.35 Q1805.54 1345.78 1801.91 1345.78 M1801.91 1342.08 Q1807.72 1342.08 1810.78 1346.69 Q1813.85 1351.27 1813.85 1360.02 Q1813.85 1368.75 1810.78 1373.35 Q1807.72 1377.94 1801.91 1377.94 Q1796.1 1377.94 1793.02 1373.35 Q1789.97 1368.75 1789.97 1360.02 Q1789.97 1351.27 1793.02 1346.69 Q1796.1 1342.08 1801.91 1342.08 Z\" fill=\"#000000\" fill-rule=\"evenodd\" fill-opacity=\"1\" /><path clip-path=\"url(#clip340)\" d=\"M1832.07 1345.78 Q1828.46 1345.78 1826.63 1349.35 Q1824.83 1352.89 1824.83 1360.02 Q1824.83 1367.13 1826.63 1370.69 Q1828.46 1374.23 1832.07 1374.23 Q1835.71 1374.23 1837.51 1370.69 Q1839.34 1367.13 1839.34 1360.02 Q1839.34 1352.89 1837.51 1349.35 Q1835.71 1345.78 1832.07 1345.78 M1832.07 1342.08 Q1837.88 1342.08 1840.94 1346.69 Q1844.02 1351.27 1844.02 1360.02 Q1844.02 1368.75 1840.94 1373.35 Q1837.88 1377.94 1832.07 1377.94 Q1826.26 1377.94 1823.18 1373.35 Q1820.13 1368.75 1820.13 1360.02 Q1820.13 1351.27 1823.18 1346.69 Q1826.26 1342.08 1832.07 1342.08 Z\" fill=\"#000000\" fill-rule=\"evenodd\" fill-opacity=\"1\" /><path clip-path=\"url(#clip340)\" d=\"M1893.78 1309.84 Q1890.45 1309.84 1888.53 1311.62 Q1886.63 1313.41 1886.63 1316.53 Q1886.63 1319.66 1888.53 1321.44 Q1890.45 1323.22 1893.78 1323.22 Q1897.11 1323.22 1899.04 1321.44 Q1900.96 1319.63 1900.96 1316.53 Q1900.96 1313.41 1899.04 1311.62 Q1897.14 1309.84 1893.78 1309.84 M1889.11 1307.85 Q1886.1 1307.11 1884.41 1305.05 Q1882.74 1302.99 1882.74 1300.03 Q1882.74 1295.88 1885.68 1293.48 Q1888.64 1291.07 1893.78 1291.07 Q1898.94 1291.07 1901.88 1293.48 Q1904.82 1295.88 1904.82 1300.03 Q1904.82 1302.99 1903.13 1305.05 Q1901.47 1307.11 1898.48 1307.85 Q1901.86 1308.64 1903.74 1310.93 Q1905.63 1313.22 1905.63 1316.53 Q1905.63 1321.55 1902.55 1324.24 Q1899.5 1326.92 1893.78 1326.92 Q1888.06 1326.92 1884.99 1324.24 Q1881.93 1321.55 1881.93 1316.53 Q1881.93 1313.22 1883.83 1310.93 Q1885.73 1308.64 1889.11 1307.85 M1887.39 1300.47 Q1887.39 1303.15 1889.06 1304.66 Q1890.75 1306.16 1893.78 1306.16 Q1896.79 1306.16 1898.48 1304.66 Q1900.19 1303.15 1900.19 1300.47 Q1900.19 1297.78 1898.48 1296.28 Q1896.79 1294.77 1893.78 1294.77 Q1890.75 1294.77 1889.06 1296.28 Q1887.39 1297.78 1887.39 1300.47 Z\" fill=\"#000000\" fill-rule=\"evenodd\" fill-opacity=\"1\" /><path clip-path=\"url(#clip340)\" d=\"M1923.94 1294.77 Q1920.33 1294.77 1918.5 1298.34 Q1916.7 1301.88 1916.7 1309.01 Q1916.7 1316.11 1918.5 1319.68 Q1920.33 1323.22 1923.94 1323.22 Q1927.58 1323.22 1929.38 1319.68 Q1931.21 1316.11 1931.21 1309.01 Q1931.21 1301.88 1929.38 1298.34 Q1927.58 1294.77 1923.94 1294.77 M1923.94 1291.07 Q1929.75 1291.07 1932.81 1295.67 Q1935.89 1300.26 1935.89 1309.01 Q1935.89 1317.73 1932.81 1322.34 Q1929.75 1326.92 1923.94 1326.92 Q1918.13 1326.92 1915.05 1322.34 Q1912 1317.73 1912 1309.01 Q1912 1300.26 1915.05 1295.67 Q1918.13 1291.07 1923.94 1291.07 Z\" fill=\"#000000\" fill-rule=\"evenodd\" fill-opacity=\"1\" /><path clip-path=\"url(#clip340)\" d=\"M1954.11 1294.77 Q1950.49 1294.77 1948.67 1298.34 Q1946.86 1301.88 1946.86 1309.01 Q1946.86 1316.11 1948.67 1319.68 Q1950.49 1323.22 1954.11 1323.22 Q1957.74 1323.22 1959.54 1319.68 Q1961.37 1316.11 1961.37 1309.01 Q1961.37 1301.88 1959.54 1298.34 Q1957.74 1294.77 1954.11 1294.77 M1954.11 1291.07 Q1959.92 1291.07 1962.97 1295.67 Q1966.05 1300.26 1966.05 1309.01 Q1966.05 1317.73 1962.97 1322.34 Q1959.92 1326.92 1954.11 1326.92 Q1948.29 1326.92 1945.22 1322.34 Q1942.16 1317.73 1942.16 1309.01 Q1942.16 1300.26 1945.22 1295.67 Q1948.29 1291.07 1954.11 1291.07 Z\" fill=\"#000000\" fill-rule=\"evenodd\" fill-opacity=\"1\" /><path clip-path=\"url(#clip340)\" d=\"M2004.54 1271.31 L2012.18 1271.31 L2012.18 1244.94 L2003.87 1246.61 L2003.87 1242.35 L2012.13 1240.68 L2016.81 1240.68 L2016.81 1271.31 L2024.45 1271.31 L2024.45 1275.24 L2004.54 1275.24 L2004.54 1271.31 Z\" fill=\"#000000\" fill-rule=\"evenodd\" fill-opacity=\"1\" /><path clip-path=\"url(#clip340)\" d=\"M2043.89 1243.76 Q2040.28 1243.76 2038.45 1247.33 Q2036.65 1250.87 2036.65 1258 Q2036.65 1265.1 2038.45 1268.67 Q2040.28 1272.21 2043.89 1272.21 Q2047.53 1272.21 2049.33 1268.67 Q2051.16 1265.1 2051.16 1258 Q2051.16 1250.87 2049.33 1247.33 Q2047.53 1243.76 2043.89 1243.76 M2043.89 1240.06 Q2049.7 1240.06 2052.76 1244.66 Q2055.84 1249.25 2055.84 1258 Q2055.84 1266.72 2052.76 1271.33 Q2049.7 1275.91 2043.89 1275.91 Q2038.08 1275.91 2035 1271.33 Q2031.95 1266.72 2031.95 1258 Q2031.95 1249.25 2035 1244.66 Q2038.08 1240.06 2043.89 1240.06 Z\" fill=\"#000000\" fill-rule=\"evenodd\" fill-opacity=\"1\" /><path clip-path=\"url(#clip340)\" d=\"M2074.06 1243.76 Q2070.44 1243.76 2068.62 1247.33 Q2066.81 1250.87 2066.81 1258 Q2066.81 1265.1 2068.62 1268.67 Q2070.44 1272.21 2074.06 1272.21 Q2077.69 1272.21 2079.49 1268.67 Q2081.32 1265.1 2081.32 1258 Q2081.32 1250.87 2079.49 1247.33 Q2077.69 1243.76 2074.06 1243.76 M2074.06 1240.06 Q2079.87 1240.06 2082.92 1244.66 Q2086 1249.25 2086 1258 Q2086 1266.72 2082.92 1271.33 Q2079.87 1275.91 2074.06 1275.91 Q2068.25 1275.91 2065.17 1271.33 Q2062.11 1266.72 2062.11 1258 Q2062.11 1249.25 2065.17 1244.66 Q2068.25 1240.06 2074.06 1240.06 Z\" fill=\"#000000\" fill-rule=\"evenodd\" fill-opacity=\"1\" /><path clip-path=\"url(#clip340)\" d=\"M2104.22 1243.76 Q2100.61 1243.76 2098.78 1247.33 Q2096.97 1250.87 2096.97 1258 Q2096.97 1265.1 2098.78 1268.67 Q2100.61 1272.21 2104.22 1272.21 Q2107.85 1272.21 2109.66 1268.67 Q2111.49 1265.1 2111.49 1258 Q2111.49 1250.87 2109.66 1247.33 Q2107.85 1243.76 2104.22 1243.76 M2104.22 1240.06 Q2110.03 1240.06 2113.08 1244.66 Q2116.16 1249.25 2116.16 1258 Q2116.16 1266.72 2113.08 1271.33 Q2110.03 1275.91 2104.22 1275.91 Q2098.41 1275.91 2095.33 1271.33 Q2092.27 1266.72 2092.27 1258 Q2092.27 1249.25 2095.33 1244.66 Q2098.41 1240.06 2104.22 1240.06 Z\" fill=\"#000000\" fill-rule=\"evenodd\" fill-opacity=\"1\" /><polyline clip-path=\"url(#clip342)\" style=\"stroke:#000000; stroke-linecap:butt; stroke-linejoin:round; stroke-width:2; stroke-opacity:0.1; fill:none\" points=\"\n  327.014,1401.43 936.718,1146.38 \n  \"/>\n<polyline clip-path=\"url(#clip342)\" style=\"stroke:#000000; stroke-linecap:butt; stroke-linejoin:round; stroke-width:2; stroke-opacity:0.1; fill:none\" points=\"\n  936.718,1146.38 1992.76,1231.39 \n  \"/>\n<polyline clip-path=\"url(#clip342)\" style=\"stroke:#000000; stroke-linecap:butt; stroke-linejoin:round; stroke-width:2; stroke-opacity:0.1; fill:none\" points=\"\n  327.014,1127.19 936.718,872.136 \n  \"/>\n<polyline clip-path=\"url(#clip342)\" style=\"stroke:#000000; stroke-linecap:butt; stroke-linejoin:round; stroke-width:2; stroke-opacity:0.1; fill:none\" points=\"\n  936.718,872.136 1992.76,957.155 \n  \"/>\n<polyline clip-path=\"url(#clip342)\" style=\"stroke:#000000; stroke-linecap:butt; stroke-linejoin:round; stroke-width:2; stroke-opacity:0.1; fill:none\" points=\"\n  327.014,852.952 936.718,597.897 \n  \"/>\n<polyline clip-path=\"url(#clip342)\" style=\"stroke:#000000; stroke-linecap:butt; stroke-linejoin:round; stroke-width:2; stroke-opacity:0.1; fill:none\" points=\"\n  936.718,597.897 1992.76,682.916 \n  \"/>\n<polyline clip-path=\"url(#clip342)\" style=\"stroke:#000000; stroke-linecap:butt; stroke-linejoin:round; stroke-width:2; stroke-opacity:0.1; fill:none\" points=\"\n  327.014,578.713 936.718,323.658 \n  \"/>\n<polyline clip-path=\"url(#clip342)\" style=\"stroke:#000000; stroke-linecap:butt; stroke-linejoin:round; stroke-width:2; stroke-opacity:0.1; fill:none\" points=\"\n  936.718,323.658 1992.76,408.676 \n  \"/>\n<polyline clip-path=\"url(#clip342)\" style=\"stroke:#000000; stroke-linecap:butt; stroke-linejoin:round; stroke-width:2; stroke-opacity:0.1; fill:none\" points=\"\n  327.014,304.474 936.718,49.4193 \n  \"/>\n<polyline clip-path=\"url(#clip342)\" style=\"stroke:#000000; stroke-linecap:butt; stroke-linejoin:round; stroke-width:2; stroke-opacity:0.1; fill:none\" points=\"\n  936.718,49.4193 1992.76,134.437 \n  \"/>\n<polyline clip-path=\"url(#clip340)\" style=\"stroke:#000000; stroke-linecap:butt; stroke-linejoin:round; stroke-width:4; stroke-opacity:1; fill:none\" points=\"\n  327.014,1401.43 327.014,302.298 \n  \"/>\n<polyline clip-path=\"url(#clip340)\" style=\"stroke:#000000; stroke-linecap:butt; stroke-linejoin:round; stroke-width:4; stroke-opacity:1; fill:none\" points=\"\n  327.014,1401.43 334.33,1398.37 \n  \"/>\n<polyline clip-path=\"url(#clip340)\" style=\"stroke:#000000; stroke-linecap:butt; stroke-linejoin:round; stroke-width:4; stroke-opacity:1; fill:none\" points=\"\n  327.014,1127.19 334.33,1124.13 \n  \"/>\n<polyline clip-path=\"url(#clip340)\" style=\"stroke:#000000; stroke-linecap:butt; stroke-linejoin:round; stroke-width:4; stroke-opacity:1; fill:none\" points=\"\n  327.014,852.952 334.33,849.891 \n  \"/>\n<polyline clip-path=\"url(#clip340)\" style=\"stroke:#000000; stroke-linecap:butt; stroke-linejoin:round; stroke-width:4; stroke-opacity:1; fill:none\" points=\"\n  327.014,578.713 334.33,575.652 \n  \"/>\n<polyline clip-path=\"url(#clip340)\" style=\"stroke:#000000; stroke-linecap:butt; stroke-linejoin:round; stroke-width:4; stroke-opacity:1; fill:none\" points=\"\n  327.014,304.474 334.33,301.413 \n  \"/>\n<path clip-path=\"url(#clip340)\" d=\"M286.27 1387.23 Q282.659 1387.23 280.83 1390.79 Q279.024 1394.33 279.024 1401.46 Q279.024 1408.57 280.83 1412.14 Q282.659 1415.68 286.27 1415.68 Q289.904 1415.68 291.709 1412.14 Q293.538 1408.57 293.538 1401.46 Q293.538 1394.33 291.709 1390.79 Q289.904 1387.23 286.27 1387.23 M286.27 1383.52 Q292.08 1383.52 295.135 1388.13 Q298.214 1392.71 298.214 1401.46 Q298.214 1410.19 295.135 1414.8 Q292.08 1419.38 286.27 1419.38 Q280.459 1419.38 277.381 1414.8 Q274.325 1410.19 274.325 1401.46 Q274.325 1392.71 277.381 1388.13 Q280.459 1383.52 286.27 1383.52 Z\" fill=\"#000000\" fill-rule=\"evenodd\" fill-opacity=\"1\" /><path clip-path=\"url(#clip340)\" d=\"M59.6505 1116.36 L78.0068 1116.36 L78.0068 1120.29 L63.9328 1120.29 L63.9328 1128.77 Q64.9513 1128.42 65.9699 1128.26 Q66.9884 1128.07 68.0069 1128.07 Q73.7939 1128.07 77.1735 1131.24 Q80.5531 1134.41 80.5531 1139.83 Q80.5531 1145.41 77.0809 1148.51 Q73.6087 1151.59 67.2893 1151.59 Q65.1134 1151.59 62.8449 1151.22 Q60.5995 1150.85 58.1921 1150.11 L58.1921 1145.41 Q60.2754 1146.54 62.4977 1147.1 Q64.7199 1147.65 67.1967 1147.65 Q71.2013 1147.65 73.5393 1145.55 Q75.8772 1143.44 75.8772 1139.83 Q75.8772 1136.22 73.5393 1134.11 Q71.2013 1132.01 67.1967 1132.01 Q65.3217 1132.01 63.4467 1132.42 Q61.5949 1132.84 59.6505 1133.72 L59.6505 1116.36 Z\" fill=\"#000000\" fill-rule=\"evenodd\" fill-opacity=\"1\" /><path clip-path=\"url(#clip340)\" d=\"M89.766 1145.04 L94.6503 1145.04 L94.6503 1150.92 L89.766 1150.92 L89.766 1145.04 Z\" fill=\"#000000\" fill-rule=\"evenodd\" fill-opacity=\"1\" /><path clip-path=\"url(#clip340)\" d=\"M114.835 1119.44 Q111.224 1119.44 109.396 1123 Q107.59 1126.54 107.59 1133.67 Q107.59 1140.78 109.396 1144.34 Q111.224 1147.89 114.835 1147.89 Q118.47 1147.89 120.275 1144.34 Q122.104 1140.78 122.104 1133.67 Q122.104 1126.54 120.275 1123 Q118.47 1119.44 114.835 1119.44 M114.835 1115.73 Q120.645 1115.73 123.701 1120.34 Q126.78 1124.92 126.78 1133.67 Q126.78 1142.4 123.701 1147.01 Q120.645 1151.59 114.835 1151.59 Q109.025 1151.59 105.946 1147.01 Q102.891 1142.4 102.891 1133.67 Q102.891 1124.92 105.946 1120.34 Q109.025 1115.73 114.835 1115.73 Z\" fill=\"#000000\" fill-rule=\"evenodd\" fill-opacity=\"1\" /><path clip-path=\"url(#clip340)\" d=\"M144.997 1119.44 Q141.386 1119.44 139.557 1123 Q137.752 1126.54 137.752 1133.67 Q137.752 1140.78 139.557 1144.34 Q141.386 1147.89 144.997 1147.89 Q148.631 1147.89 150.437 1144.34 Q152.266 1140.78 152.266 1133.67 Q152.266 1126.54 150.437 1123 Q148.631 1119.44 144.997 1119.44 M144.997 1115.73 Q150.807 1115.73 153.863 1120.34 Q156.942 1124.92 156.942 1133.67 Q156.942 1142.4 153.863 1147.01 Q150.807 1151.59 144.997 1151.59 Q139.187 1151.59 136.108 1147.01 Q133.053 1142.4 133.053 1133.67 Q133.053 1124.92 136.108 1120.34 Q139.187 1115.73 144.997 1115.73 Z\" fill=\"#000000\" fill-rule=\"evenodd\" fill-opacity=\"1\" /><path clip-path=\"url(#clip340)\" d=\"M193.33 1125.46 L182.752 1136.08 L193.33 1146.66 L190.576 1149.46 L179.951 1138.84 L169.326 1149.46 L166.594 1146.66 L177.15 1136.08 L166.594 1125.46 L169.326 1122.65 L179.951 1133.28 L190.576 1122.65 L193.33 1125.46 Z\" fill=\"#000000\" fill-rule=\"evenodd\" fill-opacity=\"1\" /><path clip-path=\"url(#clip340)\" d=\"M205.691 1146.98 L213.33 1146.98 L213.33 1120.62 L205.02 1122.28 L205.02 1118.02 L213.284 1116.36 L217.96 1116.36 L217.96 1146.98 L225.599 1146.98 L225.599 1150.92 L205.691 1150.92 L205.691 1146.98 Z\" fill=\"#000000\" fill-rule=\"evenodd\" fill-opacity=\"1\" /><path clip-path=\"url(#clip340)\" d=\"M245.043 1119.44 Q241.432 1119.44 239.603 1123 Q237.798 1126.54 237.798 1133.67 Q237.798 1140.78 239.603 1144.34 Q241.432 1147.89 245.043 1147.89 Q248.677 1147.89 250.483 1144.34 Q252.311 1140.78 252.311 1133.67 Q252.311 1126.54 250.483 1123 Q248.677 1119.44 245.043 1119.44 M245.043 1115.73 Q250.853 1115.73 253.909 1120.34 Q256.987 1124.92 256.987 1133.67 Q256.987 1142.4 253.909 1147.01 Q250.853 1151.59 245.043 1151.59 Q239.233 1151.59 236.154 1147.01 Q233.099 1142.4 233.099 1133.67 Q233.099 1124.92 236.154 1120.34 Q239.233 1115.73 245.043 1115.73 Z\" fill=\"#000000\" fill-rule=\"evenodd\" fill-opacity=\"1\" /><path clip-path=\"url(#clip340)\" d=\"M257.533 1120.31 L263.739 1120.31 L263.739 1098.89 L256.987 1100.24 L256.987 1096.78 L263.702 1095.43 L267.501 1095.43 L267.501 1120.31 L273.707 1120.31 L273.707 1123.51 L257.533 1123.51 L257.533 1120.31 Z\" fill=\"#000000\" fill-rule=\"evenodd\" fill-opacity=\"1\" /><path clip-path=\"url(#clip340)\" d=\"M282.039 1120.31 L288.246 1120.31 L288.246 1098.89 L281.494 1100.24 L281.494 1096.78 L288.208 1095.43 L292.007 1095.43 L292.007 1120.31 L298.214 1120.31 L298.214 1123.51 L282.039 1123.51 L282.039 1120.31 Z\" fill=\"#000000\" fill-rule=\"evenodd\" fill-opacity=\"1\" /><path clip-path=\"url(#clip340)\" d=\"M60.7153 872.744 L68.3541 872.744 L68.3541 846.379 L60.044 848.045 L60.044 843.786 L68.3078 842.119 L72.9837 842.119 L72.9837 872.744 L80.6226 872.744 L80.6226 876.679 L60.7153 876.679 L60.7153 872.744 Z\" fill=\"#000000\" fill-rule=\"evenodd\" fill-opacity=\"1\" /><path clip-path=\"url(#clip340)\" d=\"M90.067 870.8 L94.9512 870.8 L94.9512 876.679 L90.067 876.679 L90.067 870.8 Z\" fill=\"#000000\" fill-rule=\"evenodd\" fill-opacity=\"1\" /><path clip-path=\"url(#clip340)\" d=\"M115.136 845.198 Q111.525 845.198 109.696 848.763 Q107.891 852.304 107.891 859.434 Q107.891 866.54 109.696 870.105 Q111.525 873.647 115.136 873.647 Q118.771 873.647 120.576 870.105 Q122.405 866.54 122.405 859.434 Q122.405 852.304 120.576 848.763 Q118.771 845.198 115.136 845.198 M115.136 841.494 Q120.946 841.494 124.002 846.101 Q127.081 850.684 127.081 859.434 Q127.081 868.161 124.002 872.767 Q120.946 877.351 115.136 877.351 Q109.326 877.351 106.247 872.767 Q103.192 868.161 103.192 859.434 Q103.192 850.684 106.247 846.101 Q109.326 841.494 115.136 841.494 Z\" fill=\"#000000\" fill-rule=\"evenodd\" fill-opacity=\"1\" /><path clip-path=\"url(#clip340)\" d=\"M145.298 845.198 Q141.687 845.198 139.858 848.763 Q138.053 852.304 138.053 859.434 Q138.053 866.54 139.858 870.105 Q141.687 873.647 145.298 873.647 Q148.932 873.647 150.738 870.105 Q152.567 866.54 152.567 859.434 Q152.567 852.304 150.738 848.763 Q148.932 845.198 145.298 845.198 M145.298 841.494 Q151.108 841.494 154.164 846.101 Q157.243 850.684 157.243 859.434 Q157.243 868.161 154.164 872.767 Q151.108 877.351 145.298 877.351 Q139.488 877.351 136.409 872.767 Q133.354 868.161 133.354 859.434 Q133.354 850.684 136.409 846.101 Q139.488 841.494 145.298 841.494 Z\" fill=\"#000000\" fill-rule=\"evenodd\" fill-opacity=\"1\" /><path clip-path=\"url(#clip340)\" d=\"M193.631 851.216 L183.053 861.841 L193.631 872.42 L190.877 875.221 L180.252 864.596 L169.627 875.221 L166.895 872.42 L177.451 861.841 L166.895 851.216 L169.627 848.416 L180.252 859.041 L190.877 848.416 L193.631 851.216 Z\" fill=\"#000000\" fill-rule=\"evenodd\" fill-opacity=\"1\" /><path clip-path=\"url(#clip340)\" d=\"M205.992 872.744 L213.631 872.744 L213.631 846.379 L205.321 848.045 L205.321 843.786 L213.585 842.119 L218.261 842.119 L218.261 872.744 L225.9 872.744 L225.9 876.679 L205.992 876.679 L205.992 872.744 Z\" fill=\"#000000\" fill-rule=\"evenodd\" fill-opacity=\"1\" /><path clip-path=\"url(#clip340)\" d=\"M245.344 845.198 Q241.733 845.198 239.904 848.763 Q238.099 852.304 238.099 859.434 Q238.099 866.54 239.904 870.105 Q241.733 873.647 245.344 873.647 Q248.978 873.647 250.784 870.105 Q252.612 866.54 252.612 859.434 Q252.612 852.304 250.784 848.763 Q248.978 845.198 245.344 845.198 M245.344 841.494 Q251.154 841.494 254.21 846.101 Q257.288 850.684 257.288 859.434 Q257.288 868.161 254.21 872.767 Q251.154 877.351 245.344 877.351 Q239.534 877.351 236.455 872.767 Q233.4 868.161 233.4 859.434 Q233.4 850.684 236.455 846.101 Q239.534 841.494 245.344 841.494 Z\" fill=\"#000000\" fill-rule=\"evenodd\" fill-opacity=\"1\" /><path clip-path=\"url(#clip340)\" d=\"M257.834 846.072 L264.04 846.072 L264.04 824.65 L257.288 826.004 L257.288 822.543 L264.003 821.189 L267.802 821.189 L267.802 846.072 L274.008 846.072 L274.008 849.269 L257.834 849.269 L257.834 846.072 Z\" fill=\"#000000\" fill-rule=\"evenodd\" fill-opacity=\"1\" /><path clip-path=\"url(#clip340)\" d=\"M284.955 846.072 L298.214 846.072 L298.214 849.269 L280.384 849.269 L280.384 846.072 Q282.547 843.833 286.271 840.072 Q290.014 836.292 290.973 835.201 Q292.797 833.151 293.512 831.74 Q294.246 830.311 294.246 828.938 Q294.246 826.7 292.666 825.289 Q291.105 823.878 288.584 823.878 Q286.798 823.878 284.804 824.499 Q282.829 825.12 280.572 826.38 L280.572 822.543 Q282.867 821.621 284.86 821.151 Q286.854 820.681 288.509 820.681 Q292.873 820.681 295.468 822.863 Q298.064 825.045 298.064 828.693 Q298.064 830.424 297.405 831.985 Q296.766 833.527 295.054 835.633 Q294.584 836.179 292.064 838.793 Q289.544 841.388 284.955 846.072 Z\" fill=\"#000000\" fill-rule=\"evenodd\" fill-opacity=\"1\" /><path clip-path=\"url(#clip340)\" d=\"M60.7153 598.505 L68.3541 598.505 L68.3541 572.14 L60.044 573.806 L60.044 569.547 L68.3078 567.88 L72.9837 567.88 L72.9837 598.505 L80.6226 598.505 L80.6226 602.44 L60.7153 602.44 L60.7153 598.505 Z\" fill=\"#000000\" fill-rule=\"evenodd\" fill-opacity=\"1\" /><path clip-path=\"url(#clip340)\" d=\"M90.067 596.561 L94.9512 596.561 L94.9512 602.44 L90.067 602.44 L90.067 596.561 Z\" fill=\"#000000\" fill-rule=\"evenodd\" fill-opacity=\"1\" /><path clip-path=\"url(#clip340)\" d=\"M105.183 567.88 L123.539 567.88 L123.539 571.815 L109.465 571.815 L109.465 580.288 Q110.484 579.94 111.502 579.778 Q112.521 579.593 113.539 579.593 Q119.326 579.593 122.706 582.764 Q126.085 585.936 126.085 591.352 Q126.085 596.931 122.613 600.033 Q119.141 603.112 112.821 603.112 Q110.646 603.112 108.377 602.741 Q106.132 602.371 103.724 601.63 L103.724 596.931 Q105.808 598.065 108.03 598.621 Q110.252 599.176 112.729 599.176 Q116.733 599.176 119.071 597.07 Q121.409 594.963 121.409 591.352 Q121.409 587.741 119.071 585.635 Q116.733 583.528 112.729 583.528 Q110.854 583.528 108.979 583.945 Q107.127 584.362 105.183 585.241 L105.183 567.88 Z\" fill=\"#000000\" fill-rule=\"evenodd\" fill-opacity=\"1\" /><path clip-path=\"url(#clip340)\" d=\"M145.298 570.959 Q141.687 570.959 139.858 574.524 Q138.053 578.065 138.053 585.195 Q138.053 592.301 139.858 595.866 Q141.687 599.408 145.298 599.408 Q148.932 599.408 150.738 595.866 Q152.567 592.301 152.567 585.195 Q152.567 578.065 150.738 574.524 Q148.932 570.959 145.298 570.959 M145.298 567.255 Q151.108 567.255 154.164 571.862 Q157.243 576.445 157.243 585.195 Q157.243 593.922 154.164 598.528 Q151.108 603.112 145.298 603.112 Q139.488 603.112 136.409 598.528 Q133.354 593.922 133.354 585.195 Q133.354 576.445 136.409 571.862 Q139.488 567.255 145.298 567.255 Z\" fill=\"#000000\" fill-rule=\"evenodd\" fill-opacity=\"1\" /><path clip-path=\"url(#clip340)\" d=\"M193.631 576.977 L183.053 587.602 L193.631 598.181 L190.877 600.982 L180.252 590.357 L169.627 600.982 L166.895 598.181 L177.451 587.602 L166.895 576.977 L169.627 574.177 L180.252 584.801 L190.877 574.177 L193.631 576.977 Z\" fill=\"#000000\" fill-rule=\"evenodd\" fill-opacity=\"1\" /><path clip-path=\"url(#clip340)\" d=\"M205.992 598.505 L213.631 598.505 L213.631 572.14 L205.321 573.806 L205.321 569.547 L213.585 567.88 L218.261 567.88 L218.261 598.505 L225.9 598.505 L225.9 602.44 L205.992 602.44 L205.992 598.505 Z\" fill=\"#000000\" fill-rule=\"evenodd\" fill-opacity=\"1\" /><path clip-path=\"url(#clip340)\" d=\"M245.344 570.959 Q241.733 570.959 239.904 574.524 Q238.099 578.065 238.099 585.195 Q238.099 592.301 239.904 595.866 Q241.733 599.408 245.344 599.408 Q248.978 599.408 250.784 595.866 Q252.612 592.301 252.612 585.195 Q252.612 578.065 250.784 574.524 Q248.978 570.959 245.344 570.959 M245.344 567.255 Q251.154 567.255 254.21 571.862 Q257.288 576.445 257.288 585.195 Q257.288 593.922 254.21 598.528 Q251.154 603.112 245.344 603.112 Q239.534 603.112 236.455 598.528 Q233.4 593.922 233.4 585.195 Q233.4 576.445 236.455 571.862 Q239.534 567.255 245.344 567.255 Z\" fill=\"#000000\" fill-rule=\"evenodd\" fill-opacity=\"1\" /><path clip-path=\"url(#clip340)\" d=\"M257.834 571.833 L264.04 571.833 L264.04 550.411 L257.288 551.765 L257.288 548.304 L264.003 546.95 L267.802 546.95 L267.802 571.833 L274.008 571.833 L274.008 575.03 L257.834 575.03 L257.834 571.833 Z\" fill=\"#000000\" fill-rule=\"evenodd\" fill-opacity=\"1\" /><path clip-path=\"url(#clip340)\" d=\"M284.955 571.833 L298.214 571.833 L298.214 575.03 L280.384 575.03 L280.384 571.833 Q282.547 569.594 286.271 565.833 Q290.014 562.053 290.973 560.962 Q292.797 558.912 293.512 557.501 Q294.246 556.072 294.246 554.699 Q294.246 552.461 292.666 551.05 Q291.105 549.639 288.584 549.639 Q286.798 549.639 284.804 550.26 Q282.829 550.881 280.572 552.141 L280.572 548.304 Q282.867 547.382 284.86 546.912 Q286.854 546.442 288.509 546.442 Q292.873 546.442 295.468 548.624 Q298.064 550.805 298.064 554.454 Q298.064 556.184 297.405 557.746 Q296.766 559.288 295.054 561.394 Q294.584 561.94 292.064 564.554 Q289.544 567.149 284.955 571.833 Z\" fill=\"#000000\" fill-rule=\"evenodd\" fill-opacity=\"1\" /><path clip-path=\"url(#clip340)\" d=\"M63.9328 324.266 L80.2522 324.266 L80.2522 328.201 L58.3079 328.201 L58.3079 324.266 Q60.9699 321.511 65.5532 316.882 Q70.1597 312.229 71.3402 310.887 Q73.5856 308.363 74.4652 306.627 Q75.368 304.868 75.368 303.178 Q75.368 300.424 73.4235 298.688 Q71.5022 296.951 68.4004 296.951 Q66.2013 296.951 63.7477 297.715 Q61.3171 298.479 58.5393 300.03 L58.5393 295.308 Q61.3634 294.174 63.8171 293.595 Q66.2708 293.016 68.3078 293.016 Q73.6782 293.016 76.8726 295.701 Q80.067 298.387 80.067 302.877 Q80.067 305.007 79.2568 306.928 Q78.4698 308.826 76.3633 311.419 Q75.7846 312.09 72.6828 315.308 Q69.581 318.502 63.9328 324.266 Z\" fill=\"#000000\" fill-rule=\"evenodd\" fill-opacity=\"1\" /><path clip-path=\"url(#clip340)\" d=\"M90.067 322.322 L94.9512 322.322 L94.9512 328.201 L90.067 328.201 L90.067 322.322 Z\" fill=\"#000000\" fill-rule=\"evenodd\" fill-opacity=\"1\" /><path clip-path=\"url(#clip340)\" d=\"M115.136 296.72 Q111.525 296.72 109.696 300.285 Q107.891 303.826 107.891 310.956 Q107.891 318.062 109.696 321.627 Q111.525 325.169 115.136 325.169 Q118.771 325.169 120.576 321.627 Q122.405 318.062 122.405 310.956 Q122.405 303.826 120.576 300.285 Q118.771 296.72 115.136 296.72 M115.136 293.016 Q120.946 293.016 124.002 297.623 Q127.081 302.206 127.081 310.956 Q127.081 319.683 124.002 324.289 Q120.946 328.873 115.136 328.873 Q109.326 328.873 106.247 324.289 Q103.192 319.683 103.192 310.956 Q103.192 302.206 106.247 297.623 Q109.326 293.016 115.136 293.016 Z\" fill=\"#000000\" fill-rule=\"evenodd\" fill-opacity=\"1\" /><path clip-path=\"url(#clip340)\" d=\"M145.298 296.72 Q141.687 296.72 139.858 300.285 Q138.053 303.826 138.053 310.956 Q138.053 318.062 139.858 321.627 Q141.687 325.169 145.298 325.169 Q148.932 325.169 150.738 321.627 Q152.567 318.062 152.567 310.956 Q152.567 303.826 150.738 300.285 Q148.932 296.72 145.298 296.72 M145.298 293.016 Q151.108 293.016 154.164 297.623 Q157.243 302.206 157.243 310.956 Q157.243 319.683 154.164 324.289 Q151.108 328.873 145.298 328.873 Q139.488 328.873 136.409 324.289 Q133.354 319.683 133.354 310.956 Q133.354 302.206 136.409 297.623 Q139.488 293.016 145.298 293.016 Z\" fill=\"#000000\" fill-rule=\"evenodd\" fill-opacity=\"1\" /><path clip-path=\"url(#clip340)\" d=\"M193.631 302.738 L183.053 313.363 L193.631 323.942 L190.877 326.743 L180.252 316.118 L169.627 326.743 L166.895 323.942 L177.451 313.363 L166.895 302.738 L169.627 299.938 L180.252 310.562 L190.877 299.938 L193.631 302.738 Z\" fill=\"#000000\" fill-rule=\"evenodd\" fill-opacity=\"1\" /><path clip-path=\"url(#clip340)\" d=\"M205.992 324.266 L213.631 324.266 L213.631 297.9 L205.321 299.567 L205.321 295.308 L213.585 293.641 L218.261 293.641 L218.261 324.266 L225.9 324.266 L225.9 328.201 L205.992 328.201 L205.992 324.266 Z\" fill=\"#000000\" fill-rule=\"evenodd\" fill-opacity=\"1\" /><path clip-path=\"url(#clip340)\" d=\"M245.344 296.72 Q241.733 296.72 239.904 300.285 Q238.099 303.826 238.099 310.956 Q238.099 318.062 239.904 321.627 Q241.733 325.169 245.344 325.169 Q248.978 325.169 250.784 321.627 Q252.612 318.062 252.612 310.956 Q252.612 303.826 250.784 300.285 Q248.978 296.72 245.344 296.72 M245.344 293.016 Q251.154 293.016 254.21 297.623 Q257.288 302.206 257.288 310.956 Q257.288 319.683 254.21 324.289 Q251.154 328.873 245.344 328.873 Q239.534 328.873 236.455 324.289 Q233.4 319.683 233.4 310.956 Q233.4 302.206 236.455 297.623 Q239.534 293.016 245.344 293.016 Z\" fill=\"#000000\" fill-rule=\"evenodd\" fill-opacity=\"1\" /><path clip-path=\"url(#clip340)\" d=\"M257.834 297.594 L264.04 297.594 L264.04 276.171 L257.288 277.526 L257.288 274.065 L264.003 272.711 L267.802 272.711 L267.802 297.594 L274.008 297.594 L274.008 300.791 L257.834 300.791 L257.834 297.594 Z\" fill=\"#000000\" fill-rule=\"evenodd\" fill-opacity=\"1\" /><path clip-path=\"url(#clip340)\" d=\"M284.955 297.594 L298.214 297.594 L298.214 300.791 L280.384 300.791 L280.384 297.594 Q282.547 295.355 286.271 291.594 Q290.014 287.813 290.973 286.723 Q292.797 284.673 293.512 283.262 Q294.246 281.833 294.246 280.46 Q294.246 278.222 292.666 276.811 Q291.105 275.4 288.584 275.4 Q286.798 275.4 284.804 276.021 Q282.829 276.642 280.572 277.902 L280.572 274.065 Q282.867 273.143 284.86 272.673 Q286.854 272.203 288.509 272.203 Q292.873 272.203 295.468 274.385 Q298.064 276.566 298.064 280.215 Q298.064 281.945 297.405 283.507 Q296.766 285.049 295.054 287.155 Q294.584 287.701 292.064 290.315 Q289.544 292.91 284.955 297.594 Z\" fill=\"#000000\" fill-rule=\"evenodd\" fill-opacity=\"1\" /><g clip-path=\"url(#clip342)\">\n<image width=\"1666\" height=\"1439\" xlink:href=\"data:image/png;base64,\niVBORw0KGgoAAAANSUhEUgAABoIAAAWfCAYAAACPxuRcAAAgAElEQVR4nOzdf7AtWXsX9Gede+d9\nZ955ZxKSvCFvQCoFivxQiKKpCEJFRSJaKaFQEKVQoyKmNBqrEEhhQgwYSMRgwm9iYkU0xpRSEUEp\npFAkBlMRBARSSCUCQopKJcL8ujNz793LP3Z379Xda3X3vvf82KfP51N1ZvfuXr26z5n/7ree50k5\n5wAAAAAAAGB/ru76BQAAAAAAALgZgiAAAAAAAICdEgQBAAAAAADslCAIAAAAAABgpwRBAAAAAAAA\nOyUIAgAAAAAA2ClBEAAAAAAAwE4JggAAAAAAAHZKEAQAAAAAALBTgiAAAAAAAICdEgQBAAAAAADs\nlCAIAAAAAABgpwRBAAAAAAAAOyUIAgAAAAAA2ClBEAAAAAAAwE4JggAAAAAAAHZKEAQAAAAAALBT\ngiAAAAAAAICdEgQBAAAAAADslCAIAAAAAABgpwRBAAAAAAAAOyUIAgAAAAAA2ClBEAAAAAAAwE4J\nggAAAAAAAHZKEAQAAAAAALBTgiAAAAAAAICdEgQBAAAAAADslCAIAAAAAABgpwRBAAAAAAAAOyUI\nAgAAAAAA2ClBEAAAAAAAwE4JggAAAAAAAHZKEAQAAAAAALBTgiAAAAAAAICdEgQBAAAAAADslCAI\nAAAAAABgpwRBAAAAAAAAOyUIAgAAAAAA2ClBEAAAAAAAwE4JggAAAAAAAHZKEAQAAAAAALBTgiAA\nAAAAAICdEgQBAAAAAADslCAIAAAAAABgpwRBAAAAAAAAOyUIAgAAAAAA2ClBEAAAAAAAwE4JggAA\nAAAAAHZKEAQAAAAAALBTgiAAAAAAAICdEgQBAAAAAADslCAIAAAAAABgpwRBAAAAAAAAOyUIAgAA\nAAAA2ClBEAAAAAAAwE4JggAAAAAAAHZKEAQAAAAAALBTgiAAAAAAAICdEgQBAAAAAADslCAIAAAA\nAABgpwRBAAAAAAAAOyUIAgAAAAAA2ClBEAAAAAAAwE4JggAAAAAAAHZKEAQAAAAAALBTgiAAAAAA\nAICdEgQBAAAAAADslCAIAAAAAABgpwRBAAAAAAAAOyUIAgAAAAAA2ClBEAAAAAAAwE4JggAAAAAA\nAHZKEAQAAAAAALBTgiAAAAAAAICdEgQBAAAAAADslCAIAAAAAABgpwRBAAAAAAAAOyUIAgAAAAAA\n2ClBEAAAAAAAwE4JggAAAAAAAHZKEAQAAAAAALBTgiAAAAAAAICdEgQBAAAAAADslCAIAAAAAABg\npwRBAAAAAAAAOyUIAgAAAAAA2ClBEAAAAAAAwA49y/95Tjnnu34PAAAAAAAAboCKIAAAAAAAgJ35\n8Pm35AhBEAAAAAAAwA4dO8IJggAAAAAAAHbkw+ffPMwFEgQBAAAAAADszEcefXGKEAQBAAAAAADs\nxgfPvin3beEiIh7f4bsAAAAAAABwrXLkUw6kIggAAAAAAGAPPnj2e7sI6JQECYIAAAAAAAB25KOP\n/7XUHwuCAAAAAAAA7rn3n/3u0WygnhlBAAAAAAAA91zuBwOl8XlBEAAAAAAAwD325OnvzBEROXKk\nPE6CtIYDAAAAAADYiVdf+ZWjJEgQBAAAAAAAcE89efrb54OBCoIgAAAAAACAe+o4G+gQEfU8yIwg\nAAAAAACAe+i9D7/xOBuoy4BSmq9REQQAAAAAAHCvHauCXnvlS2ZRkCAIAAAAAADgnnnvw29YnA3U\nEwQBAAAAAADcI+9+8PU550McZwMtEwQBAAAAAADcOzlyPraEO7aGq3t8a+8DAAAAAADAS3n3g68v\nUp8cufv2+ke/dDYfKEJFEAAAAAAAwP2Rp9U/fVVQnSAIAAAAAADgHnjnydflHLkSBrUJggAAAAAA\nAO6LfIgch4jcrgIqCYIAAAAAAAAu3DtPvu5UBpRzHCuDDhGR4/WPfll1PlBExOPbeDkAAAAAAABe\nRo6IIu85NolbpSIIAAAAAADggr3z5GvzcS7QNPrJqy3iBEEAAAAAAACXLD+PiEPUwqCPv/armm3h\nIgRBAAAAAAAAF+ud935Tkfwcugqg42ygLcwIAgAAAAAAuFi1dnDd4WIt0JEgCAAAAAAA4AK9897X\n5GP1T4px6rOtGihCazgAAAAAAIALlSPn40+tMujjr/3q1ZogFUEAAAAAAAAX5u13f0Muw5+cI1KK\n2NQPrqAiCAAAAAAA4OLkyfEhcj7EsVWc1nAAAAAAAAD30tvvfnWX9MzbwZ1axW0jCAIAAAAAALhE\njdlAETk+/rFfu6lHnBlBAAAAAAAAF+Ltt78yR7qKiNwFQSmO30+5T0rb63wEQQAAAAAAABcjR+Ri\nDlCOOM4F6gOh6GYFbaM1HAAAAAAAwAV4++2vqMwGKoKhIQAyIwgAAAAAAODeePvtX1ekO0VFUK+o\nEnrj9X9/03ygCEEQAAAAAADAncs5xzEA6o/7n8IZs4F6ZgQBAAAAAADcobfe+vIcEZGHeUC5O45I\nKSKiKwDKh9PxRiqCAAAAAAAALsKpKqg/zvlwOlcebyQIAgAAAAAAuCNv/e1fk5dX5K5V3NEbH/+q\ns0qCBEEAAAAAAAB3JkcUQc+x6meaDa1kRQvMCAIAAAAAALgDb/2tf++Y8KRDRE7HgUDDcKDhP3Gs\n68lx7nygCEEQAAAAAADA3cr5mPEc+llAxbWUom8Pl9L5QZDWcAAAAAAAALfsrf/vV437vZXt4SJ3\nLeIOp++R4403fsPZSZAgCAAAAAAA4NYdJuFPxdr1DQRBAAAAAAAAt+itH/l38zHkmYRB+RCjvnDp\navz9BZgRBAAAAAAAcBdyjkiHiHwVx1CoO5+6/xQh0Zuf8jXnDwgKQRAAAAAAAMCteetHvix3Sc/R\nEAZ1oc8QBqXjl5y74xejNRwAAAAAAMAteOuHvzTP2r9FTGYB5flsoJeYFSQIAgAAAAAAuDV5Pgto\nKl1ffCMIAgAAAAAAuGFv/fCXFsnPWhh0OF7vKoHe/NSvfeHecIIgAAAAAACAmzZr79aHQYf62pxj\nCIRegiAIAAAAAADgBr39Q1+SUxwaYVAX+Myqg3IRCL04QRAAAAAAAMBNyzkWw6Cco94q7uWCoJRf\nMkkCAAAAAACg7u0f+pJxEJNS5LiKSLWxP6k73/9EvPlp//ELzweKUBEEAAAAAABwc6YFOc3KoIh5\nddDLF/MIggAAAAAAAG7A23/zV+SohT5DGHSo3NXNDMqtsOg8giAAAAAAAICbkvtgpxIG5dyFQa3Z\nQLWg6DyCIAAAAAAAgGt2rAbqtMKgOIZBaWgHN/bmp3/DS80HihAEAQAAAAAAXKu3f/BfybO2bwth\nUOTDqVXcNbSDKwmCAAAAAAAArlU+/lTawdXDoBhaxaU4RLrGQCjla06WAAAAAAAAHqq3f/CLT8FL\nShFx1X0WUoqIdPqseOMTv+Ol28JFqAgCAAAAAAC4Ga0KoH4mUGM20HUSBAEAAAAAAFyDYzXQebOB\nop8NFDcTCAmCAAAAAAAArsVxzs8s1FmZDXT6uf5AyIwgAAAAAACAl/TO3/gX8ynESZHTVczm/6zO\nBkoRKeKNz/zd1zIfKCLi8XVtBAAAAAAA8BC98zd++bQEKFI+zMOgsjgnRczDoHztHeK0hgMAAAAA\nALh2xzBonuzkcTu4G5oN1BMEAQAAAAAAvKB3/vovOyU5s3E8S2HQIYa5QTcYCGkNBwAAAAAA8KJy\n/598+p7SaMGxTVyKWX1OHwClFJFTROR447O+6drmA0UIggAAAAAAAF7IO//vv3BMf4YwKI5jf6ph\nUEROh27BJOsZKoKuNQOKCEEQAAAAAADASyrauuW8GAZFdMU/1dDn+tvDmREEAAAAAABwpnf/2i/N\nzeCmr/CpzAyKOHRzg2qzg66fiiAAAAAAAIBz9SFP6sp/phVAzcqgiFN1UO5mBx2vv/HJb7n23nCC\nIAAAAAAAgDO8+1d/SY6I49yfvsInpcj5aiEMihi3gzsGSSkfL+b06EbeVWs4AAAAAACAjd79K7+4\nHAgUqW/vlnOkOMzbweU8/qm6uRZxgiAAAAAAAIDNuvk/w9fxcTUMGuYFFZ8Tb3zym6+9LVyE1nAA\nAAAAAACbvPv//DOnBGc296eTc6R0mLeJ666NzNrFXT8VQQAAAAAAAOfIcQp1cr0d3LEy6BDz6p8t\nreKuj4ogAAAAAACAFe/+wC/KpwqffMp3cj4W9eQYVwDlPNT65GrlT7fHzRYEqQgCAAAAAABYN63u\nyV3FT0zm/8RkTY6Uc6M6KEXkHB//7G+9sThIRRAAAAAAAMCCd3/gF+Yh7GnN9WlVBvVhUHdPHm7v\nF98sFUEAAAAAAAAN737/L8ineUCTqp/KbKB6ZVBEX0GU4nCsEGrtcc0EQQAAAAAAAJt0IU/fEi4O\n9TBoCIwqIc/o/oiP/9j/4kanBAmCAAAAAAAAKt79/l+QU56GPX3VT3++EgaV12sVP+l22sJFmBEE\nAAAAAABQ1wU5KfWxTTqdj6JdXDpE5KvJbKD+2mnpcD1HpDhEddbQNVMRBAAAAAAAMPHeX/6inIrZ\nQGlpls9QGXSoX8uHGKqEjidnLeJuiiAIAAAAAACg8N5f/qI+ATqdnLZ5a84GOkS17VulTdzrP+7b\nb7wkSGs4AAAAAACAkRwRqWvtdspqUs6nLm+Rj7nOqB1cHmdA01Zx6fbrcwRBAAAAAAAAnff+0j+Z\nI11143u6YGcIdHJ3upsY1GVF8zCoC5By6q6l8bVbmA3UEwQBAAAAAACUitlAp8wmja91x/UwqFzX\nBT/pan7uFgiCAAAAAAAAoqsGiohT5U6cPqdBTy8fq4RyRJftNFrFTW5//XO+41aSoNtvRgcAAAAA\nAHCJymqf0fmYVQJNF6R8/KnucQezgXqCIAAAAAAA4MF78n1fmFO0wp4u4Clbu1XCoGN1UH+tvH6I\nyIdij0bgdAO0hgMAAAAAAB60J9/3hcdkpg9pUooUuYtr+g5uRau4fnZQYzbQ6I5hiFA/Kyji9c/5\n/bczICgEQQAAAAAAAINje7fD8Tgicjn3p9UerjEbKKWI3JoZdEsEQQAAAAAAwIP15C/+vK7wZ1L5\nE9GFPWmc8YxMgp1JdVCeVgsdF73Yi74gQRAAAAAAAPBw5UMR4MxDmpTzqcVbfYOh69vw2e0z3Bvl\n+dstCUp5NswIAAAAAABg/578hX/8VNKTUkS6Oh7nPAl+0rG6J6VIh8NwPNdVD/X7DKdPaz/2E/67\nWy0JUhEEAAAAAAA8OE/+ws8dV8rk/j+jXm/DxTRERsVxYzbQrLCoK8rJV4+u5d3PIQgCAAAAAADo\nA6Cyk9oo6MmRhmv9cVppGzd9xO13abtaXwIAAAAAALAf7//5f/SY3+TDOJyZHq/lNjkfo6BReJSO\nc4fytLoo4vWf8J232hYuQkUQAAAAAADw0PQhTc7H3CYi5v3c4hTwLFX85NzdmSOnq0rVT9crbmvV\n0DVTEQQAAAAAADwY7/9f/8ipGihiUvkzqe7pv8+qhuZhT54PBjrde0chUISKIAAAAAAA4IF4/899\nQa6FMinnY91OPkSkNKkQKoKiFMe2b/21C54N1BMEAQAAAAAAD0QX6qQ0qdQp6nm6Vm85RczCoD7Q\nybkLhWLYo58VlCN1txUhUc7xsZ/4B++kLEgQBAAAAAAA7N77f/bnFIU+XYpTBDnT9m/HMKjMbiZV\nPdOWb939qdh6dOKOmBEEAAAAAAA8HDkf27tVZ/1M160EOLXWcN19fZu5uyYIAgAAAAAAdu2DP/MP\njxOdssXbcHyYBT8pH46BTiswqtwzWRAROT72E//QnSVCWsMBAAAAAAC79f6f+dk55YiI3K7g6T+H\ny+OWb/OZQTG+p8+CRvunSGsVRbdAEAQAAAAAAOzWsaKnzGvSZL5PHodB/eJaGBQxD5P6FnOp27e/\n725HAw0EQQAAAAAAwC598H/+rFMUU4Q5KfIpFJpaCoOGrGfhvoiIq8uZzCMIAgAAAAAAHoYckaKo\nEKoFOhGrlUEROXKkeiA0KQN67Sf94TubDxQhCAIAAAAAAHbogz/9M08lPGUbuF7Z0i1yVyqUJtc7\no8AnjzvBTa+nFNG1o6tWHN0yQRAAAAAAALArH/ypz8+jpKbRzi3lY4u4lA8RKc3bvuV8mvVTmQ2U\nikRoqBAaBUjX+3u9iMtpUgcAAAAAAHBdcj79zCqBhi/HMKc7nyJPrsfp/un5yXNS5fprP/mP3HkU\npCIIAAAAAADYjQ/+1OfPE5khDCovpeLaad1Q1FNtE5eP922YDXQpBEEAAAAAAMAufPi9n3dMcmpB\nzbQyqBrmRDsMGuYIFdtMZgOlfDi2iFva/5ZpDQcAAAAAAOxGykUbt0kbuNNhnlUCjbTaxA33HmJo\nF1c+K+fjvKELIggCAAAAAADuvQ+/9/OG1CZFRDocjrU5K7N9RqHO5HozDBru7+6teO2n/E8XURKk\nNRwAAAAAALAvRZVOSukY1fTnhpZtk6qhvuXbZDZQ6tbm1mygnIdxQ73UCo/ugIogAAAAAADgXvvw\nez8vR6sl29CyLU/zmkp7uFoFUJ5UB02u9wOFRu3mLicISvmCUikAAAAAAIBzfPg9PyNHujq2aUtX\n9aqdUkqRl9akFNGq/unv7yOl6Zru+a/+PX/sItrCRagIAgAAAAAA7ruhGqiY+7M2G6j8Pr3eqv7p\nrqd8mLWDi4ju3GUV4JgRBAAAAAAA3Esffs/PGKcu/bye0dyeeWKTcj7GNSl1y/NsNtD4hmbqM3aB\nXdgEQQAAAAAAwL3z4f/+9+WhjVvkGIKZPozpP1PqKobG7d5SURmUUpqHQZFP2w7bl/cfYjR1qJ8V\ndGG0hgMAAAAAAO6fnE9d2NbawA1t3trrUmufstXcpKVcyodjoFQESK/+tD9+MfOBIgRBAAAAAADA\nPfPhn/zcYyIzhDRRhDTTmT/d/KBpkDOV86hKqHb9NItodOGcV791WsMBAAAAAAD3VJ7nMIduPlBt\nrk9fGZSKNnKTdakLgvoZQuOL9fqa1AVEuTY36I4JggAAAAAAgHvj6Xf/9Dyd1xMRjYqgVhgU45k+\n08An54W5QcU8ov49un1e/dw/cXFJkCAIAAAAAAC4F55+90/PETlSTpFrkUsf7CyGPX0VUY5RRdE0\nXMqn+p6hOqhsG5ci7sMEHkEQAAAAAABwTzTmADUrf7q5PkMINA2DJsetSqOraeDT3XNx9T9zgiAA\nAAAAAODiPf3unzZKf9JQ1RNddVCKeTozrRCKqKc3k1lDtflCNd1soIi0/Z5bdvk1SwAAAAAAwIP2\n9H/7e/tEpzh7Ok65/CzW5MlxXyXUMlQR5dG9KedIk3OjPVOKj37ud11kEqQiCAAAAAAAuHBdAHPI\nx4KeWfVNF9REtOcHRTQqgyZVRH0YlNLpfL93v2T6/KEy6PKoCAIAAAAAAC7W0+/6qXlczbNQ0RMR\n41Cosn5aGVSr9FncvrL2nPtvmYogAAAAAADgIj39rp96SlhyEdwMgVBrNk8ePo8VQrWqnzhV8gzj\nhcq9ajOHjmtSzscndOs/+vf/yYtsCxehIggAAAAAALhUzUqbYo7PKCA6SbkMg7p7WntX5/8cJs8Y\nVxClC64CKqkIAgAAAAAALs7TP/FT8mmmTzoGMGk8s2cUzvRfGxVCi7ODImaFP6d9i6qg2Wygyw+D\nBEEAAAAAAMDl2RqylOvS7KBcGClHFwY1EqEybJrcW+0Sl3N85B/4nottCxehNRwAAAAAAHBhnv6v\nP3k8G+hwWGwDN1qb8/z4tKDeJm7YMzfui1NV0j2oAioJggAAAAAAgIvx9I//pHbSUs7sWQuD8iGG\nYGe8YDkMKu+bzQY6dNfvD0EQAAAAAABwebZU3rQqhEbnzwyD+vvyoR043aPKoJTvyYsCAAAAAAD7\n9vR/+buPoUXfhi2l8fFUeb3/XpNSRKTG9bQ8N+jq0Wx9//GRf/B7L3o+UISKIAAAAAAA4AIMIVDE\nuNpmqaClnB+0pFkZFDGuDqpV/0wrg/p1F58BRYQgCAAAAAAAuARLLdjKIGZtNlBrv9UwqBEIlW3i\nRrfcj1lBj+/6BQAAAAAAgIft2f/8d+UUffzSH00qbqZBUK3NWy0sKteNzg//KTfowqAUOS28Q0rx\nkc/7P+5FSZAgCAAAAAAAuDPP/tjfOUln8ulwalrxU5sfVKsKGoVGfVVQqlwr1tSaquXcCJAulyAI\nAAAAAAC4CKlv3xYpusKc7mulMqcPgZYqhPq1tet9qNOHQrP7y1ZwRUAVV+sziS5IyvfoZQEAAAAA\ngP0YVwNNFNU+OfXVOZV2bf3a8rO1X+v6cL6+5vT845qPfP6fvjclQZW6JgAAAAAAgJv17I/++Fyd\n6dMrr3XHqVXcsqXopd+n9azWtcocoftEEAQAAAAAANydw2F1SYoc6XBYCGtifK1fW1tTfs4fVD89\ntKy7f8wIAgAAAAAAbtWzP/rjj6lKK5ipzfPpL0VXSFS0jqutW5wNtPFZx2vFbKBWa7oLZkYQAAAA\nAABwa4aWcNMApgx2+uP+/FRKkVOKdMiRl2b/lPc39qkeRzrmPZPZQBE5XvmH/uy9SoK0hgMAAAAA\nAG5PqxXcdCbQUiFL7lrFRY4U62tHn9NrtVCqWvlzPwtrtIYDAAAAAABuxbM/8jnjlnC9Vnu2tXXd\nmqGAqFUZ1Ic91dCnpQ+YViqOLpwgCAAAAAAAuHFDCFQqg5mlkGY2t2d+fRYGLc0Pmu5Tu9afuzrN\nBrpvbeEitIYDAAAAAADuQq0VXK0SaBrStKqF8rhNXLNlXK3tXPn8WXXSYbn13IUTBAEAAAAAADfq\n2R/+cfWWcEtaIU553AiD0uEwC4Ze2JaZRRdMazgAAAAAAODGjEKgPkxZmwm0tU1cbb/J9eOVHDml\niJismz6jbAk3upbilZ/55+5dW7gIFUEAAAAAAMBtaLV4a61rtYo7Z6/jxeUWcdPnVKt/7mc1UIQg\nCAAAAAAAuCFDNVBpbSbQVNfmbVNwtKhS0LPU9u0et4MrCYIAAAAAAIBr9+x//Dvac4FqFTgvMhOo\ntl9LznFWZU/xvFd+1p+/l23hIswIAgAAAAAAbkIfpKSIiBSRDxGpUp/SavO2ZUZQazZQ5d7UXc/d\n64wqhFqzgVI6ViTdY4IgAAAAAADgWj37H37MKZXJ3X/6ipw+dJmGNWVVz1IIVIY2Ee19Znvk4+PL\n1+rXbQmX7imt4QAAAAAAgGszCoF6ua+qyZOfiFG7tmnLuPLcdM103XRNs5Xc8XzKjUqfncwG6gmC\nAAAAAACAa5OWQpScIw59SNOfW1i7GOhM1tXOL12PGHWHm93XeeVn/8V7Ox8oQms4AAAAAADgmjz/\nQ5+dZ6HLrBVcI6CptYybVgWtzQ1aahNXWZP6dnURkafzi5Za1N0jgiAAAAAAAOClPf+DnzyN3YkY\ngpTcfa/0i6vs0lUKbZkR1Ap9onL/NBDqr4/uaex1z2kNBwAAAAAAXK+ikidN27utzvSpzAya7Lmp\nHVzrvWrXUoqUD7O5Qa/8nO+79yVBKoIAAAAAAICX8vy//6y8VqmTiuNqTDMKcfp9+pWVCp5WBVCt\nNd30e6MF3aw93A7s7zcCAAAAAABuzfM/8KO39VErK3mWqnr6tYfny2v6deVn69pSZVEhRZ5VBd13\nKe+ozx0AAAAAAHB7qiFQWXHTmvXTr4mI3K+rVRMN66/a1/r9ys9zrl9dzdbmSPHKF/yle98WLkJF\nEAAAAAAAcFPWZvnEqWVcmpxf3Ge6bkuFUS0E6gOoaWXQjqqCzAgCAAAAAADO9vwP/Oi8NBOoOqun\nsT4NS1J9flDkyWCh7nvr2bFwrTZPqKwKWqpMuocEQQAAAAAAwFmef+cnctnebVNwcjisryv2Szkf\ns5/hnj4M6tfEehhU3t8HPEuBUHfu8Rf837tJgrSGAwAAAAAAXk7ZXm2pFdzauohIRZu3eRozaQ83\n7Nd4Zi0kWqpi2iEVQQAAAAAAwGbPv/MTx9RkJdBZVAZClZZxqdg7RURuVhL1+6TTXlufPzysuOdw\nGLeJ2wFBEAAAAAAAsMnz7/xEfS5QL08qdlLaVn2z1GJuNQzqnxVdq7iIIRhqBT5Ls4F2Vh0kCAIA\nAAAAALYp5/xsCYRa83qm69ZsDYMiR8TVkANtfn7xOz3+x75/N/OBIswIAgAAAAAANnj++z/91BJu\nNJ9ng6V1tflBtXtyPrWMW7K1Pdzae+2EIAgAAAAAAFg0hEC9MkA5HJbnBU2DnqUAaXr9RcKgoTJo\nYf/WO+5Qyjv+5QAAAAAAgJfz/L/9tLxaZVNe7+fs1O4pZ/DU5ge19p2uS+kY9bTuTymG/nDlzKDe\n1VVlfcTjn/sDu2oLF2FGEAAAAAAAsGRaT1KLSiqVO8e1G2YCtdb212rBUs6RUorcCpyGqqBKkDQN\no1rvtRNawwEAAAAAAFXP/5tP63u0jVuuLeUmtZk/rQBobc10v8n51LeKawY5RRg0fW6lymiPBEEA\nAAAAAMDMKQSKU/CTYxIIbaikORza19ZCoC3rco4UsRAI5Yh8qAZJ5bk9toWLEAQBAAAAAAAt1eCl\n8hPFZ+3+rZU/tfW1vRr3jgKh6V61/co2cTtlRhAAAAAAADDy/Ds+Na+2SstFAnSIrgPbhnvWZgKN\n9o7ZbKCRxgyiFBH56mq+dvrsvlppp23hIiJS3nnSBQAAAAAAbPf8Oz51HBz0Aco0WKlJKYa5PEvZ\nyjnzeVKqX+/PNe6dBUG9q0ezfR7/vL+y2yRIRRAAAAAAABARlRCo1KrSGS/qcqAckRdCoVpbttae\nrQqipeqglI4t4ro3GFcV9VVAV/V9dsaMIAAAAAAAoK01t6c1P2j4zKfPpX2X9iuvrc0Wmr5bMTdo\ntj5d7T4A6qkIAgAAAAAA4vl//SmnZKSv1tk6x6e/Z7Ru8hmNyp5+r6VnTp+3tMf0dHlvfz0fumKl\nFI+/8K/uti1chIogAAAAAAB48J5/+5t5VAqrrL4AACAASURBVFWzWvnTuL5YtROnn9aa0fqF565d\nL6Scj23iRu3hKq3pdkpFEAAAAAAAPGDPv/3NcRpyTjgyDY5a83xm93Rzg2oBTe0damvKIGeo9Fmo\nGuraxOWyKijtv15m/78hAAAAAADQNoQvjWvTn/Ke2j6jPZvlP+MqoRfZp3+fSuDTqgzKk7WP/4m/\ntuu2cBGCIAAAAAAAeLCe/1dv5tkMn5Zz28YdDvXz/aNycX7p0auh0sJ9k3uGNnEPiNZwAAAAAADw\nAD3/tjdOicg0jJnWybTCmFYruHNaxQ3r0vy50/2G90unz6V3qJzL/T1r77QTgiAAAAAAAHjoyqqg\nHHGa4RPtcGa2RyNcmVbmNAOYHJEXwqB+r3KPWnVPK5TqzqecI19dxeOf/9cfRBKkNRwAAAAAADww\nz7/t4/X+aKNAqOjf1pof1H9OZwi1LK3J/XOXt2gGSUvzgibn07Rt3Y6pCAIAAAAAgAfk+bd9PJ8q\nffqDSenPNIw5p3Xbluqf1po+DFp6Vn9/q/qouu/GFnU7JAgCAAAAAIAH4vl/+XoxF6j7THmlBVw+\nfQ73rFTlLM3gKdf0Vtq5Va+Vpq3iVuYFPfqnfvDBJEKCIAAAAAAAeJAqbd9yVEKUmK8rTSOVsmVc\nRD0YqlUQVZ+7UB20VnlUe+YDrAgyIwgAAAAAAB6AUTVQzRC8rCU/3bW1GUIR2+cHta6Xc4PWZgdt\n2u+cTfZBEAQAAAAAADv3/Pd9LK/nO0Wokw9FHtQKaOIU0OS8HAb1n1vCoOmafv9WINRXHLWCn9l+\nDysMSvmB/cIAAAAAAPCQPP99HzsGAaOuaCnm5ypmbd1Wbihbr7WWpjSe6TNt19Z/b7VxS8XBdMlV\npf6lfF5EPPqiv/mg+sOpCAIAAAAAgIcgx7iCp2/vtlQpNFTzxHpFT7+wrN6pLplU/rQqdlrP6n+H\naZzTqgx64AUxgiAAAAAAANipUUu4qVEo1J9omfSCy4f6+tFWeX5++L4hDFqbLdTas7r24YZBgiAA\nAAAAANih59/6Wh4FMkthyCGPg6GtmdCSsgJprUKo9X6LgdBCUNQ499DawkVEPL7rFwAAAAAAAK7X\n82997ZiElIFIrZ3aTBfYpG5x9Z5JEjSsqWxePj8tvMBo3do+/Xyh4npaW5vr84MeAEEQAAAAAADs\nXTnrp0x3ppnLqANc/yW1A6RcC4MagU//7FrQM90vor6ueq5472kgVK4/HNrP3bGHGX8BAAAAAMBO\nnVrC1eRTIFO2gFts87Yyq6dYdlq3MNdndZ8NreK27JnS6Pyjf/qHHlxbuAhBEAAAAAAA7Mbz/+zV\nsvRnnsfMgp9JcFPLaHLjp7mw/9gQBrVCnNZcoC0zg8q15ecDJQgCAAAAAIAdGEKgQy4ymYWApz8/\n+lkLTabB0cLGZdg0fYGyemg4rm3TCpMqLeZyxDDXaGndAyMIAgAAAACAPSpDlrVAqLxYBjSNJdvC\nozzZqxIGjY4rz5y0dxvfv6EqKCLicHiwbeEiBEEAAAAAAHDvnVrCVdRCm2o7tun6tWqiPF5f3bfY\ndKld3HCp0gqu/5wGP615Qan2Hg+XIAgAAAAAAO6xZ9/ShUCr2cckuJnNC6rdMglgmmvzfN/WmqUH\n1tq4Lc0F6iuGRgFRf779mIckZakYAAAAAADcS8++uagESsdimP54qI5pKdf0wcni+nSaubPWaG1x\nTX+tsiCV11v7Vi5eVepero7rHv3CH36wbeEiVAQBAAAAAMC9NAqBIk4jeWIylmdhhE+M1qwVjlRK\niFarf2Jhjk+jPd3SjKKIeQVQf+5wmJ8jHt/1CwAAAAAAANdomtP0BTZLFT+5CHla1UGjHCgXa2rt\n3CIidQv69dNKnv6Z1XZwk1+kX5Mr5/rzZcVSf7swSGs4AAAAAAC4b579p+OWcGuGbOecJmlXGxdv\naRUXcWpBV7vQCpRa71LuUx5fXY3CoEe/6EcedFu4CK3hAAAAAADgXnn2TR/No/ZqS+3fOkMnthyR\nD3G6fe2mWhu26rryQa11revlcyrX+xSr9m59FVDvcDgz7do/reEAAAAAAOCeOIZAMW/TlvrjLgRp\nZCHV7m7NdnG1E63qnxxRjuhZ3LO1T47I3S9SVgiNwqPJfWUgVJ4TBg1UBAEAAAAAwH03FNP01TXF\n+em66eeW6qA+NYrG3qPjXAmRpmtbaxZeqDq3qFIV1IVD2sIdCYIAAAAAAOAeePZ7P5rXWsCdrhfB\nzeh845Yyf2l0bxstbi7s120IgxbbzrVKmir3qABaJAgCAAAAAIAL9+z3FC3hNswEOgUtEXEoblgI\nefI0DFoKhYafjWFQKxjKS9cqL1F+nVYhze4lQhAEAAAAAAAXbRQC9aYZyaZgKNYrdcrlW5ZO32HW\nii5P2tYtPazyC9YqgFK3vjYrqPPon/1bSoQ6giAAAAAAALhQQwhUagVCa5VCuUhsluYIlee2hE1D\n2NN4gf65a+3gml3iJpnO0u+rEmhGEAQAAAAAAJdqKdyptkhbWD9dM4RByzfkiMiHtbFAk7BndcNK\ndVBKyxVD04u1qiBmUvaHAQAAAACAi/Psd300H9ugxSnw2NLwrLZm7b4UpyBmaW3qCnTy6fvifovP\nTAvvmub7p0ptS+U5j37JW9rCFVQEAQAAAADAhXn2u15iLlCrddpi27iIOGxrGZfLZYvvsFKI0opr\n+nun13M+liYtPWctfHqABEEAAAAAAHBBhhCotNT+7dxgaLVRWD/HZ2WWT6W72/y5C4uWrg33Nx48\nkoYw6NEv/tuSoAlBEAAAAAAAXIhnv7NSCVQqs5DNwU60g6TmTJ7punYolKd7z57bCHyGoCjXf488\n3bzxLnmtn93D9viuXwAAAAAAAGhYyzj6TGTSMW2x7Vr/uSU/6UOXpZlAuViaItJ036GHXGMmUH+9\nnA1Ue+fRnnncBk4Y1KQiCAAAAAAALsCsGmjrfJ+pPuQ5bLhvS2VRLg4alUS5ON/sKjcaLrT0nMp9\nG84/+ufekgRVCIIAAAAAAOCODSFQzTmB0FKrt7XrW9aV5T8L79IOg2I5EGq1iZu9U1cR1AqJGAiC\nAAAAAADgDj39Ha8uzwXqTdu6nbN26yyhtffIEXEoy38WljZG/JyeUQmEyqBoutlsj8O4PRxVKUvL\nAAAAAADgTjz97V0I1OUZKeVts3tq1u5Jcdq7PF5av7aun+uzsk9r/E9ERFxVLpQBT5p+ptnaR7/0\nHYlQg4ogAAAAAAC4A0MIFDFU7OScIveJx4vUcaxV8xTPur75QcuVQcPlc2YD9VVBabpu2g6uT6to\nEQQBAAAAAMCl6AOhQxcIrc3tmd57znNqn0vrtoRBrfk/+XRpvk95sbL3qHVcPxuovPfQeDEitIYD\nAAAAAIBb9/S3vZo3tWeL8fWzW8dtfUa/dksruNaa/vzwzu2WcalVplJrE7dy7tE//66SoAWP7/oF\nAAAAAADgIXn6217NQ6XLLDypKOo5ck7DPSnyesDzMu3lWnuXBTiz1m3lcXdiMtNnOuJn9dl9hVEZ\nCB26yiAR0Cqt4QAAAAAA4JY8/cYuBOpNW79tCW769nFdCpLzhplCW+YC5RiHPOX51vHWOUPlqbJF\n3KyFXKVFXI6uHVxx3migzQRBAAAAAABwC55+46vt2OQFA6Gc0ywY2uQFApwXXld7rcYooeP6VA+I\nylKibh6RtnDrBEEAAAAAAHDDnn7DqzmK0KapFgitrY9JIHSoBCmVe2aftXWHje+w5Xlbr9WqgiKO\n7eA4myAIAAAAAABuXB/UpOJ4YXkrEFq5b2gX1z1jaBu39Jwtps+dVewsvFsf7NSup0mruOL8ahgk\nF9ok5dofEgAAAAAAuBZP/5PX6v8QP2Q0eX3eTYpuVk7xubEpWkob9p8+Y2lNvy4qa1Pj/Oz6fEGq\nla7068p9u3OPftl72sJtoCIIAAAAAABuyNPf2giBIooKmRRD27ilteXn6P5lOVLknIbqoGaV0Fqr\nuP7aYWHtWtXSwrVqR7g8CbG62UBsJwgCAAAAAIAb8PS3vpbzllKcMhDq5/usZR3TwGUpxCnW5i1z\nilr7tNasPHPz/q31s9lACoHOIQgCAAAAAIBr9uHXfyznssrnrHk9RYVQf8+WeUIbZgj114ZZQkvv\ntHW/5myghevD3KDJhVQp+EkxmQ2UtYU7gyAIAAAAAACu0Ydf/7FRlJEP6Ri8lFU5S0aBUIwDoaX1\ntTZtS/dsfZ+1vcr9zrnWV0E13mt0rjJTiG0EQQAAAAAAcNPKSpw+gDmsVPsMAU86fZ7bNm6hYieX\n1UZ5cm7pfbY8d7PaYKDKFtUBQmwhCAIAAAAAgGsyrQaambRmKytyNlUK5RSjWULFnrXnLB6PTqdt\nQc65IVQvNa4tPC8fpmeOf59Hv/yJ8qAzCIIAAAAAAOAafPhbXs9DWFNrbxbz74tVOVsqhWrt1apr\nYznoKQOpSO1nL73XdM309y9/pq+c82z9rBuciqAXIggCAAAAAICX9OFveb1LKfoQKEV1xk+r+qWs\nCupbx8WGSqEydDqnSqj/3gqF4sy9as6p26k8K9feTxh0tpT90QAAAAAA4IWdQqAVqSuFSbleFVO9\nJ47VMVcrj+hbr6U4HaSFe8r1rffo10RESrm+bul3SI3j8tz0fF8GNLm3P/3oX3pfW7gzqQgCAAAA\nAIAX9OF/9PHt1RajlnEr7d+Ge06fuav4qVYIjVrATVrTLVX0LM0EGlXnNNrFrd2/9A7V++eBk+Tn\n5QiCAAAAAADgBYxCoJxO7d/WVAOhja3jYkPIM0jHdnFrUcra/KDyHTaERs39W+fT9Nx4cf9VNdCL\neXzXLwAAAAAAAPdaGQD1x0tt2Wb3lQFL14+t1TquW1dWBaVmejT97NrFteKUcpvGmv65qfb79afO\n3X96X20fU25emIogAAAAAAA402pLuLJCaK1SqAxq+tZuWxqiTSt5FlvBFe+y1Cqu3HfhuavVQVsr\ngKI4N20Rx7UQBAEAAAAAwBk+/LouBNqSVYwCmK2t44qfw3qYlCNFzunYNq77vmwlFCrfofw+uZ5j\n4f7aPa29+3OzFnGnr4/+ZW3hXpTWcAAAAAAAsNEHX/dGjmlbtrWWaKVzWscNgU0sP6OoBBqFM32V\nTa0Cp1+XZqU4833L75Owpg+dUiy0nGvtu9QeLuI4HCjJf16WIAgAAAAAADb44GvfOEUj/ayeIqwZ\nZvVcVyBUtozrN87DwxZCnnEgVJ0hNGoj180OWpvNs/DMnNLpb7AW8LT2aj1fFvRStIYDAAAAAIAV\nH/zmN+uJTVGt07doG86Xny19y7gtreOGlnHpFOCsro3hnXJr/3LfpXZv01lElWvNZ7T2ilj+G6WI\nx1+sLdzLEAQBAAAAAMCCD37zm3nTfJ+yRVtOkQ+nuT2b5gkN+2x5VhrPEVqb1bMU4pTPXAuYpvtN\npFaFU+10iohDzCuAlmYTcTZBEAAAAAAANHzwmz6laAe3rXpnVBWT4xQILQUx5TNqx01p/Nm4Z1QV\ntFaJM6o6Wloz32OoimpVDdW+T9vPjV984SXYImV/RAAAAAAAmBmFQBHdHJ3GbJ+lWT+jdf1H3jb7\npn9m+bllbWueT/EOkbsKntZ7pH7RwvstlZukhQqhVDmenksRj//VD7SFe0kqggAAAAAAYItptU6e\nVOFsbR+Xu8qZvqXbYuXNGc8o1yxV9UzmGi1WBi1dH9bUbQqB+j0qIRDXQxAEAAAAAAATH3xN2RJu\nYeEofDkzEIpTK7WhndzWJl5rz8iTMpuFsCeXqUu1fdtKWNQIs/rfK0/ftbb+UJzrrqsGuh6CIAAA\nAAAAKBxDoH4WUMRqmBLRDoRW5glNw498zrO2GIKahffIp9lB1fk+G+6vBkLd91T7ZaZb1aqEuBaP\n7/oFAAAAAADgUnzwH35qrg+w6Y5zjOf0TNua1QKhcrZQ/72ir5zJOR3n60SOnFO7xdqGPcfvVPmV\nit+jD6FyTvUZRkMo1pgb1JhJ1LefS4t/t+JYHdC1EgQBAAAAAED0IVDDrBqmC0SGz4X1tUBoKbiJ\nYsul8Kb1vNVQqEhhVkKpWQhVVkgtBUKTZad3m6xrzAZ6/Cu0hbsuWsMBAAAAAPDgLYZAM6lolxbN\nGTkzs1k5y1nHUCEUKfLhzDlCi3tvfO9Wq7j+HYbWd9Pz9X1ns4Ii5vdy7QRBAAAAAAA8aO//xh+V\nc071oKJmNkOnK2U5JxA6XJ2Oy3ZyS8/r5witvefW/YbnL+11au3W3mvDc/pTa+9+WL7M+VLOIjYA\nAAAAAB6m93/jj1r9R/LmjJ7q4oghATm3uVnKp/Zxa89Mx/danCFU7ru2Z2q0eZs+s9YObu3eSUlK\nqq1Pp8/H/7q2cNdJRRAAAAAAAA/SlhAoomjRtqViqG+ZFpW2aav3pnYVT+U5+TCpQmpW7axUCA3P\n3vDMqFRODS3iKvtXRig1281xIwRBAAAAAAA8OEMItDF4KcOP7YFQRESKOBSh0GrYkuY/K+/ZhzN5\nSwnSNYRB7ZlBG8+naL+rgOjaCYIAAAAAAHhQ3v/qT8+zkGVjNc40EFqf11N8TiuFFmfzNEKg2vPy\n5GfynovPWHpuw2Irusl7HG+YfG8FRhHx+FdqC3fdHt/1CwAAAAAAwG15/6s/vV4JVM7R6a8tBB61\nCqFNs4T6JamvvsmnoKQWgdTasC282/Bew3NW9qzNDuormWrzgIpnpNospH7vq2LP/neb/I75kCJd\nbfib8VJUBAEAAAAAQK06aK0SZ7rFlgqhYXGx7xC8FOc37bHcXm00i2et+qi6x0KruLzy+w4VUOX3\nyfXJraqBboYgCAAAAACAB+HJf/AZXTXQwqJpsHG4eqlAaHOLthynWUKt5yyFVY3n9LN4RqFQ6x3m\nNxfPWf81ZvtNK42mj1AMdCsEQQAAAAAA7N6Tr/qMPFSx1KpvqnNrFmYIbZilU2sft8l0zs7Su7Xe\nr9hrCKWWKnyme87epx0INSuDZn+zmN1/1t+FF5JyFrkBAAAAALBfT77qM2b/EJ5SHgKhFMfjTTN+\nIk6VLmXVy9Z7Y+MsoeOLnVqobbkn5fV1qZvts5a/LO3TeJ/qvJ/h7xPNz5RyPP43tIW7KSqCAAAA\nAADYrVoIFFG0Sssxm6WzWqXSqg7aWN1y/hyhKKpyNrzX0rvkDZVB/V5r7zU9XasMymkcOs26xWUt\n4m6YIAgAAAAAgF168uvrIVBLPqRTSLLWmm24aSEQWghT+tCk2VZtpg9vVvY+Mwwant9qP7fYLi7W\n2+tFHGcfNWgNd/MEQQAAAAAA7M6TX/+JPJprU1QALeq7vkUX0hwaM4Vm971YIDTaYksVThnAnFO5\nNKvUiVHotVgltDT/p3ItT4OfFOMwaPL/4fGXaAt3kwRBAAAAAADsypOv/EQeV/MUYVBMAomWSaXL\nNBBqhjbT4GVj27h+v00VQvn0HtXKnOna1jtMf8e11nM101lBtSqqXFnHrUk5++MDAAAAALAPT77y\nE+v/6J0ijslHOh2fU5OSultSjhwpUurm3CztMQ1CzghG0tLa7l02/x4prz87VZ65ds/VbPjPcf5P\nGp8b9unOv/Jvvq8a6IapCAIAAAAAYBeefOUn8qaZM2VbtaFiKI3Pr90fldZqxbX5PZM2bWe2jVt7\nl9n8oC3v0VANntZmD1Wqkub/L3L1kJslCAIAAAAA4N577ys+c1sIVFPO3Nk6f6e/L4qWalsDof7z\njNlB21rGRRECLc0bWnn2WkjTCorKLbsqpdE7v2zoxQvRGg4AAAAAgHvtva/4zOY/dKeUhzBiscXa\n6KY4BhlXXfu4PhnZmmP0reOm7dKa6/s2dRvatsXpd1r9fcpWbK3nRmNNrbVb7d7p86bXpm3mind6\n5d/SFu42qAgCAAAAAODeWgqBImrtyTYY2q2V7eK2V/CU7drKaqFt9663jdv8O61VNi09J08qkabv\nX6sqytGFWkvvO7/OzXp81y8AAAAAAAAv4r2v+Mw8hBFlVU3DNEBZrajJtePieSv6GUI5HT+bFTat\nQCYvP6uvClqsDurbxPXXc4zfYfrM6T7911pZSe2Zh3SspCruH7/b8v8jrp/WcAAAAAAA3Dvv/brP\nOv7j9jQAOiNkmLaN29Rubbg5ThUw/fct9wyHG+/r28WthFwRK8FW0eHuuGfjWeXndO+tbeIqLelG\nbfKusrZwt0hrOAAAAAAA7pUhBIoYV9OsHU+UFUKt46ayQmjUQm7lnu4n53SsGFp7Xk4Rh6vF32PT\ne4+qmxp79ecr10dt4mr3TZ9Vub/6Ltw4QRAAAAAAAPfGKASqOXT/7L1h1k7NNOhYDYVGgVD3/bDx\nubUZQltCkj4Yqm25FNhM37s2+ydiISgqKplWTSqCiu+vfKlqoNskCAIAAAAA4F4YQqC1LGKpMmhD\nZU1EzMKUswKh/nsZ8KzcN1QHLfWK2/juw/KXCYNac4kincKr6btNv6v8uQiCIAAAAAAALt67X/7J\nnA/HcCEX1Teb2rj1pkHKGaHQ9Lj53KGyp79eto6LdjiSI/rfb7E6aEPLu9a7txed0Sauf7/atrN9\nzmy3x40QBAEAAAAAcNHe/fJPDpFIX40yzNgp26stmQZAZQu56fXWFpU126puIoZAqKwYat6SRjOE\n2gvTeIbQGe890rq8UEG17W8eszWv/NtPJEK3TBAEAAAAAMDFKkOgmaJyZlYltGXmzrS6ZiVQGW6r\nVAVtbh3Xt2NbCoSK6qHVmT8bK4SW9+jvb9yccr0yqPX+XBRBEAAAAAAAF+mdX/vZ22OGRpVQ3lCB\nMwtQpoHQSshTBkPbWrGVPyuVNXnyE9FeX2t913jX+nMmbeym+07uHfaarm0RGt0JQRAAAAAAABfn\nrBCoVNyVi1Cjb7d2Vgu5PhCato+79tk82/YdWsYt/R4vEwYdHzKuWCr1lUGTd1rsYFesf+Xf0Rbu\nLgiCAAAAAAC4KGUIVLZGW22T1jANhPoQZTkQqYQ/0/WN+1+sQmhSibPUMi7Gv0f13cuqpkYYtPxu\nlc2rf4PK3/HM/z/crJSzWiwAAAAAAC7Di1QCpfTi/86drvIQEJ21T7+2r5LZeO+mZ5R7LmUqqdsv\nn74v7rnw7Nl7lXuV18rfu/YutXuucnzky96TDt2Rx3f9AgAAAAAAEBHxzq/5MTnyVT14WNBXpPRB\nRM7bQ53pnJvNgdBLVL2svt+oZdxC0FRWOKWIlBeCo/J9K3vN3qkVLq3sU3/2tmXcDK3hAAAAAAC4\nc+/86h+bX2QWT6lsd3ZeW7b+sGght/XZfbu0vh3byntP3299Xk//01hXtJJbbBdXvldlr9VgahoA\nVVrEjZ6tPdzFEAQBAAAA/z97bx58z5fW9T3nzve3DiEmkhBZZClkghpgUJgYQMmwiIISII6IgEu0\nMCaWBBVTSSWp7EllqaRS2VMxUSEKBgsxK/+I0QgBARUJCgWOIAgMODMSBxi4J390n+7nnD57n77r\n61X1+92+3Wd5+nTf+/18+v15Pw8AAMBV+ck/+EERi0qiNk+nOFQtCklCEKp1tWhhqDHO5Hhufhvs\n27StFIMi8SXXyM3ruYXMVgwy6XN4+ctJC3dNEIIAAAAAAAAAAAAA4Gr85FdERKAQLV6E/zVSJQr1\nCEIxt835VOVu0i6hfFzuvHNxVIhBIsm0bmlBqCDIuTXDCXRzIAQBAAAAAAAAAAAAwFX4ya/4IOuJ\nFjFtIuYM6kwhp0WKJoeQEoE2ok2NMDRSHNGuoJwYlDuu44sQTRNn3cDBGME4Jpj05d/3/6EMXZkX\n1w4AAAAAAAAAAAAAAJ6Pv/sHPtiKzKKKGDFiFyeLMbPgkJMQckJLrt6NHkL1M8aKtSZbK8cTgZRr\nyEihb+ikMTbryNEx5U/AyLRg+Xjjwk56zZL9rJnnCtLEBf3htsARBAAAAAAAAAAAAAAXZRKBfBZx\nZXazWCk4bpaOgSAUSx1X4chpcgtpp1CN+6YUeyGmbDxu7rNKGxfEmoyvN8Ve5lxtKHrB1UEIAgAA\nAAAAAAAAAICLEROBNtj1v2TquBqBaJAg1CIM2XMuZVtCtMrEVheDFs3SYlCrYBWtF+Tm2DTe7nv5\n9/8kStANgBAEAAAAAAAAAAAAABehSgRSaMeNcwkt+3J542KulEanSkyAqRaERDmFamKsPJYcbyOQ\npRxASljbiEUN7qCwP86fm4YaQQAAAAAAAAAAAABwOO/+/b9wU8ympi7Pgi5L48Yxar/bTmkSoVhx\nPq11bSrmDwWhbMyBUGWlUD9Ix9YQS3pMkWVBwvVwsRkRE6v1E4kher7Z+k2F43BRjLUUcAIAAAAA\nAAAAAACA45hEoDqqRKGl8fyqhAdjbL0QYewkgGhBSL8vxFklYgUClYmJM6nYKuMozh+b0yT66n3B\n8a0YpMZV8Rpj5eU/QFq4WwFHEAAAAAAAAAAAAAAcQosA5Ci6XbzG8W2X/qw4Ri5dXEEQqnYIBfWN\nFndQSaxy4xfEqRp30qpCRZw+LrBFVJs3TmevbVT4SmaqQwO6JXAEAQAAAAAAAAAAAMBw3v37PiSw\nk7Q/i25KHZfqLxGxo6pz2hlTmrPcSBYhKCsKubGcEJQZu+wMyjuRzCni9tGvqTl0v1k8euUr/i5K\n0A1xunYAAAAAAAAAAAAAAPBYvPvLP9Ruat+496HzJoNz3VhrvP+q+8/OIGvN6lKxUjdGGG/lvDrm\nTGDrq4snpuOE82fGbFmXDbGukfOOzuG5stB/bhGEIAAAAAAAAAAAAAAYxru//EOD/GMRQSX8z+2v\nJEzLlm7ob9uzWcShakEoFnMh3ur41PElrjDuWCwV80b72fXc/WMJMapULwnd5y4gNRwAAAAAAAAA\nAAAADGEjAtUSig07UsHVN5aljlB13R5dr8eaTR2dUmzFNHemop1O2ZYRanpSxW3Swy3tgix/+r3u\nY6y88gffjTx0Y+AIAgAAAAAAAAAAAZF3hAAAIABJREFUAIDdvOtf+DC7OFJadZxU2rjGVGNVadmW\nxu5FOYSkEH/oBmpId1cbkz2v6eyKMWTmL84Xy/J2jqTeK53fOUj/BzcHQhAAAAAAAAAAAAAA7OJd\nX/ZhVqdbs6IEhVgqshLnU1x0qSBMy1YUROzaNhSEisJWrA5SZXw1cXltwlo8FeuTPX+dKk5hxKbr\nFQXnEPLKv/gulKAb5MW1AwAAAAAAAAAAAACA++VdX/ZhQU0gtWnNmoJNH5j3RdOwpYQNnZLNpSbL\npEaL1empSR23qdljpu1FIEnFHMabmUuLQdlUcNq1JMEahvNn5o2ev9s81bQtpMErpdSDq4IQBAAA\nAAAAAAAAAABdbESgGNpxE4hCiwBSEhI63UGbYRoEoSXusxKGJCPGeH3bRaGa40sto5p5c3V9vD6u\ngW48nbdXM+h8itYLWjv31XWC4zHWcnEAAAAAAAAAAAAAoI13fdlUE6hKVIkRuIK6xzmdVwGkc4yW\nuRcHz6myT1I86YzDzGJUTj9KzJkdPzyf8LpExtTjvfIvvRNP0I2CIwgAAAAAAAAAAAAAqnnn7/1w\npwyISEV6sxQ2eNXkUseFOKdK6IbJpI3bhNKSOk6ft3hLkeigXEwFUahqLa2INUaMLYhBifFFIudp\nZLteNpIeLpUirlYUg6uAIwgAAAAAAAAAAAAAqlhFoDRdotDSWXwBSIsRNaJHKABpgajR9VPfuPGc\ndYyF9tnxcs4gff4t40bW2phgDhW3Gwc30G2DIwgAAAAAAAAAAAAAirzz9364rXHZONdJWPumSiyJ\nuIRcbSEj1q9nE3MMpWoIZWrnJEOpdTrZ2SUUNhkgjRSdQWLiYlCs7pAaJ+kMssZ39xg1RzAG3A+n\nawcAAAAAAAAAAAAAALfNIgKJpMWWAqFAFApF+c4i9mzEihFr5/9qlBaXzix8X5g7FmM2Xute/Nii\nffT6VaxlaZ3cekRT7FWebzQ+kWlM918kzqZrCFeD1HAAAAAAAAAAAAAAkOSdv+cjbLQGj95uqMcT\n0pVCbuk8OYWsNWJq69Sk0sdVxNET6ya1Wi6ezPjOnZSMI5cqTiRe20fHGIwVponz2sxjGWNJC3cH\n4AgCAAAAAAAAAAAAgCjv/D0fMT39j6VaC90mO5xCzQ6cpZFq57a1gyXaJ+IQih3LxNrihMm6g/Sc\nBedOcW1sxh3kxKbIHEVxK3QFhaIg3Dw4ggAAAAAAAAAAAABgwyICtZBzCnW4hpocOK5u0Ly91rWp\n7T/Hezo3xVoVo6ppVGwfrmHn3EmHVMIZtHUF+e4iz9k0j/Hqv/x3UITuABxBAAAAAAAAAAAAAODx\nzn/+I6xfG6ayY8wpdD7tcg2lHEPbhv62q9WzccikziV05lTGWOUQ0uuonUupOBpqGTXX6UmMuxkn\nu9boP/cEjiAAAAAAAAAAAAAAEBGRv/PP/aLlgbExVqyYtQaPe99b0ydWm6dnmJ5+rs6NqHOwkncL\n7Yg3G6NyLhXrB7l5e5xB6pw3cyTGzLmCQkcQbqD7AUcQAAAAAAAAAAAAAHgikMjqWvHcOFbEnk3Z\n1RIjVgsnVmOoNExHnZ7QiePcQsuxXLwdcWZjtHpzXttzpUMoQlJ00uecGrdE2GRxNqEB3RMIQQAA\nAAAAAAAAAABPTigClfBEIi0K6XRyJc7z4+mYMNQhCvUKQ+W0biq282m7fw9aaJOCGJSYsyk1XWG8\nzTjn9b2dCi9N9LrC4CqQGg4AAAAAAAAAAADgifmJ3/2RVqQz5VrInPbMG6tHL3Gpy5wwEaZpqxmi\nsa21RsypImVcKp6K+YoxmUQqt3DuzDi5Ocwpcux0zvfX6eHm/q/+Kz+OJeiOwBEEAAAAAAAAAAAA\n8KQ4EUhkm86s2WUjsjhPXOq1ZQydoqxGn0mlj2sJpSH+JUVbLN5UfLHtipgKgeSdQW6+zJpkzzt0\nbGmxLRajPoT0c7fgCAIAAAAAAAAAAAB4MrQAVMPimOl1Dc1OIbfdP06bA8fr2nIOPc4m7RIqOHac\n2JKMJXQGxVxKrm9kjCZXUGQcE66zWfe/+q/iBro3cAQBAAAAAAAAAAAAPBE/8bs/0rY6fbRLSL/W\nDxB5H7puap1C7rXRKaTnqq2ps7iknBLSoj1lHDvlvr4zKOoS0msQcfUknUGbdW+4lkhAdwlCEAAA\nAAAAAAAAAMCT8BP/7CwCuRRhYaqwCsLUcc0p5OyaOk6siD1XpGLz+gciRkYQycUfnktVzLn0djGR\nqjBuVpxyc5bWp0MQM8b65xCM4c/VKNbBzUFqOAAAAAAAAAAAAIAn4Md/15usl6JNJJ8CLZaOrJLe\nVHLGWLFiprRoMjlhimPoOjc7U8fVNZR1zdx65tapIqaqdHESSeumxy2koyuOdTrH+xlZxn7tX3sH\nnqA7BEcQAAAAAAAAAAAAwIPz47/rTU5Z8VEp0Ka3vvsk64DJ0JtKzrmVtGOoOH/MIRRuV85dFa9O\nG3dWaeOyg+cdQtVp61Lr0OiKis5zPsX7drjG4LbAEQQAAAAAAAAAAADwoEwCUGgDqkS5XYzY1Z3T\n6RRqdQdt4hDlUBGpi2OHQ2iZr6phpQvKHXMupkYXz7K/5EDK9Y3EvRC4gpZjJ4sb6I7BEQQAAAAA\nAAAAAADwgLzjSz/KTi4XkVU5MFKt4ig3zginUFhPqLq2kNWbqmaOVMSgHTLO8XKUSyisuZSrI1QR\nS2q+Jaba884QrRUUHa84FNwwOIIAAAAAAAAAAAAAHox3fOlHbR78rnVo7PK+2y20DCrpGkO1Q/Q6\nhUTVFNKCRskto504Fc6cZZ7amkfaQSUV7h39mpk/Ndf0kpgn5fAJ9+m+qo9r/9q//mO4ge6YF9cO\nAAAAAAAAAAAAAADGEROBRLTDxDlcZHnvi0LhawZdY8iJQuLKEdUJJzHnS6045NXWmV1Lbv6oMBLW\nE9KvmTljrqBkjMqtZI1Z44m2NVViVFKEcrtiub8i41aLWfBQIAQBAAAAAAAAAAAAPADv+NKPsp7m\nUPRwKBFlqcFjZrFg2mfMPlHIe22kRbRICUJJMSoUgfR2pUuoKka3JvMCJGOpFIPSY8h2jRMCVxiz\ntYFzqfLc4X4gNRwAAAAAAAAAAADAnfOO3/mL7UZ0GfQwf0qLJmKMSLUo5PVdhYemNG7BOCKNjhaV\nts5aI+Zk60UpY5sEoZaYsm3dvD3zxcZOpJ4LU/ltUsvN6eGMsaSFewBihjEAAAAAAAAAAAAAuBPe\n8Tt/sVNZZHm1MokY7tXb3zb+5EQx6lVEqU0VfadX59Rx27GUcLlxPNdPTd/AjePmrpvQbP8rxFcV\nV2n9K+bKjp0aLxjTizMUx3ADPRw4ggAAAAAAAAAAAADulEUESpEq+7M4RfbMvk69ppJre95szJy+\nrbGuUDhGW4dCHaFNe+UMGuQOMkanYovEUZgrOYfJHJ9dPqkxzMlu2r7+b/wobqAHgBpBAAAAAAAA\nAAAAAHfGj/2OX2KrBBCbejW+KBSKEVUp1LRDZ+qwpm6rrO3jXELSX1coWzsnPqk335IWLTVnrJ5Q\noZZPmBIv2mauYTQNF6RmK8ylHT3eHKmUe5E0d8n4cAQ9HKSGAwAAAAAAAAAAALgjfux3/BIrsk1D\n1pJqberg/ptSvvmCh35fM5gWhfR7E23jxRBuu/RxLrVdJa5Pffo3WUUh8VPI5fuFaxWPRb8m2+gY\nwnkbUtNtxj4H41X0b75/4G4gNRwAAAAAAAAAAADAneBEoBLN6dKWjuILCGHtmAanTix1XHNsLtWZ\nc+24YStj6EkbJzZIk5ZsW58yrjYOL2VcbD79Whh/2RdeQ2O3bWSbGo60cI8DjiAAAAAAAAAAAACA\nO6BWBBLZOlKaXDLh+9A5dDb+/iRm+c9a472PO4YS8cyOGeegqXbuiHgOoao1sGu/4hx6vIJzp9at\nlHVCZeaIjWtd+r/YGIm5RYTUcA8IjiAAAAAAAAAAAACAG+bH/plZAGqsnZOj2zHkDSJTPDXuGQ9d\nCMjFI1Kl7Cztp/o6ptmltPavayjFej9Tu3p3UNX8JnBBaU7npnE37qaEK2hxIxkrr/+bP4Ib6IHA\nEQQAAAAAAAAAAABwo/zob/+l1nPD6NcdNNXSSQ6iXrvqCWnHkCyuoZq49Dpoh1DtOVW7hNSae+e7\naadqBo2ox5M7l5a6QSYyTkKEWtcRDejRQAgCAAAAAAAAAAAAuEF+9Lf/0umJfZCuzIrZCBS9ok5K\nEGkbz8URSx1XKxCFKeREqkQhdf5WAsGmgB47O49ef73uyfZGasSabiGukCLOG9dOziJv3/kUj2s+\np9f/rb+NEvRgvLh2AAAAAAAAAAAAAACwsghAKZQzxZpVlLBipof+EqQxK6RO02KQS4MWvs+mMos5\nZVx9Gitq8vrUb9aevMCtLaRT807XiHElUSrS6bUIMlqMM5JJS1frwpnbpc7NWpNOEafT0endwfvi\n9Uv0g8cBIQgAAAAAAAAAAADgRphEIK1eFB7OW3/bCUOLUCFKTBAp1tJJOYP0/mrBIJlKTZ1XNp5V\nBPIFoXCC7bw2GNgThlLhBueYFVCUSygp1CxtjQsiO3d0LnUum3n0tVJ9Y2OVBKd5AnhQjLWofAAA\nAAAAAAAAAADX5kd+20dbpzAY4x7on6VJGNKEzZ0eYTJOlppha1xCNTEZWQWMqnh0I1sWhGJzixJU\nKuasPUdj7Cq+pcY0NisG1cxnTGR816fgDPL6BrG4Y2/8t38YOegBwREEAAAAAAAAAAAAcEUmAcih\nXTDapTLVzpkEovAhf0IgCnepFHLufY8olEsdV51Gzm3rFHLFWIy3Pa3R1GEShercUy51nnZNJbtU\nOqGWuk05MSh0BkXSulU5d2LjRtrnHU3llHLwOOAIAgAAAAAAAAAAALgSvghUi3MNWSUcrPub0NnF\ndjqFvGF7XENLzRsRKaVb2+AEoVBpqoiz5ORRbWuJOneWg4EQlBk3OqeJHEu4gsJ25hT0MXY5/sZ/\nBzfQo3K6dgAAAAAAAAAAAAAAz8iP/NaPttaa2RnT0nNyB00ikL+dqvGTxK7/WWvE6jF2eAj0vMUY\nloZ6XjO9r9Z1VpfS9J+/PzmlcvKU5ljHLp+PGzd6ba1R56q2a9k4wsQfT5GqFQTPBY4gAAAAAAAA\nAAAAgAvyt3/LxwQ5uWR9uL+WwNnhzLFLCjk3eHM9nTAuvW8nbS4htzEvSINraXIlufnq6ytl3Tyb\n8TOuJzVldszTOR9LauzY8YjDKLx+RruH5u33+Xd/CIXogcERBAAAAAAAAAAAAHAhNiKQyFq7ZnbA\nLK4TGxyrxigRaH0f7iui5l6cQso9pNu0UuusWV01Zn2tcO+4OZxLyq+1VJqyzvmjayUlY1dt0+3S\nrqCkC8nKWt+o1+th1hSD8NjgCAIAAAAAAAAAAAC4AFERKCQ0rgQOoeXh/w7n0OqU0QO0O4V0DE5M\nsJs6PfUxtXVwr9Y/hcxaaAfP9Jp24nh9RtYQMol2mRo/pfG9uj9ujIwraGk/t8MN9Pi8uHYAAAAA\nAAAAAAAAAI/MD3/Jx9piGjHHpp6Mv22NWdwguq5Ni5CyOllkSSFnjFZSKmMMHC9JEashpkVQKq3V\nEkOoiKVTx+nzXucIBwynMcu6mwqxLDyPWNxRYSl0/ET6p9Zks9+NFRWc8nPAY0JqOAAAAAAAAAAA\nAICD+OEv+Vgr4qcRK6YUyxGkkfNStalUct52brggfZq1/r6u2HRqNdt2nmEatOq+sdRxSXTKPCPZ\npFlqPUvnUx23vl6bY6aYKi4aY62m4wmLGIGeBVLDAQAAAAAAAAAAAAzGCUC1VDuGsoPI4g7SDh1z\nSrtk0qwOm9U15GJrSCWnY3Jp4xpj6Vob43Lp2UnwKPad2k9zVGTwM+VUcUu7bANJp507pVPXxcYt\npYhzfZbYT2fSwj0JOIIAAAAAAAAAAAAABtIqAolsHUN9rpigvXt/NotLR+/Po10z7vXkva9yDSmX\nkNg1lvB4dohdDiH1XxbfpVWax3MH5TLYVaxPeL3XY3l3kEdLmSekn6cDRxAAAAAAAAAAAADAAH7o\ni9+crAXU4/ZZnD3B+92uITVeu1NI41w0Z2lTItScHY4lvQ7V67GUQLJqO9VYu6Eyc6hTLjmEamLc\nOHo0EXfQZkwT7Es5gk7T/vf59/4WktCTgCMIAAAAAAAAAAAAYCc/9MVvHlsLKNJvyNi6rpB2CoXO\nmQ7XkF9bqMIpFNTfKblrlq6Rc691Ji1OoWx8Rr3q/xJjuvl3OIMWUS560NY5g8L6Rdk6RWhAzwSO\nIAAAAAAAAAAAAIAdOBGoBu3y0e6NvU6f0TWGwn31rqG1sV9vp9IxpGNo1Cqa10DXD6qu97O6hZJt\nCmNl42usGRSOtZlf9dGOoPf5938QJeiJeHHtAAAAAAAAAAAAAADukRYByBG6WML0b71ol0xKbCoP\nosYKtQ4nzmhdJ4o+PxGR0xyPiDHueM46416MyFnFb8piWWxtsyzt55icKJQcX8QYs7zGzsNaswg5\nenvTJjWPnc49etzFmxEQXS2mZd/5FBWQ4LnAEQQAAAAAAAAAAADQyA990ZutlflBv2Qe3ncyxOET\nGXPfAPPrLsdOLJaMOKQdSa6eUCPjawiJuPpBNeMmHT6Z2JLrmxB1QhfXMqeqE+Ta/H3/wQ/gBnoy\ncAQBAAAAAAAAAAAAVPK3fvPHrRYVEbEmUhtGu1eKDpo4YR2cEWnkQudRs9ika+Jo50mY/S1xrr5j\nx8Ugyi2UmVPXExK1thXrqufNOXGmV+UOygg4ri7SOl5CzHLxJsZKObeSji5XK6jk8llEu7zLCZ6D\n07UDAAAAAAAAAAAAALgHVhFIocURa8SKmR7iz+VkvH2y7mvFWrP8p9/vIRSbmsZz53dez8+dax1G\nZFkX/V9FzFadv17PWj2rdJ5eyjj9PkRfD9U+MedyX+zBCTtBTN45eWarSA0heDpIDQcAAAAAAAAA\nAACQYRKAtOOjUOcmwVK7x6zvszVhGscd9ZB/73iuX895LX2tEWPOUlxrZ9xxMTekjqs6T+1yqjiX\naax0u1R8uRiiaeJUyrfNGEZv+6nhSAv3nOAIAgAAAAAAAAAAAEjwg1/4y+zqvnHOFxH/yXzds3XP\nuaIcQ1FXS4N+knL09DqGQtdR6ziLM0ifo0jVOfnz+dvxDtuYJa/FeHOVG6nX6jH3O76ScSzvM3Po\nWHe6xuAxwBEEAAAAAAAAAAAAEPCDX/jL4wVf1EP+1b2i3SWuXQfOKSSrU2WvW8gb/hquo8BI1Vc3\naVr3KYbK8zB9MRfbOndOofZO0hlkJFkvKBuDCfY7p08Qh1Hun2WOuZ7Q+/6HfxNV6EnBEQQAAAAA\nAAAAAACgiItAIuHTe2vFcwq5476LpaPujnO3iHILeS6P+iH9eLd1hlr6hq9Njpp5W9cUqo8hrMNT\nN6+3bo31g9LOHCNyduNW1AQKYw3qG8XiSq6tt5YmK0YttZq0MARPC44gAAAAAAAAAAAAABH5wd80\nC0BDfBPOPaQfxBt1rJED3UJL7SLpEwz8uj4dNXpO86tbl+L6uzX136cnkuVyLI6kgiOn+lyKtYNs\n0SUWqxsUmzt6zWe3z6afdhCdzriBnhwcQQAAAAAAAAAAAPD0/MAXfLzdOFWC+jPTm9oRfVfQ6sYR\nsTZ8LFvprLGyiW9TY6gD3be7JtBel5FzyqjaQmncmm5rCsUnWl/t2XjXthhX8SSkUIdHu7Da1iZW\n88mEgZdqCuEEAsERBAAAAAAAAAAAAE/MD3zBx0esF+K7RuzqxpgOW+9Yn4PILo4W332iwzFSUEQ2\n8RoZ4xQa6TTqGks5oOrWd3UJVdURUmPWxpdtV3QGuTHOkZ3x8VPzeQ4iVyso7OccQcbK+/5Hb8cN\n9OS8uHYAAAAAAAAAAAAAAJcmKgA5IprM4s4wqzNjEYasEl+qhSEj0x/pa/fJ9N5PI1chBmnHi5nd\nNWI8UUjHXCN8pNwwLeJO6DRy/atwbixjRM5+yrM4uo6QLNvJ+cLdofgX65I776V+Ua1wFYklLCcU\nW7ONSOnXCVradguU8IjgCAIAAAAAAAAAAICnIisCtaJ1Gl3Hp1kY0uj6QjvcQlo0CF7rnTaJoS/t\nOHIai2lxCLm18+s1peJZhJ7C+EVnUHJtdW2jYIyCAyoUg/z3vivIGLucx/v+x38DOQhwBAEAAAAA\nAAAAAMBz8Dd/4yckbSXdwobdbjun0MYxJMnpw2i819AttDpFQoUnEVvk1RojxvriQgsxx1DLGmq3\nS5XDSK1tnQNrXbs1XVw5Hu86JcaucwZJJFWc71ryBKGEK2hql7i2EVdQ2TkFz0hYlQwAAAAAAAAA\nAADg4VhFoDjWmlUMiKQ062I2o1i7pmuzYuIp54oYmdLJmc221eJDrQIwx2XdODrWnbSMode8qp9e\nz7NZxLacOWpdJyPWniSf/22NxWbaFe8RK5NAk4wrPvZyPRJz6Rij2p9uO6DOEzwGCEEAAAAAAAAA\nAAAAAAAPCjWCAAAAAAAAAAAA4GEpOYFaqE5jVjuWcwe5mj0iu+v2rCnQynVxtgOIF09bOrtYLP1r\n1dKvpb6PP37FGoX1eIpjxseI1w2yKl1dUAMo0n5TJ0i3OZ29NuZkqQ8EC9QIAgAAAAAAAAAAgIfj\n7W97iw3FiL0iTpgObI/Y4aXwmvUIr/6NqDo4jWM6MWh6LdQR8gZYX706R1qoStbkScWy1gJqQa9P\nqa+u7yNnWQWhTKw6nV6udpBbiyWG7JiJ6+XmitQMmuKwfgzhnLHxrUTzfY0SKuGxIDUcAAAAAAAA\nAAAAPBRvf9tbpsfriToue2sAlWoJdY8Z1BPyasE0Ptv36+JMgsMaV2N8cz0eXT+ntZ5QWAOot45Q\nKc6lnRKz4oS1ljLjh3WDivWI2phEoND+U3++07YvuOEGAg2OIAAAAAAAAAAAAHgInAAUEhMgwofs\ne5wUKWFoV3o07c4xZs4sto7jjVt85K/jWvet8bkJ866h5fwCkWVJIdfgFIqeR2W/mj7ePAV30OrM\ncQ1Srp5500zOreY0flaNrw1hMdeUrUivl5ofCQgCqBEEAAAAAAAAAAAAd8/bf8Nb8gaQBkanlHPj\n6ff9g4mvU8zvzclWp21Lx6jjq6wvpJp5NXoaYukRzLr6nFpq/ZTb5moSFePaxGKj/cI5NnWCFjHQ\nihgrxlj5+/+T70cKAg8cQQAAAAAAAAAAAHC3vP03rGngjLHr8/sdj8KrU5E1jpd63yQMxfWDKXWb\nkbVGjkjTGviOGxeXGySXCy0YQwlARurEqVa3j+7TUoNIx5drv7qkZK6zFG9rbdoJVTyPzbqEgygR\nUs2xqRPkulIXCDLgCAIAAAAAAAAAAIC742/80//4bKEQ/4G4e9AvdkpZFopDO1wzml2unopx97qQ\nFqdQ4CBpjaXLJaT7x65B0/z169DSfnHaJO+H9UDRITTfb7lzS8YUcSkZc/bfR9tYX9A6TX1+3n/6\nfbiBYAOOIAAAAAAAAAAAALgbFgHIYePbi2NElAvEWs855IkUjY/PY66e3eJNMO6u8ZxpxJpVFHIu\nE+mryyOiBSE3SVoc8q6B+DG01hNqrgtUO7ZNiTjh3HPj6GCddYMS9561J08MsmcTT2sX9D1KnIT7\nB0cQAAAAAAAAAAAA3AUbEaiXiIvIc6+MmEIJQyMEIjemo3vMlGuqmtBe1ShA7Fjv3lpCNTEtYlBW\nFLTl8RJp57L9ApEn5kBK1QoyJ7vUB8INBClwBAEAAAAAAAAAAMBN8/2f/yusEwFEBrhvIi4i7Vqx\nYprdM5spInWGwphbzyFXa6h6HLu+2lDxqJIRTHR78huYTVqz1PyLU0vqnVl6TWvPt6qGkHP0iM3W\n/REx2ZpBbqxUzaBoHEZErPFq/GwcSMa/J7eD+/0BQnAEAQAAAAAAAAAAwE3y/Z//K7IPL0NxaCiB\na2ivMOQNfWTc0iGUxVxCnee7zl0QhIK5l36ng+sCVcaUr/lj06niCn2TMZhtH72GUUeQch/9vP/s\ne3EDQZLTtQMAAAAAAAAAAAAACCmJQCJbt412jLTUi4kP7m9bmce0srwu261DR+IOHUR74m8eS7uE\n1Dlq107KjJKae3LPnOb3OZtPJOZtZrSK+eraVt0bzi2VjMGkz8uu88TOIzl/NKZtjaZwLhEROVWK\nbvC04AgCAAAAAAAAAACAm2ESgCJFfHYwNK3cMqh4IW4cNFa12aFJja4x1DPWsn5Fp0wKV0to3S5P\n6l6s974mzhY3USmG8vlm3EFujkj/aIo4kU2KN88VpGoJ6RpBuIGgBDWCAAAAAAAAAAAA4Op83+d9\nonri72qkyFyTxe3vE0NCB45+HVVnyBq/5o2IiLFKmOgUhHrq4pTG6u7naunY1rRx7hymRagShNxa\nqnUtrWOuHlOpfbStPt/k0hmxS3wq8AKb+DK1hY5IHwjPBUIQAAAAAAAAAAAAXI1VAHI40WC77YtD\nYxxDMXGkq4ZPIAyJiaRms6uY0VNrqChcdI7TJDa4tGnLALNYUeUUCq+tXa5p8hrqtHVOYJM6Qajl\nvJJt3bUqnp8J7ks/FpH4sY0YJMZzBZnMnOZkNw4igBikhgMAAAAAAAAAAICL832f94m23SSz9pgE\nDDlEHArpEoYqxhKZH+bfUPo4N159Y9mmyDNtIoxbgLV9vp93vg3p92riybVJpXnz28Tr9ei0btn5\n3Hujj6/7lpRwxpIWDqo5XTsAAAAAAAAAAAAAeC6+7/M+0VprVueG1Mo2YYq3yYXhtqf3ZnGcrIKL\nkT1KSyq1XE+qtbCPtUasjjXUQioWJnQe9aaA28RVM16YIs8asWeVJq8qltUptF5LkdQ1W+8bs6xf\nDTWx5Nosa5K8JjaIXx05x++Xzb6gf8qxBtACjiAAAAAAAAAAAAC4CN/7uZ9kp9RoRptIJkOHe7it\nnCQ7jTLT+IsDZ0pDpl1Eo1zbAX3OAAAgAElEQVRDwxxDzgUiq+PFS0vWuSAjhIM9Yyzn0VAraXV8\nVUqEul0unVqjeyrVruwOstG+JnD8ROfxxnbp82Yn0Gl1BP0D//n34AaCKqgRBAAAAAAAAAAAAIfy\nvZ/7SctT7o0jZtkwvizj2hnraQetWoh2Bbm/iXd/HG+WFGZuf5/gETqGulO1ufgWh8zqfDEyiym2\nXRQK17wnvj31ibz1ccJWIX5/TctzLu1derrE+K31g1LtFuEvWTsonp7QWpNME7c20nWC1nG8tHC4\ngqABHEEAAAAAAAAAAABwCN/7uZ9k99h6tPhzClw3e8ShzTxRR08oluyvO6Qf3u+p6TPKKRSL6yL9\ndf2bYuxh/SC3rzD+PG4ptsV9VnE9ksdNShDyBRyvfc4tNLcRdS8uItDJ4gaCZnAEAQAAAAAAAAAA\nwFC+53M+2Xpihcj2gX+FeOE9+teOIbet0sntcQ6lHD1r7RqXWk6LQe3CkD92vxg0yikUi2tPPNV9\ndf2gOea8s0ZfI5fiLxNrWF8psy6xa58MO3Xcypr6Log91X6Jy21m5k2lkwOoBUcQAAAAAAAAAAAA\nDOF7PueTIzaH+dXO9U3smvqspWZMjJgso2sQnWZxyDveN9XSW9ccEmkQPwoMGScQFjzhovHkR7iE\nWoUlc1J9KuJd6wiJ5EQ5L5bK+kStx/NiTSSVW8RFlHIETfuntqfTGTcQNIMjCAAAAAAAAAAAAHYR\nFYAc6oi1xn8vZnWDiHJVVIoW0WRhyjnkXEROttEuolAYKk8ZOlPC1lr46HMLLTP1ppCLrO3i9tGu\nocZ4wpha+7fU49FuoXJdIJGp9pNd6jzlYqldgx5nlHf9Nu4mfZepzZN4N15JuKMuEPSCIwgAAAAA\nAAAAAAC6yApALSjdJHSSxFNu7Z9O5nkW19COmj1bSUlU+rKzjKgv5BhSz2dHcaXeFHJdDqEGJ091\nDaG5Po89l8etStcWO3aKH5vuhXTbzZgn3xFkTlb+wf/ir+MGgmZwBAEAAAAAAAAAAEATf/3X/0ov\nD9Yi2rTWinGEriFZHS1rk7XekCcO9dTEEZnqCsm29pDpEobMZtv9/b12EPluoT5xKOUcqu4vRuQs\ni0tIbFuKvh6nT6pfTU0eF7OxNisK+usy9YqusUpNaK3J1CbKn1/uXo8fS5xvyhHkHcPMAfvAEQQA\nAAAAAAAAAABVrAKQz1o3x3/fneIsRegcckKU2N3iUGSKqUxLQhjqmyJ0C7kaN/uf0e4aYz5pV8Op\ntZZQtwDY0Wdx8WTjtPMal+sHeWN2xpk6FncGBfWCjN8/VifImLOIEfn5/+Vfww0EXeAIAgAAAAAA\nAAAAgCwpAcgR1pOxym0Ta6sdRE1CQMQ5NO3ebnsOkgZxY5NgLHAMySI2qW2pnSLuFnKCxR5RKLbW\nrbWFljHOdeJIOG+PIKT7VNUFmh1NYtbaUluMWuN8/SAXQ84ZtLRpuTYm1SdIIRicg9cnJRABNIIj\nCAAAAAAAAAAAAKI4AWiImyfBXkdJeYJ1nmwarobhtGNIjF3EImNsrxFJYXeLQo7dLiGJuK0a5++t\nJ1Q9vpRFHOfCKcVSK361uINWUUfvS9cK8h1BdnYMneXn/1e4gaAfHEEAAAAAAAAAAADg8dd+3a/a\nPr2eGS0K5RwlQ+ZassXN9XBkrY3j9i+uDG3WSNWNCbaNcgxZ5xJSNXCcq6P+Kb6R6Y/3zW6nUOgS\nahJm9Lp5u/fVBWrpV4rXqyHkxKDotXMOIZNdyxpBsvWYtWaTIs7a09w20T4iHgHsAUcQAAAAAAAA\nAAAAiIgWgOoZKtpcax5XI0c7TNx+ka6CQFqTcG4hPWQ96yijnEJLjK3jhOvUGcchDiHT4l6y+TYu\n7VziYpXGjx33xaDt/NqNtBw7WdxAMAQcQQAAAAAAAAAAAE9OjwDkiDl6RHzhRr8fOc8wcSis2WMC\n95BMNYdahCEbvlojRqbyNidjV3mnGLtZXnVtocktI3P9Gy051WO1c0kqrlHgrnLbG+Gsct6eOJP9\n7OpeKotBeWeQGyslBsXu8yybekFGvZ/m8NZx7gMwChxBAAAAAAAAAAAAT8p3f/an2N46Lr1cykGk\n5xo53iIMZVORVYw1vy7dux1DsohC67YvOrQIRE3XZ1MwKe+kqZl3ZLvlWiX7WCWkpQZKn1NrraBQ\noNLp4TaOoPn9+/3X/y+SEOwGRxAAAAAAAAAAAMCT8d2f/SnL0+hLOXpic7j3R4lDqVozvfN4azU7\nOJZXN2alMJSrNdQqCvnXcOq5dQ21j+Xe55wz4fbiFnICyhRO9dyl61LrxgnPIx7DVI/JmIxYppxG\noSDU4gyKn5vNHDdizM9lxwSoBUcQAAAAAAAAAADAE6DFnz0cJRDp8Y8Uh8K5ds+Rc8W4FGOtNXEk\ncAo5UUfqxSFvPHOOBNp+vl1r1OgU6nWoVdXtycyv3TnJNqf48dTcm/1hDSBx18Yf2zmC3u+/wQ0E\nY8ARBAAAAAAAAAAA8MB892d/ip0cDX4Nkk1NkkpijhGRcSnfljo9mXlGikN6vq5zSLhinEtIvxeR\nJreQ5xRaxpJmUWhdy5NKI2fKadES4zStvVsTM6+BLmeUqb9TVReogalGkxKDgvmrzq0Qc9h3E7sN\nRSD/mDf2hVI1wnOAIwgAAAAAAAAAAOAB+a7PeqsNhZ+TOcdTdw3GPcB32yLjnT3hHCPG12O69yKD\nYlcP+VtSyOWGc6LQZl/1KLpGTl8tIZGG9ZmniNXLqZ2r1K4Ui3MGbYShhcq6QZE5avaFziTnCHJj\nuvbv999+F24gGAaOIAAAAAAAAAAAgAfiuz7rrWv9n+Apt7VmrXdirVhjPJeCE4n0+72uoZKDqJfU\nHHtEm01dGbVvd7o6z/xhln2eKFRwy8SGmwSNQLaojs0s7iARd020ZSYzf2Ktio6aoG+NINRaFygX\nh7Vm49zy19qtiZQFocjY7bWCIgJcIgUdQC84ggAAAAAAAAAAAB4ALQC14sQIqwUBVd/GiN2IQr0i\nUXRuOaYWUMyZdMT4u8ZWNXSWdGhaoOhwDoUuoXpcP31O7W6hMIZ0I1nFsIZzrV336uuScPhMRBxC\noburYl5vn5pvqU2kHEG4gWA0OIIAAAAAAAAAAADulO/6rLda7/l8ov5JiZRrx401SUGrSKH0gt2C\nUMzZM7rekB5rZDq5VD2jrho64o+11BlyLi2pT6cWcwlZETkV++r18t9PYkibINTkEFLpCkv9Ym6k\nrvlVHHF3kExByTka93K4QP5cprVtqSEF0AqOIAAAAAAAAAAAgDvjr/6aT53tBPMO/RBdfDFFO3v2\n4o0va/o4XXsollZuhHvoSOeQG/8I99Co+kXaMRMXLOpikcV1tA5bh3aw1AtC+vyr1qHRJdS6vtn6\nQYmUbItrJxZrYszsPs8RdF6PGZF/6L/7q0hBMBwcQQAAAAAAAAAAAHfAIv5oAsvHpiaQdu+ofb1p\nx/T43vZce0g7WOykWKxx7nQP5eoOiYyvOTRKGApdQ91jqUxt1hgxtuMa2mn1tWPIiULlIfR5uHRp\nZUEo5ZpKd3Av0zmW7pmaukBh+2S7xEIkaxSFw2gjXTBPrmaRE4GOEDgBRHAEAQAAAAAAAAAA3DRR\nAagH/cxeCTTmpOoBaadJR22a7ZS+g8hzJiXcQ3sJHSKjHER6jCPG7O2fW9+mejsiIiaUEks4QchN\n2EZzDZ+Kc9rtDCo4rpyDZ7M/4ibKCUGu/eIIOlncQHAYOIIAAAAAAAAAAABukO/8zE+zQ9OVhQVj\n3KZzOyiniZfmLUwt1yAQRR1EoXNJuYVGiEMxB8oIYShVR2mPQJR0mnT0t2Z2Yi2p3+rWb61JJCJu\nPCUI5S+3mWsJTa0mUajtPKrWzKr1LqTFq01Dlzyu7s/tXOnPY8wBdIQgCdADjiAAAAAAAAAAAIAb\n4Ts/89OSD+u0KOTeixz8gDmoSxMVa0bXHnLODzX/COfQkeuXGnvPeCPwBKGGNHJLk6CmULmra+Xc\nLiI1wlBTnR8TuUcKY9fMnzwWdfpEXEEJJ1HKFaQdQbiB4GhwBAEAAAAAAAAAAFyZnADkSDlSYvuG\nCUO6Lk3o7vFKpWTEhgoFIaw3tJlfbTvnS4vrZTNusG+vc6PGLbRnPEdvXNqNVZNibZnFuxZGpCgI\nGe91MiGc5rjz7hz3WhSFrLr/nPiSoeZ69jq5NvWCTuKtLQ4guBVwBAEAAAAAAAAAAFyBGvFnFENT\nzCUnmV+tX3domdP6bXbXH5rHDAWhXtfQUY6hmLAxyoXU19EFMY/RcE0WmafaIeSYaglZWx93c/2g\nnePlagaljscErtBBVOMI+of/++/EDQSHgiMIAAAAAAAAAADggvyVX/3p89Ng/9nvkanewno5pTm7\nYtDmCLt1DE2GIZUCTvaJQ15to8ka4m23CkM5x9WeaxJzu4Tv99YHauqfuS5Fd82yMbesTh3nagmt\nsUfTq0nYpmJ9Ardaqm23EJpJQReLzVrljku00bHiGoJLgCMIAAAAAAAAAADgYFbxpw4t0Oj3RxJz\nxFyi/tCm3tAg55Aby4qRkzlP5+bcHTvcQ6PrAYXj7nUfifQLV4u7qrFvm1PItbBzDSG3ryK2mvOq\ncAhlawLFjpnU8elcPFErMn/MFWROFjcQXAwcQQAAAAAAAAAAAAfQKv5ocvVsRI5xD6UcMal59fu+\nCd2L2WwvQs2e81NOkbM9TfHaVehYzs+0pZWLrdMIESfnFKodO+b86ql9o9+Hqc6i/XR7kUItobWO\nkPMotJxbrUNIu3JiYzU5h5JxunGMqJu4LKYh/cCFwREEAAAAAAAAAAAwkL/8GZ9hxT0EDlOuRfbt\n5ajaNjVzHTaneq6+SfNm1gfu3W4hlQrNcwwF8+1l9HW+xhiLKHWy1Wvu+pyqBTLnrNnW3MnNkW8g\nWTGoNE7WNRStAxTZF9QXWsY0U22g9/9DfwVJCC4CjiAAAAAAAAAAAICd/KXP+IygUEisoIjR2sYi\nColZK5z0aBu52jbh+71iQkwESs25q+ZQkH3LmkjNIfEdPi2L5/qHjqFlbpVCbnHodKSRG51CboTQ\n1jqG5wyzdSnadB/dKldDaI1Nx1jnzorGMt83xubFoNS5pMaO3Wsu7tU6lJ+L2kBwaXAEAQAAAAAA\nAAAAdLARfxJoc0tsn0ulJcGDZ+/4AWh3zxEPpVM1h/T2sHm1cKOEoZ56N+uQgQtpfvg/Im3dEY6w\nXrePSOO5qNpOtSKcu9+NizfbfE211nJOxbo/ufhaawbJ1hUUxquPh44gc7Ly/n/oL+MGgouBIwgA\nAAAAAAAAAKCSWvFHE+uweYQcOm1mJ4WutxJLM7fnSXKsnozIuDRvOWdSqpZN95xLtrjtuL3CUGws\npVEs+3vcQpdwafX0rVp/de61/ax+dfd2sv22hpBk25djWO6xRKq45ppBImLPYf0k7euT7Af09Iaf\nix8AOAgcQQAAAAAAAAAAABm+49N/tRXxBRLHrvRnlXjuIVV7yIrIKeEe2isSLXNHXENHnWc452F1\nlIx0CUPJsVU6MF17qDfOEex1CfU4xTaCWKk2j4i4Wlo192pt/aBszBV1g2L9o2NGxtIxpmoEGWPl\n/f8H3EBwWXAEAQAAAAAAAAAARHACkCPmvCjVzBlSF8Z740sMnsNCROycYk47LmJuouq5Cy4ekfHC\njVeTRvqFidiY05tgHiVe9AhDi3NIuYWsUWM2rE3qfmqOaYfjKtW3dk5Xz2kRSRKqpLsvpwlsruky\n/lqHJ5ZwUbdLxGvX61UShMIxRYJ1CK7zdqr4MXM6100KMBAcQQAAAAAAAAAAADOh+LOXsE6O2ycy\n3lkTPho3ShTS7y9Rg+hIx5Abf3iNIbUgnqulc6FiNZJcbZ0RXKM+UfO6a0dMRuUJawjVxpJzCFWN\nY9LtavZ7dZKWfavQ41LHaUfQP/I//iXcQHBxcAQBAAAAAAAAAMBT8+2f9pk2TPu2qQcywFFTs29X\nTZ7CPL4rxrlh3MPsiVGp5XKOoRECznDXUGCz0q4Wa82iVLSMnVr/5fznRd6bTq6VPan+musRaQON\nNekaPcGrqYjLdwiljufPq/VeqfleWPZFzpPaQHAtcAQBAAAAAAAAAMBT8e2f9pnFB2KlekBHkRI0\njqzL46XkUi6iU0QgGjbnAeJQbHy3PW5gJdw4MUcd6xpyoCi0xyW0p6ZQfeO2uYyxxWWtqR2UnCt0\nf1X0jb736gSdN8dcbSDcQHAtcAQBAAAAAAAAAMDDUyP+aEpOnlCkCff1kqrDk4thr4jimWGC+Zdq\nLLG0cjvmDR09ev+I89pTIyc/8OoWsmK8cjUlQaEYq3UvLp+aNAtC7vxazzNcr56+VX30uolkawgt\nYxfqB5WcQWubyHG7rnfseGxfOFbodPKOa4HohCEDrgeOIAAAAAAAAAAAeEic+DPAtFFFtCbMzJGO\nHj3XnrRf1fNE6g6Jm+NenD3BHI7d6+VEoZPNChx1Q9mhLqGWc+sRk3Sfqr6huyrdzLvfUkta4wxa\n2yX2d7qCwlpDzhWkawT9gj/8HbiB4GrgCAIAAAAAAAAAgIfhL37qr7Ei6qGsFi1ERFS6s5hosefZ\n/SXrAZXmSTmL9ooeqXmMDWSKhJOjdX1jTpWhDh9JX6M9tYbsea4rdO4XhULHkZW1VlGLWyjnuqrp\nUyvuxFxe2T7KjeNhNs3UGyM2IQbVfq5ydcBS/aMuoLCduy6R/qc3nDf7AC4JjiAAAAAAAAAAALhr\nnPhTg3YXiPiCkczHTjr9meo3mpSD6NB6QJE5qx5y98zlxhPfObRXHErOd0DdoWaXS3IgmZxCuv/O\nk57cMe5ebXMM9Z7Pnn5NbTNr4wTddBNbTBWXiyk2f7btHNTaxi7b5mRxA8FNgBAEAAAAAAAAAAB3\nRYvwUyIUhkSUaCGrSGGck2iwiygZVyLV21HUCERD5plfneDmuXuC471rmkvRN4oh6eNCUajxpL2a\nRG6zM66j+zXdT87tlFkTLQalxq1JFZcUeCL1fEo1hLSAZMx5EYc+4I98OyIQXB1SwwEAAAAAAAAA\nwM3zrW/9tTZ0rYjUpXHKEWu1SaUl4qWY8w+a1fGixtv75LcmpdxIkSiV8m20oKJHOOs53fpqES7r\n+sjMkUn1Nkrc2jWeM6FZIxsl0glEFaLQsjpB/566Qnuuc0uquap1syLWGDF2Pge7dehYWdMRus9n\n6BJaPx+uR0Psc9q6aqeckWoXEcA1wBEEAAAAAAAAAAA3x7e+9ddWPbQKRZFwvzs28qFszkUUcxBt\n4pGxDqJLuXlSc4bbo+cRkcWJNUpoc2OPEohiYw1NJdd4wk4IOpnzIhi1pI4Tab+Wh7VP1N2JNMuk\njEuni8u6goIPa9g25wgyxsoH/FHcQHAb4AgCAAAAAAAAAICrUyv8hMTcH7n9+ljvQ/oqF1HMQaTb\nKFFDZJ+wkXLzhO9H1s7Rc8S2h82l11EJbc6FpYWhVoEt5nrSx1riDsdqcsBEB/THXVxCIlUn6eSQ\nJQ4xq0jR6BKqjb+3veuTbrh15ySaRYXXeQZxfohNasdEH3s2mxRxRVeQGucNL34uGy/AJcERBAAA\nAAAAAAAAVyEUf452sYTE3ERHOom8ud0ces5QRAnaHsWl1nykECWyFX/0WvYIQ9E5Brurdo0XnFSz\nA8eli1vW6EYcP7XtjVo/V0MowSnl8jHntrkjbqSNC0hvL+2tfOBXfhtuILgZcAQBAAAAAAAAAMBF\n+JZ/8rOCp63l56RHpRzTY5f26WOj4vAVsLh7aHnmr9LMHZFiLpZWzm2746PrEI2oPWSDVzeu00us\nyFRzSPrXKXT2hNt7x2saK3bCotwyhRtC1xRaHEJaWCoIQ63XbHh7F7dzCCXEoNy1TtUN6q05Fr8v\nLG4guDlwBAEAAAAAAAAAwCFshZ9+Su4dd+xod0tNHMPnFOUOUu4hK5PzYUmJlayPMiCGg+sOheMP\ndeHoOUSGC2p74xziEpq3W1LIOYeQ225NHSfSF3tt26p2ifpB+XpBbvw6d5Cu/RNrszisFkfQGTcQ\n3Bw4ggAAAAAAAAAAYAhO+NGPUUc9Da2tBRSKCSJjhZqSiyhMLTdi/tDxEs69PPfX24PTy+XqAIXt\nes43Va9nxBouPXWNIeXImQ71i2h7RcGcS6i4ntbftnZ1+pRcQvqMndPGncPiuKmMvZXaGkLF9Uy4\ngxZxVCQhCIVJBQtxpNxHOr75OG4guEVwBAEAAABciW94y9vsp3/zV/OXYgAAAHC3fPOnfPbyYGl6\n6KwfLE/PRUNBYml/gfiWua7g4gnnj819tMMmTC+nnTAxZ8zIuY8Q4cJx966fNtO4MUe6hUafe3sn\nmQShUzltXDiXtUZO5ryKU5XCUGusNW1rr3XMubMcS85l446igiso6gg6TWnhPuir/iK/48HNgSMI\nAAAA4Ip8w1ve1vQbHcIRAAAAXAst+sSIOmWWDeO99+reqOObVG+6/Q5q3URHOYlSLpfYviPm9NwR\n87Y3i0ortzdN2mbukXWVIq6kPcJQ2HIZP+EWal2bkcJj13na9dVas7qERPK1hNTa6rpCtSffci/X\n1EqK1WlqnbfUr5RmsvQeNxDcOjiCAAAAAK7E//kJv7HqB7G9vzQiHgEAAEAPJeFnD/qHk40jYzmw\nikenwKERjnEUR6aYu7X5tYMoVndohEC0mU+Oc0XtdQyl3EKj6zCNqC+0q1/DybhUcy0OodbrUOsQ\nSh47ZY6JJNPEVYlHQT0irzbQPPcHfdW38rsX3CQIQQAAAABXoFYE6gXxCAAAAFr4pl/16/wUbzMp\nx8xRhA/fvXmVMBRNORf7q34ZL17kXEQlV8Ho+UekR4vOI1vBzROIZOy6LvMelFIuHG93SrlHEoVc\nGZ1EDRy/6SoAWZnWUO8bFdsu0cjkzyWdIk7EmHN+DiUEbQQhI/LipffKL/jD38HvUXCTIAQBAAAA\nXIGjhaAe9vziiXAEAABwX2jhp4WYEOL2hxxa/0bPk4pDuVvCtkf94JKrRXR4PSDZOoeGC1GixLWl\njszqHjpKvBl1HqlaTXvHdKLQEmdnvCOFveYxXD2hBqeQFn+G1/qRuuuePJ4QhJa3GxEvIfCEc0Xq\nBBlj5cXLiEBw21AjCAAAAABEJJ07P4X+xai11pEI4hEAAMCl6BV9YuR+XkjVvYk5jHbXS0ke2PoS\nlhRnEogYqs8oJ1Gu9k9s3yVqEA2tU6NfvToyutEkirjtPXOmzkOk71xS67RHINJ1hfT7HlEorHuk\naT3f5nvMXTKZawnJLNpkUq2FUkrJHdRa66e2bfS4lcW1FOwWEZHTpoNru/rhomuY+HJo/V0K4NLg\nCAIAAAC4Av9HxhH0yL9CkLIOAADgWP7Cr/z1xRRvl65zEyPnnLnI/PPr4hBSwoXb75xEl0qFpuM4\n0j0Um/vQ1HLKMSMinjAyMnXfkank9uJcU3vOde+90esQWtKhFU5Ai0CXrguUaxO6eNZ4432y6eES\nNYJevPxe+YA/8u38ngI3DUIQAAAAwIX53z/hCzY/gJV/ayikROgP5+ZBPAIAANiiBZ9WemoAXUqY\naIlp6Nyy/WnLCRju+bfJuIhGChp6/msIZbGH+COufygOWWsWd5YW5kYLQ0Ni3yvCiO9GGyWG7a5z\n1NShThAK5yjVDmqJJdcuO4aJt1lSu23GOkfbLduBIPSGFz8rH/iV38bvHHDTIAQBAAAAXJiYENRD\n/jcNhKNeEI4AAODW0KLPEYKDJiXG6GPXZpPq6SBXizenni+MI6zLk+hzhMDhxTGYmBClhZCR4uDi\nGhLxhJJbdgyNGDPnlrpkLC1CzHLdG8Qgr/bQgBh6x4iluXMi74pNCkbhGK42EG4guAeoEQQAAABw\np7RKPamiyv0j3iY9+bmpdwQAALfAn//kz7EiyjWg0TUzTFiZY94/v+75R6n072iNQHS0QNES47Aa\nPNGdEa+DcxBpUUgLHLL/OpXqEI1y9KTq6cT27649pMcMtwNBqHe+mNNsb+x77zVdX0i7hnoFsD1r\nU7Meyz0gRuSs0q7lAraq7lBFrZ/S90fueLavqV0fM7fbpoibJhHPEWTP/BoA9wGOIAAAAIALM8oR\ndAlIWZdmxIMlBCQAgOfECT45YqnK9DFPKNIikbh0TD4jRKJWbrFGUSymQ5wibo5w7liquVnsGJ0e\nreToOYrRtYcWnUGvn16vQanfasWQ2vF29Y24o1r671n/5jVIpF2LNw1SrFXEMvp4jyvIOzaLQMZY\nefHSe+UD/ihuILgPEIIAAAAALsj/9vG/afpL3xtJrXIEpKxLg3gEAPA81Ig9e8gKRRmR6BS6d4Ix\nL0Es/dwtiEOXSDHnzSvxNHPuOh0l3sWEgqMFoiNEqCOFIW+OgfSOd3LXbD7PVrHwIrWEjBJ6KoIb\nWT8oKvjkUsgVxaB0ejjX1xgrpzec5YO+6lv52RzuAoQgAAAAgAvihKAeHlU8wnVUBgEJAOA2+XOf\n9E9tvqBTLphUmyOoEokCgUjEF4mWrcCtchShe0XvX0K5gJslFsslXEThNdMP+7VzKEw5d2R9oKPG\nPbLO0HJ9RBbX3N579zARq7evGqNHEOo9l1ZXUo1i5cQgKyYrCg13BkVcTKGTcjpmt+1mIejFS++V\nD/zKb+Pna7gbqBEEAAAAcCe01r65F+GoJolEbk+8/2OJR3vrHon01T4SQUACAIiJPTlav7Nrau60\nkuudi29JUxaMY1SdlvVgWiDqSW2Wiisb70GOolRtnJr5u2u0ZN7bsBaRSi/n2oY/G+39x/uolHKx\nOkNaXNszjw3uXePWzaVa6xSGdMyj1mLPWJ5IKyJhDaXSvPq1Ze6WmF0NIc8llIrHlOPZs+bRfna7\n3wbfaTnB8sVL7xVrT13xAFwLHEEAAAAAF2SPI+gS3It41APOozpG3QMISABwL8SEntg34aW/1GLp\n08JjlyRV88ZzsiyF5FOCurgAACAASURBVNMp6I5ax5ij6BpuIj3vJVLNefVzRLKp5UYIRMu8Bzp7\nwjnc9u7xJFgrkcVV1bM2RziF9NjVbedXfW5Hn0tTe1N/PiaSki02d8/xmnpBNa4gc7Lyhhc/R0o4\nuDsQggAAAAAuxK2LQL0gHu3p/1ggIgHArfFnP/Fzi19MsVRpIts0XbHvuGsKRjWp1A6PYX6NrkOw\nrq6NE4jC9b0E16pNlBI0hqZFk3RqOeeISQlEu+YNzu1S4tDecb36TMH4exkRY+8ahmJXaz2ho1LG\neWtSCGavGFRdL2heHC0GbYWg82aMl175GTn/3Bvkg//Yt/DzKtwVCEEAAAAAF+J//eVfGPzJ2XOK\nCI8sHIkgHvUw+p5ASAJ4DmpEnpH0CkaXFjxuzUkUjUGJQ3rNtLMoto5HrF/OdXIJF1HKPTRq7hqB\nyFv/A2rhHC0OuXmGjCOyWZdd4w0UhZr6SCB0dTiFWudtcRONEINSczaJRBG3knYzhkKQMVbe8BJu\nILhPEIIAAAAALsT/EgpBEYq/UeR+sWmM5564hQdXR7JXPKob4zE58t5AUAK4PN/4iZ8X/VBna0wE\n34C5tkejHyJrlgeyZltTJ4z2yC+elIvIHdNcIq2ZiH++nmARpO8K911KYLtkmrdrze3EORu8d/VS\nRos3lxTX9ogooYCy954blequu1aOSJMg1CNi1fZZxKCMwmtkapP6Th+WIi4Qg7Q4HaaGe/HyzyIC\nwd3y4toBAAAAAMBK8des2F/35vo+iOuotfC2yH2JRz0yT+lBYs3I93L9r8U3vOVtQ24iBCV4ZlLC\nTitb+STftlY4Gi0aOUdFuoERG3EWeVEEYpF3bOcD+dy/p6lj4UPd0aJEchSbuTqBo0hUurPRbqLY\nusRSyx0h1oRz16SX6xE/kvPM10Cv7SIOif8zaMv6xmo5jVw/PX7XeqhXo+5Dd55WxPsZuzb92t64\nwr6tY+jvp5r+Lt6Wa6P71Iw9aT1xh5AVsyxs7Nug955pWTdrRcwc24uX3yvWnprmArglcAQBAAAA\nXIAaN9Cl2OM6qup/x9yTeNRL3fW7HwfSM1yzGIhLcCn+zD/x+ckPWdMDyCu4KWopiUaXdhjFUtDp\nCHTaopEiUSsxcSh27CKxSN5NZGVbm+ioL9HQdXV0SrTUnIelYJtfrSjnkJszPN47h0nXHRrB6DHD\nGkO9577HgeO2q/uJrDWjGuZsibG1bW7RSu6gZYyKfbH9ev4wxadLD/fSK+/FDQR3DY4gAAAAgCdj\nj+so2f9BUtY9uvNIpEbiETnKgRQfeR+11+zerlOJHrdSLCVVDZ/6TV9zTx/jpycn3Iym5zvzFun7\nZGzHGCUYldY1dB15AkjYLnFsBMU4C+LQyAfxm1EibqKNW0sLQwNdRCl3TWzfsPPPzDm69pDuuYw9\nby9OGTf/DsdLuD1SGApdKyPXZM+59ziGctc6229+PYef04b5amOrOZdS7Is7aA6y9vu2dk30d7j+\n7Lt+L73yXrHnx/g3D54XHEEAAAAAF+BP/7LfPOQvqu+J7K9KT+w6Ennca55ilAupfqzjuOdrt+cz\nOXSuG+TermtzvJU1YS5BzkVS0+daGLFFweiatYmWGNRD+FAgMlr4cKhUXyF7HB213FJdomu4iFJO\nnk08B3LkPO6+02LbKNfQMsfOtHjhWDE31964alPHlcbp6VvtyJHV5eX61Mbb4iaqCaSm3Wl26dTM\nUeUKcuKScePbuc00z4uXflY++I99y739eAPggSMIAAAA4GByIpBI+19U38IDsRryJz3WdRT2v3We\nwXmk2SPx1DmRLvcAdqQD4tLXtPUzmaP4F8NNo6lx7/g+T3HIQ93Ig/5Waq94+jPXx6jPUGqco+6h\nmkeie4WiEa6iZJ0fkbSLaBaDln0R10w41qhvwhZX0dDaO9GdaRfRcs6BqBG2bV2XkntotJunFMPo\nlGl6/URvz4KlEx52zaFcPXvJXY+uOjQSOKhECWNSd7/sSbvYUuPHHVlr98z1zBrcPMU5ahxYVn0X\nJhboyJpAKoxl+hcv/yxuIHgIEIIAAAAA7oxHFRGKESIedfW7h2ufozb6e7qWjiPTah193Y8a/VrX\n8d5SnI1Y/2gqo4Z+l/xuOUo8utb3Y08qOtdnj1CU62ltxchKgIyJICLHC0S5B85D03sl4tDrtDzk\nD9YldGItx1rjiaT8ir0fKpAFwoEbf8/ahkLItGF84UEJXaeOeVJrNVLY6hnXBq9unOXe6UjZulec\nqu0XisejapBVpYsriEHLGkRSxKXOMTafty/4kHrTWpFf+Mf/n/v6QQEgAkIQAAAAwBPwlK4jkacX\nj0SeR0Aa/RDy3old93u4pkdE+Aj3xFECxl6Bpes7+GiR8gDRaJw7Yr+rKNenVyQquQWjAok67t47\nx0w45lHiUO5aH3P9tnPk9umUaNMOf21GuepiriH9fi+pGjQjxSGTEIb2ig8tjpjecXvWQn9+zjqu\n1nE6z6s5XuUSCtP7JdtWxFWKY61BtRWEXM0gKyaZJq51Pn/8acoXL/3s3f2xCEAKhCAAAACAgwl/\n3biHXyUe1XUkgnhUy/0JSDWpsupju8dr9gi4v5QeOmZFm0vct4/2IGnzMLqyX2wVcn2PXLXdQthB\nrozsnA0rcqSLKLZ2MXFoCsD6KbJSf7HvmndFmo4r3B+rU9Vz/bICmUhcRIukmQt/xhgtEImMccak\nXDcpcaj1obve1sKQq2PltktCRO05jKoHtEcU0uJX+BlpOc8ega7nDwycsKndTCVRqDatXMkdlGqT\n6peaOxeTTs9pROSll39GrDW4geBhQAgCAAAAOJA/peoD6fQgrdzDbx+IRz7PKB6J7HuwOjqlT2SG\n6iOjBKX8rJel5trcwmfyGhHcyjUaxSWudW/vrIsjsq+mpsXSti+kInu+10Y7EbJzJVYgrD2k242u\nrxZdq/nBcXKmQDhahATVZKQ41CMWjRCKPPFExHugLvN7Ue9DYWyUSBRzEPXWIIqNW3IsVY0bbG+E\nIRGxs+hxUoJJyxodkW5vjwNJn58V9YcR6n4onVt4PY5wCnlxzjWEcj/TtghT2XaJBZhceFPfWJq4\ncMzWOR7tjzjguUEIAgAAALgQrb9SFoWEhv63CuKRz17xKBzj3rimC2mktNMmKrXPXo6gn2s/8Lhe\nzZaWxo1r1FEDohjCgOs0qm5G87x72qce4M+v1X/RLuM/Q73X5FKuop60dKNEopwAlHTVWL8Wj3PP\nuH4xN9FoJ1Fu39B/d3LOIZVeznsv+x0xqW33fnRdHe2YEWl0r8S253HOyk2zCGsD3U97x2l1SoXn\nqt1CtS6h1LrXpGGrvcfdfSnza83YpXGzMbYqfR1zuP3GWHnx0nvFWiMf8tXffM8/WgN4IAQBAAAA\n3Ch7xZ89wtMt0/qw7V6EI5E+8UgEAelaD7RTjJZ1Ykd7/q76nq/x0RwpgJnCX0tfk2s5+FpoiTEa\nUexhvlQ+5JRxn5tbFYpKAlHs+NECUUqAKTmK9Ods7/WrcRHFrk2XCyM3d3Debh08cUyLDLL/no05\ne0aklgvH7BErkuNG5ki5hVrXaO9nMLaezc4r9bqsldQLQj1zt1yT8GgurlpBatPG+t9HGzF4dgaF\n9YJq5ls/P5N7clm3Mz85wWOBEAQAAADwQOwRj3AdrdySqFADAtJjs+9uPC4FFNRTvfIV31e3/v2U\n+849PPacWBA2TfTfUPEA9Fpi0dFp53Kp5kI2KZkG1Cdax4rtTIzsHuBKJMVc8EB4z7VrEYpGpj3V\ngsBmDZQgFp7bKMdUTBxy2yPH3isMOVJuIdvp1BwpzHY5o9Ra9TjEer9jmtsW1rdKXEq1yZywESth\nKsweXp5rA33I1+AGgscCIQgAAADgIL7u477Imjv49WGPcwjxaOXWH87GOExAErm4iFR7ze7xOo1i\n5APro7hWarpjU3JJlcBTS9fDywFjbMY88Fr1Plxuaq0Egxwm1iY890Kap6OFovCB6aXSzXkxNKae\n2/ugNtZ7sz42U5voABdRMg6J39N7RY6YC2Z6s609FBMNRolDbnuPKyo27ihhKLpOzqk5v+4VhUT6\nXVM936WLIBgRRFsEpWrHT+t3SoXYVvM9n2yjv5j1rZ8QgWqvixErL7/8M1Mf3EDwgCAEAQAAABzI\nI6Yx2yv+7BGebplr1re5NFURHywihWPVMvLh9f1du55Hr8ee4718vm+JqAOglWvVYrqS0Bej2jlU\nIRgVxaKKeiBHiA+lNqnvsJHpNnOPgks1ifb+ZX+1kyjlIoo4iKY4G+NIpEOL7Tuy9pBOK+cEsr01\nh7x5I+c5QhwKhaEeJ002XiUKjRawmtK/dfSzsW0l/JWuqY55pChkZUqLatWYqVi6rqFdvz96UsQl\n5zRr2w/9E990O/9gAQwCIQgAAADghnhUJ8oe8ehRXUeOR73mKUaJSMtYnX/JO4LRD7WPvq59o3cK\nnJXtto99r8NRAsUhNV0Gxdol0O/46/leru32qxm1JBbtdRXtoUcgSrUZucaxu6i2XtFIcajkIlqu\nnc3X5nFj7xGJ9Hv9wDp83yMS6PdJcSgQQ0a42Y5yDemxR6enMzudQrGx97qEeuoJuXOovY6j/x10\nn5Fl7NFikDeReCfp6vy0jrmkhPtqUsLBY4IQBAAAAHDnPKqQsMc5hHgU5x6ue45Y9Pd03Uoc6Za4\n9LXv+wxGH5fDEcRcEe5Qoatxfz1fmiLsVxNXOEbnZ6LUb/TnoTRas1AUuIliZzPCxZFbp5RzJZaC\n7tjUivEYc26iPU6imFC0cV0kXEUbR5H0X59cDaKhdWr0ayjaSEQcGuSaCbdFxtXccWP1ppPLpY9r\nFcf2uoQ2MTX0txK/jqVzaJmr2UlUEINSc+ZistaIOW3/rKR1nV959aenzzsp4eCBMdbygzYAAADA\naL7u477ooX7IuncBIcXeX/We5VfFW77+7q+zs8fhpq+hZkRh+bb5LjBHonbL3rGuxeYzVzgn99Dx\nFmJ31FyTS8ebkkFz621F5BR7aKr7XoBr1yeK4b5LRriI8vP41825SfR9H7qHjrg+KQfR0PG12KUF\n4cEuIm/OgewdL3QK9Z5rKJz0imu9qfH0fVkbf+0cVXV4Kp1WsbGS45v5Mx4aLY31Pvu6f7j98iuT\nG+hDv4aUcPC44AgCAAAAOIDNg6XCL0a3/hsHrqOVZ3IeOfY8vL5IujP94DF2PEftw42GmKCfyyeH\nO37GW6qLM4LwM9fUL3lwO96hLpOe+A8WjErrU3RwBQKRSOQv51XboWneGpxF0b/mPyKFYoWTaIQ4\nFHMQecfCaxdJMRf+XDHCPZdyx/QSrf8TObfpZV3lPcLQ0Y4ht6/aYaOdQqKufaNAFHMJtcYS9u9J\nGdh67jVtW2oM1bqNYn03/ROLvqk7lhDgXn7lZ6Z9uIHgwUEIAgAAADiAWMqQkKKgcOcuB8Sjlb3i\nUTjGPXFpEam5Rya+puvW8Re5l2SkGHEPn9N69qWjy/U84hqPuI7XuH5W5pRyUrfa1YLuwDoem6EH\niEUj1ro0QlaEEYkKRCLiPaiXyP4RpGKrEY7Gp+/bzpkShUa6iPQISZFIOWsWx43qu/eaREWcyMPw\nZiEiModR47hUYD1jR+dTsR+Voq5ZTBFZP2MqlZy7rrXXLlXvqEVY0e1L/fR87p4riVgtAo4j1XZZ\nt8wa9dRVCvuc7WnjCkr2Pxv5sP/5L9zrj9sAVSAEAQAAAFyJ4q8kGfGoVTjSfW+Z1gdv9/JAeoT4\n8yzuI03ufrjEtW+aoXDvHuVUqplrNEc4XK71WZ5mPWrF7uP7KUXsOu968NraNjJ/bIxUzaLUfKOv\ndknUyKWhO9wxWenU8QQHl8psOZh+oNzj9kjVHqppf81aRKNqEPlju410HSIjsq3TMx/veVBe2nbv\ne9fa9Tor19DZa1BXpyY7R8RRc0QNo921fKxZ3FGt59tzTVJOo2wf3TdM+ZeZZ4STqCQGlYSnqGPo\nvK0XVOKVV39a7Nk8nHsXIAY1ggAAAAAG8yff/MU39QNW9teaBxCPWrkX8WgPI67brV/7Z7iONRSv\n00FuidE84vU8NT4oLrW+het4q9dpqd0REHO7RAuRR9pdglKtomvUKXJ47qEwDuXu0jWKRjlYUiwu\nk0RcR6WZi8ZyoRpE3pzKbeJEu6Pq84TzjnJq6T9oMir+0bGPcA3lxm5qP79q503vvF01gTrat4hX\ntXWBssdFutxBm/3G32/EihUjJ3OO9nn1tZ9aRCDcQPAM4AgCAAAAeHCyv3qRsq6KW334meJaDqRw\njCM5Kn3QvVEUDyr+uvcWKH0u7/E6j5Lgpodxt3H+t/r9WRuXdmCkji0P2FN9Zdz3XHXcjSJR7wPw\nZI9MWr+oe+sgcShXByfX9hI1iGJp5kaLRLHUcusO9wTcbpwWe0WWVC2anvvMcz6plGpWxBO27E6B\nSLtjSgJi79itaeSmN9tzbZ3XbTfXNpK6mF26uJb2e+sC6fu5dU1ytYJK/w67mkC4geBZQAgCAAAA\nGEzpl45beaCXohgdKeuquM8H132MEJDCcWoZ9cv7PV6vGnrO6hY/k/eYjm7s6O5x7r6xr3FtSwW/\nQ66ZLm1ps2yED/tnUqmM1PYRwkdvm91x9MwfikdKlHDHN/eFa9oVZTqe1IPwa9cjGpZiLhCElnWc\nt50TZZQoV1tzqHq8cFydKm8WtHS9odb4UwLiteqlTRtOJGy/73sFId23NbVbTc2hlnat5OKOiUFW\nMinp5vavvvpTk+hljXz41/7ft/ijD8BwEIIAAAAALkzPX4nftXg02HUU9r9Veh/O3aMgMUr8yY1z\n9DUf+TD11q5h6txSZ7wr+s6UOZCn5vFnzcr3/FsyImVTU82KXE2JYJxjnB4S/XfLbzTV/pBI25xY\nNFIoKq1p8nOfEOVGrmV0biVKLLHo97qProWj2h4WW7A/FIt2O0gy7iH9foRAZFPbKqWcuw6nA8Wh\nkcLQco8qN41RbbrrGe38Pqn9jOU4h/d9gxNqsz4d8RedPCK+uFgZzx4xqPXfnFYBSt+b03+nhtkA\n7htqBAEAAAAM5Gvf/CU38cPVrQtHPRR/KXwA8aiXWxMejuDZf01/1Gt8etDzutXrlf634X6drKWH\nf6U2R2EKQlF473vvBogPraTqFR0Zh+9zC2IJ0lPVuImO+ndePzjW749ktGsoPodat0CEOOIeHFm3\nx6tbJNLtFiqNvyfWnlpCWnDZWzvpiFpCel1Kce2tHWQSx6v2me0+VyfIGCuvvPLTiwj04V/75x/5\nVwQADxxBAAAAAA/I07mORJ7WeSTyHO6jI/4y/J5ovcb3dG3hcvTWLco5W1I9LvVvyig33+jC8kXH\nzrJhtvsk8+/XQSJRq8NoRAypETaxRNxE+tga1OokGvnvRK420Wj30DJWoQbRCIHI6tdYWja3X4ma\ne84vdLA49qQKE5mvt3ILrQf66wzFagztdQxVuW/UtrVmEod2iFw9qeNqxHWXqq/kEKqpHdS7rtnP\nXmBh0ne1E4FEjO/IAngCEIIAAAAABpL7VebWf9VofUB468KRCOJRiT0PUK8pNOyd+Z6u0aNzjQLN\nl7h3Hy3VYO7fhz6P0bbfkXfCLYpFVUKRe+iq9ucEotKD2R5ycZYedI9y0KQEoOz+gotolFjUUpOo\ne46MKDRaIPLEiDAlm9pvdogTmzlHCENqLJN4f01RSI/TMsbiznLbDZ/x1u+92tRua4cpRabnLEuM\n2evcTAlOVWunUxRGPhfWGvmIP/nn+JEQngqEIAAAAICBxH7pWvKYxzrcsajwiK4jEcSjWi4tIo0U\nf0bfhbd4/S6V2mkv14jsFq/XaMY/iN7bpywk1f77EPyh91D2CkaXEIo894b462zmh6YbgUgSD1ml\nfx1LAkipzxHikDd/jYsoqEV0hKgRPuQemV6uRiA6ShzSgttI15A3x0xvjaHNeyWs7hWF3PZuN1OL\nICTiffZr5+753NX0WZxYLk1fRqQqnWfq+2naiKSCrNwXjk9KOHh2EIIAAAAABvEnPva3xJ835DoN\nFhVu/TcaxKOVKmHiAQUkkfzDwqNEi5GjhtEfEfGRaY2uzbWFqaNnv6Qjo7b/Nda89fu+5V+26QFu\n3cPTWxKMDnXIuP0RF9G2oYo/U6to1NolRa3Mw+a9921RKFp2qjspqOs00kFU4xwa9VlNOYa0OLR/\njvk14Rqa5vHXrXcNR6Ul3LiaXEwdolDMJdQaW5gqr1qkUf2XmCudQqPrXHnfOTvEoFxcJtG35fNi\nrZFXX/2peftESjh4WhCCAAAAAG6MPaLCI7pRnlY8EjnEfRSOAe1cwlHUO8c9XNtLFlzPzX8ERqTq\nM3hNbrfeVNs3d71wNDb+mvXruceOFomSqdTU8XCMNa2SajMo/Vyu7k6u/aF1nGJrFIhmMffQXmdJ\n+L4kEHXVVcm4hdz2HlIii3MN6Xo3Rrfb6agZIRa62M7BeLXXdIRLKBynVRQy1izxhwLc3rlaUuLV\niEG5OaOCT9DG++yVPhvzQrj729qTiAgp4eBpQQgCAAAAeABwHfk8qngk0icUityPgHRtkeAaHOlW\ngssy5Fpe4oH3YEbW+KinwvmiWsb/ztxtXXate2t3jHbITAfSZ+894J5fN+nnEg+HR7ixauoTjXQS\nhb28h+Xz+5R7SKeZG+kcSglE7v2+eyLuHHKMTie3uEe0MCRj16vXWRWKQk7AWsZtiHXI96G6v6sE\nGN0vTNdXOV9NHZ9qMUjy593roDoF7Yv950sxuYGmO/p8PlXPCfBoGGuf5xcsAAAAgKP4mo+JpIXL\n/LZ4jw9rizHfuXjUw72IR3uounY3IiJt5nwiMcnB440093Y/hA+87onWh3tHXpuiCC4iJ3Uk9Y/5\nrXzfh3/9Htt/eAzir5P/F/jrQ399D8ecNEdxRD2ezRwSWYNZKDKBSGQGiUTRODrTknXPN9BFtIw5\nr91yLvN57F2rEen2YgJQ73hD4mnoq9e1pU9NjDVjmop2rXWDUmN6Tq5g+7XX3jN/RoycrcENBE8N\njiAAAACAAUR/jYnszKdwy89x7d9aepwoj5yyTuSxnUeOqmgbXUiXemA5ygVxTwLCLUR6D5/de6DV\n6RllUBqvVm6pLlXNZyJcpViftKB0jLMoRavj6Ijvr82I2vERaxekVwuPxVJBjXSJhPv2plkTybuH\nkinm9LmHKa2k75xjjqEjhbDQRbSk3FLbzWOGtXLce+1s6XH5BC6WXU6hzYH+ePR2r1uoqp+7DxvE\ntdrv7po11XOP/BehJMx5MRn3v0kEsufb+bcJ4BogBAEAAABckPyDvfjuXvHoFn7VaX2QuTd92S2c\nc4neX4fvTUASSV//e7hOmtEPtY8Uli5xlxQfJO3oew1GXN9DHraPiCs19o6+R1M674sIG9E22zRp\nIfF/ry8jFNXW2NEMLRhfMefiosmkowtTrenxe+/J2npER9Vp0gKHjRzX5xw+5O4RiGrOV4tFo9PL\nOddQtzC0bPjr1iJobMYcIAqtg6l45nhNQ1x7BKFYPaLUuXgiVmuquYYUcFVikEhUEMqJ1ql6QaHz\nOTf/a6++R6ydPJ/2bOQXfd3/dYs/hgBcDIQgAAAAgBunVTzKCke6Qduhi7DHdZTs/wDikUifgHSr\n4tGjCES93JOwFKN3tmtf31tyqVyM3AN31ySyr/ev5kc9qB/Rd/TnokUsyjmKUiJR6lv+CHdM6fjI\nujveOCLRf8eT96l+0C4iujbRUIdBxkE0wj209C/N69ZBpZZzIsPo8x7lTomOvXwOQiFwnzBkRYlC\nWtBovC6hA2mJr1aMCV7dWEZkcjGJ7HYMtYgwLZz1HJL/fmmNJ1sTSKTLHRS7N892WysoNv/rr/+9\nSQRyAuwz/gwAEECNIAAAAICdfHWsPtCdkf3VqPB70z3+WlWM+UHEoz1cSkSqXsvKByrPcG1C7iV1\n3TWuzSXnrCmMPWKsS+Aeum+4glunl+hfyB/oiqkh94caWwkp7yQ6QhDJcSu1iURWB4Z2GIWxHLU+\no5w02TlkeydoMUyLDHuFwuj8gWvkqHMd+XNGbG12jbfDNeSu1yni8OqJ46g+Os6h4xba5eYr1f/R\n+8J13dYG+qlFAMINBDCBIwgAAABgJzV/23arzgxHr+so2feGXUciOI9qaHUg7U4BU2yY+Kv/lvFa\nCiZXt4RarvUteKlr+Uh/bZx0bmQofkcuBy8jIvRej2ukUFuP1cSsU3Ftv3vjUtJ+WpxFhzqKljeJ\nNGvq2BEuopiTxjGqNs/GOaRf9ZxBSjkngujtrvkTbpPRgtAox9A0ViSF3KA1cKKQSN01Xa6Xuke1\ncNEiDvXeS1Wp3YK2pbhqr3+NO6jVFdT6nRKKQOdzmFAO4DlBCAIAAAC4AI+U1kukRkjZ7rrnlHUi\niEe3StOnpORmaBm38aHMkdfySAHilhwet8JRD9q9OXZe02tct5h4lIsimY6osf1eetb68o6Y9E8E\n6m/gN/t0r0sLRLl1HZGKLNZzI1yIiJd2TqXtCucfIRblavOMdtd4c+lzDNPsqXRce9wpoTh0hGto\nrzCkBbMjRCG33ZpCzvVzgpCL6ShBqDVeLQiVUrfVfvdl6wYpAXPzxzyJ8wzHy93Pr7/+nqWPPRux\n1sibvv4b+ZEaQBCCAAAAAG4WxKOCeHQHKet6xCORGtEMAekIjhKVqseueMBz6Ws7QmS6tph0u9+K\nt8MoYaOlZ851FI6TTFWXmHP056QkasQeWi6xjHbCbI5lYouKQ+s7/Vh15M8PuZo7pfaH1nYKRZJ5\nn2una/GEwsEeEUWkLBLtEVJsats9VNfuKSVEhA/Te4SJnBA4UhgyYpf3NffqUaKQyPace+oTiYqn\nVxAqOm8irqaSOGMT90aqT8380TSdIs3XwRMe5/5aTNLHz7MIJCLykX/qz/JjMcAMQhAAAADADv74\nx/zWm3rGeKl0I/6rsQAAIABJREFUXpciG13i4L2LRyL3KSA92r23l66zqxFdGgstPztH32U916LH\nJdM8x52kqau9PhuHQ+Z4SjSKikuDaFnvPQ+RW0m7iEz0uPH2xR+6j3DOLGNVuIlitYmGpVwL588I\nRdPE8bRrrSJRThQaKRDp+MLxo+KQ2+6dJyEAjjgPX9Q0izDUKgqJEjwWscOEd31jbB335bJW8+tZ\n9a+JofU7vuc7yt0bNQ6hHndQTmyK9UmNoY+/9vp75Jz4PAEAQhAAAADALmzFL863/CvIo7mORJ5X\nPBIZJyBdwsGxV8649fsQVu4xzVkttxtZP2FNjBou8p1RGU9ONPJEjILD6Bqi3CVEotxPK7Zw3PUP\nZaSNELeDnEiSantUDadaoSgUE7rnrxCIRqVii4pDalz9ORjpGhotDLWKQv4YKib3XqUP7KnL4+hJ\nH7fcXw2updbPQHVqN92+4g9Qeq6nE+asiJxi4n0ouEbONbwfrZ1SwYmdtnEDAfggBAEAAADsYPlV\nJPKgIi8uHOfMOBrEo4my+yY/5y1d49g53FJ8MUb5Ym793twQexApsuuvuJchdo9wDD1C0qXEo5Gz\nhGfZM/a1HEWph4CpcY6+PjXxp/79XvYnHn6OFD1EKmON/YxxZAo1f6atQKKO6feupT4ecxSNFovC\nfeHD40OEouC7WNeAWUSFMJWV7HOc5LaHpiB05zLvG+UaCoWhWJqzPkEhLwrViERRUUg5Y2JCRXa8\nDlHXE1/m+fU9VTtfiyhUnWKuIl1cKfVc6lgoPObYjDHHJiLy6ms/Ne9TghAAeCAEAQAAABxEXlyo\nc2b4B+/TdSTS/tD+Hh7Ol903210mf/h2xCNrxN7x/dbCyERrl7hvkzO0uDdax64eOHw8DC3UrH+p\nTe+6H/VwPte2praEyIGumFK8+nuwQSw60h1Te7xUaL0phuT+2NxbV5Hx3m9/yjni3mtJOde7Nklx\nzEacVUpYidWEGb0Go2oOxVxD05v14bsTu/acQ0wg6o99KwqF76tFoXBfxC1VHVdP+rhlw0Tvm9J8\nLY6iqnbKKVqqNZT7w4BUTbUasS11Xq+9/p7p+HkVgN709d/IjyIAAQhBAAAAAJ38Tx/924Y/nWoV\nj1LC0S2nUqrhEV1HIn3ikUjZfWQG/6obe0haFLFEqv5K+JF/Kx9dveeoe/qwT8rBD+9bOPovgY86\nv72j3v634ErLA8jeguR7aBKLUinowgeeavtIkajVZXRUarVpX+qbTLuJbPDv3FgnUclBFO4blXIt\nnMfq90pIca6PEYKQnjMnDu0VilyNoWnHNqXZHgeUjn2PWyj8N3nPv9GeSCWyXLPecVqug7tvFlG1\nsm5Py2e8Kg7lkCqlrutydsVSv0XG8e5jEXn99feIcwE5zudT09wAzwJCEAAAAMAdk/sV65EfuMd4\nVPFIpPxw9xLXumqlCk637DiVDwye7b6+V2o/WVzPsez5Rss5W2r7HMWtpvgpiUWx4zUiUU99khI9\nKeiGphvz9oWxrP8aawEh5STaKzJs4qkUhUammUullovVqBlxvjFxwL3vEYc2bhk9dpBabo8wlHIL\njXANTfH0u8G8z3dDXR+R/HUozSudazDSibmce0XautQ8se/AXkFU3x/WGvlH//Sfuc1/NACuDEIQ\nAAAAwCMSSe3Fb0RbHkU8GvlX5kewR0QSqRSSRBCTbolat8fAKS/pQhopTFzbPeVIRbHnDw42btX6\ncJqpuSaXXuusa0fE+5yk1ioUiHoevJaoSaUmkk73tHddW51E1ms13kWUqsMT29frsNk4h5YNs7nm\ni6gSiA17HUQxcWjk9QzPyYjIWaYUYJ5Q1Dr+gBRya6y+KFSTOi6MY3oTbBt3V7aNU3tO54xrOzdH\nS8q4vWJQrysoTBGXG+eNb/x7Ys++CHSrfzgAcAsgBAEAAAA8IPoBUzatWOEXNH6V2pJ6BHdNgcja\ncvq4m6k/1EH1yo4Qk0SqBaXY2CO5t/pFmmt8Gm75Hh5F7AHXkWm9RvRpFapHuz024xceEo5IoTQi\nDi8Nk8LMD171Q3aRTM0OOdY5k2pzlDjk49fj0aKQ7jXynirVI9p7/qFLyNsfc9wMFofCefe6b1xM\n+vWs0pxpF1T473SriLK/7pPxXqeY2oWMacMs16f2eoTCXGuNn1o3Ta3zp7XOUEtdoNyxc0QMivHG\n1+MiEG4ggDTG2tv46yMAAACAe+Kr/jG/PtDoGi3XpHgqmV/OHmgZmrlFp1AN5es9YIwHo/l8H1xw\nvZV7f6jbI3zgfYALYyS34ioqUf1AVESuVeHBPfgutUkxNH1Yan6JCEThnEpI2vyFvRrnKPRD+Wh8\nMn6tousi+nx9WdL3Fo1dD30fjajLUzOfFgVDcWzUuY2sNeSNG4w/vRn3vdsraDmXkNvumltk17k0\nx9yQpq6lTc36pQScVL/YfhM5FrYzxsrrr71nicvdM2/6+m+85X+qAa4OjiAAAACAAfT8bc2tikfF\nU4n9RXqu74M/BHfszTl/LcrXO767ymHzoCJS89Ut/RX9jYsMJVpS6Rwax4HpYJwL45bpPf+LptQ7\noO2l0qS1tsn1O8Ito4WfZHvVxj2cjo15CedMqv0I50l6X+ybyv8JJiaS9QgpufRyJcdNb0qtcNuN\nbd22m1P8c2o5v1Q6udS5VMcfOQ8Jvnf33Jfdn1k1a+/PeZ6bS0R0PaEWB0/1urr0ghVzVKWAG5A6\nMNUvWosrEm/Y//XX3tP8HQMACEEA8P+z957P9zzZfdeZz0Pv7m9/u6tgtJKsZMmSLFmyiUWOBQVF\nKnJ4AiYZEJkiFBQUBUUooCgoCso4YZNzcA5EE0wwxvwT0gbLklbPdJsH9/bM6TOn8+mZnrnvV9X3\ne++d0Hnmfm6/530aAADAadSKR7MKR0SZCbvID7M7i0d3WXsoRVFpEwcl+18elGH28ZDlAiIDsBUA\nrcWXkRNgI8PRFeWf2V9yLzn6HlHbH6NEkFR5NHGIaBOI5H51YfemkubLxrfv8u1woMizwol9GWbO\nt8FeKLIUJHKCUdeYEGn7svt6ru6bQWsOmYSVkwIK9Y87y7WFatYVktfU+t46pJt8feWREoNK0uXH\nR0NRZvbF8qjpk8/8op/fnYuQcACUASEIAAAAAKASGRbuKO7kOiKCeCRp9YRcTUDyWAlJ2bQqmvXM\nMRKdOO6YrDqyPmd4mo4c+7snujvpmmw1SCNIb/BT1L0OgZrjYueU3C8OvV4S4od0hnhGiG+pchR9\nRyuOIotJ+tRnbZ/Jmk27z7INuGAW1nZhW1vrXyIQWa7TQ/Rci4Xo6XhcRTAmtrS6htY8E2vetLqe\nFiJ6sLQWllaNmCLbu1W00hxDpd9NfD2h54kN7VHq5il84KR3XSBHWz/VuJ21dIjEvVuEJPSvzi30\ncGcFEwXgWkAIAgAAAACoRPt5NKvIAPHo3uIR0fsJSJ7i0mcOLBaU5MEFFIfaSe4sz3QXSqX4TJ5I\n/qxZrotZQtK1sCt1ixhzootsphA8Ja1QIxad7SyqDU1n7i6L7khcbQlhSFurxNpVI7f1Cg5EmjDE\niYWY4zLRYi4QjVpzKLg+XpP4gTAU6d8WYYivAdQmvITlfCjlLhWFZNn4a48g5D8XC0LBhzJRq7a8\n68MMBesH2Tim4uu8aemreSri1Wd+0c/vRCBHC/3Qb/1983wpATAxEIIAAAAAACoJQ4n4bfqRMWb+\ntXKnkHVEEI9i9Dg4rjr5rlFVkwpRSTt89LVi0isFk9BHhgXLMdKJNHKcWwkpVUKmcs6RlNZ5iPOl\n8piUWHSWUFS6xg7Hsi21lHauCreQe000t4hGI9w02nbrNZo2J0gYXo5eW/lZvSIYkS4OEdmEYiPa\nC0P8/Zq2mKQvrVesr3jZi10pkc+rUPBK15e1VhiSZSkvV+gSqnYIRfIvKW+6XLRdfweJQUT6uCgR\ng3x5/bbPfuYbqqPr8YAbCIBSIAQBAAAAAHRQKwnknzi+nnh0N9cR0QDxiCgpIE3eHDsgIunkana1\nfo5hMZEJDEhMtifHYsWEKE/H2sHRe95hThjlGO3YVkfRCHdMbp/lujtBOkT6d2RsrPIJeyLiaxNZ\n3mNSQpGFe2g9f/eZ58vbYKsldw09t7SjTZK3ihnxTLZ6pNLtdeTUCiG5dFvFoCANtr1FECIq+xso\ncLy8ttWKbEWiENF6DcbW7cmlVbImUEl5YmihMvnrw33QD/+234s/SQAoBEIQAAAAAEAFv+VH/qau\nmZL8ybXi0TXFhbcTj4jUybEe8YiffyV6HRxXFpJqSj5136ae9h9J5SReL9a5Wbdac2retSG2JTnQ\nBWYpGh0pFqVEIqK4myg2YT5CEFnTrnAXjVh/RyuDF5HWenuB4bXdqiy5cvBto0SimED0HCPPEbGQ\njShWImbU1G13FOuzh0/Hb2Pr+LTQE0JOT3BRQ8fViFYtZdIEIaL8dwIXax6vMtaEvcuVMRgTBYJO\n6/7Y90eRK+j1+TO/6OeDvLwI5B5T/7UEwHRACAIAAAAAmJwWKSAdvgbi0Sy0iEdE7ykgeSwn54+W\nM1JjWNaqqmQGTVL1lHR/dm1YTQa+OVHXRoLl9TR9sVvyANGuRTA6I3xa676YCDBKIKpxFg11FIk8\nNeHhWQgXfhdalSESdk07xrzOz1Rfn5Z1wp+LQ/44a3HIShjapenL2+n2KnW3JdMQ5Xr485lA1FKm\nVudSqUsoEJnZ+E+Ng1rByuIail0X3tn00bhW12cVEcj/++HfDjcQADVACAIAAAAAqMD6KdlR1MoA\nra4jPbV5uKN4RHSegMTTuAMziUqDrYYBKfeBevxEnT76rjuyqhbj7SxHHJ+ALCmBF452aewSrg/X\nVIOFWHTEd32NSKRN/spjLNsz5ZjJnWMZZk3mu/AQZbsDw/x7hRMtf/6ZCyj8c1dewWvoIPJ7Wl0t\n0Twz9WtKc32zCVsPeooCm9DV7xqqLScXhSS1ZZLCWkt7la4lJNuz5P5Z2kY5Maikftn0KWzXmjWQ\n/OsqAiEkHADVQAgCAAAAAGikZYJpVvGo1XUUP/eariOi+4pHRP0CUjKNNxORJDULQp9NbSln6rfW\nsGGlzHqPriE2LXikWBlzHWlpaKJRKr8jnTB+v7ZOxVqewWMm5RbSPse+m2MCsFV7ljqKrNorJixq\nohCfMNcmu60cNrHPFmvdEIXXtlMloNB1YyWw8PV6iFqFjvD1wdxCvn88FmUmamh3MX68YNVajtrQ\ncVXrCLG8auqZDRdHlHUGta4L5NyitmcsHBzR0w20WxuIluF/CwBwVxbX8ksXAAAAAOAN+c2//G8+\n5Q+nO0xMejLTbY3nXZOriEcWFFX1JkLSVcSgGs4Yq2f1tfX9dqYxO/PY9OGZJJqYoS5qLo45kpRI\nJPcfQa0Q9KFsix0/Ast1eJL5+Dxer96RMso9pJZBEVMs67yJP9v/HwlxqKeuvcKQmqYvU+faQrt0\nO8q3lsGn0dBfrX39XCeq/CETf38s6deceLQQFbmNWtxBmhgkj10Wt4aEI2JOIFrIPRASDoBW4AgC\nAAAAAJic2qfeZhaOap1H2VBmFxaPWp/HuqKAVFTVxDjPjwMqEpJkeiNoCXI18wQ9UftY5dS2yjpx\nefR4T7kaWtI7YK2cUmYem6XfczwskrqdKNrmo8Si4rJXiEQ94kDqrFJ3keYCHTWOc+vwENmIRfKM\nB0+f5Re4U4xFotT6Q5Zh2PgV8FhdJsx9s5ODGvJKOIaIOl1Dcg0f2vqoVOiIlbXWJcTvOYv8XJpG\no3uFO4WKXUIVIeN82WLi+uIWcpl0UuNW28f7MVWOnQhEz3/k2tsTAAAhCAAAAACgmJKna2fgfULW\nEb2beET0XgKSp1dIIioMb7cenHhCdgBHSQVnCk6tOR+uA82QJh/LEwlJRPmxesQYy37HvSYv/ftg\nl39zoFhUup7OaGI9kxOHZJvk/hayFEtS2/j2/pBrckM6xBz//GEgEmkCkbXjJuzTJXi/uYaWlwul\nQbxPCFst4p0mCvHP3jnUKgrVhlTjZQrGR6U41b6mkRf00ufwduPhEHfXqSLkqWl1rgu0E3xI77dc\nqDnvCCJH9Mt/x++Z6WsRgEsBIQgAAAAAoIDf9MO/2vGfLNpkyLbzekIDxKPcudfrU0mPq+PKIpKn\nqvrak/tEVa6jGZlhEr+W4ZHMl8EOsc5J/tj6OdH85PlduduKlDKtUeONT17GD3qJRQlnkTaBybFo\nmdJ1dWJl4sdZfyfHBKKaXEa5iVJikbVosstPiETBPhZurtdFFBOH/GfL/nbB1ejfP0veKgytaYv1\nXVrcXbv+4OdT6ByiirKWiCHJ8rzGwipOVYa0axGFatYRCsZqJv3kuj+vtKICeqUryK8VFBtXn/vM\nN4K2ebiPVQSCGwiAPiAEAQAAAAA0kPw5FZtEjp2X+XE260+e9wlZR2QtHukpzsu7i0hE/U+5gzaG\n60CTd2xQ/4p77lqtg++7I4SjEYJRiVikHVMqFA1zDzaEobP67q1xFGn75AM00qVp5SKSbcTFE/65\nOa/UZ+kk8mVRJr17XTc94c526Srvt2t5jDDEP/eUP3DAeCqdlFKsIiobJ7t2axSEfN417cBrGLtH\nyrGYS7dIDCJKCkKlffh4iUHyXE0E8gq0cwvcQAB0AiEIAAAAAOAAaoUjonbxaNZfSHdyHRG1iUd8\n6zsISET9jo6ZhKTsGG4YrxNVb1iIuhmdRpyi0hVWYcR4bV9fouZge+Egm6XReBslGGVDuhEF7RYT\niTRhYEQb14agy63R0VWWyLbS1C312VL3kEX9o06hSFg5HyKLyEYIS4lD3UJLRhh67mmjJ1ybnmDY\nvr3lqgvhRpsgRFQlSvWsJVQUMq4gjF2u7fl9z9yF6MO/vZBOILiBAOgHQhAAAAAAwKS0ikfR8yAe\nTQEEpDosQoNZTc5ni1IwXuURxdUzGNdnjYHSabAzBCO3/mdD12SuQRr7RHWhIkV0grDhHAssBKMR\nYlEyrBtRXCRStuWetO8ht75O7twRodZi2+S+ES6ilHtIbrMKxbaeqYSV8/XwoQp7Q8rxtPkrf29R\nFykMLfQM0fbBatjjeuoRhbhLyJdr8aEgE+vmaOXg7+scO08WtwSh60rao2cdodQ9zt+X1rJl1uVp\nEg4j52rtJl1Bn/vMN17l3NYD4iLQj/zO333VP2UBmIbFDQ+6DAAAAABwbX7jD//q3R9Md/klkqzH\nRUPWtTC7eNRDwVRf5/nXZibHkSWpas083md3D+VYx1NHNc4ek8nJ0cj2j9wT5IXpjyY9STrGWaSX\nw+epbOdtmVp7Q6Q1Cuma0bYPydfnqWzjn49shyPqvwoWRM+xYCgOaXlZuIZ26b5Kuv1v3z895Vwl\nrMY0+FioTUMKUlXnlR5beA/z95uWvxf4vSp2vnau3La88l9FILc878XCBYSQcADYAEcQAAAAAEAD\nLT8dZ/wF0+o6ip57QdcR0T2dR55xDqT83pn7/O6c5d7oZVR4Os/oSX6r5yybnWPKubW0VIE7HnJp\nZtep8Mc1lCNH6/gqWY+jLr3Evtz3kXAaxcLQjQytpm23DjVX6iKK5TDaWSWFALM1iERIud17Edqr\nRxyKuYb6w8ktwXvuFtr8ODaOJ6L6NlfvV42Ondp+X49nTqGaPEvXD1pebZ1zCC1uIZcoQ9ThQ5QU\nqkvhItDDfayJ55x7AIA2IAQBAAAAABxE7c+kWX/2tIpH0fPeSDwiupOARDRSRIqnbktq4v5sZ8Yo\nHJtQPIKbNuM4XPzqyPVY7Zi1Eg5q7oe7Omjhuah0wnPAhH9lipZOomgKLp46n5D1n/nT+nzSe+T3\nTzJU3iAnjUwpJ4BrImPvGIoJRER1ocRK8wju33wtnIqwZ7X5Wa0z9FivFb7OEL22tdNbrueHZb1u\nWsToakGI5bvmV3LPKwyZ5+9LpeHics6gWH616zDF0lnHHBOBEBIOAHsgBAEAAAAATMpdXEdE9eJR\nVki4qHhEdG/3kadHROJ7yqaBx/X5iCjaM4hLOfdGLblUtGY8a0yPcBxZu4y6UnNKt5YmeNDYLL0H\nqsWWk+5U5jCyrFpsDGkTrlYiUa2DiItD8tzgwYzE0/4WbZZzE1m6iFKikK+zE5+1NEzHSsTVYCEQ\n8fQezGWy1lOuidPTtp3r5ezSW18X1hd9ohAXSFrL53w6xNqwsjy1+WvCePYcsY5StkwZMYinWe2u\nYvcZGSJUK5/8/NnP/PwuHJw/17llHdsAABuwRhAAAAAAQILfoKwP5LnDT5M71MGTrcuFxaNWriYg\ntfLROcl6R2YQnFKk1pS5Gldf18iTHTOimqPHWNJJGpRDHKU9XJBZw2j05RITiLR9Y8vh8xfbfftE\nnDtHtJHM1yrUmpoH7YUion09HRF9mOfO8u1Ya6Y4D2ICGBM2eF0t+tdmbSFfFrfb5t83pdsoWsl2\naqljS95rPQvCxtWkXxIuzruiYvnWrhkUPX5x9PnP/twaDs45RQgioh+FGwgAU+AIAgAAAABIoD3N\nmnQrXExseBvXEdHbOY+I2txHniuJSNqEHpibqrFpsCj4SCxcRlOISS54SaLVOHqeaxONilskETYt\ndU7A4Ptd6RiRxx3lNotej9xVxCaHuaPI2k2kOpxiApVFSLDMZ81Z5N+T8rmqHAmnjX/fS1AX5nYJ\nXENEwToxLX0oHTlEDe6S9TV0CvF1hvw10eLSaQ3ftr6+2m8VKwvKEQuzV5Lv8nJ0laRf5j5a1tfY\nvcUREV+PamcwzawZVOIKIiL65LPf2ESgh37Nww0EgD0QggAAAAAAKkn+zHqDNXIgHmXOzfwQn7Ut\nJNcSkdhES/K4+qeBr4prnHw/iqqeaF2Pi2j4BP9RpIQEK7GgJhUXOUFLI1bymmOzZckeFG8l9fuZ\nj7nUQurUf5/IiUSx/ZrLyFI42n0HsDZUcxFtJo9rbafUGjxym7Vwwj8HAorYb+FaWdMbGE6OaC8M\nbR+WbmEo11c1deCikPzst7Ref1q5is+lUFArDgHXIEZ5ccXnUyI6lYekK1s7qNbJVNy/oj3kNkdE\nP/a7f+fEf8UAcE0QGg4AAAAAIMKv/6G/5bQ/lJK/fC4mHLVyp7oQFdTnTfpVYyb3UX1bv4+4lGJW\n0cl6bM1YzSncRBmWyNMQUiiIjSN5qnU/pB7W2AmKfOKS9AlaK1GgllFrFKXzVPrnJSjwdvCLyo9w\nEUXLdkCYuV2e4r3mKLKqq5U4lEpfc4dY1KG37GE7t4tCvWXyffrBzq0tS2l+vnyloVWL003cH3J5\nxdYAkvXnx33y2W8Qudf9ye3FoIdb6Ff8rt8149ctAJcHjiAAAAAAgAl5d9cR0b2cR0Rt7iOi9n7l\n54Ny6sddvoX5EXXpX8ddlnq+8EyRqMfZplLwVPbRtJboSAGp5PlTF/0QblrW/zLHVJAqXhAqKXe+\nIhLF8hkxjmrcRSOdZDHXjnTXPHdsQoNPz6ptSt1DlmJKiaPIykGkuSo8XARrrVvMMeSIuu+FMqRZ\nbTkDZ5MSOo5ejpea8dQTxu2htFWtk6rGVVTquimrQyJU3KsuWj20tL1QJevuy/LJZ7+xpUv7Nvf/\nAABjgBAEAAAAAHATasUj/mSnCsSjKWgRBYn6+pefD/ppn17M9e/8TpA70irqBkwgKMnJv1yJjhCO\nSgOWuN0b8XHRr54RQkxq0jImEBEJIUKcZz02Yn2rbZdjwqLfd+JILFSfEBl4+8n26g0JVrMWUSsu\n8T4mCFkJYTFRw0oY8gKB75v1MzUIsZ2iENHWjuGYzv4lZF6etY2EwFl6bnXIOEqP1RoxiEhzFdJa\nl52wHdn+iLiWVhHoEYpACAkHwHFACAIAAAAAeFNaJjO1n9QzhfVq4Y7iEVH7ZHVq2mRUX/c+/Xn1\nMdiC5VPzozkqGvkRziOrJ5VLFgEnil/HZiJGRUrpBcbDdEaKRm79L32Qi9zMUmKRtVCUFYn8BKjM\nV66xMyD8V404JPf19m/WRfSaEI6JRc9C2DqIYuvbjAgv58Qr3z5KHNJEsN7wbLt1b5iQR9Qn1vWI\nQmta6zvfqlvrjnQJhXlT1CWTyi9XdzmGUulaCIG1Y1ATg5xb9vdjdg90tL8OAQC2YI0gAAAAAACF\nX1e5PtA7/2wpWcAW3GOMlMalvzpXEZbaxtS4up09xmddpyhGTXFlr81+LeaEghEhympZ/H8Roehj\n0bev5w4k9tCFdMn47ZLRQrHvsyPWIIqXgV5lEG0wcM2cIP8D1h9Sw3G9Xkf2sUVdVunFrzPE3EOt\nZbIK4bcQrWHj/OeWctSUh7dHbX6lx3G5qzXd1LXs09XO3a0VJLZ9/rM/lw4H93oPNxAAY4EjCAAA\nAABAofRnZlvQifMnTK1R3SOHl2JuWqcuZmrH0e6EWRjxROqIScLG6bTufAsCYZ3CiGccR4pLPcUt\nOjexbshoLB8PsApPtk+Xkg2p7V8njhMiEbn+cRNzwmguGU0ceu7YjjR3OolUSkLMyW39ZeAflJSZ\nc2htI6MQc0RxBxHRJhb4962kzoyNgxHuqFYHCU9rdQs1hpCLrYfUur6QX1fo2Wb16/ns3FC59X3W\nN2wVowKXUKnoFIRbLBCbYumlrtWUcCbT88LOx+Lok898I9pu3AkENxAA44EQBAAAAADQQcvPe+UB\n5OLzZkRdpJgSdbzg2kNnMvrJ7hp2EzB+e+qkgsmZWeo3kpoJjtkdSe8iCM5M64SZOoFXebw1FqLR\nCLEoJSxKkUiblN9tf93Mm4WH2PbYejtEJEPPPV1QLtg2ykFTGnqOu4ta+1CeFYgysTBzTCjSRKIe\nYmsRWbhanPJ+IaKHOE4KQ72il0VosbUcQrTw5W0tGy9XS/g2p8qW9W1Wkrc6DnPniDqWlKN3Hbqk\nIBQTkcT2hYg++cw3wnIp5/h/P/57fgf+jABgMBCCAAAAAAAE/05lWLhaWt1DVxKPkmUtXHsoPADi\n0Yy0uhI9ypV9AAAgAElEQVQ8VkISTwuch22QyHS/H9XfVi6jWcLWxQSkqLhXMak5soqziUW5ceH3\n7wSi18xyqYOoZCI6JRCltufEI/l0PxWUJYfWj7lt1usR7dol4iZahGBm7bQZseaQf+9FoF3dqV0Y\niolbRPV1SIpCBmsW+ff1ghARbyF/zyi6DhvyXs95tUFJ2DgpLCaPGxS6ufS+L11hJD4/IAIBcDgQ\nggAAAAAAJqdHAGoVnY4mW843F49K+vFqdSLqF5KIKsZ6xcTS2W2ZcnvM7BayLVmu3+dtByu8mGAp\nItW2GneN5I4pmvj0x1aWo4TeKU9ToSi13ZV8520vsTB0LbVNiT/qPiYaaW4i636sEYWs+isQUSIi\n0UJETogUXf0QEYSsxCHNNeSRjm0uHPW6coiMRCGxplCraNUqWHFB6Cmo1QtCNX0ZCCYVYlhJuLhU\nGUrKGLvOfNi3VJk+/ezPqfkRPUUgAMDxQAgCAAAAABC0hNyZbXK2VTy6jeuI6O3Eo54ROHvdUhTX\nu+C6rhJQG6556yfKz2CWe92oUoxq3RHrFx1BzXhLCQnyuNLJ0SOEhprzrIUHuVHb55RjnqKMnqaV\nQBQL4xQcz/txoJNoS2+seyhIl4s1ROFYTghEJvlpf78Y3Xt5CDnNMUTUJwxpolCxQ4a/8nBo9Cy3\nDDvWWraaEHJuFYR8n9cJU9V5MjHMRAwqSCsrGCXEIHkOF4FiY9o7gfx2uIEAOA4IQQAAAAAABtRO\nzs4ymcppdQ9BPLqueOR5VxFJUtUOhdc8P8oNCtNyJL3rW5iVY0BLzuoycu7pCmkRk44MSTdCNMqu\nnUG296DacWUlEKXO1vpdE4ee5aCq0HM1xPqs1Ek0wkUk+0sThSxFPKK8QEREq4vFO1t6HTcyX4+V\niyh2Ji9zS/m1cGkt3yHcMRM8tNQowrU8UOFzeLDx1OoUygo3tO+T0vTVtXuIgrHYlsZeDNKuaeeW\nqAjkXu95W8AZBMCxLO6qjyYBAAAAAAzg1/7g3zrtH0czTL720vNz72o/FZPlzfTl1eraw7vV9RbX\n8Q3qoCG8DtVnhlvmaKOUABCbCphlPSOiyFjrXJ9kFPpy88eOhdiDC0GfOmUb6ZO6VvDJ+w8mCkkX\n0QgXmF6eTSQa0T+8vrxPPgYJYmu+lQ6cojRfr75vrMrdKgrF0iLq/BuzsRzeJ1TjFGqp+1IhKKbS\nza1DlDxXuVa80OvT/MLnflYNzeeYaOzFIEdEvxJuIAAOBY4gAAAAAADGyB/ovbyj64joms4jokx5\nI33Z4z7i518Ji1F6pXoH13HHNXrq2D7wCd4j72P9U4kbralYfweNeu5zxPpFekYN0/SVQpGV+FDi\nJpLHWIsQ0dRcep9/8Y6idfMAN5GL9anfzia8/XYZbq63SKVOotb+cbH3PKQc2YtDqbWHWu+lsbpI\nWt1CPU6hLTHWUyKtYSHc/HksdFzpwwQt6wiRW9YwhFmnZKL86xiJCEItrqAPLX22fycIvf7BDQTA\n8UAIAgAAAABg7MJOSC4UBuwOax0RQTwKD4iXLjluiW4pInksR+3IdtiVs1bcTaVVnEj+zJnGwiyh\n6GrZStwrCR3PTEFDioqSEYt298aGEHQ9WAlEVsLEuk0zW7GDdbHmVb5lt6l8wl0tSxhezWnHKSL6\naFGIf7YUiKLiEAt19uwLu7WHRghDRPrfHj2iUJBOsRjDXsXaQrVhCZtEml05FvpgoeNK8iwRrNdr\noOT4lBjE00oIQjExiCi8Rz3cQh+Lo08/+3PruTwd+d5f33/s7/ttM/25AcBbACEIAAAAAEDQ6uSA\neDQP7yQeeVpFpF4XEk/jDtT2/5F1N7nSCq7x2a7pEQ6k0XW0WMMoK+7ujj4+JF2NaDTKPZQrQtSB\n8iIpFMUmSdm5PaTGibZPTixbr3/zTHO/ISUKaU6innbJCkVEOweI30YUhpljxWosy5J9b7U+lJzo\nl2LRwurZtR7QIGGIO50kzXI46/eWcno3ii+XF9hqyiPLkM9zcwi1CFAl+ZSKhEXrETX0vTbmNRHo\nIcaaf+/cQr/q9/72O/3pCMBlgBAEAAAAAPDi3/5lf1vzL+ta8Sg5+X4h4YiofpJ2tklmz9HiET//\nTHpdSNk03kxIugO9T3cDC8REcNWZcc7u2xLhyFowygpFRGUPefDJTL9f3N/4JysBomYf328lDpW4\niXZOooW1nYGLKFkmTeiTLhuRl4WTaEsrFIUs1h2SItDzzRKOxYo1Y5J5dbpxgrTY66J8JurocxFK\nrrVcudBoJWUgKhRraBOEFvLjI98GNQ6h1T0WSbfF2ZQrhxzjX/zczwZ58XaWr4+XEAQAOAcIQQAA\nAAAAJwDXUR13Eo+Iru8+8hSV/wAhiad1NGdPrA9BifE/mqOvccuJqBFlb0+xbAp67ykZT417KHfs\n8LWJ1nLkRBf/Ji0SWQlE8XKUC0ejXGNOfHByGzuIu4i8WNTapzIPJ/uCO1/YZ8vwclt+cdcQnzxv\nEYukMLy4hR5rBm4Vh5759dMrDO36hb1yUail/ZvX82FCRTAOmKBSWpZagcX3zDYC+tP39ViPSIhb\nqXZ6sDB68vxcOb74uZ/drwuUEYEQEg6A84AQBAAAAADwYvYJXbiO6phVPCLqE5B6ajVb3/YKSUQV\notpBayQdIpoMTv+MK2e2sVnDTOsYtZRCPyc6nTh+/BkIRjMIRXyyOXhiXxOImMPDrGyR1HLCkLWj\nZd0WcRHFxCLfh1ZCzS5EYCS8nEVoudg6Q9p2i3Wf1sl6XychDLUIHbv8KkOkJdNirwsRPUS5asWY\n1rIFgpB/3xg+rkSU2vZs3qBc/5en+WqHjBhEpLdRqs4lriCfvmPvU68AgHNY3EwrQQIAAAAAnMS/\n1REWznOHnzbJOlxMPGphlslcayz65y59HOPjpn0vmbUfR157s9aZc5V7Tyhr6Hs3jnMbaSzL+UKR\nmjd7L51CPMyTXPOGY+li0dB8C6PXn5IPOiyvDe71ft0v3EPWbbG8RJTNtbQ5Rnx+vrzWWIWW29JT\nytvogEnmY3T/0hxCPeVrWVdodSs1tk/Lejs1zqiS9JfMcbF9XKiWZdHO+eJnXyHhXp9TTiD/GW4g\nAM4FjiAAAAAAACNafgbP9muo1nVElHGpXEw8an1ScfZJXAsX0Z2cSO/M6AnkVkY9JSwdGFehtD3O\nufeUTVPn7x1LRWr15J55bRGJnEvvLyFVrJ1rZXfAJsWNDD1X4iaydhLJM4P+eQlCXNRwJDaQzf0t\nFlqOXu99Hk4RiLrzVpxDVm0qBcZ1LBkIQzFHTq0II51CveO65XuFt5O/zmrapT5kHBMdC/q6Zv2g\nWpehP097MEbm60Ugv0++D8LwEUQgAGYBQhAAAAAAwIlAPNJ2Xks8ImqbbJhdPPKcLSLJtEaR7cPq\np3zn5Q73nVJMrjLDkEjRLAaHy7EK61T/rHvZefF7xRixqFUkSh0/TCCKiENcpAj0kEHOlVi4s9yx\nFn0nU3jsVCP2IgYTDzHHd1eXISMQPRO3c9lseYWpedeQf9+ern+zF4bWJmwIexlbL4ao7t6TunfU\ntq8sQ7GYQpubpdZJVVtv78MpcYX1ikG5ssXELJ/v6gQS9yZNBHKvdYEQEg6AOYAQBAAAAABwMWp/\n9s/406tWPMoKCm8iHhFdR0AishWAYmnZTXLmDih0aJSmF5zU3lJHje8riHkxLCegZrufzDy5Vj5m\nygSjo8SiVpFIE4P8sT0iUaw4Wt9r4pCfCJYT/7tJXrJztMS28T6yEDO2tMIPuxRf25bFt5FdeDkn\nBKGnGOXWfR8+3B+blO/Kj53J29DMkeXXyWECkVUYuR5BmruE+PuPjjLUCF1c5FgdYVTnFCoRb7b+\n7ReD/HEtziDNFRSIQMTEOs0RRKEI9Mf9d7913i8rAN4ICEEAAAAAeHss1geamTs8/d8ySX9H8Yio\nb+L3SiKSp9RJMAtNLVzZp/xont/s/Wv9pPwZ7CeYG2pUOSlnTc095IgxVZZDXiw62lWkUSIS8WNG\nrFWkjVGnbRf7R7qJtrLpKWpiUauwsTMLuXCnFI1YxjuRqPaeFZsYX9uT9YXlGj0ypFyvMBRzPzku\nKja4hWJ51Lp0+PtWx5B0r1S7ldh5ubIHIlJlXVN1KRWDWtJ4vLYv4lgv8MTSIgpFIEocDwA4HghB\nAAAAAHh7Wn9E3pl3FY+I7he2jnNHEelqQpEFo91RIxk5io6ov8WE1i5MT8e5R5Kr+8h7REnKoVNi\njy4U6W6VEdQ4jSwFolJHUdZNpEyYWwhGJSHnrNxDgZCwU4wiItGyF4RqBBxNvCB6TbQTHbLWULcw\ntL7Zu4VIlL8pfSGUNJWNtr/fWlxXzSHsuNBXmU/2WFEj7cwSIUsTdWQa6vm+f1986XM/s4XKo7Au\nvA+d+PzH//f/7RX+PAHgLYAQBAAAAIC3R/4ou7MQMJLaKYBZ2ytZjxbxiOgW42bWUHb17oB+Zu0z\ntY8OEvBmbZMpSa35koA7Noqy4ec10iN8xc4dts5Sdv+SPG5/H9/uIqPGd0oc0vZpoeeGikYpN1HE\nSWTZVimRSIaZGyYSeYFoCT+vYeaovc5cYOPtycUh7r5pbV9LYSi6VpKxKNSSBncJrc4rCv8eqBFr\nytf2ISK30ON1TokQVSo88VBxqXtRiSuJX6+7BxKU8/n4/sJnf3YVgWLrQGki0KPjOwQAYM/ialdB\nBAAAAAC4Ef/mD/ztJn8MJX/m3EAEmIW7tVfruMmeOxGzOolqOaq9Z+7XkrLdpb+J5uuLnRBUum7V\nZH2SWpw8d9xIYoL+Xj7Ku4isBZEUI9Ylqi4DsUnjAhfRiKJ5cYN/tk0/7j7xH1pDypXkueZXuTZN\nXX42bbbeqzpFoTU95kKqTU+KMi1uodp817xqzik89ilsJX5XFKSjrf+TOvebPvczQigNBSEp/vjX\nh1voT4AbCICpgCMIAAAAAMAAUxcJhKMo8Um6a9IybojqHEhnt09LqJcZGV2DlIPp7D70lLTBLGW9\nI8HT94Vk7xUnCDCtLqOde9e4nLHUyqfdQ6eEnKy1cGhpnBVyLsgj+PB0RuwPYpknHES9rhf5ma85\nJD/XCB/ySO4+4R82Vw91i0NOeb9eBy+hZf2+N/iu9W3SG4rP2inU5UwUr3JfTcqlf89wl5AX73L5\nlDuEiCgxdksEM/fqkxJX0JeYCKT1Aw+NJ51BEIEAmA8IQQAAAAB4a0ZNzNTkvd9RKRwRQTx6M7LT\nEH4igCjrLDqClkmcO4hHNaRqe6VrePii0AUTalZYjMCz+84RrQvUl6BNyusJ6xOJltSOpTNcRakW\nkHL89veGU47hR9qgCURy24hQc+qEu+wbPiaFy427Xiz+RsutQWS1/tAzLfaqqDgW4tCapP+e522p\nCEPVYkcgaOoOqxoRjYtCq9BgLApVrekT2VYq1LSEjfPCS2m9s2HeniVI9kGqnL5PcmX50ud+Zpfe\n7r3YJl8BAHMBIQgAAAAAb8365GbDuUf/xDF1HRHdRjyK1eJKdRjJmWJnD1aTCHcQlEbUYNR4GO6c\nEotXX5Uj3VU1raW5jqL3WKUvjrwf9wpFZ4lE3GHES+C3SAHJOsRZUJZE0iOdRNJBtHPbsJBTT3fN\n3vViLRLJ/upZRyfIQ7P1vN67Z0ZrRWXYsiKBQrzfCUNEuzWHRjiuitNRRKFeF3NL2Dgu2tW0d2ue\n6/3HWAxKy9HxcvLfB4s4PgjlGBOAIk4gIkJIOAAmBkIQAAAAAN6Wf+O1PlCrCFR73lSuIyJVPOI/\nhvc7ryUcXUHcG42fFPLvVQomJK7cLiOeSj1aXBrhTLnq9VFd7oL+H9mfV5SsSsusiUba+TFn4kg3\nzJpHov/5hOeRIlFOIErnrE++Wwr+MXEoJgz1rkkUc2iEeeuOIj+2epw18XLtRSIrUY635dp+jraQ\neuyPTLfUOnqU9zxMGz2FoRbxQ89Pdw0VncvFEWLlZQJRVd2F6FETyq31flQa0o3nxctWIuLE0uai\ncu26Qf7+ra0X5NxC3/TJH43eP3MiENxAAMwLhCAAAAAAgAZaRKArTLy+u+voCn1US7ZOmbWIsmlk\nJj5mb58WeiY5znIoWeU6Q39aTzLNUCeNK9yPSspYIhjFrou9Y8aW3FiqCUNlsR6afnZyinc9j0v+\nlsIQ0V4cahGLrISiXVgqPynNXEPP/G3aIiYISQGk1z0UCDhCzVmWUHBrbc9AGFrcc8y+tve4hbb0\nO0Qh/iqEq9rrSl63Ndem5hQiKm+XkrwC8aRQ7Eqlm3MHJcPEKfu+9LmfaXYCObfQn/g//Dezfq0C\n8PZACAIAAAAAOAC4jkLeXTwimrMukqK6ZYSkbBo3dyTdjaNkrCP7fPfUfAsHrl1UQmk/HVXmEkHa\nh6+Knqctbi4+2wkf9QJR6tgegUh3zMSENekAdeI+HHcU9bZdrVhkFW6OX79Bllp4OaPQcrEwadbi\nkOehOIheGT6FIaqvBw+/93yzuYVM1vJRQu21pUNBeZ6Jld9vpYjREj6u1D2lrY9TJAot23WaSz8v\nBj0/xQQheb4UAfm6QGv5Xjwi4pDfBxEIgPmBEAQAAACAt+Rf//6/w2k/t2ZaT+SuriMiiEdE9xaQ\nPBZCUlE6hdftDG13xoL2VhxZykOFIAOHUWztoqMFGYs+iqUxsk9irqHwoHqxaISjKBduLrZdW3fD\n+trfp7aoYa/4fnn2KBeWJgxpDqJut4vyeTe+WGg5KRD547uFscHi0Np27lW/1x9JzcLQ+kaIGZG1\nhWrz6HELBeWh5/3Wh7crDv/WINKs57LXIfdBt7CwgPlwcbm1g5bKXwTuFSKOi0ApR5B870UghIQD\nYH4gBAEAAAAAMGp/xMw0gXuU68ifdzQQj568g4DkKa5r5rotFpTWE451KZ09eTLTfcwzqkSjWjon\nZKTqsxAVi5kyzf7J6n5GuXLUfErEInnOC+1JeH7e6OugxmVkVZZYKvpUc+gQeYoW2z5rF1GJg8ja\nPfRMk01kE6kC0TPTl+hY6NYoyjsiDvWl+XpNCUOs8C0CkRybvt1cY9to4ph/X1om3let/VMjyHIx\nyOdV6uLxlITA5O2aSzNe7oRQFLnXRUWgSGpcBPL8Sf/jf33FPzUBeCsgBAEAAAAAdNAygTvTpCvE\noz2t4pE/d1Z6R93MdctRXfeS63qyUGA9jHIn9DCiJKP7q7XM0fMKx+FRWItGI/ojVUY56R8TsOSk\n7MhrvdZdNPIajbmJtk/+mLiLyM51Ff/MnUP8c3+ei/rZu04cMRGELF18mwjC3UKtziEpDK3t5D8v\n5aHO1LS5WOadkEaiUCu+f3wf1davKpSbeK3BizDZEG+F951YOo4WVnclpKb4zv/mT/5osN2Xo8QJ\n5D+f/UALAKCMxcUCtwIAAAAA3JRnWLjrMNPkbAutPw2v9JMyW9aLuo+suGMdF7r+tSm5W300LMbi\nTOP5Y3H5CckBThMLYu04WiyKEXMO+mt9JxARRSdrLdwjJexcTgeLurLNpHTEP49qk9XxIj5buojW\ntInVQ1lzaFSfW4aUI3q1jfPCic/DIN31jZ2LqrbOMl8trF3y/IxQk8uzJp+SY3rTW2L+v4QI5D87\n9l4eI0UguIEAuAZwBAEAAAAATA5cR3XnnUHNRCwnW88LO5A4FqNxtrruQgppNF6Hp43jg5/oPeM+\ndbexuFvwPUNMtCg91pKevrB2ZfA01e1On472a5VsB2/9EQtFZ1rmE8LNBenvtmjtFHMQ2QhFKfeQ\n5iTqIXCDsDV0fNnlekNW4pAMKdcrDMk2WojoQZtAxMPK1ZXTvxH3JWUdpvI0tzrXlIGLGF64K+kP\nKXrUhI3jn1vdPLuyFIhB6XR48D09f/49EnPGcSACAXBdIAQBAAAAANwQiEf1555Bj4CUPP8mAhLH\nanQeMXG8HVCXW7ZfixJJT8OCfnrH4qFjUB4fGZOqyJFZkDw4trIcpTSFX2Lv7cJ3Jfbl2lRMivN2\nHeV+0sokt2luot6/A/YT4rIcsel8L6ZwoaivTWICkXVoOVUcok2AGCEO8Xb1glCXMORfdyoKrYWt\nLbPWLusYaxhrPesqeYFj7Q8qrw8XhHLXiKP9NZ3q72IxiDL348Qxmujq+abP/Ux4X0iIQGv4PSEC\nPRp+bwAAzgNCEAAAAADejtzPx3f9SVMrHs0kHBG1i0e9555BjwDxLi6kK2JyRR28rkgPIxxIR9TV\n2lVUkt4RgoZ6bKFwVCIajbh3VAth7L2NUyOxL9V2UhwiWu+9XEAauiZQ4fpElmXICUWOTVc/v6u2\naXQuEo0QiIjswsoFTj1tnZWXGMIX7ulxy8hXT28oOeeLuiXIX9rS5GsvNabVKgpp97TSducCSI1L\nKHf/ywm0axoF7qC0ILQQbzkfEs6nn1sPSIpAftuf/D/9V/izEIALASEIAAAAAG/Fv5ZZH6jFVfKu\nv4Cu7joiap/QvaL7yDNURCKaXkiyeBr7apSO1XdrlzPR+sTqIQUrsaPmHi/dL3IfFzpS51uPwaRQ\nI/Ib5c7Z5Rtpo104rd1B+iSvZdvlnEQjXERBerv3e0eR36vV21IkshaItMn1RQk5KAWSnjpZCEOB\nOchQFFodJkSrS6gkDNq+fJtQWOOK2lxQS3B/qnEKZd08hWmVpFsqBqXK8vF6v64L9EozuO4KRCBt\nzSAAwDWAEAQAAAAAwGgRga7mJjmTO4hHRH19flUBiaiw7IZC0qg6W42oGfqkhNh1J7daXmlnXbfW\nE1PHrKtie95IB040z9xaNbsN0gmSFotGiTQlbapN1I9ALUtkbSK/z5+nOYqGOLAKXERB6DtDoSic\n/parC23bFipbCyaZV8Q1ZC4OBXks63ekI9pcQ0Tk2OT/mcJQUhSqbAtVfBBCR01dtXB5VWWpWEuo\ndh2hoN0yaft0Y2lyV1nKZaSd/6CFvvWTn96nJd7zz5oTiOi5ThDcQABcDwhBAAAAAAAdtAoCcB2V\n887iEdE9BCRPrZA0Yz9yjird7IKYxkzj7g6MFo+IxvfZSLHIWvzItVts/xGOpmJH0eLCvzeUyWEL\nh2TJ4vJ8u8V9PXQOyXGyX2no6YbYttq4p8JXon5xKObMWMPIMWHI96eVMGQiCvnCvNqgpWzeKRT8\n7VPhgrEQhFaXUul5vi9SAo547RKDXuV8JqS3jXa+F4Hkuj6psHBO2QYRCIDrAiEIAAAAAG9DLizc\nUVx98vgK3EU8IuobL62ONX7+mRz1JP7sXLEdgrUwBnBUG/Q6jM68r7SIQKXnDBMnC9qbCxu7bcqk\nqLWbKNVGJQLRKMeOJqQ5bftr3wp38IwoV2G4OSv30JaCCHlFm8DAA8tZrT1ENEYc2tIWwhB7tXAM\nxaSWEiElEDlYGyxE9KCw7uWCDjuHiTPla/QswWtLyDifZ0mZa9YQshCD1nQy7iG/71s/+em1TrFy\ny+3asVJEAgBcCwhBAAAAAHgbaif0ZhIGWhxErW6ld6V1wnemcSKxFJHOGBt8UWmigvpU9sVVx/uI\nyVprtMl6K2KukCtQep85+r7iIu81NFEjdYwlwZPw6gHL6pYIzlkL5qLlH3lN1TiMRrqaouOPT/py\nJ5EW7q2zjDkHUWpNoqp8Ip+frzxPKRAdIw5ZENxnY6HkOgU276qpddfw8nlRaBtjVOUa4uIMO319\nX1aWTRAqqYvMk6h8PJa432T5Y+2QS6ukTN/6yU/vROGcc0/WnwtDcAMBcF0gBAEAAAAARLiyq6RV\nBGoRnN4dOU5mGQO9nC0CcYpbtOCaLZnEDk+YU1w6a5SdPRaIGuueWrtq4DU7ejHtUeG2So9LnXOG\nYJQViijsk+A+J8SO7YPdOjdBspX7DnNhxZxEiovI2t1UIgpZrjtEVCIQuQH1DD9715B/35amcAy9\n3DP+c08YOemuIeoLJSddQ7WFesixWDEmWpxCUkCpcQmViEElf2/F0gpC6Snl+tZPfro4FFxQpkiI\nODiCALg2EIIAAAAAAAx5J9dRK3f/CWk9STULpTWavX+re6bimm5y4lWsfTADs7iRLAWWGeojGS0g\n9VIyzmsFoyPEj1S7xgQiXw4pDo26dmNtpZVJ7rcoT5GTSFmPiG+3dBDFyjA2vNwSvNccQ5biEBeG\neBi5rvWG5HhmbqG1nTraS47+WmEoLBsRLWF9i50+QgCrrU+VIMRD8hWGqSsVg/j7lBhEpP92cET0\noZzzSIk+7HPsuMAR5Bb6U//n/3LuLycAQJLFyUcRAAAAAABuyL/6S39N8EfPlX/FXFlkaG33K/cX\n58p9V4JVP92lv0tY6Jrj4k591F2Xi4l5RPOMuZxr6COz/6h210Ref+0G4bn8vshE7ejyaqLaEW0k\n28eLDPyztasmWhbmhBnlIvL13eQwe3Fol6cQSszSJap21eTT7EsncAlV1nldR4io6d5cW3bvDiq9\nvkvaeMmkFQ0TJ/Z/yyc/ve5LiUA87JtcM8g7gZxb6E+BCATA5YEjCAAAAABvQRCbnRJPJyd+4szy\n6wch68rPm407rkPEsShla3+n0pudK7qtRo/II+vaW5ecmFFz/tGU3JOGhs6r2J8TgkYKRapLhoiC\ntXXUE0NXRiz83Mhy5vKyEKhkvrFwc88C6O6hEc6h2OR375gOQ3qt0+8J51D9+jq7PF346ukVhrhb\naF1riMLv4tosZAi52vWFvEuICyylIliwxg0Lm1YbOs6XvSq/AuGpyEXE3mvpRcPEsXNiIpB0isXc\nP0SbSwgh4QC4DxCCAAAAAPB2pCdt9M0t4tFMP5neLWRdj5gwU795esJEzdSXJViVVnsy3grLMRJM\nwmXyM6tLYkzMOP6nRxEDqsS94glKcV4HrfeU2Hmj7jMWQlEsDRPRIbY9thA7EcmwanwMBO4iI6dZ\nzdgc5SQK8tTEM7+NjyM22W3htNEmvLljiH9uSj94DcUh/n5htekVh4g2gaR3jSGil+jC3SH0rMmD\nwvS7OsUAACAASURBVLapyaJnFG8uFS9aeFGnLZ2WtZJKRCx53WbTrBCDYuVMjVkvAiVdQL68Yp92\nzsMt9Kf9/v8Cfx4AcAMgBAEAAADg9vwr3/drun9p14pHcB2dS48IdLUn+nO8k4jEGVXy2BgZOQbM\n6xKbzCcqFiVGM7uAx+kpazCBWHjs0f1kKRpZ31NKhKLU9VojEpk4Z5Q20cQhoteEfGLtHasyyXy1\nbZrzqjXfpHsoIRL5cS/r3NMGqYlyT094OV2oDMUh3qLN6+w4/X2LKORir69wa1KwqxFUNIpcN+K9\nXEuoZAzIcaaNpX2+S/BaJAhlQkTy8uTGU65O2vm/+PN/JDuunbjOUuHgnvfQmf/KBQDUACEIAAAA\nAGAAcB2VMZvQAPdRSO+C9bP1rwVHi0BHciXx5Ugs3AjJ9Cuvs/T3y3jxRc3WSCw6SiiSk9xBGSLb\ntUljKwdNVIiJtSvfLsLNjRinuXYko3xTIpHjn4VA5if1LZ1UWhn8Z0txaFGEIf9/77pDQ8LIkRCF\niKhnjaHasHHreVz8opcrisoFIT6Wat1BqTIHWzNtknOi5a4vJ0SnEhGIh3iLhYWTItGf/vv/8zt8\nlQMACEIQAAAAAMA0tIhHUS7gOiJ6X/GI6N4CkqdXSCKar781rEo4Q782XZOp9NQTznm+eP6RVE5N\nP+XcL8+d/aGxSqgWvQYKWyXiRm6fNlErjxkpSmw7wjV4gu8XZTLaxN2U+GzpIFLzTqxB5EObOSL6\nGLT+kKU4pAlDj3ULX3eITIWh3nBygZjq7x/U1tbyG6F6PSEievCGceXCELllDX1XUm7uEip1CGXD\nwCWOKbmfLIujb/3kp6MikC+H5gKSx3HBFSHhALgfEIIAAAAAAC5M9Keloesos+tw7iAeEZ0jIPnz\nr4SFmOQ5c9H7FEUT9Z1pj6Rapy5cR2FGrije7taFiKA+cV5xrAU11/toN5GaZ8G+EnGI7+slJorI\ncuwcRnJdIssyFWzj32WWopSc7F6FlJdrxQtEZnlHxKHm9JT33DGkCUO9olBvOLktHbHWU4dLiFMl\nDMlGy9SHu5zW/CrWEcoJQvK6iwo+OfeQP1/Z962vNYF4WrHz+X4pBkkRCCHhALgfi5NeUQAAAACA\nG/EvZ9YHwk+cPMk2uoh41MKM4lEvvX1y9T6V3LGPJR9nFyDCiLE0c3/W1HfExHwpqdBn/BitrUeK\nHaVwV0Zs39Fo4r36VL/4PMJJE+THhBH/WQpGvM2sXDVqWWh8fbX8FqJdWLMR9VwW1x1STk13ffcM\nV/bRIQyp6XckFPRpR+i4MM368xfmECo/Z+uv0tNKy+bHXCrdVDstFPbvL/78H1nfp8LAafu56MM/\nO7fQgxASDoA7AkcQAAAAAN6a6ifZh5RibpJtZOg8mq1tW5/unXkyute10luzGft45v6yYNZ73Fnu\np1y+w5wug9K1pqScO2dJ5Nx1kj2T/iGh0zL7W5/SLypT4TbtGC3EGpFNm2lOood6oO4iMu23yHvp\nqLJ2LO3GsncQCcdQb32tXUNruuu714Q+Lay8vg5ta/AQhU4hojoxRXOgPD8sxMMX1onkzFlTWifH\nXT9EHwUZruV9lbXkPlC61tE65hJiUGrtIO/2+6C4CKTdo7VQcER7EUh+BgDcCwhBAAAAAAAVtPyU\nfsefUi3iUZILOY/uKCAR2YhAM4oSPZMds/cZUVmbxyabWznrmqwKKxbbcdL6RTFmvGaI2gWjnViU\nEYqOEolqQ9KNuPZzgpEUQ1LCUItwoeafWIsnEPlYyDWtrK3IMsk6WwpE2uS4z2OkOOSRrqHmdLcU\nmeDlRYp2UYgoFIaa1hXiAguF7Vo/Xn0fuaQIw0Wg9fWVWS5PR2E/5fq9RqhyGTHIHxMbD14E2rl8\niILrNCYAOeWYVQSihf6M/+U/m+mrEABgBELDAQAAAOC25MLCzQx+fZWRbKcLiUc9XEGMaGXWsGZn\ncKV+vnK/aS6WLMIxcfb9RRMKUsediSZgBPtFewb7T3b0BWHTEk/wm+fr81S2acf5Y637WxP3edkW\nYuKJ6KsR5YmVYWT6cq0hyzy9MOTfW8EkmECs6Cl7bwi57UP7/TMnCGn5buO0rP7+nI/C/igpi79O\novuVfd8WcwK5MMdYKDhNBFrXCEJIOABuDRxBAAAAALgt0Sd8M7G3Z2DWp8Bno8V5lHSmLOrbqbmz\no2WkO+BqHDnR3MuoEh7iECPauVhqWF5PeRflw89rzjGfdu95I9s9W1Y5sSl2nykS1YShsyxLzjmU\n2ie//7T2K+3vEgeT5ijy+7hIZCmgxlxEI9LXnEN+zSGivn6XE/zcMdTjHHJriXnJfb80hmxTilIq\nDgXj0V/vDWsK8RFUIgg5/ur8mCwra2n7l5YjtR6RzOvbFCdQ6VpA/n1KBEJIOADuDYQgAAAAANyW\n6E+v2BoBqXMmF49apgNmKPcZlIhHy/rfvUn94J9BcEhNYFrwBl18CiNGzlX6qlRI2k3Gn3C99eSo\nnTuij3Jl3K2LwVCdUYMF1drwc7vQeIYCVkyoiaXOJ/+txRMifXJ6zcct5MTkv0UZUiIiT7vXyRNz\nYTi3bK4hL+I05iXXGbJ4OCAUhbb3LnFEdR6uQRSSawpReT1bJMVNGClzB/n+5M63VHmK1g5KXPu+\nr7/86deDz/J96rMUZmMiEELCAXBvIAQBAAAA4Jb8S9/7d1b/Mk4LBHbi0Sy/sCAexYETZT4sp23V\nCWJjRo2Zs57WnU0Y7OVUl0vN8ROItVaC0dFCEZ8A5aQEopgzpVsoiPSjtp1PCFs6AUucRC6y3dPj\nIErlvRNQ2SS783UXIpHFeIoJRVYCEVEoeK0ONyZ6WYwtHkaOyEIc8nXfB48rDb3GXUL+fW0IOaeN\niUL3mDyqSIwhVu6lQAyibexaiEEpvvzp1/f3tEQoOCmSa/v4mkDOLTtnEQDgfkAIAgAAAADooHUC\nT2Vy1xFR/YTgLOVuYZ24oJTYFz//ynUnSgsOM4gCPRwhAKXyuPrYOIOj3WC5/Kz7sEXgKxI0Dwwp\n2JLDSNE95XyRE6hr/t6Z8jqGn7Nz7/hz+oqpl7FAOBrmasp85ttTDqJe58uabiS8HCmh5UYKRK3i\nkJbWWseIMMTzK8oj4gKR61jVjplQGNxEg6XJdxOKQ9Wi0PpmoQdtdStNplqMcfTMhwpDxhWIQURp\nQerhFtVh9G2f/yM7ESgX/o2/18QiKQI5Ivqz/tf/FH+eAHBzIAQBAAAAABxM9CcgXEdENE/ZPelJ\nVn1zss/8AfW7pqHXlXJ1ISlFac2u0M+cWJ9ftS9LSj27mBdzvGjI8pY4PqyZSSjKiUQl+9YJez7Z\nzo43FbUiziHOiDBzOVHIKdv4vpRQ1FQexSFCtK0t4wW7XvFGzVu8t0g7JgytolajMLSmnxAL+saG\nL6drdrtIl1BpCLmUuyp/7ibG5MrtxGtOaOTlIoq3b0m+jglC65pAfn8iLNxuv3KeC95vx/6ZCAkH\nwFsAIQgAAAAAYHJMXUdEEI8OIFuHAQJSwe5psApvdlURgqhtnMc4s98tQ9Ud2Z+9ObWef4TjRT1W\nTghHjtP6QHXOVORdQ1Wd2PsjroESl04wac8m8Z87N+fKkeWT+3pdIskyKJ/lRDqxz/6YJpEj9l6G\nlWMhxUqcGy35+89WdZJih5UwFOTVIQptR2/ry/CS1rmZ9p+bBCGidU2m/Ll1reccy29JiEFCqEyJ\nQc+k4mXlIpCWftIRlDiWi0DSHQQAuD+Lk3ddAAAAAICL8y9Wrg+Enz9Pou1wgZB1rVy9/JxsXW4i\nIo3mSuKSRZ/N1O8mk7MHhkJrYaFyd44//kiyT7uTD5WUF4zOKvuRwlUKTdj3AhERRZ0DVhP9NfA1\nZo66dhbxXqu3hZMnlocjog9jcUjLk8iuHtyVwstvOVYs2uF5n3um01K+ZSkXhLS8/TVWc3qNq2lJ\niEFaWVLHxvL99k+/vr6XQk1KBIodqzmB/LpACAkHwPsARxAAAAAAbkfNT9isAyNx3t2ItoNhyDp/\n3izcqe9bXUhE/U6kwkMuQc7hMpPA0FuS2frM0l00M5qTIEVJq5i5BGqOSbiMAsEjkf5RDqkzxDYt\nTy866CdsE7ZE273mCOdTaQgxSwdRyXXARQ+iPmFFcxDJ9VOs1xuK1bE1XekY8mvKSMdTj/PMInzc\n5hLi5S0vk39evWVNoVXYI1rXEiq7h+ZdOjwTx8SqpICe6Q8t3y+/RCDNqRO7VlMuIJ6OFIHe5XsX\nAPAEQhAAAAAA3ppWIaD2vDv+zEq2AcSjHTPVQdIjIhEVXhNvJCZdiSNkrTP61U9Y90xyjRD9WlKs\nEmfo3DBp6/71TZ1YdHQ9ZJ6cw/JPhJyT7eEK3ETd4kXGfSC3W4dZ08QTKQjFBKKufH193EIPv/EV\nWm4Vh5gQVtvWso4W5efpyrBkNWvnRNPuFIXC8du3rpBcU6g0b1fZFr5sqTI6loF7dWaqWDXXypc/\n/fpTxEqFftOuSTX8m9guRCAioj/7f/tP8KcXAG8EQsMBAAAA4Fb8C5Vh4Y6i5VcWfpk9SbbDRcSj\nHu5SjxxF9SxsjBnbbCYn0dF8nF2ARq7YZ7Vj/8xrRcs7mDgWT9FL58ZZ/RMr0+i21AT3hQlDXlw4\n0kmkseY/uI80107oQBkUVs6LQ0RdzptUHv4zkY245/tBjl2Lsrf28Qf1rXfUFDauQRwrFaxKwsV5\n8Tt23Ld/+jVV5Emt96OJmZ7HKgjtz3EICQfAWwJHEAAAAABuhfYDaobJvBYHEVxHT97VeeTpGb0z\n1idGUT0LDtrC5PSVx5ojwq/McK/TGFGqGVwvKc7qi5pca75nRrR33okoJjmVQ9Q6DBYgYilLlwfR\n+NB3O/cOEe1CzFHoJBrhIkqWSXGVWIhETrxq+ziacFSbF9HeeSPXV7LIY5dnY5rr+WxM+PIu/LNB\n+rX9+VAk1Zo+agob5/vO91tBXiUOobU8OWfQK+9nmcO0vv3zX8+68QIRiPRx7o/brg8hAr32aWHn\nAAD3B0IQAAAAAG5P7WTeDJOpR5Xgrj8DW8SjLBcTkIjeR0TiWD8JDvqxvp9drW9Lv4OO/u6pEYFy\nx54pFMUm/XdpGIYyixapcNvIMawKCpFQUutE+BJ3Z/SIBMmJbIO1aHb5RT77MSzFuh5xyPPQ6sSc\nJzz9rrZ8vfIyt6QXhA0Tn1scM+v5Hf25hiwjWt/V1K03bFyJGORfe8WgZznDNL78+a8nnT1ymyO9\n3f21vrsO+DpCr89/DkLCAfCWIDQcAAAAAG7DP/89f9dpf9jMIB610BSOw7wU1ybZHplxcee2PLtu\n6X4xTm9yrnp/SmES0sggDUty/SQnB4/qVwsh6Oi2TpU5aLdMiC9rt0yMvTdiv310/qvQINrHEdGH\nCDc3ulyra2VwaDmiZ50+yFYc4nlwgcW/txCGZD6WfHS6hGT/tfallzRqy7EsT1GmVBj6qBxvuXBx\nC6Xz9uLrQk8RyFMjAGn7A1EyEg7OuQXrAgHwxsARBAAAAABgwBVdR0T1T+qXTAjGzrsrre6jbFte\n0IHEkaU/uszpfqlLq3rcd1R2iLNiQAiYs+9hFrnPdh2NCh/YO6FeembquKNdRam81BCybgnCp/F0\ntFBqRAeWV3yWopFFOaRzKuUoWIiioebMypNwDlkJRDyFh0+fbJ1D0nWzvmfCEBkIQ5p4aOHk8uO/\nNi3NreI/V7mNxGivdQiVsgooheXLhYtz/r+IO8g7d77906+xMqdFIBnKLbYekC8fP46LQAgJB8B7\nAyEIAAAAALeh5nff2T+DWib8zp54JWoXgSAe7cm2SWaMzDAeajjqyfoRVLd0Y9dsT4+3nX8ko5/W\nP4Ke0s/QRUesO1VKri1dwTEpUjW1uLf4idmSfdI5I0UUy+tCS2kn0tA+FF5Pe+TyVNtKEQ48PcJE\nTWg5y3WHiDZxSNtH1NnGGWGoJ/1dX72oEnL4eyV0nBevavpUikN1ghCR9+Es67uSPLf3Jd+rXLjj\nzi392GV9bRGDviMhAsXGeexz2OdhO3MRyLmF/tz//T+e54sDAHA4EIIAAAAAcAv+uYqwcC3CxAy/\nmiAelZ33DlxVVLmSWHsGI5wGIxklRBx13zrr7nhG/569TlFJqtY5j3CnaNtjosfzzWvLIr0N4x1F\nMRHAPO/ExPTqHmJh0UzEqsjk+Ih1h4iYQCC28VK0uoaI9hP/Cz2FKB+yrFccImoXhYI0mHNmS6wt\njFyLIETE6+FdOWV5l64jFIylgvWDnmWKrx3k2ID3aXkRKCkABenrpFxA/tWxV7iBAAAQggAAAADw\ndhw1+TfDz613CVlH9H7ikdq3N1qTyHokXqrurZU3qOSV2ulsRtxvtDSP7JOS74wzvidSOcbu/Zrg\nYDEZniqTn3SVrKHnpLsiUVbLssVcRCPE55R7yE9IL0SrgMBdVJYi1aiQcrt8Iu+7nFCvVz9xvyTc\nQj3py7Sa0jAKI0dU3k+b6OHHU4W7yFHxGkJchHvmli5TVAxa/yP6jk+/nnX5PDcKp09irSBNBHpw\nQev1+uf9gf8IX/EAvDkQggAAAAAACngX8eiqriOi45/uP72v1I3xUmWFshuJSBqjx8fop/vHnrgx\nQ1g6S6fRmQ6XlnMtw0+NJNdHR34v5HIqCZVlKRBFyyAnf9k2Lo7w8ozs/5xY1CNk5PJUBTPmnlrb\nptCRkc034hjiokOLUKSNLc01xNuwR7jhbqElISy2pO2pdTZpYkWr82vnjMoKQv6VC0JxQWZLu61M\nufHo98by/45Pv55O/8VDtEOYhy4CaesJcVEIIeEAAEQQggAAAAAAhlH7k7zF0TLDr7ori0dE7+M+\nypa3d/K9oE9nGK+jOGLi9giueA+yIHYfs75XtaRWc84R/VF6z08dN0P4P23inkgJ7ya2W6FN8EoX\nQHBfjYTSshBqUo4q7fPQtuCh5XxoK3qFSXvttxCINHHIf+4Rh9Z0xKt/v4hXokqxhJUz3LEJaT1t\nw8vdms7jJVhJF1NpmrXrCXHPjs+txCVUvYZQ4djT3EHfWSACJQWgyFpAsTS5CDTTenIAgHNZXHPc\nAQAAAACAOahZH+hutPy0u+rPwZnEo1Z62v6q/cYpqsPFBaWZy2ZFcx2X67XPle47tW07a1+k2nxU\neK8gfyoXgbTtlg4atSzSCUIUhFbThBLLMuXKOSpfLY9AIDLMK8jXwDmkpkth+7QKQ7G0n29sHFW1\nLqHUuS3h41pC+z3XD1roo0JKL3XELhXtupDbiUApAUg7JiUC8bXKYiIQQsIBADxwBAEAAADg8mjP\ntcwQ3ugIjpqinKE5r+48Imrvr1YHEj9/BorqYPnk6gmi0jtck83juGNWWMtzJveLZLZ1dCSl95Qz\nxllrm1tN0Je4Y3LnSjFEbusqS4GTKLUm0QjRRAuRJvdbupZkOLLVYfOqs+WaQ5pzyEIYijmG/OsH\ntZd/TVOMlRYRRparVhSS9fTh7aiiLLUh4575LcFr3EPD89nep35HlDqDpAiUc/lox3lH3PN92jHE\nXyECAQA0IAQBAAAA4JbUmp7fRTgiqp/EbREhZmnOK03ipugVge4gInGK6zPROibWzDqJn8Kt/3Wc\nz7jafXuGUGmemvGTOnZ2oUiuCWNelsz2lDBEkX0WgtHqDOLblPWI/HEjws1pZQvEKuP0gzrzCXYv\niL0m7q3qJsWJNTujtXoe1B9GbpeuEAZ7RKE1HeV9SRpeEHK+vUrWBKoMGReWd2vFMvGpQAzKlOE7\nP/36KlxZuoCCc2jfLusaQdP9FQAAOBuEhgMAAADApflnv/u8sHBXm4Q8Eq1p3qG5riwsxLAKKzMj\nfjJ01vL1ctd6eSzuwbO0UdGE5mBRQ1IiIi8Fx83YxjUTyWb5U1oEItqcIPyzdpw1C5uM93nykGuj\ny9AjdNTkQa98PvzEvLE4tObFJv7luGsZc3LsLOK1lbXuSyiX9KTXVR7h6Ko+N3cMbX1dsobQM918\nmvLviF/y6deIKC5aSxEoJQAR7QUdKfho2+AGAgBowBEEAAAAANBIy/M07yIe5Sa77spdHEic3pLV\nOpKOHCvaU/NFNE7kHc1Ro+qs69vkmcZljvvTjIt5lzbvozOfo2qutbEM8bWW6SD3UG6bdFxwLJxE\n6/mRtuHijA+75oWUtUwGIflSriErgYin6yfLl1d93PND1DlU275aKDPu2qhtL9XxJcrVMh5kuLa9\n67K9nE3ONn4NNp6fXGMseF1e6wil8/LOoJhDaP074jVuNBHI55FyAfl0Ui6gmAtNE4EeU3yzAQBm\nA0IQAAAAAC6N/iy//iNwhp9E7xqyriYM0TtyRwHJU1vCSwgmB07aX6GPr47bvSngZAGp9J4xevyU\npN5TglgtLd0jsbbUth9xPaYm/ddyiM+aYGQpnEjRPJi8FuXSymRWBpaPefqpsHL0FMJa84ut5+IF\nop5xpYlCLQ/jaOOs5vxYei1prOs+VTiEaoW2rb7L+n887e019ne5cwt91xe+Gl3DSwrmUiiqEYFy\nTqAHLfTn/4H/8J3/rAYAREBoOAAAAABcln/mu//uqj9k0r+I5hWParmqeNRS7ItW9XRmFhdiffqu\nff0xcV+N4gp9vdB2r53V8VbDrPeElBC0KPuPCqUmOTvsHNHevaI6PMQx5mUQIeYC59CgPNe8X6+j\n6ka0CRP+vXVeFmHk1HQj70vO2zmjFrfu6y1LdTkqxbgaoW2pWFFH+zv7u4UI5EMPxkTA9bO6TXf+\nxELKQQQCAJQCRxAAAAAA3ob0z8Da30zx1M7+9XXVkHV3D2MFyog9jTxifFxhLIy+Lq7QBrOyPiVe\nePyy/hdJL3bOQeRcRmeIRakcc2HVNHfEqPZMhZ07am0nzT0TcxGNcBAR6c4Xnr4TDg/vhLBol5x7\nyL/vykMLzcXq1CsMae03om00ETV1nnROPe9lrqlde84ht+zGUPK8CpeQdwa5V8i4EoeQ/9v5uz79\nWpMIFDh7lBxzoeC8iLR9XrL3cQDAewMhCAAAAAAgga3cM6/r6Koh646clpykyiZYPml8BNcpaciI\niVVLYgLb2WPDMvdhE/+t5yROVN0bBRWwmOQuHWeziUUlQlFMCDpDIMqFm7O8N8dCzMnPXhhItVNr\n+6TCy8lQWDuBqCPfZBnILrQcEetTUZ+lUSiJpk/bWLEYJ7zfWx6FCtYVanAJNQtCYgzVtEN+DaGF\nveYdQs4RffcXvrYrnyyndt2nRCAp+kghTtv+eIlAf8H/8R/c6c9VAIAxCA0HAAAAgEtSGxZuZuK/\n2OZ1HbUwi3jUQk/RL1ztJGeLBVfg4+wCNHKncHQ9Xs8Zrt31vpkRkJZljvLmOPu+EWvOD2WbPOco\nZgozxz8fcW340GtOfKbFmYo3u3xfryPS9+X+8A6RztBqah4G42MR72vaQrquuKBXW8+m4yvbtLS9\ncs6g7/7C19Y6yrBtRHkBiCgjAlEo/GjpeEHIISQcAKAAOIIAAAAAAE7mCNdRa2qWXDVkHVG7QyHm\nuCg9d2YsnCpnTwoDnWEupI7F1lu5+ggrvm+68EF5v23HyYJRamwdcT+I5eAi+7R7eKyZrdo11kZy\n+ygnEZHeFtJN47d9KPub8404qJZ1slt32nSHZFPeS3GjN+2HqAsXL7rLbxB+sGf0yPbjbqHakHm1\ngiN335TWvfR68d9Yi9I6MRFICwlJFBGKEiKQdrw/xonjERIOAFAKhCAAAAAAXJLk5Fjkt9CdfiLV\nyj1pQULfM0N7XVk8IjpvEnqiJkhiOXExo6g0Q4ls5eQ+FvY0/BW4kojr1v/SsLXulQT8QSfVoVIk\nsnTLpASi0nM1t9FIcSgXdm6UMCRT5SJaSiQyE2peE+EL0bpezCqssDFhLQ5Zi05cLFnzMnALjRKF\nagUrXs8WQcinUZMvzyt3fGk7+R7x8osPBeeYOMnTLBGBSl1Acp8UnNyrVAgJBwAoBUIQAAAAAC5J\n8qdt7e/exE+nu/yqSjeJ3VTxDO3VGvl4JgGJ6BwXkj//iszoUJpB8pipP/mT273MKPylaHh2YQgl\nglGJWHT0/bLm+raYCE+mn9meEoZI7PP7RzRnbD0i63BzLSIR/1xb96CdY+uwCNdN7VoyqXz9ewth\naNd2vg7cLeTFhYZ8NHGwxj2Wckp1CUKNZajJi1g+JaJQTgxytND3fuGraz/txroI1SadQltakTFL\n8TGtuYAetO2LuYcAAECCNYIAAAAAcDn+6e86Zn2g5M+qN3AdtZCu/7ziUQ+zCUi9WFTnqk1yNXGh\nhCXy/ur4dYyu5NqJURz+qPDYXkrEZPW+d6JQFGNdq2SwOFSDFIGI9uHV5HFDyiGcC0e2CxdR5PpM\nrQJRUZ5+rSHjUHo8D6uy8+swuI8buJ14Wl3nU9iXNWXy6z+11Kf22OI1gRLHfc8Xvhq4uDyqmKNu\nTwhAQlhKrQfk8/Dh4B5uob/w//z3J7njAgBmB44gAAAAAIAIcB3VY+E80mKxz8xdHEiemVr/6CaK\nPUF/ZWJP41tyxlDmE2JNnLBeUYzZRlhJearve+L41P3PUgSIhVTTwjc9yzW+N7QcpJsohlV4MiJ9\nMjrIa4B7aM1LvJf3KR4SzG+3yHNxCz2CjYvqGmptX80V1puWfE/s3tcrCvFrobWPHyL/0vKs4024\noEqoGRfeZVNSz9h+LwLxvP3xskwpAUjdnxCBZCg4n55j50EEAgDUACEIAAAAAJcjNwF15gR7tGgt\nv6/fxHUkm+Zu9YtxNwGJYzFlOEs1j16AedRE9Mjp7VOEoBFplPb1iSJSab3Pvn6q7m8ufPt0bsQP\nMxEFEguxS+Q1OcJNkhKH1nKwbTI0GT/GrEyxsGtkKxLFBA9H8b8PTMQVX34+ES/WH7LKL9aXvXWw\nEIV4+LG1fJVh21LjN1ce2ScfFfWoyYMLTzViEBeB+DG7z4q4nPum4GM8lUfoBNo+Px4fBAAAJK59\nmwAAIABJREFUNSA0HAAAAAAuxT/1S+zDwl1hYp2TLO4NxKP985WpY0ANVxzrFyvyEGZ3JVn20RX6\n24caqumVWes1bbkUC5ufHJb3MUuBqIazw85JIUjWv8Wl0Qtvk5Gh1/x7on3dLF1TPnzZ80O/MKTm\nYZQOT6vXKSTdMy39KcWu0rKs51UK7rXH5uqzLI6++9OvrZ9T4rFMSSu5FHZSziJdBFpCEQgh4QAA\nDcARBAAAAIC3p+W5mCldR9mdCol6nP/Ee3OwE3Urfi3rY312cchqKnHyal4a6+nemr6K5T2yv32o\noSp3TmYhcvWcAyipwymOr0TB+L7gsGW8SyYsR3qyd83/IJdfKpecg8hK2Mi5iLrTj7zX9vW4btZ0\neB18GDk/Me/fv+pl9ReLhVvIr2XzICZm+fWRCtLWXEJrupVuIfm+2CH0CuNXIto05ZEIF/c9X/hq\neLxyXT+U9YKeaafdQw+lTXm5ZNs7liZEIABALxCCAAAAAAAaqBWPzp5sjxa3ZV5mAvEo8xynaYr4\npX0ec/tgdEaMlyPD083gPiotwRkiUC7v6LGxp8mVbTnhyJ83x/322Htk7kEINZzYsu4O3hz1vZwS\nh0atwUOkCyVyspyH9so5jLrLI5xTcgK+x0WkiQ6xa0vWtUp4lsIQsdByRo4h2ScWotDzDUuloZ25\nQFHTT1p/lNRnd16lCFUiBmnh4rwIpK0l5tN9MJFm22fnAgrLuReBjg5ZCwC4DwgNBwAAAIDLMCIs\n3MycLR61EC3yBOJRK+nyvZeAdMUxeTRaiKIrMYMQZEFP28/Qb0FIKoWW0ElncXYZtaf2icT9jKkf\nsrxHiG5ywtlvW8swUDBa86P0ZL2FwyZbhohDwzwf8d6qXsHaSUSbC8egTtbltEy3pW6LeC09p/be\nV3Pc937xK0QUcfsp2x0ttJBLuoA0B2nKJRRzAvn8nVvoL/q//r2zb6sAgIsCRxAAAAAALoMWPuPO\nXC1kHdH9nEdEI9xH6VRnHtcWz5CdPUZHc/X71MgnjY8UmXpyKg5dVHFOLUX94JZneCqxbcfJglGq\nL2LlshQcYvmroTK9/sb2PSeelfSc3f2sNMwc3259PaVCrfkm4S4Vvo/Ips+0kGQjxKFY2DKiPtfQ\nzj3yCm/23LB0hZGzcgqp5aRnGLmPVkdWw5iUfbBQ+b2Xu3VyeZa2U0wE4sJMmO4SvMpzd44sJb1Y\nKEW/HpDfDhEIAGAFhCAAAAAAXIbyqSz9R+E7/HK6Wsg6onuKR0THC0g9qR6JZUCCGcZvjrP8NRdo\nmmnJ9dkRQlAJ/knzHMvEglHN9VEbWqoFJzPy24UwxMvBhSHNUWRJbFJ5LQ8LOTdSOGEGKlWg8PtM\n8o6IQ9ZoIcz45yZhSLxfw8gRbeHZGvqqNdxaNj3fxsIxVJxOhyBUW5c11FqhGJRK+3tZODiOtg5Q\n7C6pCUZxoYeCe3BKBOKvq6gIAACNIDQcAAAAAC7BP/lLfsLkj5b4j8v3FY88V5hU7yFZvYkEpB7y\nZb2+kDSKu43/j7MLMJAZw9fVDp8Zh5sPZbWSCFV2NrxkM7nwFl6AV8E0N9FRZQxClR3Qf5pThbs9\nLJ1eu7wHiWBr+q9XXoeeOsWcVVZlt2rvhbmYatNrdXMt4rUkH3luSfrf98WvqOLqsrggXNu6L7cO\nkLatIAzcuk+sB8SdQEQENxAAoBs4ggAAAADwVtgF5LpmaK8UzjDMzYwkpyFa510mE5Dy1egO3DM0\ndWDHEe4JsDFyiv2o/it1GG0nlAtF1gJArWvr2DaM7WBC0BJ+JhpTxtSE9AjhJOaqIdLdDC0um2je\nSl0t66iFMnPU3ocx59Fa1s4ya06tpjb2ocn8+TVuH+FoKa1PresyGNsFzkZHRL80IgLJkG3P43Wx\nSLqAUtfb6mDSjqVlPx7E8b8wMGwrAOB9gBAEAAAAAJDAVu6Z33VUYha/s1ik8Q4Ckme8kHRcLrXI\nsX/1ca5NWlpzVhP1rGM0i6ulphQp90vsuBFUtftuIjXe9uahxAq3aXmOcOxo36vO7QWEtcle+z6E\nk8i6f0tEIrO8lPeakEJi3yhxyMIlpd1jH/R0Y/YKfFxAsXAKSYGuVbDyIsnSWJ4eQai0zM6vxfR6\n1c77vi98NRBxFqKdA8jRQgs5VQQKXiPb5TmxGvNrIOYuehDRX/J//5aL/1UCAJgBhIYDAAAAwPRY\nhYWblfQvu/nFoxKuPql+JMmmyrTjXZr5Y6i/Yl6udp1cNfwcnwiuOecsuGsiheyPUvHjKNY2VCY7\ntYnlM11tmvh2eBleaojP3wtDq+touX+IOS6qjKrrUSHluLjVKnJxUchSHGxNJ3AIVbQfDxlX2u68\n3XLlDY4VaX/faz0gok00yjmA1mODY/bbcyKQFHp4PrFwcA8i+osREg4AYAQcQQAAAACYnrcOWXaT\nkHUtzx7duc9TDHEgvbhKm45ysMwOv06u0FfWU6ZHVbnFUVQ6WTlisrw0Jc11oVHiMBrRF6l2f4ob\ne4FoLYufrJfbB1HqKhpaBrf/HNT/ZXqQDqL1GMO/nWKT3aNEFJ+SDCcnvxtMPKoJ15BFnbhbSNte\n833HBQWfZu36OKl0m8ojr+uCdku5Z3Jl5K8xUSg49lUeLwCt7e4FmoEikLbOkJbPKvrs1gxq+74C\nAIAYEIIAAAAAcAlqhYQrTKL2YCv3zOk6ajWu373vU+Sa7DpNEw+jElI+SK5T9+tgKQTF+qc2j7ET\n8xWTloPcBck8G44rEYKOEkBSoZOIPS2/FcKtE9fbwce5VnbleSHbzqqtZF5ObPTfmbsysVl+7i4b\nJaIQjRGIYuM2Jg711DEmVLTWK3fNtZRVikJruh3rC/X2VNBeFWXQxk7yePaaazdHRL+UiUD0CrUW\nHqOnoq3zw/OPHbcLM8fdPpFQcw9xLXkRCCHhAACWQAgCAAAAwC2BA2XPO4hHROj7FFcRiuaRd+oH\nk9mk77EawhTXQKmjJcYEVQiYNfxcSS7y6XvOGY4iNR+2iH365Pgk8wj3oSbYSMHqKCEtcBk6Ctpr\nWUIxyfIekBOIutIufM/b3O6+HNartz6566d0fEoHDFEoEH1UlrN3rO4EtIZza9YRSjmZvv+LX1nT\n1UW4vTCjhQ+Nns+OiwlAWl4yFBzfBhEIADAKCEEAAAAAmJp/4juPWx8IAkJIujkgHhFdr/+7xYVM\nfWdujraq19eo1MsEQixarSeNGcZuiXA0g1iUE+yWxD6+v5dkGVNtKUPQsQXlrYWDIJ/MtlFOolh+\nD9VitH2vjWgLKQrJSf9WcUUbk6lUrJxRmmPIog78My9js2uIaHXo1PZrapxmzxXX2rLEvDf6uSXt\nKcVgnr53Amkh2lIh4GrEHb8t6xJSRCAtT+9WSoWVAwCAViAEAQAAAGBqSn5Kn/lTCSHrQt5JPCK6\nn4CUf7I+vztbtcK6T9pEWUZM4B7BKAfS0WO9tRpaMWd00MWeVpeMFoxKhKIZXV1qu/HF3H055JpE\nxiHnSoSh3AS89b3GiQ/rZ6GapNwXVflFXENW4lCQV2SbrIuVMCSv09ryW4tCQbl4+hXCjCxLVf7r\nm4Xcqy2KnE6VYojP5we++JXnuYvbCzkFYeB8O2cdPplQcU7kJ8e5E9u5CPSX/cHffMU/JQAAkwMh\nCAAAAABTM2oq66xfV3Ad7WkRj9KTNfEUZ2nKnkn32cdDr5hUzWTCUv20mp5KC5MPjanJTcJr1D5R\nPyI8VeoYPpGuMVIsKnUUlZIS6roFCW1bZIJ3O+CVq5hIHykEx8piP77in3l4uSC03DLAwaRMuluJ\nQ5pYyYWhHhfOmp4SRs5S1GoV5KRL6JmYo9p1hWIunOw57NpaiFaXUiqNmvCC3//Fr2wCTiDuxB1A\nuzJSmwgkxSSKiED8PCkCObfQX4qQcACAQUAIAgAAAMC0/OOFYeHGPvf8BK6j+bCXe+Z2H3nuLCJx\niqtZeOA26dRWnhr670lthZwxLJ2F02jWPis9x3qivpSap+nPEIvUclQeq7lkSNluVY5dKDDvcOCT\n26zN/MT3qHaUQkZQttH5MdcQF4g+Fnass7l+tZBd/HOvyBIThjwWjiHNLdQzLlbhQJSpViAKBCH/\nvsK1s6bB8i+FiyHFawIl2m91AgV55B1AfFvM3SM/Z48jfcxygUkTgRASDgAwEghBAAAAAHhLan96\nt/z4h+toPuzdR/FUZ2zSq0zKj2Lk0/ozYDHVfKf28eN91Jht+R4p5Yh+uJJQlHPDaJ+XxDYrdpPo\npE8UB+G4XhPto51EmjCkCWWtecdEEy4Q+Z3eQaSJFM35J9ZZIbIP4xdLrafsWqjHFpFIdbU1lG0t\nhw8hVykIybKUnNcikMlzvv8LX32Wt0AE0u5lDxkyL3KcFIo0l09KeNLOlSIQQsIBAEYCIQgAAAAA\noJDR011Xch0RXVsQqOVIASme4hxcXUyqLn9jWc+ookVYupSr4CzH0aj1i45mRDVGj7PSMHQaM4hE\nKTFEbpfnWnpL5VP+3Em0ijN8XaIBLqKUe4hvs3ZTOfbGT3r7jvDt7F6f/XeDhTCmrdPT6sKRbZcb\nR1WOnJiQ2OgcipWrtk3XcejfN64nVJq3IyHkFebx/V/46nr+83Whhdzu+1ATbRYqE4FKw8DFXELy\nXuRFIe6IgggEADgCCEEAAAAAmJJ/7Dt/4vLBEe7sOiKCeFRCi4BUwowhwK5Cdcs1NnXt9TzrtTFq\npB1Z3Sveq0qLHJuQlseMIiUU5UQkbXLbYg0VonibPCLbY+dLV5FVW8acRGq5lfWIrB1EMZHIsv7S\nNRRs1wqwPI/rEYdSriFLYUjuaxFe1HyMRKFV9Hi9tjh8Fj8+KwWhlqu51Nn1A1/8ishrCV619NbP\ni1sF2pQIJIUifa2fRd0vxS1NGPIikM36ggAAkAZCEAAAAACmJDlxF/mtdIefUEdM70M8mp+SZrpy\ns/DJvTtTM9yv0ByWE1Wzi5mpMRq7j50xpkuEDTmZnzrmSGpD0410GJW6irS2NBWH+GfNRcSOWxY3\npBzJMin5WYpSgUBUIA715WUnDK1pKq++qFaikH9fW05+tBeEasrFBaEHbQJN9fmVx5MignEBqNQB\nxLdLITYWLk6WJRcKLuYk4u9jItBf/gf/3Sv8GQAAuDgQggAAAAAwLdGfuJEdycmIm4pHR02lXk08\nIrq70PCc9ojvnR/rcF9X7+9sexjWb4amsuj+0fWoHaOlE9RHC6FSzNDIOYuOdXCV5TZiPZgg/ci2\nWqHeSijRhCI+ue5DzRGJMHNG+WfLQ4PqnRCHlsUyH3thiCguCrWKeJYuIUlJObhA4x1CNaEMa+vt\nRRt/3i8TIhB/XbcnwsCljvOUHPdI5Bk7/yG2+eMgAgEAjgJCEAAAAACm4x/9jp9o/tVdKx5Fualw\nRPQe4hHRvd1Hdc/hxlOIcZFmCBi9jszosZEtvmH9Zhjnve6ifUCfOZhxPaOSIqWcRbM4inICkbZ/\n5Do7sW1BGCm2TR7b7RCR73n9Rcir1T30Coll7eZJiQsjxCjHMnQ+8df7j8Umz5gw5N83pSneawJs\nqyi0nt/hFPKfPyrOW/N+iTUfr7FWIyrljpUikPb9kXMA5Rx3TttWKQDJNPbrCDFRaL1GJ/hCBgC8\nDRCCAAAAAPDWwHVUBsSjNDNMrHPy1bCcghyTw2zIsTFbn9cw4no+ozl6JtDODk1Xeq+ZYZzlXDAp\nN1Gq+FYiBFF6Ejgoz8B1idb0IttKTX8mIob4zB0K0RBznSJHrhyBe4m9t0ifX08PF+bjXUPBtpa8\nOkOzBWlFXiWt5W11NfHySAdT8bkNawlxUUw75we/9FNR94/PU01PrLvFXVTBuWKbliZRKAKpawVF\nRCAptHMRCG4gAMCRQAgCAAAAwHSU/rQ+65fTaNdRZtdleBfxiOg+ApLnOJmnrOEmbabLMsS1shwc\nPuzAvHzNzhCPriAYtbRKTAgY4R4J0i8IOzci5FzOSRRzEVk6iGJlkZPl62T2ayLfT3CPaAvNMWVe\nTxcKDauDqDMvOU6sxk1vK8ccKS1l4K8LtQlCC21iY04Y5nl5YiKQJur483djmra2UNftyYhASReQ\nIjYFZRHbuQj0C439AwAArSxuRu86AAAAAN6Wf6QjLFyOK/3cekfXUSstdb9De80qIo2gtKpnuzyO\nYsa+X9b/jNKakI/I+Gpxw5zBtOOGEZtwHiGIlGA5wd9dlshnTTyzEFR2QpRfg4gLRAb5pPInshWH\noukzYcgyP6vxskTed6XZWLaWsvh2/SjM0x//Q0wE4pQ6gKLHi9CJ8XTjgpJ/3yoCPdxCf8X/85sm\nvCsDAO4MHEEAAAAAeBtafvJexXX0riHriNqfRr+6gNT7PNeMk8Ixaqp6oWrdCrf+18+sY1OdkEwc\nnxMmR0+k7/LL9M8Z7Z5zysjPUvyQ260pCRfFJ9R715BJloXnSeFEc+qc1raJTYDL0HLkBSIqc360\n5K/VvTePcAJfcQy5/msiJiLWhpbjjiZOjyDXOlZbXFw7l1AmbJx3ARWJQIVrAHkeyvaStYDkcTLP\nWCg4TQRyEIEAACcBIQgAAAAAIMGdxaMkNxePiOwEpKu2iUVggPkm7P3Ue13lpqtGhljfzdcfbfSI\nSiPboLZIuRUytgnVOZxsMwlFqaKUCCCemLPIsiol6xNZC0MlAprflnIOWeQd1J9N9LvXZ2KfLQUi\nrb496UthyG9c1xjqFIY0AaNmDR+t3lwgahb8GsepDOVWKwh5AVHm+YNf+kpRCDi/r9gBpKwNpKWb\nE4CIQjEp5wLix3sn0MP2dgAAAMUgNBwAAAAApmFkWLiZudLcbbKsbyAeaXycXYCTuYv4UF+N+tvV\nVZrqyn36IcreKhgcSTiVGS/JLIJRjBnHjSYELWQvjtRylIuISAnx5vOlrS1Gt8MqFPg6Gq45lMxv\nRNrMLWSZR40opJ5P+/K0lq03bFxNvssrvx/80ld2+2LijxR1ssdT3L3DSa0FRLR3E5U4hKQT6OGI\n/so/BDcQAOAc4AgCAAAAwDQEP7giP0Lv+MvpFq6j7M4INxCPrjDRPBJnED5nBo6QdWafyL8D/jnH\n6pZeynvUeoI55xyKo5931jhLPWMq7xH+2NH3jpxzRgs5xj9r55q4WjKT2JYiyc7BIz4/SKcm9Fdp\nGVT3ENHOHdKbp3TPSJGkz0ETvq5U3EP0dJf1taX/LZ1SXJxsCWNXk6cjoh8qFIFWISYTstH3by4M\n3NZm6eNaBCDuVvJrDT0IIhAA4FwgBAEAAABgGoKfmZGn9aK8kXBElJ+smom7i0elVeiZeJq+j28Z\nZs6eWDPNVnXroBGzhBTLnVhy7jrJeUKntQlGe0/MGeOtZEzJY44O8ycFESkMxdIZUUw5sb0KJMZi\nUUwk8nVPiQqmYg2b4F9DjRmKQ6mwar04/oYpThaiUK9LSIZvaxWE/PtcOXh+0nEWy/uHv+mndnnx\n9NaxmAitJ7drY3cvFj1TlndEWeeUkygWCm7bF6alCVMAAHAkCA0HAAAAgCn4h7/97xn2R0n0Z9dN\nxKOrlXck8b5uOGcyesp5lTpacyVxybao50z2j2LGflTLFPkWm6n8+yBJ2pP0c4yfZdEFpLPbkwsh\n/vMiPh+NFIqOCLvm35PyfkR+3jlk6VRS87BKUxGFrBy0Pf27sNfWOtfkz/PheXkBiCgjAinrAMUc\nQJpwo4pFEd9kEEYuE1KuxgnkQ8L9VXADAQBOBo4gAAAAANye6M/Vm7iOaqYDzi7raOJ93ZjgRALS\nmY9vXXXctDzzdtYks2X/LkVeBtCD2fOULJ0jxt4zu1xGCzllitgR0UdkXI0QQWJtXCoOjQpbmXMT\naVcfL8YIF5HmiljzNhaFpKtG7rMWh3bOoZdT6PnRrdu8EGAdVo2orR6OJ8pEzXVcdozPHsFPc0XV\njsma/LXx8stzIpDi6omLOk9i4duCEG+Rb8dduLiEEygmAMky+DWBHBFEIADANEAIAgAAAAAQ1ApH\nyR/Qk4lHLdNBd//lmmyTGwhIRP2SgNXE5RXG0h3WPCqb7G/jjPVnekWXs/uzpvzSbRIm9DpmcH1S\n42crlz4ZK8dH3HtkS03oOev2k1nH1tzRjvWMbZu9KDTCOZQSiIh0J1HLd4tcZ4iIaHHL1u5cGGpI\nX82T+hw0cnwGohD1C0Kc0j5dBRR/HrULQiX5OiL6kW/6KVWg4cek1s/ijp2YW0im7Y99CD+kFJY0\nAUhLKycCBeHg6CkCzeGxBAAAhIYDAAAAwASMDAs3M1cRj1q4UlnPINk+k4lI1pTW4cp1PVt4GMks\nYcNq4P1R+vP3jD5MikD8uCVz7IlipsyWl4+7iY4SiDR82xy5JtGuDJRuA9m/RxSNT4qPDC1HtBcd\nrOsXiE6LC7aNyMskjU6X0JpWZz/yPmlpr1ieXATirE4v0u9nsbWBYg6gXdqUX+cnFwaOKBR4Y+sI\n+W9HL2h5Eeiv/kO/8WpfmwCAmwJHEAAAAABOJzcxd9dJ1VrnUZQJhSM4j9K0upCykzIXEJFKx8Ys\n5W3h6g6WNBaeoGPFpFHPPlo7TIqL6fZPpkvOchalysQnST18S3juMsx9VhpyThMQR/W1bBMXOY4f\n4/dbdaOc3F7zYi4iK4EoVT8pQDS5hvh7t7wcITyTvlBysbxa+8KxhHjoOL++UE0bxISTqrIo22ry\n5/l5ASgVAk4Ko35f7PhUKMStzAVrC1UKQLtzNBGIhYODCAQAmA0IQQAAAACYniut8zGSWuEo+cMd\n4tFlaRWR/ITSVagZD1eq19WxmAYuXcOoROgYxcyBM0qKtoaeShyj9sLBIpH2xL4OEyaUo0c4PVJj\ngO8bHWouto1vX8R70/IoAhGf6LcWUzSRrLd+Mn0tlBxPu3U8WTndgvWFeLqV3+Oy71oEoZZ29/n+\n6Df/pBqmTYo5Tpwn04o5gLQ1g0rWAfKfc06hVBph+Z/vfRm9CCTLDAAAZ4PQcAAAAAA4lX/oy/OE\nhbujeNTClcSjFq5WXit86Jk71v+QsEkH5HEUM9zrUkUo+VL4KDpqPmZo+xI+lrhIdPZ9ZBFT035y\nmU/rWk3ItyCdRKP7XE56L8r7EUJZtDyvyfkR4eV8XT9oL4JZ1G8tO/9skLZV2y/8TefYqu0f2c6p\nrH/km35qt40LN6rYqYgmj4jYE11fSClVrQtICmCqQKSsB8RFIKKnIPXXwA0EAJgMOIIAAAAAAF7U\nPh9zlQm9WuA80rl6d/vQM0WTWpkDZmuLIySBVLvN1h5XoLfP4uene2NUuLFSZl6jiPNIlHNx4utg\noDtGQ53sfeYui7NucWzL6DFQEnrOsp00Bw0Rc15EzhvVVTkHUVfar1fv5tHq2CMM7UQC/3nZRl1L\n2mZOIfHGC40tZavtGymQeGR+mgjkRRJNwNG2B2ILe1VFoVeP8/uCdqx0IcXyDV6l2yhSfukEIiKI\nQACAKYEQBAAAAADQCELWbdxdPCLqm7g+u+ySbF0yB1iISYWHTIXWLFerA1HbvSvH0fe21lWGIvpF\n0fFHMvPaeW79r+TA7e2HUmbLcGaxkGrpsfKaDBdnm5ZLKVhMFLJciygmEMltMiuroRUThCzFoV3I\nNzIWhtY3ofvMUbtbSBNSelxHTj7gsbQJQkR1fSLbWHUBifS1PPmxy2tfLCSbFgZuK0H8WE3AKQkF\nF+SlhILjZeXiOULCAQBmBaHhAAAAAHAa/2AmLBx+Rt1XOGqlVjxKnnMRrl7+HMX1Kzzw6PY6o39m\nHBNXuVfxJ+dLyIWgOzMEWY7Z+mTxM94veNtxkeiMNl3Y1DkXgZaD3URq2YRQZN2volt2oeWkKGYV\nhk0ti3FYOa3MvcKLlr5VCDmZbs+5S6UgtEunog9+RSQUXGkIuNix2vGaA0g71tddW1tI8hCfuTNM\nWwtI7uNOoIdb6K/9f3/DZHdfAAB4AkcQAAAAAE4j9xOz5Qfs3X55wXUUUus8ynIBAelOTiSN4voV\nHujvG0ddB2c9Vjdb3/Y+Xzhrf6XcJPsn+8tDLB1R3dlcRany+H07QWIR7TxACHkmqzsU4v2/dxKN\n6tcaR1FT+onPqSE0or7SzdErCGl1SYU2q60TDyHW6xTS0u1zMT1fHhSGjytOp6APuADkhREtfJtM\nkxNz65SGgdPS9WWJOYvWvHPli4hAvMwQgQAAVwJCEAAAAACmZvQk6x1/rUE8Ckk2h6GANGMTWlw/\nM9Yrh2VYp1kZdW+cuc1i97aR96+adubOkdwxZ69VRDSXUBQLW0Yudw/fXmTouSFChZoidxK5VRDw\n+6z7WvabDCdnGV4uyCfy3mPptFnzUb6jrdcbkmXuDSPH3SS+rK1tkhKtqs51myBUnU4kdJwXgZ7X\n6eap00ICxsqVChsXtCOlw8AFaRcIQEShCKStHRSO971D6Pk+FIEQcAkAMDsIDQcAAACAU/gHMmHh\njuTdXUet3Fk8amFZWlctuQez1r2pXK36YNtpU/FxdgEauOK9KJxm1Cswg1gUY8Y256HnNGfgESHn\neCiybVsoTfvPRznDiEKRaFTfaUIQb49hbW4kDAVpKu9767As7vnwyeLUtqotX6tr/ilQUZO7bllc\n6AKqCOnGjw/F0sTxhQ4goqcQI9O1EoB4Hs/X8BgvAv11fxhuIADA3MARBAAAAIBTSD2Lcvyi4/XH\n1xTxrr8K4TwSuIVc59O/wJ6mKcLGecWUE+kqY99qSvXI6l7xXtQmGyvuiJPEoprv8FEOFcnOKbP+\ntxeB1vnfSNl6XSHhNplSzEG0dw9ZCSgxFxGRXb/EQq/JiX9rcUhO5lusM6TVQVJb9rWcch2bhlBy\nsq1Lz91cS7xcTzddSRl+lLmAasK/EYXh1KR7Sivndt1sDiEZLm51Czl+Telpu9z+hAgUlN2F+/0+\niEAAgCsAIQgAAAAA01E7qXfGhF5tuCC4jp5cccK2FB+SxL9PFvsCaxPVUtq1V61fDbHelynrAAAg\nAElEQVS2uELdLWWFmevrnRGl96RzvmfGi0VDwqdFsuNuFHnMqPaNuxUKTljCTVZFDLNeduuU+O1b\n37ioUNSUf0QUkteDRZ/UiENW7aytM9QjDLnIe061KMTf83I2pMXTqxXZVlHDbU4hzTX2Y9/8k0+h\nRBFcnufHRZqYaKS7dZ5jPOYAkmHnNHGHl2MVijJ5p0Qgfqx3AkkR6BdawwwDAMDBIDQcAAAAAA7n\n7/+288PCXUFcgHjUxxX6OEariJQ994Zcpb5DyqkkOkt7WJRjlrp4tHuK9nN6tnuPDE3mca99MxQ3\nJsqd2ZbCNBSW5SCXk4TLQ0eFmON9MzqsHH8f+kEG5GkYUm6JvG9Jw7uELNJrHRvL8jzvx775J5vc\nP6kQcNp53gGkHZ8KMZdLk7/GjgudSnuhaS1fRAR6uIX++j/862e4jQIAQBY4ggAAAADwltzNdeSP\nh3i0cWX3UbLovU+e3kxIsprKG13vIer3ZBPnnN76Fj3N3nFuC6X3lNQ6LCNCcmXLk2yRhTQfQkok\nsnbIEKVdRBrB2j+J9u4qk7JBLY7SpyPa6JnuXnJw7H+/nU+T9wpFMoyYRm/7a64buc1aGJLuEatQ\ncq1ljYYtYyFna/oyVqaicx3Rj33LT9avASS2u8yxzzotuz6POYxKnEUtAhCREIFI9kd4jF8TiIgg\nAgEALgWEIAAAAACAAq4iKhxhtbrzL94es/xlJuAzQlLRhFHBhNkkzfF2qGO4VzvsO72J1AhL7Ztl\n3JXcS0oEo+Hr6jxziezdi0RO7N2ndUwfpNp3lNimOxv2BwWbhK0oELCoU6AJPmkT9tyVse9pSydR\nys3VK9TFJvaDvFrTFqHG1vQ63UK8zFrZ6kQZcXRl2WoFoV/5LWEYuFx51jEWEY10EWgf1k0enxKB\nNKHIH8dftfylAOTL4491wbH7Y/j5v+A+lBoAAMC8IDQcAAAAAA7l70uEhZtlAu9MZhETUjSFGTEv\nxX24Qp+3UlS1ZT9BeRWuWOZafIigK3EnZ2Tq/nCUWBRDigqeD+FGiZ1zFqeGm3vZOvzk+bIcK6B5\nacjn+aH6wQbmb5gRDyMmk7WsT+8aQ0Fa9Cxzj3zAtcWPjjJpbfTjLxGII9daWrdTXJCR53Iekd5R\nj3X7cHFang/ah6HLrQP0rMOi7vdrJvHjuBjl3LMefwPcQACAiwFHEAAAAAAOJfeU950m8Fq4Y8i6\nVu7WtzF6n8uaWUgqqppBWJ6zsCzxtN0YC4dVyZHjdPRIOrKveu4Po4WiaMioIGTZht/qxJZwOnY8\nsk1lmDm5bVTe7vXfuiniHjJ17oiUHkGmr3uxCDZn2RS8fa2cQvK9/+yT3tewMh/FodL6fZVyN5WW\nTYoda72WuuuI9++PffNPra6e4JiIYyoUTfRjeD5epNFKmAsxp4k7UgTix8UEpTD9vZNIE4GkUOT3\nQwQCAFwVCEEAAAAAmIran9a1P+zv9qvtziHrIAyWccaaIyMoHSMXruIlsRJVSvotltfoPq+tY8wJ\nkzpuJC3fAyPvG3GBSJ8IXtYQdM9P2/ZjQs+Vrk80Yl2icJJb3+mIdoPOMsTcMw2ewhK0tZ8k/1B7\nqTE/F74S2YhDQR7i/aK8NqetiA014pAaEo1eLrGacvDXBqHqx7/5p9QyRR0+qX3RkGuO3O5qjgtA\nVBBiLiao1YSB88fztEKhdmHbtzWBIAIBAK4MhCAAAAAAHMbfmwgL10NNohAXriMeEY0XBj136eNR\ni6YfQWxyaXfc67Wqmg1Pbx/djCNdLDMMCe2+Uyz+zVABBn96PIVW7B4nQCu19/yjQ849s4tltp/8\nlY6V/ZEGZdLGa0YwGiqoac48x77zFhtBSOYbvpdrDi1BX1iLQ1IYav1+k6KBJgoRWZTfxjEk27JJ\nGHqFVEuVg4tAQRoJoScn0HA2t1kovMTW9lGFoZhbqOC45FpA4pyYCKQ5iUr/VgEAgBmBEAQAAACA\nt+MIceFuPxPvLB75c+4iILWGkpptsj1HVTUbJm7UycHK0DuzYDVB3FsG03MLEjw6JFrquFrn0EiR\nY5dXQuDQwqYRHXO/iF1tWui5TZzwn/aOImtyYpGlg2g/8R3uc/KGxcUUdl6XCyZ43Sb5XXDEsyds\nXDfhq3/fKwwR6dfm0/VkJWr1iUIxwbimbF7seAqFW69JASgnzqj7lO1cWEuFgOMh3xYqF5i0dYDU\n43IuIKLgbwJ+/fDjHmt5ff5PEehv/P9+3dlfpwAA0AyEIAAAAAAchtVTl2cwdjrpmm2S40riEdGx\nAhJ1nDeK3rWKPFcTlHIEk6huaXIXzYBlqQ93S3UUXps4TB1riZVglBOKzhSJtP2j7wHqpPEz58gZ\n28Tzh5AtUmdVl8ulP8ttI9pJCy/H6+ndFB/LuttEHHq+9wLcsq7bYi0OEe2FISIbQYhoExseZC8K\nWa0r1CIIkVvoV33LT6rl2r1/He9yxwXn+ACPZaKOF39KnD1E+3WAYscWrQXEBB5t/MpjnvlDBAIA\n3AMIQQAAAAA4hJ/4Y7awcNEfsJGfV1f81QXXURtXE4+I2ifY7yQicawEJc/Z/cuRTxI3UzghOFHV\nL4mc6MuynBPOLVdGZW5/hyzPEUJR6do6HHk9jwxnqboShJvIf9qKvOymsi3EAKK8UMSFtVHr5PC8\nV4nmpSxYCURl4lC9oJHM09m13//P3ps2zdNkZ30n75cztvGGRvKimXnG34AAWQokGRNgDEbGljXL\nM2MkC0kICSEv4fC+hJfwFg4bMBiw+VjeF4y3ebQEyBibAMfT6RfdWZ118pzcKjMrs+r6Rfzvu7sq\nl5NZ1X3/O6++Trr4W4tCXLioFYbcPPoidyouXwSKpTbT3DlaPd/9w/fekZxEsT4kR5L/O9ZuyV5A\nz+dlIpAUHwAArAiEIAAAAACcgvhBU1tUosiHXIhHRaw4L1fmDBGJDtYdjbaovFLqwbCRzOAnTUV3\ndA5mHBMR7dwT3iGR1P3X3G1ScD4lFPHzI6+H5pKRUtB1ccwIz/VXmZ/Cyu7q95gzyemyRWLex1vM\ny26RnfXLBaKtb2onDvnuJL/lI+n8YvNHVDdvvijknrtmWjiFnBjkP87lIRzjMcVcQLvjsXNqnbig\nE7iMhLZiDiDu5pRSy4ltslkIXEKKCOSX404gIqI/+F/9l9P+6QIAgFwgBAEAAABgCdSPx6Xi0YWE\nIyKIR0T7BZ+Z3CO9ObIYn7uYeaPpnBNryHZKRTfTtc0dYe+YS2Y65nrZuXEGTHRO3NK36x0m41xv\nYgLRDHsT+YveKRdRK5fLrn/FTdR6PkSByF8492w8Rxw90kK8e/xB1nMStXv/azVn/hz5TdXMh5Rq\n7eieQpaIfmtCAHLCz8fLXRMIpMoeQO/HeaKR64eLOlpZ58AK+ssQlXhcXAB68NeQUlYSgZASDgBw\nFSAEAQAAAKA7flq4kcB1JHNl8WjF1HJnEpuu2aeldQo6n1nuiedibJ9gatMSteC8ntuROwbuuJDa\n+Ehc4qPCQo6bSHU+Jc71JrXPjoM7inoJJO6xvBAe+q56i0JaermW498vyL/6se/7xpj9lwuOjvnR\nWRjiwqIvOJbOm+iIoYMimfeeX/o+7USgnNRshiS3TChMPds1u3H5ZXJSwNlEee68kmLwnweiUkEa\nOL+8VjYmKAEAwMpACAIAAAAAeNHMdUT6iVU/TkI8CplFLOhF6bRcaTruICi2EmNGDrs25jMvTc69\nZIMH4bnY/ZXr8Ev2LyCln8qBx9JKEMndl8hf1O+Zam7rLxgd9wjtj394QtHzaKM47P731mtjgchv\n3jktnEiwiUPevB+5/lwYMrvWrPeovA8+X61EId/d4prpLQo5AUhKzeZi0hw+UvmtDsl1xBRwL6FH\n3LNHiUt6jynaW0gRgZwIr4pA3nh24qrnBHpYQz+JlHAAgAsBIQgAAAAA3eEfwq70iaqZeHQx4Yjo\n2uIRUb2ARLSOaFAyxJbffF9kepam2cbXk+5j5DO7qHlELNoJCULgrYUGMSZG4BpQYugZG5E8r9re\nO8373j2WU1jtXTR2e9wlHsVF1FIgksShXX9m9+tAP34Lb++NFc5Wtd9AFCLyRAYWqf+4pFktdRwX\ngMQ4FBHFbzesF98DiPfhUsDFRKBdTERB+7G2eWy8XvCeY/1+9mLWXrzyjkMEAgBcHAhBAAAAAOjK\nLwlp4WrWz6/0SUwcP1xHRDRGPKLKOi05mtZsViGplcuk5QLxqKnqmarOZ7prH1lgTDK5iJQa11A3\nVCIYu/1gx2i8SKQuOCuPjXDMP96KkjRzvfclCueCz8Jr0b+xc0jba2jEPkx718WrnwZuLb7HkMOQ\nSylXL7K1EoWI6t11YUzPAH7blz7bPd/Ok3c3Ze7/4+o5x1XuHkC8D8kxxNHmIWcfoEAAIgr+Bj2F\nHrmOJgI9WLuPI3/XAABgYiAEAQAAAGAJZv9Gd0+auY5IP7HyfNV8WF9VQHJcVUjiHF2IWWSYS3Pk\nGhlriIytaqPntc2Nh7+PSPWGikWx44pIRERERh9Hy/hj8UkiUI4w1NKJuLWpiCVbHGZ/ru1+PLwx\nyTkUppdrep0UcaxZ+0I/u3k8OKfcBWIoTNN3VBRy1MYZe4/JafK3fekz2WXjRB4SRBRl/59nXRPM\nm1TOP+7EpFxXj/87Wtb9XWB7FEnleHsP/tpV9vrxr+GDjdeJQD8FNxAA4IJACAIAAADAJZltYXE0\nEI/S9BKQVpiXVu6V2QWlkmFOPpSNHs6js66jtFiZS8km6j3EAr/t0r7PEIyicVp9odaJRJK1t8d+\nM7FjWhnJUdRVKCwQig73FTzeL467+8t6d5rvImoVSm9xiPfB93j6aCIM+aJQvSC0a1u49iXiYKkg\n5AQgSeTZ2soUZ1z/Re4feotADyYs6S4j+T2EO4AMeWJNRASSU88J7bu9gLhjyAl6rIxrGyIQAODK\nQAgCAAAAQDektHAzA/Go7MQdxSOi9H1yhTHmMmJx8Cgl7g5HyyFMNh0irV0NI8gRkHbXtEA4ak2u\nqBFzF53mgLJ6Kqfd4m4Dl0SKXEdRjjDUVRxUhKH27iH/t9+w7yKy4r3VIozY+3+Lse5cG66914L/\nh6kbh+96MfS8t10qNNfWkaRgLYR6qYkf0AQgktw9fjy6AKSNNOYCskIZLgL5wo8kMGup7ESBJ0ME\n2u1HJaSOKxWBpD4AAOAqQAgCAAAAQDds5FP6VT5mlX7mv8q4HRCPQiAUrU8ryWCla91iAXOkmFQa\nbuhoiQd7hnBU0uMooSgWE0/DFK1s+okxoRMgPZd+372dRDEHUe/9hx67UYYp0oj6pZVzj4/urSO1\n/bBvscGY92hKuvBFIf7ctf0hCGmlsdaO3xLRD3zPr7zaE8SeyD42spvnvf9PTr2doKOlcGOPfeEn\nx5XkxKWdWCPsUyTFEEsD57f9fv6qJ6S+cyKQtYZ++r/+L1b60w0AAEVACAIAAABAN+z2Qz5XIghc\n5VPZ3V1HRI3FI9JPnjVvJQuQNcx+P9wl7VwOI6SEC0zTEGpT0IUN7dsZJRgdEYmIBu9VJDlFLF/s\nfR034THq4FATnQ88Flauh3CVSivn03Pvoff+Oe9Feyd6uOPN+rb7361cQ293yqtdejl8zPv50bYf\nzDnkKBKcmDiWM2YnAMntyanf3HuRtv+PIbsTQaSy/Lgmqqpp4zLKag6gvfAju4+2fiIuIG0vIKK3\nCLQbn1f+n4IIBAC4OMb2SDINAAAAgNvzi9/bPi3c1Z0kLbnz2H1K75nEqWm4spA0kiuITYaucU1X\nvRYfxoqLn0S0E43OTE1HJLtf+Lkz0OJyqb+2k4KjqDd+fy6WD/Z8VEy90suJfb1+78UhQ0dSpkX7\n6zC2zdFjPDGgwT3kO4VaII3XF4F2zjXFAVSz/49WT3P/uPKxfYCy2tfGIKR0k9qIpoETBbJ9Wd7u\nwxOEsC8QAOAOwBEEAAAAgGVo6iS5sOuICM4jR+k9407N7kA6sgTV4lvt1KgN0IaWy7OnOekqBjGD\neJS7nwR3m+ywhsjElmyPk+NU5IyYXi0unvbJWE9Xs+9fH4KjqFXcmosox0HU6n12a8/Kj3uIKDxN\nl5S269V7E3GoRzq5zdEj2dCIqkWht4vs7bLxmixvz4vp7//SXgBy7wuaOBNzOeamf+PHU4IOdwpJ\n72uaAyhI1SakgJPi4M4vUTRKiEBcALLsMfYFAgDcBTiCAAAAANCcX/hS3A00w+JdDDG8CRb/Z+Tu\n45e4qgtJojbumcc7+/tTbz7SRaZBu1baR9yZr62hp2tIDH2AUFSKFEtr8aMkDn/eznIT+bE4p95o\n59AWS0cHER/XXhDp7xxq1p734KjL9n3vPx+VzIEkAGliI1FKAJKdMpqTx7WfShEX9hGWE/twYlYk\nDZwjSBX3CjCWBo7Pl5YKzh+L7wJyz7EvEADgLsARBAAAAIDhzP7Nb3khTi9buvB/pU+bcB6F1LqQ\niIS5GbSAWcuR5b5Zx9X7e3IzixFEx91FQ51xHa4V38dkFLHFWCIi47kD9hWfdUannsvpTXPL9I5D\ndRNFnEQt4uMuBtWRQf1TzKUcRIfaFh7vF+jNdsR3EB2dZ/56PzoWGzyg7W9uSax293s/DzFByBeA\niGRHjmXnw76dq0YWV2ICzT7ueHlXLuYY8h02OwdQdC+gZ1lRBCJKikB7txKPVXAyQQQCANwcCEEA\nAAAAWILSBb/ThaPIiVLx6GqfUCEe6fC5MWd8xX4QsfvgokNegtFC0AixYOtr4WQYKaFIrjReJEr1\nNPJ67/pkgb3TRr1i6ewikhb4NdcHdzk1jUO4QK3dQ84T83j34LlP7G58rYWh2jFIopCl931R/r5m\ntt/u+rp9hQIBiNKvbXlfHndMSosWiiBSX5LQpJ7PieslWAfCjpAGTiprrfRayXQPeeXfDiET1PFF\noPc9CgAA9wCp4QAAAADQlFRauJmZ/Zv6Yng3cB0d4QrzUHLdE6eWo/dYrjRXRHO8h8VCSP1xMIn6\nMzLDnKcIhCC20Psx2E2Ugk/pCD1cFGNeB3s5iIpiYY97xXB0b56sPl6CwFsqodejdmNqGf/mEDLv\n5zX80Jc+2z3XBCDrCbiSACQJP7xucJyIpH10UnUkgUlzDGn77GhOJd42d/Ll1pP2AnJleWxcBPoZ\nuIEAADcDjiAAAAAAgBczu46IlEXURq6jyOGlqV3enGkuSq67O5WMP1FglvH3Xp6WvnE/y9hX5eg1\nW80xmPN342yxKOk2IArSNxHJTqIRokxsSrulUpOe+y4Dz0HkRKJdGdNOpNHSgzlBQpqfVvMhpeTi\n4tBRoejtliHyfUItHUNS/O5xebz7Nv24ctqTBCBJlBHdNbt68Z2HYvv8lAhH2j0mOYa28jkOIArT\nwPG59etzuHOIl4+5gLY4X+chAgEA7gqEIAAAAAA0JXcR7wqfvpbc6yhyAuLRmyOL2TPMSTL+RIHs\nxdaMwc4wHym0b9+vRstkD2eIF7UiUEm9M67v7GJRVCiS0kSZ/WL9drhxXLswhOcx50zP/p+Lyfvz\nxu4X0Hep5hrFliMQ9dh7SBKH/OfH9+rhwhCfO9tMFGq1X5ImxvE4f9ATgWpcOa5esD/Oy5kj1bXe\neUlc0pxGMaFRdibJ4/HT4vn1edv21WlKBIqlgXPlJRFISnHnRKDiNJsAAHARkBoOAAAAAM34+Yq0\ncCUfxe76se3sb5OngHjUjivPTdbYzFxzMCKWmcbrM/v7Tg2G5Pnu6bBoxUzXQxKBiN4p5vxFYiLZ\nWTQKHusZ0+gcRPQSi4yRRYNWfXEBivfTYw6466Zlejl/Od85TfbHG/XToEHzaucHv/TZ8/53936m\nAORfK0kAkur4dbe0ciQIhxH3Dy8fSwEXdRgxB5B7D+BCqnstaHUdMRfQgwlNUj3LjtnX75/9b/7c\nRO+oAAAwDjiCAAAAAHAqJctDpYsmV/mUd0XnEREEJImjy6Uzz1HW2BouHrag9/L1REMNOPJ9wZmu\nISdYkIygDeMMB1nqemhz3mO/l1iaqWiYbLF2hECkuWh2cYyIgd14bpP6zTn0+g+OLwLUxKWNV5vp\nVoKU5Lpp5xhyhE6TvY/oYD/MLVTz2vmh730KQJsgU+AAejtbnlckR8jxz2nvbTl7AEnlc1LAubjF\ntsX6YijMFSbUzRSB/H4tO+acQBCBAAB3BkIQAAAAAJaiVDgigniUw1RpoCICEsSjOD2+YT6a4N4t\nGNBqY++1DH72PMwqIpWGlSMiEKUFoxHXo2TOW6XHCtpV+9NUqv0C7ocnDPmuot6CkfaW0+v67V0K\nXr92vzjvd3xUIJL6N/QWpHxau5Wke7PFfccloLd8YgQZpbDtwuq//Xs/e4oxWgq1rV3NleM7ebgI\nEhGAIudzBKCs2NR0crKbKRClXidSKeAkEWgnMBIRF8hi+wH5x9xziEAAgLsDIQgAAAAATahJCzeK\nnq4jqig/Iz2+Nd6DUe6jxKmpGbn43IPgUpYscL9+V49dqDjELdCYVa99Db3eu2q+dBA7dqZYlLuo\n3UsgUvsL+g/TORGxtFUD0s2lBMCWoky0X+eoIUUgOnjvqw4Soezs4tDb/fF2DbUQhVIuIScA8X1s\nwnbiApB/LFZvE1uISNyfRxBt/PeYIhHImnd/dj+vUtySI/BhXX2/rCx0BeIRaz8mAon7AfmxUbjX\nEAAA3BEIQQAAAABowu5D2wmLqS2p+db4FVxHrdK4zEipgOROrSwgtVgmnWUspVSPXVkBXW0eWi6R\njx77alvY5oabKy5o9Xpdh9R893JziH0px9UFXG8B2Rjr6yNE1HHOlMe8z1bCiSYQ7U4aXyBo6biR\nY2gtDBHt/w/SQuDdi0KvthuIQtYS/fD36QKQE2Pc4zCudCSptGwxwShIlUay+yvmNJLcNf58uuOi\nA2hrP4y1VgTa7T2UcAH5c/Xw6vwc3EAAAAAhCAAAAABtsOqT/SHxU5jy0WylT2w13x6fVTyafU+i\nkdQKSERri0iO1mvys40vC/uah0bBj5iDVtdtletV8p41VRrMSJmUUJT47sVhYnOaKw71dJoGi9iv\nxejdvBi7OSfISDuZdIgrcqzLdXJtW7bQb51A9n7eUhzSXEMtiO0xVHtP+WLGW8Rykkw+KQFIeryP\nQd/7R06/RsSdP5orhtcrqbO9Tki7h0MBxxgbzIOUBk5yEXFha6sbxJznAuKxEe1FIKSEAwCAJxCC\nAAAAAHCYn/ue/LRwYkGldqkjY7VPeaXiUen4ZhePiK4rIBF1EpESJ2efzprb5Owx2eBBo/YYH2cP\nVKBmyP49POGQphWNUmHlulByzvcgZ157uk6l7v1FamMNWWNJchGNEGr4Y9+91MU15H4rJ4xp0zcf\nnz+uD2ozt4FA4D1vIQo9yMWnC0M//H2fkSXdnRZz17i+RIElImxIqdZy+uQiULJ8pB9JPt323WHt\nPd4TG9T32xHFo6DffZ2wL8EJ5I3DF4E+R0o4AADYgBAEAAAAgKkpWUyH6ygsP7N4RFQnIF1ZPHJE\np+WgkLTa/LVaKJ2dnJfCGfNQq3/V1pvpWue8P416PUUXhCNlTMa5nuQ6i3rPo+94eB80OxfNzkFE\ntHMRtX4fyhH2mvdphceeEtZCHPLH4ubWiS2thKFdfwedTvvXjicSvn7+yPd9t7sAJMUUPR/ZN0gV\ndLQ9isTjEYEpwwEkteOLNUF93kckfZzomKL92B9euYc19PP/7Z+d6c8KAACcCoQgAAAAAFyOnq6j\nyOEpgXj0ZjUB5AixKVpxGq4gKqTIclQUtGfM+eNv7QDT2jt7nET69RvxvpMSiUqvQ++QxUVj4Rif\nu9ap5niXfLHfsHRzm1BEROTtA9Mazd3TQyCKiUOW2jgVuUtj78I5vt9QD0HxRyocQE7E+CBbLQDx\nNHCujpY2ThMUY+4f15YYHxdhXB2SXi9ujyC9/haLFP+uni4A+XH4z99xeG4jr9zDGvrDEIEAAGCH\nsavtxgkAAACAqfjZ7/nlWyZdKBGP7jA/s4tHR7iagFTimMs8fRtWmgez/WjQzkD8/nI/qX5kljvL\nXebeQ84Ui0rQwpGOj55TPpdnzp15pZqzNCbN3K5vGjf3RnANuRgOt/367Y+lx5hy75MffTmAUvvP\n7I7RW8SQBJNYva28IgBp1Lp/eHzS/j1+O7JYlHYA+X2G7e7L8Lqi4JUQgXxnn9vDCSIQAACEwBEE\nAAAAgMO0/tb3CqhjFj8cPylZgF9tfmqcR7mLt2dz5HtTsy3wEpU55vjp5HAyxzvhtFwOu/04xuh7\nuCbkVB3//Bn3Xuo9JHV+1msgCRG9hZDYfjEOf7667kvkL1izNHPk7Uf07L/tF3At+03UTxySXENb\nXweFIe5ocW6hD2r7uk3dBz9akQLOviLTXDmxepqwodXZ1dXOZewBxEUg/7cra4wN9/Gh5xxKQpIY\nY0YKuCds/jL2AuJj8vcDcnXwdXcAAJCBIwgAAAAA1fzs9/zy0P9I3G3xuMR1FC0/KT2//XsFZhSR\nWpM9RCM+vBwzju1ITDPewzkhrSRUzzDHvqvDPya5I84K15hzXURuLj4GpZeT+naPe7S9c/aY9n0Z\n4fFR0csYoh/+3s9UFw9RvgCUXS8hUqhiTiRGXs93GuXuAbQ5hpQUbjlp5FwcobAl18sVgPyyfA41\nEQj7AgEAgAwcQQAAAABYhtLlktU/BZa4jtzhlcQj/g3V0lhWv74pWnxfa4ZF4hjZQ/QKzj6mq3Hk\nNpQEgtw6vShxu6SY4VaMvU+Meq1oITyU4xw/zF7pzsS9cPwYzP5c67nbFq75wryUWq6xQCQ5VlqJ\nQ6LTxHOOcGGo9voG4gJrr7TdH/m+z9S2icoFIOtdMym1WakAxK+T5BqSRZuyPYBcHes9fv5+XreH\nIOJIqeQeUto5IQC+d5IUv3St3e8tPv84RCAAAMgGQhAAAAAALkvNMsrqnx5XFkYPt9gAACAASURB\nVI9Kr1ftgtLq17iEEjFpFYFlN6bCmGcfYmtvwNnj5YuIOcxyH7a6FqeK7QUiUWsBRHVYZNbRXEa9\niKWc46nmWt6jvjsoEM6sIeokEHFxqJXLRmyfCUPuSe08cvGpRBTyBSCx7QoBiIhEUcadrxGA3Bj4\nPbFz/jAX0FvE4W3qEy2lwnu8rpckAvH2uDjzjo21qQhQ/mNNAOL98P2A3DisMh4AAABvkBoOAAAA\nAFX8zG/+ZfGz5d0+gt1tvI5ZxKNaICCFzLIAP5Kq+2CheVoo1I1UzPzT68fkg8wJb6YhSPvr8OPd\nY3D9K8el572cRBIj08xxl4Xx9h4yrzRzI8bdq48Pby7JtO3H7TNkSBaAYi4eojwBSEN15LTe/yd6\nThmTINy82wrbOOIAIgpFoJQLiDuG/Oc8FZyLxYlAv/Df/ZmZ3k4BAGA64AgCAAAAQBV2+yEcJ+XD\n/CIiQQl3dB0R1TmPiOa5L2qu25E0Oitc8yu6h1Jc/fXb4it/o8db4wzMrXzGfXv0Ggyf/0jAsZRq\nTWM4cDwQTppExPqz8mOifYq5FnMjpQQLHg8Qh3iqslbt71wnnqVnJ0hW9vcgon9AEYCIIi6e59k6\nAUgpUysAxeqWpH/Tym9TbiVhqN4BZJU4uIvJT5knClPSY0EEshCBAAAgCwhBAAAAAOiC+KE2IhKU\nOExW/6R39cXnGKX3BdF77LOID6NFpCP1etEjqcAs1zdF9dgzx7fINEQZ6c44fC8OEjcKQyCiUNTg\n5T8i7TUXArT3aeV4z3RqW7vCsdS+RL7baKRI1DW9nC8UuIV1l0Ku035Dmlvr6Ly6OdvmyAkUpkyE\n4gJQjjhTKgD5sYwQgDydrNgFJJV3IlyOmKQ5gHx3nF8vKmASEd8zSXYnvdviItDDP2cN/RGIQAAA\nkAWEIAAAAAAU84d+8y83XwYucZjM5i4ZAcSjJ6uPqfaFczUhSaJ0Qf8s4aj6zS+jotl+zEMHze80\nWopGI+6/VLjS4qmDhzf6fTTHWdR6DmOimXTMCGV6zY22B1FrgUhyTbhFdyOIQ60EMcnYc7R9SVSL\niUIx948U7/76lwlAvuBWIwD5v3NiDYSU7bHu/nGOJ1lk0WILxaeYA8hv50GhWORi4Y81ESg3FdwW\nG6XFXwAAAG8gBAEAAABgWY64S3Zc0HVEdD3xKLqIGwl85jGVMkJIWmW+erkMzsRuPzLIGPuZ07Py\n+88hwWigWBR1E0TKSAKIf7wHJY6iru4Z9libQycU+AvbvR1E/FircUfFIXrPw0fDtHKSMHTYLeR+\nMyfL7/i7ygQg2va9eT6uEoDIpVRjwomaam4/1zmxunOqaBJx/xhjN8Hk2c7bvRMKQ7qYJM/Nvj9D\n732AxHvNe66J15LYJfUdiEDW0C/CDQQAANlACAIAAADArcgVj5ILPxCPNkaOu8Q55p+KxnhRF5lE\nzvVdadw9UtQRnSswZQ8px2G00sWk8vefU4Wuo6os9b0+sfCkb9BL3+R3x3tRmm6ul0CiHYsJRUR9\n0sxJLhh/3yH/+aF+2G8iL/3Xa8+hlq4h3t9RYcgS0T9YIQC9x1svAO3b1Ov6Y36KJXmxujol6d9c\ne1yIce4fQ2w/JqUtdayRuo9dOdkdFZu7lAgkpoN7HYcIBAAAZUAIAgAAAEARP/13lqeFW20x0qdE\neCh1HUUOL8Xs4hFRIsYaF1n0xNrXdaXF+F6kFvlXeU87LJSZua+vtpA8WtDQKJ5/Vn7kfVYSqqVw\nf6KzXDNE4TyN3JNoxL2mpZXb9dlSHHOL8mwBv5cwVCoKHROA9v3H6muiSKpvSWTLdQFVCUBKHd/9\nk3ISuZhSDiC/jaQQprXHHu/Svgnt7QQur87nESENAACADIQgAAAAAHSnZjFylYVWiVzXkTtcKjQs\nPDUbtevTpyzmFp9YW0Q6snbdMvaz5yFGrz1OWnNYB7LvNeGq+gf7zyF3jLH32l73cIrsv4283ECB\nTgtRWuQ2iWOtyBFG+LnewpC24O13y+enZUg9xKFgfEKaMicONUn5xo7zNksFIE3wSNWPCUCuvNH2\nBqL4e5IoGkX383Fp7EKRpXQPoBIhyU8ltysXEZF8Htq8Cn1qDiD/nO90svQUjH7pv//PJ/8LDAAA\n82Fsr3wKAAAAALgcNW6gUcy+INuau6Ws07jt2BIDv9q8aOO52jiJrvNeZmjdsaQEo7OHZdwPtkhL\nRPQhBHdm3FKfmotrVHx8DyJ+rFu/rk/a7z808rr0Guc2FpZWrgW/s5EAZL241PoJAUijVgDyHVH7\n8/H4uBAV2wNIas8JMWLflQ4gBxeBeL2HIPRIbfJy7vmDiP4oUsIBAEAVcAQBAAAA4BLAdaSfqHGn\nLDw1lyF6Syfu9+yF30VcZ9pwZ4sTvLHbj0SZFzMJR0eWsEcs7Mfmln+D32cngPjH24Qlx5NZZpSb\niEj//0Is3VyTftljzUX0Qf3uI1/4aplCz3dsPB+Yp6Xw9bhGGGopACXrNxaAovv/CM6q9+M81w7f\nA4hIvq+l9niqtf25MC6tjaBcwgUkCUQpEYjHCREIAACOASEIAAAAANlIH3ZX/jRWKh7NskhZS2/x\nKFq+EzULtotfxiKS8xNRWFaYpwfN43JoRauEDTO8X5UMRSybaOCsMdZeohHOnLgrQRCHXj92x18q\nRDchJnIsFj+Pp6VYEks356fIGrH30EM4/+E9bhGCJB60FIec4+Xdn9nijolCkvjj6sv96Hv4pEQc\nV2aYAJQ8XypSaa8lWbgxxsop2zIdQK4d6XnoaNrD+5X2AnKPA/HHcwLlXFMAAAA6SA0HAAAAgCx+\nKpEWruSj2Z0+xs2wGDua2cWjI6wU6xG21FPauRvjUjpdnRXeu6IxeqrLbEPRUqPFzo9m9x6QcMqM\ncEH54fh98nRrI+Ep5nq+ZqQ0cr3H3to1tLVLtLmFrDX0YWyRAGRfrYwSgHwBd4QAtO3/w+q56+y7\ngJJt+e0J+wDxsoZkEUiKP5UCTiqjCUDueUoEwr5AAABwDDiCAAAAANCEmm9+536aW/lT391S1hGV\nOY/8wyUC0llTdOQrVCtd1mjqKe9xckyZg15ubipZapydF7ZbkPP+arxV8lTxUcOtdUqNvByx9wB3\nfBebMMet49VcB7EwP9jzljGlXETuWDOHDclzYCj8O9pirNw11EoY8t1Cv+vv/q7Qr+b+ISoVgFxf\n/t5ApQLQToDJjNXvO7xmhgxZVbQhoV7pHkAuNus95u3w+jnj00StlAOIt51yAbk2XD2IQAAA0AYI\nQQAAAAA4jdzFsFLhqLTsbNxRPCIqE5BWHO9RH/6MQ06OKXPQtYvHq6YG0/hInB9NbfKImV6fsW/P\n+/gOmFjxEUOLCRuCSYeIBopYmkBsw9fxbi24k7Bolcf8mDR3PedME4lazsFocUgThtzjEkYJQFud\nSgGIH8vp07lvJAFIeuzak/rz378k8UZCFWsUEeiRsbeS1m7KBZQSlyQRiB+DCAQAAO2AEAQAAACA\nJKm0cKOo+RY1xCOdmRZrS5GGu/BwsmjxIlxhjkrGucJ4Smj5Rnvm3Kz4fpQjGCXFok5iB+ui6DjR\nOeKVlQ4KhXfp1dyxZlGFi/k589TTOaTdY63um5g4JPZ7pK/EuKQxDReAdm3l9Zl6+xLFkFefhiQ3\nTMQ1pAlUFBFdJffPqy1fANz3w36/SkqCFOehtCs99+sHe10pApDfljvuO4F4OwAAAOqBEAQAAACA\nJFZZFVlhEbZUPLqLcES05mKtQ97c+ElJirlo+QuSe8lXmZPkPXxgIGfMQSshaJXrl0PuAvMIStxF\nQbEOjpBcckWA1gJIEEfEsrN7/zZezIK41irOmIOI09tNxNPKtUzNmHJNbf1S23vAjel3/z2h+PM8\n318AKunziAC0O7Z7Xubaefaj3Zu6cyd01Wgp4Px28kQgv13tMd/LaFcmsheQ34a/H5Ar9yCiX4Yb\nCAAAmmFsrd8fAAAAALfgD/4daTeQ+AntRovudxKPaphFPEoBAenNlcd2BEMXuJ8H1e9JzjXokYqr\nBWI8k8UqpZ87MzTjKWsupg/PmTUiNinVGn88LJYOnUjjOyoM1QhAMbFDq9NDAHLlXZo36XysT2n/\nn22Otf1/qM4FFMYWljOvNmJj3T0Xxp1yAElzGROB/N9WEIEsEf0xiEAAANAUOIIAAAAAcBjxc6v6\nYfZJrni0wifAUtcR0b3Eo1X2GVHDTNzLROUiUuLU6Rz5qtjM4zpKRwNSc45+3a9kLKMFg5W/y1gU\nO3OJjEJ1YrDno0KS5uyhBdPJQZRy1fh9jHRWtXIPiS4PViZXGJIEIE2IefZT5v7ZYkvs+6OJOK5+\ntijCnpcKQCSIH1sM3on9OV0QU/cgEgKzZMiQFfcBiqaBYwKPVM8/HksD58pqbUoi0EOJDwAAwDEg\nBAEAAADgFHLFo1LhKHJ4KnqKRyuM/2qUikj+qej1WlBI6rlGP8OYYwv5OWOPiYYzjM+hLQanmGkM\nRHnCyyxOnCyRSFid10xGLYeliR8So10yVgrGcxCZV1CuXMvrHSzsK2U+qPxveVb/dv+7dVo5ovh7\ngS9+/UMFApB91e4hAMXayBWAxHpie0+hRXTsRNLG8fRvKRHI9W+MDfYgcu1xnPiT2gfIsuMx0VPq\nu2YvIN4WdwJZa+if/h/+9CTvzAAAcB2QGg4AAAAAKjlp4WbmSq6jGkrHNfs8zLJYOyO1YlLG6SlZ\nMeYUZvuRUW5irva+45j1/UcTgYieMXNRRqvTGz/12FkxbH17wVjap5kj6hubER737reHOLS1TU8B\nyF/8TzlxagUgfU+d9MB6CEBqnYhrSNv/J9am1p6eAk4Wf6TrsjmAWDthbOE8pFxAXDSSRCD/umwi\nEGFfIAAA6AUcQQAAAABQGfFN3p40cR0pJ1aYl1IVr+Z6j5yHVVLMnUF0ahLz5t//q8xVjhNhNURX\ng1ZOYYZreFVH2KzOotRrX1oAd3FaVrZn/IphZ8coYSRYQLf7Pu1rZdyfj1b/HyqdhyZ9dnAN/Z6X\n+8dak+3EmV0Acm4jY2ydABSLlfT3kKMCkGvDOZOCe8yJLnw/nwwHkDamqAtIqMPFnq0ci+MBJxAA\nAHQFQhAAAAAAwAt1Qa1UPFI+wq7wybZGPCLSxzbDmCEg5THLt/WPcFURIpcW4x89zpKYJXdLqtxI\ntPca7b3EX5jvEo9yPNhfJ1bRjJvPlEjSTRjij9mBTZAx7/MtrllsvJpA1EIc4sIQUb445AtAYtsk\nvU4rBKCoqybmNvJdMXl1nQBkifT9dwoFIC6y7q+tecW5Tynn2ok6qoRB5aaAI9IdQMExRSTSRKat\nbDQd3vucnwrOf558bwIAAHAIpIYDAAAAgMg/GUkLt8KC6MxcTTyKYWj9MdRwJREpaygZhVafktXj\nz+XjAgP9EI7FnBdnw98v+AL9mUjim3+P9HbvpPAXsEfG4Lt2Psz+/uoRhzbOVuJQ0B8ThnIEICf4\nfCjOlK1sxf4/Wj3LfnNBI1k30t+zjFxv60cSPiwrk2jPxScLMu9rIcUWE2Z4zLH589FSuklC0a4M\nc/tIbfpiUigCGfpn4AYCAICuwBEEAAAAgGJqvkaCT3ZvxPlTU4Y8yRWPZpzn1P0yY8xHOfpdq7MX\nf32yhpJRqPrb/aawfCd6fH3u7DFJ6OmLdGYTjzQ3AIeHfZZYlPt+wcuNeJ+QF9XDc4aJIW5Vu3eI\nMVdNz779fnwXg+9G8fceOuziER4bClN0tRqztUT/8N+rp3/bx7IXJB4RsUNt46AAxI8n61YKQIED\nZteXfJ209lJtSs4tlwJOmmNJnDG0d+LsjguxqindlPPpMYSp4Px2fGcQRCAAAOgPHEEAAAAACIi5\ngUaCT4T1SHM3k7ggURre5MM5ndmvdyl84/urcIUxBfdaxl+QGe5P39Whwd1F1YLmIGaYV4dLp+Ym\nzRdH3PPRLp6R7qGdW+f1pLVAxPuT2i11DfkCkEbM8ROUHSAAZddNCEDPcnG3S9iXHk+uAMTbE8tT\nmNbtXceIz1NCmVZWEtMlkSgujJmtHclN5ItA2BcIAADGAEcQAAAAAKalVI3Cp8g3Z32z/Qil17t2\nQW/2eWjFrJvbV6Mtth0YwwzDb6W6nzmWbt8tfLU7eg8dXkYrN4ujaBeDEqw0hzl7whyKZfux71N1\nEnV2EWluDaI+ItFOtPBdHf4ceCrN0TRvuhtlj9ZPSgCS3D+786/9bfznajuTCEDOYeMeF8VJ8fe+\nVBq48LjeTo4zx8FTu73b2T82QtlcASi2F5Afg+QCInqKQO7551N89QwAAO4BhCAAAAAABIz+lm4r\naj5LrjjOWsRFBmUCVpqXUQJSbR3QBvU6H1hESr0klhLKFqNUPMpx7/S4XLH+UovTsZhnEYikMt3F\nIQ++ObyxRNZzzxDtHTRE/a/zTqjq3Zebc+uleWsoDkn98mvwexsIQLHnu3ZUESQuXsTqGGMj7hpd\nACJ6jqqVAOREpaA9t/+PEKe0B5C73s4FJI1Jj0tO7RbUN3YnAmnzLDl+YunjuNjD23nw55bon/sf\n4QYCAIBRIDUcAAAAAHZ8+2/fp4VTP50JJ+7wSe4OY/QRx3sB8egoEJGeXF0o4eO76nCvMi5pr6IZ\nRBiJVAxnxyhtUH/W652nw9ri6OxoStG7651LqbE49Puy0r89oyhx7mjlStvIEYBq+tRcOrF6m1jz\nCig43yj9m2vLiUkpZ44Wr98/R3ILPSh8jfH+xHlR4uCuIj/1nD8nD0v0z0IEAgCAocARBAAAAIAo\nJd/Cj35b9yLC0d1cR+J41QWMJ3cQD2vugxbfMp9tvnp+p2wGkYmPL2e4uWHPMD5H7WWcaAhE9L5e\nqfHwueflR4yr9Zy3dvKKjgfhmD+XvVLNSQvz0klLY9xDQtcbhp0/0r/kHNoJEd7qfe68pwSglPgT\nqxu0M1gAijqOagQgUuY90WZ67HId157frku3J409JwWca4NYG+7efLA6OXsNBY8zRCDJCQQRCAAA\nxgMhCAAAAADNyRUP7iIcQDzSTyTFkYu6j2oXgWsXN1ecr977l/Si9NouOMQNvtCdFGA6xpLT/1Yu\nIRilhCKiicby+s3jGSGEEAliqZDqamSqOX//HUO0pZnjcbQWztR4vFia92X3j7lTyh/jUQEo5Rzy\nuq4WgGqdR10FIL+PjDbj7icpvoig5EQYT4xxt3NOCjgiTyxiIpAm2Ih1lX54HH6b3AXkjrm51UQs\nAAAAfUFqOAAAAABs8LRwM3Nl11Etdxqro0REjJa/OB9nB9CJFYWilkip0GYmN9xei/S57Ba1Ffy5\nP8NRJCHFbUhO+3T2rXPGa5fPjy+cuJRr3tOucYy4x3//9/dL/+aLL8Y4ZbW/AJQrOol767za/DBW\nF1ME50+sTd62eE5pUEr/Rko72z5DFMZX4wCK9ZcSgHgZ3mZKBLKEfYEAAOAs4AgCAAAAwJKUuo6I\nri8e3c15RFTmPuKH7yQi5dwbK46vx3faVhKXjg5/9FBX+aZBTpwPpZDZfgjtMMGhNaorILP+yPtB\n2n+ot4tIcg9t/dn9wvW2Jwy1nxfLfrs+WolDuQJQytmi1QvEl0IBSBp/Vh3Xj7HFApAvWnGhIyUA\nSe1uMQpp23Th59mO2wNILCPExgUd6bHjYc3zXspwAEkp55IuoIw0cPzc29kEEQgAAM4GjiAAAAAA\nEBHRp39bmRtopcXSWkqEghtMx8adxqpRKiIlTk1Ji3hXGzPRPd7bHKajKDGK1eL3haKN11/fs+89\nKSzjHe8ljOTg5mZ0yki/K0tPJ5gTDnrH4bs/crpKCUAp90+ybkTwyW6DZAFDq5fbb0oAUuMRBCAn\n1kjt+sKM6M5JuH94ndgeQFraOm0sYno3qaySVi6Vbu6hCD287oMddwIQRCAAADgfOIIAAAAAUEXN\nd0nOXuQqpcRtEl2suZjD5I7OI06pE8k/FZ2LiYSkFl8X423ExjDLPdLre3JTvv8p34KPTcFs4lHu\n5ZolZrv9yCn4fiilAWzlIBG6DI5L7hVix3rC98Ph7Pb/aSjShIvhYYFNpGLPW/bt//3wH/viT6/9\nf64mAD37lAUgrV1JaNkLIXp80nXcuWf4Y00YEp4794/YhxQPdxcpdX0kB5UkAnEB6Fn3XQf7AgEA\nwPlACAIAAADAMEoXWKdcOE0gDjGSJoTo+inriOpFhZXHrBGdiwwhiUielxVeL6n7YIEhXIqq16Wl\n977jOQ1MIhxlhnoqsb+RXEDaRCATlustDqVSzZ3hJOJz5573fF+03op7ME+vSWiZ8s01S0T0Y4P2\n/4nVc3sD1QhAR51HLQUgrb2cNlNp4OQ6cuzb8YQzx7XBBRmiPAcQUd4+QLxciQvo+ftd72EN/fP/\n0586+y0WAABuD1LDAQAAAKA4LdzMrLAY3oI7iEdHuOO4JcfAaowYwurTtNp7nJgKTcJbOJ+VWGyt\nBZhcJE3Od21txxs6VXKQ4vpgz6+eYm7n3vEUoSPiUEoASok/ybqF+/1o7bQWn97l8gWgp7jySudX\nKAC5WHMFoM2dQ0Ta/CcFIHZc7FcoX+IAMiQ7fDi8jCT0SH1rTiCIQAAAMAdwBAEAAAAg+sF7tU9u\nd0hZR5TvPEouul1UPDqibK46/oetTzuXcXoIIxRp3sfHgD7vDHeyxDBsdVyrdta9WnN/9haItL8F\nKdeOq9jr71+pk0hyEfUILZZirrVItHdPvA9uxz2lyBh9zD/WIP2bq6/WPVEA0s+9nEdkqwSgZ10h\nnZ/XthZr0KZ/nQIR6F0+rBfuAeQfk8Wp8LmUAo7o+ZoyrI623xAZGxWBuJjjjpW4gIggAgEAwMxA\nCAIAAABAfOHg9bvkU9xqn/jukLKOqK94FDm8HCuLSNHYEwPjp5NjyRjs2fORQ+n1PntMRxI6zP7e\n5S/gRhGcQ1K10cONfYtfi7eL2KEdjwXoPTTE9r2hcXH6i8t8gduPoYdQpIlEvVxEYn/eoP/RL/dL\n/+bqRs9nCEAxN0qsjRwBSH9OSQGIx5dqyxgru214e7vXir6/jrQHkGvfCIKMFKurKwls/rGUCLT1\nlXAS8bpcuM1JBee3+bAmLUgDAAAYClLDAQAAADfnmx3TwuWul0y+NtmE2RdgW6IO9aLuo5ZcfT78\nBeYr4zsbrsBs10xKOyaWyxCMzh4aFze0c6MJRBhhIs9INffqOjgmPe8ShwkFodYC0R9ICEA93T+x\numEMFQJQzHmUuIIlAlBO2y4W7th5n9fjKNn/x+9Laou/1rY+BOHGkCzQBK4jInWupHj94zEBaCdA\n7cSu/TknAv0LcAMBAMBUwBEEAAAAgG7kKkxJB4rAap8s75Kyjihy3eE+SjLTQnAPZnBtjKCluj7D\n/MzmmswOx2akSDPnijE5jlzOiHsiXDCOF3wuqIciXatYtUV0DT+OlvPl5kGaDz99WCm++DNT+jdf\n8Plgz3PbSfZ9kgDkP9+f1+NIpZQT6yTcP/6caingrPdP6pM7kHIEoJjLKGifx6ykgns+hwgEAACz\nAkcQAAAAcGN6uoFGcVXhqJZVxaMjlDiQouUnZsWYaykea2aFVedw1T2MUu9FRxbNWyJ9G9/nw3d+\nCHVnQnI/jY4x6iQa5CLiYpQvYPDzPcPx95PRxp1y/xClBaBk3YMC0LP3CvdPqu/GApAls81SjgAU\nng/7ed8reXO4q5O5B1CqrCTOSA4gQ5SVck4qc8QF5PcBEQgAAOYGjiAAAADgxjys8jFcWLGY9RMd\nXEd77uQ8cpQ4kPzDpQJS4lRXWim2K1zq4rHmVhDShK3A0Wt/2j2bGXjrtFqlpMKUNpp38H10do2e\ncL+lxtLapZMTg3gfRFxELWILFr4zylCjvnd92PCxE4f+sa/Mmf5Nc/xo4kVp/2pKtVd7H8pePe8y\n8TZFASgSKwlturk3ZEUBSBJi+PFsAUiIbXMGCXViDiDJZcR5KAIPb18qAxEIAADWB0IQAAAAcHPE\nD4vCJ+3oAtJCwhFRuXhUMpaZx61xR/GIqFxA8k9Fhz+xE6m1BXCGMWXjFq46BD1yYb2E3LhGLIpH\n+88c5GzvOzGRKFA12LcRRg1Fd2OEDEk5xxfdLZsa44SE9/PmMSiP/WN+t61C8MWfmdK/ubrZ/zfq\nIAA5NEdLSgDKaTs4r7Rpvcf78kZ+7D2PiTph/+Up4Hi7OQ4gPg+q2BcRiaRUcH7blp6Ca87+UgAA\nAM4DqeEAAACAm/L1v/WPDftPwBXEo1KuLh7VMttC7kg+bjT2Gw1140rX19Ca13CV9xfjfrC/wlr8\nrZwypUg61ug4dm4hs5+2UbFwUai0/5T7h7Y2z03/liLWjn5OOZ5wLL3bzW8zFU9s6Ss39VtOP+6c\neMwaIslNJNSJOY94G7H+JOFTE3mI9g66lAvIzYETgf7F//k/W+RdGAAA7gkcQQAAAADoTi/XkVp2\nAkpUttJFpVnHnEPtd5BWWeCNoQ39AkMLOGvR+ExaKeszzFnNWKaIOyPwGd5LfMeLfDJ4uIubmYu6\nkesmGhaDZWnemCrTOsWcFEPsfZz32zP9mztX7RyiyPV9CRDJdir2/5lPAIq3Wzr22Jxu55x7iMpS\nwBF5DqCECMSdQprjSxOBoiniWB8QgQAAYB3gCAIAAABuyEg30Cju6Doiuod4dIQZFn1LqEk5l6x3\nI64wD/6eKStxFRdk7D3jzP2MpPRShrxUao4TY3RwJ9FI586mC/mqEI2bkx9v4P6J1U+5f5J1KS5W\npEi6j5Q9elIxP/vXnC1ym/4lHiYAJc7llHeiSixlnHQsJTxJTiEiZY+szDRwkguICCIQAACsChxB\nAAAAALgEpa4jomuIR9kpXbzHV1mwzeHId57OWEyNhptY1PKpFZQKikzJyEXnbiiLoVmcKCLlxqwt\nfmplR1PznuHq9HzP0BeZlRNsoqXYer1ecpwSvfsN5uX1utrNQ0PRrIUANPsH2gAAIABJREFU1CP9\nm6tb6zrK7r9QAPJF1VIBaGtTED1cexqaAKSmYUucU8UcUgQdr/z2O9G31AbnYc0zFs9tJJVNiUS5\nqeBcXZcWDgAAwBpACAIAAABuSK0ocDVKxaMrpKwjKltkjo5dYeaxl3Dmt/+PUisoSUWkKZh5XmpF\nlFmGdMSuaSxRxpquXPdAvyXUiECpOiOvXYlQNEIgEvvdfkgn2Ovb7I+dIQwx807XGGIC0baoX/De\n/+Nf+e7TrdEr/VvqfEf3z1ZfdaOUuZbc3FrvQJUARLQTPbYyQmOWDBmy6nXYCx/MJfN6zvvaCY68\nrdebsDT2mPtH2gco6QB6xfZQxB/N5eNoJQL9y3ADAQDAMiA1HAAAAHAzfuJgWjh82ivjCq6jI1xN\nQJpZABnJx43n4YpDdynGVsRQKCRIZc7Gdz9Ix2fBbD9om1Ae40jnHRcEz+jXpd9zx66e/s3V1/s4\nKACpfZa5irYyogD0FoFSAlDYXsz5pPSVcO7k9K+ldlMFJFZWEptKBaAHa8Bux99ikxuvJaJ/CSIQ\nAAAsBRxBAAAAACiiRkW686fEUtcR0bXEox7uozPHffQ7VLMt+tbiLxZlD6lg7DNP0yHHTrMo2qI6\nSHiZFzMJR9o37TlaCid3rjfae4d2/Kz5zXET+WJRb3Em103Us193jf6Jr86d/s3/nVvXv37J/iMC\nkCqEnCQAaW23FIC0OjH3TzT9nBCf1I4TZYiJM7yvoP9IOZ6ez38MEQgAAK4DhCAAAADgRhx1A9VS\n2undP1keEo+MWX7+UvfLyuNrYcafZQHekT2kgrFLRfk39FeEj2umYdSItrmVz75euWKRxhnh5wpE\nI1JY8lgsPybk8esVk+g28cJoLRL9hCf+dEv/1sn9k6q7iQ9KOrN3WaWNWPqykwWgsE5cREvNsdSe\n6g6K9B9LAZd0EAkOILVsIqZUGjge28M79qA2/5cBAAAwHghBAAAAAJgOuI7K2dw0K29sk0nut/+v\nSssFmJVulTPdHL1YTZzwaXYfelbAs8a00nUQF8G9t33//KjXt3gvMAfRGXsR8b5K+v6JBu6fWP08\nwaNt+jetz5IUcLG4A4FQi6+03df93UoA2pw5wnl3v0r3kjue67aJ9Z+bAo7o6cjhbiGe3k3qLykA\n0X5OJRHIb8MXgf6VvwA3EAAArAiEIAAAAOBGJNM5CQdX+aQH8ejJ84O9W54SWDTFnE/OtT7yrfDV\n5uMIs+9XoqEtXnGODGf2uXALkyuQszj8MiUkGqJTBKNaoWhknJpAxBkmDrHHQSyeOmPpve9YD6Eo\n5SLySQlAh90/RFEBqFf6t5h4s39e14aa+nDbp6dOAJIeb/UKr8PmgjL2nV5t157yOOLaMZQnyuz6\nV84F9b1yO0Emo59UOU0E4kKXLwK5OhCBAABgXYyFpxMAAAC4BT/+m46lhbuacFTDlcfmyBWP1LIX\no2aMV5qX2cWQnnxceOwrD81sPxROEoskeAybO0Yoe6awx91EZ7zufRfG7hozk2uPefp6Z/ePO9fD\n/ZOsm+j3XbZCALIRUSpxlXIFILGecB2cwOMe8zo5AlsYRzz9G3cOaXsAaW3FxB/e9kPoz7VLrJzU\n966M5gLyyvqp4Ny5B0QgAABYHjiCAAAAAJCF+EFZSdPhuJp4dAfXkXyd5ZGnr/U93EexOqsLST2/\nMza7yPRgY7+Su2jl9zK7/dBR3UWDhQ59kVw+b4Qy/HgPctxE3fch4o+FVfNNKDJtBKEWAtAR90+s\nfq37x9WJnd+XLUwj9/pxRABSx1wpAEmPU32928yP0Xfl8Pp8DyBfKMpNASftF6Q5gaT4UiKQ7wKS\n5tH1ZVldpIMDAIDrACEIAAAAuAFH3UC1lIpHVxOOiNZecC0hV0DKWty8gIDkOCokEa0vJmnEFv1m\nE06I6q6lxoTDS1Iy/rPHlyMWyZWe9Lz/oqJA4jynV5glaeZGuIh43w/+n4aXMJGbXu7rX/3uc+H7\nJunf5PKaGBNJIacIQCnxx9XvJQCJdWLzXxOjUi/m/lHnkT03REGqulwHUG5cqguIiU+aCPQ4/V0d\nAABACyAEAQAAADfA0jNL++zAdfTk1uIRUVMBKVp+EWoFiJXHvereRRry/hb5mElSndUQG+tZYypy\nug28F0sWroO0VET0odQbJRgNdxEJ/ftjtq9JMmbv/ukhAPV0/xzp14k05vU/wdI2eglAothIO22P\negtAvmuH19s5eqS2NMdQ4hr7PIT9inIdQNkuocjfHrVfJgJZMvSv/YU/ueqfIAAAAB4QggAAAICb\nYAuXHlcQjoggHjnuIh4RlQlIvPydRKTUPbHS2HqlqFtGYFIWYnM4Y4xHLpcmeowk635THDKjiLkN\n+DnJWdA61Nz0cj0dRHwhnyzRNz+5bvq3HAFIe55q4ylq5LUtlinY/2c//5ZKBSCtv53Qw/sT0rC5\nx5tLJ9JXbv9ifa+NIHVbRl85+wDx68fbdSIQ71NyAkEEAgCA62Bsz8TfAAAAADidf/w3/dKwP/ar\niEelXFE4quUOY9QoFZGidSakVaxLjXmlYCvh6bJymG1aeDxZ4u4J+LHsYjTyubNil/qV5nhkfO61\naO3x12UL8Ser/mTp33IEmlQ7vqsqp32/rQ9jDwhASp+K88Z453MFGK28q1NyPXaOIeW8WF5wHonl\nBWFHEqdSAhBvO8cFRPR2Av2rEIEAAOBSwBEEAAAAgGbAdfTmquJRtSuhaRTnUOpE4nWic8BWPs+Y\nr1aKcczRMdt90Po7cTMKSzw1UA6zjSO6sEvyfXWGWKQvJCvnjeBYaCCEpEjNp4PH1jOsWJq53Pno\nLQD1dP8c6bdEAFJFiwMCEJG8zw1RewHIWqMKTjUC0NZuZgx+W5qglFs+13FkSY6Ru4n4NdQEIL9N\nv533c4hAAABwVSAEAQAAABdmpBuohlLhiAjikVpucu4sIDmic8BWy8xsK/EHiYlDYD5y9zQyNIdo\nlHp/4WIRLz9iCKXuC6ni6P2J/IVqLgpZ2u9J1NJBlNp7yMeYtADU2/2T7rvMbZLbb+4ePTX7/2jt\na+2FIoXS3wEByCGJGmp7SpvbuZI4IvOopaBTx5PZZ9IBpIjM/n23mzulLe4E+nzqTw8AAABqgRAE\nAAAAgKWAeHQf8YjovgKSzfw6/Grj1L6t7LNyiroWDqMVhJVduczCZ48rJ8xZBEv1PrL7hyNTzsXc\nD36/oxxE3/raW/w5SwA6I/3bs0w/AUhrOycuor4CkBqXcryZABQ5rsUhpYCTBKNYuzEHEJHs9tzV\nZfsgSf3unUHPPYEelujf+F/gBgIAgCsCIQgAAAC4MLMsap3NVVPWEUE80jiyHj/DuHfxZ6aeI8qI\nPbEaP93YK5lhHLXUiklnCS3F4SYqnDGOlKNAY3SoQSxWXtQ2xjtm38d6x5PrIDoiWPkCUDyuAwLO\nQunfnLiQ085T0ChvPyXGkNLuEQEoLYaFz7d7LlOEcf2bV6o5sb2YmMZ4RNqS7o0cB5BajgUQjDex\nF1B4/CkCWYhAAABwaYxtnRgbAAAAAFPwB/6WeFq4O4gBI1lJPKpBHd3N75mrjzU1vplT2PWIbN7R\nli30u4+AM16+LaaIZWzCsANmi9F4q+Cam2h0zLw//9L751qIP1n1B7t/svpNOHSMsVsfpe6faPsZ\n7p9nOaVP5VocFuGE507M0QSgZzRpEYa3l3IB+W2pwptQlrft7neetk0qF0vbKc1fTiq45/OnCPSv\nQwQCAIBLA0cQAAAAcFPgJGlLynW0ulCkjq7RPRM5DE4kZyFw1uvW4+tus46VSP+m/2qkxvFa730V\nlgrMcZ1yHLlHnDGlBPMquIl2TiLqHxfvi7shPu0sAB1x/7z7rhSAKtO/BTEP2P9HrK/87Y8JS2pb\nGf1qApDUvijAJGJJtSe6iYS2Uu4j3vbDq6eVk/YBSsWi7S3EXUDPsk8RSEo1BwAA4FrAEQQAAABc\nkJQbaCTBx+2bCkerC0GjSTmQVp3NVeNOkT2uAgvKjHPVMqYZx5diRgcRx7gfykL1x4Rj0HStM0Pl\n88hdRD0dRN9G+jexzSyB5vVDFofK48pZLtIEoKz9fYR+NRfP1lfltVHrFaR/8506YmwZ/cbiLNkH\naHucsRcQEXcHuWNvEejf/ItwAwEAwNWBIwgAAAAAXQk+w97UdZS7TxEEoydJB9Ik3/ovpZVCO9vY\ns8dV8CU0raQx571KWl6/2rbOvPa5l+9MwchuP/LP+08loai3c0cXBvaMnFZxHi3bB8h3EL2UodoY\nffEnvtB/v/RvuQJQzf4/xwSg8vRvsX6jLh6ljn++qwDktRPbA8hvW0ov96D8NHWxfYBcPf+YlgbO\nP+df1wcZetjnMYhAAABwDyAEAQAAABfEfeDL+VQ32yc/8YP8jcSjXMHI55biEf/G86LXu5aWlr/l\n5slasgmlYfYxrSgClTCzYJSKzT8fCDFGPjdqGKo4KpTpERPvP3Ar2H05J6o5UUm63i3cP7H6R9w/\nrn63fg8KQDH3T6p9XRxJdEr9BaCcOv75XAHopVVmuYp4O0mRSuhXS1cXE4G0a8rr8P61Nnf9Wv8Y\nRCAAALgjSA0HAAAAXIwfO5AWLveT4OqfGK8kHB3hbgJSKt1cdvmLcrfxOvxxmwVyn9VEOP+oZGa7\nHJKTy9A7zt05Rfg4ixlCMd4EfufviwtAvd0/6b77CEC907/F+oi1nxRIiUi7HtqeO34aQa1MtD9B\n8Ni1mRGH37+Wak5zaEpxVwtPGXEmHUBCXW0vIH7OTwXn+oIIBAAA9wOOIAAAAABs5CpIpd+Enu1T\n5t1dR467uY/U0Sonsu7zyHSsNlOpu2G18eRy5GtxZ8zJiK/xzXKtU4vTo4UWfbG4rPIpTijhGHcS\n9Q7LzdN3vvYZ0r9l1gvLavdhpTDVQQAilxYtVibWZ2L/nRIBiO+fI8XARRpjLD2UuKW+pRRwNlI+\nKJf4/ycRBfFwAchvOxSeXJ29CPSY5p0eAADAKOAIAgAAAC7EETfQKO7iOiK6pnhUy8oCUguio7+Q\nmFTL1cb5MZMVpIIP7/HKAuGsl8F3xhC9RRieem50+NwZ0aP/73ztM/F4SgBa0f3zLNNAAKpx/0Ta\nz0v/RlQjACVdPrHzCQEoJ45YW7E4XHnNNVQyD9llhesq1fVFoJS4JLmAnsdDEejf+ot/YtJ3SAAA\nAL2AIwgAAAAAQ+nlOiopNwo4j97UuI+IriMgRUcfOclPSbMx62L3ndl92a7iAp19SaVvm2tosebc\nu72ZzVHkUB0AfGHYCAvTtl/cqUVpIxw/EsrM7p9Y/Vr3j6sba3c3x5UCUOn+P7zfWGq5kv78Mlq9\nj5ebpkQA0mJxx4sEINaWf1+owlDE5ZQjAuW4gKR5jaWB01xA/n5OTgSyEIEAAOC2QAgCAAAAwPT0\nEo9m/BQM8WjP3QUkjjYbq4+2lZVxlnnYL9yXjc4QLaXu5YhGsdH0dqDEiF2aGdK3xZwgvMKIeLWF\n9C0GdpyH5NxARwSgI+6fd9+VLpNE31XunNePTXQw7+dFfVSkf7O7a2CHCkAOnvKsWgBKnNPaSglQ\n1isbSwGXE2eOA0i7V/ZOn5RDyNV5u4DccTiBAADg3kAIAgAAAC7C7/+b/2h0vWiFTdBbkrP0egXX\nERHEI4laAcmxkpDkLy4lo04UWGfUMlcQyp4LmuX37zO12JwjlRZWOSmxaFaRyJUbOfVibHb3iwx3\nE3V0ErEQxGPPWPq5f2L1e7p/nmWOCUD8WIv2iWKuE0kAYQJHheNm30d4LHV9S66P79aJnROPR65J\nzP2TFmBCscj1+VCvxRtpX6JcF5B/rf3X2eYMgggEAACAIAQBAAAAt6FqYXHSRcUe9HIdlZQbSTPx\nSDkx45hLWFVISkadKCCdzhqJiT49nWNXM2S28RG5ReGykY58jy9ZPC4Ri7JF0IbEppmfGzXFkitA\nDXOQeOX3/+nXfqWPC2cy949rV69HgQCkx1AhMCkNawJQWP98AcgJKlI8rj0j1I09dm3y/Xakdvw4\neN9aeVd2LxzFY/ThcQVjiDiRNBGIO4EkMQoAAMC9gBAEAAAAXICUG6iWUvHoTsIREcSj2Im7CkgO\nSUhayWXkk3Wfe4XM9gOMpukfAvb+P+L9PWehOVaGpybTzvVAXYBXjp+Sek6ySLx/BS6i/nPWL/3b\nobrR823cPzFa7/9TKwDlXId3H+GxmmskCSpSe8qtHK/j2qa3qCOltlRT4Un9KmPMcQBZa4g8B5Em\nXObsBfQ8Z15jpu030VMEspbo3/lf4QYCAIC7AyEIAAAAAM2A6yjN3cQjojECUrT8JNhtSW72SI9h\ntx8JCqdhplk7KrjMMpaa9+wUvcaWE2lsvyIXl9TOGdcjRyCytq9gFC44s2PepLmFcxePpfx5+/bX\nfsXr497p31q2TxQXgGKupXf9MgHIFwk1ISc+j3EBSCyf4frKjWPnpMmIIyYq8rKP1+t1L87Ic7U5\ngJg4VRLLlvbNTwXHyjgR6N+GCAQAAIAgBAEAAADL84+k9gYaFUglcB2lKRWPDM1/3XMoEZD4YT7+\nmW6bo2nnHDMLSqUuoprizr2wIiWL6LOQ8179dIPtv92ulmtMKrqYSBRj9HUS93Vhx4alm2P9Wn6M\nqWuxuKKL+QfdP/7v4roLpn979q/UyXD/POvXCUDqc6EeF41KBaD4tVGOF+z/E+ufqNAt5EQZJgIF\nv4X4Uv3EXEAP7/55sBggAgEAAOBACAIAAAAWJ/WB/0rOEqJy4YjofuJRsGB+ShTncoc5aCUo+cws\nLgXY7cvU1Zw52tqrN/MVei6IxkeWIxYNF18Ky4+ML0cYIhrrJFLjsO9fzj306Se/Wp12rIf7x507\n0/1T3Uf0SxBjBCCpPek2sOx5ThyxNlPxaM6hEgHIlZUcPOp+Qco1Twll0j2c6wB6ntu3BxEIAABA\nDhCCAAAAgBtR6iwhylvwmv1T5h3FI20R5gpiYA1+vv6rpZxryUrp6+z242AbjI/Jhz6zaJFDjlhE\nxoiLsdvpxjHFyHN1PPlQjo+IN2ePot5/1vjfHdW1EnW61Lt/YvUPuX8idZsJQJXp3zQByFpDxtjt\nsVY/JbZp5AhAWr2SNrV43DXx99hxx32jWqkIJPbFBZpXJ3wfIKmvR4Y4JQlAu9+sYckF5Mo924YI\nBAAAQAZCEAAAALAwvy+RFq4FJYtgDohH81IjBhJdS0BS5yC62PbmDkJSjttoBbGoBuuvJFYy08ys\nKBxZm7gDtffa1/t27/fi1GK19p5R+75aQ6mTqIeL6Dtf+9Vn20RREebZ/1zp39L1dIGmWR+Rv0kx\nQUl6zMtUuX+IxHhrBKCdYBNJKyfF4NoyrF1NzHGiWBPHkNCBVp8fz0kBx9srcQFtZWx9KkwAAADX\nBkIQAAAAAJpTKh5dRWS48n5HNQJSyejWmYmOQlLi5Gxz1Do13SzCUgunES28fxFRevhnj61YqPfK\n93zf1aKSFmXF9FMku4pGCkatHETf+dqvHhKAerp/nmXmTP9GpIh4RBRL/xYTw1J9jhaArH07/koE\nIB6Df4+IxyOiWK4A5F5/uSngiEIXUE5fwRj469K79twFRPR2CTkR6N+FGwgAAIAAhCAAAABgUUa4\ngUbRS2SY/VNwjeuIaB0BqWR0tQJSTfmzic5L5KR0yrAnq83FZSlYLN4xwTXMFfJ5nCPdLimy3luF\nMiPfW6ML3iS/Jx55n8whJgpt/Zr38dh0xVOdzeX+SdVtJgA1Tv/m2ozHQkUCkP/a7iEAaX2nBD8t\n1pJ5kcSiaPnXZOSkgHP1NaFK6ystAL3vJ+ud98tBBAIAAJALhCAAAABgUbSFrlVEgqPkLlY6ruI6\nIqoTkFa6L0pHdycRibMbe2/rQGdaO4wcZziNakdiLFFiXTfs6CTxKMdFMKNYFH3/9M65R8aEd9B2\nrmVgrG0f7iiS3ERSjL3FIj6V7s/Mp5/8WpbbYneO0mJAtG70fJ/0b5bMJtH0SP8W2/8nRY0AtO25\no9StFYBScxxrq5UApM2jlDJud90jIpB7jUn7APHXrBRXWIafN7tzVigHEQgAAEAJEIIAAACABfm9\nf9Mvqp+dr5ye7Aj53+R9A/FohZHtGSki1dbphbZomYwxYxAzjbMU+1quXQG7/chHEwBjzYyajVKx\n6GyhSIz3tV+RdM69Rx59HyklunjuPeaCUe/YVFHjQunfeJvtBaB694/rNzXfwTE/zgohRYqtpQDk\nv0/EYtH6iTp4eNzKtRddPcbuRCDtfk6JQNK94ItA6l5A3jGIQAAAAHKAEAQAAADcnLsIBDXUikdX\nmZ2rp67j1Iw2d+H61DRZhwvoRYJxTZDaTKKV22hGQSnlWuCY7ccc1LzPOs4WXR5a7rStst2OdRdh\nhGP+YjMXhSzt9yNq5SD69td+7dnepOnf4sJSvgBU1UeF+4ci7fEyJaJLLM5dmUQ8LQSgzZmjtOfu\nXSvUkWLIjT0oH3H/+Gzij9eWtA8Y70+KKeYCkvYCerYTikCft/kTBwAA4OJACAIAAABAMRCPdEZ/\nM3xG7iYg+czgwhhJIITZ99rYFcd7BXzXUfR+nUDUy3knyRYpByG9/xlryXqb67gSH2a/SEzUL25V\nDPCe+2JRbRwruX+efSZiypiJevcP0cj0b67d+Hj1+scEOj0Ww5w1rnzKYcNFFkkwisUeu/axeHmZ\nlANIKpebBo6X9VPBPZ8/BaN//3+DGwgAAEAaU/tBHQAAAADnEEsLdyWuIAr4XCnN3Iyscr/URrnG\n6PIpHo8RHy7HjI4iDS3SQPybQDAqZZZ4uUuH6CkO5ToNe8JT9n14j/l5x6ef/HpwrKcAlHL/tEr/\nVtMHUVwAUoWrBQUgzZHjp3PLjUUTcmJxxOpI9ST3j38ueC7Em+MA0sppIpDoSlJEIDfmhyX69yAC\nAQAAyASOIAAAAGAx/A/XV+ZqrqPc0dQ4iuYd9Tj4/TLrvVCr4rZeGD57dorngb0wzo6/lpoUdWeJ\nR9mRKgvqu0s22TWbxUUkxcHTzRmiwE30YcKF7daxSwvivgiU+luVEoC6pX9LuVIaCUCj0r/tUqDF\nymnHThCAiGSRc5QAFI1buP5av9ylpPWp9ZcSgXYuIHZOLWff5SECAQAAKAWOIAAAAGAhfo/gBoJY\nUM+sYsERcD+EXPE698DQWvdFs1gnEykkDJlsEWlG11FMKCAi+pgv5B08vJgrZgSS04I7iUbGZojo\n25/8elf3z7NMed2U+BNrtyS+lgIQ70sSVfbtl8Xq12stAJXU2c5p9RoIQE5g8bTU3bmceJ3QKgs7\neko7Ivm+eJZ5u4D4/ZlKBUcEEQgAAEAdcAQBAAAAi9PLaXKHT5dXcx0R1d0PRNcWkI5+8Wn2a96K\nWVwSuTT7OttrkXBmSpxElux0YlAq+tQCrSYUjRJkchbUHSNmPuUkSrmIWjuIrPdPPN/L/ROp29L9\nMyr9m9ZXroMlJtL44mGp+JNqu7ROLI5YLKV1fPdP6j1mE3uU/X18Eci5tFJp4KQ+/XsiZy8g/zhE\nIAAAAEeBEAQAAAAsguQGqiWnoZpvFt/hU+kVxSMiCEgxWjjoV7gHiCLfLldYPUWd43HwEs/maFnN\nPVQiFEll+ctrlDOm5PUycqafgsI+EmvZXeEm7WWX8OMrFYo+9dxA+z7LnSXv83XOoWYC0CD3j6uX\nvTeQ0q52L1p67u9U6qIhJ3bEykTiLBFzdunvBCfOEQFI6p/jxB/LysXmy3p15HK8z/c1suy8X94X\ni/bH3uP6PONeAQAAACQgBAEAAAAgSY1IANfRm6uKR0QQkHJplY55tvvi6KjmGk09tfNw9vhXEYxS\nUWpCnnn9qH3/aYkoYLFzI0Ur/z3JeCLRFsuBVHOzpX8b4f6p3f+n9Is5u2MJAciRk9Jsq/c6Lrlj\ntFik+jwWKb3d1hdz1/B70bI6khvn3b8cF39uKC2gpfrME4H2AhC/T9WyXATy/v2H//sfP/tPBwAA\ngEWBEAQAAAAsgkv7Enz6ExaGZ/iEWLO4AfHozZXFI6L+AlJp2VVw98VK1zpGG3lszymL/JUDWeUy\n5ghGZ4tFEtrCsLrpD429JtICNWeGVHM+hqWY+/Ynv/583DH9W1xYOlcAapX+TS2bWV8STXLj0gSc\nVCyp+r7AqYlAwWNW1qbK2/f+PzkxW2uIjBVTwKnl/d9quf3zB7svYmngeHkpFZx7/h8gJRwAAIAD\nQAgCAAAAFuB3f/EXto+MwQdQYYUi+S1ettI1y6fK0oWRu7lKUtS6TlYSFUpGeNQFMPOspK71Kte0\nhxBENPe186lJSTdbGjrHSmJR8q1SOH/WSyomDln2fEgcLMXcaPfPK4SqdsN2xqZ/yxGAdFFLrt9a\nAErF4+LQ0sZJQknu/VIyp+4eeDqX8uLe2okIT9E+pXaFylzUidWRBKDn8ddv++4XIhAAAICjQAgC\nAAAALo74wZrvHcBOX8l1xMvBdRRydfeRo3SUOULSrLPQKhWdxArXvtXoZxxp7qW1NJ9olBKLZhCK\n1Pm1u19E9Lw/tq12vGO9STkfRqWY+/Ynf0k+f8D9g/Rv4fFcUSI3rpyYNAHoLb7kOWpicaTq5aR/\n84UwyXnk2uEuI1c2JQJt4xXLSXG863KBSksD55+z/j/vGEQgAAAALYAQBAAAAEyO7wYaBVxHeyAe\nhdzBfcSJfTP/Tsyenq7lG+aMIywZnw0e6MxwOWNCkSQSufIjBCRNnAjeCpW0c2emnOML5D1CqRWA\n0vXodAFodPo317Z6z6XaPCBKxQQgqcwoAYhId1Ba4be2B5B7zoWdmNgmCTb7cmE/fqxcMOL3kyYC\nuccQgQAAALQCQhAAAAAADiN+Nr+I64gI4lFLdhuUz7DyfBC+mFQzolVn4Q5OMulb4Ll8NIuinkPG\nMKHumZcvJhJZspsY5Jc7w2GUchS5h76byD/WJabE85pUc9/+5C8g69lzAAAgAElEQVRlCR41AlBK\n/Im1m9sHUVz86Zn+7d1Hfv1aASg3phwBqCSelgKQlgpQPFa4BxDv170OUw4gonAfIKJ8F1AoDu3r\nu2OPx1p/MwEAAMwNhCAAAABgYs5wA40iGFgD15Fa7gQgHqWRhITVhAJOzQtWqlM7C7PPXol4dMd7\n4cwRV4tGrN55e+nEhSLOaJFIWmiPuole50bMZ0wo0rqP7q9zt/RvkXNh+8rxDvv/pEU6+VhsLKUC\nkCsvpW2LCT/GFApAfnusXU3Q5/0/KBSBZAfQ/l7U7tu900feC0gVgayhhyX6j/6PP772H0IAAABT\nASEIAAAAmJiczbd9ZthfoRc5riNebqWUdUQQj4jKhALO6sKBT6M1+Q1Da90HRHn3wszXfISKP3r0\nVS/PE4WiUnGI6Ny/o+L8sj9qXCvqHS3/m2qJ6NOv/mVlMb4+/Vvs3ioRgKIiRkQAOiX9m9J+LwFI\nE2RisezOKzEYY1UBiIQ+44KaKyOfz4m7VHzyY93HuS/3eL078DKaAPRsT94L6Nle2Ial5/5LFiIQ\nAACADkAIAgAAAC4EhKM9OeJRUliZ2HVE1E88Kik3CxCR4kizs/qoc6/5Kte39A5OjSrH2dGaopeh\nUPbsS5UjEJ22N5EVjjFlqOf8lTp1UqLEqu6flKjFU+3l1o+5bZzgosWWEpViz2sFIPFxok89dr1/\nVbxSXFSyqBOKRbkp4IjeaeD8U/E0cOE97M5zxxFEIAAAAKMwRz4wAwAAAKAfv+uLf2TKP9JXF49q\n2M2Iue4MXVVAasUqYkMOLUZyndl4svr1nWHPohyMtupr5runDJlAODr7L0Cw34/ZL6Qfje7Tr/7l\nV/sJ8SAqpKwpAEXHlECLN+b+yUo3FxPaEvFo4sh2viCmmIgVrafcCzH3j+j0kY5F3EpqH8zNw8tJ\nolWuAETkuYC84+40RCAAAAC9gSMIAAAAAEXAdRSy+9a9S25/QXKv/F0cSJyaL1jNKi60UqHnHF0d\n1tppr1cOscVPxwxikfYyMjZckHV8KJfFX9jugfT3MGc/Iku229/GcDGcHWOr6O6Wzp2r6vRvEfEn\n1m7YTmLfm4gA1Dr9W64AVJr+rasAFHHRGO9xbkwjBCCip0iilZFdPSboXx+b0J8i5ljh2Lt9PQ0c\ndypBBAIAAHAGcAQBAAAAEzKrG2gUVxKPVks1NxMl87LqHK4sLKToNbIVZ2yV68yj1P4QzSAY+cRS\ncfki0U607xhPDtxNNMPfPcMmkt+23/rqbwR1YmLJyu6fwwJQQqipEYCSc10YT0rEicU0SgDKEa5i\n/WoCl/vOTijmhPclTwHn6sfqSCKQJAA5oRAiEAAAgBHAEQQAAABMSM4iw5U/LZa6jojmWESTCEYi\nrFhlOWjYityco21LyV2QmsNZ5+vol7JmFhh6qdnzjlhnFbdYjetPeu2NjjwWt7SIS0Sy6jUw/Rz/\nO5dyEvV0EW19CCvult7p5bzDaaFkUQGoR/q3re3CeHLbjdatEIBq9gzS6vqCS4mwJl2LQMxJ9f36\nzR1DmxjjNRA4gCgsIz3XnEPv8+/jXAR8bK4l2dUEAAAAtAaOIAAAAGAyfmelGyhnWWXFBdRezCoc\n1ZIjHqnlLo5hv4HMzKKST8so1xhxmtmuXcyhowlF1jt/Fsb9YN/m11LPjeZMF9G3P/mNQ+6f5+mM\nlGeRPoh08ce1f4r7R2njiPvH1asRpmLxHBGApH7VfXgSwg938+ycO0oqvey+hbIuprDdcJ4eVogv\ncA4J87sTlvbt+bE9j+1FoP8YbiAAAAADgCMIAAAAuAjZixUv7i4cXcl1RKRc/4T76C7ikbaAVTqu\n1echxSp74LT+Gtv8Iz6O+/LfqOubXKROlNGEpN7R2+0HO2698y+cODQyxpiLiLuH+LEjfPrJb8RT\nnS3q/pkx/VtOu2o9omYCEBdrYu6bYB+e6LUSHltDZOxuH6Bde5GYeeyS+4engHNje9A+bldeer6P\nR3cB8f65COQLXRCBAAAAjAZCEAAAADARtW6gGkqFIyKIRxCPnlxFQCq9mi0WfKefkwbZAlYQkxyp\nBdIYZ6RA02iZ5WGEIJgSikpHM0QgYkgp5wwRbevSr/OjXg7S3yd+rPbvkerQSLhzstpW2n/3rder\nEoA6uX/cudJ4cttN1c110aRi8uuUCFm5AhBvaztnBVEms39drNr/fpZ51ueOHe4A0uqpfbBzkgvI\nHy9EIAAAAGcAIQgAAAAA2fQQj67+Cfhq4hFRYwGJaEkRiahOQJDq5I51hTkhSosSKwlFKWrugTNH\nv3pa8NnnW3QUZbqJRsTJHUQ5zqFvffX/8uo/f9S4f5wL493OYu4fpY2YaBGLKSc2VWyyhj6MFQWg\nVDxaTDWi0TsepU6krZiQJosyJW4hrW0hhVzCAUSUvw+QO+ef5iKQqwsRCAAAwBlACAIAAAAmYvSi\n0Ahyvsnqc3fXEdE1xSOiyL1wQxHJJ+dqrzamGKVixKzCUQtRYtZrf0TMOyPFYMm1cAvN0rXoEXWO\nm2hzEikuoh6x+X9nJOfQ/jxVCUC+yPEco11PAOqV/i1SLiYAEb3Smq0oAGXG4IsnJXsAkRDT4/W/\nI8nJIx3b97O/9lEBiJ33i/r7AbnYIQIBAAA4A7P6t8IAAACAq/A7vvjz0T/KOcvdd/1UCfGonhUE\npKOUiEjR8hNwNLaZx1bLrEJRC2ZKP1cKvy6j9ymKwbK3bXwIx8+IVorvw7yfj4rpW1/5K3GRIEMA\nyiEmKERdRoulf4vFVuqe4fU0B40kpLjyrQUgKY53nRJHjz6PfA8eUuLhIs47jpy6gnvI8vP7c6KQ\nRe+xQAQCAAAwA3AEAQAAAIuQ9kzkLF6ZyLN1yV7YeXG1VFxH0NxHVxKISpxIvPzHBIvWPke/whWr\nHxvpXLOw58r7GqUWax0zCka514WXG3EttMikRWaNnlHmuIh8m4M/ZS3dQ/KiflyYaSH+zJb+zZ0r\nicm/Dql2S+JIxRO4ZwrcNFL5Xb3AMSOLlu54CwHIlU3t4ePDU7m5sqn6Wr19GRab4gKSUsEREX2O\n72EDAAA4ETiCAAAAgAlIuYFGAdeRzl1dR1cShGqILUrfZWZmFBlaM6sQVII0Akk7mH2kxhhVRJrl\nOvlRuEg/hGOjovUXyQ09hSH7CqR2yr75lb+yez7C/dNaAMqPqV36NxcPmVetkwQgqa8SAciJGMbI\nApDaj58KkJ3bxKGM/ol0YVZzAPHY7KtTsfxRESjTBeTX+9wS/af/J9xAAAAAzgOOIAAAAABswHWk\nU+o6IrqG86hmvyKi6whIsS9NFV3vhQWlHFfKkTHMMP4jX46bRZyoeY+Szp0tFkVfc5MIRKJjJ7Nu\nj0j5gnQwTd6itZ9iLhVP1P1DlC0AxVOJzen+0drJTkdXuf+PxmgB6H1eblNqRxVG6LWvEStfkrZO\nF6Xka/gQBi/Vff4vx6hliMfNykguINeO9cpbgggEAADgfOAIAgAAAE5mFjfQKOA6inMF8egIVxGQ\njlIqKq08a2cLD6OZRTjS0KLj4sHco5hznmNOotEuIt6XpadIRET0ja/832L5md0/73YTMUXaiIne\nmmCRMx+54olWr5UA5MQXqb4oIAptSnGUzGUqbrmOVrYuBRxR2gHE59C+fohiFxfBBBHoP4EIBAAA\nYALgCAIAAABO5uE20JZOsoWsK3yKLHUdEaWloivMiyN7gY09v0rquloHkuMqQlJ0FvieKkT1+Z8m\nQFv8qxnRCrNQ+kW8GdwuqXK8zgedT457yC9z1t5EKSdRz6h4PME+RH65kwWgqDiUFVO5+0eL6YgA\nlFP3iAAUqyM5cCThRIpFarOZmKbU0fYk4i6gzXEkCUZCG1xAkst4cSkCEBHRw/rvJ69j3vMHwQkE\nAABgHuAIAgAAAE7kR7/whw/9IQ4+WV7MKVDLnVLWHeHu7iOJVYWkZNQZi9xrjvwNj3/18fikRApr\n7VQOGBeJ9AdOEonOcMPkcPacSvP4wZ63jvBbX327gWICDOfq7p+tTsZ8HBGASsWf2nozCEBvYSeM\njfMgQ4b2adyI8sSfd30m6FheJmwniM2PHyIQAACAxYAjCAAAAFiY4LOu8Ok3uWB0C9dReDTPUXO9\nufHp6T4qKTcTNY6kGcSjZNQZX/6KldiN0Mww4hBtwa6EGZwsEqt9ea9msZvfUz3FjlykeZccRb0E\noxIHkaX9/esW2av6RPq37HhSseWIR3cUgHh/OXsA8b18cl1Erp5VyhCFrysuMO0FJBO0tXMRQQQC\nAAAwKXAEAQAAACdx1A00CriOdLDfUZoV9hI5ypyySD+0VHRXmIXaMawy9rMdLrVoUc86mrPmmTse\nSl1y3/zKX80TPCKF/IX3sF5MoDgm/sTasOx3Tly5AlCpcMLrTi8AsXZzBPccAciPS+1XSuEmiUWS\nK4iJP1JZ6b4QHUa783EXkHsOEQgAAMCMwBEEAAAAgCilriOitHh0lU/H6ZnIcdNcc0HdkVoIu8JY\nj+xrtKKI9Fwgzbn7ZdRF/QlEilHq/EwOF86MaehKrwt3x4wmx0nUYw5ji/SG3gvWUnq5b2SIQFd3\n/2x1Gqd/c899oa5EQPFTBPYWgJyAxfcT8uMOU6wZcf8hv25MkPHLaXsAWWHitDZSewBpMcVcQJIA\nxF1ARM/XmLbXFgAAAHA2EIIAAACAk3CLxysuBKdIiUdpcYQgHnmsnrauZBGqZBwzjzmXIyKSxArv\nJzUjnn1UpWOaeTxHMkaMFoly3lv8RXgjnB8VLZ9X/rz3vO0WtUvrTioAqU6eSBu90r/FBCAuauTG\nFKuXdA0JAhAXlXh7XNzxy0mx7PfI2YtGTiySxxvGZV97AD0EESenDSIK6url9n2Tjc91qQj0J74L\nNxAAAIA5QWo4AAAA4AR+5As/d+gP8AqLvb1Byro4OeKRXm5NSsdypbFz7vweYSbdw6iWWfct0uCC\nhv95cwbXF0eKaIYo3VyNENe+9ZW/GhybVfyJuX+0dmpjSsUWE6OSbVaIWFq9XX1FAIq1Fx1fQRyp\ncWsp3LTrmZ8CziZdQJorqVQAImJCkn0/hwgEAABgduAIAgAAABak1EVwrWXRJynXkVTmLinriLTF\nmDbuI73cuZSqq0fcSEfqjKDGaXSZ9wkbGX3Ggvpss5ByEzhmEYxiXzR0okYqddpIcgUIyVHUM2J/\njmLuodZC0YoCUE1MtenfXLulscRiuqoAFN9LSnBQeW6bVDvORfREFmy02GIp4J5tcHfUq17kGEQg\nAAAAKwBHEAAAADCYo26gUVxmUfgAd0pZd5SVBaTW8AXjK3O19wlDc7pWcpCi5n9sZhGLSpj5evDI\nZoi0dL6cGygmAHG3xe58hdiS+5+gmOMm1s7Z6d9KYqqqZ5//FZlVAHIx6n2Y8JhWPtNFlCMAEaVF\noFwXkDvmXEUQgQAAAKwAHEEAAAAAEIHrSFngwH5HIkccSFe7d7RXzrVG+YS/T6x+LZ8LkqXvfXOI\nFYcWuF/MKGJq12P2OZdcRCOQ3EMx15DmtpjV/aO1c0b6t1i9WFw1AhAXffTrprfXSgCK1SlJ/0YU\nCjNaO1oKOLnsPjbJaZQrAPlt8f2BLD3FoD8JEQgAAMAiwBEEAAAADOSHmRvo7p8cV180bkWOeKSW\nuwD8PrjqOCWOjPWq87Ti+0Lx/lQTiBgaPP0ZPzdv5E942jR+7Exm2o/IGEPf/PJ+b6DRApC1hsi4\nJX69jWqhYqL0b7V1NddPUCbS3nkCkOz+MfR20tS0oZV9hIdEoYkLQrZCBHq84ocIBAAAYCXgCAIA\nAAAGwr89n3aTXHuB/Nb7mHjkOI+kcqk9j8QyE5J6XRDlp57Tj87Jka9kxeqGOyesQ8n7wizvB1XX\nMfMLeaNFjJwFZ+01GktPN2oU2hcdZ9iXqMRBZKnvnO32IKoQf9y5YvGHaCf4GGvEBfyU42al9G+p\nuvpY2glA/v0kiTnWGjLGikKUUeo868lxSeLNwz7/mxKkZ9NcQcp9mXQACeXEa+rNEW/zIRz39wOC\nCAQAAGBFIAQBAAAAg/jtX/jZ5NpEauk/LRyFR6/2KRUp694EM1EjHhEtISApS7vZR68qJGnkiERX\nQHo/WOE13yQrg2vDjB1xLHJpQd9nc36wY72pFYdiKdVaEbgTImVbRvLNr/w/VQJQSmzJFYC08jHh\npGf6t2n2/6G0RlwyDk0kkWLYPaa3CMT3xzFGj/GhuHc0waU2BZwUG+/LL7t7nCEA8XMPel8bS3pK\nOwAAAGBmIAQBAAAAC5OzDJ5edINwxFlhIbkWcTYuLCA5jgpJRLGxzSsoqd96j1Cc5qywfG9qXvOO\nGV/7KdHIWEs2Jla8Vm57jyxnEb70ypxxNaT5lvbdGRJL5BiPgKf0S0UoLbQTxcWWqBCjHS9w6NSI\nUmelf9Pi6iUAaXFqafWkOHbnM1O/7evsfz/PGzIv4UbqTxJ+JCHJkn9PyqnaeEwP77khwWnE6j24\n24kJPdI5vw9fBPpTn8ENBAAAYD2wRxAAAAAwgBw30Kzc0XVUw4wLyLOwuoh0hI9LjmrPx9kBnMwK\nr31DJL7miGhb8ZxlHx0fLaL5In3P3wgXkdg/ySKRFMk3vvL/7p6Pcv9o9UsEoFJxqaR+rYhzpK7k\nYOHtSu1YIjLGZglAqRhS9WLp3ySXnyZqlbiIpPKiuMXmT72umSKQlgrOtQMRCAAAwMrAEQQAAAAM\nIOfbubPSw3UkH1kbOI90cl1Io1NcjSC8L0p9RfOTkw6shFXnYWaei9+J9yj3VX1+7MUZ4oYUsb/w\n7J/3BUnNNdMT/gXL0S6inMVwQ0Tf9ESgHgJQrkOnxv0zY/q3mrr29aNWAJLaHS0A8Tjd24eUMk0S\ndMyrHXmc++cPCl/3OQ4gojoXkD8nEIEAAABcCQhBAAAAQGd+6As/4z7z77hyirbww3j6yJXnQ6M2\nhdX15JIXls3IBVxDOa+F9JnUuOcWl0rucs3VMDMlr+OZX7tZYpFSZqRIpEUoCZKSW8Ed70luejk7\nwI0lCUSqKDCZ+ycVk9R+bv0cB48WV0rIMsZG3EzHBaDcWFzd0no5ApBfVhVmxHaer0ruAtL7fD/2\nywUiDn8ciGZyu/45TQByzyECAQAAWB0IQQAAAMBJpBaI83wE1xFLMB/5XNV9FIwqY+8iosh1voCQ\n5Ihfcf3sCtfdJ+VqSGFo7mu8smgUTSmuvFYNnZtyLkccshSmN3Sx98Sfz1HuoW9++a8p7pS5BKDc\ntrV2Y/V7CEBh2rFwjpOGPOn5zAIQKx/Ez0WhXTvxPYCI5NfuUQcQb1cThyACAQAAuCoQggAAAICO\nODdQC+SGSsWS6wglPeZDPnINruw+UkeWKSQRlYlJ0fKTkXfd80azwpiPvuHONMacazfL6zMuFlix\nnCQSDRFglGPS34u8LyC0Jya6tRKJqgWgAoGmRPxJxeSOaS6vWP2UGBWLK1Y3lQZvZQHoWUeey5L9\nfyQhyaWRk8Qi/7ffrnZN93HpApMmAPnn/P2GIAIBAAC4IhCCAAAAgAuTWgbPc1dcWTxKH7mzeERU\nLyARzbNInUOJmKSVD0Y7wZ5HeVevrtTTfXP2CEOaqe8ZnD36FcSi6IJ2ZK+wkSKM6CwQ+ueLxHxf\nohEzraWYSwlE3/zyX5vS/eOO58akCTK5Al9uXIcEIKvUi9VJtFsqAFnlsYtPFmIMGbKiAESUt/9P\nqp1N2LF+eU3YCY+F/et9bHFnnHuweNxziEAAAACuBIQgAAAAAOwoFY+uLpRAPKonV0Q6e6G6FcF9\nYC3Z1+LsNUa4x3o/99SNdoY5KhWRZog5Rep1ONvrz/K9why+0OGt5o5KPZcjFvmMdg+lBKLa/X9S\noodfv0Q0yXH/JPs8Mf2bHM8YAcjtQyTFlev82QsxZhMy+d49rqw8J1KsRmznSAo41/a+jByn1rYc\n674//7m1RH/6VyACAQAAuBYmmusZAAAAANX84Bf+UPSP7GyLbyO5suuoljvveYTXgnZSP3vFGfu4\n5Kje8H1oVmH216eLzv3BNcyJZ1m5UUgxfLDno2L6xpf/enDsqPvHlS12/yTO5fRZmv4tV8xqKQAl\n3VOJOdYEoJLy73paHUVIe41HS8MntScJSFJZv13Ly0XSxfnPwz2ZhDLKeV8c4i4gdwwiEAAAgKsC\nRxAAAABwEjUpt2ZfkMvluOsoPLr6zMh3Q3xeiK7hPrry/kUpoiOPfGErNWPS/iuzc/U0hMmF4dfv\n2QSj2HWR5t1unoAxBNFZK7oMjPEWvV+vrZ6vkSMOIkv93rePCkAxwYVId9nUpKTj7Za6f7JEHKV+\n7f4/RwQgLZ5hAhCrs8Vj5VRysbak/i2F8e76FPr24S6gEgGIn+MikIvD2vjrFAAAAFiZ2T5nAAAA\nAAAAAAAAAAAAAAAAgEYgNRwAAADQgVRauFGs8C35XlzBKdOLHIeVXu5aXPk1EnM7XG3UJddx9rHn\nxjfzOPzrwR1FM73mAheOkFZuVLQ8DZdRHpfi0sLFXDM908CdsQ9Qlpuntq6QBs61GesvxxE1ixMo\n1c67/7x9gLRYc/YCklLBSX1xF4+WDs4fq+94cscfRPRnkBYOAADARUFqOAAAAODCIP1c2ZG7iEc5\naeikI1cUkI6kI/OZ8XUT+8JXzqhjI5ot7VzJdQzv67muXqtvEZw5ptj10M6dcRWy0sr597q13e59\naQGcKNxPpWSfoa9/+a/rokWnNHDu+KE0cErbR1K5be1W1LWvH60EIBeHvgdPfA+lcgEoFG2241od\nJQ3c8xWcFmYcokDD0sxpc8HvI3lvIj2OVDo4/xhEIAAAAHcAQhAAAADQmFncQLWULozPtYR6DIhH\ncWoFJKL5Fttb4143VxplyTvByqOW3vNiY5/lXq79Q+MWXWcYg88MApG8KG/5gV1Z5yLKEWZaxCTt\nX2IpTyBqIQDVuH+0tnLrH3X/aP132wdIaFuKI9cBNIMA9D6ct08PF3Z2fQqCTPC7cD8gXubBjvP2\nfQHIlYcIBAAA4OpACAIAAAAa81A/LodHrvCJ886uI6JW4lF49Doz5Ai/RXy9Mea/HlZ/DfDF8VpR\nwtAc7qKS+Mve88670rmL/dLzmYQiab7drNrd39sxEYeLzyxCdz9bS2T6R7UtbLPju5RwC6Z/S4sf\nc6V/c+1K48ipJx5P9DtWAEqX5ynYtuOZYtpDdZjt6+UKQH7fUjwQgQAAANwNCEEAAABAQ37gCz+9\n+3yakgRK3SVX+ZQK8Sh9VHbV1ByZg/136El49uSK6eckWqWk81nxNXJ0FmYVWRxGEEDlVsZevSOi\nwIdwrJcbRkN2cemC0Uh2IilzD30Y837eMc3cuw+kf8uta18/RglAtfv/POvy8ub1XrMXgHxnTpkA\npAhJT20zy53jyqfmM9cBRBS6fGIxSGng/OPbvkAEEQgAAMB9gBAEAAAATESpcEQE8UhjxUXxFKn7\nQzqymvsoRyTTy+ULSfpRMJrYXkYpZnATxZAEUIm4YOTKjCMWsZSazOFizHsf6g//u8H/LtjXEnrf\nGN48ImnmjOcecgv4tXz9+/9Gl5RpKXEpS3SaMP1bjQCkjaW1AORuGVmAMd7Y9wIQd9GEcWj9x/f/\nyXLnKGIRp4UDiEhPA+f3+2BjeLzO/VmIQAAAAG4EhCAAAACgEdwNNIpS8QjCkc49xKPwaJ7A+D46\n8yzlCkn60dj4TEaZ82jtMlrh9RAsrGfyMZmAlCcYpWLuL2qkkEQiaRN4fn4UszmJdgvWUoq5xunl\nYoLJMwZdAEqlL0v2W5j+7Yj7J6e+5pLJEbM0J1MPAUh6rqVsk8b0dtxEYqO0AOSXNRS+1nd9J0Uo\n4V4QCor7YUVEoBwXkKvzsER/7lchAgEAALgXEIIAAACAmwHXkQ7Eozdx6eSqo36i3wVxd8HVSLkp\nVqbGhXS2++iY0Pese0qqtMg5aUN5KfXcaLR73w6cx+0eZQKR8fYgku7Jr3//3wjbYr/DvpQUbUfT\nvyX2DmotAGXVrXD/bH3y9GUZdaU6vvMrRxB5180XgFLtuXRyjwIBSBpvtG/hmOQCykk1F3MJ8T2I\nIAIBAAAAMuZIKgYAAAAAPDnLDTQrq6UjG82VFtTvsqdPjBwHUf6Z67Pq/V8iBM06wv3czyn0aenl\nPtjxOaI9d958Ic0YQ99gIlCNYyYmAB1x/9TGw/uuEYDs60eVAFSR/k2Kya8jueRGCkBx4UroI1I2\nZ04f1mSNmfelupv88gkXkN8ORCAAAAB3B44gAAAAoAHWRL6OSPMssI0i7iaRy9zFdURU/83+Ge+j\nnGutlbuKiJTrIMo7kzPe+VP0XZGSL9D5opFW64zrl37v0c+fkS7NJ7Y3kc/oeZXcQ/6xnvO2XzS3\nu2PFAtBR94/Sdi/3T079UrfK7lwHAUjq+2wB6JV9MDs128MqQpbYtgmuvxZfkGrOxs9rLiBfnPIF\nIFcHIhAAAIA7A0cQAAAAcJDf+sWfKv5jGiwM3Vw4quVO4lENV76PSrw2V5wFQ9e+vhpXGrO2T1Fa\nJD8HyUtklCti6by4JUeR7yY6cz792bLUdk+nb3z5/3u1G1Lj/tHaktqOuUJaC0Ct07+5OTDGRsWs\nuIumpk7k3CABSGrfiTySe6dkTsU5yXAbpQSpHBeQfx4iEAAAAPAGjiAAAADgBIJvZQe6UPhJGOJR\nSMp3kudCgXi0IiVem3JHxvyOm+cCmjyyvLjjpWYd+5XcdI/ML+RJKen8mqNGprn/NKfOe18dfrwv\nUpwpN9G4OeR/o0I3UX3bwrGIABQVh3L6Wjz9G5+DFvv/bO1G6yjHiYhOFICcCCQ5c3KEQndPBMcF\n8UfrR4pp91wRgPxz22/vuCWIQAAAAAARhCAAAADgEDVuoFpKxSMIRzK54tHHBeanZNH8jvdDSkxa\ndU7yrnqq1Kqjl2ntvhhJSjDiQtFI4SUW2SNLgrXbsXMFrcnPApQAACAASURBVPDcB/nRjcF67z0l\n6eW+/nIDbe1oKdoukv7NiT7GJEQSpb3UPZCaizrRSO+vrQD0FIFyyktiS6zv2DXi57T+iOIiUEoA\n4nFIewG5Nty5z4f9Tx0AAACYGwhBAAAAwEWB6+gY+/m5vmuo1mlBdN37gi9k13hoVp0Z690R5WOY\n8/VSeo+vcl/HhCJDRGTkReazRidfh1CQHynGSxHFXERcymodqeYciglENenfcsWfWdw/vjvFULhP\njNoeUVQEc2VGC0BcsHH3kih+OOFLcdiUCEBE8v1tX43FRJxgDJ1SwBHp+wC9+w7b81PBOTHoz/8a\n3EAAAAAAEfYIAgAAAKr5LV/8SeHj75wLoL2AcPTm7vdCLXe6Rzg5wtLqs3OXvYxWHKOUco6IiKzV\nzw3ELW77OHFopOtJwo+N9z06lq9//+ficW2R3p1LoYknKfGjtQDk3D9JkUY5lhOPFosxtsP+P4IA\n9BqfKPQkhKSnNKgLZ3K9sJwvKPHy/PlThMsTnVTBibWvuXykOKS9gNy43FggAgEAAAAhcAQBAAAA\nBwg/q4bfava5mlgA19Gb0nuBKH0/yEeuxZ2dSPGRvx0AK/NckKu7xiuJSDljnG0s2V8IZOVGiUSy\nS0eL+b2E/Vyo7jvb3JkQK/PhPW8dExeBUs6XLAEo4R4qcfDw+iXikeSK0dqV2ku5f6S6geNHcACV\nCkBvsUYXgKT6uU6i3WPFNaTFHrhqSH78LmuC/X1i7qGUCyhIESeU0VxAfjnfBeTKQQQCAAAAQiAE\nAQAAABX8li/+ZNXKZg+xYLVPuRCP3qTuB+lITgKyNWejnBqBYbV7RV/4zrnOLUqch/V+6qyTkm8l\nsSgqEln575ahcSIRJ5xbu1tklpxEvSLlkWgp5iy1E4liAlCW+JOoXyLgSH2XiEdcHIm1GxyrTP9W\n6xp615fiM2/3TEIAirW1jyHt/PH3yXmnjBPaigg4HN/9owlXW9lEfFv/wnlVQCJ9jO4wRCAAAAAg\nDYQgAAAAYHL+f/be/Pme5bzveubzvVdXy70ykmzZUiQ7GCfBdpIyAluWbUXWYiWKbS3WlVgK+KPY\n1xDIWiGEFCFAEggJxVIUBcVWUCxFEeBHtnAl/aTvaX6Y02d6up/e5szSPfN6yf58z5npnn66p898\n7qff5/004lG9eKQupp5WPAqPls2J8GifI3Jd8gu86RI9JJ9b3ke9d6nrtTASPYhF0QVs0QWkYRiC\nlFNb9yAUY2JPRbtkr+/Vsn1cfiTT+xzf/cnXSedLqQAUTccWuUap+6emvrn/aEkASvVhqq+1o+8j\nZMtvJQDNy4dtW0r3VRqvHxEHM+3GymlxpfYB8s9rLiBXJEIEAgAASIMQBAAAUMlSN9Ce1IpHpxeO\nROrFI/USvY3ExFIBSeRcKeyeSUVn6XkeuIwLd3YhvJa254DtV83d7uW+5uZwa/0wRonYdQ45q7t7\nOormUeleVHtu61HVHBB+FP57bY8W7Vrq+Q3cP0vqx5wpWjm97jIhJ1cvO4YFAtAsjp0FIL+sTReX\nmmfBtYI0eWVtxvozSycXKZsSzXIuIPseEQgAACAOQhAAAADgOhJlGVA1FWXEo7FQvkxn5OaHfqQ8\naVdvI7SGmCTS1tyo75G2bN5Of5aQSsPn8tJ4P1Pzs5V7FE09Z+YCnnUTPU7LPk6d8ZgjUImZLUD7\nqeb2Eons/izf/fQtWiZ5HdK/Vdeb6mt10o6sigyLXhzrCED285Jz3Yzln3P/aGW1uZETpJL7Jrn/\n7wlDBhEIAAAgC0IQAABABZ/50D86+/u1/yXt5dSKR2cTjkQiC64X3vPIR1/nKhORROJC0jlG53yU\nCikuw+Pffu6q/5mO9bpFwahWJDJidr03obsgjHgYvAVrYzZ3EvkxhHPdTe42jdjawlWpo8Mvs1X6\ntxrxyNx/IADF6iWuWSPGeOVzcyY2P/x27VzW2s3tAWS5peJKCEAiTio4M7/+zYzH/tj/iQgEAACQ\nAyEIAACgitwCoPan76C8ih85K7XCkcg5xSMRZTF2iXg0FsyX6ZiYkHSWfq7lLLL0OC5m9mqNBHXb\nU3rXYvd3kgvaumfxeMfPXJEjcgdu6qq4N5OGuRgjsrVrx0TfTcvn64zYdz6dl1xTwkmtgPNs/Zww\n4pbT626T/k2rZ+O0qdTCOv0IQO5xvd1wjNw0cto1boVlNUHHeGVcAseSU8co5RCBAAAAljFEbfkA\nAAAw4zMf+kd2+qWZEzv4ezfFWcWjpVxFQIr34NqfoDPc2xRD5z3UYjfe+d562Gq8D9fQ/e/fPfcj\nEpFAmHpxBIDSSL7jpYTziQlAKcFEpMw1E6t/lPunJh63nl4n11ZarEnG2pgAJKLvL7V2CrixnXxc\nM5eQ8/oWK+McQwQCAACoA0cQAABAczznOsq9Ozs4j+aslr5uLFhW7gDii15lnyBLjaCULt8Gz7qO\nWrm/MUxlD1sTjsoWyo33fqJFoSh2R46OM/gCpJN2bg8HUbAAHvnd5I5TaQzR/V0ibds62etG6sbq\n7yEALenLUgEotlePrVsq5Fgxabj76wKhTnHXGImnYnvEVygAPa6liYRPCEAic8HGLZNyAPmxa/sA\n+eVcAcjWQQQCAACoA0cQAABAAfu5gfYC19GznFk8epZBBhkKFhnPSGtCw5qct2dxer6fsdjtovDR\n2OhaSTnnM9xX5u14WQfRnuPnJpX7rucGSgkntQJOcN1I/eheMpIWVfxr+9fcwv3ziEutl6qTTv+W\nErr0NGlpMUlrwxUj3f4/hKEKAahk/x+XmOesZB+gnANIE89qXUC2DiIQAABAPTiCAAAACrDf3D3P\n4v/ariP9yJnZwnmkH+kPI2a+gnWnlQXebdH2B9HpbTTO7i7SKe11e71LuaXcaDWX0R6k9iTyOWJ0\n3S9MGu+9OGnmtkwxN4kAfiwRN47ov3tK3T819fdw/9TEk6uXE6pyAlBma6qw/BMCkHvsUX7QhRa3\n3OxaFQLQTdRf2UXijy2XcgCJxPcBsu1rZX1nkK2DCAQAALAMHEEAAAAZfuFD//BTvyzPIx7VgnC0\nFmeeQ72loNuTXI97HpOeY9co6U0vfQ7jNOrRI7FJttz3x8XiODjuKeZGoWM9kei7nzabuH+W1N9D\nANrP/SOS3P8nUn+JAJSuEzmXGWddcNH3//FTz6XaLkoBFymnCUJKVkb1um5/NReQEZF/CREIAABg\nMTiCAAAANqbWOXKeRX9cR2uRG7u2lmjrKNnDKFpOEn0/gZhUqkD31auRWndR6/eurDfpUq30Ub83\n+lPo5aCY/RiPdBHNFr6NF8kKqeW++6lQBEm5ZcZmN0j/tlD8sdfcwv1j6ywRgGr3/1l6vTUFoOQY\nZvb/ie3DEyufKlviTEo5gEQ8ASgS32N/IDOW/+OIQAAAAE+BEAQAAJDgWTfQEmqFIxHEo/g7/cjZ\nKE1dqB/pm6igUCEmjcWnCr3sb2T7s55g1IoUEXIG4SjfA72EPXqU6OLHMT+mz0E3Vntu7+h9x9AR\nexG5AkeQWu7+PucaUh0WWrlO3T/R+junf7P16wSghJuoEQEo17bmFrJipe/WkYiryKdKBDLh/Zwd\nQwQCAABYDYQgAACAE1ArHp1HOBJBPJoo6XuZkBge7XNEyikViXomt5g7LpWf4773KBzlF9vjz7pB\nDtpHJ3L8ln3STPLQHlFr80EThuyxraOa7T/kC0J3F9HLMMh3PmVjrRNwZue9f0vq+g6N3LXDuktd\nPOu7f8Z6ulgyDHGxq1UByI6vtqeP1r4m6vjltFRt7mVu3iRKtWuUY4+4vbi0Om4qOBsPIhAAAMA6\nIAQBAABEOMINtBe1wpEI4tFZxSOR2OJUfk6InNOFZAa/7wtFoki1FkQHDeP8nB8r52jXylJKhaMj\n713OWRFPnxjGbReH90RP3zYdtf8e5SZy4zvEPeSt4N+MiQoOpe4f99+S+mdL/6bt/2P7OAx6irOU\nkJPcT2gnAShWJrX/T4nIpcWpOqSU2FIOoFIBaHbcTPUQgQAAANYDIQgAACDCbZi+PxksAnl/9La6\nsLsma4tH/Y3YFuJR/GgvlIxDuYikH215hJICQnT7Ir3Oi3lZIaJjKRNU+v0k9CAY+cRFopirwByy\nv44l7SbaLzYX1ynkp5zbiu98WhMxSP821ku35zsbtT4GwslOAlBqvEsEoFz7OeFJa88XZFJlZ+8z\nY+q7kFzByCjHXReQCCIQAADA2iAEAQAAKPzBt/+h2Z+zwSJaoAtp33RGPEpJArXCkX6+dfJi2TIB\nqb+R0Cgdj1IhqffPlO9EKtEcWutzmUyil2qtL8/QQ6pBUyRrzUscFbtRl6qnV9ZFZN9vFWWYnm+f\nuUz6t3ysavq3TL1aQamkbkoASotNWnlFuEvE7AsvsfKxGDWHlBZfiZMqtw9QcNwRgW4FwiQAAADU\ngxAEAACwEbXiEcJRXgK4hngkku/3kpHQj/RMaqGox57mnhlFdRQGGWQocBIcje4EiXPWNHQtPOvj\nMRrn531uKSW27IG6gD1z6bgL+NbPse+YxvYfKo3jO58eNkn/lnKjaNcN6/aV/i1abwcByH4O9hCA\ntLF7VgCKXc8XclLX9++D+3rmDlJEoD/xf+EGAgAAWJvBz0UMAABwdXw3UMsgHi3jnOLRM5w/hZ0l\n3osz99p7FlQ84c7yDOlVNNLo4Z5o8tCRcfsp8F488eCIyOx4+ALRu5/Kp4iMLeiLHCcA1cTjt7eG\nAFTSx/Q169K/xQQOK/xoaRddcUi7XqkAZMdbbSPSCdUtpJQvFopcIUf0MdCu6Z5zxSUjiEAAAABb\ngyMIAADA4Q+8/Q8+/l7tYbHt6ZR1FxWOcB755PsfX15LjUN7oxJfB6zrtUXrYYufo9mzoCI8t17P\nexiV7u1jafEeWnpJOxc7M7FftH40oYNoKuOmmdvW2WTU1/Hy839n52Lp3xaKP/aaJXX3cv9M9fL7\n/9Rct0YASt4Dr3xKKArrxe9fUDZ23UgntDqDlLuAcm2U7gMUnHNcQPbcTUT+JCIQAADAZiAEAQAA\nOOQWZnLLVq0swqVILQiz11GcdcSj8Gj/oxcfh8H5eVaWCEW9chumJb/az/3RqenqZKCyGi0++/ba\ns2YJYWzhEX+vn3GZftvYUyKR67lw49hKJPrOp14Fx2KiiUjEQXL/sUQAGuu2lf5trLf+/j+xlHKx\n8ilpsyb129jOIDKYYgFIRHf0xMpr8c6cOIkYY0KRJnL511niArLnXhuRP/V/IwIBAABsCUIQAADA\nnd//9j+QXfnLfWu3VjxqYXEux9Ouo7FQ+vxJ0WdLuYDU+ziZYDmqdNeiM/Tbvk6T72mbOz3VOmyi\n+ZCSVY7raVmo/YhFpS4iW+6ouPV9oubPkD0jm49buPNP+Gqtduf/zs7FxAPJCyrRayauOytTEY/f\nXq0AlBJrkkJV5pra/j+LBKBEHLHjN3esCtPAqSndjMgwlAlAY7tlMdpyj3tWEE9qHyC/bc0FJIII\nBAAAsBcIQQAAABuTWoC7hOtIhJR1lcxlhDP5asL7XiKWTdTIRn2MWH7dtv4Z0SJGTP0tMW33dQ2x\nqIX+ac/jlpxFcxnIBAvR8/1+tnMQhc4JK1XMF+DdeGoi+c6nXlULQOb+IzcXU86UkrpLBaBa8Weq\nt336t7xgFG+nRgBKiWwxQScWw8xxY9JlU7GGc1kRlQpEoMA1FGk7cAGZ6fUNEQgAAGA3BlPytSEA\nAICTU+IGapneXUdLwHU0cu69i7YiJh31P1rlPTiTwDimnuvx/mkRj/JvP71pLVIbjT+ORvaf71Yk\nyu079K4jAvmQ/i1Tr1MBqCaGGseSuU+y2P5G7vtcCrhYG0kByLmGey3fBYQIBAAAsD84ggAAAE4A\nriO5bMq6nMem3FvTZgqybUitLPbd63JFe/Is9N3jO0P8ORgk9GpINIovLJtomXaiHwkTpoWp5vzj\n28bjvtbSue03921LWso7K1S55R7nEgJCyWe8VpiYlVHbbT/92+gFM8lrpuKIi2bbCkBWkCkV0B4C\njlLOuIUSMfop4GJt1aSB80U73wXkt4sIBAAAsD84ggAA4PL8/Nt/v/rLsK2ltv15kZejQ2iCM4pH\nz3JtEWlJIrozj0Z/n4CqiE1fn/EXL1b3cdVaL1ob17l3aL/4vvOp6buZPbh/rBBhXy9z/4zCTRjr\nMgGots6jPYmPW17A0urUCUA1cafEqtj1tWuWCGR+W6UOIP96mgvIvkcEAgAA2B8cQQAAcHlKv0Uu\ncg4nTSk3uV2qvzGWOI/GYucVkHIuJP3ISKmM0u7oxJ4XtXV6lFBCUm7EibZ2cSqLeWQYhmT5IeOU\n2BvNeTLhx+p6UvYn5iQ6wkWkxTN5SwbHR7TNHkQxwaXkO5t7CkC17pXwGuukf4u5fkriSAkwqVjS\ndfYXgER0gcb1vInzWo0l5wCKxBNtP+MCMiJyu4n86f8HEQgAAOAIcAQBAMCl+bm3v7v5L8Kr7d+D\neLQcdWxOJCA9wzlkE58lAth5RsG9o732KjcrjRh5MW27K/0etPxJayE2u9A+F4iWzeF3f9ebwbGS\n9G9xASQt/ti6NeJPqr2pbrq99dK/hU6imjhaFICq9v+R+/zTnD3KNXyhJtaeLwClHEDqecUF5JYz\n99fGIAIBAAAcCY4gAACAjandv0ekb/Eo9237qzutUqhjt2Tvo7FgvkxXaHt9hPTVy3InVWmJ8T73\nMQqpfXB8xl61168Sd5EZtPs8HmtBJIrNQv+4m3buGfHjGXy3UGp/ou1imGKJLdQPd+EjFY0rApn7\njyUC0Jbun2QsWfdPKNqU9HPN9G9THPF6KaEner0NBSCRtDOnRAAqSQGnzYmcA0hkLgLNUsI5ZbVU\ncIhAAAAAx4MQBAAAl2UPN9BSasWj3oWUtcWj1vu7NksFpLHYvGBrqa4spZJJaibVSEdtjkIefQl/\npLxP7fV+XGTMP7JbFIySz/PBRMsMMhzyeYxF66edG90wx+yrM7YYF9gsrli0dWzuwvoUx+QZ0tpP\nOVG0a4d1c460lAiylQC0T/q3VCwp4cvWKxWAjBlkGMymApAVDbU6mqtHi9NeOycAiYRCU6ydmUhk\nwvf+9dwyiEAAAADtgRAEAABwAq4opKzttCo5f0aWCIu9UiMdxWZX+ynqUp+LElrvX5q4rDJnePx7\nbG9zzzHNTTSY+Sw8bk+d6ad/1H11pJNo7jrbf5y09gcZ5N1Pvhld4J/KR443kv7NihdT3fr0b7Hr\nbpX+TTShRMJ9dcZ2JlfXbUMB6NGGUj4mAAbXHSLXV8fWe68KcPE4cmng3Oua+/E/gwgEAADQBAhB\nAABwSX727XedP1k9R0RQ+px/v17NdSSyvmBWcr43zKAlPBopSUEXLXcSwrFJCao9Er//cdy9fo7v\ndUn0oVyhn29R+Et9RmPTcy9nkRZVa06isdX4LNneOZT+hEUX/xtJ/zYXakwg2sQEl/x1N0r/ptSN\ny5eh0OaLIENMdInEUFLWbyMV3+wayk2PCXa5fYD8dlL7ALnxu3HYY7buayPyZxGBAAAAmgEhCAAA\nwPsTO/zbWPsTPLXJ+Tn/5r2qiHLVfmuUpKCLlpPzCEm5J0b+zITf09b7rpOWVfI9Oq7P2YXwjFAk\n0pZYpDmIHihBHpd6Llzqdo9YF9EkyO3HUkdpKe9+8n2RdvVjS9O/ren+GetoKd/mbq8907892lTK\nD0OZADQ7HhHagms4oocVWZYKQPbYIOUCkEhExFGOPVK2uWU8IUtrc3Y+IgC5cfjHjBnbRgQCAABo\ni8GUJCUGAAA4EXM30F5c03W0hN5T1j3DWQWkNcmJSb2PUXr+n5O6e9beKLgRab9cXhqM2eLuoSMS\nTzt35OdqePycJCQ/3dxR0dWOiy8CxcSfLdw/sfJTvVg7eaGmVlgaBYWMwBW5qNYXc/+RFHoix2v2\n/XnUiVwvVi8mAOX6qF27SKxSrlG7B5B/XddRpLmA7DFEIAAAgHbBEQQAAJfiGBFI5FnXUe7dmVh7\n75+ehIEl7iORawlIOVfSEQ6HNUnP/zpacqqkqElF12KPctH7qdFcYiLRXuKGP/bRtHPuoUPSzc1j\nCsfUTTW33yzx9x0aE6XlW39GAIqLBFulf9PPp4SXxddNXLBWTLHno9daSQBakrIutj/UMwJQTOwL\n9vgpiCcmAPlljXcMEQgAAKBtEIIAAACaJSUe1QpH+pGzsIZ41OICcylbCUilZVriNvjLViPRfkSG\nrrd+a9TsZxSjtVEwwbKkziAvG0eyDimRyM7B/NN+e9SUc/cgHq4hxU201+doLshMs2TPFHM2htjz\n9t1PvhV18GTFGlnX/TPW1dopEKIyF95j/5+cCykllqXEltL2U+VTdWICkK1TUjaVAs6/Vio1nibm\n+eVv3jl/brkuIBGRHxojf+7//cda+7UBAAAAd0gNBwAAl+Hvfvvbj196Z1jkXYdruo40hm78E23g\njtUVxy0QEjt3IsVoOa3ZOvT3uR+cnyN3IabBfjw+F/fMbsenmBsxMheJto7q3U++NXtf6v5x/52d\nW9n9s1X6ty32/0m5fOLtbC8A3SS9X5DmZtLKl6Z/i8WYSwGnlUmllvPFP80FZETkNSIQAABA8+AI\nAgCAy+B+o7nIIWES505DretIRGYCQPxcbxjRUyJdKe1aDSkX0hXGpCSd2RnGIeVYidGXeBRJhfag\nPaHIOD+1M/6RI+/HzEk0+/U6dxHtsRdRsBg+OzI8otryjo+L6pm9caRc/EmVn9eN1Wsv/Zv7b0kc\nRwpAftkSUSdW/lkBKNfWo15CBPKvq6WBmzmDzCiA3RCBAAAAugBHEAAAXILf987vbPILL1guMolz\nl+WaKesQkEJK+3y1sUmlretxLGoj7rGPljH2vuIfI3ZTuE3Hj2Yww2y7n6PnxvDwbCyP5N1PvpVN\n/7bE/RMrP6+rtdVJ+reCOtFrJcS2LQQgrU5OlJldK+PQcev74pEMuqOnpo2UAORez3UBiSACAQAA\n9AaOIAAAgCcIvkmufOPZB9dR+vxI/+LRVvv29DxHSlw0uXI1/e9lrKJzYRhE+9JW6/3a8mtmrfXc\nZJaEdaHoWOlljDgWs6PCyP5zzXcQuXG+mJfp/bBPOsbJqTTfd8jcz47n0nHcUqKE9+/sXGPp3565\nblgn8T4XR+J41DVVKf7E6qTEorsmUyQARQWcijYfYo2Z/RPWzbQR2wfIvaZ7HVcEem2M/KuIQAAA\nAN2AIwgAAE7PVm6gvUi5jtTzl6V/8egZziwgPcvV938aZDjNHkZumrPUg72H3g7yIvFetNGDuSyk\nu4mOinSWUm7HFHOpeHxx6Hc+8X61bFxQ2N/9IwsFoNr0b0tcNG7daD05XgCKtVFaPrXvUHAs4RbK\nlit0AUWPmykmRCAAAID+wBEEAADQOCnXkXperpqy7prOI8tWDqTSMi1j93+q7Ufv/bYYMfGpnFld\nbm0MSvcsSsVtZuWOw6jLvCO+ADMd29mho7wPnyWDV2KfeePGYQZ9ryf7uR/MsOgZsDgeMfLuJz7g\nnZ//Ozu3UABa7NKJ1E1de4n759HWwjjSba23/0+szhIByNYrLb/qHkCKO0i7jzGhx60bcwHdzDjT\nEYEAAAD6AyEIAABOze9555uPP3FTC0CtLXY+CynrSlkiHtlv8p+DknRtS1K1tThnSlPT1ZT3+9li\nv0USfcmE26uT6BnBqAWhSBc19CNHP4/0uTUddV1ERvYZU1+UeaSccwLYa26nxYd1078lXTr3H8uE\nnPRYxdK/rS0AjX1oTwCy00oVTmMxecdvyjVK9wASyTuAfNnZj00Th1wBaDzOfkAAAAA9Q2o4AAA4\nLa4ItIQrCUdLuHbKOq13Z+5vPVdNx9aTMLYVL+YcQqmWBs0/3zKTQNSCtOVGMPc7GZmn/DuChyi0\n0t5D737iAwkxYf/0b7Xun6LrVrp/bJ0aJ83suqm9lg4UgKLt+uJNRYyxe1YiAOUcQLF9gPxrIQIB\nAACcDxxBAAAAEVJugCVpts62EHztlHVl39cfOU/6uRpsOjaN0nvd15wYifW5xo3Ui8soxm2Yvnte\nlHqwUdfRuICau28x4e94tNRzLaSc08bUdXDN49k2ndsjpsEEr5eKQ9/+xAfUpH9ru39K0rTVXrv0\nulo8aRdP5nziXOn+P5qY4pYdBr3eo51IG88KQLVtluwBFBvT1B5A/rV9MchPAycyikDmngoOEQgA\nAKB/EIIAAOCUPOsGWkqteHQl4UgkLR4ViwbdiUcm8U4/MnJeAalUFFmSku7Zsi1Qm8JOpN0+FvWl\nMPTWBCPj/AzxY3WFjuP6oUvYNiGVG+PLrIQ9ugfhuIZp5swO0bjikAxjFMP44n4oIlC4r2MihsRn\nzlQ3Vu/c6d/GtkIxyoo5OceLX0d9LaLM+nnZUgEolr7NbzMXb8keQCL1DiC/TvLc/bXrAjLCfkAA\nAABnASEIAADgQHAd5bmmeCSynYAUP9oTNWLJY8P4Tvv97D5OIiIvDe9rtUT4muHd1hYEo3Sf1hE4\n10N7uqTdRHvGGTgXZrLQJBu56eXWForMox0T/A4aZJDBDGLEyLc/8cHxeCPp3+wxTUApum6FkOHW\nWTL7RxFLF4DU16lrRU7YOoOEe+bYejUCkIkUKB23m1H2BRJ9v6GcACQy75M2J4LPkplfy40REQgA\nAOB8IAQBAMDpOMoNtBdruo5KzvfIWuJRn2OTE5DiR88sIvmp6mrvbZ9zYeJ2XyLsud8zh8YSbKav\ng4WidC/CJ5S/V5G9xt69cCPTXoV7Em0boT9Sfnq5KYpt4nDFITs3W0n/ltqfpvS6WjxpEWe5AOSP\nW85JtFQAisWyWADKtB+L1b2GFpdxymluo/B+zq8TiEZ+TIq4dnu8N4+4EYEAAADOBUIQAACcEO3P\n7uv+LZv7tj0p60ZU8ahbMWgpz4hIIu7nrPVxq3WhRwpXcwAAIABJREFUlJZv2XkjUt/vWlq474sE\nIzfsAz/3scVo/b5pMe6zp44W6dxFNCZwcwWjYcfPxnzh20of088txunbP/520P4yASjv/tFEl5R4\nYusdnf7NFTCPEIDc8jaWowSgVHuzcTV6GyKhqykQeVLnnNd+KjgRRCAAAIAzMpjcfzECAAB0xM+8\n89sFv9hKNmLn799ariQepVLPqecvyHwMrjMeZ967qITWhbBSBjPEp23jArH+G629eG1MkzhwXIzD\nkxFYEWhT90+sblYAOj79mxV9XgYT3f8ndp01Y1+Stk7du6dWeIrU0cr6bh6/vWcdQO71NBeQEZE/\njwgEAABwSnAEAQDAaSgTgURC10OuWvj3MOJRyJX2O0qlnlPPP4pdR0AywVJUCu0zVlauNWr3LkrR\n475GN3XnDZ2WRaOkqyhyS4wYeTHH90lfiJ4fdWeWeRzbF98v5C6jz9PMbR+ZlvbuxRFQchE8IwCl\nXDox90/serN6DaR/810/t0IH0Krun0ydqCvoSQEomtZNqa/tFaS1l3MA+ddP7SvkuoBsvZsR+df+\nNiIQAADAWUEIAgAAyBL+2V4rHiEc6TwrHvW2SI6AFEP7jJWVm8hJR/2N0Rpp3FqeG6WiUYuCUeze\nPPaKUc63IBJZjBphuBS93/zxv6AxzY0pKj+93Poi0WwR/SGnTIvmmjj0rR9/e4HgspX7Jy0sadfQ\nHCYlsfj1523E+7db+rdMHe21badUABJRxBm3vlMvJzYZ51hQTql/y1x7dj4jANnyiEAAAADnhtRw\nAABwCsrdQK2C62gJUzofxiXG+UWkEp5N/NQvLYooW9BzP61ApLl2WsOP6egIh7ugctTn+9s//o56\nfHH6t0bcP6lY5u167zsSgLR2SgQgO99K3DmxNlUnTyQ4t52cA8jcf2iikjteiEAAAADXBEcQAABA\nEzzvOhqP+MfO/Xe9HaOzpZ5bk6UupLFoWkRSyzTJNFPy1Cala7v/NanaXHoTVkr62WqfbkMY+yCD\nPL6w50yxwRw739K/l/Z/Gsw/2VNsRwlEe6d/q3X/TPXqY5mV8a+XmJdr7v+TqlcrANnUbVp/c+Pm\niy817eb2ABIJRSatXtIhFLmeuxeQLXcTI3/hb//jbf8iAwAAgFXAEQQAAN3z0+/8pvrLDBFAg5R1\nOXJz47pzJ05LKa+OYJwT55oXtfP8DJ+LHvZkcuNzRRn/M2jEHN6XeftGObYvY1o583j3LNYNtNj9\nE6ub+fM8l1ZOu0ZWdMm0qwsp9S6kXCxLXENRF1WijZr2nxWeHg6ignvtt6UJczUCUM4FZBCBAAAA\nLgWOIAAAOC3P7j9Tc64fjPduDdeRXq5XcmOyZO6UnO8Z39FwHidRGSa6VCiyzEt0/NissT+RRsv3\n3Yi+c45IOyJRLD7tMzj7wt+wv5tIi9Ues6O5nixTEk+YzGt+T8uj+PaPv7PI/SOSEC6yQgzp3/w6\nRwhAInl3jlvOTyOniTVaqjlVOPLji4hAc9fP9ElEBAIAALg2CEEAANA1MTfQUmrFo6sJR+ORNcSj\nM4zNHASkiVw6OrWMh9rvLgWl1DNFo/0eaawtHLU2CiUiUe3viC0xYsLP3eCdl+OcRLHRtIviNgb7\nfosIbBz+8RJxKFzMz7t/fGeHdh2tXm36N3/RvzQW7RqzOBakf3vUray3pgCkCSq1bRsjMgx5cUZr\ncxJklHLKNdS9iiLXduvYcvOyoQtofI8IBAAAcEVIDQcAAN2ytgi0F+cXj5ZwTfHoGc4oIK3BYNpw\nbhyD3RGl//6X9KGHfsZibDX2QYaZTefoPYnGMCbv0P7jZtueovj2xz8s4kS0xHHzbPq3Re6fTLt6\nnOunf1tSLxV7TflawSrpItKOFd5vvy1NLMoKTF6B26zcXACydY0YuRmRv/j/IQIBAABcERxBAAAA\nO4PrSGMr55Fe7gwsdSCJnFtEMoNJuxoiw9JznyfCxT9LiazSEms5jI6+ryX9mKdLayBexRCjOYj2\ndA9pr+dhbhXH5K9xnTYpl07KcUP6t7p6hwlAte0uFIBEClLAaQ4h58As7ZzIIyWkKy6N7SICAQAA\nXB0cQQAA0CW/+52vzX6B9fat6625hni0hGuLR0t4kZd8oYtg50oLLom1Ge4Juc7GGURPLfVcK3E/\nHET3cI7+bAyPn9uIVN/6+N8RPbdEhHjUu2j6Ny0OW6fKiRNpJyacWXfXMwKQuV8ouDfKvdL2APL7\nmHMA+df244+5gMZjiEAAAACAIwgAAE5C7FvXS/ZlaWWB7RlqXUci5x+TEZxHtdzuy1elc+A8cyXk\nMVeGx4EovY2DyfoK5gydCIS5590zzrm9SO1P5HJEvL6DyAzzOF1haB/30PTT3l2755CjVy0iJgIt\nSf/WivtnrLM8/Vvsmrl6qTpbCkBRUUap4wpG0RjN/LiPvweQiZRNtqGU19LAuddxBSAjIq+NyL+B\nCAQAAHB5EIIAAKA7fDfQEhBKQkhZF2OJeCRyNgGpNFXXGgvrrc+fQBBKlUnQ835GJlhKjdOiaPRM\n6rkW7lnJlx9cN5+bfm5PfGHIxmJTzG2ZXs5dfJ+nl3teHEo5bvLOmTr3z1SvPpZZmaDO+unfUnVj\n9ZJjmWijdOz9dv3XKVHGF2NK29SejrkUcFo8JQ4g/zq4gAAAACAGqeEAAKAr1hCB9uI6Qkk5jEkJ\npQKSXvYKnCldXdG8Tzz1zvK5aVEsiuGOuS/ItD43tfly9Bzyx3MPkWje/vQRe4mIQ9YNVONAmZ3P\nuH+0a2QdN0XtanX2S/+m1XOdNjX78Nh2lgpAwbmMKydVtqbNIL2b0kYqBZxI3AHkXs/dC8heExEI\nAAAAXHAEAQAAbASuoxDGpISlDiQRf/myp8X1GlpNk7WEonub6MrRe7KsxXwctDFpxz2Vumc3xQsw\neLEf5c5x244ds0LWnjH6Md2Gm3tSZNh2ns/cFJ5zSETkdz7+EdK/FdZzRR6/no07lppNS8Pm1821\nb68Vc9oM2p4+sTZj1y8U7LSYtadczAFkyaWBc+NEBAIAAIAUCEEAANANPbmBlkJ6tpC1xaOS8/2S\nWnay9N/3EvHkWbGolzkyWzQvxDou2iLrl1CW6F3aEYp8Svf4sRzZD03IsliHzp7x2dRy6t5Dd+Vg\ni3h8AUMS77W6tenfsoLL/UeNADTW2Sf9my2vijxe3LnXrigUFagqBaBU3Nr7knuutncPPteOmibO\njdOrY4xR58htVmdMBXcT9gMCAAAAHYQgAADoBm1PinAB6Fp/++Kw0cktul5lbMr2cdH7dYV0dKWL\n8z3e+xSueFTSt3ZcR+ll8Pz+VK30Y6T0ObW3+KLF4L53j/lx7RXnQxganHFy5ulacXzrxz4ytZkV\ngDZw/2TaVV0yIrulfwsEi1kM8Taibd9dO5pQUhpDrn0thrUcR+7FY9dTxSOH2+yc7pX0BSB7DBEI\nAAAAUrBHEAAAdMFPvfPVhb+wShap+Js5x9kEkjW5rvvIsmRunHdMWtyD5VmK49/InbEHLQpFKVqf\nZ0ekmFPjMC+LY7AiEOnfwvI5MSfVjnb93H/gtSAAiYRuJ5GIu6egXMoBFNsHyL2Onde2z4hAAAAA\nkANHEAAANM9yEUjE/3M87wAoWVy73t/ZS51HLS1MbkWN++icY1I/N0IGOct+RjUpwFxanhfFfUpt\n8jEr1l5fTWJ5e5ybsY614dTRzh/5vImlmHPjsq83jcNxvwXOoczeQ2lBIS26aPWzgsv9R40AtJX7\nR6ubcwsl+1VRpyz1nnKsUJBZ0vZSASiXAk67dkwEirmA7DUQgQAAACAHQhAAAMCM8K/2WvEI19HI\n0v17zoxNq4SLyMdIWerH+dleeHZPo54ERH8vF71QvkhL/U2lWNS0r8H5uSe1adxix7ZgvsNTPI3f\nHvG4c9S+tnsOWWHomz/6kbDePcLV3T+RevN2/XaWuX9i8diUbFrdWPw54WptAUj7FG4lAMX6fDP6\nZz7nNMrNi7EfFS6g+/Vv93p/6b1/op0HJgAAADQLqeEAAKBpnnMDtQquIw3Sz5WBiJSidA6dY4zO\nPBdy+xK13zcbn5UP2nS8WWeOfW3HdQ+3Ti4u7fUe/M7HPjZ7Py7Yp2OoFYBiIop9HxUbVk7/liqf\nin3p/j/quQWupaigE7uONtZ38Svn0InWj8Xri0oVDqCUoKS5gBCBAAAAoAYcQQAAALuD60hjafq5\nGO0vFC+jJhWdz5mFg5GSORRub98rS9PQxWjp/qecRYMMwbfn7yfGfzIi0j743+7XXUV62rn94i91\n6ojsOz/8uLT2t44nl/5tTfdPSmQY66yX/m1purhF6d8S7aXGL5Zlci0BSHv9jABUkgLOH1vfBeQ7\niHwByDjHbV1EIAAAAKgBRxAAADTLp9/5ihGJL/a0tGjZJucXj5ZwRfFoDa45bvl+ter0WIK9j73f\nz+RcbUIkyrGv4LGEvUWZFGu6h771sY/JJunfKgWMsc766d9qyrv1qgWgVJ0Nx+8hImUEIJdnUs6V\ntJPbA8i9rt9uzAV0E5G/jAgEAAAAlSAEAQBAk1gRaAnXXLBeA1LWxTi/k+Y5etrDZm3yQtD5xqXn\n+63F7bpPXkwfwt4078zs6FFoKeaOSi+3VBj65sd+NHlec3i4/wbl7z9KHCXzOvulf4vFk3LyxOrY\ntmJOnth1agWgVLxqSr3Cts1dRVpLANL6FksDFxOAZg4gwQUEAAAAz0FqOAAAOB1rphjrdbFzGdq3\nVHN63DXEo6Xp2K4iIOVSSomU97W3MYml/Cpn6M5VVHq/W7yXubhvQ3g/BxlUJ9GR++jk553ZdV7l\nUszZ9y/ysvm45dLK1bS9Zfq3sE4D6d8SdRfVqRSAasQYre1A2PHKWqHIL2fcQpH2jFM+iNnjNjsf\nPnXc97dZmyY4bq+FCAQAAADPgiMIAACa4xk30F7gOnqGa4hHz3IVEWkJZ0lhNrFUJOu7/62KRTUM\nMgQrxq32qaX5Y2MxYuTFEaz2Etd8Ych3A62Vviz3HzNdp39LtFcjAC1xH9W0HRWdItfQyi7ZA2is\n5wuievuaAOS6gIyI/JuIQAAAAPAkOIIAAAAWgOvoGXAelbDUhSTS1v4dW5CfL731uUz7DvtdKqS0\nORY9O4ssRkzx8B69P9F8rOfeiLl7yHon9onlpribXIFoC3HIbf9bH/ux6biyuO/+G15n/FEjAK3t\n/knVScUfi92vq7WVOqddp1bMibVf0/ZWApDfVrUAZNz7YtTjrguI/YAAAABgLRCCAACgKXpwAy0l\ntuC5JK1Yywuj27CVeKSX650akahnlgiyPn0LtHkhxWVc7O+hXxMpsejFS33mljvy/kWf9cP8+GAm\nkUtLYbYt/kL1XIxx91rZeyztWGgCkTtea8W1lvvH1ovXacT9k6i7qM8V7p9c+7EYSvbkWdruUgeQ\niJcCTkbhJnZtvw+5NHD2PSIQAAAArAWp4QAAoBk+9c6XnF9Kg/IqfAdz+l7UboXruY8sJfPkCnMJ\nEbZP0cil13v4cA0NyrFGmMQYG+Yx8S3d98flWx/9+OP1Vu4faUUAWuL+SbS3ZP+fmEDjCo+5OlsK\nQCXtafMk5QAaz/vXMMFxVwQy92v+W9/7J9v68AMAAEDX4AgCAIBGMcqr8N0cxKNa15EI4lFIifto\nkD03Yt+LEndJSSqvHK3PrbWcRq33M4XvEAmx/WuzjzVOKZ9D3USD8vyJOIn2dxHd4wl+P9s4XmZH\nto5rHsfcIVTSthWBsu4fKRcS5nX2S/9WK17NzkfaSp2riaPEPaWJL88IQOauLsVEHO26JQJQELMJ\nnzSuUBReo8wFZBCBAAAAYAMQggAAoAnmbqCl1IpHMeFIP3JWSFm3BCNGXjvvr5uGzud8+/csw6Y0\nW9LXPsbH3umcMNieYLpE8PTT0B2JGbx0eZM158ERLiJfPJwLVdbzsV1cvjA0ta1/prICUIGAEdZp\nxP2TqLukz7FYal04S9qvFYCMWyDRZk1bvixe4wDynyX2nBs/IhAAAADsAanhAADgcNYRgfYC19ES\nEI9iICBp1MyJM86fNVJetUMufiODvNolki14kZdgobe1ezYThYajU82NgtBe4lDY+uik+tZHf0I9\nH3PQ5Nw/S9O/Ge/fXHlbdpGTJ3W9WHy17p9MnZr2FwtAmTZL29M8kb4A5LeR2gfIPae5gEREXhsj\n/w4iEAAAAGwEjiAAAIAqcB0tYUmqrWuIR9qiUqkuWioi6WVbpiatV6psSy6OGjRnQ452+1rivrkl\ny7UsFN285WI3ZZt77EiCdHPD3DEzmD3TzFkfmbqcbyPasHVdBIqKA8lrSd/p31LtrSQAxdq+GZFB\nSd0Wazs1XmsLQLrQNP9UpxxA4/m0AGSvaY/hAgIAAIA9QAgCAIBD6csNtISYcKQfGcF1JLJMPBK5\nioAksraINB4dkud7wy7S1973HueJL0ikaE80Ss/beRpGF22vLvM4dwTaZ1A75t6Dvff68YVGbV8i\nkT2dQ76HwtwFtXscG43LEvePiHSR/s2eV4+nRKNaAegJISYQYJRKsadaabv2/RIBaIw3/ZWfoE9e\niVwaOPseEQgAAAD2gNRwAABwGJ985wvKLyF/yccXRfhbOSQlFzFeJVxHPCpjvrh+vf5rDBs7FY7i\nvHM/dr/a7JMWa0vj/xCFBu/9vlE4r5allfvWR3/iEPePdv29078lXUMVLpxUDDVOnFTbNQLQs+4f\n7Rq5FHBjGf+8Uc+lXEAigggEAAAAu4EjCAAAGsP/PmXKUWO5uniU+sZqretIP3J2cB/N8Td9D8k5\nisrK94S5/08jd69bngs1afhitNk//X5ZkTN17ghKnEQvSuy7uYg815B9P4x55nbae2juZHIpGYdv\nfuQngsX7+VWVc727fxL1tt7/JyVYae3XCk/PCkBafV8AqnUAlaSBs+9vIuwHBAAAALuCEAQAAIeg\nu4GWUiseXV04EkmPUa14dIXx0lkqILWXmqsWvW/1ooImQ/Y3Ns+KKW0KKeuIRCJt9S8lcobnRoWj\nlTmZ2o/IiDnkuWLEPD7Grli0n0A09d+2bI+N827wSoav1Sv2LgBVun9ScRwhAN2nzuoCkEjoNrIi\nTW5+lDqA/DYQgQAAAKAVEIIAAOCC4DpaRmycUks+iEcaS11G50OTIW+ZMehvfHKCiu5O6ScV3XmE\nMH2JWdujSBeH9u1HsB+JIhRpr/cgKhAZ+xtzq3g015CRb37kk95ZveYz6d9iokgqykVCTur4mgJQ\n5Fq1Mde0awWdQRTBJnaNpQKQTCJNrB2/T9qzriQNnPv+tYj8FUQgAAAAOAD2CAIAgN1Z1w3UKjnh\naP4KXEhbl+Ks6ejWIZWy7txj05NwVEp/ferH4fYiL3JEijm3Pdv+i5li2SKOb9xFoBikfwvrlApA\nNUJMqu1q11FFu1p7uRRwYxn/OvMvw7iX0AQg97h1Ad2Mkb/6/X+qp4caAAAAnAgcQQAAsCuffOcP\nOX86n/lvYVxHy0mNVWz0Un6jc43b0nR0ImWLrH0tvPvo/bdphtL03O/x3tfsm9LDfU7ty9RmekXt\niTV3E7XgJBIJ3UMPUcbbh2ireTJLqzXcHm3ZuLZ2Dj3r/nH/La2zpvsnW6/W/ZOpU1p+SwHoMe6+\nQBMRf7RrPCsA+edLBCD7nlRwAAAAcDQIQQAAsCvzP6jzi/rXcoQ8u9fReGz+6szj5ZJa3EktpV1r\nrpWk8Oo9TZlOXFAop529Yko5T8q2EF/IcPHdLpYW+qPvUeRL18fNM21c99p/aOa4GMxMGFrqGvLd\nQGu7f1J1cu4fWSAAZevVCkCVMdSmf4u1XdNuTZt6W/qTcPZfo0Y55v83mBOH244rAPnH7acJEQgA\nAABagNRwAACwG5945/Mb/tJhL5oy4q6j6R1jludaApLl/I6iHM/0v79xyd3L3u51LN6W++GLQkbM\n4YJk+Ftk//ErEYa+4e4LRPq3oE5OHCkq37sApFwv5QDy28m5gEgFBwAAAC2BIwgAAHZhWxFIJO6e\nybuOcu/ORdx1FL6zkLIuJOXWqnEg9TV2Sx1FPv0KDMv730pKsBrO5iiqSavYSuo5zUE0HTMyOdVs\n/NuPefhbJBRktr73Np2cbd+mkpNhSis3LvIvT/+2hvDh1qt1/2Tr1bp/MnU0/DRpqbZr+7+G6FQq\nAGnXy6WA8+PIpYGzx+17RCAAAABoDYQgAAC4KPVyyHVdR1vsdzR/dR3mY3eteTSRWpB3N5FvTUh4\nBj0lWJpBXm0QyXo8IxTtlW6sBK0fsdRzLbhhwgRW7j5Ex6WZm6fS2lccMoOZvf7Gj3y62kEjsr77\nR0zmfOyaqTY3FoBq3UepMdCEpNYFoPD8dJ1UGjiRyQVkxMhf+/4/fZ5fYAAAAHAKSA0HAACbs70b\nqGWuKh4tgbR1aa7qYisjtch8JkFpop19ZbagFZEohzu37IJyi7Hb+TEJNMfFuLU49I0f+bR6PCeG\nrCkAtZz+LRZDrP1q90+ijlq+UACK3ieZCzRqGdWRtMwB5PfdClBGEIEAAACgbRCCAABgU3787V+5\n/6LxlnuGvlNkbQfCUR3aMiJzK6RkNp13nNpwcWxNWZ96F4yG+/96Y8+0aTWE82H/2NYcG18EWjP9\nW0yIcOvVun+y9RQxZJC0+yfmQtrKiTM7t5EApLl/ZBjyAlA0prgLSBN6HuWU46SCAwAAgF4gNRwA\nAOyE92e39+3KkKsKR7FxSS0jXVk80pI65eaWyPXcRyWzKfZJ7Fs4EFG++b0gpVmLLo85ZX0qSVHX\n8j039//5xASEVkQX/Uk1HXPnlxGzW9zhfLAygyu4bRtLKqXc0nHYM/3b2u4fLR4bwyCeGCGOMJQR\nsErbP0IAKk7/Jo4wc//XHQOXZ/YAErcd0QUgXEAAAADQGziCAABgMyY30F5cVTxawpXFo2e4moDk\ncm1XkciyRelWhIg60jG3LBT5tC4QxWjLQWTb31cgmkeQF4a+/mE9JZxIIq3YUgEo4eLR2impV+KE\nKW0/FsMaApCR6WCJ8+hu3tH3C1oiAGXaCuuGX4RwL5VyALnnfGHIxoQIBAAAAL2AEAQAAJuwvwi0\nBISjctifZgnjkmk/i+b7EEvmd8551NaC/lqcRyhy8dPO7enMqaGdVIeTQDTIK5mWzLePZ5BBjBh5\nkRcxYuQbH/5JtVxMTFm05879R/J87NwKAlDORZSKoSb9m0jojsm1H7t2aZ8f11fbzAtAqsiUEYBS\nDqCYOOSmgbNtIAIBAABAL5AaDgAALkxtujqR64pH4YJK7N0E4tH4XeHXktvLaHp3hXHRF/Vy49Mr\nWtqrFH3sgZPuh55+bqwzikRt9i+Wds7n6PsTS3W4f3o5d26/vr8ak3RNYqD+6X6+Zbswr6c6VEWF\npe6fgrql9ez7YQhdKbFr5QQYLS2a216pAJQSzWrErz0FoGj/3LnplUk5gET0NHD2uOsCuonIv4cI\nBAAAAB2BIwgAAFanDzfQXlxVOHoG0tbNKRWRwuPXQRuhc49FH4JROXGBaBshYU3ce+HvcXMkbkzH\n7XG1vWvomx/+qXsL9e4f91+t3lrun0UOpKXtp9o7QAAq7bu555ArEoCU6+YcQCL1+wC5x10X0Gsx\n8te//88c/yEHAAAAqAAhCAAAVuXjb3/OsHj/LIhH9aSkkKuPV4mQdMYxyvXqjH0OOYNgFE81126/\n2knfFtJGukKbNvM5YeibH/6p1d0/S9K/xerVCkA590+KNQSgJe4nLS2b1qbvypnK6T48LTb9umFt\nN6YaB5B73h53XUAiQio4AAAA6BZSwwEAwMpo38nUwPURh5R19aTGKLV8dgUBSVsm84+8nHCe5JJ8\n5ZZV+xdQRERK0p0d5xYpQ081JxJ3gh1/32Lp20Qmce4o91AsXeG+ApFNmzlnEv3y7X/jwz+lLOKn\nWkwLOWunf4tdY3UB6EknTq59LYYa0SnuOCoXgHQhyxN0Ctot2QfIPe66gEgFBwAAAL2DEAQAAKvx\n8bd/ucJmGlu4X7Joz9/l9eJRXDgaz04/z018nK4zBuNCe/rDGxuN2JEzjFtKQIn3r0fxKLbPiqVd\noSgmcc6XeMeUZLF6+9+vmDhn9/U5ag5pAtHe7iFX9LOi0Dgu4RycL+LHrheWnZ1f4P6J1dsj/ZsV\nRfw9hnJxxMWYeDva3kNHC0Dq50bpQyoFXK0AZK+HCAQAAAC9Q2o4AABYhToRaC8QjtYF8WgiNaOu\nMgbLeAkW5c9G7Seh//nSrlCUxxUYrBDT0j1pMcXcUanlBnl5LMx/48N/Z9Pun1QMS9w/uZhjsSwR\ngErbr057VygAiWjuHl30dWPIOYBE8vsAjW3PXUA3MfLvsx8QAAAAnAAcQQAAcGJwHa1L3HU0ntVQ\nlgmHIXamI1J9z2miV0hHF8e6T/Sepkakl7Exzs88/fUvJOUoal0k8tPOze+edcUcJ17mUsxpr/eM\nyXcObRmHvVdff+enV3ff2Lql9fZw/+Tq1MYRE5O2dj49IwCN5cKDqT2AbJux87FzmgsIEQgAAADO\nBEIQAAA8TZtuoKXUikcIR2mUJRy7CDOccV+aEmJzTD8yJzfLehjLlFCyZETspvN9Mn1C8o/RHvsZ\nE4ligsHxArE2B929bOap2450EbWx18+8/SNSyuXcP7JAgBE5TgBa6v4RCVOipa7XggBkZPzklAhA\nWplUCjj/fI0AJEIqOAAAADgfpIYDAICn+LG3f1H5RZJLZXP1v60Rj/KQhu5ZWktxtQ+5maFJZ2ca\no+P2l1mLdgWiFDY230FkvPP7M8gg7t5DmlCzVxza61q+/s5PP17nBCDSv8Vji6EKMisIQKXupPHc\ncwJQyiHknnPjxAUEAAAAVwBHEAAAbIDvpUktO/T9bf5l1LqORK4nHi1JQyeSEpCuJh6Z6DLdGVxF\nMVJuo9iZ8flzjs+VyTxvRVoXi2Lxa8eHZvrTh8rFAAAgAElEQVTiP598B5HrlNn3953r1ImlmXu5\n772zbVq3uXvJtmXEFKcP/Po7P531zy1Jvxard3T6N2PGX2H1QkydABR1DBW2O9Y393mebjPuTgoP\n+v1ICTyWmAPIPxdzASECAQAAwJnBEQQAAIvR3UDPgJNoPa4mHD2DIhEFAlJQ4uKc3VmT5+XAfWO2\npHcnWW+OolAYOt49JDKJQ/b4Hm2LTMKQL0z9tiMC+Tzj/pEVBKDYdVLtJx0xOVeQcs24wJK5zgoC\nUGmbJenf7OWeEYD882792+z43AV0M0b+5g/+2TYfFAAAAAArgCMIAAAWsb4IJFLnJBJBOEqB66gc\nxUViYuPnc9UUdvri37ncRWluM9eHSE4y7MX5GHeSjaRFgePvd/73xtyRcrRAZGZL2NZTYQWYVzK/\nF1vvtTO15e7t5Lp2tnIOaW27olCN82W6Zvx4afq3lAMpKeZUtJ2L4VGv4nqpsppzR2vfPtMDkUW2\nEYBUcWtWJrxQqQMolgZu/NfIa3OT/+AH/9zxDzAAAACADcERBAAA1WwjAu0F4tG6XFU8WoNQRDp6\nUfpYzi2ild3bvueAFruJHG8RLc62Yh+X8EdR0S7nHxffXq6hr7/zM4/XS9w3j3MruH9i18m1n0r/\nliIqAMWuV1E21n5adFpZAIrEkHL41JzXBCDbv9v9yN8gFRwAAABcBBxBAABwMXAdrctzzqPcu3Oj\n7IM0zF0jZxND0ugzKN77vsalxKkSLuynet9e/+P7++i0Nr9T98g6YY4dd7uQ7buI7Cub1m8fgUhz\nDa0tDFkRKOWksedjx0vdP4/yhddZ0nZJDMk4jhCATMSRFTlWsgeQVs4Xd2zbqTKxFHAi8TRw47+k\nggMAAIDrgRAEAABVfOxDf2/wJ/5swWeIHO+WWuFIBPEoR0oyKhOQzioeGTNf5krPNuUTdrrUdOml\n+RJ6Sclmmfc41cd8v9p5BqcEovBcS/sUuffDSJikzB/j/cc8XOy2kUzx7BOTLwwN4otU9Sxx38Tq\nLXL/ZOpV11lRhKoVrGLtawLMWLZMADJ33XErAch4//rn/WtoApDrArJlEIEAAADgapAaDgAAitFE\noCWcWzhaSmox8crjsgbnF5CW4820oS/RZDk5n9E55kZOBOvpmRuPtd0+WAfRHunTyuJ5cQSa/WOp\n3Zfpt97+GfV4UhhaSwBaIEAdmv4t0462/0+8H+UCkF4uFH8GCVPF+THk9gDyy5Q4gNxrWBeQEcN+\nQAAAAHBJcAQBAMDuzBYJTOS4x/nFo1rnEa6jcsJvFs/fHZ3u6Uj89HT3JbMhHI8zCSQpL4FdtEzT\nxziY6Hf9LXFxpbXPRP6Z6IotbcSuOYiOTDFn54Mb0zBL57atEDy5M+bCmDYWmghU48BpOf2bfcas\nIgClBKuIiyhW/qZUqIsv7v4x/vHgmnGHT+68cc7HBCARXEAAAAAAOIIAAKCItdxAezFLSaMsal8T\nxKN6cBOVE5GKhjoXQI/0ln4uR+pe9djX1p91bnx2r51jsZ/Z/eJwRSFXBEr9h8dq6d9WdP/EYki1\n/zhfIUKttv+PhCJLteOpIP2b8f6drhl+USNWRnMQzQWmu+DjvDciuIAAAAAA7uAIAgCALL2JQCKK\n6+iULqJaal1HIohHOTdRjJRsdNYxM85P9/DogDBKt8/iMso7byZ6EFLSOzO9jp57kVdbhPM06Wfd\nPm6YFH58dq+dNfbYWRrR+NPeazeObcbJdwvVOnBqBSBz/7GWALREgHqcjwg3pWVTMbQgAOnjZZJl\ncg6h1D5AY/nJBYQIBAAAADCCIwgAAJL0KAI9w/lT0O3B1cWjNYg5kfQj52eSjK6yj1EPglEZg7zc\n75+ZHW17Hg9ezC2JlscJRFOrI0aGlcW/337796rHVZEh46CpFVNqxadcDLVuplgMKfFrGPRzQWo1\nGcUVm5Iu16ZIuKfPVH6ZAFS7B5B/3hevcgKQiMhrucl/+IN/vo0PLgAAAMDB4AgCAABweGr/IoSj\nO0ucRyIISC4xJ9J4pKV9UPbBcQmYiPsmkgIyJam1TInLqA+xyDwWZ+doEmc7/dEWu91P4xTrXCra\nAyPhYvgYwV5pGN32X8tcGLLjUh+DJgKR/i3d9uy1cp1QPEm3KdKGAORfR3MAuddxd+PCBQQAAACg\ngyMIAACifPRDf0/ilwR7pywF19Ga5MSjsMx1yH0yrzUuLzMn0TX63pKwUsYkKLjHjt8zp4TRa9Ha\nmO8nDs1bDcci3b4rAtW4fx7lY8cz9dRjBQJMSfu5OGqEmNr++/vn5NqNx+gJNEZEFBdSiQCkSdtL\nHEBue8Y5bsUiRCAAAAAAHRxBAACgkhaBROKOhVQ1TTy63t/qT7mOxjf68UuyjvtoPHI2B1Luk1k2\nVq0tbC/lFnMSJXgZ2tzzppS4q2ho9NmhL1HfvH2JQkdcCwKMXYSej/kgg+cZ2nfc/b13bEzuv1u0\nOv70xyLtFlrN/ZOpV11nqQAUE5Qq2j9CANKuMOuLmV8vJwAtEYluwTXsnJquZZ2Gts9GRvchqeAA\nAAAAdBCCAABgRzTxqFY4Ct9dAcSjtdFkkdRY9i0IPMO4mFviJzrfvLqZ15Ez4bOpr72LTHS+p58P\nbdxjoy4t35ylYpFWnES+i8H+DPcg2j+1nPFi2TqOuTBkxchBfutDvzdwwZD+Ld6GJu/6wkmq3ZvR\n9xbKCkDO9fSY6wQgTUiKpYATcdPA6S6g12LkP0IEAgAAAIhCajgAAAjIu4FaBtfRMyAelUJKuuW0\n6kZ5ljK/R1+CkU9sH6b27+fkIrLiR5v3YT6Wx4zrXsKQiMhvfehnH69zAkqNkyZWPltnqfsnUrdW\ngKppf2xTr6AdLd37JxZfibNHK1eyR1DMAeSWjQlAuIAAAAAAykAIAgCAGX2LQEvAdfQsiEe1lKSl\n08udk1Jv0TnGo+Rz0bdYZGld8Av3Ixru/zvCpZNiLmLtH9NWwpAVgVp1/+RiSF2zRrSqTv8m5QJQ\nWijbVgDSyj0rALmp7xCBAAAAAOogNRwAADz46Id+wfmL/Cp/V4dpSrR3cxCPXEhbV4u2gFajv7r7\ne5xhvPQFxVS5Vt0cJRTd68x+Rn0IRXr6Od+ZY4/uj/45NEpc1nvwclCKyDAVntlVHJqntzOP5/Sz\nz+ta8cXcf6wlAK3t/onFsCT9W0xUKe17rQCkuYVKhJ3ovcoIQH5f/BSK9p2b8NF4LqCbGPmPf/Av\nnOGXIAAAAMAuIAQBAMADU7SZuiOCDP7f31f5e3y5eIRwNLJEPBK5uoBkMcFPy1WcRf4m9CX0JB5l\nxaLUs3po24mj7+8zpyzJ3vaEe5SMe0Ydm2ZuWgz3xaHJhbWtOOTvMSSPlsvb/M0P/uzsfdL9I3XC\nS7ZOrQBlphEtdf+49Z5vv0IAirUZucKWApDx/rXnXUfPLBYv3ocY5AhAYzlEIAAAAIAlkBoOAABE\nROQjH/yDG/1C8KSPmXjE3/BxcB2tCQJSjNyeL2cfn3j/+p4bWuxGhuGl237NHXDmcbQ9JkGkjbGe\nojmm1bBdVwRKCkArun/sOe06S64ViyEmQK2V/q1adDpAABKpSwHnXtMVgDQXkIiQCg4AAABgIQhB\nAACwoQi0FFxHy0A8epZBBmXOXRfd6XCV8bnW3kUvw4v01xf/mdda/HMPif08HR3rEWklrSD0Wx/8\nORFJCApysPsnUScVR437x3UXPSsAaYLOWF6/hn/pm/iz9F5WiUFL75YrUyoAjXXNdBwXEAAAAMDq\nkBoOAODitCcCibhLA2VfWMB1NBKmZNHezUE8cjFi1Dl3VUfRkhRsaZdRT+NVthhb3qO2+36LpJuL\n7UfUxtz3n3nzOxTGuHfM/pPYjvHweD3uO2Qeid32iWq+BL/HZ3Na0I+cX+L+kfXTv8WoduJkHDea\n8KKJQrFYSvf/0eLzx+ARU+SitQKQuTc8b0N3DBnnXEwAsv8iAgEAAAA8B0IQAACcAH/ho048urbr\nCPGohKV7GonERaTg3GnQx8RdqE/3u68xKZkDIiW9arPf8b3jFMfU0JbYp98bfw7uH68bl913aBSH\nxmXxvcWhcL+hbdLJ/eYHfz5se4kAlKqTEWCC40vcP7F2ItdKyem+YybWZqrd8Vy9ADSVDX/7D5IX\ngLR+pRxAgVvIPecJQFYgQgACAAAAWA9SwwEAXJg23UCtknIdhedB43oC0hqQrk5kHAXdmXIW8gv+\nfc6Bl+GVd8T+2mmxP/6T6fgYh7tA9HKf/3s6h+ZRjP8uxRWB0oJG/Hhv6d/SfakQgFRRxzzmhkvp\n3j+ixPBMuSUp4Oy1jVcHFxAAAADANiAEAQBclB/54O+f/QLQFpZaWATrG1LWPQ/ikSX4PF4oRV0Z\n2jPsTOJR/B73eP8fKefuf4u05iZyccf3GCHGZ9zVZdpz6Jj9fkrvlxWB9nD/2GvVCDlLY6gWgJT0\nb7Xtlu79k4qlRNiJCVU1ApDI3AWkOYDcOq4AZMTIf/KDf/HoDxoAAADAqSA1HADABfFFIJHY4kJ8\nyQThqAQ/VUvJly9IWTfHKK/CdyPDqedg8Hk0iXMRzi0mac+w9B5H8z633v/4PU7d/Vbvq59ybnw8\nTsfmTqJjXURB2q1ZerlRlJH7kb0iGn/e7v/OhaEptq1anzwctp2UQKa5VKZrRY5ViC+2zqrun0i9\nJenfavb/EYm5etoRgPT+xB1AxjmrCUAik/hjROS13OQ//cEfa/PBBQAAANAxCEEAALCIWuFIBPGo\njHnKlDykrJswyhzEUeSSEpPOuX9R+jNkvAEo63OL45ISifRz7bml/BRXr4MSw/DiOIiOjz/cW2cS\nhIaHQLTHfJkLQ/bIdI/NZvd7LgDY/k7tfe0Dyr5A0WslhJ6V3T+xOA5L/6a0EfvsRmOMXH+JAGS8\nf22ZOgFoOu+Ohy8A2X9xAQEAAABsC6nhAAAuhuYGahWEo61APCoDEakU93N59v2MyhbUex0DXww7\n1olTw+ggCqW945kEoaPjsQ6mveL4ox/4A7P3UREkIdrUp19LC0C19Y7a/6cmRs2NVJrarUgkUst5\nwu3stS/qpgUgew4RCAAAAGBbEIIAAC5ETyLQUhCP1mf85j1jWEdMRNKPnAn186YeOus49OwsiqHH\n2v49tPEZeWnqOdaGOGTb3sItZEWgXdw/iTpumdJ6e6R/qxGAYqn19haAwhSJcQfQGHdYd7ZP0N0F\ndBNDKjgAAACAHSA1HADARbiCCCSiL6TU7nWUOn5F5nt54CYqwyivpiPT3iLnQ/28qYfCg8NwvGvi\nebQUhT65XrY2BhGHQnC8tfvnLkpPzzE3xdz4fu/P45R4axrDaa+hvdL2TWm7Xjt7/Rh5kVdixDx1\nL9dy/9hrxdw6Xbl/om2UC0Alok5NWU3M8cvlBKCYA8iviwsIAAAA4FhwBAEAXIAPf+DnjYjIfM2e\nv72XgutoCQhIy0glpWPMRM4iHvnE+9Pe3j45prtjgiNt4u4/dGys+4tDPi/y8vAulfI1LyWcyHrp\n39Z2/9S2P13rOQEomv5NLatfX4sh5loqcQDdgjI50WheokYAwgUEAAAAsD84ggAALsH9j28THtNx\n9/sIj10dXEdL8BaUir6IoghulxOQwoW42DuN/kSDesaUTI67IyWidLN/UfzemkSCqjbvd3qD+fZc\nRHMXpI30ZXgJot4hEufV/L6P93qUaLbkdm/XyDS/Un13RaBa8eVRJ3Z8RQForfRvWru2zUE9FxGA\nFKGsVNSJlS1NE+cLQGM5z+UTXMMReioEIBGRHw6v5T/7/h9v60MPAAAAcAFwBAEAnJwPf+DndnrQ\n3/cawHW0CohHz4IDSSfnKTr3uEQ/P0NhuS4ZGhWIUvjztN370Yp7aGp7nxi0/YWsCHTV9G/JfhcK\nQPFxKBN1tLIxR1FOAPLFpdoUcK5ghAsIAAAA4HgQggAATsx+ItAScB2tDeLRGvgCUm8L6FvSnnNj\nKx79THS397GIi0Ot98vOQ/N43w5jXMPw8ojwqHkyyLBr+3/0A7/QrPsnFsNaApC2l89UXj/p19lK\nANLj9cul6/kCkOuMcuu63kzXBWQFIUQgAAAAgGMhNRwAwElpWwQSmaW8MeExHVxHKeJ7DsTHFfHI\nx1/wcjeYv7qryN8RwifnL+pnvB79LHmKRk1Gbfc3nmJOu48tCaLaPJzeHxvrffHb3JyF8mPEIdeJ\nYUUh2bDtmvRrS90/tm5pvVrxZ6xTl/5NjzH2uzis07IAlNoDyK3vCkV+GribGLkNN1LBAQAAADQA\njiAAgBPSvgi0F5rraH4clqEtJra+8L0vudR0YZnzE5cdz0jy8zD0/XkZxRY3fiNt3kfnd0BT8d3F\nIRlEhqOcduu1+7X3/8LsfbX7JiMA1dZrKf1bzC1Us//PMwJQyf4/oQDkpXqLpIATCfcBsmXse1xA\nAAAAAO2AIwgA4JS4f6hf+W9wzXU0Px5CyroStAWvtFvELjteZSzDVDo1DMOrNYNphNT35HXacqLU\nkfw8ZKaDLhy2g+YmGuQl6PPx9y+2gD09ifZy6MxxXBPGTK6huzA0j3C7GNwxGdurb9OKQGdP/1Yj\nAMViTIthZQJQabklAlAqBZxb30Rf4wICAAAAaBkcQQAAJ+OdD/y+wgd77JvS/N1eDynraiAdXS2K\n+wqHUcDxosP2DIe5R55nchG1/0WFaYyPje8hDBmz835lZfPsa+9P7Asky9K/ben+McbIMAyrpH8b\nz/vCSUK8isSjobmFtLJ+ubiw5bt4/Ot45xMp5HJp4EREfji8lv/8+/9ymx9uAAAAgAuDEAQAcCLK\nRaAlpFLs8Pd+HaSsWwIC0rMMOy8mt8hebot9een2vvq7SLXbj2bEoeFl9/mr9f2PvPULQblW3T+a\nOybZ7krp344UgNQ4g/frCEDWW4YLCAAAAKBtSA0HAHASthWBROIpdlLgOtJZK2Xd/PjZiScWy89H\nRCQRESPGvL6/joxHNCXZWcZpvoAZ0uqeMmluRt9xJHY/2+mbv/D8+vHaFYXG5GnHikTTnHHTqb04\n7/cZU2Pmy/eDDPf7vF37bt8HGXTnjFpvXQGoxn0Uc8ck210h/ZvINvv/aNddIgBpT8CUAOQmEPT3\nAbLHbsNNbmJwAQEAAAA0Do4gAIATsL0ItBe4jtYF8WgN7FxsZ/H8WM65f1EN04w4C705ikJRqJ17\nceSXHmwquVGsMZs9s7721meiAobI8enfatquTv9WGY+NyaVUKDIyzqC1BKAgRZwJhZ2pru4G8tPA\nIQIBAAAA9AOOIAAAaAhcR+uC82gNnnEcnZHJVZTDS/vVmdgQx90mXWecD/3MCc1RpLmJWpnnJlga\nt3sPDY5IZJfR92X+vLBOpn1cQ0aMiJl7l4bhRdbcY+iPvPUZPYWZHJf+bWv3T6r8swJQziVkvLJh\n39Nt5AQg/xolDiARBCAAAACAHsERBADQOedxA+2FvycF4tE63D0S0dRikFpEb2WBfXsSYxDMnXOO\nydEpzp7BzlO7KNy+k8j9okA7sdr0akft9bNUFPrDb30mOHao+0e2F4Ce3f+nJvWbKnIZXXZeWwDy\nRR/jlbHHzDC+QgQCAAAA6A+EIACAjnn7/b/HTAvw7hn+Nl8XUtaVg6NoDYb7/67NUCgsnmecWhIr\nltCyi2jC/zJAC2O+f/pJK0a9FO4v5IpA5v6jxfRvta6j8XxZ+jeRZa6eJWV90WYqm3cZ3fwyhQKQ\n/x4XEAAAAMC5IDUcAECnjCKQiF0+eC71F3/TpyFlXTlL0tGJICDNMbPvZMc5t8vIJL/t76I7HPrr\nf5jybMS/l0e4SUrQF7mnY204iPxFcZvq0N1bZ+84J9fFNG+3jeOxyG/c+5Pe/2vt9G/RlHDKdVpL\n/xaLpUYAUkWclQQgXywLxa6568d3ALnXuw23h8MIEQgAAACgX3AEAQB0yCQC7QWuo+0hZd0yEJBK\nwGGkiUXnHI82HC5lzObk0KK4daQ4NMUwiUKuULRli4PI8EgkJ19932eadP/E2t4y/Vvsb2ddwn1O\nAFJjDd57Ak9GAKp1ANn3Rm7yX3z/T7T2AQUAAACAChCCAAA6Y38RaAm4jrZgXAhkHNeDeZrCXZRv\nb4F+G+J7p/Td/0lEmI60zjAMD92jrfnXxr5D05hsOzZ/+K1fjJ6rTcNG+jflWCJtWyqmnADkX2su\n+MzP+QKQiHUBmbsL6F9p6QMIAAAAAAshNRwAAGyAlh6sLDUYro44sbRRI+xjVI+exo45OOIvFJYu\nxre1aF+HManPWEooEml5rqSfHSOt3bfHArmZz0V3H6JjYnY/F1NauSmefWJyk3lNI7Fu2zERqMaF\nc/X0b88IQFrdLQQg9zguIAAAAIDzgiMIAKAj+nAD7QVujuchHd16kKLO51qOorB/k2DRb9/nTqK2\n+3G8QOQzOMLQPind3Jbtq6X4IlBr6d9i6dzG8tukf3taAMqINqk2fEHHbze1B1BY3wRlXAFolDhv\n8l9+/0+28EECAAAAgJXAEQQA0AmIQD64jp6nLCVNCO6jEN1dFJ+Tw2zh+oxo3zyP0f8eRprzIC2g\npN1FbaA7iRx3TkP7EWmL4sPg7vGz9/zyl+Ld8do2Ft8tNLZY12ZOmHk2/dsi90+i3fG8IqqsIAA9\nu//PmgJQzklUsgeQe3wuAAkuIAAAAIATgyMIAKADPvT+vyvxsNYSwvA3/HogHq1Dyn0UngdvvJh/\nInIGwSjH0IVAFGMUXabXLTI0JcK6rqE920vz1VhKuDXcP9JW+jeJxFNTVkQXgG7qdbcXgHwJUksB\nZ8SIGcyjrJGb3MTgAgIAAAA4MQhBAACNkxaBljAkX8GzkLJufXAg5ehZPNiCl4acKusQEy/6mf9T\nmrk2Yz5eINpbFNL3NPJFoDXcP2PZuvRvte4fkTbSv41x1AtAJlamSgCKOzEfjp9hkolwAQEAAABc\nC4QgAICGWV8EWgquo21BPFrKPDUVY1aG5ja61tidRyjS9ibqq28tpZcTsa4m8xCGjkkrZ9szMsgr\n2V5AG3v41bd+6XEkJsRUpVqT86V/u8m069OszDBExKL1BaAw6WA+BZyIngYOFxAAAADAdWCPIAAA\nKMA4P+fHdHAd1eEs4JjwmA7ikci4kFUGqekmvE+yMtVCY8S5xueWmTf9CEVaWqzX3hHf6dLWvQw/\nw+My+1EC0Sx1ljGzYy/Dy07CkLuoP93P7fYYMvLVtz47vloj/Vul+yfV7lh+3/RvfnlNvLFlpl/Z\n87ni48/yEgEoPD8/4u8HFBOLNAFIROSHw2v5r7/3p9t6IAAAAADAZuAIAgBolHbcQHuB62h7NPFo\nfhxiaELStcdtFBeuNwb9iEQxenQR+V8paGPe7ScMhYyi0DrtfvWtz66S/k1LiebWUa+jXt88nFm5\n8tYrtUX6t2dSvz3KKuViolLsWr5olBKA0g6g8Uq4gAAAAACuCY4gAIAGuZ4IJFLvOhIJlwRZ10ij\nOY+m41dd2C9DW3i79t5F48Jl2aPqTHMr5iaKiQFHiARpci6iFh1Exntl3w/Bzz25mds9GucZen80\nbH3fJyfV83sLBeJK5GOtzXwtjZl/XmtPF4Z0MSQmANmncCC2bCAAxfqpiTZqTL4ApLimcgJQKCKl\nBSD3uE0DdxtuuIAAAAAALgqOIACAxrimCLQXpKx7HlLSrYPiyngcu+54tu9MqUdzNoj07Cwa7vdp\nLoa2wjje0+ujY9lDFPJbHX+Wza/feN9nH6+3Tv92i7h/otdQBKPSdG6p8jX7BNUIQGqf/XIrC0Bu\n2ZgAZN/jAgIAAAC4NghBAAAN8cG3fnfkoewuvrf2Te2zQ8q6dUBAKsfOOW18GDOR8wpGRwsX9XhP\nxgbvSyvCkCsK7ZNOLi8I/cb7EinhpNwV455Xr1MhAKXcP2r5CvdPzT5BJYJNqv4yAShMGxdzSZU4\ngOx7XEAAAAAAIIIQBADQDHERaAkIR8eCeLQe7GtUyyCvjg7hcFoUJJaiCQZ9CEbuZ7e1+5FK67hn\nFPffFcP2opDvOPzKm58NSq3p/ilJ/5Yrf4QAVLr/j54gMhSASq4X1FEEIu2cESNmMLPjrgBkxMh/\n9f0/1cPDAgAAAAB2ACEIAKAB1hWBloJ4dCyIR8/S3mJzS5TsX3Od+Xa2udKXm2jcg8gY09h9sONn\nitOqrdv66BR62WFMfuPNX5m9XyIAreH+EdHTxcVEFhuT2m5BuWjZ6HXzApDv2nmUC/Yd0q5VLgC5\nbiHNATSWuT3e4wICAAAAAB+EIACAg2lDBFoCwtHxIB7VgbsoTSol3XT+3Aw7uDO2p0cXUSgKHR3v\nIEeJQiKymSDkikBXSf8mEtn/JyJ0lez/s5cANBN6hkkO8gUgewwBCAAAAABivHF0AAAAV6ZfEUjE\nXRYp/1IB4tG6GOfnCKJQCnfO6sfj+HuhnHFs7Xwq+zxPC+RnGgsTeZ4Not/yNvuu72UyHbMOInus\nBZHIGN0HMheI9oxznmprimAfYejmjId93qxxn7ZO/5a6Sivp354TgPS6OQFIE45KBSCRyQXkXsdP\nA3cbbvLffO/PHP9hBgAAAIAmQQgCAIAdqRWPEI5qCbeaTjEor8J3IOKPpT99r+gw8hfIY5xjzyKj\nOh5itC4UGm85WxOJWsEXiI4ThkZCYWi+984mbZq5SDssdK59+c1fCX5DbO3+EWkj/dsYR1n6N61+\nKNqUpZPzBSD/On4d93wqBZx77Dbc5CY3+W+/92fb+eACAAAAQHOQGg4A4CD6dgO1DOLR9mgCEuO7\njL02i2+fcwhGKfpMO+eLQi2JRJajxSG3bS1h5+atFcyrL/sp4WoFIMXNM5ZtPP1bpHzJ/j/jsXoB\nSPNWptw/9r094qaAizmARBCAAAAAAKAOhCAAgAP4wPt+MvPw1fYy4e/8bUil/GLM1wUHUh5/PqbP\nX4kzCkX2eeP+53gvYlHLApEVhowxytdt7ZoAACAASURBVN5DO8Yhg+zxmbVp/mL7ClkRaEn6N83N\nc6b0byKhAKSlcSu5Xm36N/+8ESNmMOpx28vbvYwRIz+UH8p/970/184HDwAAAACaBiEIAGBn8iLQ\nUuw3g+fvYQtirqP5OXieozZq74s+nSbrMpx4rvR1f4eZ4NtG3G0IQ/u5hQYZZPy/Qb705q9snv7t\nCPfPFunfVCEn2v56ApCbAm7mDJJwXyBcQAAAAACwFIQgAIAd2U4EWgKuo31BPFoPnEXP05e48Byp\nPW96HYOUk7FNXuRFjJhGxCF//PYWhwYRMZuLl19+81ej51ZJ/7az+0fk+fRvugAUlvQFIP1aSr2F\nAtD83HRlPw3cTW64gAAAAABgEQhBAAA70ZYItBRcR/uCeLQNCElxwjEYp95Zx0bvV8/uovFZYftl\npOV799LUONvfb/vHtMV800SgNdw/IrF0cfUCkCrq7JT+bTymlFtBANLb1wWgeb3wuC2LCwgAAAAA\nnuWNowMAALgC5xCBRB5bIJv5+zi4jp7DWSCq+uJGTEBi7EeM8mp8N3crXHG8lEXPxNTrfw+jmEPh\ntXK0j/Rz47PC7Zf7ui0n2E1Znrfi0P7uIfv77bVYx46IKwxtF4uZjcP6KeRWcf9I2+nfxvLLBCDN\nUZQTc/TrZM4Pk4Q0TwE39VQTgHABAQAAAMAa4AgCANiY84hAe+G7jqZjsCW4j54Dl9GIJv7q589A\nXBjqpZ99pJhrJa3cHqLQrD0Z7p6uuvasG0gXUcJjKffPs+nfrCft+PRvYVnNUbS9AOTvL3Sb1UEA\nAgAAAICtQAgCANiQ97/vU0aC7/byN/36kLJue1wnAeNbjvbd/iuPny88pM/3i5JirwM30cTwuDfG\ntCcQDbPfqEfFNnhp+LZt695ituSXIinhatK/xcprAs2jjiIA1biF1kj/pgtA+f1/Ytd7VgByU8C5\nApCWAs6Wv8kkBCECAQAAAMCaIAQBAGzEKAItgYXj7SFl3XbgLFqTvsSDNUjPkdYEiWcI720PfRua\nfGYOFULJplHsJAzFngu+CHRE+reYWFSb/q1EAErFtmT/H9U1pB4rF4DCvYPmKeCMGDGDPYYLCAAA\nAAC2AyEIAGADlotAS8F1tD2IR9uSS1HFWIfE5OKrjZV1BPbe715dRFYAsUnAjud4YWhw0sht2cqL\n2HH/kpMOrsb9I7JO+rfavYJK07/VpH7TSpdcc2sByPUluQ4lPw2ckZv899/78218iAAAAADgdCAE\nAQCszP4i0BJwHe0D4tGWDMOro0NolNwn+0pzcDiBQDTSm4NoFEKOF4fGfXbGX8svuwtro0C29d5C\nX37z84e4f7ZM/6analPqRnpYck2tbuxY7Ly7/88YY7j/j3/cFYDsv7iAAAAAAGBrEIIAAFakDxFo\nKbiO9gHxaB1wGJUQOiauMS5xcajX/g+OUHS8+BKjFXFI5CjX0Prp4770xueLRJTHuSfdPyLbpX+L\nxa21p6V+066pXVerGwg8GdHIdf/416wRgHABAQAAAMBeIAQBAKzEuUWgJWiSEWsd22HTY83fQz3j\nYjXj5zItlp99XBT/VJeOIvep2256uUkYEjl6bg33/+3W3gouoS++8fnZ+5QAdFNOxQQdkXbTv6kp\n3KICVF4A8o/VpH+z5Y3zekpSN10LAQgAAAAAWuCNowMAAICzYpKvdHAdLee++GTm79OcZW+VdTEm\ntjx6XZeRu9QZY1xE730MlAVpZZF5bVfH+rhP3dfO8bYEovlnbYx5+lztO77GWdLfwy007/tzewod\nkf7tWffPWLZUAFLqKteLXTMQcyKOoGSdpANoilpzANm5ZYWg18MP5X947y+0/AABAAAAgBOCIwgA\nYAXeevN3GRHcGMeAeLQepKVbk633BemNc6eh691J1JZA5HKUMDSLYbc0cuWp4379jV+Lnns2/dsS\n90+szq3A/SNSnv6tVADS3EPrC0BlKeCMIwXhAgIAAACAo0AIAgB4krfe/OSCB6mfxms6BltDyrr1\n0QSk+XEowT4X2lqI357UJ/E8c6h9F5GPmyqtlbjdZ80xMe2ZQi6WplITgWrdPyLPC0BR94967fL6\nagq3wvRv4V4/sbbXEYDc9tw6Y/o3xws03HABAQAAAMChIAQBADzBMhFoKewBcxy+6yh8B0vBhZQn\n5za5wnhpElHv/bbxG5mcIK3Tpjh05NhtLwzNXUK+CPSs+0ckvlfQvunfyvb/iTuK0oJQrK7m5Imd\njwlAZpje+fsAIQABAAAAQCsgBAEALGRfEWgJuI72oL1F0bMwMHeLye1dFJY5L/u5NbbE3kP7n+mt\ni0SDvIgR00BaOfvc2H+89nAKffHNLzxe35T/Atk6/Zsvk4wS5nPp30r3/ykVgNZO/zbWT6eAG4+7\n6eDGXpEGDgAAAABaAiEIAGAB7YtAS8F1tB2kpNsH0tTFSTknzj4+2hJ9r30emn9GT8JQC+nw9ncM\nbbGn0Bff/EJ1+readG415Uv36Um1V5r+LX7Nrff/mUdeJgAJLiAAAAAAaBaEIACASs4rAi0B19H2\n+GnpGN9nuF5KtXriexSdfbx6dxO1m16uFWFo7/231hKEfv2NLzyV/m2J+8evo6Vpm86tm/4tfs3w\nqJYSLtfmswKQkTAVHAIQAAAAALQOQhAAQAWIQGuA62h72NNofXyn0XXHM72Yfq5x0Rfwe+pjq+KQ\nK5AcE9/eovDS1HFfeOMLs/ex/XxENkr/VuH+icW3dvo3XVDK7xFUKgD51885gIwYuQ03+R/f+9db\n/LABAAAAAIgIQhAAQDGIQMfhbpQNW4KAVA+p6Oak9is645j05iIaxC527+2OSTM4opDdeWb/GET2\n2Y/pZeaQimNFoLXSv5W6f0T0NG1j2e3Tv2lCjy1nvPe5MiLbCUC2DC4gAAAAAOgBhCAAgALe9+ZP\nZB6WpO/aF1xF+zOoMhHU0dbi+xHo8+cs4+Iv7BvlWHuM4kt798AVhw5oewfnX8ol9IV7OrgrpX/T\nRByRfPq3WBkzuILPvF6JABRLAWfL3OQm/9N7f7H1DzgAAAAAgIggBAEAZMmLQEtBPNoXxKN9wV30\nHK2m9NqToUFx4hl6cg+1Jg7Z58kx8YzjsJ1TyReEPu+lg7PUuH9qytekf4u6jZ5I/6Y5h7TjubpG\njMjgiTqBh0gXh3zhyHcA2boIQAAAAADQK28cHQAAQMtsJwKJuN9EFe+VDsLRc9zH28zfx9FSfjHm\n5fjzO3wXp6cF860w0W/mh5xVNDJizGvluNbfHvof8zuItDfn7fNynlLrOGHIPk9ey1wU2ieNnB2H\nrX4XuM6TF0Xs0p4Fsb2Cekn/Fqtbsv+PX9cMcYFnusIyAch1AIkIaeAAAAAAoFtwBAEARNhWBNoL\nxKN9QTzajtgsZnxLOP8+W2Hf2nGzLMGd7+3et2mM9xFkonE8xJM9Y9hGgP3CG198vF4j/ZsvGJWm\naYvVn+JYmv6tfG+fXF1/759U+jf/fEwAckU5I7dHOVxAAAAAANA7CEEAAArnEIGWgHB0DKSt257W\nHBdtcX6hSKRfJ5HFl0Dbi30+vsfEN4pCfQpCX3jji6dN/7Z0/59JlHHqBAJQ6P9xa/jp46wAdHNk\nLgQgAAAAADg7CEEAAA7XFYCeAfHoGHAfrQNOoxL6dtekOIOTaLjv6NOeODQMgxjjC0S7RnAfk33a\nf2bu/KFXvz57v8T949eJuXTGc4UCUqTs0vRvJlLWf6+mnPMEoPDa8fOuAOSKPv4eQLadm9zEyGv5\nn9/7S219qAAAAAAAFoIQBABwBxFoL3zhKHwH69LfwnZ7TAvszFWfc88v3+3Rz/0fZGhMHHLF671j\ncvcV2qG1oe554YpAq6R/q3D/aPVtWVUUWpj+LeYIyglAfgo3vUxcAHLFI10Amu8DZMvgAgIAAACA\ns4EQBAAgIm++8XEjUr94A3uB62hb/NR00zFYxl4Lzq2jL/ifZW4NXYlg7QlDI0eM4fzzueV45NPG\nWRFIE2NEyt0/IrpLZyxbnv5Nc+I8k/5Nu55fXxWOhvBqawhAfgo4tyxp4AAAAADgzCAEAcDlefON\nH1vwILQL531+U/w8DIhDh8P+Rs9x1b2LPE/gYanD1sTvUw8iUVvz76i9qvbYV0ibD59/9eunTf8W\nE4r890EslQKQ31beATRPAWfPkQYOAAAAAM4OQhAAXJplItAStJQ4rDfsiyYZcQ+2hvn+LO5svd4Y\n9iGm5OhJILKz7Pi5dpRTyIjZzNHnPg9/zdsTyKKnXlPEmxOlfxPxBZywnu/+8dty67tp32Ip4Ow5\nBCAAAAAAuAoIQQBwWfYTgZaC6+h4EI/2xxVNw2OgcSWxKOxfv26iMW2YMaZpcWicU8eO8TGC8rCZ\nIPT5N740e3+F9G+xcr4AFIpL6fPPCEA3ucn/8t5f7vUBAgAAAABQBUIQAFyS9kWgJeA6agf2NNoS\n5vcS7Jw8/5i1LKrkGTqY30e7hvL77qzZ1vhzvTnlikCxv8N8906pSydW/3GNQ9K/RZxDg5m/D0tE\nr+Gnj6sTgG4iYnABAQAAAMDlQAgCgMtxThFoKbiO2gHxaHu0+Q4ibbg+tqP//Ygmcau12I8WhfYT\n/iYxaHlfP//Gl6rcPzXp32Lun6PSv5Xs/xOKS/NepNK/jfVvTjkTXMMVgMZzpIEDAAAAgOuCEAQA\nlwIR6FlwHbXHdZwe26Glo5sfvzLnFon6FcLnAkgLcR//LNpDFFoqCP3aqy+qx30BJybSjOf6S//m\nizdaGX//n9w1NAHIjVoTgEgDBwAAAABXByEIAC4DItBR4DraH9xF62LncHjsysQX/M8zNj2lmWtP\nGFo3pVpVu8Me4mX5HkK+CPSs+0dkn/Rv2rF4PGnxJrf/T+4a85RvCEAAAAAAALUgBAHAJXjzjR/1\nHnasCbQN4tExaNIR415LT+LBHhwlBmxJD/d4GF7EGLOTKFIQzyOG/WLZq+/jHNfbcUUgTQDSRJqx\n7PruH+26penfSpxD/t4/8WvFBSD/GghAAAAAAADrgBAEAKfnzTc+tvBBhwjRD1rKuvlxWJ8zLvDv\nRQ9Cwtaca/70sP+U+5xsYeyHHdPIDSJiNu23JgZZEch375Tu0TMrrx5b7v4pTf9W4hzy9/7Rr5Uu\nE+4fpAtAroikCUBGjLyW1/K/vvdvt/xhBAAAAADYHYQgADg1y0WgJfhrDqxBtMwwvDo6hIugbSXP\nZ6OENhbr98SfJb3Pkz7EoePn2b57C23rErJ9eZFfffXFp9K/xdw/usOmXFgKU73pjiCNZfv/zHvi\nt7eWAGTf4wICAAAAANBBCAKAU7KvAPQMuFfaAmfRkYwLwYx1GUPjAsM2hGJBb2Pg7jfVYuzDgank\n7q6dnZxiWz7jf/XVVx6vYyLNeK6H9G+ecKOmf0vv/2OlHLeEKyIZSYlBCEAAAAAAAGuAEAQAp6Mf\nEWgJvS+CnhX2NNoffxcjxntiEF0jOvcY9ZtqrmVx6DjH0L7C8HrCqhWBatw/ImH6uLHscenfgv1/\nlPRvuSP+ed9BtIYAdJMbaeAAAAAAAApACAKAU3FuEWgpiBNtgvtoO0hHlyYci3O6i3oVC9sVhiZR\naN+4JifY9u0+I3z96quvqCKNyNnTv92S51MCkC8G2Wu5whMCEAAAAADA8yAEAcBpQARaC1xHbdPa\nhu+9MgQyAficN/3c0J1A3t5+Q+PzZ+94hl32ElrybP3cy5fV46UCUMz9ozmLSlK42XJL6+YFoPDq\nKQEoFHzmYtAjgRwCEAAAAADAJiAEAcApQAQ6GsSjY8FdtC37LD73gC5EnGNsplRk5nGkbVoR6qxI\ntacwbT+RW/e/bIx9Eagu/ZteujT9m5bqbd30b/4eQb67Jy0ipQWgMP3bGP/NOW8eApCR1/K33vur\nLUx6AAAAAIDuQAgCgO55842P3h9krA30BYJFGyAircW+e5q0TisixfP0cl9HIcbI8bHuu6/QuDfU\nlv1Oz2VXBKpJ/6aKNYX7Cunun33Tv+VEpPl+P3r6N79tzQEkIvJafih/672/cvTEBgAAAADoGoQg\nAOiaN159pPIh5u69ML2HHsB1dBTzRV3GfSm9CApbcDYnUQ/3chzz42PcK4Xc1vdEE7c+9/LlSvdP\nxNVT6P6JpXprJf3beH49AYg0cAAAAAAA64EQBABdUi8ALQXhqG8Qj44Bl9ESRmfDVTmDg6jlFILH\nj+9+ewptdx9cce2XX74UnI+5f3SxZnQAaWV9Vk3/JkbM4IozYV2j9KRGALoF7qFQAJqniEMAAgAA\nAADYGoQgAOiO/USgpSAe9Usb36A/L/OxRSQqR1/YPvOYpeZKL7QrDE3juX98k7NmD5fQFuLqIJ97\n5e8J1F/6N12cem7/nzUEIPYBAgAAAADYBoQgAOiK9kWgJSAc9QHuouPYd8+RPvGEk1PPz6HT56UV\nhlrYx8fF/g7aOybb7raf7bVTxn3u1Vcer/dK/1bu/smnf9Ovldn/J3ARpfYDuqn1EIAAAAAAAI4F\nIQgAuuGcItBSEI/6AQFpX4Zm9kZpjfOnnjs+/Vktk2DXStzHjeEwvNq6hacF0s+9+kqd+0eWp3+L\nCUpldcP0byW7CwXXGdKOn6gANLiiDwIQAAAAAEALIAQBQBcgAq1Br9+ivyJXSwO2F1q6McY1XBw/\n25j0JBC1lk5u/7Hbei+hpYLoL99FIJct3D+xY0XtLkj/JlK3/4/vBtLSv4V1EIAAAAAAAI4GIQgA\nmgcR6ChwHbXH2RfsjyYcT1LSjZzRTdTLvV07tdniOHYVTrdNG1c7nz/rpIMTiQksy90/sWPafkCq\nG2lR+reSNHLLBaDxvJkdswLQTW7yv7/37x4/qQEAAAAALgRCEAA0CwJQjyAetQsi0jr4rqI+xIS1\nOauLqPX72UYquT33FNpuf7DSsfzsbE8gRWAxujhT4uLRjxWKRIMvzNSnf/NTyI3n42KQez2/LgIQ\nAAAAAEDbIAQBQJO8evUjBQ+nwfk5fwU94YpH3MNjOOei/rFs62honbM4iNq+f/Z34LGi0F6p47ZL\nGRdPx/fZx55A50r/FopI+fdW3IntGxQXgMb//9/e+2v8YgEAAAAAOBCEIABojjIRaCkDwtEpQDxq\nhxYcCj2yndOhdXoWiVq/Z0eO7R5js+X+Qf7Y/dKrLzeT/k137tSnf0ulftPex9K/uUKR3f/HrW8F\nIBHDPkAAAAAAAI2AEAQATbGtCLQEXEdnoPXF23OifVb4/OTxHRZnHzP36dpfX8dni/211U78R+4r\ntP3zdku33egO+sVXX54d1dK/6e6f49O/TQKNc+1dBaDx+Gv5ofwf7/31dj4UAAAAAAAXByEIAJqg\nPQHoGXAd9cXAnkaHQUq6csKxObPA2eseRJOI11a8RwhD41hs2+YwvFr7ivJL7p5AT6R/K3P/PJP+\nbUrXprXnu4hy6d/GY7oA5ApFOQcQ+wABAAAAALQJQhAAHM65RKAl4DrqDzc13fQetua8wsd6nDvl\n3Fwg6uFzZ58VbcQ6yCBG9nZfbbuP0Jrp4n7p1W+o7h+RUqdPXChyiYlEtenftPZ0ESnc00e7nlt/\nXs88yrn1b3fxZ5R/EIAAAAAAAFoGIQgADgURaCm4jvoEAWl7ziuCLGM+x/ZwaexNX+LQtqJIHcPu\n6fi2EymfF0D/vpevBMdK3T9xx477PnK9henfAgdSVfo35XqDcc7Y1zexriNfALLOIAQgAAAAAIA+\nQAgCgMNABNoTXEdtg0C0H+cTQp7n/2/v7n9kyc6Djp+a2fsSORgDjmIUJ3FM2ATnxYkthSSKTBzH\n/3Yk+AEhBTBGFhIKSAhFFmBsa/Hu+uXe6eKHnpqu7q6urpdTVeec+nwi7d6Z6em36bmO+rvPc8qb\nIjoFjrR/1qmEuWrFgLrcY57+Or6MQEPP8Bm2/q17wug63PRP/3RdpnuK6HYAulond3P923UAav4t\nAAEAQJ6EIGB1AlAuqqt/kiIRKa403pjf1uUUUf6RKI+poe2nhdYKaFVVhbpeZmXe2FVx7Qg0df3b\n0HC01vq364+7178db//++T/trzXnAf39T/4m1V8kAACggxAErEoEKoG1dHm4DESnzzHV5fO3x+ez\nHStyfvzp/z225bRQtWIQjR0ah4agJgCtsf6tO9z03+r89W/nAajvewUgAAAonxAErObx8R90/IWT\nw3+lzXzpv+nKUSqrqvLU9bzt5bm8nGbJ7XG3/4ZK7b43UXeL+7XOOULxp87618R9/eFbnZ8vYf3b\n5b0RgAAAgBCEIGAl3RFoCv9F/n6IR+myjm66vYW2vM8fWvPsnGGq59+79V9DSz8XS0Toqnq8+txl\nBJo6/RPCjbBTXU723Jo66l//dn099z++df5P+7Jd8af9ZwEIAADKJAQBi4oXgObI+b9SZxznGqVB\nKBpvT5E7zziUZhTaIggtGTNjP6bz11oTgboCzq3PT53+uR2T5q1/6zv/53J66N70z2Ugql/+TwAC\nAIDSCEHAYtKIQFPs6Q1ZxKMtCEXTlD1N1DW9kbLTzOL2P5O1z21a+gyhmKGweV197eFbNyZzumPP\npVuR6Hpt2xrr3+ad/yMAAQDA/ghBwCLyjUBTmToqz2Ua8nNdz2UoOn2OtvKjdR5xqEomJG9xxtdS\nk1KxHsvXH789aPVb8/nzj2+sdRu0/u3+ZbqniPqC0O3zf64nhfrO/zm0vuMYgA7hffj+T/7N9i9i\nAABgEUIQENX+AtBU5b+Bu18C0jrEon5lTg+dT4qk+vhSCEPN78daE0JLxaB51/u1x2+ffXxrJdzU\n9W+3V8nVvZe5F4D61r9dfv/59M/h5bbb19EfgJ7C93/yr1P9ZQIAACIRgoBoRKClmToqRUorpcrW\nynHW0LWUE4lOoSDdx7P12UJrTQkttS5uagxqItDQ1W8hpL3+7XIK6d76t/afm6+3g5AABAAA+yIE\nAVGIQKkSj8ph0mhJW6zUSkc5f09U1UOo6zrqGTMxbRmFjs9JHZb9GVet0B3xWkf+PL/2+O2eaZ3L\nz904E6hzaqfrGtNa/9b+swAEAAA0hCBgFgGoNFbW5UkkWopA1PXnXDTr0VKMQtutj1vjNR0/eFWD\n19z90eNfX33uOrzcXhEXY/onhK41cvfWwQ1b/3a87NPVdXRNCAlAAABAQwgCJnt8+MzzXyBV61/e\nY9gf8SgnS61v2pc9r5zLPw6lF4aWmaK5d5shLDs5FfvvmiH3tR2BrtfB3V4Jd7l27dZl765/q+5N\n+9xZ/3YRoq4nhQ5Xnz/9+frrAhAAANAQgoBJThFoiursX3m+mcg84lEutj7fJFf7miTKNw4d40Iq\n93mLILT0xFTcx9R3X5sI1HUeUNf/w3I5sXPrsvVzFuq7TMz1b5eXPcad66mfduw5/3r9nIQEIAAA\n4EQIAkaZF4DmqISj3RIi0rfNG9j5uZwkKvk5qy7+nb49R6Glw2WsoHwrBH318VtXn7t1RtDl6rfb\nl11i/dt5VLp1/k877lxe7+X5P83nTtNAAhAAAHBNCAIG2y4CTWHqaF9MGKVNKBqi/CmifB7fKThs\ne3+rVYPa8HN4JlxziPUYLmNQOwLdWul2PbFza03c/RVx99a/dcWgcHn5G+f/tOPOeRhq//n6/J/j\nxwIQAABwmxAE3JVXAJrD1NH+5LvSqixCUZ9yA1EujyuFc4XW+x1Z7rHGeQzN78N5ABq2/q1rqqf5\n/rnr3/rO/gnhOiDdCkC3olJfAHqq34X//fG/zeGXCQAA2IgQBPTaTwSawtRR2USiNIhE10peMZd6\nHNo+Cq1xbtdSjzHOfa/CH31wPA+oc6VbdX+q5/j56zOCLq+va5XceZy5TEYd00I31r+F55N8uq5X\nAAIAAGITgoCbRKAltOOR927KZE3dOi7zkOe5eQ7KiUNpR6Gqetzutlc5Oy3+qrgYK+K++sFfD5r+\n6Z4Suv5sVyi6vK4Q7q1/67j8zfVv98//aUeidgA6PH+vAAQAAIwlBAFXBKCNFbsGCpFoba3JmZ0+\n19dv5Of6PKx5Vs44W54nFPPsnZu3EXk6aE7E+sPnSaBG98TO/emfWyvi1lr/dut625HoPAAdv1cA\nAgAAphKCgDMiUE5MF5VPFFzKGm+gp6sKpz6U63OQ6s9vi9Vxy69PjH1O1ZQY1I5AU9a/3bxM1bHO\nbcT6t+v7cvlx9/k/7cs1l6lb/3e89wIQAAAQhxAEhBAEoP2onGlUrFTfGM/N5cK5vTynucehlF7/\nzYq+dYPQsuvi4q6JG3tfmwh0ObHTPf1zjCjtjy8v1bX6bez0z/V9ibP+7fjxUziugHsvAAEAAFEI\nQYAIxB3iURmqG39mqP1NETVBI7fHvPZETp91J4SWfo3GeixjQtAffPCtaOvf7p390/VxfTnFc3Vf\nute/tb/WNf1z/vVTAKrDIRzqJwEIAACISgiCHXt4+KURfwFUV/+E26yty5NYNN3y67m2l2MYSiPe\nHQPKWvdjuddirBVxQ4LV77/6q7OPuyZ7rta0hev1b/dWv52u5XyK6Gyi587ZQbfO/+mKROdRSAAC\nAADWIQTBTo2LQFNVwhE9qhCyekOZozTeWE/fPlbMrX8ezlTVxb+3st6E0DKr4mKtiOuPVe0IFGv6\n597qt87r7Vn/1l7t1nfdTQC6XB1XP3+/AAQAAKxBCIIdWicCTdF+W8j7IbSZMMpHLmFgK5dvf5f1\nej5FgtQf15av0zVjUPxwu/R6uN9/9Vedkz0h3A9A91e33Zormrb+7fZ13zv/JwhAAADAqoQg2JF0\nA9B0yx6OTf5MHaXDJFG/EkN4Dqvktv3fkDVWxsWPQXGmgrr+9/v3Xn3zKtNcrmnrSjn9kzvdq+DC\nxbWMWf/Wvr57kUgAAgAAUiAEwU6UGIH6OdOIe6qzf3mdbOnyufezOCotDsVaK7aELUPl8hNC8f+j\nibk/y+vVcF959c2zj8euf+uaCpG36QAAIABJREFU9rkOQNfr4GKuf2t/XgACAABSIgRB4fYXgOYo\n7U1X4jFZtD3Tf40l1n2t7RgRUnwMW92v/GLQ3Pvb3J/zAHQ5hXO9Iq6u+s/6uQ5CF9dZda+HG7L+\n7dbl2rfZDkDN5JEABAAAbE0IgkIJQGswdUQX5xmtp7rx530pIwylGPrWv0/Lroq7nsKZfE2zQ97x\nvjQRaOz6tynTP/fWxx2/5/75P8frrc8u077/xwD0HIMEIAAAIBFCEBRIBEqZqSOspFtHimFhLfHe\n8F/bad1YSvd/3dfSkjEo5lTQnHhXhYfwlVffvLv+rQ51qKvLQHT74+Pnbgegrsu3178d78Pc838O\noQ5P4f98/O9SehEDAAA7JwRBQQSgUolH+yMWLWt/kSjPqaGUzhRa9/mrqselrjniVND036P2OrjO\nNDNy/dvVRNHd7386+3jI+rf252+d/1OHgwAEAAAkSQiCQohAnBOPyiYUxbWvFXP5RaFUglAZMSjO\nVND0n0kTgS6nf0JYfv1b39k/57dXt2JP+z4JQAAAQJ6EIMicAEQ84lF5mmDk5zlNimvKltD87qf/\nONM5S2it+1FFf8yx1sONvV/HVXDhKu5crn+7N/1z/NxFMOpdH3c60+deXOqe/qlb33l4+bMABAAA\n5EQIgoyJQKxHJCpWMm+s56T0QJTHGUPHiZQt7+cat79ECJp/v8c+9//i1V9ezf/cm97pCkLt9W9z\npn+up3zqG58/n/4JIQhAAABAloQgyNDDw5uBv7j7WndEaqqrf5IRgWikraPEMmJNjyxn67Vxy//c\njyEo7m3M/bmOCUG/++ovX/58b3onhHHr37qnhboDUPuyt88IOl2mHYDq+vA8D/Qu/ODjvy3vFx0A\nACieEASZGR6Bpir9v3QnJZXXW4acTzRMiSE+7RVy266NW/a2Y8egtUJQE4Hq6jzY3F//drHe7e73\n317/dm/12+n7m8+fn/9z/NN7AQgAAMiaEASZWD4ATVXim52k6/JtaK+59FTOJOpU1t+VMdaLLWWb\nILT08xFzRdzc1X/3p7CaAHRvemfM9E/35e+vf7sVia7OGQqHq/VvdXgSgAAAgCIIQZC4dAPQHKZA\nWIp1dOlqTxL52ZQThprftrQewzbnBy17mzGnguZNBPWHoN959a/O1r/dn/4Zu/6tvpjgub/+re/s\nn7PPOf8HAAAolBAECSszAk1RyhumpGPufxFPPJU49CLdKZuh0jpTaKvzg5Z6DmJNBc35+6//Of3w\n9Tde/nxrQqdxDDZj1r+1w8249W/t22qvfnu5nAAEAAAUTgiCBAlAMZg6Io6UV2AVb9MzX1KR53OQ\nVhBae13ccn9nVNVjjGtZJAR9+Pobya5/O655O32urs8/FoAAAIDSCUGQEAFoS6aOmE4sWtluA1F+\nr7OUfjfWXRe3zGt02xDUHYE+fP2NAevfzj+uQ322Pm7p9W/t1W/Nx+IPAACwJ0IQJEIEypF4xDAp\nvRleriqETdaAbSW311Qq6xjXXBcXOwbFWQ03dVqrK6T99uu/OPs45vRPzPVvzeq3OjyFH3z8tym8\nEAEAAFYlBMHGBKC9EY84JxIt5fk53UUcymsV5tZr49ZbExf/d/t43+dd55Tnvy8Cda2D6wtA3ZeP\nsf6tDper4I4r4AQgAAAAIQg2IgBxmzBAo2r98/xPTLGHqaE8/v7YPgat8TzFvo0YE0FTJrPOp6hu\nBaD2RE4IIdTV7Yme4+W7w87lZYeuf2s+117/JgABAAAcCUGwARGIeEwYsf2b6llb9dyYtaX+2JrQ\nudV9XGNNXNzfzblnBE2bBjp9z2+//ouo69/aXxt2uVMw6jv/56l+F374yX9I+cUPAACwKiEIViQA\nkQbxaA9Ob677GY9SbBhKOxZuFTOXXxMX8/U0byJoyhrK9u19+fWft75yPQ1UVxcfn61/q8+C0a0A\ndG/92/PMz9nnTuf/HKeBBCAAAIBrQhCsQAAiL0LRHpgiGqq0dXLphq4tXpPLr4iL+ZjmhqBx39vc\nVjsAXa5/GzP9cx52LkPSsPVvL2cA1YeXM4GsfwMAALhPCIKFPVSvj79kRb2RCF2Ehby1TyLy91W3\n5+eliL/P0wxCU6ZWotzqYj/TeI/nGGamXdf45/X4nDQRqG/92/X0z9D1b91TQu3Y1Lf+TQACAAAY\nTgiChbwEoDmKeLMRGiaNcrXNm/OZWHy12BpSewzV6jFyuRVxsX535kwDjX8+q+ohfPn1n51P7VTn\nwaf7rKDur59P+fRP/9xa/9Z8LAABAACMJwRBZFEC0FTCEVkTinJjvdyF7M8XSuvnuebra7kVcXGu\nt6oeJ9/+mAhUVVX4rdd/dva59de/NRNBdTjUh5evP9XvnP8DAAAw0Qdb3wEoxaYBqDEl7IpHJKO+\n8efG5WvVa3drl+uiQth5HKpb56dkGYUOIa2VcXVY677UdYn/czh2Eug8AvWvf+te63b55xjr3w71\nQQACAACYyUQQRJBEBFpCee+KUTxTRSmyWq7K9O/TFKLeemvi4q+H23YaaEyUbSaBxqx/u4xDsde/\nCUAAAADxCEEwQ7EBaI4s3+xkX8SiFOwzDuUYhLaPQWtNmcVfDxfj+qadDTTmOfvymz8ftf7t9vTP\nlPVvxwDUfOz8HwAAgGUIQTCBABRRdm+Ksg97jBRbW2/yIxnRJ1CWksLvw/Kvj/QmgpaPQF96+6cv\nf76MOkPXv92aEjr/3tvr347/fAr/9+N/v/WLDAAAoFhCEIwgACVCPGJTubx5n7P2W/47+H3PIght\nH4OWngyKPxE07/4eI9C4+zP8OarCl97+yxBC/1TPedg5XwV3b/qnboUk698AAAC2JQTBAAJQ5oQj\nVmHl3LJ2MDEUPUQsYbtotXwIinn9608DDX1+vvT2T6+iTghD17/dnhK6v/6tiUICEAAAwNqEILhD\nBNop8Yiocpj4yMta58ZsJukpoa2C1bIxMG4Imn5dS04C/cbbPzn7uL3WLYS+9W+3poSGrX9rbuep\nfh9+9Ml3/A8sAADAyj7Y+g5AqgSgnbsXyYUiRrk8e+NSym/6p6n9BvQpDhT0e1kfEo9BW6hDHj/j\n6fdxqQh0HYBurXUbu/7tcBWFrH8DAABIj4kguCAAsRjxiMEKDBsrqhI4zyaqZFfGrR+qlvzZxpkI\nmn7/xkegYRNSpwh0e63bdeTpmhI6RaLL6Z8QrH8DAABImRAEzwQgNicU0csZROM1b5OX8HxVCf4d\nsXagWm41XBUttk27nrERaGgQ+423f9Kz1m3c9M/x87fXvzXXIQABAACkRwhi9wQgspbcG8OsL9Vp\nkfQUca5Qcuvi1r0/S/0Mt50Gqkbd/tBVcLfCzuFiVeW9AHRoTQj1rX+rw8H5PwAAAIkSgtgtAYjd\nEIt2SBzqk30Q2nEMWuJnt2UEGj8JdP++/vrbr7/8ecj6t8spoebzpn8AAADK8cHWdwDWJgCxO/eC\nv1BUoNObuUfOHGpr3sjO9iyh+hDSWhVXhyyfx2imTwIN/b4xAWje+rf65fMCEAAAQDlMBLEbAhDM\nkMwbzsQhDJ1b7uyZxSUzHbTO/Yg9ERRnGmj8dYyZBLr/mKvw62+/1rP+rb4456dr/dtT67LPE0EX\n69/qUIdDfQg/+uQ/ZvrLAgAAsF9CEMUTgGAlYlEBUokK28lybVyVwmTTGs9b3GBXRXnexj7uMecB\n3X+8X3z7tbOJn/PIc2/6Z/j6N+f/AAAA5M1qOIomAsGKhvyHBWJR4tpTBBkGkQhOa+Myevw72cwW\nf2pr3QgUdwoohF97+8fPsz6Hs8/fC0DHCZ/67HPWvwEAAJTNRBBFqqpXZy/sbFf+wB6IQxlIYeJk\nfdmdIbTpmrhlbzv2z2L+SrixEehx+GXvXPevvf3jEEJX5Lk+F6hunRd2mv6pT5eq23Ho+PWn+sn6\nNwAAgMIIQRTlMgDNuq6c3vyDkglFCcoskESQxYTQpivilg5B8a5/XgQa/xwPjUD3HmNVVeGfvvnq\n2So4698AAAAYQgiiCDED0OT7sLM3RWFT4lAiqot/ly39GFRt9LuxbICKOw1UPZ8NNO17t4hAVVWF\nL7z5w9Zn6ovQcx2ADq1A1B2AnpfK1YdwqN+HH3/63X38EgMAAOyUEETWUghAc4hHsBChaCOph5L5\nkl8Xt9l6uOWel1gBrpo1MTXue+NNAT2EL7z5gxDC+fTP+fq3vumfw8ulj/9+ev78U/ih9W8AAAC7\nIQSRpdwD0FTCEcwkEK0k8VgyW5Xu38ebrIdbMgLFue55EWhMiKoGrZ4bsgaumQK6t/6tbk0IWf8G\nAABAFyGIrOw1AM2R7JuVkAJhaGHlBqF018RtsR5uqZ9znOA2PQKtPwXU3NdfffN7IbTOAjoFoNMk\n0Gn9W+tzrQDUrIATgAAAABCCyIIAtB7hiN0ThxZQZhBKdk3cquvh0l4JN2Q6p9u47xsSgYYFoK+8\nfK5r+uf4+cv1b9fTP3WoQ10frH8DAAAghBDCB1vfAegjAK2vDuOfcvGIonT9BxLi0Ex1OE03pDpJ\nM14dEsxAhbxWc4lAwwJQfyyrqoe7Aeg44XN+JpD1bwAAAAxlIogkCUBlEYooTiFvtm+rnCCU3Jq4\n1SaClpkG2i4CjXk8988CGhKAQgjhV9985Xm5WxN6TuH0NP1Th2YFXF2349Dx6wIQAAAAfYQgkiIA\n0RCPyIowNFGiq9VGSmpF3OTzcCbdWPTbivFcTotAsaeA+tbAnQLQnPVvx/hTh7p+H3786X9O5AUI\nAABAioQgNif+MIVQRLJEoZESiigzJDMVlPE00PwIVD2ftTPWsOcsVgAKIYRfefO7z386TQI18ef4\nWevfAAAAiMcZQWxGAGKOMWcZiUas6vI/sBCG7ijz/KCyLRGB5v3sq0mTUPGmgPoiVvu+NQFoyPTP\nyyq41vq3Q/0+/PjT7/pLBQAAgFGEIFYnALE20YhNtcOQKHRHHXKdDqpDncDfH2uuhIt5bXMi0JQp\noOHR6H4AGjcBdJrsObTOBLo//VPXT9a/AQAAMJkQxGoEIHJwLxpt/0YvWROF7mieH8/NJKu8puJO\nbc2JQEueBXS87v7n89Z9v7xfn3/zO6fY8zL900zC1eFQn+LQ8SsH698AAACIyhlBLE4AYk+EIiYR\nhTrktSZu/vk2c+/AGrcf82dSzfr7cnwEWuMcoPPppM+/+fDlz7fWv7Wnf46fP4RD/c70DwAAAFGZ\nCGIxAhB7dGuiSCCiV/MfZQhCLXmtidv+3uYTgeZFsymr4GJEoNvhqut8os+/+fAl/oRg/RsAAADb\nMhFEdAIQjCcUcUUUCmPOctnavHNu5t740rcd6/rnTAFtFYCGr4AL4TwAvcSe+vw8oPb0j/VvAAAA\nrEEIIhoBCOITiBCE8lgRt10IqhZ+jcSJcXOmgMavgRt2W9MD0PX1/5M3/7w15XN7+qeu6+MpQNa/\nAQAAsCIhiNkEINiGSLQju45BeUwFbRaCFpsGive8z3luxkWgpQPQ9ef/8Zt/9vyn+mXqp2/921P9\nLnz06ffSf0EDAABQFCGIScQfSJdAVLDdBqG0p4LmnXkz54bLjUBdUzf9htxO1RuWxgSgKjyEf/Tm\nt3qnf46ft/4NAACA7QlBjCIAQZ7EocLsLgilHoI2uH/JR6Cp5wGNPQvo/vNwDDm3rzN2AGriT10/\nWf8GAABAEoQgBhGAoCzCUAF2FYPSDUHbRKClJpBiPJapAWjsGrghASjeCrgqPITPvfnNEEIIdX14\nWQNXh8NzBKpN/wAAAJCsD7a+A6RNAIIyNW9itolDmanrncUgQggLTgLNv96pK/JiB6DYK+CaANS3\n/u1Qvw8//vS7fiEBAABIkokgOglAgDCUkeKD0EZn8Nyx+jRQwpNA056L2GvgYgWg01TT5978pvVv\nAAAAZE8I4oX4A9wiCiWu6BCUagRa+X4tEoHmX+fyAej+few/A+jWqrrr+9B+LJ99/cUQQjM9WZ9N\n/1j/BgAAQG6shkMAAu66XCUnDMGaEWiJyaO51zntLKDha+CGRapb5wDdCnW31r81TgHofPonhBAO\n9TvTPwAAAGRJCNoxAQiYShhKTDPdW/RkUDrWWwlXLfAzTT0AhbDECrhxAagOdThY/wYAAEAxhKAd\nEoCA2JowJAgRX0qvqWkRZNpNpTcFNCWAVaNW2vVf/63pnxCGTwBdXu6zr794jD3hcDb9Y/0bAAAA\nJXFG0I4IQMBaBKENFTUVlNL5QDlHoLnP4/jHPjwADTkDqC8AdT9X1wHo4errv/zqC8H0DwAAAHsg\nBBVO/AG2JgqtSARayFoRKPYquC0CULwVcMfr6r79uQGoDk8hhPASgJ7qd+GjT7+XygsOAAAAorIa\nrlACEJAKa+PI2a2VY/FvKPbtTJ8qmvqYh0egOSvgus7/ub6/7cs196sJQE/1uxBCCIf6nekfAAAA\ndsFEUGEEICB1gtDCipgKSmMaaMqZONNuKObtrH0OUPUcYu5fLvYKuK7w1BWAPvPqV0IIwfo3AAAA\ndksIKoQABOREDFqICBTxXqwQgaKfBTRnCmjc98ZdATcvAHWtfwvhGIDqug718zlAP/rkO9u/sAAA\nAGADQlDGxB8gd4LQArKOQSLQNOuugVt6BVz38389edQ1/RPCMQCZ/gEAAIATIShDAhBQEjEooqwj\nUAhz15rNV63weqwi/pzWmwBaYwXcnPVvIVThM68+/xKAnup34aNPv5f7LwQAAABEIQRlRAACSiUG\nRZJtCEphEmjhCFTFfIzrnQNUDb7f96Z/Hm5ez5z1b1X1GN4+fi6EEEIdnsKPPvlPW7+QAAAAIDlC\nUOLEH2AvxKCZso1AIWw9CbT4Krgk1sCND13DVsD1h6Lb5/9035++ANT+WhOArH8DAACA+4SgRAlA\nwB6JQTNkGYK2nQTKJwBNf57GnwE0dAVczPN/hgWgZqqoCUA/+uQ7Ob7oAQAAYHVCUGIEIGDPhKCJ\nRKAJt75kBErhHKBxE0DDpn9C6L8/1c3rmbv+LYQQ3j7+w3Co35v+AQAAgJGEoEQIQABHYtBIItDI\nW17wtpM4B2j9AHR7/dv4AHS5/i2EEN48ftb6NwAAAJjhg63vwJ6JPwDMkl0EKjQAhRBxDdy06xn7\n+KpB0ereZeJNAF1O/1ThIbx+/GXr3wAAACACIWgDAhAAs2UXgRY+j6fHomvgNg9A475v2ARQvPN/\n+te/nc4jagegVw+/ZPoHAAAAIhKCViQAARCFCDTIsgEo1oRRSivg+h9TrAB0uf6tmf55qt+Fjz79\nXm4vbgAAAEieELQw8QdgOOcDDZBVBNpyFdxCEWjzCaAxz+lp4mb6fVl2/ZvpHwAAAFieELQQAQiA\n6LKJQAUGoBAiRaDlV8ANm/7pvy9zpn/a00rts4gEIAAAANiGEBSZAATAIkSgO7e6VACqIj33qQSg\ndde/Hf9dhSo8hKp6CD/56X/N5YUMAAAAxRCCIhB/AOazFq5HNhFo/bOAllsBt+UZQEuc/7Pd+jcB\nCAAAALYlBM0gAAGwKAGox7hYMu6qS1oBt8z6t/ZZRe2vHa/z+LN5fHgTPvr0e7m8iAEAAKBYQtBI\n4g9AfKaBOmQRgdZfA1ctdptbroCLPQG09vo30z8AAACQMiFoIAEIYBkiUIfkI1BB5wBtuAJuTNSq\nBt3PWOvfqufb676MAAQAAAB5EYLuEIAAliMCXUg+AIVQzjlAMSaApkWkfNa/XcefJig1X/v4Z3+X\nw4sWAAAAdk0I6iD+ALC65CPQ2gFoqTOAYgSgFM7/sf4NAAAAGEYIahGAANZhEqgl+QC0xTlAqa6A\nG38d8de/hTB+Aug6ql2HptNl2l9rB6CH6lX4fz/9L6m/YAEAAIALQlAQgADWJAI9Sz4AFbICbtBq\ntXuWnQAatv5t/ASQ6R8AAAAghB2HIPEHYH0i0DMRqGWhFXAbBaBxE0Bpnf8jAAEAAECZdheCBCCA\n9QlAz5IOQFbAPV/BpO+Pe/5PCEsEoK7401xf87WPf/Z3Kb9IAQAAgAl2E4IEIIBtiEBBALq6xRRX\nwC27/i2EIQGo7+vVje+/f/6P6R8AAADYt6JDkPgDsK3dR6CkA1AI+a+AqyI8x3tY/1aF6vl5agcg\n0z8AAACwD0WGIAEIYHsiUKqPf90JIOvfpt2H4QHoFHkuv36a/nk4Xk78AQAAgF0qJgSJPwBpEIBS\nffwlBKC517l0ADqPMt36pn+OwWbI7Y9d/yYAAQAAwH5lH4IEIIA0CEApP/71VsCNWZs2/Epj3P9x\n15HD+rf2fTz7fPUYqlCFj3/231J+UQIAAAAryTYECUAAaRCAUn38JoCmPAfbr3+7PktpzPTPJz/7\n76m+IAEAAICNZBWCxB+AtOw6AglAz7eWYgAa+/3X8aX3srPWv02b/jm/zOk+VNWj+AMAAAD0yiIE\nCUAAaRGAUpT7+re517n19E8IcQLQeWjqmv45XuZBAAIAAAAGSTYEiT8A6RGAUrRmACph+mfN9W9V\n5/d3hbSh69/EHwAAAGCs5EKQAASQHgEoReutgCsjAA1f/1YNmk5aYv3b6T62P//pz/9Hqi9CAAAA\nIAPJhCABCCBNu4xAycafELJeAbfJ+rfh3zNv+md4ALoMTV3TP+IPAAAAEMumIUj8AUjXLgNQCIlG\noPWmf463Fjk2bbL+behzdn4mz9jbP4ab6++/P/1zHYDEHwAAAGAJm4QgAQggTbuNPyEIQCNWpw2/\nynTP/7k//dN/+1PXv4k/AAAAwNpWDUECEEC6dhmBkow/Iay7/i329M/669+O3xUrAPXdfnXj+68j\n2q3pn5/+4n+m+qIDAAAACrV4CBJ/ANImAKXC+rfRNznwObs8k2fs7U+d/mkuI/4AAAAAW1osBAlA\nAOnaZfwJIdEAtN70T/z1b1WE5zT/9W+XoUn8AQAAAFISNQSJPwBp22UASjL+NNaJQOlN/0yZfhoe\nse4HoL748xC67tu96Z+f/eLvU36hAQAAADsWJQQJQADpE4FSsd4KuPQCUP7TP+3bEn8AAACAHMwK\nQQIQQNp2GX9CSDQArTX9Ezk0DTpfp/cKJn1/vADUf/vdAeh6+qiqHoQfAAAAIEujQ5D4A5C+XQag\nJOOP6Z9RNzn4+aqez+WZdvtjpn9+/u77Kb6wAAAAAAYbHIIEIID0CUCpWCsADT83Z8x1zntO817/\nJvwAAAAApekNQeIPQPrEn5Rkuv4thJkTQFPuz/CIdT8A9X296vz+Jv4IPwAAAEDpOkOQAASQPgEo\nFRmvfwthZgBacvpnyPM6fvrnF+/+V4ovIgAAAIDFnIUgAQggfQJQKtaZ/llk/dugyHLzmyd9b7z1\nb/23fxmAhB8AAABg76q6vm4/ghBAenYXgJKMPyGst/6thOmfodGoep4Amnb7x3h0/H7hBwAAAOBc\nZwiadEXiEcAiBKAU5Lz+rZr5nC65/m3I5frXvwk/AAAAAP2ihaDRNywcAdy0u/gTQqIBaK3pnwVC\n06zpn3TXv717/4MUXygAAAAAydosBI0lHAF7sLsAlGT8yXn6J2yw/m1o/BnyvJ5fl+gDAAAAMF82\nIWgK8QjIhQCUgrUCUBX/5z0osvTZcv3b8b6LPgAAAADLKDoEjSUcAWsSf1Kx1vq3/Kd/xkSsewHo\n3fsfpvqCAAAAACiKEDSTeASMJQClIOf1b9XM53T96R/RBwAAAGA7QtAGxCPYn93FnxASDUDrTP+E\n0PzMIz4Hs6Z/pt2XsQFI8AEAAABIjxCUAeEI8rW7AJRk/Alh3QAU+bZWXv82NGC9f/pxqj9sAAAA\nAFqEoEKJR7AtASgF661/G3N2zrCrm3vf461/E3wAAAAA8iYE8UI8gnl2F39CSDQA7XX6Z0o8OgUs\nwQcAAACgTEIQs4hHIAClYc3pn9QC0LjvfXr6KLUfHgAAAAALEoLYhIBE7nYZf0JIMACtOf0TOTbN\nWv/W/71iDwAAAAANIYhsiEekYJcBKLn4E8J+17+dvlfsAQAAAGAIIYhdEJGYSwBKwZrr36rIP/Nq\n9PP59PST1H4AAAAAAGRICIIeAtK+7TL+hJBgACpv+kfkAQAAAGAtQhAsSEjK0y4DUHLxZ83pn7gB\n6OnwSWpPJgAAAAA7JgRBwoSkdQlAKVhz+mdcbBJ4AAAAAMiREAQ7ICjdJv6kYv31b8IOAAAAAHsg\nBAGjlRCWBKAUzF//djj8NLUHBQAAAABJEYKAJC0Rm3YZf0JIMAA9CDgAAAAAsBIhCGCEh+p1Hn9p\n9sSfw+HnIgwAAAAA7IQQBAAAAAAAUKj1TucGAAAAAABgVUIQAAAAAABAoYQgAAAAAACAQglBAAAA\nAAAAhRKCAAAAAAAACiUEAQAAAAAAFEoIAgAAAAAAKJQQBAAAAAAAUCghCAAAAAAAoFBCEAAAAAAA\nQKGEIAAAAAAAgEIJQQAAAAAAAIUSggAAAAAAAAolBAEAAAAAABRKCAIAAAAAACiUEAQAAAAAAFAo\nIQgAAAAAAKBQQhAAAAAAAEChhCAAAAAAAIBCCUEAAAAAAACFEoIAAAAAAAAKJQQBAAAAAAAUSggC\nAAAAAAAolBAEAAAAAABQKCEIAAAAAACgUEIQAAAAAABAoYQgAAAAAACAQglBAAAAAAAAhRKCAAAA\nAAAACiUEAQAAAAAAFEoIAgAAAAAAKJQQBAAAAAAAUCghCAAAAAAAoFBCEAAAAAAAQKGEIAAAAAAA\ngEIJQQAAAAAAAIUSggAAAAAAAAolBAEAAAAAABRKCAIAAAAAACiUEAQAAAAAAFAoIQgAAAAAAKBQ\nQhAAAAAAAEChhCAAAAAAAIBCCUEAAAAAAACFEoIAAAAAAAAKJQQBAAAAAAAUSggCAAAAAAAolBAE\nAAAAAABQKCEIAAAAAACgUEIQAAAAAABAoYQgAAAAAACAQglBAAAAAAAAhRKCAAAAAAAACiUEAQAA\nAAAAFEoIAgAAAAAAKJTovhqnAAAARklEQVQQBAAAAAAAUCghCAAAAAAAoFBCEAAAAAAAQKGEIAAA\nAAAAgEIJQQAAAAAAAIUSggAAAAAAAAolBAEAAAAAABTq/wMDwSR46LCHXQAAAABJRU5ErkJggg==\n\" transform=\"translate(327, 47)\"/>\n</g>\n<defs>\n  <clipPath id=\"clip343\">\n    <rect x=\"2160\" y=\"47\" width=\"73\" height=\"1440\"/>\n  </clipPath>\n</defs>\n<g clip-path=\"url(#clip343)\">\n<image width=\"72\" height=\"1439\" xlink:href=\"data:image/png;base64,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\nBYGCQOE/LrLuTX/wFc8AAAAASUVORK5CYII=\n\" transform=\"translate(2161, 47)\"/>\n</g>\n<path clip-path=\"url(#clip340)\" d=\"M2280.7 1468.62 Q2277.09 1468.62 2275.26 1472.18 Q2273.45 1475.72 2273.45 1482.85 Q2273.45 1489.96 2275.26 1493.53 Q2277.09 1497.07 2280.7 1497.07 Q2284.33 1497.07 2286.14 1493.53 Q2287.97 1489.96 2287.97 1482.85 Q2287.97 1475.72 2286.14 1472.18 Q2284.33 1468.62 2280.7 1468.62 M2280.7 1464.91 Q2286.51 1464.91 2289.57 1469.52 Q2292.64 1474.1 2292.64 1482.85 Q2292.64 1491.58 2289.57 1496.19 Q2286.51 1500.77 2280.7 1500.77 Q2274.89 1500.77 2271.81 1496.19 Q2268.76 1491.58 2268.76 1482.85 Q2268.76 1474.1 2271.81 1469.52 Q2274.89 1464.91 2280.7 1464.91 Z\" fill=\"#000000\" fill-rule=\"evenodd\" fill-opacity=\"1\" /><path clip-path=\"url(#clip340)\" d=\"M2274.38 1316.62 L2290.7 1316.62 L2290.7 1320.55 L2268.76 1320.55 L2268.76 1316.62 Q2271.42 1313.86 2276 1309.24 Q2280.61 1304.58 2281.79 1303.24 Q2284.03 1300.72 2284.91 1298.98 Q2285.82 1297.22 2285.82 1295.53 Q2285.82 1292.78 2283.87 1291.04 Q2281.95 1289.3 2278.85 1289.3 Q2276.65 1289.3 2274.2 1290.07 Q2271.77 1290.83 2268.99 1292.38 L2268.99 1287.66 Q2271.81 1286.53 2274.27 1285.95 Q2276.72 1285.37 2278.76 1285.37 Q2284.13 1285.37 2287.32 1288.05 Q2290.52 1290.74 2290.52 1295.23 Q2290.52 1297.36 2289.7 1299.28 Q2288.92 1301.18 2286.81 1303.77 Q2286.23 1304.44 2283.13 1307.66 Q2280.03 1310.86 2274.38 1316.62 Z\" fill=\"#000000\" fill-rule=\"evenodd\" fill-opacity=\"1\" /><path clip-path=\"url(#clip340)\" d=\"M2300.56 1285.99 L2318.92 1285.99 L2318.92 1289.93 L2304.84 1289.93 L2304.84 1298.4 Q2305.86 1298.05 2306.88 1297.89 Q2307.9 1297.71 2308.92 1297.71 Q2314.7 1297.71 2318.08 1300.88 Q2321.46 1304.05 2321.46 1309.47 Q2321.46 1315.05 2317.99 1318.15 Q2314.52 1321.23 2308.2 1321.23 Q2306.02 1321.23 2303.76 1320.86 Q2301.51 1320.49 2299.1 1319.74 L2299.1 1315.05 Q2301.19 1316.18 2303.41 1316.74 Q2305.63 1317.29 2308.11 1317.29 Q2312.11 1317.29 2314.45 1315.18 Q2316.79 1313.08 2316.79 1309.47 Q2316.79 1305.86 2314.45 1303.75 Q2312.11 1301.64 2308.11 1301.64 Q2306.23 1301.64 2304.36 1302.06 Q2302.51 1302.48 2300.56 1303.36 L2300.56 1285.99 Z\" fill=\"#000000\" fill-rule=\"evenodd\" fill-opacity=\"1\" /><path clip-path=\"url(#clip340)\" d=\"M2340.68 1289.07 Q2337.07 1289.07 2335.24 1292.64 Q2333.43 1296.18 2333.43 1303.31 Q2333.43 1310.42 2335.24 1313.98 Q2337.07 1317.52 2340.68 1317.52 Q2344.31 1317.52 2346.12 1313.98 Q2347.95 1310.42 2347.95 1303.31 Q2347.95 1296.18 2346.12 1292.64 Q2344.31 1289.07 2340.68 1289.07 M2340.68 1285.37 Q2346.49 1285.37 2349.54 1289.98 Q2352.62 1294.56 2352.62 1303.31 Q2352.62 1312.04 2349.54 1316.64 Q2346.49 1321.23 2340.68 1321.23 Q2334.87 1321.23 2331.79 1316.64 Q2328.73 1312.04 2328.73 1303.31 Q2328.73 1294.56 2331.79 1289.98 Q2334.87 1285.37 2340.68 1285.37 Z\" fill=\"#000000\" fill-rule=\"evenodd\" fill-opacity=\"1\" /><path clip-path=\"url(#clip340)\" d=\"M2370.84 1289.07 Q2367.23 1289.07 2365.4 1292.64 Q2363.59 1296.18 2363.59 1303.31 Q2363.59 1310.42 2365.4 1313.98 Q2367.23 1317.52 2370.84 1317.52 Q2374.47 1317.52 2376.28 1313.98 Q2378.11 1310.42 2378.11 1303.31 Q2378.11 1296.18 2376.28 1292.64 Q2374.47 1289.07 2370.84 1289.07 M2370.84 1285.37 Q2376.65 1285.37 2379.7 1289.98 Q2382.78 1294.56 2382.78 1303.31 Q2382.78 1312.04 2379.7 1316.64 Q2376.65 1321.23 2370.84 1321.23 Q2365.03 1321.23 2361.95 1316.64 Q2358.89 1312.04 2358.89 1303.31 Q2358.89 1294.56 2361.95 1289.98 Q2365.03 1285.37 2370.84 1285.37 Z\" fill=\"#000000\" fill-rule=\"evenodd\" fill-opacity=\"1\" /><path clip-path=\"url(#clip340)\" d=\"M2401 1289.07 Q2397.39 1289.07 2395.56 1292.64 Q2393.76 1296.18 2393.76 1303.31 Q2393.76 1310.42 2395.56 1313.98 Q2397.39 1317.52 2401 1317.52 Q2404.63 1317.52 2406.44 1313.98 Q2408.27 1310.42 2408.27 1303.31 Q2408.27 1296.18 2406.44 1292.64 Q2404.63 1289.07 2401 1289.07 M2401 1285.37 Q2406.81 1285.37 2409.87 1289.98 Q2412.94 1294.56 2412.94 1303.31 Q2412.94 1312.04 2409.87 1316.64 Q2406.81 1321.23 2401 1321.23 Q2395.19 1321.23 2392.11 1316.64 Q2389.06 1312.04 2389.06 1303.31 Q2389.06 1294.56 2392.11 1289.98 Q2395.19 1285.37 2401 1285.37 Z\" fill=\"#000000\" fill-rule=\"evenodd\" fill-opacity=\"1\" /><path clip-path=\"url(#clip340)\" d=\"M2431.16 1289.07 Q2427.55 1289.07 2425.72 1292.64 Q2423.92 1296.18 2423.92 1303.31 Q2423.92 1310.42 2425.72 1313.98 Q2427.55 1317.52 2431.16 1317.52 Q2434.8 1317.52 2436.6 1313.98 Q2438.43 1310.42 2438.43 1303.31 Q2438.43 1296.18 2436.6 1292.64 Q2434.8 1289.07 2431.16 1289.07 M2431.16 1285.37 Q2436.97 1285.37 2440.03 1289.98 Q2443.11 1294.56 2443.11 1303.31 Q2443.11 1312.04 2440.03 1316.64 Q2436.97 1321.23 2431.16 1321.23 Q2425.35 1321.23 2422.27 1316.64 Q2419.22 1312.04 2419.22 1303.31 Q2419.22 1294.56 2422.27 1289.98 Q2425.35 1285.37 2431.16 1285.37 Z\" fill=\"#000000\" fill-rule=\"evenodd\" fill-opacity=\"1\" /><path clip-path=\"url(#clip340)\" d=\"M2461.32 1289.07 Q2457.71 1289.07 2455.88 1292.64 Q2454.08 1296.18 2454.08 1303.31 Q2454.08 1310.42 2455.88 1313.98 Q2457.71 1317.52 2461.32 1317.52 Q2464.96 1317.52 2466.76 1313.98 Q2468.59 1310.42 2468.59 1303.31 Q2468.59 1296.18 2466.76 1292.64 Q2464.96 1289.07 2461.32 1289.07 M2461.32 1285.37 Q2467.13 1285.37 2470.19 1289.98 Q2473.27 1294.56 2473.27 1303.31 Q2473.27 1312.04 2470.19 1316.64 Q2467.13 1321.23 2461.32 1321.23 Q2455.51 1321.23 2452.44 1316.64 Q2449.38 1312.04 2449.38 1303.31 Q2449.38 1294.56 2452.44 1289.98 Q2455.51 1285.37 2461.32 1285.37 Z\" fill=\"#000000\" fill-rule=\"evenodd\" fill-opacity=\"1\" /><path clip-path=\"url(#clip340)\" d=\"M2491.49 1289.07 Q2487.88 1289.07 2486.05 1292.64 Q2484.24 1296.18 2484.24 1303.31 Q2484.24 1310.42 2486.05 1313.98 Q2487.88 1317.52 2491.49 1317.52 Q2495.12 1317.52 2496.93 1313.98 Q2498.75 1310.42 2498.75 1303.31 Q2498.75 1296.18 2496.93 1292.64 Q2495.12 1289.07 2491.49 1289.07 M2491.49 1285.37 Q2497.3 1285.37 2500.35 1289.98 Q2503.43 1294.56 2503.43 1303.31 Q2503.43 1312.04 2500.35 1316.64 Q2497.3 1321.23 2491.49 1321.23 Q2485.68 1321.23 2482.6 1316.64 Q2479.54 1312.04 2479.54 1303.31 Q2479.54 1294.56 2482.6 1289.98 Q2485.68 1285.37 2491.49 1285.37 Z\" fill=\"#000000\" fill-rule=\"evenodd\" fill-opacity=\"1\" /><path clip-path=\"url(#clip340)\" d=\"M2521.65 1289.07 Q2518.04 1289.07 2516.21 1292.64 Q2514.4 1296.18 2514.4 1303.31 Q2514.4 1310.42 2516.21 1313.98 Q2518.04 1317.52 2521.65 1317.52 Q2525.28 1317.52 2527.09 1313.98 Q2528.92 1310.42 2528.92 1303.31 Q2528.92 1296.18 2527.09 1292.64 Q2525.28 1289.07 2521.65 1289.07 M2521.65 1285.37 Q2527.46 1285.37 2530.51 1289.98 Q2533.59 1294.56 2533.59 1303.31 Q2533.59 1312.04 2530.51 1316.64 Q2527.46 1321.23 2521.65 1321.23 Q2515.84 1321.23 2512.76 1316.64 Q2509.7 1312.04 2509.7 1303.31 Q2509.7 1294.56 2512.76 1289.98 Q2515.84 1285.37 2521.65 1285.37 Z\" fill=\"#000000\" fill-rule=\"evenodd\" fill-opacity=\"1\" /><path clip-path=\"url(#clip340)\" d=\"M2551.81 1289.07 Q2548.2 1289.07 2546.37 1292.64 Q2544.56 1296.18 2544.56 1303.31 Q2544.56 1310.42 2546.37 1313.98 Q2548.2 1317.52 2551.81 1317.52 Q2555.44 1317.52 2557.25 1313.98 Q2559.08 1310.42 2559.08 1303.31 Q2559.08 1296.18 2557.25 1292.64 Q2555.44 1289.07 2551.81 1289.07 M2551.81 1285.37 Q2557.62 1285.37 2560.68 1289.98 Q2563.75 1294.56 2563.75 1303.31 Q2563.75 1312.04 2560.68 1316.64 Q2557.62 1321.23 2551.81 1321.23 Q2546 1321.23 2542.92 1316.64 Q2539.87 1312.04 2539.87 1303.31 Q2539.87 1294.56 2542.92 1289.98 Q2546 1285.37 2551.81 1285.37 Z\" fill=\"#000000\" fill-rule=\"evenodd\" fill-opacity=\"1\" /><path clip-path=\"url(#clip340)\" d=\"M2581.97 1289.07 Q2578.36 1289.07 2576.53 1292.64 Q2574.73 1296.18 2574.73 1303.31 Q2574.73 1310.42 2576.53 1313.98 Q2578.36 1317.52 2581.97 1317.52 Q2585.61 1317.52 2587.41 1313.98 Q2589.24 1310.42 2589.24 1303.31 Q2589.24 1296.18 2587.41 1292.64 Q2585.61 1289.07 2581.97 1289.07 M2581.97 1285.37 Q2587.78 1285.37 2590.84 1289.98 Q2593.92 1294.56 2593.92 1303.31 Q2593.92 1312.04 2590.84 1316.64 Q2587.78 1321.23 2581.97 1321.23 Q2576.16 1321.23 2573.08 1316.64 Q2570.03 1312.04 2570.03 1303.31 Q2570.03 1294.56 2573.08 1289.98 Q2576.16 1285.37 2581.97 1285.37 Z\" fill=\"#000000\" fill-rule=\"evenodd\" fill-opacity=\"1\" /><path clip-path=\"url(#clip340)\" d=\"M2612.13 1289.07 Q2608.52 1289.07 2606.69 1292.64 Q2604.89 1296.18 2604.89 1303.31 Q2604.89 1310.42 2606.69 1313.98 Q2608.52 1317.52 2612.13 1317.52 Q2615.77 1317.52 2617.57 1313.98 Q2619.4 1310.42 2619.4 1303.31 Q2619.4 1296.18 2617.57 1292.64 Q2615.77 1289.07 2612.13 1289.07 M2612.13 1285.37 Q2617.94 1285.37 2621 1289.98 Q2624.08 1294.56 2624.08 1303.31 Q2624.08 1312.04 2621 1316.64 Q2617.94 1321.23 2612.13 1321.23 Q2606.32 1321.23 2603.24 1316.64 Q2600.19 1312.04 2600.19 1303.31 Q2600.19 1294.56 2603.24 1289.98 Q2606.32 1285.37 2612.13 1285.37 Z\" fill=\"#000000\" fill-rule=\"evenodd\" fill-opacity=\"1\" /><path clip-path=\"url(#clip340)\" d=\"M2632.3 1314.68 L2637.18 1314.68 L2637.18 1320.55 L2632.3 1320.55 L2632.3 1314.68 Z\" fill=\"#000000\" fill-rule=\"evenodd\" fill-opacity=\"1\" /><path clip-path=\"url(#clip340)\" d=\"M2657.36 1289.07 Q2653.75 1289.07 2651.93 1292.64 Q2650.12 1296.18 2650.12 1303.31 Q2650.12 1310.42 2651.93 1313.98 Q2653.75 1317.52 2657.36 1317.52 Q2661 1317.52 2662.8 1313.98 Q2664.63 1310.42 2664.63 1303.31 Q2664.63 1296.18 2662.8 1292.64 Q2661 1289.07 2657.36 1289.07 M2657.36 1285.37 Q2663.18 1285.37 2666.23 1289.98 Q2669.31 1294.56 2669.31 1303.31 Q2669.31 1312.04 2666.23 1316.64 Q2663.18 1321.23 2657.36 1321.23 Q2651.55 1321.23 2648.48 1316.64 Q2645.42 1312.04 2645.42 1303.31 Q2645.42 1294.56 2648.48 1289.98 Q2651.55 1285.37 2657.36 1285.37 Z\" fill=\"#000000\" fill-rule=\"evenodd\" fill-opacity=\"1\" /><path clip-path=\"url(#clip340)\" d=\"M2687.53 1289.07 Q2683.92 1289.07 2682.09 1292.64 Q2680.28 1296.18 2680.28 1303.31 Q2680.28 1310.42 2682.09 1313.98 Q2683.92 1317.52 2687.53 1317.52 Q2691.16 1317.52 2692.97 1313.98 Q2694.8 1310.42 2694.8 1303.31 Q2694.8 1296.18 2692.97 1292.64 Q2691.16 1289.07 2687.53 1289.07 M2687.53 1285.37 Q2693.34 1285.37 2696.39 1289.98 Q2699.47 1294.56 2699.47 1303.31 Q2699.47 1312.04 2696.39 1316.64 Q2693.34 1321.23 2687.53 1321.23 Q2681.72 1321.23 2678.64 1316.64 Q2675.58 1312.04 2675.58 1303.31 Q2675.58 1294.56 2678.64 1289.98 Q2681.72 1285.37 2687.53 1285.37 Z\" fill=\"#000000\" fill-rule=\"evenodd\" fill-opacity=\"1\" /><path clip-path=\"url(#clip340)\" d=\"M2717.69 1289.07 Q2714.08 1289.07 2712.25 1292.64 Q2710.44 1296.18 2710.44 1303.31 Q2710.44 1310.42 2712.25 1313.98 Q2714.08 1317.52 2717.69 1317.52 Q2721.32 1317.52 2723.13 1313.98 Q2724.96 1310.42 2724.96 1303.31 Q2724.96 1296.18 2723.13 1292.64 Q2721.32 1289.07 2717.69 1289.07 M2717.69 1285.37 Q2723.5 1285.37 2726.55 1289.98 Q2729.63 1294.56 2729.63 1303.31 Q2729.63 1312.04 2726.55 1316.64 Q2723.5 1321.23 2717.69 1321.23 Q2711.88 1321.23 2708.8 1316.64 Q2705.74 1312.04 2705.74 1303.31 Q2705.74 1294.56 2708.8 1289.98 Q2711.88 1285.37 2717.69 1285.37 Z\" fill=\"#000000\" fill-rule=\"evenodd\" fill-opacity=\"1\" /><path clip-path=\"url(#clip340)\" d=\"M2747.85 1289.07 Q2744.24 1289.07 2742.41 1292.64 Q2740.61 1296.18 2740.61 1303.31 Q2740.61 1310.42 2742.41 1313.98 Q2744.24 1317.52 2747.85 1317.52 Q2751.48 1317.52 2753.29 1313.98 Q2755.12 1310.42 2755.12 1303.31 Q2755.12 1296.18 2753.29 1292.64 Q2751.48 1289.07 2747.85 1289.07 M2747.85 1285.37 Q2753.66 1285.37 2756.72 1289.98 Q2759.79 1294.56 2759.79 1303.31 Q2759.79 1312.04 2756.72 1316.64 Q2753.66 1321.23 2747.85 1321.23 Q2742.04 1321.23 2738.96 1316.64 Q2735.91 1312.04 2735.91 1303.31 Q2735.91 1294.56 2738.96 1289.98 Q2742.04 1285.37 2747.85 1285.37 Z\" fill=\"#000000\" fill-rule=\"evenodd\" fill-opacity=\"1\" /><path clip-path=\"url(#clip340)\" d=\"M2778.01 1289.07 Q2774.4 1289.07 2772.57 1292.64 Q2770.77 1296.18 2770.77 1303.31 Q2770.77 1310.42 2772.57 1313.98 Q2774.4 1317.52 2778.01 1317.52 Q2781.65 1317.52 2783.45 1313.98 Q2785.28 1310.42 2785.28 1303.31 Q2785.28 1296.18 2783.45 1292.64 Q2781.65 1289.07 2778.01 1289.07 M2778.01 1285.37 Q2783.82 1285.37 2786.88 1289.98 Q2789.96 1294.56 2789.96 1303.31 Q2789.96 1312.04 2786.88 1316.64 Q2783.82 1321.23 2778.01 1321.23 Q2772.2 1321.23 2769.12 1316.64 Q2766.07 1312.04 2766.07 1303.31 Q2766.07 1294.56 2769.12 1289.98 Q2772.2 1285.37 2778.01 1285.37 Z\" fill=\"#000000\" fill-rule=\"evenodd\" fill-opacity=\"1\" /><path clip-path=\"url(#clip340)\" d=\"M2270.21 1106.45 L2288.57 1106.45 L2288.57 1110.39 L2274.5 1110.39 L2274.5 1118.86 Q2275.52 1118.51 2276.53 1118.35 Q2277.55 1118.16 2278.57 1118.16 Q2284.36 1118.16 2287.74 1121.33 Q2291.12 1124.51 2291.12 1129.92 Q2291.12 1135.5 2287.64 1138.6 Q2284.17 1141.68 2277.85 1141.68 Q2275.68 1141.68 2273.41 1141.31 Q2271.16 1140.94 2268.76 1140.2 L2268.76 1135.5 Q2270.84 1136.64 2273.06 1137.19 Q2275.28 1137.75 2277.76 1137.75 Q2281.77 1137.75 2284.1 1135.64 Q2286.44 1133.53 2286.44 1129.92 Q2286.44 1126.31 2284.1 1124.2 Q2281.77 1122.1 2277.76 1122.1 Q2275.89 1122.1 2274.01 1122.51 Q2272.16 1122.93 2270.21 1123.81 L2270.21 1106.45 Z\" fill=\"#000000\" fill-rule=\"evenodd\" fill-opacity=\"1\" /><path clip-path=\"url(#clip340)\" d=\"M2310.33 1109.53 Q2306.72 1109.53 2304.89 1113.09 Q2303.08 1116.64 2303.08 1123.76 Q2303.08 1130.87 2304.89 1134.44 Q2306.72 1137.98 2310.33 1137.98 Q2313.96 1137.98 2315.77 1134.44 Q2317.6 1130.87 2317.6 1123.76 Q2317.6 1116.64 2315.77 1113.09 Q2313.96 1109.53 2310.33 1109.53 M2310.33 1105.83 Q2316.14 1105.83 2319.2 1110.43 Q2322.27 1115.01 2322.27 1123.76 Q2322.27 1132.49 2319.2 1137.1 Q2316.14 1141.68 2310.33 1141.68 Q2304.52 1141.68 2301.44 1137.1 Q2298.39 1132.49 2298.39 1123.76 Q2298.39 1115.01 2301.44 1110.43 Q2304.52 1105.83 2310.33 1105.83 Z\" fill=\"#000000\" fill-rule=\"evenodd\" fill-opacity=\"1\" /><path clip-path=\"url(#clip340)\" d=\"M2340.49 1109.53 Q2336.88 1109.53 2335.05 1113.09 Q2333.25 1116.64 2333.25 1123.76 Q2333.25 1130.87 2335.05 1134.44 Q2336.88 1137.98 2340.49 1137.98 Q2344.13 1137.98 2345.93 1134.44 Q2347.76 1130.87 2347.76 1123.76 Q2347.76 1116.64 2345.93 1113.09 Q2344.13 1109.53 2340.49 1109.53 M2340.49 1105.83 Q2346.3 1105.83 2349.36 1110.43 Q2352.44 1115.01 2352.44 1123.76 Q2352.44 1132.49 2349.36 1137.1 Q2346.3 1141.68 2340.49 1141.68 Q2334.68 1141.68 2331.6 1137.1 Q2328.55 1132.49 2328.55 1123.76 Q2328.55 1115.01 2331.6 1110.43 Q2334.68 1105.83 2340.49 1105.83 Z\" fill=\"#000000\" fill-rule=\"evenodd\" fill-opacity=\"1\" /><path clip-path=\"url(#clip340)\" d=\"M2370.65 1109.53 Q2367.04 1109.53 2365.21 1113.09 Q2363.41 1116.64 2363.41 1123.76 Q2363.41 1130.87 2365.21 1134.44 Q2367.04 1137.98 2370.65 1137.98 Q2374.29 1137.98 2376.09 1134.44 Q2377.92 1130.87 2377.92 1123.76 Q2377.92 1116.64 2376.09 1113.09 Q2374.29 1109.53 2370.65 1109.53 M2370.65 1105.83 Q2376.46 1105.83 2379.52 1110.43 Q2382.6 1115.01 2382.6 1123.76 Q2382.6 1132.49 2379.52 1137.1 Q2376.46 1141.68 2370.65 1141.68 Q2364.84 1141.68 2361.76 1137.1 Q2358.71 1132.49 2358.71 1123.76 Q2358.71 1115.01 2361.76 1110.43 Q2364.84 1105.83 2370.65 1105.83 Z\" fill=\"#000000\" fill-rule=\"evenodd\" fill-opacity=\"1\" /><path clip-path=\"url(#clip340)\" d=\"M2400.82 1109.53 Q2397.2 1109.53 2395.38 1113.09 Q2393.57 1116.64 2393.57 1123.76 Q2393.57 1130.87 2395.38 1134.44 Q2397.2 1137.98 2400.82 1137.98 Q2404.45 1137.98 2406.26 1134.44 Q2408.08 1130.87 2408.08 1123.76 Q2408.08 1116.64 2406.26 1113.09 Q2404.45 1109.53 2400.82 1109.53 M2400.82 1105.83 Q2406.63 1105.83 2409.68 1110.43 Q2412.76 1115.01 2412.76 1123.76 Q2412.76 1132.49 2409.68 1137.1 Q2406.63 1141.68 2400.82 1141.68 Q2395.01 1141.68 2391.93 1137.1 Q2388.87 1132.49 2388.87 1123.76 Q2388.87 1115.01 2391.93 1110.43 Q2395.01 1105.83 2400.82 1105.83 Z\" fill=\"#000000\" fill-rule=\"evenodd\" fill-opacity=\"1\" /><path clip-path=\"url(#clip340)\" d=\"M2430.98 1109.53 Q2427.37 1109.53 2425.54 1113.09 Q2423.73 1116.64 2423.73 1123.76 Q2423.73 1130.87 2425.54 1134.44 Q2427.37 1137.98 2430.98 1137.98 Q2434.61 1137.98 2436.42 1134.44 Q2438.25 1130.87 2438.25 1123.76 Q2438.25 1116.64 2436.42 1113.09 Q2434.61 1109.53 2430.98 1109.53 M2430.98 1105.83 Q2436.79 1105.83 2439.84 1110.43 Q2442.92 1115.01 2442.92 1123.76 Q2442.92 1132.49 2439.84 1137.1 Q2436.79 1141.68 2430.98 1141.68 Q2425.17 1141.68 2422.09 1137.1 Q2419.03 1132.49 2419.03 1123.76 Q2419.03 1115.01 2422.09 1110.43 Q2425.17 1105.83 2430.98 1105.83 Z\" fill=\"#000000\" fill-rule=\"evenodd\" fill-opacity=\"1\" /><path clip-path=\"url(#clip340)\" d=\"M2461.14 1109.53 Q2457.53 1109.53 2455.7 1113.09 Q2453.89 1116.64 2453.89 1123.76 Q2453.89 1130.87 2455.7 1134.44 Q2457.53 1137.98 2461.14 1137.98 Q2464.77 1137.98 2466.58 1134.44 Q2468.41 1130.87 2468.41 1123.76 Q2468.41 1116.64 2466.58 1113.09 Q2464.77 1109.53 2461.14 1109.53 M2461.14 1105.83 Q2466.95 1105.83 2470 1110.43 Q2473.08 1115.01 2473.08 1123.76 Q2473.08 1132.49 2470 1137.1 Q2466.95 1141.68 2461.14 1141.68 Q2455.33 1141.68 2452.25 1137.1 Q2449.19 1132.49 2449.19 1123.76 Q2449.19 1115.01 2452.25 1110.43 Q2455.33 1105.83 2461.14 1105.83 Z\" fill=\"#000000\" fill-rule=\"evenodd\" fill-opacity=\"1\" /><path clip-path=\"url(#clip340)\" d=\"M2491.3 1109.53 Q2487.69 1109.53 2485.86 1113.09 Q2484.06 1116.64 2484.06 1123.76 Q2484.06 1130.87 2485.86 1134.44 Q2487.69 1137.98 2491.3 1137.98 Q2494.94 1137.98 2496.74 1134.44 Q2498.57 1130.87 2498.57 1123.76 Q2498.57 1116.64 2496.74 1113.09 Q2494.94 1109.53 2491.3 1109.53 M2491.3 1105.83 Q2497.11 1105.83 2500.17 1110.43 Q2503.25 1115.01 2503.25 1123.76 Q2503.25 1132.49 2500.17 1137.1 Q2497.11 1141.68 2491.3 1141.68 Q2485.49 1141.68 2482.41 1137.1 Q2479.36 1132.49 2479.36 1123.76 Q2479.36 1115.01 2482.41 1110.43 Q2485.49 1105.83 2491.3 1105.83 Z\" fill=\"#000000\" fill-rule=\"evenodd\" fill-opacity=\"1\" /><path clip-path=\"url(#clip340)\" d=\"M2521.46 1109.53 Q2517.85 1109.53 2516.02 1113.09 Q2514.22 1116.64 2514.22 1123.76 Q2514.22 1130.87 2516.02 1134.44 Q2517.85 1137.98 2521.46 1137.98 Q2525.1 1137.98 2526.9 1134.44 Q2528.73 1130.87 2528.73 1123.76 Q2528.73 1116.64 2526.9 1113.09 Q2525.1 1109.53 2521.46 1109.53 M2521.46 1105.83 Q2527.27 1105.83 2530.33 1110.43 Q2533.41 1115.01 2533.41 1123.76 Q2533.41 1132.49 2530.33 1137.1 Q2527.27 1141.68 2521.46 1141.68 Q2515.65 1141.68 2512.57 1137.1 Q2509.52 1132.49 2509.52 1123.76 Q2509.52 1115.01 2512.57 1110.43 Q2515.65 1105.83 2521.46 1105.83 Z\" fill=\"#000000\" fill-rule=\"evenodd\" fill-opacity=\"1\" /><path clip-path=\"url(#clip340)\" d=\"M2551.62 1109.53 Q2548.01 1109.53 2546.18 1113.09 Q2544.38 1116.64 2544.38 1123.76 Q2544.38 1130.87 2546.18 1134.44 Q2548.01 1137.98 2551.62 1137.98 Q2555.26 1137.98 2557.06 1134.44 Q2558.89 1130.87 2558.89 1123.76 Q2558.89 1116.64 2557.06 1113.09 Q2555.26 1109.53 2551.62 1109.53 M2551.62 1105.83 Q2557.43 1105.83 2560.49 1110.43 Q2563.57 1115.01 2563.57 1123.76 Q2563.57 1132.49 2560.49 1137.1 Q2557.43 1141.68 2551.62 1141.68 Q2545.81 1141.68 2542.74 1137.1 Q2539.68 1132.49 2539.68 1123.76 Q2539.68 1115.01 2542.74 1110.43 Q2545.81 1105.83 2551.62 1105.83 Z\" fill=\"#000000\" fill-rule=\"evenodd\" fill-opacity=\"1\" /><path clip-path=\"url(#clip340)\" d=\"M2581.79 1109.53 Q2578.18 1109.53 2576.35 1113.09 Q2574.54 1116.64 2574.54 1123.76 Q2574.54 1130.87 2576.35 1134.44 Q2578.18 1137.98 2581.79 1137.98 Q2585.42 1137.98 2587.23 1134.44 Q2589.06 1130.87 2589.06 1123.76 Q2589.06 1116.64 2587.23 1113.09 Q2585.42 1109.53 2581.79 1109.53 M2581.79 1105.83 Q2587.6 1105.83 2590.65 1110.43 Q2593.73 1115.01 2593.73 1123.76 Q2593.73 1132.49 2590.65 1137.1 Q2587.6 1141.68 2581.79 1141.68 Q2575.98 1141.68 2572.9 1137.1 Q2569.84 1132.49 2569.84 1123.76 Q2569.84 1115.01 2572.9 1110.43 Q2575.98 1105.83 2581.79 1105.83 Z\" fill=\"#000000\" fill-rule=\"evenodd\" fill-opacity=\"1\" /><path clip-path=\"url(#clip340)\" d=\"M2611.95 1109.53 Q2608.34 1109.53 2606.51 1113.09 Q2604.7 1116.64 2604.7 1123.76 Q2604.7 1130.87 2606.51 1134.44 Q2608.34 1137.98 2611.95 1137.98 Q2615.58 1137.98 2617.39 1134.44 Q2619.22 1130.87 2619.22 1123.76 Q2619.22 1116.64 2617.39 1113.09 Q2615.58 1109.53 2611.95 1109.53 M2611.95 1105.83 Q2617.76 1105.83 2620.81 1110.43 Q2623.89 1115.01 2623.89 1123.76 Q2623.89 1132.49 2620.81 1137.1 Q2617.76 1141.68 2611.95 1141.68 Q2606.14 1141.68 2603.06 1137.1 Q2600 1132.49 2600 1123.76 Q2600 1115.01 2603.06 1110.43 Q2606.14 1105.83 2611.95 1105.83 Z\" fill=\"#000000\" fill-rule=\"evenodd\" fill-opacity=\"1\" /><path clip-path=\"url(#clip340)\" d=\"M2632.11 1135.13 L2636.99 1135.13 L2636.99 1141.01 L2632.11 1141.01 L2632.11 1135.13 Z\" fill=\"#000000\" fill-rule=\"evenodd\" fill-opacity=\"1\" /><path clip-path=\"url(#clip340)\" d=\"M2657.18 1109.53 Q2653.57 1109.53 2651.74 1113.09 Q2649.93 1116.64 2649.93 1123.76 Q2649.93 1130.87 2651.74 1134.44 Q2653.57 1137.98 2657.18 1137.98 Q2660.81 1137.98 2662.62 1134.44 Q2664.45 1130.87 2664.45 1123.76 Q2664.45 1116.64 2662.62 1113.09 Q2660.81 1109.53 2657.18 1109.53 M2657.18 1105.83 Q2662.99 1105.83 2666.05 1110.43 Q2669.12 1115.01 2669.12 1123.76 Q2669.12 1132.49 2666.05 1137.1 Q2662.99 1141.68 2657.18 1141.68 Q2651.37 1141.68 2648.29 1137.1 Q2645.24 1132.49 2645.24 1123.76 Q2645.24 1115.01 2648.29 1110.43 Q2651.37 1105.83 2657.18 1105.83 Z\" fill=\"#000000\" fill-rule=\"evenodd\" fill-opacity=\"1\" /><path clip-path=\"url(#clip340)\" d=\"M2687.34 1109.53 Q2683.73 1109.53 2681.9 1113.09 Q2680.1 1116.64 2680.1 1123.76 Q2680.1 1130.87 2681.9 1134.44 Q2683.73 1137.98 2687.34 1137.98 Q2690.98 1137.98 2692.78 1134.44 Q2694.61 1130.87 2694.61 1123.76 Q2694.61 1116.64 2692.78 1113.09 Q2690.98 1109.53 2687.34 1109.53 M2687.34 1105.83 Q2693.15 1105.83 2696.21 1110.43 Q2699.29 1115.01 2699.29 1123.76 Q2699.29 1132.49 2696.21 1137.1 Q2693.15 1141.68 2687.34 1141.68 Q2681.53 1141.68 2678.45 1137.1 Q2675.4 1132.49 2675.4 1123.76 Q2675.4 1115.01 2678.45 1110.43 Q2681.53 1105.83 2687.34 1105.83 Z\" fill=\"#000000\" fill-rule=\"evenodd\" fill-opacity=\"1\" /><path clip-path=\"url(#clip340)\" d=\"M2717.5 1109.53 Q2713.89 1109.53 2712.06 1113.09 Q2710.26 1116.64 2710.26 1123.76 Q2710.26 1130.87 2712.06 1134.44 Q2713.89 1137.98 2717.5 1137.98 Q2721.14 1137.98 2722.94 1134.44 Q2724.77 1130.87 2724.77 1123.76 Q2724.77 1116.64 2722.94 1113.09 Q2721.14 1109.53 2717.5 1109.53 M2717.5 1105.83 Q2723.31 1105.83 2726.37 1110.43 Q2729.45 1115.01 2729.45 1123.76 Q2729.45 1132.49 2726.37 1137.1 Q2723.31 1141.68 2717.5 1141.68 Q2711.69 1141.68 2708.61 1137.1 Q2705.56 1132.49 2705.56 1123.76 Q2705.56 1115.01 2708.61 1110.43 Q2711.69 1105.83 2717.5 1105.83 Z\" fill=\"#000000\" fill-rule=\"evenodd\" fill-opacity=\"1\" /><path clip-path=\"url(#clip340)\" d=\"M2747.67 1109.53 Q2744.05 1109.53 2742.23 1113.09 Q2740.42 1116.64 2740.42 1123.76 Q2740.42 1130.87 2742.23 1134.44 Q2744.05 1137.98 2747.67 1137.98 Q2751.3 1137.98 2753.11 1134.44 Q2754.93 1130.87 2754.93 1123.76 Q2754.93 1116.64 2753.11 1113.09 Q2751.3 1109.53 2747.67 1109.53 M2747.67 1105.83 Q2753.48 1105.83 2756.53 1110.43 Q2759.61 1115.01 2759.61 1123.76 Q2759.61 1132.49 2756.53 1137.1 Q2753.48 1141.68 2747.67 1141.68 Q2741.86 1141.68 2738.78 1137.1 Q2735.72 1132.49 2735.72 1123.76 Q2735.72 1115.01 2738.78 1110.43 Q2741.86 1105.83 2747.67 1105.83 Z\" fill=\"#000000\" fill-rule=\"evenodd\" fill-opacity=\"1\" /><path clip-path=\"url(#clip340)\" d=\"M2777.83 1109.53 Q2774.22 1109.53 2772.39 1113.09 Q2770.58 1116.64 2770.58 1123.76 Q2770.58 1130.87 2772.39 1134.44 Q2774.22 1137.98 2777.83 1137.98 Q2781.46 1137.98 2783.27 1134.44 Q2785.1 1130.87 2785.1 1123.76 Q2785.1 1116.64 2783.27 1113.09 Q2781.46 1109.53 2777.83 1109.53 M2777.83 1105.83 Q2783.64 1105.83 2786.69 1110.43 Q2789.77 1115.01 2789.77 1123.76 Q2789.77 1132.49 2786.69 1137.1 Q2783.64 1141.68 2777.83 1141.68 Q2772.02 1141.68 2768.94 1137.1 Q2765.88 1132.49 2765.88 1123.76 Q2765.88 1115.01 2768.94 1110.43 Q2772.02 1105.83 2777.83 1105.83 Z\" fill=\"#000000\" fill-rule=\"evenodd\" fill-opacity=\"1\" /><path clip-path=\"url(#clip340)\" d=\"M2268.76 926.906 L2290.98 926.906 L2290.98 928.896 L2278.43 961.466 L2273.55 961.466 L2285.35 930.841 L2268.76 930.841 L2268.76 926.906 Z\" fill=\"#000000\" fill-rule=\"evenodd\" fill-opacity=\"1\" /><path clip-path=\"url(#clip340)\" d=\"M2300.14 926.906 L2318.5 926.906 L2318.5 930.841 L2304.43 930.841 L2304.43 939.313 Q2305.45 938.966 2306.46 938.804 Q2307.48 938.619 2308.5 938.619 Q2314.29 938.619 2317.67 941.79 Q2321.05 944.961 2321.05 950.378 Q2321.05 955.957 2317.58 959.058 Q2314.1 962.137 2307.78 962.137 Q2305.61 962.137 2303.34 961.767 Q2301.09 961.396 2298.69 960.656 L2298.69 955.957 Q2300.77 957.091 2302.99 957.646 Q2305.21 958.202 2307.69 958.202 Q2311.7 958.202 2314.03 956.095 Q2316.37 953.989 2316.37 950.378 Q2316.37 946.767 2314.03 944.66 Q2311.7 942.554 2307.69 942.554 Q2305.82 942.554 2303.94 942.97 Q2302.09 943.387 2300.14 944.267 L2300.14 926.906 Z\" fill=\"#000000\" fill-rule=\"evenodd\" fill-opacity=\"1\" /><path clip-path=\"url(#clip340)\" d=\"M2340.26 929.984 Q2336.65 929.984 2334.82 933.549 Q2333.01 937.091 2333.01 944.22 Q2333.01 951.327 2334.82 954.892 Q2336.65 958.433 2340.26 958.433 Q2343.89 958.433 2345.7 954.892 Q2347.53 951.327 2347.53 944.22 Q2347.53 937.091 2345.7 933.549 Q2343.89 929.984 2340.26 929.984 M2340.26 926.281 Q2346.07 926.281 2349.13 930.887 Q2352.2 935.471 2352.2 944.22 Q2352.2 952.947 2349.13 957.554 Q2346.07 962.137 2340.26 962.137 Q2334.45 962.137 2331.37 957.554 Q2328.32 952.947 2328.32 944.22 Q2328.32 935.471 2331.37 930.887 Q2334.45 926.281 2340.26 926.281 Z\" fill=\"#000000\" fill-rule=\"evenodd\" fill-opacity=\"1\" /><path clip-path=\"url(#clip340)\" d=\"M2370.42 929.984 Q2366.81 929.984 2364.98 933.549 Q2363.18 937.091 2363.18 944.22 Q2363.18 951.327 2364.98 954.892 Q2366.81 958.433 2370.42 958.433 Q2374.06 958.433 2375.86 954.892 Q2377.69 951.327 2377.69 944.22 Q2377.69 937.091 2375.86 933.549 Q2374.06 929.984 2370.42 929.984 M2370.42 926.281 Q2376.23 926.281 2379.29 930.887 Q2382.37 935.471 2382.37 944.22 Q2382.37 952.947 2379.29 957.554 Q2376.23 962.137 2370.42 962.137 Q2364.61 962.137 2361.53 957.554 Q2358.48 952.947 2358.48 944.22 Q2358.48 935.471 2361.53 930.887 Q2364.61 926.281 2370.42 926.281 Z\" fill=\"#000000\" fill-rule=\"evenodd\" fill-opacity=\"1\" /><path clip-path=\"url(#clip340)\" d=\"M2400.58 929.984 Q2396.97 929.984 2395.14 933.549 Q2393.34 937.091 2393.34 944.22 Q2393.34 951.327 2395.14 954.892 Q2396.97 958.433 2400.58 958.433 Q2404.22 958.433 2406.02 954.892 Q2407.85 951.327 2407.85 944.22 Q2407.85 937.091 2406.02 933.549 Q2404.22 929.984 2400.58 929.984 M2400.58 926.281 Q2406.39 926.281 2409.45 930.887 Q2412.53 935.471 2412.53 944.22 Q2412.53 952.947 2409.45 957.554 Q2406.39 962.137 2400.58 962.137 Q2394.77 962.137 2391.7 957.554 Q2388.64 952.947 2388.64 944.22 Q2388.64 935.471 2391.7 930.887 Q2394.77 926.281 2400.58 926.281 Z\" fill=\"#000000\" fill-rule=\"evenodd\" fill-opacity=\"1\" /><path clip-path=\"url(#clip340)\" d=\"M2430.75 929.984 Q2427.13 929.984 2425.31 933.549 Q2423.5 937.091 2423.5 944.22 Q2423.5 951.327 2425.31 954.892 Q2427.13 958.433 2430.75 958.433 Q2434.38 958.433 2436.19 954.892 Q2438.01 951.327 2438.01 944.22 Q2438.01 937.091 2436.19 933.549 Q2434.38 929.984 2430.75 929.984 M2430.75 926.281 Q2436.56 926.281 2439.61 930.887 Q2442.69 935.471 2442.69 944.22 Q2442.69 952.947 2439.61 957.554 Q2436.56 962.137 2430.75 962.137 Q2424.94 962.137 2421.86 957.554 Q2418.8 952.947 2418.8 944.22 Q2418.8 935.471 2421.86 930.887 Q2424.94 926.281 2430.75 926.281 Z\" fill=\"#000000\" fill-rule=\"evenodd\" fill-opacity=\"1\" /><path clip-path=\"url(#clip340)\" d=\"M2460.91 929.984 Q2457.3 929.984 2455.47 933.549 Q2453.66 937.091 2453.66 944.22 Q2453.66 951.327 2455.47 954.892 Q2457.3 958.433 2460.91 958.433 Q2464.54 958.433 2466.35 954.892 Q2468.18 951.327 2468.18 944.22 Q2468.18 937.091 2466.35 933.549 Q2464.54 929.984 2460.91 929.984 M2460.91 926.281 Q2466.72 926.281 2469.77 930.887 Q2472.85 935.471 2472.85 944.22 Q2472.85 952.947 2469.77 957.554 Q2466.72 962.137 2460.91 962.137 Q2455.1 962.137 2452.02 957.554 Q2448.96 952.947 2448.96 944.22 Q2448.96 935.471 2452.02 930.887 Q2455.1 926.281 2460.91 926.281 Z\" fill=\"#000000\" fill-rule=\"evenodd\" fill-opacity=\"1\" /><path clip-path=\"url(#clip340)\" d=\"M2491.07 929.984 Q2487.46 929.984 2485.63 933.549 Q2483.82 937.091 2483.82 944.22 Q2483.82 951.327 2485.63 954.892 Q2487.46 958.433 2491.07 958.433 Q2494.7 958.433 2496.51 954.892 Q2498.34 951.327 2498.34 944.22 Q2498.34 937.091 2496.51 933.549 Q2494.7 929.984 2491.07 929.984 M2491.07 926.281 Q2496.88 926.281 2499.94 930.887 Q2503.01 935.471 2503.01 944.22 Q2503.01 952.947 2499.94 957.554 Q2496.88 962.137 2491.07 962.137 Q2485.26 962.137 2482.18 957.554 Q2479.13 952.947 2479.13 944.22 Q2479.13 935.471 2482.18 930.887 Q2485.26 926.281 2491.07 926.281 Z\" fill=\"#000000\" fill-rule=\"evenodd\" fill-opacity=\"1\" /><path clip-path=\"url(#clip340)\" d=\"M2521.23 929.984 Q2517.62 929.984 2515.79 933.549 Q2513.99 937.091 2513.99 944.22 Q2513.99 951.327 2515.79 954.892 Q2517.62 958.433 2521.23 958.433 Q2524.87 958.433 2526.67 954.892 Q2528.5 951.327 2528.5 944.22 Q2528.5 937.091 2526.67 933.549 Q2524.87 929.984 2521.23 929.984 M2521.23 926.281 Q2527.04 926.281 2530.1 930.887 Q2533.18 935.471 2533.18 944.22 Q2533.18 952.947 2530.1 957.554 Q2527.04 962.137 2521.23 962.137 Q2515.42 962.137 2512.34 957.554 Q2509.29 952.947 2509.29 944.22 Q2509.29 935.471 2512.34 930.887 Q2515.42 926.281 2521.23 926.281 Z\" fill=\"#000000\" fill-rule=\"evenodd\" fill-opacity=\"1\" /><path clip-path=\"url(#clip340)\" d=\"M2551.39 929.984 Q2547.78 929.984 2545.95 933.549 Q2544.15 937.091 2544.15 944.22 Q2544.15 951.327 2545.95 954.892 Q2547.78 958.433 2551.39 958.433 Q2555.03 958.433 2556.83 954.892 Q2558.66 951.327 2558.66 944.22 Q2558.66 937.091 2556.83 933.549 Q2555.03 929.984 2551.39 929.984 M2551.39 926.281 Q2557.2 926.281 2560.26 930.887 Q2563.34 935.471 2563.34 944.22 Q2563.34 952.947 2560.26 957.554 Q2557.2 962.137 2551.39 962.137 Q2545.58 962.137 2542.5 957.554 Q2539.45 952.947 2539.45 944.22 Q2539.45 935.471 2542.5 930.887 Q2545.58 926.281 2551.39 926.281 Z\" fill=\"#000000\" fill-rule=\"evenodd\" fill-opacity=\"1\" /><path clip-path=\"url(#clip340)\" d=\"M2581.56 929.984 Q2577.94 929.984 2576.12 933.549 Q2574.31 937.091 2574.31 944.22 Q2574.31 951.327 2576.12 954.892 Q2577.94 958.433 2581.56 958.433 Q2585.19 958.433 2586.99 954.892 Q2588.82 951.327 2588.82 944.22 Q2588.82 937.091 2586.99 933.549 Q2585.19 929.984 2581.56 929.984 M2581.56 926.281 Q2587.37 926.281 2590.42 930.887 Q2593.5 935.471 2593.5 944.22 Q2593.5 952.947 2590.42 957.554 Q2587.37 962.137 2581.56 962.137 Q2575.75 962.137 2572.67 957.554 Q2569.61 952.947 2569.61 944.22 Q2569.61 935.471 2572.67 930.887 Q2575.75 926.281 2581.56 926.281 Z\" fill=\"#000000\" fill-rule=\"evenodd\" fill-opacity=\"1\" /><path clip-path=\"url(#clip340)\" d=\"M2611.72 929.984 Q2608.11 929.984 2606.28 933.549 Q2604.47 937.091 2604.47 944.22 Q2604.47 951.327 2606.28 954.892 Q2608.11 958.433 2611.72 958.433 Q2615.35 958.433 2617.16 954.892 Q2618.99 951.327 2618.99 944.22 Q2618.99 937.091 2617.16 933.549 Q2615.35 929.984 2611.72 929.984 M2611.72 926.281 Q2617.53 926.281 2620.58 930.887 Q2623.66 935.471 2623.66 944.22 Q2623.66 952.947 2620.58 957.554 Q2617.53 962.137 2611.72 962.137 Q2605.91 962.137 2602.83 957.554 Q2599.77 952.947 2599.77 944.22 Q2599.77 935.471 2602.83 930.887 Q2605.91 926.281 2611.72 926.281 Z\" fill=\"#000000\" fill-rule=\"evenodd\" fill-opacity=\"1\" /><path clip-path=\"url(#clip340)\" d=\"M2631.88 955.586 L2636.76 955.586 L2636.76 961.466 L2631.88 961.466 L2631.88 955.586 Z\" fill=\"#000000\" fill-rule=\"evenodd\" fill-opacity=\"1\" /><path clip-path=\"url(#clip340)\" d=\"M2656.95 929.984 Q2653.34 929.984 2651.51 933.549 Q2649.7 937.091 2649.7 944.22 Q2649.7 951.327 2651.51 954.892 Q2653.34 958.433 2656.95 958.433 Q2660.58 958.433 2662.39 954.892 Q2664.22 951.327 2664.22 944.22 Q2664.22 937.091 2662.39 933.549 Q2660.58 929.984 2656.95 929.984 M2656.95 926.281 Q2662.76 926.281 2665.81 930.887 Q2668.89 935.471 2668.89 944.22 Q2668.89 952.947 2665.81 957.554 Q2662.76 962.137 2656.95 962.137 Q2651.14 962.137 2648.06 957.554 Q2645 952.947 2645 944.22 Q2645 935.471 2648.06 930.887 Q2651.14 926.281 2656.95 926.281 Z\" fill=\"#000000\" fill-rule=\"evenodd\" fill-opacity=\"1\" /><path clip-path=\"url(#clip340)\" d=\"M2687.11 929.984 Q2683.5 929.984 2681.67 933.549 Q2679.86 937.091 2679.86 944.22 Q2679.86 951.327 2681.67 954.892 Q2683.5 958.433 2687.11 958.433 Q2690.74 958.433 2692.55 954.892 Q2694.38 951.327 2694.38 944.22 Q2694.38 937.091 2692.55 933.549 Q2690.74 929.984 2687.11 929.984 M2687.11 926.281 Q2692.92 926.281 2695.98 930.887 Q2699.05 935.471 2699.05 944.22 Q2699.05 952.947 2695.98 957.554 Q2692.92 962.137 2687.11 962.137 Q2681.3 962.137 2678.22 957.554 Q2675.17 952.947 2675.17 944.22 Q2675.17 935.471 2678.22 930.887 Q2681.3 926.281 2687.11 926.281 Z\" fill=\"#000000\" fill-rule=\"evenodd\" fill-opacity=\"1\" /><path clip-path=\"url(#clip340)\" d=\"M2717.27 929.984 Q2713.66 929.984 2711.83 933.549 Q2710.03 937.091 2710.03 944.22 Q2710.03 951.327 2711.83 954.892 Q2713.66 958.433 2717.27 958.433 Q2720.91 958.433 2722.71 954.892 Q2724.54 951.327 2724.54 944.22 Q2724.54 937.091 2722.71 933.549 Q2720.91 929.984 2717.27 929.984 M2717.27 926.281 Q2723.08 926.281 2726.14 930.887 Q2729.22 935.471 2729.22 944.22 Q2729.22 952.947 2726.14 957.554 Q2723.08 962.137 2717.27 962.137 Q2711.46 962.137 2708.38 957.554 Q2705.33 952.947 2705.33 944.22 Q2705.33 935.471 2708.38 930.887 Q2711.46 926.281 2717.27 926.281 Z\" fill=\"#000000\" fill-rule=\"evenodd\" fill-opacity=\"1\" /><path clip-path=\"url(#clip340)\" d=\"M2747.43 929.984 Q2743.82 929.984 2741.99 933.549 Q2740.19 937.091 2740.19 944.22 Q2740.19 951.327 2741.99 954.892 Q2743.82 958.433 2747.43 958.433 Q2751.07 958.433 2752.87 954.892 Q2754.7 951.327 2754.7 944.22 Q2754.7 937.091 2752.87 933.549 Q2751.07 929.984 2747.43 929.984 M2747.43 926.281 Q2753.24 926.281 2756.3 930.887 Q2759.38 935.471 2759.38 944.22 Q2759.38 952.947 2756.3 957.554 Q2753.24 962.137 2747.43 962.137 Q2741.62 962.137 2738.55 957.554 Q2735.49 952.947 2735.49 944.22 Q2735.49 935.471 2738.55 930.887 Q2741.62 926.281 2747.43 926.281 Z\" fill=\"#000000\" fill-rule=\"evenodd\" fill-opacity=\"1\" /><path clip-path=\"url(#clip340)\" d=\"M2777.6 929.984 Q2773.98 929.984 2772.16 933.549 Q2770.35 937.091 2770.35 944.22 Q2770.35 951.327 2772.16 954.892 Q2773.98 958.433 2777.6 958.433 Q2781.23 958.433 2783.04 954.892 Q2784.86 951.327 2784.86 944.22 Q2784.86 937.091 2783.04 933.549 Q2781.23 929.984 2777.6 929.984 M2777.6 926.281 Q2783.41 926.281 2786.46 930.887 Q2789.54 935.471 2789.54 944.22 Q2789.54 952.947 2786.46 957.554 Q2783.41 962.137 2777.6 962.137 Q2771.79 962.137 2768.71 957.554 Q2765.65 952.947 2765.65 944.22 Q2765.65 935.471 2768.71 930.887 Q2771.79 926.281 2777.6 926.281 Z\" fill=\"#000000\" fill-rule=\"evenodd\" fill-opacity=\"1\" /><path clip-path=\"url(#clip340)\" d=\"M2269.43 777.986 L2277.07 777.986 L2277.07 751.621 L2268.76 753.287 L2268.76 749.028 L2277.02 747.361 L2281.7 747.361 L2281.7 777.986 L2289.33 777.986 L2289.33 781.921 L2269.43 781.921 L2269.43 777.986 Z\" fill=\"#000000\" fill-rule=\"evenodd\" fill-opacity=\"1\" /><path clip-path=\"url(#clip340)\" d=\"M2308.78 750.44 Q2305.17 750.44 2303.34 754.005 Q2301.53 757.546 2301.53 764.676 Q2301.53 771.782 2303.34 775.347 Q2305.17 778.889 2308.78 778.889 Q2312.41 778.889 2314.22 775.347 Q2316.05 771.782 2316.05 764.676 Q2316.05 757.546 2314.22 754.005 Q2312.41 750.44 2308.78 750.44 M2308.78 746.736 Q2314.59 746.736 2317.64 751.343 Q2320.72 755.926 2320.72 764.676 Q2320.72 773.403 2317.64 778.009 Q2314.59 782.593 2308.78 782.593 Q2302.97 782.593 2299.89 778.009 Q2296.83 773.403 2296.83 764.676 Q2296.83 755.926 2299.89 751.343 Q2302.97 746.736 2308.78 746.736 Z\" fill=\"#000000\" fill-rule=\"evenodd\" fill-opacity=\"1\" /><path clip-path=\"url(#clip340)\" d=\"M2338.94 750.44 Q2335.33 750.44 2333.5 754.005 Q2331.7 757.546 2331.7 764.676 Q2331.7 771.782 2333.5 775.347 Q2335.33 778.889 2338.94 778.889 Q2342.57 778.889 2344.38 775.347 Q2346.21 771.782 2346.21 764.676 Q2346.21 757.546 2344.38 754.005 Q2342.57 750.44 2338.94 750.44 M2338.94 746.736 Q2344.75 746.736 2347.81 751.343 Q2350.89 755.926 2350.89 764.676 Q2350.89 773.403 2347.81 778.009 Q2344.75 782.593 2338.94 782.593 Q2333.13 782.593 2330.05 778.009 Q2327 773.403 2327 764.676 Q2327 755.926 2330.05 751.343 Q2333.13 746.736 2338.94 746.736 Z\" fill=\"#000000\" fill-rule=\"evenodd\" fill-opacity=\"1\" /><path clip-path=\"url(#clip340)\" d=\"M2369.1 750.44 Q2365.49 750.44 2363.66 754.005 Q2361.86 757.546 2361.86 764.676 Q2361.86 771.782 2363.66 775.347 Q2365.49 778.889 2369.1 778.889 Q2372.74 778.889 2374.54 775.347 Q2376.37 771.782 2376.37 764.676 Q2376.37 757.546 2374.54 754.005 Q2372.74 750.44 2369.1 750.44 M2369.1 746.736 Q2374.91 746.736 2377.97 751.343 Q2381.05 755.926 2381.05 764.676 Q2381.05 773.403 2377.97 778.009 Q2374.91 782.593 2369.1 782.593 Q2363.29 782.593 2360.21 778.009 Q2357.16 773.403 2357.16 764.676 Q2357.16 755.926 2360.21 751.343 Q2363.29 746.736 2369.1 746.736 Z\" fill=\"#000000\" fill-rule=\"evenodd\" fill-opacity=\"1\" /><path clip-path=\"url(#clip340)\" d=\"M2399.26 750.44 Q2395.65 750.44 2393.82 754.005 Q2392.02 757.546 2392.02 764.676 Q2392.02 771.782 2393.82 775.347 Q2395.65 778.889 2399.26 778.889 Q2402.9 778.889 2404.7 775.347 Q2406.53 771.782 2406.53 764.676 Q2406.53 757.546 2404.7 754.005 Q2402.9 750.44 2399.26 750.44 M2399.26 746.736 Q2405.07 746.736 2408.13 751.343 Q2411.21 755.926 2411.21 764.676 Q2411.21 773.403 2408.13 778.009 Q2405.07 782.593 2399.26 782.593 Q2393.45 782.593 2390.38 778.009 Q2387.32 773.403 2387.32 764.676 Q2387.32 755.926 2390.38 751.343 Q2393.45 746.736 2399.26 746.736 Z\" fill=\"#000000\" fill-rule=\"evenodd\" fill-opacity=\"1\" /><path clip-path=\"url(#clip340)\" d=\"M2429.43 750.44 Q2425.82 750.44 2423.99 754.005 Q2422.18 757.546 2422.18 764.676 Q2422.18 771.782 2423.99 775.347 Q2425.82 778.889 2429.43 778.889 Q2433.06 778.889 2434.87 775.347 Q2436.69 771.782 2436.69 764.676 Q2436.69 757.546 2434.87 754.005 Q2433.06 750.44 2429.43 750.44 M2429.43 746.736 Q2435.24 746.736 2438.29 751.343 Q2441.37 755.926 2441.37 764.676 Q2441.37 773.403 2438.29 778.009 Q2435.24 782.593 2429.43 782.593 Q2423.62 782.593 2420.54 778.009 Q2417.48 773.403 2417.48 764.676 Q2417.48 755.926 2420.54 751.343 Q2423.62 746.736 2429.43 746.736 Z\" fill=\"#000000\" fill-rule=\"evenodd\" fill-opacity=\"1\" /><path clip-path=\"url(#clip340)\" d=\"M2459.59 750.44 Q2455.98 750.44 2454.15 754.005 Q2452.34 757.546 2452.34 764.676 Q2452.34 771.782 2454.15 775.347 Q2455.98 778.889 2459.59 778.889 Q2463.22 778.889 2465.03 775.347 Q2466.86 771.782 2466.86 764.676 Q2466.86 757.546 2465.03 754.005 Q2463.22 750.44 2459.59 750.44 M2459.59 746.736 Q2465.4 746.736 2468.45 751.343 Q2471.53 755.926 2471.53 764.676 Q2471.53 773.403 2468.45 778.009 Q2465.4 782.593 2459.59 782.593 Q2453.78 782.593 2450.7 778.009 Q2447.64 773.403 2447.64 764.676 Q2447.64 755.926 2450.7 751.343 Q2453.78 746.736 2459.59 746.736 Z\" fill=\"#000000\" fill-rule=\"evenodd\" fill-opacity=\"1\" /><path clip-path=\"url(#clip340)\" d=\"M2489.75 750.44 Q2486.14 750.44 2484.31 754.005 Q2482.5 757.546 2482.5 764.676 Q2482.5 771.782 2484.31 775.347 Q2486.14 778.889 2489.75 778.889 Q2493.38 778.889 2495.19 775.347 Q2497.02 771.782 2497.02 764.676 Q2497.02 757.546 2495.19 754.005 Q2493.38 750.44 2489.75 750.44 M2489.75 746.736 Q2495.56 746.736 2498.62 751.343 Q2501.69 755.926 2501.69 764.676 Q2501.69 773.403 2498.62 778.009 Q2495.56 782.593 2489.75 782.593 Q2483.94 782.593 2480.86 778.009 Q2477.81 773.403 2477.81 764.676 Q2477.81 755.926 2480.86 751.343 Q2483.94 746.736 2489.75 746.736 Z\" fill=\"#000000\" fill-rule=\"evenodd\" fill-opacity=\"1\" /><path clip-path=\"url(#clip340)\" d=\"M2519.91 750.44 Q2516.3 750.44 2514.47 754.005 Q2512.67 757.546 2512.67 764.676 Q2512.67 771.782 2514.47 775.347 Q2516.3 778.889 2519.91 778.889 Q2523.55 778.889 2525.35 775.347 Q2527.18 771.782 2527.18 764.676 Q2527.18 757.546 2525.35 754.005 Q2523.55 750.44 2519.91 750.44 M2519.91 746.736 Q2525.72 746.736 2528.78 751.343 Q2531.86 755.926 2531.86 764.676 Q2531.86 773.403 2528.78 778.009 Q2525.72 782.593 2519.91 782.593 Q2514.1 782.593 2511.02 778.009 Q2507.97 773.403 2507.97 764.676 Q2507.97 755.926 2511.02 751.343 Q2514.1 746.736 2519.91 746.736 Z\" fill=\"#000000\" fill-rule=\"evenodd\" fill-opacity=\"1\" /><path clip-path=\"url(#clip340)\" d=\"M2550.07 750.44 Q2546.46 750.44 2544.63 754.005 Q2542.83 757.546 2542.83 764.676 Q2542.83 771.782 2544.63 775.347 Q2546.46 778.889 2550.07 778.889 Q2553.71 778.889 2555.51 775.347 Q2557.34 771.782 2557.34 764.676 Q2557.34 757.546 2555.51 754.005 Q2553.71 750.44 2550.07 750.44 M2550.07 746.736 Q2555.88 746.736 2558.94 751.343 Q2562.02 755.926 2562.02 764.676 Q2562.02 773.403 2558.94 778.009 Q2555.88 782.593 2550.07 782.593 Q2544.26 782.593 2541.19 778.009 Q2538.13 773.403 2538.13 764.676 Q2538.13 755.926 2541.19 751.343 Q2544.26 746.736 2550.07 746.736 Z\" fill=\"#000000\" fill-rule=\"evenodd\" fill-opacity=\"1\" /><path clip-path=\"url(#clip340)\" d=\"M2580.24 750.44 Q2576.62 750.44 2574.8 754.005 Q2572.99 757.546 2572.99 764.676 Q2572.99 771.782 2574.8 775.347 Q2576.62 778.889 2580.24 778.889 Q2583.87 778.889 2585.68 775.347 Q2587.5 771.782 2587.5 764.676 Q2587.5 757.546 2585.68 754.005 Q2583.87 750.44 2580.24 750.44 M2580.24 746.736 Q2586.05 746.736 2589.1 751.343 Q2592.18 755.926 2592.18 764.676 Q2592.18 773.403 2589.1 778.009 Q2586.05 782.593 2580.24 782.593 Q2574.43 782.593 2571.35 778.009 Q2568.29 773.403 2568.29 764.676 Q2568.29 755.926 2571.35 751.343 Q2574.43 746.736 2580.24 746.736 Z\" fill=\"#000000\" fill-rule=\"evenodd\" fill-opacity=\"1\" /><path clip-path=\"url(#clip340)\" d=\"M2610.4 750.44 Q2606.79 750.44 2604.96 754.005 Q2603.15 757.546 2603.15 764.676 Q2603.15 771.782 2604.96 775.347 Q2606.79 778.889 2610.4 778.889 Q2614.03 778.889 2615.84 775.347 Q2617.67 771.782 2617.67 764.676 Q2617.67 757.546 2615.84 754.005 Q2614.03 750.44 2610.4 750.44 M2610.4 746.736 Q2616.21 746.736 2619.26 751.343 Q2622.34 755.926 2622.34 764.676 Q2622.34 773.403 2619.26 778.009 Q2616.21 782.593 2610.4 782.593 Q2604.59 782.593 2601.51 778.009 Q2598.45 773.403 2598.45 764.676 Q2598.45 755.926 2601.51 751.343 Q2604.59 746.736 2610.4 746.736 Z\" fill=\"#000000\" fill-rule=\"evenodd\" fill-opacity=\"1\" /><path clip-path=\"url(#clip340)\" d=\"M2640.56 750.44 Q2636.95 750.44 2635.12 754.005 Q2633.31 757.546 2633.31 764.676 Q2633.31 771.782 2635.12 775.347 Q2636.95 778.889 2640.56 778.889 Q2644.19 778.889 2646 775.347 Q2647.83 771.782 2647.83 764.676 Q2647.83 757.546 2646 754.005 Q2644.19 750.44 2640.56 750.44 M2640.56 746.736 Q2646.37 746.736 2649.43 751.343 Q2652.5 755.926 2652.5 764.676 Q2652.5 773.403 2649.43 778.009 Q2646.37 782.593 2640.56 782.593 Q2634.75 782.593 2631.67 778.009 Q2628.62 773.403 2628.62 764.676 Q2628.62 755.926 2631.67 751.343 Q2634.75 746.736 2640.56 746.736 Z\" fill=\"#000000\" fill-rule=\"evenodd\" fill-opacity=\"1\" /><path clip-path=\"url(#clip340)\" d=\"M2660.72 776.042 L2665.61 776.042 L2665.61 781.921 L2660.72 781.921 L2660.72 776.042 Z\" fill=\"#000000\" fill-rule=\"evenodd\" fill-opacity=\"1\" /><path clip-path=\"url(#clip340)\" d=\"M2685.79 750.44 Q2682.18 750.44 2680.35 754.005 Q2678.55 757.546 2678.55 764.676 Q2678.55 771.782 2680.35 775.347 Q2682.18 778.889 2685.79 778.889 Q2689.42 778.889 2691.23 775.347 Q2693.06 771.782 2693.06 764.676 Q2693.06 757.546 2691.23 754.005 Q2689.42 750.44 2685.79 750.44 M2685.79 746.736 Q2691.6 746.736 2694.66 751.343 Q2697.74 755.926 2697.74 764.676 Q2697.74 773.403 2694.66 778.009 Q2691.6 782.593 2685.79 782.593 Q2679.98 782.593 2676.9 778.009 Q2673.85 773.403 2673.85 764.676 Q2673.85 755.926 2676.9 751.343 Q2679.98 746.736 2685.79 746.736 Z\" fill=\"#000000\" fill-rule=\"evenodd\" fill-opacity=\"1\" /><path clip-path=\"url(#clip340)\" d=\"M2715.95 750.44 Q2712.34 750.44 2710.51 754.005 Q2708.71 757.546 2708.71 764.676 Q2708.71 771.782 2710.51 775.347 Q2712.34 778.889 2715.95 778.889 Q2719.59 778.889 2721.39 775.347 Q2723.22 771.782 2723.22 764.676 Q2723.22 757.546 2721.39 754.005 Q2719.59 750.44 2715.95 750.44 M2715.95 746.736 Q2721.76 746.736 2724.82 751.343 Q2727.9 755.926 2727.9 764.676 Q2727.9 773.403 2724.82 778.009 Q2721.76 782.593 2715.95 782.593 Q2710.14 782.593 2707.06 778.009 Q2704.01 773.403 2704.01 764.676 Q2704.01 755.926 2707.06 751.343 Q2710.14 746.736 2715.95 746.736 Z\" fill=\"#000000\" fill-rule=\"evenodd\" fill-opacity=\"1\" /><path clip-path=\"url(#clip340)\" d=\"M2746.11 750.44 Q2742.5 750.44 2740.67 754.005 Q2738.87 757.546 2738.87 764.676 Q2738.87 771.782 2740.67 775.347 Q2742.5 778.889 2746.11 778.889 Q2749.75 778.889 2751.55 775.347 Q2753.38 771.782 2753.38 764.676 Q2753.38 757.546 2751.55 754.005 Q2749.75 750.44 2746.11 750.44 M2746.11 746.736 Q2751.92 746.736 2754.98 751.343 Q2758.06 755.926 2758.06 764.676 Q2758.06 773.403 2754.98 778.009 Q2751.92 782.593 2746.11 782.593 Q2740.3 782.593 2737.23 778.009 Q2734.17 773.403 2734.17 764.676 Q2734.17 755.926 2737.23 751.343 Q2740.3 746.736 2746.11 746.736 Z\" fill=\"#000000\" fill-rule=\"evenodd\" fill-opacity=\"1\" /><path clip-path=\"url(#clip340)\" d=\"M2776.28 750.44 Q2772.67 750.44 2770.84 754.005 Q2769.03 757.546 2769.03 764.676 Q2769.03 771.782 2770.84 775.347 Q2772.67 778.889 2776.28 778.889 Q2779.91 778.889 2781.72 775.347 Q2783.54 771.782 2783.54 764.676 Q2783.54 757.546 2781.72 754.005 Q2779.91 750.44 2776.28 750.44 M2776.28 746.736 Q2782.09 746.736 2785.14 751.343 Q2788.22 755.926 2788.22 764.676 Q2788.22 773.403 2785.14 778.009 Q2782.09 782.593 2776.28 782.593 Q2770.47 782.593 2767.39 778.009 Q2764.33 773.403 2764.33 764.676 Q2764.33 755.926 2767.39 751.343 Q2770.47 746.736 2776.28 746.736 Z\" fill=\"#000000\" fill-rule=\"evenodd\" fill-opacity=\"1\" /><path clip-path=\"url(#clip340)\" d=\"M2806.44 750.44 Q2802.83 750.44 2801 754.005 Q2799.19 757.546 2799.19 764.676 Q2799.19 771.782 2801 775.347 Q2802.83 778.889 2806.44 778.889 Q2810.07 778.889 2811.88 775.347 Q2813.71 771.782 2813.71 764.676 Q2813.71 757.546 2811.88 754.005 Q2810.07 750.44 2806.44 750.44 M2806.44 746.736 Q2812.25 746.736 2815.3 751.343 Q2818.38 755.926 2818.38 764.676 Q2818.38 773.403 2815.3 778.009 Q2812.25 782.593 2806.44 782.593 Q2800.63 782.593 2797.55 778.009 Q2794.49 773.403 2794.49 764.676 Q2794.49 755.926 2797.55 751.343 Q2800.63 746.736 2806.44 746.736 Z\" fill=\"#000000\" fill-rule=\"evenodd\" fill-opacity=\"1\" /><path clip-path=\"url(#clip340)\" d=\"M2269.43 598.442 L2277.07 598.442 L2277.07 572.076 L2268.76 573.743 L2268.76 569.484 L2277.02 567.817 L2281.7 567.817 L2281.7 598.442 L2289.33 598.442 L2289.33 602.377 L2269.43 602.377 L2269.43 598.442 Z\" fill=\"#000000\" fill-rule=\"evenodd\" fill-opacity=\"1\" /><path clip-path=\"url(#clip340)\" d=\"M2302.81 598.442 L2319.13 598.442 L2319.13 602.377 L2297.18 602.377 L2297.18 598.442 Q2299.84 595.687 2304.43 591.057 Q2309.03 586.405 2310.21 585.062 Q2312.46 582.539 2313.34 580.803 Q2314.24 579.044 2314.24 577.354 Q2314.24 574.599 2312.3 572.863 Q2310.38 571.127 2307.27 571.127 Q2305.08 571.127 2302.62 571.891 Q2300.19 572.655 2297.41 574.206 L2297.41 569.484 Q2300.24 568.349 2302.69 567.771 Q2305.14 567.192 2307.18 567.192 Q2312.55 567.192 2315.75 569.877 Q2318.94 572.562 2318.94 577.053 Q2318.94 579.183 2318.13 581.104 Q2317.34 583.002 2315.24 585.595 Q2314.66 586.266 2311.56 589.483 Q2308.45 592.678 2302.81 598.442 Z\" fill=\"#000000\" fill-rule=\"evenodd\" fill-opacity=\"1\" /><path clip-path=\"url(#clip340)\" d=\"M2328.99 567.817 L2347.34 567.817 L2347.34 571.752 L2333.27 571.752 L2333.27 580.224 Q2334.29 579.877 2335.31 579.715 Q2336.32 579.53 2337.34 579.53 Q2343.13 579.53 2346.51 582.701 Q2349.89 585.872 2349.89 591.289 Q2349.89 596.868 2346.42 599.969 Q2342.95 603.048 2336.63 603.048 Q2334.45 603.048 2332.18 602.678 Q2329.94 602.307 2327.53 601.567 L2327.53 596.868 Q2329.61 598.002 2331.83 598.557 Q2334.06 599.113 2336.53 599.113 Q2340.54 599.113 2342.88 597.007 Q2345.21 594.9 2345.21 591.289 Q2345.21 587.678 2342.88 585.571 Q2340.54 583.465 2336.53 583.465 Q2334.66 583.465 2332.78 583.882 Q2330.93 584.298 2328.99 585.178 L2328.99 567.817 Z\" fill=\"#000000\" fill-rule=\"evenodd\" fill-opacity=\"1\" /><path clip-path=\"url(#clip340)\" d=\"M2369.1 570.896 Q2365.49 570.896 2363.66 574.46 Q2361.86 578.002 2361.86 585.132 Q2361.86 592.238 2363.66 595.803 Q2365.49 599.344 2369.1 599.344 Q2372.74 599.344 2374.54 595.803 Q2376.37 592.238 2376.37 585.132 Q2376.37 578.002 2374.54 574.46 Q2372.74 570.896 2369.1 570.896 M2369.1 567.192 Q2374.91 567.192 2377.97 571.798 Q2381.05 576.382 2381.05 585.132 Q2381.05 593.858 2377.97 598.465 Q2374.91 603.048 2369.1 603.048 Q2363.29 603.048 2360.21 598.465 Q2357.16 593.858 2357.16 585.132 Q2357.16 576.382 2360.21 571.798 Q2363.29 567.192 2369.1 567.192 Z\" fill=\"#000000\" fill-rule=\"evenodd\" fill-opacity=\"1\" /><path clip-path=\"url(#clip340)\" d=\"M2399.26 570.896 Q2395.65 570.896 2393.82 574.46 Q2392.02 578.002 2392.02 585.132 Q2392.02 592.238 2393.82 595.803 Q2395.65 599.344 2399.26 599.344 Q2402.9 599.344 2404.7 595.803 Q2406.53 592.238 2406.53 585.132 Q2406.53 578.002 2404.7 574.46 Q2402.9 570.896 2399.26 570.896 M2399.26 567.192 Q2405.07 567.192 2408.13 571.798 Q2411.21 576.382 2411.21 585.132 Q2411.21 593.858 2408.13 598.465 Q2405.07 603.048 2399.26 603.048 Q2393.45 603.048 2390.38 598.465 Q2387.32 593.858 2387.32 585.132 Q2387.32 576.382 2390.38 571.798 Q2393.45 567.192 2399.26 567.192 Z\" fill=\"#000000\" fill-rule=\"evenodd\" fill-opacity=\"1\" /><path clip-path=\"url(#clip340)\" d=\"M2429.43 570.896 Q2425.82 570.896 2423.99 574.46 Q2422.18 578.002 2422.18 585.132 Q2422.18 592.238 2423.99 595.803 Q2425.82 599.344 2429.43 599.344 Q2433.06 599.344 2434.87 595.803 Q2436.69 592.238 2436.69 585.132 Q2436.69 578.002 2434.87 574.46 Q2433.06 570.896 2429.43 570.896 M2429.43 567.192 Q2435.24 567.192 2438.29 571.798 Q2441.37 576.382 2441.37 585.132 Q2441.37 593.858 2438.29 598.465 Q2435.24 603.048 2429.43 603.048 Q2423.62 603.048 2420.54 598.465 Q2417.48 593.858 2417.48 585.132 Q2417.48 576.382 2420.54 571.798 Q2423.62 567.192 2429.43 567.192 Z\" fill=\"#000000\" fill-rule=\"evenodd\" fill-opacity=\"1\" /><path clip-path=\"url(#clip340)\" d=\"M2459.59 570.896 Q2455.98 570.896 2454.15 574.46 Q2452.34 578.002 2452.34 585.132 Q2452.34 592.238 2454.15 595.803 Q2455.98 599.344 2459.59 599.344 Q2463.22 599.344 2465.03 595.803 Q2466.86 592.238 2466.86 585.132 Q2466.86 578.002 2465.03 574.46 Q2463.22 570.896 2459.59 570.896 M2459.59 567.192 Q2465.4 567.192 2468.45 571.798 Q2471.53 576.382 2471.53 585.132 Q2471.53 593.858 2468.45 598.465 Q2465.4 603.048 2459.59 603.048 Q2453.78 603.048 2450.7 598.465 Q2447.64 593.858 2447.64 585.132 Q2447.64 576.382 2450.7 571.798 Q2453.78 567.192 2459.59 567.192 Z\" fill=\"#000000\" fill-rule=\"evenodd\" fill-opacity=\"1\" /><path clip-path=\"url(#clip340)\" d=\"M2489.75 570.896 Q2486.14 570.896 2484.31 574.46 Q2482.5 578.002 2482.5 585.132 Q2482.5 592.238 2484.31 595.803 Q2486.14 599.344 2489.75 599.344 Q2493.38 599.344 2495.19 595.803 Q2497.02 592.238 2497.02 585.132 Q2497.02 578.002 2495.19 574.46 Q2493.38 570.896 2489.75 570.896 M2489.75 567.192 Q2495.56 567.192 2498.62 571.798 Q2501.69 576.382 2501.69 585.132 Q2501.69 593.858 2498.62 598.465 Q2495.56 603.048 2489.75 603.048 Q2483.94 603.048 2480.86 598.465 Q2477.81 593.858 2477.81 585.132 Q2477.81 576.382 2480.86 571.798 Q2483.94 567.192 2489.75 567.192 Z\" fill=\"#000000\" fill-rule=\"evenodd\" fill-opacity=\"1\" /><path clip-path=\"url(#clip340)\" d=\"M2519.91 570.896 Q2516.3 570.896 2514.47 574.46 Q2512.67 578.002 2512.67 585.132 Q2512.67 592.238 2514.47 595.803 Q2516.3 599.344 2519.91 599.344 Q2523.55 599.344 2525.35 595.803 Q2527.18 592.238 2527.18 585.132 Q2527.18 578.002 2525.35 574.46 Q2523.55 570.896 2519.91 570.896 M2519.91 567.192 Q2525.72 567.192 2528.78 571.798 Q2531.86 576.382 2531.86 585.132 Q2531.86 593.858 2528.78 598.465 Q2525.72 603.048 2519.91 603.048 Q2514.1 603.048 2511.02 598.465 Q2507.97 593.858 2507.97 585.132 Q2507.97 576.382 2511.02 571.798 Q2514.1 567.192 2519.91 567.192 Z\" fill=\"#000000\" fill-rule=\"evenodd\" fill-opacity=\"1\" /><path clip-path=\"url(#clip340)\" d=\"M2550.07 570.896 Q2546.46 570.896 2544.63 574.46 Q2542.83 578.002 2542.83 585.132 Q2542.83 592.238 2544.63 595.803 Q2546.46 599.344 2550.07 599.344 Q2553.71 599.344 2555.51 595.803 Q2557.34 592.238 2557.34 585.132 Q2557.34 578.002 2555.51 574.46 Q2553.71 570.896 2550.07 570.896 M2550.07 567.192 Q2555.88 567.192 2558.94 571.798 Q2562.02 576.382 2562.02 585.132 Q2562.02 593.858 2558.94 598.465 Q2555.88 603.048 2550.07 603.048 Q2544.26 603.048 2541.19 598.465 Q2538.13 593.858 2538.13 585.132 Q2538.13 576.382 2541.19 571.798 Q2544.26 567.192 2550.07 567.192 Z\" fill=\"#000000\" fill-rule=\"evenodd\" fill-opacity=\"1\" /><path clip-path=\"url(#clip340)\" d=\"M2580.24 570.896 Q2576.62 570.896 2574.8 574.46 Q2572.99 578.002 2572.99 585.132 Q2572.99 592.238 2574.8 595.803 Q2576.62 599.344 2580.24 599.344 Q2583.87 599.344 2585.68 595.803 Q2587.5 592.238 2587.5 585.132 Q2587.5 578.002 2585.68 574.46 Q2583.87 570.896 2580.24 570.896 M2580.24 567.192 Q2586.05 567.192 2589.1 571.798 Q2592.18 576.382 2592.18 585.132 Q2592.18 593.858 2589.1 598.465 Q2586.05 603.048 2580.24 603.048 Q2574.43 603.048 2571.35 598.465 Q2568.29 593.858 2568.29 585.132 Q2568.29 576.382 2571.35 571.798 Q2574.43 567.192 2580.24 567.192 Z\" fill=\"#000000\" fill-rule=\"evenodd\" fill-opacity=\"1\" /><path clip-path=\"url(#clip340)\" d=\"M2610.4 570.896 Q2606.79 570.896 2604.96 574.46 Q2603.15 578.002 2603.15 585.132 Q2603.15 592.238 2604.96 595.803 Q2606.79 599.344 2610.4 599.344 Q2614.03 599.344 2615.84 595.803 Q2617.67 592.238 2617.67 585.132 Q2617.67 578.002 2615.84 574.46 Q2614.03 570.896 2610.4 570.896 M2610.4 567.192 Q2616.21 567.192 2619.26 571.798 Q2622.34 576.382 2622.34 585.132 Q2622.34 593.858 2619.26 598.465 Q2616.21 603.048 2610.4 603.048 Q2604.59 603.048 2601.51 598.465 Q2598.45 593.858 2598.45 585.132 Q2598.45 576.382 2601.51 571.798 Q2604.59 567.192 2610.4 567.192 Z\" fill=\"#000000\" fill-rule=\"evenodd\" fill-opacity=\"1\" /><path clip-path=\"url(#clip340)\" d=\"M2640.56 570.896 Q2636.95 570.896 2635.12 574.46 Q2633.31 578.002 2633.31 585.132 Q2633.31 592.238 2635.12 595.803 Q2636.95 599.344 2640.56 599.344 Q2644.19 599.344 2646 595.803 Q2647.83 592.238 2647.83 585.132 Q2647.83 578.002 2646 574.46 Q2644.19 570.896 2640.56 570.896 M2640.56 567.192 Q2646.37 567.192 2649.43 571.798 Q2652.5 576.382 2652.5 585.132 Q2652.5 593.858 2649.43 598.465 Q2646.37 603.048 2640.56 603.048 Q2634.75 603.048 2631.67 598.465 Q2628.62 593.858 2628.62 585.132 Q2628.62 576.382 2631.67 571.798 Q2634.75 567.192 2640.56 567.192 Z\" fill=\"#000000\" fill-rule=\"evenodd\" fill-opacity=\"1\" /><path clip-path=\"url(#clip340)\" d=\"M2660.72 596.497 L2665.61 596.497 L2665.61 602.377 L2660.72 602.377 L2660.72 596.497 Z\" fill=\"#000000\" fill-rule=\"evenodd\" fill-opacity=\"1\" /><path clip-path=\"url(#clip340)\" d=\"M2685.79 570.896 Q2682.18 570.896 2680.35 574.46 Q2678.55 578.002 2678.55 585.132 Q2678.55 592.238 2680.35 595.803 Q2682.18 599.344 2685.79 599.344 Q2689.42 599.344 2691.23 595.803 Q2693.06 592.238 2693.06 585.132 Q2693.06 578.002 2691.23 574.46 Q2689.42 570.896 2685.79 570.896 M2685.79 567.192 Q2691.6 567.192 2694.66 571.798 Q2697.74 576.382 2697.74 585.132 Q2697.74 593.858 2694.66 598.465 Q2691.6 603.048 2685.79 603.048 Q2679.98 603.048 2676.9 598.465 Q2673.85 593.858 2673.85 585.132 Q2673.85 576.382 2676.9 571.798 Q2679.98 567.192 2685.79 567.192 Z\" fill=\"#000000\" fill-rule=\"evenodd\" fill-opacity=\"1\" /><path clip-path=\"url(#clip340)\" d=\"M2715.95 570.896 Q2712.34 570.896 2710.51 574.46 Q2708.71 578.002 2708.71 585.132 Q2708.71 592.238 2710.51 595.803 Q2712.34 599.344 2715.95 599.344 Q2719.59 599.344 2721.39 595.803 Q2723.22 592.238 2723.22 585.132 Q2723.22 578.002 2721.39 574.46 Q2719.59 570.896 2715.95 570.896 M2715.95 567.192 Q2721.76 567.192 2724.82 571.798 Q2727.9 576.382 2727.9 585.132 Q2727.9 593.858 2724.82 598.465 Q2721.76 603.048 2715.95 603.048 Q2710.14 603.048 2707.06 598.465 Q2704.01 593.858 2704.01 585.132 Q2704.01 576.382 2707.06 571.798 Q2710.14 567.192 2715.95 567.192 Z\" fill=\"#000000\" fill-rule=\"evenodd\" fill-opacity=\"1\" /><path clip-path=\"url(#clip340)\" d=\"M2746.11 570.896 Q2742.5 570.896 2740.67 574.46 Q2738.87 578.002 2738.87 585.132 Q2738.87 592.238 2740.67 595.803 Q2742.5 599.344 2746.11 599.344 Q2749.75 599.344 2751.55 595.803 Q2753.38 592.238 2753.38 585.132 Q2753.38 578.002 2751.55 574.46 Q2749.75 570.896 2746.11 570.896 M2746.11 567.192 Q2751.92 567.192 2754.98 571.798 Q2758.06 576.382 2758.06 585.132 Q2758.06 593.858 2754.98 598.465 Q2751.92 603.048 2746.11 603.048 Q2740.3 603.048 2737.23 598.465 Q2734.17 593.858 2734.17 585.132 Q2734.17 576.382 2737.23 571.798 Q2740.3 567.192 2746.11 567.192 Z\" fill=\"#000000\" fill-rule=\"evenodd\" fill-opacity=\"1\" /><path clip-path=\"url(#clip340)\" d=\"M2776.28 570.896 Q2772.67 570.896 2770.84 574.46 Q2769.03 578.002 2769.03 585.132 Q2769.03 592.238 2770.84 595.803 Q2772.67 599.344 2776.28 599.344 Q2779.91 599.344 2781.72 595.803 Q2783.54 592.238 2783.54 585.132 Q2783.54 578.002 2781.72 574.46 Q2779.91 570.896 2776.28 570.896 M2776.28 567.192 Q2782.09 567.192 2785.14 571.798 Q2788.22 576.382 2788.22 585.132 Q2788.22 593.858 2785.14 598.465 Q2782.09 603.048 2776.28 603.048 Q2770.47 603.048 2767.39 598.465 Q2764.33 593.858 2764.33 585.132 Q2764.33 576.382 2767.39 571.798 Q2770.47 567.192 2776.28 567.192 Z\" fill=\"#000000\" fill-rule=\"evenodd\" fill-opacity=\"1\" /><path clip-path=\"url(#clip340)\" d=\"M2806.44 570.896 Q2802.83 570.896 2801 574.46 Q2799.19 578.002 2799.19 585.132 Q2799.19 592.238 2801 595.803 Q2802.83 599.344 2806.44 599.344 Q2810.07 599.344 2811.88 595.803 Q2813.71 592.238 2813.71 585.132 Q2813.71 578.002 2811.88 574.46 Q2810.07 570.896 2806.44 570.896 M2806.44 567.192 Q2812.25 567.192 2815.3 571.798 Q2818.38 576.382 2818.38 585.132 Q2818.38 593.858 2815.3 598.465 Q2812.25 603.048 2806.44 603.048 Q2800.63 603.048 2797.55 598.465 Q2794.49 593.858 2794.49 585.132 Q2794.49 576.382 2797.55 571.798 Q2800.63 567.192 2806.44 567.192 Z\" fill=\"#000000\" fill-rule=\"evenodd\" fill-opacity=\"1\" /><path clip-path=\"url(#clip340)\" d=\"M2269.43 418.897 L2277.07 418.897 L2277.07 392.532 L2268.76 394.198 L2268.76 389.939 L2277.02 388.272 L2281.7 388.272 L2281.7 418.897 L2289.33 418.897 L2289.33 422.832 L2269.43 422.832 L2269.43 418.897 Z\" fill=\"#000000\" fill-rule=\"evenodd\" fill-opacity=\"1\" /><path clip-path=\"url(#clip340)\" d=\"M2298.83 388.272 L2317.18 388.272 L2317.18 392.208 L2303.11 392.208 L2303.11 400.68 Q2304.13 400.333 2305.14 400.171 Q2306.16 399.985 2307.18 399.985 Q2312.97 399.985 2316.35 403.157 Q2319.73 406.328 2319.73 411.745 Q2319.73 417.323 2316.26 420.425 Q2312.78 423.504 2306.46 423.504 Q2304.29 423.504 2302.02 423.133 Q2299.77 422.763 2297.37 422.022 L2297.37 417.323 Q2299.45 418.457 2301.67 419.013 Q2303.89 419.569 2306.37 419.569 Q2310.38 419.569 2312.71 417.462 Q2315.05 415.356 2315.05 411.745 Q2315.05 408.133 2312.71 406.027 Q2310.38 403.921 2306.37 403.921 Q2304.5 403.921 2302.62 404.337 Q2300.77 404.754 2298.83 405.633 L2298.83 388.272 Z\" fill=\"#000000\" fill-rule=\"evenodd\" fill-opacity=\"1\" /><path clip-path=\"url(#clip340)\" d=\"M2338.94 391.351 Q2335.33 391.351 2333.5 394.916 Q2331.7 398.458 2331.7 405.587 Q2331.7 412.694 2333.5 416.258 Q2335.33 419.8 2338.94 419.8 Q2342.57 419.8 2344.38 416.258 Q2346.21 412.694 2346.21 405.587 Q2346.21 398.458 2344.38 394.916 Q2342.57 391.351 2338.94 391.351 M2338.94 387.647 Q2344.75 387.647 2347.81 392.254 Q2350.89 396.837 2350.89 405.587 Q2350.89 414.314 2347.81 418.92 Q2344.75 423.504 2338.94 423.504 Q2333.13 423.504 2330.05 418.92 Q2327 414.314 2327 405.587 Q2327 396.837 2330.05 392.254 Q2333.13 387.647 2338.94 387.647 Z\" fill=\"#000000\" fill-rule=\"evenodd\" fill-opacity=\"1\" /><path clip-path=\"url(#clip340)\" d=\"M2369.1 391.351 Q2365.49 391.351 2363.66 394.916 Q2361.86 398.458 2361.86 405.587 Q2361.86 412.694 2363.66 416.258 Q2365.49 419.8 2369.1 419.8 Q2372.74 419.8 2374.54 416.258 Q2376.37 412.694 2376.37 405.587 Q2376.37 398.458 2374.54 394.916 Q2372.74 391.351 2369.1 391.351 M2369.1 387.647 Q2374.91 387.647 2377.97 392.254 Q2381.05 396.837 2381.05 405.587 Q2381.05 414.314 2377.97 418.92 Q2374.91 423.504 2369.1 423.504 Q2363.29 423.504 2360.21 418.92 Q2357.16 414.314 2357.16 405.587 Q2357.16 396.837 2360.21 392.254 Q2363.29 387.647 2369.1 387.647 Z\" fill=\"#000000\" fill-rule=\"evenodd\" fill-opacity=\"1\" /><path clip-path=\"url(#clip340)\" d=\"M2399.26 391.351 Q2395.65 391.351 2393.82 394.916 Q2392.02 398.458 2392.02 405.587 Q2392.02 412.694 2393.82 416.258 Q2395.65 419.8 2399.26 419.8 Q2402.9 419.8 2404.7 416.258 Q2406.53 412.694 2406.53 405.587 Q2406.53 398.458 2404.7 394.916 Q2402.9 391.351 2399.26 391.351 M2399.26 387.647 Q2405.07 387.647 2408.13 392.254 Q2411.21 396.837 2411.21 405.587 Q2411.21 414.314 2408.13 418.92 Q2405.07 423.504 2399.26 423.504 Q2393.45 423.504 2390.38 418.92 Q2387.32 414.314 2387.32 405.587 Q2387.32 396.837 2390.38 392.254 Q2393.45 387.647 2399.26 387.647 Z\" fill=\"#000000\" fill-rule=\"evenodd\" fill-opacity=\"1\" /><path clip-path=\"url(#clip340)\" d=\"M2429.43 391.351 Q2425.82 391.351 2423.99 394.916 Q2422.18 398.458 2422.18 405.587 Q2422.18 412.694 2423.99 416.258 Q2425.82 419.8 2429.43 419.8 Q2433.06 419.8 2434.87 416.258 Q2436.69 412.694 2436.69 405.587 Q2436.69 398.458 2434.87 394.916 Q2433.06 391.351 2429.43 391.351 M2429.43 387.647 Q2435.24 387.647 2438.29 392.254 Q2441.37 396.837 2441.37 405.587 Q2441.37 414.314 2438.29 418.92 Q2435.24 423.504 2429.43 423.504 Q2423.62 423.504 2420.54 418.92 Q2417.48 414.314 2417.48 405.587 Q2417.48 396.837 2420.54 392.254 Q2423.62 387.647 2429.43 387.647 Z\" fill=\"#000000\" fill-rule=\"evenodd\" fill-opacity=\"1\" /><path clip-path=\"url(#clip340)\" d=\"M2459.59 391.351 Q2455.98 391.351 2454.15 394.916 Q2452.34 398.458 2452.34 405.587 Q2452.34 412.694 2454.15 416.258 Q2455.98 419.8 2459.59 419.8 Q2463.22 419.8 2465.03 416.258 Q2466.86 412.694 2466.86 405.587 Q2466.86 398.458 2465.03 394.916 Q2463.22 391.351 2459.59 391.351 M2459.59 387.647 Q2465.4 387.647 2468.45 392.254 Q2471.53 396.837 2471.53 405.587 Q2471.53 414.314 2468.45 418.92 Q2465.4 423.504 2459.59 423.504 Q2453.78 423.504 2450.7 418.92 Q2447.64 414.314 2447.64 405.587 Q2447.64 396.837 2450.7 392.254 Q2453.78 387.647 2459.59 387.647 Z\" fill=\"#000000\" fill-rule=\"evenodd\" fill-opacity=\"1\" /><path clip-path=\"url(#clip340)\" d=\"M2489.75 391.351 Q2486.14 391.351 2484.31 394.916 Q2482.5 398.458 2482.5 405.587 Q2482.5 412.694 2484.31 416.258 Q2486.14 419.8 2489.75 419.8 Q2493.38 419.8 2495.19 416.258 Q2497.02 412.694 2497.02 405.587 Q2497.02 398.458 2495.19 394.916 Q2493.38 391.351 2489.75 391.351 M2489.75 387.647 Q2495.56 387.647 2498.62 392.254 Q2501.69 396.837 2501.69 405.587 Q2501.69 414.314 2498.62 418.92 Q2495.56 423.504 2489.75 423.504 Q2483.94 423.504 2480.86 418.92 Q2477.81 414.314 2477.81 405.587 Q2477.81 396.837 2480.86 392.254 Q2483.94 387.647 2489.75 387.647 Z\" fill=\"#000000\" fill-rule=\"evenodd\" fill-opacity=\"1\" /><path clip-path=\"url(#clip340)\" d=\"M2519.91 391.351 Q2516.3 391.351 2514.47 394.916 Q2512.67 398.458 2512.67 405.587 Q2512.67 412.694 2514.47 416.258 Q2516.3 419.8 2519.91 419.8 Q2523.55 419.8 2525.35 416.258 Q2527.18 412.694 2527.18 405.587 Q2527.18 398.458 2525.35 394.916 Q2523.55 391.351 2519.91 391.351 M2519.91 387.647 Q2525.72 387.647 2528.78 392.254 Q2531.86 396.837 2531.86 405.587 Q2531.86 414.314 2528.78 418.92 Q2525.72 423.504 2519.91 423.504 Q2514.1 423.504 2511.02 418.92 Q2507.97 414.314 2507.97 405.587 Q2507.97 396.837 2511.02 392.254 Q2514.1 387.647 2519.91 387.647 Z\" fill=\"#000000\" fill-rule=\"evenodd\" fill-opacity=\"1\" /><path clip-path=\"url(#clip340)\" d=\"M2550.07 391.351 Q2546.46 391.351 2544.63 394.916 Q2542.83 398.458 2542.83 405.587 Q2542.83 412.694 2544.63 416.258 Q2546.46 419.8 2550.07 419.8 Q2553.71 419.8 2555.51 416.258 Q2557.34 412.694 2557.34 405.587 Q2557.34 398.458 2555.51 394.916 Q2553.71 391.351 2550.07 391.351 M2550.07 387.647 Q2555.88 387.647 2558.94 392.254 Q2562.02 396.837 2562.02 405.587 Q2562.02 414.314 2558.94 418.92 Q2555.88 423.504 2550.07 423.504 Q2544.26 423.504 2541.19 418.92 Q2538.13 414.314 2538.13 405.587 Q2538.13 396.837 2541.19 392.254 Q2544.26 387.647 2550.07 387.647 Z\" fill=\"#000000\" fill-rule=\"evenodd\" fill-opacity=\"1\" /><path clip-path=\"url(#clip340)\" d=\"M2580.24 391.351 Q2576.62 391.351 2574.8 394.916 Q2572.99 398.458 2572.99 405.587 Q2572.99 412.694 2574.8 416.258 Q2576.62 419.8 2580.24 419.8 Q2583.87 419.8 2585.68 416.258 Q2587.5 412.694 2587.5 405.587 Q2587.5 398.458 2585.68 394.916 Q2583.87 391.351 2580.24 391.351 M2580.24 387.647 Q2586.05 387.647 2589.1 392.254 Q2592.18 396.837 2592.18 405.587 Q2592.18 414.314 2589.1 418.92 Q2586.05 423.504 2580.24 423.504 Q2574.43 423.504 2571.35 418.92 Q2568.29 414.314 2568.29 405.587 Q2568.29 396.837 2571.35 392.254 Q2574.43 387.647 2580.24 387.647 Z\" fill=\"#000000\" fill-rule=\"evenodd\" fill-opacity=\"1\" /><path clip-path=\"url(#clip340)\" d=\"M2610.4 391.351 Q2606.79 391.351 2604.96 394.916 Q2603.15 398.458 2603.15 405.587 Q2603.15 412.694 2604.96 416.258 Q2606.79 419.8 2610.4 419.8 Q2614.03 419.8 2615.84 416.258 Q2617.67 412.694 2617.67 405.587 Q2617.67 398.458 2615.84 394.916 Q2614.03 391.351 2610.4 391.351 M2610.4 387.647 Q2616.21 387.647 2619.26 392.254 Q2622.34 396.837 2622.34 405.587 Q2622.34 414.314 2619.26 418.92 Q2616.21 423.504 2610.4 423.504 Q2604.59 423.504 2601.51 418.92 Q2598.45 414.314 2598.45 405.587 Q2598.45 396.837 2601.51 392.254 Q2604.59 387.647 2610.4 387.647 Z\" fill=\"#000000\" fill-rule=\"evenodd\" fill-opacity=\"1\" /><path clip-path=\"url(#clip340)\" d=\"M2640.56 391.351 Q2636.95 391.351 2635.12 394.916 Q2633.31 398.458 2633.31 405.587 Q2633.31 412.694 2635.12 416.258 Q2636.95 419.8 2640.56 419.8 Q2644.19 419.8 2646 416.258 Q2647.83 412.694 2647.83 405.587 Q2647.83 398.458 2646 394.916 Q2644.19 391.351 2640.56 391.351 M2640.56 387.647 Q2646.37 387.647 2649.43 392.254 Q2652.5 396.837 2652.5 405.587 Q2652.5 414.314 2649.43 418.92 Q2646.37 423.504 2640.56 423.504 Q2634.75 423.504 2631.67 418.92 Q2628.62 414.314 2628.62 405.587 Q2628.62 396.837 2631.67 392.254 Q2634.75 387.647 2640.56 387.647 Z\" fill=\"#000000\" fill-rule=\"evenodd\" fill-opacity=\"1\" /><path clip-path=\"url(#clip340)\" d=\"M2660.72 416.953 L2665.61 416.953 L2665.61 422.832 L2660.72 422.832 L2660.72 416.953 Z\" fill=\"#000000\" fill-rule=\"evenodd\" fill-opacity=\"1\" /><path clip-path=\"url(#clip340)\" d=\"M2685.79 391.351 Q2682.18 391.351 2680.35 394.916 Q2678.55 398.458 2678.55 405.587 Q2678.55 412.694 2680.35 416.258 Q2682.18 419.8 2685.79 419.8 Q2689.42 419.8 2691.23 416.258 Q2693.06 412.694 2693.06 405.587 Q2693.06 398.458 2691.23 394.916 Q2689.42 391.351 2685.79 391.351 M2685.79 387.647 Q2691.6 387.647 2694.66 392.254 Q2697.74 396.837 2697.74 405.587 Q2697.74 414.314 2694.66 418.92 Q2691.6 423.504 2685.79 423.504 Q2679.98 423.504 2676.9 418.92 Q2673.85 414.314 2673.85 405.587 Q2673.85 396.837 2676.9 392.254 Q2679.98 387.647 2685.79 387.647 Z\" fill=\"#000000\" fill-rule=\"evenodd\" fill-opacity=\"1\" /><path clip-path=\"url(#clip340)\" d=\"M2715.95 391.351 Q2712.34 391.351 2710.51 394.916 Q2708.71 398.458 2708.71 405.587 Q2708.71 412.694 2710.51 416.258 Q2712.34 419.8 2715.95 419.8 Q2719.59 419.8 2721.39 416.258 Q2723.22 412.694 2723.22 405.587 Q2723.22 398.458 2721.39 394.916 Q2719.59 391.351 2715.95 391.351 M2715.95 387.647 Q2721.76 387.647 2724.82 392.254 Q2727.9 396.837 2727.9 405.587 Q2727.9 414.314 2724.82 418.92 Q2721.76 423.504 2715.95 423.504 Q2710.14 423.504 2707.06 418.92 Q2704.01 414.314 2704.01 405.587 Q2704.01 396.837 2707.06 392.254 Q2710.14 387.647 2715.95 387.647 Z\" fill=\"#000000\" fill-rule=\"evenodd\" fill-opacity=\"1\" /><path clip-path=\"url(#clip340)\" d=\"M2746.11 391.351 Q2742.5 391.351 2740.67 394.916 Q2738.87 398.458 2738.87 405.587 Q2738.87 412.694 2740.67 416.258 Q2742.5 419.8 2746.11 419.8 Q2749.75 419.8 2751.55 416.258 Q2753.38 412.694 2753.38 405.587 Q2753.38 398.458 2751.55 394.916 Q2749.75 391.351 2746.11 391.351 M2746.11 387.647 Q2751.92 387.647 2754.98 392.254 Q2758.06 396.837 2758.06 405.587 Q2758.06 414.314 2754.98 418.92 Q2751.92 423.504 2746.11 423.504 Q2740.3 423.504 2737.23 418.92 Q2734.17 414.314 2734.17 405.587 Q2734.17 396.837 2737.23 392.254 Q2740.3 387.647 2746.11 387.647 Z\" fill=\"#000000\" fill-rule=\"evenodd\" fill-opacity=\"1\" /><path clip-path=\"url(#clip340)\" d=\"M2776.28 391.351 Q2772.67 391.351 2770.84 394.916 Q2769.03 398.458 2769.03 405.587 Q2769.03 412.694 2770.84 416.258 Q2772.67 419.8 2776.28 419.8 Q2779.91 419.8 2781.72 416.258 Q2783.54 412.694 2783.54 405.587 Q2783.54 398.458 2781.72 394.916 Q2779.91 391.351 2776.28 391.351 M2776.28 387.647 Q2782.09 387.647 2785.14 392.254 Q2788.22 396.837 2788.22 405.587 Q2788.22 414.314 2785.14 418.92 Q2782.09 423.504 2776.28 423.504 Q2770.47 423.504 2767.39 418.92 Q2764.33 414.314 2764.33 405.587 Q2764.33 396.837 2767.39 392.254 Q2770.47 387.647 2776.28 387.647 Z\" fill=\"#000000\" fill-rule=\"evenodd\" fill-opacity=\"1\" /><path clip-path=\"url(#clip340)\" d=\"M2806.44 391.351 Q2802.83 391.351 2801 394.916 Q2799.19 398.458 2799.19 405.587 Q2799.19 412.694 2801 416.258 Q2802.83 419.8 2806.44 419.8 Q2810.07 419.8 2811.88 416.258 Q2813.71 412.694 2813.71 405.587 Q2813.71 398.458 2811.88 394.916 Q2810.07 391.351 2806.44 391.351 M2806.44 387.647 Q2812.25 387.647 2815.3 392.254 Q2818.38 396.837 2818.38 405.587 Q2818.38 414.314 2815.3 418.92 Q2812.25 423.504 2806.44 423.504 Q2800.63 423.504 2797.55 418.92 Q2794.49 414.314 2794.49 405.587 Q2794.49 396.837 2797.55 392.254 Q2800.63 387.647 2806.44 387.647 Z\" fill=\"#000000\" fill-rule=\"evenodd\" fill-opacity=\"1\" /><path clip-path=\"url(#clip340)\" d=\"M2269.43 239.353 L2277.07 239.353 L2277.07 212.987 L2268.76 214.654 L2268.76 210.395 L2277.02 208.728 L2281.7 208.728 L2281.7 239.353 L2289.33 239.353 L2289.33 243.288 L2269.43 243.288 L2269.43 239.353 Z\" fill=\"#000000\" fill-rule=\"evenodd\" fill-opacity=\"1\" /><path clip-path=\"url(#clip340)\" d=\"M2297.6 208.728 L2319.82 208.728 L2319.82 210.719 L2307.27 243.288 L2302.39 243.288 L2314.2 212.663 L2297.6 212.663 L2297.6 208.728 Z\" fill=\"#000000\" fill-rule=\"evenodd\" fill-opacity=\"1\" /><path clip-path=\"url(#clip340)\" d=\"M2328.99 208.728 L2347.34 208.728 L2347.34 212.663 L2333.27 212.663 L2333.27 221.135 Q2334.29 220.788 2335.31 220.626 Q2336.32 220.441 2337.34 220.441 Q2343.13 220.441 2346.51 223.612 Q2349.89 226.783 2349.89 232.2 Q2349.89 237.779 2346.42 240.881 Q2342.95 243.959 2336.63 243.959 Q2334.45 243.959 2332.18 243.589 Q2329.94 243.219 2327.53 242.478 L2327.53 237.779 Q2329.61 238.913 2331.83 239.469 Q2334.06 240.024 2336.53 240.024 Q2340.54 240.024 2342.88 237.918 Q2345.21 235.811 2345.21 232.2 Q2345.21 228.589 2342.88 226.483 Q2340.54 224.376 2336.53 224.376 Q2334.66 224.376 2332.78 224.793 Q2330.93 225.209 2328.99 226.089 L2328.99 208.728 Z\" fill=\"#000000\" fill-rule=\"evenodd\" fill-opacity=\"1\" /><path clip-path=\"url(#clip340)\" d=\"M2369.1 211.807 Q2365.49 211.807 2363.66 215.371 Q2361.86 218.913 2361.86 226.043 Q2361.86 233.149 2363.66 236.714 Q2365.49 240.256 2369.1 240.256 Q2372.74 240.256 2374.54 236.714 Q2376.37 233.149 2376.37 226.043 Q2376.37 218.913 2374.54 215.371 Q2372.74 211.807 2369.1 211.807 M2369.1 208.103 Q2374.91 208.103 2377.97 212.709 Q2381.05 217.293 2381.05 226.043 Q2381.05 234.77 2377.97 239.376 Q2374.91 243.959 2369.1 243.959 Q2363.29 243.959 2360.21 239.376 Q2357.16 234.77 2357.16 226.043 Q2357.16 217.293 2360.21 212.709 Q2363.29 208.103 2369.1 208.103 Z\" fill=\"#000000\" fill-rule=\"evenodd\" fill-opacity=\"1\" /><path clip-path=\"url(#clip340)\" d=\"M2399.26 211.807 Q2395.65 211.807 2393.82 215.371 Q2392.02 218.913 2392.02 226.043 Q2392.02 233.149 2393.82 236.714 Q2395.65 240.256 2399.26 240.256 Q2402.9 240.256 2404.7 236.714 Q2406.53 233.149 2406.53 226.043 Q2406.53 218.913 2404.7 215.371 Q2402.9 211.807 2399.26 211.807 M2399.26 208.103 Q2405.07 208.103 2408.13 212.709 Q2411.21 217.293 2411.21 226.043 Q2411.21 234.77 2408.13 239.376 Q2405.07 243.959 2399.26 243.959 Q2393.45 243.959 2390.38 239.376 Q2387.32 234.77 2387.32 226.043 Q2387.32 217.293 2390.38 212.709 Q2393.45 208.103 2399.26 208.103 Z\" fill=\"#000000\" fill-rule=\"evenodd\" fill-opacity=\"1\" /><path clip-path=\"url(#clip340)\" d=\"M2429.43 211.807 Q2425.82 211.807 2423.99 215.371 Q2422.18 218.913 2422.18 226.043 Q2422.18 233.149 2423.99 236.714 Q2425.82 240.256 2429.43 240.256 Q2433.06 240.256 2434.87 236.714 Q2436.69 233.149 2436.69 226.043 Q2436.69 218.913 2434.87 215.371 Q2433.06 211.807 2429.43 211.807 M2429.43 208.103 Q2435.24 208.103 2438.29 212.709 Q2441.37 217.293 2441.37 226.043 Q2441.37 234.77 2438.29 239.376 Q2435.24 243.959 2429.43 243.959 Q2423.62 243.959 2420.54 239.376 Q2417.48 234.77 2417.48 226.043 Q2417.48 217.293 2420.54 212.709 Q2423.62 208.103 2429.43 208.103 Z\" fill=\"#000000\" fill-rule=\"evenodd\" fill-opacity=\"1\" /><path clip-path=\"url(#clip340)\" d=\"M2459.59 211.807 Q2455.98 211.807 2454.15 215.371 Q2452.34 218.913 2452.34 226.043 Q2452.34 233.149 2454.15 236.714 Q2455.98 240.256 2459.59 240.256 Q2463.22 240.256 2465.03 236.714 Q2466.86 233.149 2466.86 226.043 Q2466.86 218.913 2465.03 215.371 Q2463.22 211.807 2459.59 211.807 M2459.59 208.103 Q2465.4 208.103 2468.45 212.709 Q2471.53 217.293 2471.53 226.043 Q2471.53 234.77 2468.45 239.376 Q2465.4 243.959 2459.59 243.959 Q2453.78 243.959 2450.7 239.376 Q2447.64 234.77 2447.64 226.043 Q2447.64 217.293 2450.7 212.709 Q2453.78 208.103 2459.59 208.103 Z\" fill=\"#000000\" fill-rule=\"evenodd\" fill-opacity=\"1\" /><path clip-path=\"url(#clip340)\" d=\"M2489.75 211.807 Q2486.14 211.807 2484.31 215.371 Q2482.5 218.913 2482.5 226.043 Q2482.5 233.149 2484.31 236.714 Q2486.14 240.256 2489.75 240.256 Q2493.38 240.256 2495.19 236.714 Q2497.02 233.149 2497.02 226.043 Q2497.02 218.913 2495.19 215.371 Q2493.38 211.807 2489.75 211.807 M2489.75 208.103 Q2495.56 208.103 2498.62 212.709 Q2501.69 217.293 2501.69 226.043 Q2501.69 234.77 2498.62 239.376 Q2495.56 243.959 2489.75 243.959 Q2483.94 243.959 2480.86 239.376 Q2477.81 234.77 2477.81 226.043 Q2477.81 217.293 2480.86 212.709 Q2483.94 208.103 2489.75 208.103 Z\" fill=\"#000000\" fill-rule=\"evenodd\" fill-opacity=\"1\" /><path clip-path=\"url(#clip340)\" d=\"M2519.91 211.807 Q2516.3 211.807 2514.47 215.371 Q2512.67 218.913 2512.67 226.043 Q2512.67 233.149 2514.47 236.714 Q2516.3 240.256 2519.91 240.256 Q2523.55 240.256 2525.35 236.714 Q2527.18 233.149 2527.18 226.043 Q2527.18 218.913 2525.35 215.371 Q2523.55 211.807 2519.91 211.807 M2519.91 208.103 Q2525.72 208.103 2528.78 212.709 Q2531.86 217.293 2531.86 226.043 Q2531.86 234.77 2528.78 239.376 Q2525.72 243.959 2519.91 243.959 Q2514.1 243.959 2511.02 239.376 Q2507.97 234.77 2507.97 226.043 Q2507.97 217.293 2511.02 212.709 Q2514.1 208.103 2519.91 208.103 Z\" fill=\"#000000\" fill-rule=\"evenodd\" fill-opacity=\"1\" /><path clip-path=\"url(#clip340)\" d=\"M2550.07 211.807 Q2546.46 211.807 2544.63 215.371 Q2542.83 218.913 2542.83 226.043 Q2542.83 233.149 2544.63 236.714 Q2546.46 240.256 2550.07 240.256 Q2553.71 240.256 2555.51 236.714 Q2557.34 233.149 2557.34 226.043 Q2557.34 218.913 2555.51 215.371 Q2553.71 211.807 2550.07 211.807 M2550.07 208.103 Q2555.88 208.103 2558.94 212.709 Q2562.02 217.293 2562.02 226.043 Q2562.02 234.77 2558.94 239.376 Q2555.88 243.959 2550.07 243.959 Q2544.26 243.959 2541.19 239.376 Q2538.13 234.77 2538.13 226.043 Q2538.13 217.293 2541.19 212.709 Q2544.26 208.103 2550.07 208.103 Z\" fill=\"#000000\" fill-rule=\"evenodd\" fill-opacity=\"1\" /><path clip-path=\"url(#clip340)\" d=\"M2580.24 211.807 Q2576.62 211.807 2574.8 215.371 Q2572.99 218.913 2572.99 226.043 Q2572.99 233.149 2574.8 236.714 Q2576.62 240.256 2580.24 240.256 Q2583.87 240.256 2585.68 236.714 Q2587.5 233.149 2587.5 226.043 Q2587.5 218.913 2585.68 215.371 Q2583.87 211.807 2580.24 211.807 M2580.24 208.103 Q2586.05 208.103 2589.1 212.709 Q2592.18 217.293 2592.18 226.043 Q2592.18 234.77 2589.1 239.376 Q2586.05 243.959 2580.24 243.959 Q2574.43 243.959 2571.35 239.376 Q2568.29 234.77 2568.29 226.043 Q2568.29 217.293 2571.35 212.709 Q2574.43 208.103 2580.24 208.103 Z\" fill=\"#000000\" fill-rule=\"evenodd\" fill-opacity=\"1\" /><path clip-path=\"url(#clip340)\" d=\"M2610.4 211.807 Q2606.79 211.807 2604.96 215.371 Q2603.15 218.913 2603.15 226.043 Q2603.15 233.149 2604.96 236.714 Q2606.79 240.256 2610.4 240.256 Q2614.03 240.256 2615.84 236.714 Q2617.67 233.149 2617.67 226.043 Q2617.67 218.913 2615.84 215.371 Q2614.03 211.807 2610.4 211.807 M2610.4 208.103 Q2616.21 208.103 2619.26 212.709 Q2622.34 217.293 2622.34 226.043 Q2622.34 234.77 2619.26 239.376 Q2616.21 243.959 2610.4 243.959 Q2604.59 243.959 2601.51 239.376 Q2598.45 234.77 2598.45 226.043 Q2598.45 217.293 2601.51 212.709 Q2604.59 208.103 2610.4 208.103 Z\" fill=\"#000000\" fill-rule=\"evenodd\" fill-opacity=\"1\" /><path clip-path=\"url(#clip340)\" d=\"M2640.56 211.807 Q2636.95 211.807 2635.12 215.371 Q2633.31 218.913 2633.31 226.043 Q2633.31 233.149 2635.12 236.714 Q2636.95 240.256 2640.56 240.256 Q2644.19 240.256 2646 236.714 Q2647.83 233.149 2647.83 226.043 Q2647.83 218.913 2646 215.371 Q2644.19 211.807 2640.56 211.807 M2640.56 208.103 Q2646.37 208.103 2649.43 212.709 Q2652.5 217.293 2652.5 226.043 Q2652.5 234.77 2649.43 239.376 Q2646.37 243.959 2640.56 243.959 Q2634.75 243.959 2631.67 239.376 Q2628.62 234.77 2628.62 226.043 Q2628.62 217.293 2631.67 212.709 Q2634.75 208.103 2640.56 208.103 Z\" fill=\"#000000\" fill-rule=\"evenodd\" fill-opacity=\"1\" /><path clip-path=\"url(#clip340)\" d=\"M2660.72 237.408 L2665.61 237.408 L2665.61 243.288 L2660.72 243.288 L2660.72 237.408 Z\" fill=\"#000000\" fill-rule=\"evenodd\" fill-opacity=\"1\" /><path clip-path=\"url(#clip340)\" d=\"M2685.79 211.807 Q2682.18 211.807 2680.35 215.371 Q2678.55 218.913 2678.55 226.043 Q2678.55 233.149 2680.35 236.714 Q2682.18 240.256 2685.79 240.256 Q2689.42 240.256 2691.23 236.714 Q2693.06 233.149 2693.06 226.043 Q2693.06 218.913 2691.23 215.371 Q2689.42 211.807 2685.79 211.807 M2685.79 208.103 Q2691.6 208.103 2694.66 212.709 Q2697.74 217.293 2697.74 226.043 Q2697.74 234.77 2694.66 239.376 Q2691.6 243.959 2685.79 243.959 Q2679.98 243.959 2676.9 239.376 Q2673.85 234.77 2673.85 226.043 Q2673.85 217.293 2676.9 212.709 Q2679.98 208.103 2685.79 208.103 Z\" fill=\"#000000\" fill-rule=\"evenodd\" fill-opacity=\"1\" /><path clip-path=\"url(#clip340)\" d=\"M2715.95 211.807 Q2712.34 211.807 2710.51 215.371 Q2708.71 218.913 2708.71 226.043 Q2708.71 233.149 2710.51 236.714 Q2712.34 240.256 2715.95 240.256 Q2719.59 240.256 2721.39 236.714 Q2723.22 233.149 2723.22 226.043 Q2723.22 218.913 2721.39 215.371 Q2719.59 211.807 2715.95 211.807 M2715.95 208.103 Q2721.76 208.103 2724.82 212.709 Q2727.9 217.293 2727.9 226.043 Q2727.9 234.77 2724.82 239.376 Q2721.76 243.959 2715.95 243.959 Q2710.14 243.959 2707.06 239.376 Q2704.01 234.77 2704.01 226.043 Q2704.01 217.293 2707.06 212.709 Q2710.14 208.103 2715.95 208.103 Z\" fill=\"#000000\" fill-rule=\"evenodd\" fill-opacity=\"1\" /><path clip-path=\"url(#clip340)\" d=\"M2746.11 211.807 Q2742.5 211.807 2740.67 215.371 Q2738.87 218.913 2738.87 226.043 Q2738.87 233.149 2740.67 236.714 Q2742.5 240.256 2746.11 240.256 Q2749.75 240.256 2751.55 236.714 Q2753.38 233.149 2753.38 226.043 Q2753.38 218.913 2751.55 215.371 Q2749.75 211.807 2746.11 211.807 M2746.11 208.103 Q2751.92 208.103 2754.98 212.709 Q2758.06 217.293 2758.06 226.043 Q2758.06 234.77 2754.98 239.376 Q2751.92 243.959 2746.11 243.959 Q2740.3 243.959 2737.23 239.376 Q2734.17 234.77 2734.17 226.043 Q2734.17 217.293 2737.23 212.709 Q2740.3 208.103 2746.11 208.103 Z\" fill=\"#000000\" fill-rule=\"evenodd\" fill-opacity=\"1\" /><path clip-path=\"url(#clip340)\" d=\"M2776.28 211.807 Q2772.67 211.807 2770.84 215.371 Q2769.03 218.913 2769.03 226.043 Q2769.03 233.149 2770.84 236.714 Q2772.67 240.256 2776.28 240.256 Q2779.91 240.256 2781.72 236.714 Q2783.54 233.149 2783.54 226.043 Q2783.54 218.913 2781.72 215.371 Q2779.91 211.807 2776.28 211.807 M2776.28 208.103 Q2782.09 208.103 2785.14 212.709 Q2788.22 217.293 2788.22 226.043 Q2788.22 234.77 2785.14 239.376 Q2782.09 243.959 2776.28 243.959 Q2770.47 243.959 2767.39 239.376 Q2764.33 234.77 2764.33 226.043 Q2764.33 217.293 2767.39 212.709 Q2770.47 208.103 2776.28 208.103 Z\" fill=\"#000000\" fill-rule=\"evenodd\" fill-opacity=\"1\" /><path clip-path=\"url(#clip340)\" d=\"M2806.44 211.807 Q2802.83 211.807 2801 215.371 Q2799.19 218.913 2799.19 226.043 Q2799.19 233.149 2801 236.714 Q2802.83 240.256 2806.44 240.256 Q2810.07 240.256 2811.88 236.714 Q2813.71 233.149 2813.71 226.043 Q2813.71 218.913 2811.88 215.371 Q2810.07 211.807 2806.44 211.807 M2806.44 208.103 Q2812.25 208.103 2815.3 212.709 Q2818.38 217.293 2818.38 226.043 Q2818.38 234.77 2815.3 239.376 Q2812.25 243.959 2806.44 243.959 Q2800.63 243.959 2797.55 239.376 Q2794.49 234.77 2794.49 226.043 Q2794.49 217.293 2797.55 212.709 Q2800.63 208.103 2806.44 208.103 Z\" fill=\"#000000\" fill-rule=\"evenodd\" fill-opacity=\"1\" /><path clip-path=\"url(#clip340)\" d=\"M2274.38 59.8084 L2290.7 59.8084 L2290.7 63.7436 L2268.76 63.7436 L2268.76 59.8084 Q2271.42 57.0538 2276 52.4242 Q2280.61 47.7714 2281.79 46.4288 Q2284.03 43.9057 2284.91 42.1696 Q2285.82 40.4104 2285.82 38.7205 Q2285.82 35.9659 2283.87 34.2298 Q2281.95 32.4937 2278.85 32.4937 Q2276.65 32.4937 2274.2 33.2576 Q2271.77 34.0215 2268.99 35.5724 L2268.99 30.8502 Q2271.81 29.716 2274.27 29.1373 Q2276.72 28.5586 2278.76 28.5586 Q2284.13 28.5586 2287.32 31.2437 Q2290.52 33.9289 2290.52 38.4196 Q2290.52 40.5492 2289.7 42.4705 Q2288.92 44.3687 2286.81 46.9612 Q2286.23 47.6325 2283.13 50.8501 Q2280.03 54.0445 2274.38 59.8084 Z\" fill=\"#000000\" fill-rule=\"evenodd\" fill-opacity=\"1\" /><path clip-path=\"url(#clip340)\" d=\"M2310.51 32.2622 Q2306.9 32.2622 2305.08 35.827 Q2303.27 39.3687 2303.27 46.4983 Q2303.27 53.6047 2305.08 57.1695 Q2306.9 60.7112 2310.51 60.7112 Q2314.15 60.7112 2315.95 57.1695 Q2317.78 53.6047 2317.78 46.4983 Q2317.78 39.3687 2315.95 35.827 Q2314.15 32.2622 2310.51 32.2622 M2310.51 28.5586 Q2316.33 28.5586 2319.38 33.165 Q2322.46 37.7483 2322.46 46.4983 Q2322.46 55.2251 2319.38 59.8315 Q2316.33 64.4149 2310.51 64.4149 Q2304.7 64.4149 2301.63 59.8315 Q2298.57 55.2251 2298.57 46.4983 Q2298.57 37.7483 2301.63 33.165 Q2304.7 28.5586 2310.51 28.5586 Z\" fill=\"#000000\" fill-rule=\"evenodd\" fill-opacity=\"1\" /><path clip-path=\"url(#clip340)\" d=\"M2340.68 32.2622 Q2337.07 32.2622 2335.24 35.827 Q2333.43 39.3687 2333.43 46.4983 Q2333.43 53.6047 2335.24 57.1695 Q2337.07 60.7112 2340.68 60.7112 Q2344.31 60.7112 2346.12 57.1695 Q2347.95 53.6047 2347.95 46.4983 Q2347.95 39.3687 2346.12 35.827 Q2344.31 32.2622 2340.68 32.2622 M2340.68 28.5586 Q2346.49 28.5586 2349.54 33.165 Q2352.62 37.7483 2352.62 46.4983 Q2352.62 55.2251 2349.54 59.8315 Q2346.49 64.4149 2340.68 64.4149 Q2334.87 64.4149 2331.79 59.8315 Q2328.73 55.2251 2328.73 46.4983 Q2328.73 37.7483 2331.79 33.165 Q2334.87 28.5586 2340.68 28.5586 Z\" fill=\"#000000\" fill-rule=\"evenodd\" fill-opacity=\"1\" /><path clip-path=\"url(#clip340)\" d=\"M2370.84 32.2622 Q2367.23 32.2622 2365.4 35.827 Q2363.59 39.3687 2363.59 46.4983 Q2363.59 53.6047 2365.4 57.1695 Q2367.23 60.7112 2370.84 60.7112 Q2374.47 60.7112 2376.28 57.1695 Q2378.11 53.6047 2378.11 46.4983 Q2378.11 39.3687 2376.28 35.827 Q2374.47 32.2622 2370.84 32.2622 M2370.84 28.5586 Q2376.65 28.5586 2379.7 33.165 Q2382.78 37.7483 2382.78 46.4983 Q2382.78 55.2251 2379.7 59.8315 Q2376.65 64.4149 2370.84 64.4149 Q2365.03 64.4149 2361.95 59.8315 Q2358.89 55.2251 2358.89 46.4983 Q2358.89 37.7483 2361.95 33.165 Q2365.03 28.5586 2370.84 28.5586 Z\" fill=\"#000000\" fill-rule=\"evenodd\" fill-opacity=\"1\" /><path clip-path=\"url(#clip340)\" d=\"M2401 32.2622 Q2397.39 32.2622 2395.56 35.827 Q2393.76 39.3687 2393.76 46.4983 Q2393.76 53.6047 2395.56 57.1695 Q2397.39 60.7112 2401 60.7112 Q2404.63 60.7112 2406.44 57.1695 Q2408.27 53.6047 2408.27 46.4983 Q2408.27 39.3687 2406.44 35.827 Q2404.63 32.2622 2401 32.2622 M2401 28.5586 Q2406.81 28.5586 2409.87 33.165 Q2412.94 37.7483 2412.94 46.4983 Q2412.94 55.2251 2409.87 59.8315 Q2406.81 64.4149 2401 64.4149 Q2395.19 64.4149 2392.11 59.8315 Q2389.06 55.2251 2389.06 46.4983 Q2389.06 37.7483 2392.11 33.165 Q2395.19 28.5586 2401 28.5586 Z\" fill=\"#000000\" fill-rule=\"evenodd\" fill-opacity=\"1\" /><path clip-path=\"url(#clip340)\" d=\"M2431.16 32.2622 Q2427.55 32.2622 2425.72 35.827 Q2423.92 39.3687 2423.92 46.4983 Q2423.92 53.6047 2425.72 57.1695 Q2427.55 60.7112 2431.16 60.7112 Q2434.8 60.7112 2436.6 57.1695 Q2438.43 53.6047 2438.43 46.4983 Q2438.43 39.3687 2436.6 35.827 Q2434.8 32.2622 2431.16 32.2622 M2431.16 28.5586 Q2436.97 28.5586 2440.03 33.165 Q2443.11 37.7483 2443.11 46.4983 Q2443.11 55.2251 2440.03 59.8315 Q2436.97 64.4149 2431.16 64.4149 Q2425.35 64.4149 2422.27 59.8315 Q2419.22 55.2251 2419.22 46.4983 Q2419.22 37.7483 2422.27 33.165 Q2425.35 28.5586 2431.16 28.5586 Z\" fill=\"#000000\" fill-rule=\"evenodd\" fill-opacity=\"1\" /><path clip-path=\"url(#clip340)\" d=\"M2461.32 32.2622 Q2457.71 32.2622 2455.88 35.827 Q2454.08 39.3687 2454.08 46.4983 Q2454.08 53.6047 2455.88 57.1695 Q2457.71 60.7112 2461.32 60.7112 Q2464.96 60.7112 2466.76 57.1695 Q2468.59 53.6047 2468.59 46.4983 Q2468.59 39.3687 2466.76 35.827 Q2464.96 32.2622 2461.32 32.2622 M2461.32 28.5586 Q2467.13 28.5586 2470.19 33.165 Q2473.27 37.7483 2473.27 46.4983 Q2473.27 55.2251 2470.19 59.8315 Q2467.13 64.4149 2461.32 64.4149 Q2455.51 64.4149 2452.44 59.8315 Q2449.38 55.2251 2449.38 46.4983 Q2449.38 37.7483 2452.44 33.165 Q2455.51 28.5586 2461.32 28.5586 Z\" fill=\"#000000\" fill-rule=\"evenodd\" fill-opacity=\"1\" /><path clip-path=\"url(#clip340)\" d=\"M2491.49 32.2622 Q2487.88 32.2622 2486.05 35.827 Q2484.24 39.3687 2484.24 46.4983 Q2484.24 53.6047 2486.05 57.1695 Q2487.88 60.7112 2491.49 60.7112 Q2495.12 60.7112 2496.93 57.1695 Q2498.75 53.6047 2498.75 46.4983 Q2498.75 39.3687 2496.93 35.827 Q2495.12 32.2622 2491.49 32.2622 M2491.49 28.5586 Q2497.3 28.5586 2500.35 33.165 Q2503.43 37.7483 2503.43 46.4983 Q2503.43 55.2251 2500.35 59.8315 Q2497.3 64.4149 2491.49 64.4149 Q2485.68 64.4149 2482.6 59.8315 Q2479.54 55.2251 2479.54 46.4983 Q2479.54 37.7483 2482.6 33.165 Q2485.68 28.5586 2491.49 28.5586 Z\" fill=\"#000000\" fill-rule=\"evenodd\" fill-opacity=\"1\" /><path clip-path=\"url(#clip340)\" d=\"M2521.65 32.2622 Q2518.04 32.2622 2516.21 35.827 Q2514.4 39.3687 2514.4 46.4983 Q2514.4 53.6047 2516.21 57.1695 Q2518.04 60.7112 2521.65 60.7112 Q2525.28 60.7112 2527.09 57.1695 Q2528.92 53.6047 2528.92 46.4983 Q2528.92 39.3687 2527.09 35.827 Q2525.28 32.2622 2521.65 32.2622 M2521.65 28.5586 Q2527.46 28.5586 2530.51 33.165 Q2533.59 37.7483 2533.59 46.4983 Q2533.59 55.2251 2530.51 59.8315 Q2527.46 64.4149 2521.65 64.4149 Q2515.84 64.4149 2512.76 59.8315 Q2509.7 55.2251 2509.7 46.4983 Q2509.7 37.7483 2512.76 33.165 Q2515.84 28.5586 2521.65 28.5586 Z\" fill=\"#000000\" fill-rule=\"evenodd\" fill-opacity=\"1\" /><path clip-path=\"url(#clip340)\" d=\"M2551.81 32.2622 Q2548.2 32.2622 2546.37 35.827 Q2544.56 39.3687 2544.56 46.4983 Q2544.56 53.6047 2546.37 57.1695 Q2548.2 60.7112 2551.81 60.7112 Q2555.44 60.7112 2557.25 57.1695 Q2559.08 53.6047 2559.08 46.4983 Q2559.08 39.3687 2557.25 35.827 Q2555.44 32.2622 2551.81 32.2622 M2551.81 28.5586 Q2557.62 28.5586 2560.68 33.165 Q2563.75 37.7483 2563.75 46.4983 Q2563.75 55.2251 2560.68 59.8315 Q2557.62 64.4149 2551.81 64.4149 Q2546 64.4149 2542.92 59.8315 Q2539.87 55.2251 2539.87 46.4983 Q2539.87 37.7483 2542.92 33.165 Q2546 28.5586 2551.81 28.5586 Z\" fill=\"#000000\" fill-rule=\"evenodd\" fill-opacity=\"1\" /><path clip-path=\"url(#clip340)\" d=\"M2581.97 32.2622 Q2578.36 32.2622 2576.53 35.827 Q2574.73 39.3687 2574.73 46.4983 Q2574.73 53.6047 2576.53 57.1695 Q2578.36 60.7112 2581.97 60.7112 Q2585.61 60.7112 2587.41 57.1695 Q2589.24 53.6047 2589.24 46.4983 Q2589.24 39.3687 2587.41 35.827 Q2585.61 32.2622 2581.97 32.2622 M2581.97 28.5586 Q2587.78 28.5586 2590.84 33.165 Q2593.92 37.7483 2593.92 46.4983 Q2593.92 55.2251 2590.84 59.8315 Q2587.78 64.4149 2581.97 64.4149 Q2576.16 64.4149 2573.08 59.8315 Q2570.03 55.2251 2570.03 46.4983 Q2570.03 37.7483 2573.08 33.165 Q2576.16 28.5586 2581.97 28.5586 Z\" fill=\"#000000\" fill-rule=\"evenodd\" fill-opacity=\"1\" /><path clip-path=\"url(#clip340)\" d=\"M2612.13 32.2622 Q2608.52 32.2622 2606.69 35.827 Q2604.89 39.3687 2604.89 46.4983 Q2604.89 53.6047 2606.69 57.1695 Q2608.52 60.7112 2612.13 60.7112 Q2615.77 60.7112 2617.57 57.1695 Q2619.4 53.6047 2619.4 46.4983 Q2619.4 39.3687 2617.57 35.827 Q2615.77 32.2622 2612.13 32.2622 M2612.13 28.5586 Q2617.94 28.5586 2621 33.165 Q2624.08 37.7483 2624.08 46.4983 Q2624.08 55.2251 2621 59.8315 Q2617.94 64.4149 2612.13 64.4149 Q2606.32 64.4149 2603.24 59.8315 Q2600.19 55.2251 2600.19 46.4983 Q2600.19 37.7483 2603.24 33.165 Q2606.32 28.5586 2612.13 28.5586 Z\" fill=\"#000000\" fill-rule=\"evenodd\" fill-opacity=\"1\" /><path clip-path=\"url(#clip340)\" d=\"M2642.3 32.2622 Q2638.68 32.2622 2636.86 35.827 Q2635.05 39.3687 2635.05 46.4983 Q2635.05 53.6047 2636.86 57.1695 Q2638.68 60.7112 2642.3 60.7112 Q2645.93 60.7112 2647.74 57.1695 Q2649.56 53.6047 2649.56 46.4983 Q2649.56 39.3687 2647.74 35.827 Q2645.93 32.2622 2642.3 32.2622 M2642.3 28.5586 Q2648.11 28.5586 2651.16 33.165 Q2654.24 37.7483 2654.24 46.4983 Q2654.24 55.2251 2651.16 59.8315 Q2648.11 64.4149 2642.3 64.4149 Q2636.49 64.4149 2633.41 59.8315 Q2630.35 55.2251 2630.35 46.4983 Q2630.35 37.7483 2633.41 33.165 Q2636.49 28.5586 2642.3 28.5586 Z\" fill=\"#000000\" fill-rule=\"evenodd\" fill-opacity=\"1\" /><path clip-path=\"url(#clip340)\" d=\"M2662.46 57.864 L2667.34 57.864 L2667.34 63.7436 L2662.46 63.7436 L2662.46 57.864 Z\" fill=\"#000000\" fill-rule=\"evenodd\" fill-opacity=\"1\" /><path clip-path=\"url(#clip340)\" d=\"M2687.53 32.2622 Q2683.92 32.2622 2682.09 35.827 Q2680.28 39.3687 2680.28 46.4983 Q2680.28 53.6047 2682.09 57.1695 Q2683.92 60.7112 2687.53 60.7112 Q2691.16 60.7112 2692.97 57.1695 Q2694.8 53.6047 2694.8 46.4983 Q2694.8 39.3687 2692.97 35.827 Q2691.16 32.2622 2687.53 32.2622 M2687.53 28.5586 Q2693.34 28.5586 2696.39 33.165 Q2699.47 37.7483 2699.47 46.4983 Q2699.47 55.2251 2696.39 59.8315 Q2693.34 64.4149 2687.53 64.4149 Q2681.72 64.4149 2678.64 59.8315 Q2675.58 55.2251 2675.58 46.4983 Q2675.58 37.7483 2678.64 33.165 Q2681.72 28.5586 2687.53 28.5586 Z\" fill=\"#000000\" fill-rule=\"evenodd\" fill-opacity=\"1\" /><path clip-path=\"url(#clip340)\" d=\"M2717.69 32.2622 Q2714.08 32.2622 2712.25 35.827 Q2710.44 39.3687 2710.44 46.4983 Q2710.44 53.6047 2712.25 57.1695 Q2714.08 60.7112 2717.69 60.7112 Q2721.32 60.7112 2723.13 57.1695 Q2724.96 53.6047 2724.96 46.4983 Q2724.96 39.3687 2723.13 35.827 Q2721.32 32.2622 2717.69 32.2622 M2717.69 28.5586 Q2723.5 28.5586 2726.55 33.165 Q2729.63 37.7483 2729.63 46.4983 Q2729.63 55.2251 2726.55 59.8315 Q2723.5 64.4149 2717.69 64.4149 Q2711.88 64.4149 2708.8 59.8315 Q2705.74 55.2251 2705.74 46.4983 Q2705.74 37.7483 2708.8 33.165 Q2711.88 28.5586 2717.69 28.5586 Z\" fill=\"#000000\" fill-rule=\"evenodd\" fill-opacity=\"1\" /><path clip-path=\"url(#clip340)\" d=\"M2747.85 32.2622 Q2744.24 32.2622 2742.41 35.827 Q2740.61 39.3687 2740.61 46.4983 Q2740.61 53.6047 2742.41 57.1695 Q2744.24 60.7112 2747.85 60.7112 Q2751.48 60.7112 2753.29 57.1695 Q2755.12 53.6047 2755.12 46.4983 Q2755.12 39.3687 2753.29 35.827 Q2751.48 32.2622 2747.85 32.2622 M2747.85 28.5586 Q2753.66 28.5586 2756.72 33.165 Q2759.79 37.7483 2759.79 46.4983 Q2759.79 55.2251 2756.72 59.8315 Q2753.66 64.4149 2747.85 64.4149 Q2742.04 64.4149 2738.96 59.8315 Q2735.91 55.2251 2735.91 46.4983 Q2735.91 37.7483 2738.96 33.165 Q2742.04 28.5586 2747.85 28.5586 Z\" fill=\"#000000\" fill-rule=\"evenodd\" fill-opacity=\"1\" /><path clip-path=\"url(#clip340)\" d=\"M2778.01 32.2622 Q2774.4 32.2622 2772.57 35.827 Q2770.77 39.3687 2770.77 46.4983 Q2770.77 53.6047 2772.57 57.1695 Q2774.4 60.7112 2778.01 60.7112 Q2781.65 60.7112 2783.45 57.1695 Q2785.28 53.6047 2785.28 46.4983 Q2785.28 39.3687 2783.45 35.827 Q2781.65 32.2622 2778.01 32.2622 M2778.01 28.5586 Q2783.82 28.5586 2786.88 33.165 Q2789.96 37.7483 2789.96 46.4983 Q2789.96 55.2251 2786.88 59.8315 Q2783.82 64.4149 2778.01 64.4149 Q2772.2 64.4149 2769.12 59.8315 Q2766.07 55.2251 2766.07 46.4983 Q2766.07 37.7483 2769.12 33.165 Q2772.2 28.5586 2778.01 28.5586 Z\" fill=\"#000000\" fill-rule=\"evenodd\" fill-opacity=\"1\" /><path clip-path=\"url(#clip340)\" d=\"M2808.17 32.2622 Q2804.56 32.2622 2802.73 35.827 Q2800.93 39.3687 2800.93 46.4983 Q2800.93 53.6047 2802.73 57.1695 Q2804.56 60.7112 2808.17 60.7112 Q2811.81 60.7112 2813.61 57.1695 Q2815.44 53.6047 2815.44 46.4983 Q2815.44 39.3687 2813.61 35.827 Q2811.81 32.2622 2808.17 32.2622 M2808.17 28.5586 Q2813.98 28.5586 2817.04 33.165 Q2820.12 37.7483 2820.12 46.4983 Q2820.12 55.2251 2817.04 59.8315 Q2813.98 64.4149 2808.17 64.4149 Q2802.36 64.4149 2799.29 59.8315 Q2796.23 55.2251 2796.23 46.4983 Q2796.23 37.7483 2799.29 33.165 Q2802.36 28.5586 2808.17 28.5586 Z\" fill=\"#000000\" fill-rule=\"evenodd\" fill-opacity=\"1\" /><polyline clip-path=\"url(#clip340)\" style=\"stroke:#000000; stroke-linecap:butt; stroke-linejoin:round; stroke-width:4; stroke-opacity:1; fill:none\" points=\"\n  2232.76,1486.45 2232.76,1486.45 2256.76,1486.45 2232.76,1486.45 2232.76,1306.9 2256.76,1306.9 2232.76,1306.9 2232.76,1127.36 2256.76,1127.36 2232.76,1127.36 \n  2232.76,947.815 2256.76,947.815 2232.76,947.815 2232.76,768.27 2256.76,768.27 2232.76,768.27 2232.76,588.726 2256.76,588.726 2232.76,588.726 2232.76,409.181 \n  2256.76,409.181 2232.76,409.181 2232.76,229.637 2256.76,229.637 2232.76,229.637 2232.76,50.0924 2256.76,50.0924 2232.76,50.0924 2232.76,47.2441 \n  \"/>\n</svg>\n"
          },
          "metadata": {},
          "execution_count": 23
        }
      ]
    },
    {
      "cell_type": "markdown",
      "source": [
        "***Global Minimum***"
      ],
      "metadata": {
        "id": "vUzo5dEUVNP8"
      }
    },
    {
      "cell_type": "code",
      "source": [
        "himmelblau(3.0,2.0)"
      ],
      "metadata": {
        "colab": {
          "base_uri": "https://localhost:8080/"
        },
        "id": "MnNGY0_hSdji",
        "outputId": "8caba606-fcf2-41f9-ad80-0de917085369"
      },
      "execution_count": 24,
      "outputs": [
        {
          "output_type": "execute_result",
          "data": {
            "text/plain": [
              "0.0"
            ]
          },
          "metadata": {},
          "execution_count": 24
        }
      ]
    },
    {
      "cell_type": "markdown",
      "source": [
        "***Local Minimums***"
      ],
      "metadata": {
        "id": "K8gF8poUVWtN"
      }
    },
    {
      "cell_type": "code",
      "source": [
        "himmelblau(-2.805118,3.131312)"
      ],
      "metadata": {
        "colab": {
          "base_uri": "https://localhost:8080/"
        },
        "id": "rdlgYg-fUt8F",
        "outputId": "7126f7b4-b078-4c0f-e380-e364abd67892"
      },
      "execution_count": 27,
      "outputs": [
        {
          "output_type": "execute_result",
          "data": {
            "text/plain": [
              "1.0989296656869089e-11"
            ]
          },
          "metadata": {},
          "execution_count": 27
        }
      ]
    },
    {
      "cell_type": "code",
      "source": [
        "himmelblau(-3.779310, -3.283186)"
      ],
      "metadata": {
        "colab": {
          "base_uri": "https://localhost:8080/"
        },
        "id": "T1Ms8OSsUuAq",
        "outputId": "71424571-bfa9-4515-fa27-6102ce55ca84"
      },
      "execution_count": 28,
      "outputs": [
        {
          "output_type": "execute_result",
          "data": {
            "text/plain": [
              "3.797861082863832e-12"
            ]
          },
          "metadata": {},
          "execution_count": 28
        }
      ]
    },
    {
      "cell_type": "code",
      "source": [
        "himmelblau(3.584458,-1.848126)"
      ],
      "metadata": {
        "colab": {
          "base_uri": "https://localhost:8080/"
        },
        "id": "XpF0lrabU0Yb",
        "outputId": "40467057-8995-4aa9-c725-01df222e51d3"
      },
      "execution_count": 29,
      "outputs": [
        {
          "output_type": "execute_result",
          "data": {
            "text/plain": [
              "4.6202475179237533e-8"
            ]
          },
          "metadata": {},
          "execution_count": 29
        }
      ]
    },
    {
      "cell_type": "code",
      "source": [
        "function newtonsMethodWithHimmelblau(x,y,max_iter)\n",
        "    \n",
        "    p_x = 4 * x * ((x^2) + y - 11) + 2 * (x + (y^2) - 7)\n",
        "    p_y = 4 * y * ((y^2) + x - 7) + 2 * (y+ (x^2) - 11)\n",
        "\n",
        "    # just for illustration purpose we write down the 2nd order derivatives\n",
        "    p_x_x = 12 * (x^2) + 4 * y - 42\n",
        "    p_x_y = 4 * y + 4 * x\n",
        "    p_y_x = 4 * x + 4 * y\n",
        "    p_y_y = 12 * (y^2) + 4 * x - 26\n",
        "    \n",
        "    gradient = [p_x, p_y]\n",
        "    hessian = [p_x_x p_x_y;\n",
        "                p_y_x p_y_y]\n",
        "    \n",
        "    \n",
        "    guess_vector = [x, y]\n",
        "    \n",
        "    \n",
        "    converged = false\n",
        "    iter=0\n",
        "    \n",
        "    while converged ==false\n",
        "        #println(\"Current guess: $guess_vector, grad: $gradient, hess : $hessian\")\n",
        "        \n",
        "        x_optimum = (guess_vector - (inv(hessian) * (gradient)))\n",
        "        \n",
        "        guess_vector = x_optimum\n",
        "        \n",
        "        \n",
        "        println(\"Iteration : $iter, Current Guess: $guess_vector\")\n",
        "        \n",
        "        x = guess_vector[1]\n",
        "        y = guess_vector[2]\n",
        "        \n",
        "        p_x = 4 * x * ((x^2) + y - 11) + 2 * (x + (y^2) - 7)\n",
        "        p_y = 4 * y * ((y^2) + x - 7) + 2 * (y+ (x^2) - 11)\n",
        "        p_x_x = 12 * (x^2) + 4 * y - 42\n",
        "        p_x_y = 4 * y + 4 * x\n",
        "        p_y_x = 4 * x + 4 * y\n",
        "        p_y_y = 12 * (y^2) + 4 * x - 26\n",
        "        \n",
        "        \n",
        "        gradient = [p_x, p_y]\n",
        "        hessian = [p_x_x p_x_y; p_y_x p_y_y]\n",
        "        \n",
        "        cost = himmelblau(x,y)\n",
        "        \n",
        "        println(\"Current himmelblau function value : $cost\")\n",
        "        if cost < 1e-3\n",
        "            converged = true\n",
        "        end                     \n",
        "        if iter>max_iter\n",
        "            converged = true \n",
        "        end\n",
        "        iter = iter+1\n",
        "    end\n",
        "end"
      ],
      "metadata": {
        "colab": {
          "base_uri": "https://localhost:8080/"
        },
        "id": "UVXrwIfsUuDb",
        "outputId": "90da1a17-7180-46df-8754-a78cee510e7b"
      },
      "execution_count": 30,
      "outputs": [
        {
          "output_type": "execute_result",
          "data": {
            "text/plain": [
              "newtonsMethodWithHimmelblau (generic function with 1 method)"
            ]
          },
          "metadata": {},
          "execution_count": 30
        }
      ]
    },
    {
      "cell_type": "code",
      "source": [
        "newtonsMethodWithHimmelblau(3.01,2.01,1000)"
      ],
      "metadata": {
        "colab": {
          "base_uri": "https://localhost:8080/"
        },
        "id": "UZrh0TsHUuFh",
        "outputId": "11604000-262e-4c45-9868-99d48671cd55"
      },
      "execution_count": 31,
      "outputs": [
        {
          "output_type": "stream",
          "name": "stdout",
          "text": [
            "Iteration : 0, Current Guess: [3.0000389708914414, 2.000064466603127]\n",
            "Current himmelblau function value : 1.7709384685843918e-7\n"
          ]
        }
      ]
    },
    {
      "cell_type": "code",
      "source": [
        "newtonsMethodWithHimmelblau(5,-4,100)"
      ],
      "metadata": {
        "colab": {
          "base_uri": "https://localhost:8080/"
        },
        "id": "FYCSV-_6UuJ5",
        "outputId": "a624b374-fdf2-49ae-fda6-3c02901e88ef"
      },
      "execution_count": 32,
      "outputs": [
        {
          "output_type": "stream",
          "name": "stdout",
          "text": [
            "Iteration : 0, Current Guess: [4.039381278335852, -2.8825673393190505]\n",
            "Current himmelblau function value : 34.53178289521665\n",
            "Iteration : 1, Current Guess: [3.666575608281751, -2.231305369914019]\n",
            "Current himmelblau function value : 2.7521537242190894\n",
            "Iteration : 2, Current Guess: [3.5927705762106767, -1.9279973924412994]\n",
            "Current himmelblau function value : 0.09646548556533514\n",
            "Iteration : 3, Current Guess: [3.584842379040596, -1.85270052791994]\n",
            "Current himmelblau function value : 0.00030331006142288197\n"
          ]
        }
      ]
    },
    {
      "cell_type": "code",
      "source": [
        "newtonsMethodWithHimmelblau(3.5,2.5,100)"
      ],
      "metadata": {
        "colab": {
          "base_uri": "https://localhost:8080/"
        },
        "id": "rKJfMawNUuh8",
        "outputId": "48ad5867-4177-4050-f0ff-12e9e6da6171"
      },
      "execution_count": 33,
      "outputs": [
        {
          "output_type": "stream",
          "name": "stdout",
          "text": [
            "Iteration : 0, Current Guess: [3.078047683310841, 2.1051881841355526]\n",
            "Current himmelblau function value : 0.5958587210905233\n",
            "Iteration : 1, Current Guess: [3.0015908968587066, 2.0072643408401336]\n",
            "Current himmelblau function value : 0.0012252051453945567\n",
            "Iteration : 2, Current Guess: [2.999991556534955, 2.0000433704011917]\n",
            "Current himmelblau function value : 2.7291357170345963e-8\n"
          ]
        }
      ]
    },
    {
      "cell_type": "code",
      "source": [
        "newtonsMethodWithHimmelblau(3.0,2.0,1000)"
      ],
      "metadata": {
        "colab": {
          "base_uri": "https://localhost:8080/"
        },
        "id": "nE9OL4ZxUukp",
        "outputId": "ea67e809-357a-43cb-a58b-eb4b27b2869c"
      },
      "execution_count": 34,
      "outputs": [
        {
          "output_type": "stream",
          "name": "stdout",
          "text": [
            "Iteration : 0, Current Guess: [3.0, 2.0]\n",
            "Current himmelblau function value : 0.0\n"
          ]
        }
      ]
    },
    {
      "cell_type": "markdown",
      "source": [
        "### What happens when we don't updates gradients and hessians"
      ],
      "metadata": {
        "id": "MCAxsDOKV1JR"
      }
    },
    {
      "cell_type": "code",
      "source": [
        "#Here we do not update gradients and hessians\n",
        "\n",
        "function newtonWithHimmelblau_NotOptimized(x,y,max_iter)\n",
        "    \n",
        "    p_x = 4 * x * ((x^2) + y - 11) + 2 * (x + (y^2) - 7)\n",
        "    p_y = 4 * y * ((y^2) + x - 7) + 2 * (y+ (x^2) - 11)\n",
        "\n",
        "    # just for illustration purpose we write down the 2nd order derivatives\n",
        "    p_x_x = 12 * (x^2) + 4 * y - 42\n",
        "    p_x_y = 4 * y + 4 * x\n",
        "    p_y_x = 4 * x + 4 * y\n",
        "    p_y_y = 12 * (y^2) + 4 * x - 26\n",
        "    \n",
        "    gradient = [p_x, p_y]\n",
        "    hessian = [p_x_x p_x_y;\n",
        "                p_y_x p_y_y]\n",
        "    \n",
        "\n",
        "    \n",
        "    \n",
        "    guess_vector = [x, y]\n",
        "    \n",
        "    \n",
        "    converged = false\n",
        "    iter=0\n",
        "    \n",
        "    while converged ==false\n",
        "        println(\"Current guess: $guess_vector, grad: $gradient, hess : $hessian\")\n",
        "        x_optimum = (guess_vector - (inv(hessian) * (gradient)))\n",
        "        \n",
        "       \n",
        "        guess_vector = x_optimum\n",
        "        \n",
        "        \n",
        "        println(\"Iteration : $iter, Current Guess: $guess_vector\")\n",
        "       \n",
        "        cost = himmelblau(guess_vector[1], guess_vector[2])\n",
        "        println(\"Current himmelblau function value : $cost\")\n",
        "       \n",
        "        \n",
        "        if cost < 1e-3\n",
        "            converged = true\n",
        "        end                     \n",
        "        if iter>max_iter\n",
        "            converged = true \n",
        "        end\n",
        "        iter = iter+1\n",
        "    end\n",
        "end"
      ],
      "metadata": {
        "colab": {
          "base_uri": "https://localhost:8080/"
        },
        "id": "KJYoKGYdUund",
        "outputId": "4740e9c9-1f4e-4a21-d106-25e9e4072bdb"
      },
      "execution_count": 35,
      "outputs": [
        {
          "output_type": "execute_result",
          "data": {
            "text/plain": [
              "newtonWithHimmelblau_NotOptimized (generic function with 1 method)"
            ]
          },
          "metadata": {},
          "execution_count": 35
        }
      ]
    },
    {
      "cell_type": "code",
      "source": [
        "newtonWithHimmelblau_NotOptimized(3.01,2.01,100)"
      ],
      "metadata": {
        "colab": {
          "base_uri": "https://localhost:8080/"
        },
        "id": "DDvR1vvgUuq8",
        "outputId": "b6fc8fab-5f2f-4321-d707-5e6c37805052"
      },
      "execution_count": 36,
      "outputs": [
        {
          "output_type": "stream",
          "name": "stdout",
          "text": [
            "Current guess: [3.01, 2.01], grad: [0.9442039999999766, 0.543003999999986], hess : [74.76119999999997 20.08; 20.08 34.521199999999986]\n",
            "Iteration : 0, Current Guess: [3.0000389708914414, 2.000064466603127]\n",
            "Current himmelblau function value : 1.7709384685843918e-7\n"
          ]
        }
      ]
    },
    {
      "cell_type": "code",
      "source": [
        "]add LinearAlgebra"
      ],
      "metadata": {
        "colab": {
          "base_uri": "https://localhost:8080/"
        },
        "id": "xXaoSIDvV8j6",
        "outputId": "e09276f9-2171-4244-ad5f-00f7f2c03a08"
      },
      "execution_count": 39,
      "outputs": [
        {
          "output_type": "stream",
          "name": "stderr",
          "text": [
            "\u001b[32m\u001b[1m    Updating\u001b[22m\u001b[39m registry at `~/.julia/registries/General`\n",
            "\u001b[32m\u001b[1m   Resolving\u001b[22m\u001b[39m package versions...\n",
            "\u001b[32m\u001b[1m    Updating\u001b[22m\u001b[39m `~/.julia/environments/v1.6/Project.toml`\n",
            " \u001b[90m [37e2e46d] \u001b[39m\u001b[92m+ LinearAlgebra\u001b[39m\n",
            "\u001b[32m\u001b[1m  No Changes\u001b[22m\u001b[39m to `~/.julia/environments/v1.6/Manifest.toml`\n"
          ]
        }
      ]
    },
    {
      "cell_type": "code",
      "source": [
        "using LinearAlgebra"
      ],
      "metadata": {
        "id": "9o_ODpSXWJFY"
      },
      "execution_count": 40,
      "outputs": []
    },
    {
      "cell_type": "code",
      "source": [
        "function _line_search(f, x, d)\n",
        "    d = normalize(d)\n",
        "    objective = α -> f(x + α*d)\n",
        "    v, α = f(x), 1e-6\n",
        "    while f(x + α*d) < v\n",
        "        v = f(x + α*d)\n",
        "        α += 1e-6\n",
        "    end\n",
        "    return x + α*d\n",
        "end"
      ],
      "metadata": {
        "colab": {
          "base_uri": "https://localhost:8080/"
        },
        "id": "aOAvTCzKWSd1",
        "outputId": "526bda3b-cc72-4d10-e9fe-f761abfc2c40"
      },
      "execution_count": 41,
      "outputs": [
        {
          "output_type": "execute_result",
          "data": {
            "text/plain": [
              "_line_search (generic function with 1 method)"
            ]
          },
          "metadata": {},
          "execution_count": 41
        }
      ]
    },
    {
      "cell_type": "markdown",
      "source": [
        "## DFP Method"
      ],
      "metadata": {
        "id": "KLqseVgvXPCn"
      }
    },
    {
      "cell_type": "code",
      "source": [
        "function dfp_method(x,y,max_iter)\n",
        "\n",
        "    \n",
        "    prev_gradient = [0, 0]\n",
        "    prev_hessian = [0 0; 0 0]\n",
        "    prev_guess_vector = [0, 0]\n",
        "    Q=[1 0; 0 1]\n",
        "    \n",
        "    p_x = 4 * x * ((x^2) + y - 11) + 2 * (x + (y^2) - 7)\n",
        "    p_y = 4 * y * ((y^2) + x - 7) + 2 * (y+ (x^2) - 11)\n",
        "    \n",
        "    curr_gradient = [p_x, p_y]\n",
        "    curr_guess_vector = [x, y]\n",
        "    \n",
        "    converged = false\n",
        "    iter=0\n",
        "    \n",
        "    while converged ==false\n",
        "        \n",
        "        println(\"Current Gradient: $curr_gradient\")\n",
        "        #println(\"hess : $Q\")\n",
        "        \n",
        "        optimum_vector = _line_search(himmelblau2, curr_guess_vector, -Q*curr_gradient)\n",
        "\n",
        "        prev_guess_vector = curr_guess_vector\n",
        "        curr_guess_vector = optimum_vector\n",
        "        \n",
        "        x = curr_guess_vector[1]\n",
        "        y = curr_guess_vector[2]\n",
        "        \n",
        "        \n",
        "        p_x = 4 * x * ((x^2) + y - 11) + 2 * (x + (y^2) - 7)\n",
        "        p_y = 4 * y * ((y^2) + x - 7) + 2 * (y+ (x^2) - 11)\n",
        "\n",
        "        prev_gradient = curr_gradient\n",
        "        curr_gradient = [p_x, p_y]\n",
        "        \n",
        "        delta = curr_guess_vector - prev_guess_vector\n",
        "        gamma = curr_gradient - prev_gradient\n",
        "        \n",
        "        \n",
        "       \n",
        "        δ = delta\n",
        "        γ = gamma\n",
        "        \n",
        "        Q = Q - Q*γ*γ'*Q/(γ'*Q*γ) + δ*δ'/(δ'*γ)\n",
        "       \n",
        "        \n",
        "        println(\"Iteration : $iter\")\n",
        "        println(\"Current Guess: $curr_guess_vector\")\n",
        "        println(\"Previous Guess: $prev_guess_vector\")\n",
        "        \n",
        "        cost = himmelblau2(curr_guess_vector)\n",
        "        println(\"Current himmelblau function value : $cost\")\n",
        "       \n",
        "        if cost < 1e-9\n",
        "            converged = true\n",
        "        end                     \n",
        "        if iter>max_iter\n",
        "            converged = true \n",
        "        end\n",
        "        iter = iter+1\n",
        "    end    \n",
        "    \n",
        "\n",
        "end"
      ],
      "metadata": {
        "colab": {
          "base_uri": "https://localhost:8080/"
        },
        "id": "ExNKT7DCV8t5",
        "outputId": "584d3e13-cdee-4b0f-aee7-53b63245b7ff"
      },
      "execution_count": 37,
      "outputs": [
        {
          "output_type": "execute_result",
          "data": {
            "text/plain": [
              "dfp_method (generic function with 1 method)"
            ]
          },
          "metadata": {},
          "execution_count": 37
        }
      ]
    },
    {
      "cell_type": "code",
      "source": [
        "dfp_method(3.5,2.5,30)"
      ],
      "metadata": {
        "colab": {
          "base_uri": "https://localhost:8080/"
        },
        "id": "C6V6U1gZV8x-",
        "outputId": "4970a71b-343c-48d9-d86f-e619cd74a58d"
      },
      "execution_count": 42,
      "outputs": [
        {
          "output_type": "stream",
          "name": "stdout",
          "text": [
            "Current Gradient: [58.0, 35.0]\n",
            "Iteration : 0\n",
            "Current Guess: [2.922486011234583, 2.151500179193283]\n",
            "Previous Guess: [3.5, 2.5]\n",
            "Current himmelblau function value : 0.39868759301407564\n",
            "Current Gradient: [-2.4926603905023432, 4.130534037369193]\n",
            "Iteration : 1\n",
            "Current Guess: [2.9998530944571904, 1.999889564348289]\n",
            "Previous Guess: [2.922486011234583, 2.151500179193283]\n",
            "Current himmelblau function value : 1.330253406628706e-6\n",
            "Current Gradient: [-0.013078857003732958, -0.006692522258048494]\n",
            "Iteration : 2\n",
            "Current Guess: [3.0000088326905963, 1.99998374291621]\n",
            "Previous Guess: [2.9998530944571904, 1.999889564348289]\n",
            "Current himmelblau function value : 4.50768501043828e-9\n",
            "Current Gradient: [0.0003284801911385717, -0.00037608111226546017]\n",
            "Iteration : 3\n",
            "Current Guess: [2.9999996734250454, 2.000000389473048]\n",
            "Previous Guess: [3.0000088326905963, 1.99998374291621]\n",
            "Current himmelblau function value : 3.9809689551575236e-12\n"
          ]
        }
      ]
    },
    {
      "cell_type": "markdown",
      "source": [
        "## BFGS Method"
      ],
      "metadata": {
        "id": "Jb0aBFTfXIbw"
      }
    },
    {
      "cell_type": "code",
      "source": [
        "function bfgs_method(x,y,max_iter)\n",
        "\n",
        "    \n",
        "    prev_gradient = [0, 0]\n",
        "    prev_guess_vector = [0, 0]\n",
        "    \n",
        "    Q=[1 0; 0 1]\n",
        "    \n",
        "    p_x = 4 * x * ((x^2) + y - 11) + 2 * (x + (y^2) - 7)\n",
        "    p_y = 4 * y * ((y^2) + x - 7) + 2 * (y+ (x^2) - 11)\n",
        "    \n",
        "    curr_gradient = [p_x, p_y]\n",
        "    curr_guess_vector = [x, y]\n",
        "    \n",
        "    converged = false\n",
        "    iter=0\n",
        "    \n",
        "    while converged ==false\n",
        "        \n",
        "        println(\"Current Gradient: $curr_gradient\")\n",
        "        #println(\"hess : $Q\")\n",
        "        \n",
        "        optimum_vector = _line_search(himmelblau2, curr_guess_vector, -Q*curr_gradient)\n",
        "\n",
        "        prev_guess_vector = curr_guess_vector\n",
        "        curr_guess_vector = optimum_vector\n",
        "        \n",
        "        x = curr_guess_vector[1]\n",
        "        y = curr_guess_vector[2]\n",
        "        \n",
        "        \n",
        "        p_x = 4 * x * ((x^2) + y - 11) + 2 * (x + (y^2) - 7)\n",
        "        p_y = 4 * y * ((y^2) + x - 7) + 2 * (y+ (x^2) - 11)\n",
        "\n",
        "        prev_gradient = curr_gradient\n",
        "        curr_gradient = [p_x, p_y]\n",
        "        \n",
        "        delta = curr_guess_vector - prev_guess_vector\n",
        "        gamma = curr_gradient - prev_gradient\n",
        "        \n",
        "        \n",
        "       \n",
        "        δ = delta\n",
        "        γ = gamma\n",
        "        \n",
        "        Q = Q - (δ*γ'*Q + Q*γ*δ')/(δ'*γ) +(1 + (γ'*Q*γ)/(δ'*γ))*(δ*δ')/(δ'*γ)\n",
        "       \n",
        "        \n",
        "        println(\"Iteration : $iter\")\n",
        "        println(\"Current Guess: $curr_guess_vector\")\n",
        "        println(\"Previous Guess: $prev_guess_vector\")\n",
        "        \n",
        "        cost = himmelblau2(curr_guess_vector)\n",
        "        println(\"Current himmelblau function value : $cost\")\n",
        "       \n",
        "        if cost < 1e-9\n",
        "\n",
        "            converged = true\n",
        "        end                     \n",
        "        if iter>max_iter\n",
        "            converged = true \n",
        "        end\n",
        "        iter = iter+1\n",
        "    end    \n",
        "    \n",
        "\n",
        "end"
      ],
      "metadata": {
        "colab": {
          "base_uri": "https://localhost:8080/"
        },
        "id": "RCPW9FYCV83y",
        "outputId": "edd1628b-7d3f-4123-da48-94f738c679f3"
      },
      "execution_count": 43,
      "outputs": [
        {
          "output_type": "execute_result",
          "data": {
            "text/plain": [
              "bfgs_method (generic function with 1 method)"
            ]
          },
          "metadata": {},
          "execution_count": 43
        }
      ]
    },
    {
      "cell_type": "code",
      "source": [
        "bfgs_method(3.5,2.5,10)"
      ],
      "metadata": {
        "colab": {
          "base_uri": "https://localhost:8080/"
        },
        "id": "9mDCAQzPV89Z",
        "outputId": "356c29f2-9052-42df-c585-ee19e8397d58"
      },
      "execution_count": 44,
      "outputs": [
        {
          "output_type": "stream",
          "name": "stdout",
          "text": [
            "Current Gradient: [58.0, 35.0]\n",
            "Iteration : 0\n",
            "Current Guess: [2.922486011234583, 2.151500179193283]\n",
            "Previous Guess: [3.5, 2.5]\n",
            "Current himmelblau function value : 0.39868759301407564\n",
            "Current Gradient: [-2.4926603905023432, 4.130534037369193]\n",
            "Iteration : 1\n",
            "Current Guess: [2.9998530943263937, 1.9998895642815433]\n",
            "Previous Guess: [2.922486011234583, 2.151500179193283]\n",
            "Current himmelblau function value : 1.330255563994759e-6\n",
            "Current Gradient: [-0.013078868016074573, -0.006692527142803518]\n",
            "Iteration : 2\n",
            "Current Guess: [3.0000088325749843, 1.9999837428243539]\n",
            "Previous Guess: [2.9998530943263937, 1.9998895642815433]\n",
            "Current himmelblau function value : 4.507681580343393e-9\n",
            "Current Gradient: [0.00032846979864603745, -0.0003760865475491386]\n",
            "Iteration : 3\n",
            "Current Guess: [2.99999967745733, 2.0000003916627738]\n",
            "Previous Guess: [3.0000088325749843, 1.9999837428243539]\n",
            "Current himmelblau function value : 3.930485941792099e-12\n"
          ]
        }
      ]
    },
    {
      "cell_type": "code",
      "source": [
        "]add Optim"
      ],
      "metadata": {
        "colab": {
          "base_uri": "https://localhost:8080/"
        },
        "id": "HAAU0rF1V9lx",
        "outputId": "6d1cf420-e6b3-436b-c3ce-da4a56838dbc"
      },
      "execution_count": 45,
      "outputs": [
        {
          "output_type": "stream",
          "name": "stderr",
          "text": [
            "\u001b[32m\u001b[1m   Resolving\u001b[22m\u001b[39m package versions...\n",
            "\u001b[32m\u001b[1m   Installed\u001b[22m\u001b[39m OpenSpecFun_jll ──────── v0.5.5+0\n",
            "\u001b[32m\u001b[1m   Installed\u001b[22m\u001b[39m IfElse ───────────────── v0.1.1\n",
            "\u001b[32m\u001b[1m   Installed\u001b[22m\u001b[39m PositiveFactorizations ─ v0.2.4\n",
            "\u001b[32m\u001b[1m   Installed\u001b[22m\u001b[39m Static ───────────────── v0.4.1\n",
            "\u001b[32m\u001b[1m   Installed\u001b[22m\u001b[39m ArrayInterface ───────── v3.2.1\n",
            "\u001b[32m\u001b[1m   Installed\u001b[22m\u001b[39m DiffRules ────────────── v1.9.0\n",
            "\u001b[32m\u001b[1m   Installed\u001b[22m\u001b[39m FillArrays ───────────── v0.12.7\n",
            "\u001b[32m\u001b[1m   Installed\u001b[22m\u001b[39m FiniteDiff ───────────── v2.8.1\n",
            "\u001b[32m\u001b[1m   Installed\u001b[22m\u001b[39m SpecialFunctions ─────── v2.0.0\n",
            "\u001b[32m\u001b[1m   Installed\u001b[22m\u001b[39m Parameters ───────────── v0.12.3\n",
            "\u001b[32m\u001b[1m   Installed\u001b[22m\u001b[39m ForwardDiff ──────────── v0.10.24\n",
            "\u001b[32m\u001b[1m   Installed\u001b[22m\u001b[39m NLSolversBase ────────── v7.8.2\n",
            "\u001b[32m\u001b[1m   Installed\u001b[22m\u001b[39m LineSearches ─────────── v7.1.1\n",
            "\u001b[32m\u001b[1m   Installed\u001b[22m\u001b[39m Optim ────────────────── v1.6.0\n",
            "\u001b[32m\u001b[1m   Installed\u001b[22m\u001b[39m CommonSubexpressions ─── v0.3.0\n",
            "\u001b[32m\u001b[1m   Installed\u001b[22m\u001b[39m DiffResults ──────────── v1.0.3\n",
            "\u001b[32m\u001b[1m   Installed\u001b[22m\u001b[39m UnPack ───────────────── v1.0.2\n",
            "\u001b[32m\u001b[1m    Updating\u001b[22m\u001b[39m `~/.julia/environments/v1.6/Project.toml`\n",
            " \u001b[90m [429524aa] \u001b[39m\u001b[92m+ Optim v1.6.0\u001b[39m\n",
            "\u001b[32m\u001b[1m    Updating\u001b[22m\u001b[39m `~/.julia/environments/v1.6/Manifest.toml`\n",
            " \u001b[90m [4fba245c] \u001b[39m\u001b[92m+ ArrayInterface v3.2.1\u001b[39m\n",
            " \u001b[90m [bbf7d656] \u001b[39m\u001b[92m+ CommonSubexpressions v0.3.0\u001b[39m\n",
            " \u001b[90m [163ba53b] \u001b[39m\u001b[92m+ DiffResults v1.0.3\u001b[39m\n",
            " \u001b[90m [b552c78f] \u001b[39m\u001b[92m+ DiffRules v1.9.0\u001b[39m\n",
            " \u001b[90m [1a297f60] \u001b[39m\u001b[92m+ FillArrays v0.12.7\u001b[39m\n",
            " \u001b[90m [6a86dc24] \u001b[39m\u001b[92m+ FiniteDiff v2.8.1\u001b[39m\n",
            " \u001b[90m [f6369f11] \u001b[39m\u001b[92m+ ForwardDiff v0.10.24\u001b[39m\n",
            " \u001b[90m [615f187c] \u001b[39m\u001b[92m+ IfElse v0.1.1\u001b[39m\n",
            " \u001b[90m [d3d80556] \u001b[39m\u001b[92m+ LineSearches v7.1.1\u001b[39m\n",
            " \u001b[90m [d41bc354] \u001b[39m\u001b[92m+ NLSolversBase v7.8.2\u001b[39m\n",
            " \u001b[90m [429524aa] \u001b[39m\u001b[92m+ Optim v1.6.0\u001b[39m\n",
            " \u001b[90m [d96e819e] \u001b[39m\u001b[92m+ Parameters v0.12.3\u001b[39m\n",
            " \u001b[90m [85a6dd25] \u001b[39m\u001b[92m+ PositiveFactorizations v0.2.4\u001b[39m\n",
            " \u001b[90m [276daf66] \u001b[39m\u001b[92m+ SpecialFunctions v2.0.0\u001b[39m\n",
            " \u001b[90m [aedffcd0] \u001b[39m\u001b[92m+ Static v0.4.1\u001b[39m\n",
            " \u001b[90m [3a884ed6] \u001b[39m\u001b[92m+ UnPack v1.0.2\u001b[39m\n",
            " \u001b[90m [efe28fd5] \u001b[39m\u001b[92m+ OpenSpecFun_jll v0.5.5+0\u001b[39m\n",
            " \u001b[90m [05823500] \u001b[39m\u001b[92m+ OpenLibm_jll\u001b[39m\n",
            "\u001b[32m\u001b[1mPrecompiling\u001b[22m\u001b[39m project...\n",
            "\u001b[32m  ✓ \u001b[39m\u001b[90mUnPack\u001b[39m\n",
            "\u001b[32m  ✓ \u001b[39m\u001b[90mPositiveFactorizations\u001b[39m\n",
            "\u001b[32m  ✓ \u001b[39m\u001b[90mIfElse\u001b[39m\n",
            "\u001b[32m  ✓ \u001b[39m\u001b[90mFillArrays\u001b[39m\n",
            "\u001b[32m  ✓ \u001b[39m\u001b[90mOpenLibm_jll\u001b[39m\n",
            "\u001b[32m  ✓ \u001b[39m\u001b[90mCommonSubexpressions\u001b[39m\n",
            "\u001b[32m  ✓ \u001b[39m\u001b[90mDiffResults\u001b[39m\n",
            "\u001b[32m  ✓ \u001b[39m\u001b[90mParameters\u001b[39m\n",
            "\u001b[32m  ✓ \u001b[39m\u001b[90mOpenSpecFun_jll\u001b[39m\n",
            "\u001b[32m  ✓ \u001b[39m\u001b[90mStatic\u001b[39m\n",
            "\u001b[32m  ✓ \u001b[39m\u001b[90mArrayInterface\u001b[39m\n",
            "\u001b[32m  ✓ \u001b[39m\u001b[90mFiniteDiff\u001b[39m\n",
            "\u001b[32m  ✓ \u001b[39m\u001b[90mSpecialFunctions\u001b[39m\n",
            "\u001b[32m  ✓ \u001b[39m\u001b[90mDiffRules\u001b[39m\n",
            "\u001b[32m  ✓ \u001b[39m\u001b[90mForwardDiff\u001b[39m\n",
            "\u001b[32m  ✓ \u001b[39m\u001b[90mNLSolversBase\u001b[39m\n",
            "\u001b[32m  ✓ \u001b[39m\u001b[90mLineSearches\u001b[39m\n",
            "\u001b[32m  ✓ \u001b[39mOptim\n",
            "18 dependencies successfully precompiled in 30 seconds (132 already precompiled)\n"
          ]
        }
      ]
    },
    {
      "cell_type": "code",
      "source": [
        "using Optim"
      ],
      "metadata": {
        "id": "GbzgUK42V9qN"
      },
      "execution_count": 46,
      "outputs": []
    },
    {
      "cell_type": "code",
      "source": [
        "f(x) = (1.0 - x[1])^2 + 100.0 * (x[2] - x[1]^2)^2"
      ],
      "metadata": {
        "colab": {
          "base_uri": "https://localhost:8080/"
        },
        "id": "LpdEUP_HV9to",
        "outputId": "a232edc5-1b38-4d4e-96e9-7dbfdc679b09"
      },
      "execution_count": 47,
      "outputs": [
        {
          "output_type": "execute_result",
          "data": {
            "text/plain": [
              "f (generic function with 1 method)"
            ]
          },
          "metadata": {},
          "execution_count": 47
        }
      ]
    },
    {
      "cell_type": "code",
      "source": [
        "x0 = [0.0, 0.0]\n",
        "optimize(f, x0)"
      ],
      "metadata": {
        "colab": {
          "base_uri": "https://localhost:8080/"
        },
        "id": "R1AaAEIBWq3C",
        "outputId": "64deb7f7-5b1a-4660-8c1f-a074035304e2"
      },
      "execution_count": 48,
      "outputs": [
        {
          "output_type": "execute_result",
          "data": {
            "text/plain": [
              " * Status: success\n",
              "\n",
              " * Candidate solution\n",
              "    Final objective value:     3.525527e-09\n",
              "\n",
              " * Found with\n",
              "    Algorithm:     Nelder-Mead\n",
              "\n",
              " * Convergence measures\n",
              "    √(Σ(yᵢ-ȳ)²)/n ≤ 1.0e-08\n",
              "\n",
              " * Work counters\n",
              "    Seconds run:   0  (vs limit Inf)\n",
              "    Iterations:    60\n",
              "    f(x) calls:    117\n"
            ]
          },
          "metadata": {},
          "execution_count": 48
        }
      ]
    },
    {
      "cell_type": "code",
      "source": [
        "optimize(f, x0, LBFGS())"
      ],
      "metadata": {
        "colab": {
          "base_uri": "https://localhost:8080/"
        },
        "id": "iy9tQHg9WrAD",
        "outputId": "1ab3a8c4-f6d2-476a-a776-bcc7d4e21333"
      },
      "execution_count": 49,
      "outputs": [
        {
          "output_type": "execute_result",
          "data": {
            "text/plain": [
              " * Status: success\n",
              "\n",
              " * Candidate solution\n",
              "    Final objective value:     5.378388e-17\n",
              "\n",
              " * Found with\n",
              "    Algorithm:     L-BFGS\n",
              "\n",
              " * Convergence measures\n",
              "    |x - x'|               = 4.54e-11 ≰ 0.0e+00\n",
              "    |x - x'|/|x'|          = 4.54e-11 ≰ 0.0e+00\n",
              "    |f(x) - f(x')|         = 2.85e-19 ≰ 0.0e+00\n",
              "    |f(x) - f(x')|/|f(x')| = 5.30e-03 ≰ 0.0e+00\n",
              "    |g(x)|                 = 9.88e-14 ≤ 1.0e-08\n",
              "\n",
              " * Work counters\n",
              "    Seconds run:   1  (vs limit Inf)\n",
              "    Iterations:    24\n",
              "    f(x) calls:    67\n",
              "    ∇f(x) calls:   67\n"
            ]
          },
          "metadata": {},
          "execution_count": 49
        }
      ]
    },
    {
      "cell_type": "code",
      "source": [
        "himmelblau2(x) = (x[1]^2 + x[2] - 11)^2 + (x[1] + x[2]^2 - 7)^2"
      ],
      "metadata": {
        "colab": {
          "base_uri": "https://localhost:8080/"
        },
        "id": "zC8BfmIoWrEB",
        "outputId": "30bf1f10-8601-4e4c-bc65-57f267db2acc"
      },
      "execution_count": 50,
      "outputs": [
        {
          "output_type": "execute_result",
          "data": {
            "text/plain": [
              "himmelblau2 (generic function with 1 method)"
            ]
          },
          "metadata": {},
          "execution_count": 50
        }
      ]
    },
    {
      "cell_type": "code",
      "source": [
        "x0 = [3.01, 2.01]\n",
        "optimize(himmelblau2, x0)"
      ],
      "metadata": {
        "colab": {
          "base_uri": "https://localhost:8080/"
        },
        "id": "yMnkqzeJWrH_",
        "outputId": "fd8cefe6-822c-427c-c94d-a1c20b46741c"
      },
      "execution_count": 51,
      "outputs": [
        {
          "output_type": "execute_result",
          "data": {
            "text/plain": [
              " * Status: success\n",
              "\n",
              " * Candidate solution\n",
              "    Final objective value:     1.416409e-09\n",
              "\n",
              " * Found with\n",
              "    Algorithm:     Nelder-Mead\n",
              "\n",
              " * Convergence measures\n",
              "    √(Σ(yᵢ-ȳ)²)/n ≤ 1.0e-08\n",
              "\n",
              " * Work counters\n",
              "    Seconds run:   0  (vs limit Inf)\n",
              "    Iterations:    36\n",
              "    f(x) calls:    72\n"
            ]
          },
          "metadata": {},
          "execution_count": 51
        }
      ]
    },
    {
      "cell_type": "code",
      "source": [
        "optimize(himmelblau2, x0, LBFGS())"
      ],
      "metadata": {
        "colab": {
          "base_uri": "https://localhost:8080/"
        },
        "id": "etLczlklWrLz",
        "outputId": "02b111e4-2562-4456-f20f-745df7d38687"
      },
      "execution_count": 52,
      "outputs": [
        {
          "output_type": "execute_result",
          "data": {
            "text/plain": [
              " * Status: success\n",
              "\n",
              " * Candidate solution\n",
              "    Final objective value:     1.061505e-19\n",
              "\n",
              " * Found with\n",
              "    Algorithm:     L-BFGS\n",
              "\n",
              " * Convergence measures\n",
              "    |x - x'|               = 5.41e-10 ≰ 0.0e+00\n",
              "    |x - x'|/|x'|          = 1.80e-10 ≰ 0.0e+00\n",
              "    |f(x) - f(x')|         = 4.16e-18 ≰ 0.0e+00\n",
              "    |f(x) - f(x')|/|f(x')| = 3.92e+01 ≰ 0.0e+00\n",
              "    |g(x)|                 = 3.38e-14 ≤ 1.0e-08\n",
              "\n",
              " * Work counters\n",
              "    Seconds run:   0  (vs limit Inf)\n",
              "    Iterations:    5\n",
              "    f(x) calls:    14\n",
              "    ∇f(x) calls:   14\n"
            ]
          },
          "metadata": {},
          "execution_count": 52
        }
      ]
    },
    {
      "cell_type": "code",
      "source": [
        "optimize(himmelblau2, x0, BFGS())"
      ],
      "metadata": {
        "colab": {
          "base_uri": "https://localhost:8080/"
        },
        "id": "X_Q6HZuNWrPZ",
        "outputId": "153706f3-2a50-4ce4-dcb0-e9441a1196c6"
      },
      "execution_count": 53,
      "outputs": [
        {
          "output_type": "execute_result",
          "data": {
            "text/plain": [
              " * Status: success\n",
              "\n",
              " * Candidate solution\n",
              "    Final objective value:     1.067925e-19\n",
              "\n",
              " * Found with\n",
              "    Algorithm:     BFGS\n",
              "\n",
              " * Convergence measures\n",
              "    |x - x'|               = 2.19e-08 ≰ 0.0e+00\n",
              "    |x - x'|/|x'|          = 7.30e-09 ≰ 0.0e+00\n",
              "    |f(x) - f(x')|         = 2.53e-14 ≰ 0.0e+00\n",
              "    |f(x) - f(x')|/|f(x')| = 2.36e+05 ≰ 0.0e+00\n",
              "    |g(x)|                 = 2.57e-11 ≤ 1.0e-08\n",
              "\n",
              " * Work counters\n",
              "    Seconds run:   0  (vs limit Inf)\n",
              "    Iterations:    5\n",
              "    f(x) calls:    11\n",
              "    ∇f(x) calls:   11\n"
            ]
          },
          "metadata": {},
          "execution_count": 53
        }
      ]
    }
  ]
}