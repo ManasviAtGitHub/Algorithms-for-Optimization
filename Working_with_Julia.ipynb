{
  "nbformat": 4,
  "nbformat_minor": 0,
  "metadata": {
    "colab": {
      "name": "Working_with_Julia.ipynb",
      "provenance": [],
      "collapsed_sections": [],
      "include_colab_link": true
    },
    "kernelspec": {
      "display_name": "Julia",
      "language": "julia",
      "name": "julia"
    },
    "language_info": {
      "file_extension": ".jl",
      "mimetype": "application/julia",
      "name": "julia"
    }
  },
  "cells": [
    {
      "cell_type": "markdown",
      "metadata": {
        "id": "view-in-github",
        "colab_type": "text"
      },
      "source": [
        "<a href=\"https://colab.research.google.com/github/ManasviAtGitHub/Algorithms-for-Optimization/blob/main/Working_with_Julia.ipynb\" target=\"_parent\"><img src=\"https://colab.research.google.com/assets/colab-badge.svg\" alt=\"Open In Colab\"/></a>"
      ]
    },
    {
      "cell_type": "markdown",
      "metadata": {
        "id": "tQ1r1bbb0yBv"
      },
      "source": [
        "# <img src=\"https://github.com/JuliaLang/julia-logo-graphics/raw/master/images/julia-logo-color.png\" height=\"100\" /> _Colab Notebook Template_\n",
        "\n",
        "## Instructions\n",
        "1. Work on a copy of this notebook: _File_ > _Save a copy in Drive_ (you will need a Google account). Alternatively, you can download the notebook using _File_ > _Download .ipynb_, then upload it to [Colab](https://colab.research.google.com/).\n",
        "2. If you need a GPU: _Runtime_ > _Change runtime type_ > _Harware accelerator_ = _GPU_.\n",
        "3. Execute the following cell (click on it and press Ctrl+Enter) to install Julia, IJulia and other packages (if needed, update `JULIA_VERSION` and the other parameters). This takes a couple of minutes.\n",
        "4. Reload this page (press Ctrl+R, or ⌘+R, or the F5 key) and continue to the next section.\n",
        "\n",
        "_Notes_:\n",
        "* If your Colab Runtime gets reset (e.g., due to inactivity), repeat steps 2, 3 and 4.\n",
        "* After installation, if you want to change the Julia version or activate/deactivate the GPU, you will need to reset the Runtime: _Runtime_ > _Factory reset runtime_ and repeat steps 3 and 4."
      ]
    },
    {
      "cell_type": "code",
      "metadata": {
        "id": "GIeFXS0F0zww",
        "colab": {
          "base_uri": "https://localhost:8080/"
        },
        "outputId": "c78adc8f-a7aa-45e1-ebd7-467f884defe7"
      },
      "source": [
        "%%shell\n",
        "set -e\n",
        "\n",
        "#---------------------------------------------------#\n",
        "JULIA_VERSION=\"1.6.0\" # any version ≥ 0.7.0\n",
        "JULIA_PACKAGES=\"IJulia BenchmarkTools Plots\"\n",
        "JULIA_PACKAGES_IF_GPU=\"CUDA\" # or CuArrays for older Julia versions\n",
        "JULIA_NUM_THREADS=2\n",
        "#---------------------------------------------------#\n",
        "\n",
        "if [ -n \"$COLAB_GPU\" ] && [ -z `which julia` ]; then\n",
        "  # Install Julia\n",
        "  JULIA_VER=`cut -d '.' -f -2 <<< \"$JULIA_VERSION\"`\n",
        "  echo \"Installing Julia $JULIA_VERSION on the current Colab Runtime...\"\n",
        "  BASE_URL=\"https://julialang-s3.julialang.org/bin/linux/x64\"\n",
        "  URL=\"$BASE_URL/$JULIA_VER/julia-$JULIA_VERSION-linux-x86_64.tar.gz\"\n",
        "  wget -nv $URL -O /tmp/julia.tar.gz # -nv means \"not verbose\"\n",
        "  tar -x -f /tmp/julia.tar.gz -C /usr/local --strip-components 1\n",
        "  rm /tmp/julia.tar.gz\n",
        "\n",
        "  # Install Packages\n",
        "  if [ \"$COLAB_GPU\" = \"1\" ]; then\n",
        "      JULIA_PACKAGES=\"$JULIA_PACKAGES $JULIA_PACKAGES_IF_GPU\"\n",
        "  fi\n",
        "  for PKG in `echo $JULIA_PACKAGES`; do\n",
        "    echo \"Installing Julia package $PKG...\"\n",
        "    julia -e 'using Pkg; pkg\"add '$PKG'; precompile;\"' &> /dev/null\n",
        "  done\n",
        "\n",
        "  # Install kernel and rename it to \"julia\"\n",
        "  echo \"Installing IJulia kernel...\"\n",
        "  julia -e 'using IJulia; IJulia.installkernel(\"julia\", env=Dict(\n",
        "      \"JULIA_NUM_THREADS\"=>\"'\"$JULIA_NUM_THREADS\"'\"))'\n",
        "  KERNEL_DIR=`julia -e \"using IJulia; print(IJulia.kerneldir())\"`\n",
        "  KERNEL_NAME=`ls -d \"$KERNEL_DIR\"/julia*`\n",
        "  mv -f $KERNEL_NAME \"$KERNEL_DIR\"/julia  \n",
        "\n",
        "  echo ''\n",
        "  echo \"Success! Please reload this page and jump to the next section.\"\n",
        "fi"
      ],
      "execution_count": null,
      "outputs": [
        {
          "output_type": "stream",
          "name": "stdout",
          "text": [
            "Installing Julia 1.6.0 on the current Colab Runtime...\n",
            "2021-10-21 15:58:28 URL:https://storage.googleapis.com/julialang2/bin/linux/x64/1.6/julia-1.6.0-linux-x86_64.tar.gz [112838927/112838927] -> \"/tmp/julia.tar.gz\" [1]\n",
            "Installing Julia package IJulia...\n",
            "Installing Julia package BenchmarkTools...\n",
            "Installing Julia package Plots...\n",
            "Installing IJulia kernel...\n",
            "\u001b[36m\u001b[1m[ \u001b[22m\u001b[39m\u001b[36m\u001b[1mInfo: \u001b[22m\u001b[39mInstalling julia kernelspec in /root/.local/share/jupyter/kernels/julia-1.6\n",
            "\n",
            "Success! Please reload this page and jump to the next section.\n"
          ]
        },
        {
          "output_type": "execute_result",
          "data": {
            "text/plain": [
              ""
            ]
          },
          "metadata": {},
          "execution_count": 2
        }
      ]
    },
    {
      "cell_type": "markdown",
      "metadata": {
        "id": "-OS3Ac017T1i"
      },
      "source": [
        "# Checking the Installation\n",
        "The `versioninfo()` function should print your Julia version and some other info about the system:"
      ]
    },
    {
      "cell_type": "code",
      "metadata": {
        "id": "EEzvvzCl1i0F",
        "colab": {
          "base_uri": "https://localhost:8080/"
        },
        "outputId": "cb91b716-87e0-4b54-e0ef-a29f99100b42"
      },
      "source": [
        "versioninfo()"
      ],
      "execution_count": null,
      "outputs": [
        {
          "output_type": "stream",
          "name": "stdout",
          "text": [
            "Julia Version 1.6.0\n",
            "Commit f9720dc2eb (2021-03-24 12:55 UTC)\n",
            "Platform Info:\n",
            "  OS: Linux (x86_64-pc-linux-gnu)\n",
            "  CPU: Intel(R) Xeon(R) CPU @ 2.30GHz\n",
            "  WORD_SIZE: 64\n",
            "  LIBM: libopenlibm\n",
            "  LLVM: libLLVM-11.0.1 (ORCJIT, haswell)\n",
            "Environment:\n",
            "  JULIA_NUM_THREADS = 2\n"
          ]
        }
      ]
    },
    {
      "cell_type": "code",
      "metadata": {
        "id": "yQlpeR9wNOi8",
        "colab": {
          "base_uri": "https://localhost:8080/"
        },
        "outputId": "163fa430-50bb-4baa-eb72-555cfa4f571b"
      },
      "source": [
        "using BenchmarkTools\n",
        "\n",
        "M = rand(2048, 2048)\n",
        "@benchmark M^2"
      ],
      "execution_count": null,
      "outputs": [
        {
          "output_type": "execute_result",
          "data": {
            "text/plain": [
              "BenchmarkTools.Trial: 10 samples with 1 evaluation.\n",
              " Range \u001b[90m(\u001b[39m\u001b[36m\u001b[1mmin\u001b[22m\u001b[39m … \u001b[35mmax\u001b[39m\u001b[90m):  \u001b[39m\u001b[36m\u001b[1m490.062 ms\u001b[22m\u001b[39m … \u001b[35m608.362 ms\u001b[39m  \u001b[90m┊\u001b[39m GC \u001b[90m(\u001b[39mmin … max\u001b[90m): \u001b[39m0.00% … 17.98%\n",
              " Time  \u001b[90m(\u001b[39m\u001b[34m\u001b[1mmedian\u001b[22m\u001b[39m\u001b[90m):     \u001b[39m\u001b[34m\u001b[1m503.244 ms               \u001b[22m\u001b[39m\u001b[90m┊\u001b[39m GC \u001b[90m(\u001b[39mmedian\u001b[90m):    \u001b[39m0.09%\n",
              " Time  \u001b[90m(\u001b[39m\u001b[32m\u001b[1mmean\u001b[22m\u001b[39m ± \u001b[32mσ\u001b[39m\u001b[90m):   \u001b[39m\u001b[32m\u001b[1m513.190 ms\u001b[22m\u001b[39m ± \u001b[32m 34.847 ms\u001b[39m  \u001b[90m┊\u001b[39m GC \u001b[90m(\u001b[39mmean ± σ\u001b[90m):  \u001b[39m2.63% ±  5.65%\n",
              "\n",
              "  \u001b[39m█\u001b[39m \u001b[39m▁\u001b[39m \u001b[39m▁\u001b[39m \u001b[34m▁\u001b[39m\u001b[39m▁\u001b[39m \u001b[39m \u001b[39m▁\u001b[39m▁\u001b[32m \u001b[39m\u001b[39m \u001b[39m \u001b[39m▁\u001b[39m \u001b[39m \u001b[39m \u001b[39m \u001b[39m \u001b[39m \u001b[39m \u001b[39m \u001b[39m \u001b[39m \u001b[39m \u001b[39m \u001b[39m \u001b[39m \u001b[39m \u001b[39m \u001b[39m \u001b[39m \u001b[39m \u001b[39m \u001b[39m \u001b[39m \u001b[39m \u001b[39m \u001b[39m \u001b[39m \u001b[39m \u001b[39m \u001b[39m \u001b[39m \u001b[39m \u001b[39m \u001b[39m \u001b[39m \u001b[39m \u001b[39m \u001b[39m \u001b[39m \u001b[39m \u001b[39m \u001b[39m \u001b[39m \u001b[39m \u001b[39m \u001b[39m▁\u001b[39m \u001b[39m \n",
              "  \u001b[39m█\u001b[39m▁\u001b[39m█\u001b[39m▁\u001b[39m█\u001b[39m▁\u001b[34m█\u001b[39m\u001b[39m█\u001b[39m▁\u001b[39m▁\u001b[39m█\u001b[39m█\u001b[32m▁\u001b[39m\u001b[39m▁\u001b[39m▁\u001b[39m█\u001b[39m▁\u001b[39m▁\u001b[39m▁\u001b[39m▁\u001b[39m▁\u001b[39m▁\u001b[39m▁\u001b[39m▁\u001b[39m▁\u001b[39m▁\u001b[39m▁\u001b[39m▁\u001b[39m▁\u001b[39m▁\u001b[39m▁\u001b[39m▁\u001b[39m▁\u001b[39m▁\u001b[39m▁\u001b[39m▁\u001b[39m▁\u001b[39m▁\u001b[39m▁\u001b[39m▁\u001b[39m▁\u001b[39m▁\u001b[39m▁\u001b[39m▁\u001b[39m▁\u001b[39m▁\u001b[39m▁\u001b[39m▁\u001b[39m▁\u001b[39m▁\u001b[39m▁\u001b[39m▁\u001b[39m▁\u001b[39m▁\u001b[39m▁\u001b[39m▁\u001b[39m▁\u001b[39m▁\u001b[39m▁\u001b[39m▁\u001b[39m█\u001b[39m \u001b[39m▁\n",
              "  490 ms\u001b[90m           Histogram: frequency by time\u001b[39m          608 ms \u001b[0m\u001b[1m<\u001b[22m\n",
              "\n",
              " Memory estimate\u001b[90m: \u001b[39m\u001b[33m32.00 MiB\u001b[39m, allocs estimate\u001b[90m: \u001b[39m\u001b[33m2\u001b[39m."
            ]
          },
          "metadata": {},
          "execution_count": 1
        }
      ]
    },
    {
      "cell_type": "code",
      "metadata": {
        "id": "XciCcMAJOT3_",
        "colab": {
          "base_uri": "https://localhost:8080/"
        },
        "outputId": "2063acd1-6fd3-4314-cc35-4d0f31f2ad9e"
      },
      "source": [
        "if ENV[\"COLAB_GPU\"] == \"1\"\n",
        "    using CUDA\n",
        "\n",
        "    M_gpu = cu(M)\n",
        "    @benchmark CUDA.@sync M_gpu^2\n",
        "else\n",
        "    println(\"No GPU found.\")\n",
        "end"
      ],
      "execution_count": null,
      "outputs": [
        {
          "output_type": "stream",
          "name": "stderr",
          "text": [
            "\u001b[32m\u001b[1m Downloading\u001b[22m\u001b[39m artifact: CUDA\n"
          ]
        },
        {
          "output_type": "execute_result",
          "data": {
            "text/plain": [
              "BenchmarkTools.Trial: 533 samples with 1 evaluation.\n",
              " Range \u001b[90m(\u001b[39m\u001b[36m\u001b[1mmin\u001b[22m\u001b[39m … \u001b[35mmax\u001b[39m\u001b[90m):  \u001b[39m\u001b[36m\u001b[1m6.522 ms\u001b[22m\u001b[39m … \u001b[35m288.703 ms\u001b[39m  \u001b[90m┊\u001b[39m GC \u001b[90m(\u001b[39mmin … max\u001b[90m): \u001b[39m0.00% … 1.65%\n",
              " Time  \u001b[90m(\u001b[39m\u001b[34m\u001b[1mmedian\u001b[22m\u001b[39m\u001b[90m):     \u001b[39m\u001b[34m\u001b[1m8.003 ms               \u001b[22m\u001b[39m\u001b[90m┊\u001b[39m GC \u001b[90m(\u001b[39mmedian\u001b[90m):    \u001b[39m0.00%\n",
              " Time  \u001b[90m(\u001b[39m\u001b[32m\u001b[1mmean\u001b[22m\u001b[39m ± \u001b[32mσ\u001b[39m\u001b[90m):   \u001b[39m\u001b[32m\u001b[1m9.371 ms\u001b[22m\u001b[39m ± \u001b[32m 20.263 ms\u001b[39m  \u001b[90m┊\u001b[39m GC \u001b[90m(\u001b[39mmean ± σ\u001b[90m):  \u001b[39m0.29% ± 0.13%\n",
              "\n",
              "  \u001b[39m▁\u001b[39m \u001b[39m \u001b[39m \u001b[39m \u001b[39m \u001b[39m▅\u001b[39m \u001b[39m \u001b[39m \u001b[39m \u001b[39m \u001b[39m \u001b[39m \u001b[39m \u001b[39m \u001b[39m \u001b[39m \u001b[39m \u001b[39m \u001b[39m▅\u001b[39m \u001b[34m▄\u001b[39m\u001b[39m▄\u001b[39m \u001b[39m \u001b[39m▂\u001b[39m█\u001b[39m \u001b[39m▂\u001b[39m▂\u001b[39m \u001b[39m \u001b[39m \u001b[39m \u001b[39m \u001b[39m \u001b[39m \u001b[39m \u001b[39m \u001b[39m \u001b[39m \u001b[39m \u001b[32m \u001b[39m\u001b[39m \u001b[39m \u001b[39m \u001b[39m \u001b[39m \u001b[39m \u001b[39m \u001b[39m \u001b[39m \u001b[39m \u001b[39m \u001b[39m \u001b[39m \u001b[39m \u001b[39m \u001b[39m \u001b[39m \n",
              "  \u001b[39m█\u001b[39m▅\u001b[39m▃\u001b[39m▁\u001b[39m▁\u001b[39m▄\u001b[39m█\u001b[39m▇\u001b[39m▃\u001b[39m▂\u001b[39m▅\u001b[39m▅\u001b[39m▇\u001b[39m▃\u001b[39m▃\u001b[39m▃\u001b[39m▃\u001b[39m▅\u001b[39m▅\u001b[39m█\u001b[39m█\u001b[39m▅\u001b[34m█\u001b[39m\u001b[39m█\u001b[39m▇\u001b[39m▄\u001b[39m█\u001b[39m█\u001b[39m▇\u001b[39m█\u001b[39m█\u001b[39m▄\u001b[39m▃\u001b[39m▃\u001b[39m▂\u001b[39m▁\u001b[39m▁\u001b[39m▁\u001b[39m▂\u001b[39m▃\u001b[39m▁\u001b[39m▁\u001b[39m▂\u001b[32m▁\u001b[39m\u001b[39m▁\u001b[39m▁\u001b[39m▁\u001b[39m▂\u001b[39m▁\u001b[39m▁\u001b[39m▁\u001b[39m▁\u001b[39m▁\u001b[39m▂\u001b[39m▁\u001b[39m▁\u001b[39m▁\u001b[39m▁\u001b[39m▂\u001b[39m \u001b[39m▃\n",
              "  6.52 ms\u001b[90m         Histogram: frequency by time\u001b[39m        10.4 ms \u001b[0m\u001b[1m<\u001b[22m\n",
              "\n",
              " Memory estimate\u001b[90m: \u001b[39m\u001b[33m59.45 KiB\u001b[39m, allocs estimate\u001b[90m: \u001b[39m\u001b[33m1904\u001b[39m."
            ]
          },
          "metadata": {},
          "execution_count": 3
        }
      ]
    },
    {
      "cell_type": "markdown",
      "metadata": {
        "id": "8RC1QNNqk6h1"
      },
      "source": [
        "# Need Help?\n",
        "\n",
        "* Learning: https://julialang.org/learning/\n",
        "* Documentation: https://docs.julialang.org/\n",
        "* Questions & Discussions:\n",
        "  * https://discourse.julialang.org/\n",
        "  * http://julialang.slack.com/\n",
        "  * https://stackoverflow.com/questions/tagged/julia\n",
        "\n",
        "If you ever ask for help or file an issue about Julia, you should generally provide the output of `versioninfo()`."
      ]
    },
    {
      "cell_type": "markdown",
      "metadata": {
        "id": "2UMidUQB03vJ"
      },
      "source": [
        "Add new code cells by clicking the `+ Code` button (or _Insert_ > _Code cell_).\n",
        "\n",
        "Have fun!\n",
        "\n",
        "<img src=\"https://raw.githubusercontent.com/JuliaLang/julia-logo-graphics/master/images/julia-logo-mask.png\" height=\"100\" />"
      ]
    },
    {
      "cell_type": "markdown",
      "metadata": {
        "id": "4x2gDaxNj1PL"
      },
      "source": [
        ""
      ]
    },
    {
      "cell_type": "markdown",
      "metadata": {
        "id": "aC7tNLGrjtfq"
      },
      "source": [
        "## How to print\n",
        "\n",
        "In Julia we usually use `println()` to print"
      ]
    },
    {
      "cell_type": "code",
      "metadata": {
        "id": "XNGZxZULjtfs",
        "colab": {
          "base_uri": "https://localhost:8080/"
        },
        "outputId": "3140f973-2440-43ea-e556-fec8f74d20f7"
      },
      "source": [
        "println(\"I'm excited to learn Julia!\")"
      ],
      "execution_count": null,
      "outputs": [
        {
          "output_type": "stream",
          "name": "stdout",
          "text": [
            "I'm excited to learn Julia!\n"
          ]
        }
      ]
    },
    {
      "cell_type": "markdown",
      "metadata": {
        "id": "kRJSfx6Kjtfy"
      },
      "source": [
        "## How to assign variables\n",
        "\n",
        "All we need is a variable name, value, and an equal's sign!<br>\n",
        "Julia will figure out types for us."
      ]
    },
    {
      "cell_type": "code",
      "metadata": {
        "id": "sq6Xaozsjtf0",
        "colab": {
          "base_uri": "https://localhost:8080/"
        },
        "outputId": "50e1a6e1-6fdd-41b6-e763-8b3619a57043"
      },
      "source": [
        "my_answer = 42\n",
        "typeof(my_answer)"
      ],
      "execution_count": null,
      "outputs": [
        {
          "output_type": "execute_result",
          "data": {
            "text/plain": [
              "Int64"
            ]
          },
          "metadata": {},
          "execution_count": 2
        }
      ]
    },
    {
      "cell_type": "code",
      "metadata": {
        "id": "ATbJPh82jtf1",
        "colab": {
          "base_uri": "https://localhost:8080/"
        },
        "outputId": "cf987459-fc3e-44e1-ad95-18c8c7f692b7"
      },
      "source": [
        "my_pi = 3.14159\n",
        "typeof(my_pi)"
      ],
      "execution_count": null,
      "outputs": [
        {
          "output_type": "execute_result",
          "data": {
            "text/plain": [
              "Float64"
            ]
          },
          "metadata": {},
          "execution_count": 3
        }
      ]
    },
    {
      "cell_type": "markdown",
      "metadata": {
        "id": "vG6__gyYjtf5"
      },
      "source": [
        "To type a smiley cat, use tab completion to select the emoji name and then tab again"
      ]
    },
    {
      "cell_type": "code",
      "metadata": {
        "id": "Lf-g5Y41jtf7"
      },
      "source": [
        "# \\:smi + <tab> --> select with down arrow + <enter> ---> <tab> + <enter> to complete"
      ],
      "execution_count": null,
      "outputs": []
    },
    {
      "cell_type": "code",
      "metadata": {
        "id": "Xao7xINdjtf3",
        "colab": {
          "base_uri": "https://localhost:8080/"
        },
        "outputId": "5b94e1eb-fb69-4293-ca9d-b2f45c49232b"
      },
      "source": [
        "😺 = \"smiley cat!\"\n",
        "typeof(😺)"
      ],
      "execution_count": null,
      "outputs": [
        {
          "output_type": "execute_result",
          "data": {
            "text/plain": [
              "String"
            ]
          },
          "metadata": {},
          "execution_count": 7
        }
      ]
    },
    {
      "cell_type": "code",
      "metadata": {
        "colab": {
          "base_uri": "https://localhost:8080/"
        },
        "id": "TCiXQR7XjamA",
        "outputId": "61588290-a238-4280-eddf-a6ad61e263bd"
      },
      "source": [
        "안녕하세요 = \"Hello\"\n",
        "안녕하세요"
      ],
      "execution_count": null,
      "outputs": [
        {
          "output_type": "execute_result",
          "data": {
            "text/plain": [
              "\"Hello\""
            ]
          },
          "metadata": {},
          "execution_count": 5
        }
      ]
    },
    {
      "cell_type": "code",
      "metadata": {
        "colab": {
          "base_uri": "https://localhost:8080/"
        },
        "id": "5CXyD649kot-",
        "outputId": "c39698c0-c99a-4626-eff2-024be28a4d38"
      },
      "source": [
        "typeof(안녕하세요)"
      ],
      "execution_count": null,
      "outputs": [
        {
          "output_type": "execute_result",
          "data": {
            "text/plain": [
              "String"
            ]
          },
          "metadata": {},
          "execution_count": 8
        }
      ]
    },
    {
      "cell_type": "code",
      "metadata": {
        "id": "LxkVoT8bjtf-",
        "colab": {
          "base_uri": "https://localhost:8080/"
        },
        "outputId": "303b4d90-8c0e-4a5f-c594-d8bdcb3a0acd"
      },
      "source": [
        "😺 = 1"
      ],
      "execution_count": null,
      "outputs": [
        {
          "output_type": "execute_result",
          "data": {
            "text/plain": [
              "1"
            ]
          },
          "metadata": {},
          "execution_count": 11
        }
      ]
    },
    {
      "cell_type": "code",
      "metadata": {
        "id": "AflXEov7jtgC",
        "colab": {
          "base_uri": "https://localhost:8080/"
        },
        "outputId": "a53c856a-bac0-4b9a-f49e-e33ba30e071b"
      },
      "source": [
        "😀 = 0\n",
        "😞 = -1"
      ],
      "execution_count": null,
      "outputs": [
        {
          "output_type": "execute_result",
          "data": {
            "text/plain": [
              "-1"
            ]
          },
          "metadata": {},
          "execution_count": 12
        }
      ]
    },
    {
      "cell_type": "code",
      "metadata": {
        "id": "5PTNHbrpjtgC",
        "colab": {
          "base_uri": "https://localhost:8080/"
        },
        "outputId": "fe7250b8-0a95-4f6a-8a29-672fd0b4e100"
      },
      "source": [
        "😺 + 😞 == 😀"
      ],
      "execution_count": null,
      "outputs": [
        {
          "output_type": "execute_result",
          "data": {
            "text/plain": [
              "true"
            ]
          },
          "metadata": {},
          "execution_count": 13
        }
      ]
    },
    {
      "cell_type": "code",
      "metadata": {
        "id": "_YD6vsDRr6mY"
      },
      "source": [
        ""
      ],
      "execution_count": null,
      "outputs": []
    },
    {
      "cell_type": "markdown",
      "metadata": {
        "id": "81tt3swdjtgG"
      },
      "source": [
        "## Syntax for basic math"
      ]
    },
    {
      "cell_type": "code",
      "metadata": {
        "id": "VTRdpV8ljtgH",
        "colab": {
          "base_uri": "https://localhost:8080/"
        },
        "outputId": "d9de4d24-7adc-4699-a066-297c22b746d9"
      },
      "source": [
        "sum = 3 + 7"
      ],
      "execution_count": null,
      "outputs": [
        {
          "output_type": "execute_result",
          "data": {
            "text/plain": [
              "10"
            ]
          },
          "metadata": {},
          "execution_count": 14
        }
      ]
    },
    {
      "cell_type": "code",
      "metadata": {
        "id": "z3__qYQ-jtgI",
        "colab": {
          "base_uri": "https://localhost:8080/"
        },
        "outputId": "b0293acc-43fc-413b-d897-d4a9b8838aef"
      },
      "source": [
        "difference = 10 - 3"
      ],
      "execution_count": null,
      "outputs": [
        {
          "output_type": "execute_result",
          "data": {
            "text/plain": [
              "7"
            ]
          },
          "metadata": {},
          "execution_count": 15
        }
      ]
    },
    {
      "cell_type": "code",
      "metadata": {
        "id": "RrhIV_VFjtgI",
        "colab": {
          "base_uri": "https://localhost:8080/"
        },
        "outputId": "0159ee93-b872-422b-957d-e742e2f9d596"
      },
      "source": [
        "product = 20 * 5"
      ],
      "execution_count": null,
      "outputs": [
        {
          "output_type": "execute_result",
          "data": {
            "text/plain": [
              "100"
            ]
          },
          "metadata": {},
          "execution_count": 16
        }
      ]
    },
    {
      "cell_type": "code",
      "metadata": {
        "id": "6B06ulUvjtgJ",
        "colab": {
          "base_uri": "https://localhost:8080/"
        },
        "outputId": "30be1977-5552-46aa-e25a-753a9b83b7f1"
      },
      "source": [
        "quotient = 100 / 10"
      ],
      "execution_count": null,
      "outputs": [
        {
          "output_type": "execute_result",
          "data": {
            "text/plain": [
              "10.0"
            ]
          },
          "metadata": {},
          "execution_count": 17
        }
      ]
    },
    {
      "cell_type": "code",
      "metadata": {
        "id": "BHtXKQxojtgK",
        "colab": {
          "base_uri": "https://localhost:8080/"
        },
        "outputId": "91c4473d-dadb-48ad-b618-8477607c0e9d"
      },
      "source": [
        "power = 10 ^ 2"
      ],
      "execution_count": null,
      "outputs": [
        {
          "output_type": "execute_result",
          "data": {
            "text/plain": [
              "100"
            ]
          },
          "metadata": {},
          "execution_count": 18
        }
      ]
    },
    {
      "cell_type": "code",
      "metadata": {
        "id": "0iiWWMD_jtgK",
        "colab": {
          "base_uri": "https://localhost:8080/"
        },
        "outputId": "7ee7380a-096e-45d9-f6bb-86a64c989bfb"
      },
      "source": [
        "modulus = 101 % 2"
      ],
      "execution_count": null,
      "outputs": [
        {
          "output_type": "execute_result",
          "data": {
            "text/plain": [
              "1"
            ]
          },
          "metadata": {},
          "execution_count": 19
        }
      ]
    },
    {
      "cell_type": "code",
      "metadata": {
        "id": "z63biHFSsTc0"
      },
      "source": [
        ""
      ],
      "execution_count": null,
      "outputs": []
    },
    {
      "cell_type": "markdown",
      "metadata": {
        "id": "GTOMTbxtssMI"
      },
      "source": [
        "## Parse String to Int"
      ]
    },
    {
      "cell_type": "code",
      "metadata": {
        "colab": {
          "base_uri": "https://localhost:8080/"
        },
        "id": "s0HCmaAusdB1",
        "outputId": "f5fd3b82-1f15-4740-b7f2-36a3d604a8ee"
      },
      "source": [
        "parse(Int64, \"1\")"
      ],
      "execution_count": null,
      "outputs": [
        {
          "output_type": "execute_result",
          "data": {
            "text/plain": [
              "1"
            ]
          },
          "metadata": {},
          "execution_count": 22
        }
      ]
    },
    {
      "cell_type": "markdown",
      "metadata": {
        "id": "oA22cwfMs_7d"
      },
      "source": [
        "## How to get a string\n",
        "\n",
        "Enclose your characters in \" \" or \"\"\" \"\"\"!"
      ]
    },
    {
      "cell_type": "code",
      "metadata": {
        "id": "nQQ8oR2Is_7f",
        "colab": {
          "base_uri": "https://localhost:8080/"
        },
        "outputId": "de6d6b67-4fab-4b5f-a558-a2f4aeb56b05"
      },
      "source": [
        "s1 = \"I am a string.\""
      ],
      "execution_count": null,
      "outputs": [
        {
          "output_type": "execute_result",
          "data": {
            "text/plain": [
              "\"I am a string.\""
            ]
          },
          "metadata": {},
          "execution_count": 23
        }
      ]
    },
    {
      "cell_type": "code",
      "metadata": {
        "id": "9uT-27ays_7o",
        "colab": {
          "base_uri": "https://localhost:8080/"
        },
        "outputId": "52e99a32-4ef2-4736-db80-2c9a90a671e8"
      },
      "source": [
        "s2 = \"\"\"I am also a string. \"\"\""
      ],
      "execution_count": null,
      "outputs": [
        {
          "output_type": "execute_result",
          "data": {
            "text/plain": [
              "\"I am also a string. \""
            ]
          },
          "metadata": {},
          "execution_count": 24
        }
      ]
    },
    {
      "cell_type": "markdown",
      "metadata": {
        "id": "yhz4o13Ks_7v"
      },
      "source": [
        "There are a couple functional differences between strings enclosed in single and triple quotes. <br>\n",
        "One difference is that, in the latter case, you can use quotation marks within your string."
      ]
    },
    {
      "cell_type": "code",
      "metadata": {
        "id": "iDkbmW0Xs_7z",
        "colab": {
          "base_uri": "https://localhost:8080/",
          "height": 214
        },
        "outputId": "730a6cf9-282c-460a-828a-fbfcd5cfe5f3"
      },
      "source": [
        "\"Here, we get an \"error\" because it's ambiguous where this string ends \""
      ],
      "execution_count": null,
      "outputs": [
        {
          "output_type": "error",
          "ename": "LoadError",
          "evalue": "ignored",
          "traceback": [
            "syntax: cannot juxtapose string literal",
            "",
            "Stacktrace:",
            " [1] top-level scope",
            "   @ In[25]:1",
            " [2] eval",
            "   @ ./boot.jl:360 [inlined]",
            " [3] include_string(mapexpr::typeof(REPL.softscope), mod::Module, code::String, filename::String)",
            "   @ Base ./loading.jl:1094"
          ]
        }
      ]
    },
    {
      "cell_type": "code",
      "metadata": {
        "id": "zsqK1SpBs_70",
        "colab": {
          "base_uri": "https://localhost:8080/"
        },
        "outputId": "72a1c337-f425-4fcd-cf70-d4b20e359db1"
      },
      "source": [
        "\"\"\"Look, Mom, no \"errors\"!!! \"\"\""
      ],
      "execution_count": null,
      "outputs": [
        {
          "output_type": "execute_result",
          "data": {
            "text/plain": [
              "\"Look, Mom, no \\\"errors\\\"!!! \""
            ]
          },
          "metadata": {},
          "execution_count": 26
        }
      ]
    },
    {
      "cell_type": "markdown",
      "metadata": {
        "id": "7Sksf1Nds_72"
      },
      "source": [
        "Note that ' ' define a character, but NOT a string!"
      ]
    },
    {
      "cell_type": "code",
      "metadata": {
        "id": "4D8-SM4Ss_74",
        "colab": {
          "base_uri": "https://localhost:8080/"
        },
        "outputId": "990d2704-a45e-4aaf-dfd1-b62d6a8a87d0"
      },
      "source": [
        "typeof('a')"
      ],
      "execution_count": null,
      "outputs": [
        {
          "output_type": "execute_result",
          "data": {
            "text/plain": [
              "Char"
            ]
          },
          "metadata": {},
          "execution_count": 27
        }
      ]
    },
    {
      "cell_type": "code",
      "metadata": {
        "id": "fSISbJj4s_77",
        "colab": {
          "base_uri": "https://localhost:8080/",
          "height": 214
        },
        "outputId": "0fa8f308-0d84-4a98-ae29-80ab051a3cb0"
      },
      "source": [
        "'We will get an error here'"
      ],
      "execution_count": null,
      "outputs": [
        {
          "output_type": "error",
          "ename": "LoadError",
          "evalue": "ignored",
          "traceback": [
            "syntax: character literal contains multiple characters",
            "",
            "Stacktrace:",
            " [1] top-level scope",
            "   @ In[28]:1",
            " [2] eval",
            "   @ ./boot.jl:360 [inlined]",
            " [3] include_string(mapexpr::typeof(REPL.softscope), mod::Module, code::String, filename::String)",
            "   @ Base ./loading.jl:1094"
          ]
        }
      ]
    },
    {
      "cell_type": "markdown",
      "metadata": {
        "id": "fwmH4vbYs_7-"
      },
      "source": [
        "## String interpolation\n",
        "\n",
        "We can use the $ sign to insert existing variables into a string and to evaluate expressions within a string. <br>\n",
        "Below is an example that contains some highly sensitive personal information."
      ]
    },
    {
      "cell_type": "code",
      "metadata": {
        "id": "8sb_-cNDs_8A",
        "colab": {
          "base_uri": "https://localhost:8080/"
        },
        "outputId": "af1801ad-fca9-47e3-a754-ceb10776ffbf"
      },
      "source": [
        "name = \"Jane\"\n",
        "num_fingers = 10\n",
        "num_toes = 10"
      ],
      "execution_count": null,
      "outputs": [
        {
          "output_type": "execute_result",
          "data": {
            "text/plain": [
              "10"
            ]
          },
          "metadata": {},
          "execution_count": 29
        }
      ]
    },
    {
      "cell_type": "code",
      "metadata": {
        "id": "T847e4sws_8B",
        "colab": {
          "base_uri": "https://localhost:8080/"
        },
        "outputId": "aee55453-2a3c-42fd-be5b-c68d4623b062"
      },
      "source": [
        "println(\"Hello, my name is $name.\")\n",
        "println(\"I have $num_fingers fingers and $num_toes toes.\")"
      ],
      "execution_count": null,
      "outputs": [
        {
          "output_type": "stream",
          "name": "stdout",
          "text": [
            "Hello, my name is Jane.\n",
            "I have 10 fingers and 10 toes.\n"
          ]
        }
      ]
    },
    {
      "cell_type": "code",
      "metadata": {
        "id": "RbqvA3OAs_8C",
        "colab": {
          "base_uri": "https://localhost:8080/"
        },
        "outputId": "e60e33ab-ff64-4b7b-b02e-28256f7224e7"
      },
      "source": [
        " println(\"That is $(num_fingers + num_toes) digits in all!!\")"
      ],
      "execution_count": null,
      "outputs": [
        {
          "output_type": "stream",
          "name": "stdout",
          "text": [
            "That is 20 digits in all!!\n"
          ]
        }
      ]
    },
    {
      "cell_type": "code",
      "metadata": {
        "id": "V8UYU6PDt7g5"
      },
      "source": [
        ""
      ],
      "execution_count": null,
      "outputs": []
    },
    {
      "cell_type": "markdown",
      "metadata": {
        "id": "7yb2zIyHs_8D"
      },
      "source": [
        "## String concatenation\n",
        "\n",
        "Below are three ways we can concatenate strings! <br><br>\n",
        "The first way is to use the `string()` function. <br>\n",
        "`string()` converts non-string inputs to strings."
      ]
    },
    {
      "cell_type": "code",
      "metadata": {
        "id": "t200fUgxs_8E",
        "colab": {
          "base_uri": "https://localhost:8080/"
        },
        "outputId": "18ad81f2-f009-4831-cfec-1788fe0c9df6"
      },
      "source": [
        "s3 = \"How many cats \";\n",
        "s4 = \"is too many cats?\";\n",
        "😺 = 10"
      ],
      "execution_count": null,
      "outputs": [
        {
          "output_type": "execute_result",
          "data": {
            "text/plain": [
              "10"
            ]
          },
          "metadata": {},
          "execution_count": 33
        }
      ]
    },
    {
      "cell_type": "code",
      "metadata": {
        "id": "czC66OeOs_8F",
        "colab": {
          "base_uri": "https://localhost:8080/"
        },
        "outputId": "732356a7-6ca1-4fa8-f3e0-b4d57e041346"
      },
      "source": [
        "string(s3, s4)"
      ],
      "execution_count": null,
      "outputs": [
        {
          "output_type": "execute_result",
          "data": {
            "text/plain": [
              "\"How many cats is too many cats?\""
            ]
          },
          "metadata": {},
          "execution_count": 34
        }
      ]
    },
    {
      "cell_type": "code",
      "metadata": {
        "id": "SShUTWiJs_8G",
        "colab": {
          "base_uri": "https://localhost:8080/"
        },
        "outputId": "da881f0c-4fcb-4eed-b411-85da82284268"
      },
      "source": [
        "string(\"I don't know, but \", 😺, \" is too few.\")"
      ],
      "execution_count": null,
      "outputs": [
        {
          "output_type": "execute_result",
          "data": {
            "text/plain": [
              "\"I don't know, but 10 is too few.\""
            ]
          },
          "metadata": {},
          "execution_count": 35
        }
      ]
    },
    {
      "cell_type": "markdown",
      "metadata": {
        "id": "dnsBSBOQs_8H"
      },
      "source": [
        "We can also use `*` for concatenation!"
      ]
    },
    {
      "cell_type": "code",
      "metadata": {
        "id": "edGg7lW9s_8H",
        "colab": {
          "base_uri": "https://localhost:8080/"
        },
        "outputId": "594e860a-d8bb-48f9-d0a7-29b49ba2b437"
      },
      "source": [
        "s3*s4"
      ],
      "execution_count": null,
      "outputs": [
        {
          "output_type": "execute_result",
          "data": {
            "text/plain": [
              "\"How many cats is too many cats?\""
            ]
          },
          "metadata": {},
          "execution_count": 36
        }
      ]
    },
    {
      "cell_type": "code",
      "metadata": {
        "id": "swdI_FsRs_8I"
      },
      "source": [
        ""
      ],
      "execution_count": null,
      "outputs": []
    },
    {
      "cell_type": "markdown",
      "metadata": {
        "id": "-exx93bDug8p"
      },
      "source": [
        "# Data structures\n",
        "\n",
        "Once we start working with many pieces of data at once, it will be convenient for us to store data in structures like arrays or dictionaries (rather than just relying on variables).<br>\n",
        "\n",
        "Types of data structures covered:\n",
        "1. Tuples\n",
        "2. Dictionaries\n",
        "3. Arrays\n",
        "\n",
        "<br>\n",
        "As an overview, tuples and arrays are both ordered sequences of elements (so we can index into them). Dictionaries and arrays are both mutable.\n",
        "We'll explain this more below!"
      ]
    },
    {
      "cell_type": "markdown",
      "metadata": {
        "id": "1qvKSB0oug84"
      },
      "source": [
        "## Tuples\n",
        "\n",
        "We can create a tuple by enclosing an ordered collection of elements in `( )`.\n",
        "\n",
        "Syntax: <br>\n",
        "```julia\n",
        "(item1, item2, ...)```"
      ]
    },
    {
      "cell_type": "code",
      "metadata": {
        "id": "ZGngox0xug86",
        "colab": {
          "base_uri": "https://localhost:8080/"
        },
        "outputId": "178acda9-c6e7-4b65-aab0-82bbd96427e4"
      },
      "source": [
        "myfavoriteanimals = (\"penguins\", \"cats\", \"sugargliders\")"
      ],
      "execution_count": null,
      "outputs": [
        {
          "output_type": "execute_result",
          "data": {
            "text/plain": [
              "(\"penguins\", \"cats\", \"sugargliders\")"
            ]
          },
          "metadata": {},
          "execution_count": 37
        }
      ]
    },
    {
      "cell_type": "markdown",
      "metadata": {
        "id": "uIXaX5pwug9B"
      },
      "source": [
        "We can index into this tuple,"
      ]
    },
    {
      "cell_type": "code",
      "metadata": {
        "id": "e81eXWgAug9D",
        "colab": {
          "base_uri": "https://localhost:8080/"
        },
        "outputId": "5bff37d0-1d84-49dd-fff4-e09f10896b10"
      },
      "source": [
        "myfavoriteanimals[1]"
      ],
      "execution_count": null,
      "outputs": [
        {
          "output_type": "execute_result",
          "data": {
            "text/plain": [
              "\"penguins\""
            ]
          },
          "metadata": {},
          "execution_count": 38
        }
      ]
    },
    {
      "cell_type": "markdown",
      "metadata": {
        "id": "2k_paxjrug9E"
      },
      "source": [
        "but since tuples are immutable, we can't update it"
      ]
    },
    {
      "cell_type": "code",
      "metadata": {
        "id": "NklUyt8kug9F",
        "colab": {
          "base_uri": "https://localhost:8080/",
          "height": 214
        },
        "outputId": "ce3805a3-264d-4dc0-f3f3-f0d1e71ee395"
      },
      "source": [
        "myfavoriteanimals[1] = \"otters\""
      ],
      "execution_count": null,
      "outputs": [
        {
          "output_type": "error",
          "ename": "LoadError",
          "evalue": "ignored",
          "traceback": [
            "MethodError: no method matching setindex!(::Tuple{String, String, String}, ::String, ::Int64)",
            "",
            "Stacktrace:",
            " [1] top-level scope",
            "   @ In[40]:1",
            " [2] eval",
            "   @ ./boot.jl:360 [inlined]",
            " [3] include_string(mapexpr::typeof(REPL.softscope), mod::Module, code::String, filename::String)",
            "   @ Base ./loading.jl:1094"
          ]
        }
      ]
    },
    {
      "cell_type": "markdown",
      "metadata": {
        "id": "8A2dZifTug9H"
      },
      "source": [
        "## Now in 1.0: NamedTuples\n",
        "\n",
        "As you might guess, `NamedTuple`s are just like `Tuple`s except that each element additionally has a name! They have a special syntax using `=` inside a tuple:\n",
        "\n",
        "```julia\n",
        "(name1 = item1, name2 = item2, ...)\n",
        "```"
      ]
    },
    {
      "cell_type": "code",
      "metadata": {
        "id": "x1eXZoOiug9L",
        "colab": {
          "base_uri": "https://localhost:8080/"
        },
        "outputId": "204f62ae-0596-4ba8-823a-301cb64e74c5"
      },
      "source": [
        "myfavoriteanimals = (bird = \"penguins\", mammal = \"cats\", marsupial = \"sugargliders\")"
      ],
      "execution_count": null,
      "outputs": [
        {
          "output_type": "execute_result",
          "data": {
            "text/plain": [
              "(bird = \"penguins\", mammal = \"cats\", marsupial = \"sugargliders\")"
            ]
          },
          "metadata": {},
          "execution_count": 41
        }
      ]
    },
    {
      "cell_type": "markdown",
      "metadata": {
        "id": "GaVSrRdnug9N"
      },
      "source": [
        "Like regular `Tuples`, `NamedTuples` are ordered, so we can retrieve their elements via indexing:"
      ]
    },
    {
      "cell_type": "code",
      "metadata": {
        "id": "LIA5Uqdfug9P",
        "colab": {
          "base_uri": "https://localhost:8080/"
        },
        "outputId": "2271152f-8ef2-4055-b7d6-56438e55ee02"
      },
      "source": [
        "myfavoriteanimals[1]"
      ],
      "execution_count": null,
      "outputs": [
        {
          "output_type": "execute_result",
          "data": {
            "text/plain": [
              "\"penguins\""
            ]
          },
          "metadata": {},
          "execution_count": 42
        }
      ]
    },
    {
      "cell_type": "markdown",
      "metadata": {
        "id": "il0LSi0Uug9Q"
      },
      "source": [
        "They also add the special ability to access values by their name:"
      ]
    },
    {
      "cell_type": "code",
      "metadata": {
        "id": "E5gwioegug9R",
        "colab": {
          "base_uri": "https://localhost:8080/"
        },
        "outputId": "0f7aeb44-7e4b-49bb-fa96-15a63aa40083"
      },
      "source": [
        "myfavoriteanimals.bird"
      ],
      "execution_count": null,
      "outputs": [
        {
          "output_type": "execute_result",
          "data": {
            "text/plain": [
              "\"penguins\""
            ]
          },
          "metadata": {},
          "execution_count": 43
        }
      ]
    },
    {
      "cell_type": "markdown",
      "metadata": {
        "id": "wAVoZr7mug9T"
      },
      "source": [
        "## Dictionaries\n",
        "\n",
        "If we have sets of data related to one another, we may choose to store that data in a dictionary. We can create a dictionary using the `Dict()` function, which we can initialize as an empty dictionary or one storing key, value pairs.\n",
        "\n",
        "Syntax:\n",
        "```julia\n",
        "Dict(key1 => value1, key2 => value2, ...)```\n",
        "\n",
        "A good example is a contacts list, where we associate names with phone numbers."
      ]
    },
    {
      "cell_type": "code",
      "metadata": {
        "id": "KrFYLqNwug9U",
        "colab": {
          "base_uri": "https://localhost:8080/"
        },
        "outputId": "a8812526-5c38-4f44-b150-e778f843aa84"
      },
      "source": [
        "myphonebook = Dict(\"Jenny\" => \"867-5309\", \"Ghostbusters\" => \"555-2368\")"
      ],
      "execution_count": null,
      "outputs": [
        {
          "output_type": "execute_result",
          "data": {
            "text/plain": [
              "Dict{String, String} with 2 entries:\n",
              "  \"Jenny\"        => \"867-5309\"\n",
              "  \"Ghostbusters\" => \"555-2368\""
            ]
          },
          "metadata": {},
          "execution_count": 44
        }
      ]
    },
    {
      "cell_type": "markdown",
      "metadata": {
        "collapsed": true,
        "id": "pqh-iLnKug9V"
      },
      "source": [
        "In this example, each name and number is a \"key\" and \"value\" pair. We can grab Jenny's number (a value) using the associated key"
      ]
    },
    {
      "cell_type": "code",
      "metadata": {
        "id": "1lhahB7vug9W",
        "colab": {
          "base_uri": "https://localhost:8080/"
        },
        "outputId": "a9654635-5955-437c-c11c-2e2a5a17c6c9"
      },
      "source": [
        "myphonebook[\"Jenny\"]"
      ],
      "execution_count": null,
      "outputs": [
        {
          "output_type": "execute_result",
          "data": {
            "text/plain": [
              "\"867-5309\""
            ]
          },
          "metadata": {},
          "execution_count": 45
        }
      ]
    },
    {
      "cell_type": "markdown",
      "metadata": {
        "id": "sBqIUEHXug9W"
      },
      "source": [
        "We can add another entry to this dictionary as follows"
      ]
    },
    {
      "cell_type": "code",
      "metadata": {
        "id": "qikjkP-_ug9X",
        "colab": {
          "base_uri": "https://localhost:8080/"
        },
        "outputId": "3008526d-058c-4a6f-ee33-9428f3181acb"
      },
      "source": [
        "myphonebook[\"Kramer\"] = \"555-FILK\""
      ],
      "execution_count": null,
      "outputs": [
        {
          "output_type": "execute_result",
          "data": {
            "text/plain": [
              "\"555-FILK\""
            ]
          },
          "metadata": {},
          "execution_count": 46
        }
      ]
    },
    {
      "cell_type": "markdown",
      "metadata": {
        "id": "g9vwE65_ug9Y"
      },
      "source": [
        "Let's check what our phonebook looks like now..."
      ]
    },
    {
      "cell_type": "code",
      "metadata": {
        "id": "i4VDGQfVug9b",
        "colab": {
          "base_uri": "https://localhost:8080/"
        },
        "outputId": "c1a9ac3f-9a8d-4a57-8046-ba2ffe1b04ea"
      },
      "source": [
        "myphonebook"
      ],
      "execution_count": null,
      "outputs": [
        {
          "output_type": "execute_result",
          "data": {
            "text/plain": [
              "Dict{String, String} with 3 entries:\n",
              "  \"Jenny\"        => \"867-5309\"\n",
              "  \"Kramer\"       => \"555-FILK\"\n",
              "  \"Ghostbusters\" => \"555-2368\""
            ]
          },
          "metadata": {},
          "execution_count": 47
        }
      ]
    },
    {
      "cell_type": "markdown",
      "metadata": {
        "id": "aoc-Co1Xug9c"
      },
      "source": [
        "We can delete Kramer from our contact list - and simultaneously grab his number - by using `pop!`"
      ]
    },
    {
      "cell_type": "code",
      "metadata": {
        "id": "bZe_2YyXug9d",
        "colab": {
          "base_uri": "https://localhost:8080/"
        },
        "outputId": "997cbdce-a6d1-469f-94a7-c3b7e2aa2afa"
      },
      "source": [
        "pop!(myphonebook, \"Kramer\")"
      ],
      "execution_count": null,
      "outputs": [
        {
          "output_type": "execute_result",
          "data": {
            "text/plain": [
              "\"555-FILK\""
            ]
          },
          "metadata": {},
          "execution_count": 48
        }
      ]
    },
    {
      "cell_type": "code",
      "metadata": {
        "id": "oxi2y8Dkug9e",
        "colab": {
          "base_uri": "https://localhost:8080/"
        },
        "outputId": "fd7cd426-0c58-4cff-ae5c-ddbf5c97350e"
      },
      "source": [
        "myphonebook"
      ],
      "execution_count": null,
      "outputs": [
        {
          "output_type": "execute_result",
          "data": {
            "text/plain": [
              "Dict{String, String} with 2 entries:\n",
              "  \"Jenny\"        => \"867-5309\"\n",
              "  \"Ghostbusters\" => \"555-2368\""
            ]
          },
          "metadata": {},
          "execution_count": 49
        }
      ]
    },
    {
      "cell_type": "markdown",
      "metadata": {
        "id": "yKgDRpT3ug9e"
      },
      "source": [
        "Unlike tuples and arrays, dictionaries are not ordered. So, we can't index into them."
      ]
    },
    {
      "cell_type": "code",
      "metadata": {
        "id": "XTHzRGWqug9f",
        "colab": {
          "base_uri": "https://localhost:8080/",
          "height": 248
        },
        "outputId": "2bd451c8-c1e9-4c7d-f0eb-72a50ae44757"
      },
      "source": [
        "myphonebook[1]"
      ],
      "execution_count": null,
      "outputs": [
        {
          "output_type": "error",
          "ename": "LoadError",
          "evalue": "ignored",
          "traceback": [
            "KeyError: key 1 not found",
            "",
            "Stacktrace:",
            " [1] getindex(h::Dict{String, String}, key::Int64)",
            "   @ Base ./dict.jl:482",
            " [2] top-level scope",
            "   @ In[50]:1",
            " [3] eval",
            "   @ ./boot.jl:360 [inlined]",
            " [4] include_string(mapexpr::typeof(REPL.softscope), mod::Module, code::String, filename::String)",
            "   @ Base ./loading.jl:1094"
          ]
        }
      ]
    },
    {
      "cell_type": "markdown",
      "metadata": {
        "id": "i4GOuUBdug9f"
      },
      "source": [
        "In the example above, `julia` thinks you're trying to access a value associated with the key `1`."
      ]
    },
    {
      "cell_type": "markdown",
      "metadata": {
        "id": "S0D4eIg9ug9g"
      },
      "source": [
        "## Arrays\n",
        "\n",
        "Unlike tuples, arrays are mutable. Unlike dictionaries, arrays contain ordered collections. <br>\n",
        "We can create an array by enclosing this collection in `[ ]`.\n",
        "\n",
        "Syntax: <br>\n",
        "```julia\n",
        "[item1, item2, ...]```\n",
        "\n",
        "\n",
        "For example, we might create an array to keep track of my friends"
      ]
    },
    {
      "cell_type": "code",
      "metadata": {
        "id": "XAIlki29ug9h",
        "colab": {
          "base_uri": "https://localhost:8080/"
        },
        "outputId": "46fdf33e-5d42-4741-9edc-53236f11ac8b"
      },
      "source": [
        "myfriends = [\"Ted\", \"Robyn\", \"Barney\", \"Lily\", \"Marshall\"]"
      ],
      "execution_count": null,
      "outputs": [
        {
          "output_type": "execute_result",
          "data": {
            "text/plain": [
              "5-element Vector{String}:\n",
              " \"Ted\"\n",
              " \"Robyn\"\n",
              " \"Barney\"\n",
              " \"Lily\"\n",
              " \"Marshall\""
            ]
          },
          "metadata": {},
          "execution_count": 51
        }
      ]
    },
    {
      "cell_type": "markdown",
      "metadata": {
        "id": "HkgHaQ_zug9h"
      },
      "source": [
        "The `1` in `Array{String,1}` means this is a one dimensional vector.  An `Array{String,2}` would be a 2d matrix, etc.  The `String` is the type of each element."
      ]
    },
    {
      "cell_type": "markdown",
      "metadata": {
        "id": "aXk2ivWiug9h"
      },
      "source": [
        "or to store a sequence of numbers"
      ]
    },
    {
      "cell_type": "code",
      "metadata": {
        "id": "4AScgUIwug9i",
        "colab": {
          "base_uri": "https://localhost:8080/"
        },
        "outputId": "07089505-00ec-41ab-cd3c-f24c312e7071"
      },
      "source": [
        "fibonacci = [1, 1, 2, 3, 5, 8, 13]"
      ],
      "execution_count": null,
      "outputs": [
        {
          "output_type": "execute_result",
          "data": {
            "text/plain": [
              "7-element Vector{Int64}:\n",
              "  1\n",
              "  1\n",
              "  2\n",
              "  3\n",
              "  5\n",
              "  8\n",
              " 13"
            ]
          },
          "metadata": {},
          "execution_count": 52
        }
      ]
    },
    {
      "cell_type": "code",
      "metadata": {
        "id": "S76JRxV1ug9j",
        "colab": {
          "base_uri": "https://localhost:8080/"
        },
        "outputId": "c9cce848-90f9-4857-84fd-35b6729f17f9"
      },
      "source": [
        "mixture = [1, 1, 2, 3, \"Ted\", \"Robyn\"]"
      ],
      "execution_count": null,
      "outputs": [
        {
          "output_type": "execute_result",
          "data": {
            "text/plain": [
              "6-element Vector{Any}:\n",
              " 1\n",
              " 1\n",
              " 2\n",
              " 3\n",
              "  \"Ted\"\n",
              "  \"Robyn\""
            ]
          },
          "metadata": {},
          "execution_count": 53
        }
      ]
    },
    {
      "cell_type": "markdown",
      "metadata": {
        "id": "FBO250J4ug9k"
      },
      "source": [
        "Once we have an array, we can grab individual pieces of data from inside that array by indexing into the array. For example, if we want the third friend listed in `myfriends`, we write"
      ]
    },
    {
      "cell_type": "code",
      "metadata": {
        "id": "OPK3JsLDug9l",
        "colab": {
          "base_uri": "https://localhost:8080/"
        },
        "outputId": "e9ce9a3f-54d9-429a-b093-e7d8e4f53599"
      },
      "source": [
        "myfriends[3]"
      ],
      "execution_count": null,
      "outputs": [
        {
          "output_type": "execute_result",
          "data": {
            "text/plain": [
              "\"Barney\""
            ]
          },
          "metadata": {},
          "execution_count": 54
        }
      ]
    },
    {
      "cell_type": "markdown",
      "metadata": {
        "id": "_zv2wGmnug9l"
      },
      "source": [
        "We can use indexing to edit an existing element of an array"
      ]
    },
    {
      "cell_type": "code",
      "metadata": {
        "id": "tt0mkuCLug9n",
        "colab": {
          "base_uri": "https://localhost:8080/"
        },
        "outputId": "d7410c71-bd36-45e6-953b-b17cfb27d4d8"
      },
      "source": [
        "myfriends[3] = \"Baby Bop\""
      ],
      "execution_count": null,
      "outputs": [
        {
          "output_type": "execute_result",
          "data": {
            "text/plain": [
              "\"Baby Bop\""
            ]
          },
          "metadata": {},
          "execution_count": 55
        }
      ]
    },
    {
      "cell_type": "markdown",
      "metadata": {
        "id": "nZ8qikSgug9n"
      },
      "source": [
        "Yes, Julia is 1-based indexing, not 0-based like Python.  Wars are faught over lesser issues. I have a friend with the wisdom of Solomon who proposes settling this once and for all with ½ 😃"
      ]
    },
    {
      "cell_type": "markdown",
      "metadata": {
        "id": "aK6UegV0ug9o"
      },
      "source": [
        "We can also edit the array by using the `push!` and `pop!` functions. `push!` adds an element to the end of an array and `pop!` removes the last element of an array.\n",
        "\n",
        "We can add another number to our fibonnaci sequence"
      ]
    },
    {
      "cell_type": "code",
      "metadata": {
        "id": "ZqtCCbyHug9p",
        "colab": {
          "base_uri": "https://localhost:8080/"
        },
        "outputId": "eee1a847-1c6a-49a3-a4fa-fe0e14b3dc42"
      },
      "source": [
        "push!(fibonacci, 21)"
      ],
      "execution_count": null,
      "outputs": [
        {
          "output_type": "execute_result",
          "data": {
            "text/plain": [
              "8-element Vector{Int64}:\n",
              "  1\n",
              "  1\n",
              "  2\n",
              "  3\n",
              "  5\n",
              "  8\n",
              " 13\n",
              " 21"
            ]
          },
          "metadata": {},
          "execution_count": 56
        }
      ]
    },
    {
      "cell_type": "markdown",
      "metadata": {
        "id": "6LrFl-Tjug9q"
      },
      "source": [
        "and then remove it"
      ]
    },
    {
      "cell_type": "code",
      "metadata": {
        "id": "LN21pcTPug9q",
        "colab": {
          "base_uri": "https://localhost:8080/"
        },
        "outputId": "cf454c3d-681d-4ed5-e1dc-aa6d300e9240"
      },
      "source": [
        "pop!(fibonacci)"
      ],
      "execution_count": null,
      "outputs": [
        {
          "output_type": "execute_result",
          "data": {
            "text/plain": [
              "21"
            ]
          },
          "metadata": {},
          "execution_count": 57
        }
      ]
    },
    {
      "cell_type": "code",
      "metadata": {
        "id": "I-WDj82Sug9r",
        "colab": {
          "base_uri": "https://localhost:8080/"
        },
        "outputId": "e23cfccf-49bd-44f9-b9a5-11b64c92290d"
      },
      "source": [
        "fibonacci"
      ],
      "execution_count": null,
      "outputs": [
        {
          "output_type": "execute_result",
          "data": {
            "text/plain": [
              "7-element Vector{Int64}:\n",
              "  1\n",
              "  1\n",
              "  2\n",
              "  3\n",
              "  5\n",
              "  8\n",
              " 13"
            ]
          },
          "metadata": {},
          "execution_count": 58
        }
      ]
    },
    {
      "cell_type": "markdown",
      "metadata": {
        "id": "5wX_9JPkug9r"
      },
      "source": [
        "So far I've given examples of only 1D arrays of scalars, but arrays can have an arbitrary number of dimensions and can also store other arrays. \n",
        "<br><br>\n",
        "For example, the following are arrays of arrays:"
      ]
    },
    {
      "cell_type": "code",
      "metadata": {
        "id": "CPTufW2nug9r",
        "colab": {
          "base_uri": "https://localhost:8080/"
        },
        "outputId": "2a8d90d0-c265-4b61-eb92-c001349285a7"
      },
      "source": [
        "favorites = [[\"koobideh\", \"chocolate\", \"eggs\"],[\"penguins\", \"cats\", \"sugargliders\"]]"
      ],
      "execution_count": null,
      "outputs": [
        {
          "output_type": "execute_result",
          "data": {
            "text/plain": [
              "2-element Vector{Vector{String}}:\n",
              " [\"koobideh\", \"chocolate\", \"eggs\"]\n",
              " [\"penguins\", \"cats\", \"sugargliders\"]"
            ]
          },
          "metadata": {},
          "execution_count": 59
        }
      ]
    },
    {
      "cell_type": "code",
      "metadata": {
        "id": "cy749eKaug9s",
        "colab": {
          "base_uri": "https://localhost:8080/"
        },
        "outputId": "582be898-53a1-4ba2-d07f-6fe8eb1129aa"
      },
      "source": [
        "numbers = [[1, 2, 3], [4, 5], [6, 7, 8, 9]]"
      ],
      "execution_count": null,
      "outputs": [
        {
          "output_type": "execute_result",
          "data": {
            "text/plain": [
              "3-element Vector{Vector{Int64}}:\n",
              " [1, 2, 3]\n",
              " [4, 5]\n",
              " [6, 7, 8, 9]"
            ]
          },
          "metadata": {},
          "execution_count": 60
        }
      ]
    },
    {
      "cell_type": "markdown",
      "metadata": {
        "id": "6-YOX1Xcug9t"
      },
      "source": [
        "Below are examples of 2D and 3D arrays populated with random values."
      ]
    },
    {
      "cell_type": "code",
      "metadata": {
        "id": "dUshzEADug9t",
        "colab": {
          "base_uri": "https://localhost:8080/"
        },
        "outputId": "fd81a9a9-461c-4f0d-d1d8-aa8e0f89ea7d"
      },
      "source": [
        "rand(4, 3)"
      ],
      "execution_count": null,
      "outputs": [
        {
          "output_type": "execute_result",
          "data": {
            "text/plain": [
              "4×3 Matrix{Float64}:\n",
              " 0.752171  0.784128  0.250321\n",
              " 0.185609  0.514436  0.881502\n",
              " 0.680641  0.935007  0.212134\n",
              " 0.516624  0.745813  0.770432"
            ]
          },
          "metadata": {},
          "execution_count": 61
        }
      ]
    },
    {
      "cell_type": "code",
      "metadata": {
        "id": "USaPRJVrug9t",
        "colab": {
          "base_uri": "https://localhost:8080/"
        },
        "outputId": "e3d2a760-799c-4db9-df24-55d81d268571"
      },
      "source": [
        "rand(4, 3, 2)"
      ],
      "execution_count": null,
      "outputs": [
        {
          "output_type": "execute_result",
          "data": {
            "text/plain": [
              "4×3×2 Array{Float64, 3}:\n",
              "[:, :, 1] =\n",
              " 0.491193  0.908523  0.00888137\n",
              " 0.681418  0.725537  0.373102\n",
              " 0.367523  0.791823  0.139358\n",
              " 0.440783  0.36089   0.500662\n",
              "\n",
              "[:, :, 2] =\n",
              " 0.883458  0.524976  0.972741\n",
              " 0.442204  0.757262  0.477659\n",
              " 0.257799  0.876198  0.968651\n",
              " 0.70955   0.620307  0.598375"
            ]
          },
          "metadata": {},
          "execution_count": 62
        }
      ]
    },
    {
      "cell_type": "markdown",
      "metadata": {
        "id": "wf6Fm3kFug9u"
      },
      "source": [
        "Be careful when you want to copy arrays!"
      ]
    },
    {
      "cell_type": "code",
      "metadata": {
        "id": "KrPin3c3ug9u",
        "colab": {
          "base_uri": "https://localhost:8080/"
        },
        "outputId": "24d8a7d4-c631-4c37-8460-285595b84bb7"
      },
      "source": [
        "fibonacci"
      ],
      "execution_count": null,
      "outputs": [
        {
          "output_type": "execute_result",
          "data": {
            "text/plain": [
              "7-element Vector{Int64}:\n",
              "  1\n",
              "  1\n",
              "  2\n",
              "  3\n",
              "  5\n",
              "  8\n",
              " 13"
            ]
          },
          "metadata": {},
          "execution_count": 63
        }
      ]
    },
    {
      "cell_type": "code",
      "metadata": {
        "id": "h9tqlXOfug9v",
        "colab": {
          "base_uri": "https://localhost:8080/"
        },
        "outputId": "70b17db2-9243-4e80-b932-2f491fc9713c"
      },
      "source": [
        "somenumbers = fibonacci"
      ],
      "execution_count": null,
      "outputs": [
        {
          "output_type": "execute_result",
          "data": {
            "text/plain": [
              "7-element Vector{Int64}:\n",
              "  1\n",
              "  1\n",
              "  2\n",
              "  3\n",
              "  5\n",
              "  8\n",
              " 13"
            ]
          },
          "metadata": {},
          "execution_count": 64
        }
      ]
    },
    {
      "cell_type": "code",
      "metadata": {
        "id": "q9SWZoLgug9w",
        "colab": {
          "base_uri": "https://localhost:8080/"
        },
        "outputId": "dec9928b-242c-4fd4-b74b-01c3bc581901"
      },
      "source": [
        "somenumbers[1] = 404"
      ],
      "execution_count": null,
      "outputs": [
        {
          "output_type": "execute_result",
          "data": {
            "text/plain": [
              "404"
            ]
          },
          "metadata": {},
          "execution_count": 65
        }
      ]
    },
    {
      "cell_type": "code",
      "metadata": {
        "id": "RkKfek-yug9w",
        "colab": {
          "base_uri": "https://localhost:8080/"
        },
        "outputId": "ff25d8dc-03d5-41e9-bcf4-24966a785d1f"
      },
      "source": [
        "fibonacci"
      ],
      "execution_count": null,
      "outputs": [
        {
          "output_type": "execute_result",
          "data": {
            "text/plain": [
              "7-element Vector{Int64}:\n",
              " 404\n",
              "   1\n",
              "   2\n",
              "   3\n",
              "   5\n",
              "   8\n",
              "  13"
            ]
          },
          "metadata": {},
          "execution_count": 66
        }
      ]
    },
    {
      "cell_type": "markdown",
      "metadata": {
        "id": "4IBfMFlMug9x"
      },
      "source": [
        "Editing `somenumbers` caused `fibonacci` to get updated as well!\n",
        "\n",
        "In the above example, we didn't actually make a copy of `fibonacci`. We just created a new way to access the entries in the array bound to `fibonacci`.\n",
        "\n",
        "If we'd like to make a copy of the array bound to `fibonacci`, we can use the `copy` function."
      ]
    },
    {
      "cell_type": "code",
      "metadata": {
        "id": "0fN7-oGpug9y",
        "colab": {
          "base_uri": "https://localhost:8080/"
        },
        "outputId": "9ecfb35b-6e83-4de7-a7d8-007cbc2eb4fb"
      },
      "source": [
        "# First, restore fibonacci\n",
        "fibonacci[1] = 1\n",
        "fibonacci"
      ],
      "execution_count": null,
      "outputs": [
        {
          "output_type": "execute_result",
          "data": {
            "text/plain": [
              "7-element Vector{Int64}:\n",
              "  1\n",
              "  1\n",
              "  2\n",
              "  3\n",
              "  5\n",
              "  8\n",
              " 13"
            ]
          },
          "metadata": {},
          "execution_count": 67
        }
      ]
    },
    {
      "cell_type": "code",
      "metadata": {
        "id": "DiMtGI6wug9y",
        "colab": {
          "base_uri": "https://localhost:8080/"
        },
        "outputId": "b09b7c54-ed72-40cd-82d1-cfd3c58cab18"
      },
      "source": [
        "somemorenumbers = copy(fibonacci)"
      ],
      "execution_count": null,
      "outputs": [
        {
          "output_type": "execute_result",
          "data": {
            "text/plain": [
              "7-element Vector{Int64}:\n",
              "  1\n",
              "  1\n",
              "  2\n",
              "  3\n",
              "  5\n",
              "  8\n",
              " 13"
            ]
          },
          "metadata": {},
          "execution_count": 68
        }
      ]
    },
    {
      "cell_type": "code",
      "metadata": {
        "id": "lm0ufy88ug9z",
        "colab": {
          "base_uri": "https://localhost:8080/"
        },
        "outputId": "c9cac510-efdd-48be-b2d2-dc84382a8d8a"
      },
      "source": [
        "somemorenumbers[1] = 404"
      ],
      "execution_count": null,
      "outputs": [
        {
          "output_type": "execute_result",
          "data": {
            "text/plain": [
              "404"
            ]
          },
          "metadata": {},
          "execution_count": 69
        }
      ]
    },
    {
      "cell_type": "code",
      "metadata": {
        "id": "mhc27kfRug90",
        "colab": {
          "base_uri": "https://localhost:8080/"
        },
        "outputId": "58b1794d-a204-49cc-9b51-132457deccb1"
      },
      "source": [
        "fibonacci"
      ],
      "execution_count": null,
      "outputs": [
        {
          "output_type": "execute_result",
          "data": {
            "text/plain": [
              "7-element Vector{Int64}:\n",
              "  1\n",
              "  1\n",
              "  2\n",
              "  3\n",
              "  5\n",
              "  8\n",
              " 13"
            ]
          },
          "metadata": {},
          "execution_count": 70
        }
      ]
    },
    {
      "cell_type": "markdown",
      "metadata": {
        "id": "sVu9gEFyug91"
      },
      "source": [
        "In this last example, fibonacci was not updated. Therefore we see that the arrays bound to `somemorenumbers` and `fibonacci` are distinct."
      ]
    },
    {
      "cell_type": "code",
      "metadata": {
        "id": "RXRaKEztwmoi"
      },
      "source": [
        ""
      ],
      "execution_count": null,
      "outputs": []
    },
    {
      "cell_type": "markdown",
      "metadata": {
        "collapsed": true,
        "id": "udA1owhowrs2"
      },
      "source": [
        "# Loops\n",
        "\n",
        "Topics:\n",
        "1. `while` loops\n",
        "2. `for` loops\n",
        "<br>\n",
        "\n",
        "## while loops\n",
        "\n",
        "The syntax for a `while` is\n",
        "\n",
        "```julia\n",
        "while *condition*\n",
        "    *loop body*\n",
        "end\n",
        "```\n",
        "\n",
        "For example, we could use `while` to count or to iterate over an array."
      ]
    },
    {
      "cell_type": "code",
      "metadata": {
        "id": "LsfuVLXGwrtF",
        "outputId": "77491f1f-efca-410d-d398-2a0de1fdfe73"
      },
      "source": [
        "n = 0\n",
        "while n < 10\n",
        "    n += 1\n",
        "    println(n)\n",
        "end\n",
        "n"
      ],
      "execution_count": null,
      "outputs": [
        {
          "name": "stdout",
          "output_type": "stream",
          "text": [
            "1\n",
            "2\n",
            "3\n",
            "4\n",
            "5\n",
            "6\n",
            "7\n",
            "8\n",
            "9\n",
            "10\n"
          ]
        },
        {
          "data": {
            "text/plain": [
              "10"
            ]
          },
          "execution_count": 1,
          "metadata": {},
          "output_type": "execute_result"
        }
      ]
    },
    {
      "cell_type": "code",
      "metadata": {
        "id": "kCHK4Si5wrtM",
        "outputId": "34706774-573f-485f-d100-e436875840fe"
      },
      "source": [
        "myfriends = [\"Ted\", \"Robyn\", \"Barney\", \"Lily\", \"Marshall\"]\n",
        "\n",
        "i = 1\n",
        "while i <= length(myfriends)\n",
        "    friend = myfriends[i]\n",
        "    println(\"Hi $friend, it's great to see you!\")\n",
        "    i += 1\n",
        "end"
      ],
      "execution_count": null,
      "outputs": [
        {
          "name": "stdout",
          "output_type": "stream",
          "text": [
            "Hi Ted, it's great to see you!\n",
            "Hi Robyn, it's great to see you!\n",
            "Hi Barney, it's great to see you!\n",
            "Hi Lily, it's great to see you!\n",
            "Hi Marshall, it's great to see you!\n"
          ]
        }
      ]
    },
    {
      "cell_type": "markdown",
      "metadata": {
        "id": "qDTuwlb1wrtO"
      },
      "source": [
        "## for loops\n",
        "\n",
        "The syntax for a `for` loop is\n",
        "\n",
        "```julia\n",
        "for *var* in *loop iterable*\n",
        "    *loop body*\n",
        "end\n",
        "```\n",
        "\n",
        "We could use a for loop to generate the same results as either of the examples above:"
      ]
    },
    {
      "cell_type": "code",
      "metadata": {
        "id": "Nb3rS6MvwrtQ",
        "colab": {
          "base_uri": "https://localhost:8080/"
        },
        "outputId": "a1d36eec-deef-4e24-dc05-90f14f7b31d1"
      },
      "source": [
        "for n in 1:10\n",
        "    println(n)\n",
        "end"
      ],
      "execution_count": null,
      "outputs": [
        {
          "output_type": "stream",
          "name": "stdout",
          "text": [
            "1\n",
            "2\n",
            "3\n",
            "4\n",
            "5\n",
            "6\n",
            "7\n",
            "8\n",
            "9\n",
            "10\n"
          ]
        }
      ]
    },
    {
      "cell_type": "code",
      "metadata": {
        "id": "jK900lIHwrtU",
        "colab": {
          "base_uri": "https://localhost:8080/"
        },
        "outputId": "6517702f-17c4-429a-ee56-a8ec0ccb2828"
      },
      "source": [
        "myfriends = [\"Ted\", \"Robyn\", \"Barney\", \"Lily\", \"Marshall\"]\n",
        "\n",
        "for friend in myfriends\n",
        "    println(\"Hi $friend, it's great to see you!\")\n",
        "end"
      ],
      "execution_count": null,
      "outputs": [
        {
          "output_type": "stream",
          "name": "stdout",
          "text": [
            "Hi Ted, it's great to see you!\n",
            "Hi Robyn, it's great to see you!\n",
            "Hi Barney, it's great to see you!\n",
            "Hi Lily, it's great to see you!\n",
            "Hi Marshall, it's great to see you!\n"
          ]
        }
      ]
    },
    {
      "cell_type": "markdown",
      "metadata": {
        "id": "YrL8xAY9wrtW"
      },
      "source": [
        "Now let's use `for` loops to create some addition tables, where the value of every entry is the sum of its row and column indices. <br>\n",
        "\n",
        "First, we initialize an array with zeros."
      ]
    },
    {
      "cell_type": "code",
      "metadata": {
        "id": "rr8DgafDwrtY",
        "colab": {
          "base_uri": "https://localhost:8080/"
        },
        "outputId": "432a7f96-fbe8-4f73-e8a3-c6d06932294f"
      },
      "source": [
        "m, n = 5, 5\n",
        "A = fill(0, (m, n))"
      ],
      "execution_count": null,
      "outputs": [
        {
          "output_type": "execute_result",
          "data": {
            "text/plain": [
              "5×5 Matrix{Int64}:\n",
              " 0  0  0  0  0\n",
              " 0  0  0  0  0\n",
              " 0  0  0  0  0\n",
              " 0  0  0  0  0\n",
              " 0  0  0  0  0"
            ]
          },
          "metadata": {},
          "execution_count": 73
        }
      ]
    },
    {
      "cell_type": "code",
      "metadata": {
        "id": "Zo61SOnGwrta",
        "colab": {
          "base_uri": "https://localhost:8080/"
        },
        "outputId": "b5f0e126-16c5-43fb-a14e-81ff6b32d09d"
      },
      "source": [
        "for i in 1:m\n",
        "    for j in 1:n\n",
        "        A[i, j] = i + j\n",
        "    end\n",
        "end\n",
        "A"
      ],
      "execution_count": null,
      "outputs": [
        {
          "output_type": "execute_result",
          "data": {
            "text/plain": [
              "5×5 Matrix{Int64}:\n",
              " 2  3  4  5   6\n",
              " 3  4  5  6   7\n",
              " 4  5  6  7   8\n",
              " 5  6  7  8   9\n",
              " 6  7  8  9  10"
            ]
          },
          "metadata": {},
          "execution_count": 74
        }
      ]
    },
    {
      "cell_type": "markdown",
      "metadata": {
        "id": "TTtAmcu_wrtc"
      },
      "source": [
        "Here's some syntactic sugar for the same nested `for` loop"
      ]
    },
    {
      "cell_type": "code",
      "metadata": {
        "id": "5TUXFGyxwrtd",
        "colab": {
          "base_uri": "https://localhost:8080/"
        },
        "outputId": "2ac7fdd8-3e5d-478d-d063-1813c47808d7"
      },
      "source": [
        "B = fill(0, (m, n))"
      ],
      "execution_count": null,
      "outputs": [
        {
          "output_type": "execute_result",
          "data": {
            "text/plain": [
              "5×5 Matrix{Int64}:\n",
              " 0  0  0  0  0\n",
              " 0  0  0  0  0\n",
              " 0  0  0  0  0\n",
              " 0  0  0  0  0\n",
              " 0  0  0  0  0"
            ]
          },
          "metadata": {},
          "execution_count": 75
        }
      ]
    },
    {
      "cell_type": "code",
      "metadata": {
        "id": "PctAIoXAwrtf",
        "colab": {
          "base_uri": "https://localhost:8080/"
        },
        "outputId": "9a077a45-2ba9-4864-892a-bae5ce768a55"
      },
      "source": [
        "for i in 1:m, j in 1:n\n",
        "    B[i, j] = i + j\n",
        "end\n",
        "B"
      ],
      "execution_count": null,
      "outputs": [
        {
          "output_type": "execute_result",
          "data": {
            "text/plain": [
              "5×5 Matrix{Int64}:\n",
              " 2  3  4  5   6\n",
              " 3  4  5  6   7\n",
              " 4  5  6  7   8\n",
              " 5  6  7  8   9\n",
              " 6  7  8  9  10"
            ]
          },
          "metadata": {},
          "execution_count": 76
        }
      ]
    },
    {
      "cell_type": "markdown",
      "metadata": {
        "id": "nNHhPK48wrtg"
      },
      "source": [
        "The more \"Julia\" way to create this addition table would have been with an *array comprehension*."
      ]
    },
    {
      "cell_type": "code",
      "metadata": {
        "id": "Z4XfKalVwrth",
        "colab": {
          "base_uri": "https://localhost:8080/"
        },
        "outputId": "c0cdb71e-8ade-46bc-f3b6-4a3a49903f67"
      },
      "source": [
        "C = [i + j for i in 1:m, j in 1:n]"
      ],
      "execution_count": null,
      "outputs": [
        {
          "output_type": "execute_result",
          "data": {
            "text/plain": [
              "5×5 Matrix{Int64}:\n",
              " 2  3  4  5   6\n",
              " 3  4  5  6   7\n",
              " 4  5  6  7   8\n",
              " 5  6  7  8   9\n",
              " 6  7  8  9  10"
            ]
          },
          "metadata": {},
          "execution_count": 77
        }
      ]
    },
    {
      "cell_type": "code",
      "metadata": {
        "id": "nfq--p-axFPi"
      },
      "source": [
        ""
      ],
      "execution_count": null,
      "outputs": []
    },
    {
      "cell_type": "markdown",
      "metadata": {
        "collapsed": true,
        "id": "es2hSdZ9xiQh"
      },
      "source": [
        "# Conditionals\n",
        "\n",
        "#### with the `if` keyword\n",
        "In Julia, the syntax\n",
        "\n",
        "```julia\n",
        "if *condition 1*\n",
        "    *option 1*\n",
        "elseif *condition 2*\n",
        "    *option 2*\n",
        "else\n",
        "    *option 3*\n",
        "end\n",
        "```\n",
        "\n",
        "allows us to conditionally evaluate one of our options.\n",
        "<br><br>\n",
        "For example, we might want to implement the FizzBuzz test: given a number, N, print \"Fizz\" if N is divisible by 3, \"Buzz\" if N is divisible by 5, and \"FizzBuzz\" if N is divisible by 3 and 5. Otherwise just print the number itself! Enter your choice for `N` here:"
      ]
    },
    {
      "cell_type": "code",
      "metadata": {
        "id": "ywQMnnanxiQv",
        "colab": {
          "base_uri": "https://localhost:8080/"
        },
        "outputId": "84f2c6a2-01e0-4bc9-dd65-266d809353c9"
      },
      "source": [
        "N = 21"
      ],
      "execution_count": null,
      "outputs": [
        {
          "output_type": "execute_result",
          "data": {
            "text/plain": [
              "21"
            ]
          },
          "metadata": {},
          "execution_count": 80
        }
      ]
    },
    {
      "cell_type": "code",
      "metadata": {
        "id": "nr5LcVihxiQ2",
        "colab": {
          "base_uri": "https://localhost:8080/"
        },
        "outputId": "c6eac36c-7350-4403-d31a-08d267b86148"
      },
      "source": [
        "if (N % 3 == 0) && (N % 5 == 0) # `&&` means \"AND\"; % computes the remainder after division\n",
        "    println(\"FizzBuzz\")\n",
        "elseif N % 3 == 0\n",
        "    println(\"Fizz\")\n",
        "elseif N % 5 == 0\n",
        "    println(\"Buzz\")\n",
        "else\n",
        "    println(N)\n",
        "end"
      ],
      "execution_count": null,
      "outputs": [
        {
          "output_type": "stream",
          "name": "stdout",
          "text": [
            "Fizz\n"
          ]
        }
      ]
    },
    {
      "cell_type": "markdown",
      "metadata": {
        "id": "IJ6cCoL1xiQ4"
      },
      "source": [
        "#### with ternary operators\n",
        "\n",
        "For this last block, we could instead use the ternary operator with the syntax\n",
        "\n",
        "```julia\n",
        "a ? b : c\n",
        "```\n",
        "\n",
        "which equates to \n",
        "\n",
        "```julia\n",
        "if a\n",
        "    b\n",
        "else\n",
        "    c\n",
        "end\n",
        "```"
      ]
    },
    {
      "cell_type": "markdown",
      "metadata": {
        "id": "LcCInR3QxiQ7"
      },
      "source": [
        "Now let's say we want to return the larger of two numbers. Give `x` and `y` values here:"
      ]
    },
    {
      "cell_type": "code",
      "metadata": {
        "id": "B6iGBZtZxiQ8",
        "colab": {
          "base_uri": "https://localhost:8080/"
        },
        "outputId": "597f7bde-674b-4c79-81b2-030f89b55c4b"
      },
      "source": [
        "x =20\n",
        "y =30"
      ],
      "execution_count": null,
      "outputs": [
        {
          "output_type": "execute_result",
          "data": {
            "text/plain": [
              "30"
            ]
          },
          "metadata": {},
          "execution_count": 82
        }
      ]
    },
    {
      "cell_type": "markdown",
      "metadata": {
        "id": "goAG-OKYxiQ-"
      },
      "source": [
        "Using the `if` and `else` keywords, we might write:"
      ]
    },
    {
      "cell_type": "code",
      "metadata": {
        "id": "vl-WT4yExiRA",
        "colab": {
          "base_uri": "https://localhost:8080/"
        },
        "outputId": "9fe79214-b344-4f1f-dd97-960f8d2e0136"
      },
      "source": [
        "if x > y\n",
        "    x\n",
        "else\n",
        "    y\n",
        "end"
      ],
      "execution_count": null,
      "outputs": [
        {
          "output_type": "execute_result",
          "data": {
            "text/plain": [
              "30"
            ]
          },
          "metadata": {},
          "execution_count": 83
        }
      ]
    },
    {
      "cell_type": "markdown",
      "metadata": {
        "id": "IZvG2NYCxiRC"
      },
      "source": [
        "and as a ternary operator, the conditional looks like this:"
      ]
    },
    {
      "cell_type": "code",
      "metadata": {
        "id": "SH6xgt4gxiRE",
        "colab": {
          "base_uri": "https://localhost:8080/"
        },
        "outputId": "9a151662-8ad5-4176-fe1f-41a8bfa6256e"
      },
      "source": [
        "(x > y) ? x : y"
      ],
      "execution_count": null,
      "outputs": [
        {
          "output_type": "execute_result",
          "data": {
            "text/plain": [
              "30"
            ]
          },
          "metadata": {},
          "execution_count": 84
        }
      ]
    },
    {
      "cell_type": "markdown",
      "metadata": {
        "id": "4ngqvu2fxiRF"
      },
      "source": [
        "#### with short-circuit evaluation\n",
        "\n",
        "We've already seen expressions with the syntax\n",
        "```julia\n",
        "a && b\n",
        "```\n",
        "to return true if both `a` and `b` are true. Of course, if `a` is false, Julia doesn't even need to know the value of `b` in order to determine that the overall result will be false. So Julia doesn't even need to check what `b` is; it can just \"short-circuit\" and immediately return `false`.  The second argument `b` might be a more complicated expression like a function call with a side-effect, in which case it won't even be called:"
      ]
    },
    {
      "cell_type": "code",
      "metadata": {
        "id": "JTRwDYuKxiRG",
        "colab": {
          "base_uri": "https://localhost:8080/"
        },
        "outputId": "2202ed60-879c-4d93-f78f-666e1ad0307b"
      },
      "source": [
        "false && (println(\"hi\"); true)"
      ],
      "execution_count": null,
      "outputs": [
        {
          "output_type": "execute_result",
          "data": {
            "text/plain": [
              "false"
            ]
          },
          "metadata": {},
          "execution_count": 85
        }
      ]
    },
    {
      "cell_type": "code",
      "metadata": {
        "id": "3XzIJbyQxiRH",
        "colab": {
          "base_uri": "https://localhost:8080/"
        },
        "outputId": "9903b036-82ed-48a8-9cf5-9bef98e474a3"
      },
      "source": [
        "true && (println(\"hi\"); true)"
      ],
      "execution_count": null,
      "outputs": [
        {
          "output_type": "stream",
          "name": "stdout",
          "text": [
            "hi\n"
          ]
        },
        {
          "output_type": "execute_result",
          "data": {
            "text/plain": [
              "true"
            ]
          },
          "metadata": {},
          "execution_count": 86
        }
      ]
    },
    {
      "cell_type": "markdown",
      "metadata": {
        "id": "7HlaIe5nxiRI"
      },
      "source": [
        "On the other hand, if `a` is true, Julia knows it can just return the value of `b` as the overall expression. This means that `b` doesn't necessarily need evaluate to `true` or `false`!  `b` could even be an error:"
      ]
    },
    {
      "cell_type": "code",
      "metadata": {
        "id": "0aW8e6NBxiRK",
        "colab": {
          "base_uri": "https://localhost:8080/",
          "height": 265
        },
        "outputId": "f96cd04c-aeec-4397-cb53-8dfc6ccfe4e3"
      },
      "source": [
        "(x > 0) && (println(\"Hi\");error(\"x cannot be greater than 0\"))"
      ],
      "execution_count": null,
      "outputs": [
        {
          "output_type": "stream",
          "name": "stdout",
          "text": [
            "Hi\n"
          ]
        },
        {
          "output_type": "error",
          "ename": "LoadError",
          "evalue": "ignored",
          "traceback": [
            "x cannot be greater than 0",
            "",
            "Stacktrace:",
            " [1] error(s::String)",
            "   @ Base ./error.jl:33",
            " [2] top-level scope",
            "   @ In[89]:1",
            " [3] eval",
            "   @ ./boot.jl:360 [inlined]",
            " [4] include_string(mapexpr::typeof(REPL.softscope), mod::Module, code::String, filename::String)",
            "   @ Base ./loading.jl:1094"
          ]
        }
      ]
    },
    {
      "cell_type": "markdown",
      "metadata": {
        "id": "-vOVLZumxiRK"
      },
      "source": [
        "Similarly, check out the `||` operator, which also uses short-circuit evaluation to perform the \"or\" operation."
      ]
    },
    {
      "cell_type": "code",
      "metadata": {
        "id": "9Gg21iuCxiRL",
        "colab": {
          "base_uri": "https://localhost:8080/"
        },
        "outputId": "e9465c30-8456-461a-eee5-c00a4e87bfa1"
      },
      "source": [
        "true || println(\"hi\")"
      ],
      "execution_count": null,
      "outputs": [
        {
          "output_type": "execute_result",
          "data": {
            "text/plain": [
              "true"
            ]
          },
          "metadata": {},
          "execution_count": 90
        }
      ]
    },
    {
      "cell_type": "markdown",
      "metadata": {
        "id": "SojYQfskxiRM"
      },
      "source": [
        "and"
      ]
    },
    {
      "cell_type": "code",
      "metadata": {
        "id": "z5MQbJOPxiRN",
        "colab": {
          "base_uri": "https://localhost:8080/"
        },
        "outputId": "b6b6bfde-bf23-4236-8bdb-3b198ee8c734"
      },
      "source": [
        "false || println(\"hi\")"
      ],
      "execution_count": null,
      "outputs": [
        {
          "output_type": "stream",
          "name": "stdout",
          "text": [
            "hi\n"
          ]
        }
      ]
    },
    {
      "cell_type": "code",
      "metadata": {
        "id": "gbEEbxagzqun"
      },
      "source": [
        ""
      ],
      "execution_count": null,
      "outputs": []
    },
    {
      "cell_type": "markdown",
      "metadata": {
        "id": "aNag8u3pzwDV"
      },
      "source": [
        "# Functions\n",
        "\n",
        "Topics:\n",
        "1. How to declare a function\n",
        "2. Duck-typing in Julia\n",
        "3. Mutating vs. non-mutating functions\n",
        "4. Some higher order functions"
      ]
    },
    {
      "cell_type": "markdown",
      "metadata": {
        "id": "q8i46v7ZzwDl"
      },
      "source": [
        "## How to declare a function\n",
        "Julia gives us a few different ways to write a function. The first requires the `function` and `end` keywords"
      ]
    },
    {
      "cell_type": "code",
      "metadata": {
        "id": "VzlAhDxOzwDm",
        "colab": {
          "base_uri": "https://localhost:8080/"
        },
        "outputId": "8085007a-e551-426f-975c-e2d3bd464f8b"
      },
      "source": [
        "function sayhi(name)\n",
        "    println(\"Hi $name, it's great to see you!\")\n",
        "end"
      ],
      "execution_count": null,
      "outputs": [
        {
          "output_type": "execute_result",
          "data": {
            "text/plain": [
              "sayhi (generic function with 1 method)"
            ]
          },
          "metadata": {},
          "execution_count": 92
        }
      ]
    },
    {
      "cell_type": "code",
      "metadata": {
        "id": "m7qPhseczwDv",
        "colab": {
          "base_uri": "https://localhost:8080/"
        },
        "outputId": "6b2539d6-9027-4b74-b1c1-66c5e265302e"
      },
      "source": [
        "function f(x)\n",
        "    x^2\n",
        "end"
      ],
      "execution_count": null,
      "outputs": [
        {
          "output_type": "execute_result",
          "data": {
            "text/plain": [
              "f (generic function with 1 method)"
            ]
          },
          "metadata": {},
          "execution_count": 93
        }
      ]
    },
    {
      "cell_type": "markdown",
      "metadata": {
        "id": "6ifZmEQ9zwDv"
      },
      "source": [
        "We can call either of these functions like this:"
      ]
    },
    {
      "cell_type": "code",
      "metadata": {
        "id": "kUF2Ew-TzwDv",
        "colab": {
          "base_uri": "https://localhost:8080/"
        },
        "outputId": "fc95b85e-da2f-4dd5-e5bb-07f79b9d9643"
      },
      "source": [
        "sayhi(\"C-3PO\")"
      ],
      "execution_count": null,
      "outputs": [
        {
          "output_type": "stream",
          "name": "stdout",
          "text": [
            "Hi C-3PO, it's great to see you!\n"
          ]
        }
      ]
    },
    {
      "cell_type": "code",
      "metadata": {
        "id": "2wZ8uTTQzwDv",
        "colab": {
          "base_uri": "https://localhost:8080/"
        },
        "outputId": "bc6ab9d5-c8bf-47d6-9af1-629e733a420a"
      },
      "source": [
        "f(42)"
      ],
      "execution_count": null,
      "outputs": [
        {
          "output_type": "execute_result",
          "data": {
            "text/plain": [
              "1764"
            ]
          },
          "metadata": {},
          "execution_count": 95
        }
      ]
    },
    {
      "cell_type": "markdown",
      "metadata": {
        "id": "XHmPwQC0zwDv"
      },
      "source": [
        "Alternatively, we could have declared either of these functions in a single line"
      ]
    },
    {
      "cell_type": "code",
      "metadata": {
        "id": "BdIEF5xSzwDv",
        "colab": {
          "base_uri": "https://localhost:8080/"
        },
        "outputId": "7832fe10-88f8-4729-aedb-d1c6b3c0d9d5"
      },
      "source": [
        "sayhi2(name) = println(\"Hi $name, it's great to see you!\")"
      ],
      "execution_count": null,
      "outputs": [
        {
          "output_type": "execute_result",
          "data": {
            "text/plain": [
              "sayhi2 (generic function with 1 method)"
            ]
          },
          "metadata": {},
          "execution_count": 96
        }
      ]
    },
    {
      "cell_type": "code",
      "metadata": {
        "id": "4CHF5hcWzwDv",
        "colab": {
          "base_uri": "https://localhost:8080/"
        },
        "outputId": "be7238fd-87e4-43c6-b03c-0beff4cc723c"
      },
      "source": [
        "f2(x) = x^2"
      ],
      "execution_count": null,
      "outputs": [
        {
          "output_type": "execute_result",
          "data": {
            "text/plain": [
              "f2 (generic function with 1 method)"
            ]
          },
          "metadata": {},
          "execution_count": 97
        }
      ]
    },
    {
      "cell_type": "code",
      "metadata": {
        "id": "2gpDolldzwDv",
        "colab": {
          "base_uri": "https://localhost:8080/"
        },
        "outputId": "ae798ce8-5c9e-45c0-a5d6-03821643e58c"
      },
      "source": [
        "sayhi2(\"R2D2\")"
      ],
      "execution_count": null,
      "outputs": [
        {
          "output_type": "stream",
          "name": "stdout",
          "text": [
            "Hi R2D2, it's great to see you!\n"
          ]
        }
      ]
    },
    {
      "cell_type": "code",
      "metadata": {
        "id": "IK2D1_xdzwDv",
        "colab": {
          "base_uri": "https://localhost:8080/"
        },
        "outputId": "9393f89c-b9b4-45f9-b5ae-e7fcfd77b4ff"
      },
      "source": [
        "f2(42)"
      ],
      "execution_count": null,
      "outputs": [
        {
          "output_type": "execute_result",
          "data": {
            "text/plain": [
              "1764"
            ]
          },
          "metadata": {},
          "execution_count": 99
        }
      ]
    },
    {
      "cell_type": "markdown",
      "metadata": {
        "id": "4exXWuLTzwDv"
      },
      "source": [
        "Finally, we could have declared these as \"anonymous\" functions"
      ]
    },
    {
      "cell_type": "code",
      "metadata": {
        "id": "h-XhWqRTzwD-",
        "colab": {
          "base_uri": "https://localhost:8080/"
        },
        "outputId": "639caf26-d5bc-4250-a900-26c3d755272a"
      },
      "source": [
        "sayhi3 = name -> println(\"Hi $name, it's great to see you!\")"
      ],
      "execution_count": null,
      "outputs": [
        {
          "output_type": "execute_result",
          "data": {
            "text/plain": [
              "#3 (generic function with 1 method)"
            ]
          },
          "metadata": {},
          "execution_count": 100
        }
      ]
    },
    {
      "cell_type": "code",
      "metadata": {
        "id": "N_Igr2eFzwD_",
        "colab": {
          "base_uri": "https://localhost:8080/"
        },
        "outputId": "98c2c1e3-a4fa-48a5-b7c7-54cb25e6468d"
      },
      "source": [
        "f3 = x -> x^2"
      ],
      "execution_count": null,
      "outputs": [
        {
          "output_type": "execute_result",
          "data": {
            "text/plain": [
              "#5 (generic function with 1 method)"
            ]
          },
          "metadata": {},
          "execution_count": 101
        }
      ]
    },
    {
      "cell_type": "code",
      "metadata": {
        "id": "z3m05UfuzwD_",
        "colab": {
          "base_uri": "https://localhost:8080/"
        },
        "outputId": "42324421-a0dd-4e56-f2f1-5bd884aed1b3"
      },
      "source": [
        "sayhi3(\"Chewbacca\")"
      ],
      "execution_count": null,
      "outputs": [
        {
          "output_type": "stream",
          "name": "stdout",
          "text": [
            "Hi Chewbacca, it's great to see you!\n"
          ]
        }
      ]
    },
    {
      "cell_type": "code",
      "metadata": {
        "id": "1Y-EoWIAzwD_",
        "colab": {
          "base_uri": "https://localhost:8080/"
        },
        "outputId": "a8c8ae7e-887b-43dc-c990-59f8c1a35c27"
      },
      "source": [
        "f3(42)"
      ],
      "execution_count": null,
      "outputs": [
        {
          "output_type": "execute_result",
          "data": {
            "text/plain": [
              "1764"
            ]
          },
          "metadata": {},
          "execution_count": 103
        }
      ]
    },
    {
      "cell_type": "markdown",
      "metadata": {
        "id": "u0RddDiJzwD_"
      },
      "source": [
        "## Duck-typing in Julia\n",
        "*\"If it quacks like a duck, it's a duck.\"* <br><br>\n",
        "Julia functions will just work on whatever inputs make sense. <br><br>\n",
        "For example, `sayhi` works on the name of this minor tv character, written as an integer..."
      ]
    },
    {
      "cell_type": "code",
      "metadata": {
        "id": "D1fJQpebzwD_",
        "colab": {
          "base_uri": "https://localhost:8080/"
        },
        "outputId": "ab183ee3-9bc9-4609-8aed-032bd398360b"
      },
      "source": [
        "sayhi(55595472)"
      ],
      "execution_count": null,
      "outputs": [
        {
          "output_type": "stream",
          "name": "stdout",
          "text": [
            "Hi 55595472, it's great to see you!\n"
          ]
        }
      ]
    },
    {
      "cell_type": "markdown",
      "metadata": {
        "id": "dIRkjMr3zwD_"
      },
      "source": [
        "And `f` will work on a matrix. "
      ]
    },
    {
      "cell_type": "code",
      "metadata": {
        "id": "EzsGkPxgzwD_",
        "colab": {
          "base_uri": "https://localhost:8080/"
        },
        "outputId": "bf9c6a70-55aa-4329-93c9-c8afa8d268d1"
      },
      "source": [
        "A = rand(3, 3)\n",
        "A"
      ],
      "execution_count": null,
      "outputs": [
        {
          "output_type": "execute_result",
          "data": {
            "text/plain": [
              "3×3 Matrix{Float64}:\n",
              " 0.190865  0.395317   0.0973911\n",
              " 0.649675  0.145378   0.557207\n",
              " 0.905959  0.0474975  0.579842"
            ]
          },
          "metadata": {},
          "execution_count": 108
        }
      ]
    },
    {
      "cell_type": "code",
      "metadata": {
        "id": "YeOaeqUrzwD_",
        "colab": {
          "base_uri": "https://localhost:8080/"
        },
        "outputId": "a873a045-1003-4cd7-989e-245a0170c45d"
      },
      "source": [
        "f(A)"
      ],
      "execution_count": null,
      "outputs": [
        {
          "output_type": "execute_result",
          "data": {
            "text/plain": [
              "3×3 Matrix{Float64}:\n",
              " 0.38149   0.137548  0.295334\n",
              " 0.723255  0.304428  0.46737\n",
              " 0.729087  0.392587  0.450916"
            ]
          },
          "metadata": {},
          "execution_count": 109
        }
      ]
    },
    {
      "cell_type": "markdown",
      "metadata": {
        "id": "6vrfw5EBzwD_"
      },
      "source": [
        "`f` will also work on a string like \"hi\" because `*` is defined for string inputs as string concatenation."
      ]
    },
    {
      "cell_type": "code",
      "metadata": {
        "id": "T9aHEzPMzwD_",
        "colab": {
          "base_uri": "https://localhost:8080/"
        },
        "outputId": "689f6c69-5e1c-4c0e-d089-c5ee130616f3"
      },
      "source": [
        "f(\"hi\")"
      ],
      "execution_count": null,
      "outputs": [
        {
          "output_type": "execute_result",
          "data": {
            "text/plain": [
              "\"hihi\""
            ]
          },
          "metadata": {},
          "execution_count": 107
        }
      ]
    },
    {
      "cell_type": "markdown",
      "metadata": {
        "id": "83hicdSBzwD_"
      },
      "source": [
        "On the other hand, `f` will not work on a vector. Unlike `A^2`, which is well-defined, the meaning of `v^2` for a vector, `v`, is not a well-defined algebraic operation. "
      ]
    },
    {
      "cell_type": "code",
      "metadata": {
        "id": "tNTUvTUJzwD_",
        "colab": {
          "base_uri": "https://localhost:8080/"
        },
        "outputId": "ad79c101-eae3-4ce4-8399-abae09c7c091"
      },
      "source": [
        "v = rand(3)"
      ],
      "execution_count": null,
      "outputs": [
        {
          "output_type": "execute_result",
          "data": {
            "text/plain": [
              "3-element Vector{Float64}:\n",
              " 0.8033381560349446\n",
              " 0.9165070835346236\n",
              " 0.5489543953495684"
            ]
          },
          "metadata": {},
          "execution_count": 110
        }
      ]
    },
    {
      "cell_type": "code",
      "metadata": {
        "id": "EoHoj-X4zwD_",
        "colab": {
          "base_uri": "https://localhost:8080/",
          "height": 401
        },
        "outputId": "92534133-0e4f-4041-d182-bc19d2f9762b"
      },
      "source": [
        "f(v)"
      ],
      "execution_count": null,
      "outputs": [
        {
          "output_type": "error",
          "ename": "LoadError",
          "evalue": "ignored",
          "traceback": [
            "MethodError: no method matching ^(::Vector{Float64}, ::Int64)\n\u001b[0mClosest candidates are:\n\u001b[0m  ^(\u001b[91m::Union{AbstractChar, AbstractString}\u001b[39m, ::Integer) at strings/basic.jl:718\n\u001b[0m  ^(\u001b[91m::Complex{var\"#s79\"} where var\"#s79\"<:AbstractFloat\u001b[39m, ::Integer) at complex.jl:818\n\u001b[0m  ^(\u001b[91m::Complex{var\"#s79\"} where var\"#s79\"<:Integer\u001b[39m, ::Integer) at complex.jl:820\n\u001b[0m  ...",
            "",
            "Stacktrace:",
            " [1] macro expansion",
            "   @ ./none:0 [inlined]",
            " [2] literal_pow",
            "   @ ./none:0 [inlined]",
            " [3] f(x::Vector{Float64})",
            "   @ Main ./In[93]:2",
            " [4] top-level scope",
            "   @ In[111]:1",
            " [5] eval",
            "   @ ./boot.jl:360 [inlined]",
            " [6] include_string(mapexpr::typeof(REPL.softscope), mod::Module, code::String, filename::String)",
            "   @ Base ./loading.jl:1094"
          ]
        }
      ]
    },
    {
      "cell_type": "markdown",
      "metadata": {
        "collapsed": true,
        "id": "26yIluqDzwD_"
      },
      "source": [
        "## Mutating vs. non-mutating functions\n",
        "\n",
        "By convention, functions followed by `!` alter their contents and functions lacking `!` do not.\n",
        "\n",
        "For example, let's look at the difference between `sort` and `sort!`.\n"
      ]
    },
    {
      "cell_type": "code",
      "metadata": {
        "id": "tK9eNLqazwD_",
        "colab": {
          "base_uri": "https://localhost:8080/"
        },
        "outputId": "4c04916a-baba-4cea-df42-864118d027ef"
      },
      "source": [
        "v = [3, 5, 2]"
      ],
      "execution_count": null,
      "outputs": [
        {
          "output_type": "execute_result",
          "data": {
            "text/plain": [
              "3-element Vector{Int64}:\n",
              " 3\n",
              " 5\n",
              " 2"
            ]
          },
          "metadata": {},
          "execution_count": 112
        }
      ]
    },
    {
      "cell_type": "code",
      "metadata": {
        "id": "paZyptJFzwD_",
        "colab": {
          "base_uri": "https://localhost:8080/"
        },
        "outputId": "17a9c500-9fad-4ee4-c20e-56315b8e34b1"
      },
      "source": [
        "sort(v)"
      ],
      "execution_count": null,
      "outputs": [
        {
          "output_type": "execute_result",
          "data": {
            "text/plain": [
              "3-element Vector{Int64}:\n",
              " 2\n",
              " 3\n",
              " 5"
            ]
          },
          "metadata": {},
          "execution_count": 113
        }
      ]
    },
    {
      "cell_type": "code",
      "metadata": {
        "id": "196gOhW2zwD_",
        "colab": {
          "base_uri": "https://localhost:8080/"
        },
        "outputId": "5146670b-f017-4c75-985e-f3e0fef37300"
      },
      "source": [
        "v"
      ],
      "execution_count": null,
      "outputs": [
        {
          "output_type": "execute_result",
          "data": {
            "text/plain": [
              "3-element Vector{Int64}:\n",
              " 3\n",
              " 5\n",
              " 2"
            ]
          },
          "metadata": {},
          "execution_count": 114
        }
      ]
    },
    {
      "cell_type": "markdown",
      "metadata": {
        "id": "OG0_JkF7zwD_"
      },
      "source": [
        "`sort(v)` returns a sorted array that contains the same elements as `v`, but `v` is left unchanged. <br><br>\n",
        "\n",
        "On the other hand, when we run `sort!(v)`, the contents of v are sorted within the array `v`."
      ]
    },
    {
      "cell_type": "code",
      "metadata": {
        "id": "Jn6alQOczwD_",
        "colab": {
          "base_uri": "https://localhost:8080/"
        },
        "outputId": "40d39589-2a9a-4fa7-e27e-e96f89fd3141"
      },
      "source": [
        "sort!(v)"
      ],
      "execution_count": null,
      "outputs": [
        {
          "output_type": "execute_result",
          "data": {
            "text/plain": [
              "3-element Vector{Int64}:\n",
              " 2\n",
              " 3\n",
              " 5"
            ]
          },
          "metadata": {},
          "execution_count": 115
        }
      ]
    },
    {
      "cell_type": "code",
      "metadata": {
        "id": "F0k37xVezwD_",
        "colab": {
          "base_uri": "https://localhost:8080/"
        },
        "outputId": "c7c3d5be-3ea5-4cd9-e468-195e49c48adc"
      },
      "source": [
        "v"
      ],
      "execution_count": null,
      "outputs": [
        {
          "output_type": "execute_result",
          "data": {
            "text/plain": [
              "3-element Vector{Int64}:\n",
              " 2\n",
              " 3\n",
              " 5"
            ]
          },
          "metadata": {},
          "execution_count": 116
        }
      ]
    },
    {
      "cell_type": "markdown",
      "metadata": {
        "id": "MOH0p1PIzwD_"
      },
      "source": [
        "## Some higher order functions\n",
        "\n",
        "### map\n",
        "\n",
        "`map` is a \"higher-order\" function in Julia that *takes a function* as one of its input arguments. \n",
        "`map` then applies that function to every element of the data structure you pass it. For example, executing\n",
        "\n",
        "```julia\n",
        "map(f, [1, 2, 3])\n",
        "```\n",
        "will give you an output array where the function `f` has been applied to all elements of `[1, 2, 3]`\n",
        "```julia\n",
        "[f(1), f(2), f(3)]\n",
        "```"
      ]
    },
    {
      "cell_type": "code",
      "metadata": {
        "id": "2Ulxk1-RzwEP",
        "colab": {
          "base_uri": "https://localhost:8080/"
        },
        "outputId": "ba4cdae1-e7ca-42df-9158-d543a35d0f5f"
      },
      "source": [
        "map(f, [1, 2, 3])"
      ],
      "execution_count": null,
      "outputs": [
        {
          "output_type": "execute_result",
          "data": {
            "text/plain": [
              "3-element Vector{Int64}:\n",
              " 1\n",
              " 4\n",
              " 9"
            ]
          },
          "metadata": {},
          "execution_count": 117
        }
      ]
    },
    {
      "cell_type": "markdown",
      "metadata": {
        "id": "Yhf7ORC8zwEP"
      },
      "source": [
        "Here we've squared all the elements of the vector `[1, 2, 3]`, rather than squaring the vector `[1, 2, 3]`.\n",
        "\n",
        "To do this, we could have passed to `map` an anonymous function rather than a named function, such as"
      ]
    },
    {
      "cell_type": "code",
      "metadata": {
        "id": "KbF4nMegzwEP",
        "colab": {
          "base_uri": "https://localhost:8080/"
        },
        "outputId": "ca35b611-d93f-46f0-d403-33c57dabdb17"
      },
      "source": [
        "x -> x^3"
      ],
      "execution_count": null,
      "outputs": [
        {
          "output_type": "execute_result",
          "data": {
            "text/plain": [
              "#7 (generic function with 1 method)"
            ]
          },
          "metadata": {},
          "execution_count": 118
        }
      ]
    },
    {
      "cell_type": "markdown",
      "metadata": {
        "id": "1aa3hJJUzwEP"
      },
      "source": [
        "via"
      ]
    },
    {
      "cell_type": "code",
      "metadata": {
        "id": "C5QPt6sgzwEP",
        "colab": {
          "base_uri": "https://localhost:8080/"
        },
        "outputId": "9d3e0201-16e4-4396-d2cb-b644f66040a8"
      },
      "source": [
        "map(x -> x^3, [1, 2, 3])"
      ],
      "execution_count": null,
      "outputs": [
        {
          "output_type": "execute_result",
          "data": {
            "text/plain": [
              "3-element Vector{Int64}:\n",
              "  1\n",
              "  8\n",
              " 27"
            ]
          },
          "metadata": {},
          "execution_count": 119
        }
      ]
    },
    {
      "cell_type": "markdown",
      "metadata": {
        "id": "KAd_yIT_zwEP"
      },
      "source": [
        "and now we've cubed all the elements of `[1, 2, 3]`!"
      ]
    },
    {
      "cell_type": "markdown",
      "metadata": {
        "id": "cUNoRq0MzwEP"
      },
      "source": [
        "### broadcast\n",
        "\n",
        "`broadcast` is another higher-order function like `map`. `broadcast` is a generalization of `map`, so it can do every thing `map` can do and more. The syntax for calling `broadcast` is the same as for calling `map`"
      ]
    },
    {
      "cell_type": "code",
      "metadata": {
        "id": "-L8a2_RkzwEP",
        "colab": {
          "base_uri": "https://localhost:8080/"
        },
        "outputId": "be67f8e4-202f-4d8a-883c-d7a6ecaf2d2d"
      },
      "source": [
        "broadcast(f, [1, 2, 3])"
      ],
      "execution_count": null,
      "outputs": [
        {
          "output_type": "execute_result",
          "data": {
            "text/plain": [
              "3-element Vector{Int64}:\n",
              " 1\n",
              " 4\n",
              " 9"
            ]
          },
          "metadata": {},
          "execution_count": 120
        }
      ]
    },
    {
      "cell_type": "markdown",
      "metadata": {
        "id": "T-IW1G4nzwEP"
      },
      "source": [
        "and again, we've applied `f` (squared) to all the elements of `[1, 2, 3]` - this time by \"broadcasting\" `f`!\n",
        "\n",
        "Some syntactic sugar for calling `broadcast` is to place a `.` between the name of the function you want to `broadcast` and its input arguments. For example,\n",
        "\n",
        "```julia\n",
        "broadcast(f, [1, 2, 3])\n",
        "```\n",
        "is the same as\n",
        "```julia\n",
        "f.([1, 2, 3])\n",
        "```"
      ]
    },
    {
      "cell_type": "code",
      "metadata": {
        "id": "4hGYh_8rzwEP",
        "colab": {
          "base_uri": "https://localhost:8080/"
        },
        "outputId": "4a47d6de-e622-4287-e4aa-864765b721e2"
      },
      "source": [
        "f.([1, 2, 3])"
      ],
      "execution_count": null,
      "outputs": [
        {
          "output_type": "execute_result",
          "data": {
            "text/plain": [
              "3-element Vector{Int64}:\n",
              " 1\n",
              " 4\n",
              " 9"
            ]
          },
          "metadata": {},
          "execution_count": 121
        }
      ]
    },
    {
      "cell_type": "markdown",
      "metadata": {
        "id": "t4iRNq9UzwEP"
      },
      "source": [
        "Notice again how different this is from calling \n",
        "```julia\n",
        "f([1, 2, 3])\n",
        "```\n",
        "We can square every element of a vector, but we can't square a vector!"
      ]
    },
    {
      "cell_type": "markdown",
      "metadata": {
        "id": "oPzPXSI5zwEP"
      },
      "source": [
        "To drive home the point, let's look at the difference between\n",
        "\n",
        "```julia\n",
        "f(A)\n",
        "```\n",
        "and\n",
        "```julia\n",
        "f.(A)\n",
        "```\n",
        "for a matrix `A`:"
      ]
    },
    {
      "cell_type": "code",
      "metadata": {
        "id": "upHqQWiQzwEP",
        "colab": {
          "base_uri": "https://localhost:8080/"
        },
        "outputId": "31f4ee7e-8543-4ba3-ff8c-90f5c8c9b7b7"
      },
      "source": [
        "A = [i + 3*j for j in 0:2, i in 1:3]"
      ],
      "execution_count": null,
      "outputs": [
        {
          "output_type": "execute_result",
          "data": {
            "text/plain": [
              "3×3 Matrix{Int64}:\n",
              " 1  2  3\n",
              " 4  5  6\n",
              " 7  8  9"
            ]
          },
          "metadata": {},
          "execution_count": 124
        }
      ]
    },
    {
      "cell_type": "code",
      "metadata": {
        "id": "lCvLfKlvzwEP",
        "colab": {
          "base_uri": "https://localhost:8080/"
        },
        "outputId": "1f64f9d4-d23d-4595-9051-e7f8aec21c36"
      },
      "source": [
        "f(A)"
      ],
      "execution_count": null,
      "outputs": [
        {
          "output_type": "execute_result",
          "data": {
            "text/plain": [
              "3×3 Matrix{Int64}:\n",
              "  30   36   42\n",
              "  66   81   96\n",
              " 102  126  150"
            ]
          },
          "metadata": {},
          "execution_count": 125
        }
      ]
    },
    {
      "cell_type": "markdown",
      "metadata": {
        "id": "Nn71V4ruzwEP"
      },
      "source": [
        "As before we see that for a matrix, `A`,\n",
        "```\n",
        "f(A) = A^2 = A * A\n",
        "``` \n",
        "\n",
        "On the other hand,"
      ]
    },
    {
      "cell_type": "code",
      "metadata": {
        "id": "-8DVNA12zwEP",
        "colab": {
          "base_uri": "https://localhost:8080/"
        },
        "outputId": "45712646-b639-48e8-c906-86405cecad37"
      },
      "source": [
        "B = f.(A)"
      ],
      "execution_count": null,
      "outputs": [
        {
          "output_type": "execute_result",
          "data": {
            "text/plain": [
              "3×3 Matrix{Int64}:\n",
              "  1   4   9\n",
              " 16  25  36\n",
              " 49  64  81"
            ]
          },
          "metadata": {},
          "execution_count": 126
        }
      ]
    },
    {
      "cell_type": "markdown",
      "metadata": {
        "collapsed": true,
        "id": "nZ18vuEhzwEP"
      },
      "source": [
        "contains the squares of all the entries of `A`.\n",
        "\n",
        "This dot syntax for broadcasting allows us to write relatively complex compound elementwise expressions in a way that looks natural/closer to mathematical notation. For example, we can write"
      ]
    },
    {
      "cell_type": "code",
      "metadata": {
        "id": "soopWc3hzwEP",
        "colab": {
          "base_uri": "https://localhost:8080/"
        },
        "outputId": "13407a38-2cba-4398-9c0b-016ca0ba06e1"
      },
      "source": [
        "A .+ 2 .* f.(A) ./ A"
      ],
      "execution_count": null,
      "outputs": [
        {
          "output_type": "execute_result",
          "data": {
            "text/plain": [
              "3×3 Matrix{Float64}:\n",
              "  3.0   6.0   9.0\n",
              " 12.0  15.0  18.0\n",
              " 21.0  24.0  27.0"
            ]
          },
          "metadata": {},
          "execution_count": 127
        }
      ]
    },
    {
      "cell_type": "markdown",
      "metadata": {
        "id": "23PsYj-1zwEP"
      },
      "source": [
        "instead of"
      ]
    },
    {
      "cell_type": "code",
      "metadata": {
        "id": "ALUHjXJFzwEP",
        "colab": {
          "base_uri": "https://localhost:8080/"
        },
        "outputId": "9b06a836-27c8-4c83-8ec3-c0b8ed10709f"
      },
      "source": [
        "broadcast(x -> x + 2 * f(x) / x, A)"
      ],
      "execution_count": null,
      "outputs": [
        {
          "output_type": "execute_result",
          "data": {
            "text/plain": [
              "3×3 Matrix{Float64}:\n",
              "  3.0   6.0   9.0\n",
              " 12.0  15.0  18.0\n",
              " 21.0  24.0  27.0"
            ]
          },
          "metadata": {},
          "execution_count": 128
        }
      ]
    },
    {
      "cell_type": "markdown",
      "metadata": {
        "id": "d9OU3m_MzwEP"
      },
      "source": [
        "and the two will perform exactly the same."
      ]
    },
    {
      "cell_type": "code",
      "metadata": {
        "id": "vhxtr34b4TvE"
      },
      "source": [
        ""
      ],
      "execution_count": null,
      "outputs": []
    },
    {
      "cell_type": "markdown",
      "metadata": {
        "collapsed": true,
        "id": "643Ot5Xy4X4t"
      },
      "source": [
        "# Packages\n",
        "\n",
        "Julia has over 2000 registered packages, making packages a huge part of the Julia ecosystem.\n",
        "\n",
        "Even so, the package ecosystem still has some growing to do. Notably, we have first class function calls  to other languages, providing excellent foreign function interfaces. We can easily call into python or R, for example, with `PyCall` or `Rcall`.\n",
        "\n",
        "This means that you don't have to wait until the Julia ecosystem is fully mature, and that moving to Julia doesn't mean you have to give up your favorite package/library from another language! \n",
        "\n",
        "To see all available packages, check out\n",
        "\n",
        "https://pkg.julialang.org/\n",
        "or\n",
        "https://juliaobserver.com/\n",
        "\n",
        "For now, let's learn how to use a package."
      ]
    },
    {
      "cell_type": "markdown",
      "metadata": {
        "id": "KOkrUQhh4X49"
      },
      "source": [
        "The first time you use a package on a given Julia installation, you need to use the package manager to explicitly add it:"
      ]
    },
    {
      "cell_type": "code",
      "metadata": {
        "id": "tKk-eKV34X5A",
        "colab": {
          "base_uri": "https://localhost:8080/"
        },
        "outputId": "fa1b87bf-9c72-4bfb-cfbe-a015c3ab79a5"
      },
      "source": [
        "using Pkg\n",
        "Pkg.add(\"Example\")"
      ],
      "execution_count": null,
      "outputs": [
        {
          "output_type": "stream",
          "name": "stderr",
          "text": [
            "\u001b[32m\u001b[1m    Updating\u001b[22m\u001b[39m registry at `~/.julia/registries/General`\n",
            "\u001b[32m\u001b[1m   Resolving\u001b[22m\u001b[39m package versions...\n",
            "\u001b[32m\u001b[1m   Installed\u001b[22m\u001b[39m Example ─ v0.5.3\n",
            "\u001b[32m\u001b[1m    Updating\u001b[22m\u001b[39m `~/.julia/environments/v1.6/Project.toml`\n",
            " \u001b[90m [7876af07] \u001b[39m\u001b[92m+ Example v0.5.3\u001b[39m\n",
            "\u001b[32m\u001b[1m    Updating\u001b[22m\u001b[39m `~/.julia/environments/v1.6/Manifest.toml`\n",
            " \u001b[90m [7876af07] \u001b[39m\u001b[92m+ Example v0.5.3\u001b[39m\n",
            "\u001b[32m\u001b[1mPrecompiling\u001b[22m\u001b[39m project...\n",
            "\u001b[32m  ✓ \u001b[39mExample\n",
            "1 dependency successfully precompiled in 3 seconds (129 already precompiled)\n"
          ]
        }
      ]
    },
    {
      "cell_type": "markdown",
      "metadata": {
        "id": "FVHDlcFQ4X5F"
      },
      "source": [
        "Every time you use Julia (start a new session at the REPL, or open a notebook for the first time, for example), you load the package with the `using` keyword"
      ]
    },
    {
      "cell_type": "code",
      "metadata": {
        "id": "WtxNlsvv4X5H"
      },
      "source": [
        "using Example"
      ],
      "execution_count": null,
      "outputs": []
    },
    {
      "cell_type": "markdown",
      "metadata": {
        "id": "86OuVh6i4X5I"
      },
      "source": [
        "In the source code of `Example.jl` at\n",
        "https://github.com/JuliaLang/Example.jl/blob/master/src/Example.jl\n",
        "we see the following function declared\n",
        "\n",
        "```\n",
        "hello(who::String) = \"Hello, $who\"\n",
        "```\n",
        "\n",
        "Having loaded `Example`, we should now be able to call `hello`"
      ]
    },
    {
      "cell_type": "code",
      "metadata": {
        "id": "1a0jnR834X5K",
        "colab": {
          "base_uri": "https://localhost:8080/"
        },
        "outputId": "4fd24219-83a6-4842-98d2-d32c9b6ad9ae"
      },
      "source": [
        "hello(\"it's me. I was wondering if after all these years you'd like to meet.\")"
      ],
      "execution_count": null,
      "outputs": [
        {
          "output_type": "execute_result",
          "data": {
            "text/plain": [
              "\"Hello, it's me. I was wondering if after all these years you'd like to meet.\""
            ]
          },
          "metadata": {},
          "execution_count": 131
        }
      ]
    },
    {
      "cell_type": "markdown",
      "metadata": {
        "id": "MAHifbPg4X5M"
      },
      "source": [
        "Now let's play with the Colors package"
      ]
    },
    {
      "cell_type": "code",
      "metadata": {
        "id": "aS81Hwr64X5P",
        "colab": {
          "base_uri": "https://localhost:8080/"
        },
        "outputId": "cd687555-9130-47a3-befe-56888cb0bbf8"
      },
      "source": [
        "Pkg.add(\"Colors\")"
      ],
      "execution_count": null,
      "outputs": [
        {
          "output_type": "stream",
          "name": "stderr",
          "text": [
            "\u001b[32m\u001b[1m   Resolving\u001b[22m\u001b[39m package versions...\n",
            "\u001b[32m\u001b[1m    Updating\u001b[22m\u001b[39m `~/.julia/environments/v1.6/Project.toml`\n",
            " \u001b[90m [5ae59095] \u001b[39m\u001b[92m+ Colors v0.12.8\u001b[39m\n",
            "\u001b[32m\u001b[1m  No Changes\u001b[22m\u001b[39m to `~/.julia/environments/v1.6/Manifest.toml`\n"
          ]
        }
      ]
    },
    {
      "cell_type": "code",
      "metadata": {
        "id": "eYzmZ3DY4X5S"
      },
      "source": [
        "using Colors"
      ],
      "execution_count": null,
      "outputs": []
    },
    {
      "cell_type": "markdown",
      "metadata": {
        "id": "CblJ9lLn4X5U"
      },
      "source": [
        "Let's create a palette of 100 different colors"
      ]
    },
    {
      "cell_type": "code",
      "metadata": {
        "id": "UCbc_G9q4X5W",
        "colab": {
          "base_uri": "https://localhost:8080/",
          "height": 115
        },
        "outputId": "90c31a47-71ed-4360-f5dc-f83d0f573335"
      },
      "source": [
        "palette = distinguishable_colors(100)"
      ],
      "execution_count": null,
      "outputs": [
        {
          "output_type": "execute_result",
          "data": {
            "text/plain": [
              "100-element Array{RGB{N0f8},1} with eltype RGB{FixedPointNumbers.N0f8}:\n",
              " RGB{N0f8}(0.0,0.0,0.0)\n",
              " RGB{N0f8}(1.0,1.0,0.455)\n",
              " RGB{N0f8}(1.0,0.608,1.0)\n",
              " RGB{N0f8}(0.0,0.827,1.0)\n",
              " RGB{N0f8}(0.886,0.388,0.051)\n",
              " RGB{N0f8}(0.0,0.494,0.0)\n",
              " RGB{N0f8}(0.0,0.314,0.902)\n",
              " RGB{N0f8}(0.675,0.0,0.278)\n",
              " RGB{N0f8}(0.0,1.0,0.784)\n",
              " RGB{N0f8}(0.0,0.392,0.408)\n",
              " RGB{N0f8}(1.0,0.835,0.769)\n",
              " RGB{N0f8}(0.424,0.322,0.0)\n",
              " RGB{N0f8}(0.478,0.459,0.506)\n",
              " ⋮\n",
              " RGB{N0f8}(0.0,0.557,0.58)\n",
              " RGB{N0f8}(0.792,0.675,0.318)\n",
              " RGB{N0f8}(0.471,0.482,0.231)\n",
              " RGB{N0f8}(0.714,0.976,0.851)\n",
              " RGB{N0f8}(0.855,0.0,0.247)\n",
              " RGB{N0f8}(0.18,0.129,0.141)\n",
              " RGB{N0f8}(0.0,0.345,0.082)\n",
              " RGB{N0f8}(1.0,0.557,0.114)\n",
              " RGB{N0f8}(0.4,0.455,0.694)\n",
              " RGB{N0f8}(0.0,0.804,0.678)\n",
              " RGB{N0f8}(0.0,0.498,0.388)\n",
              " RGB{N0f8}(0.6,0.435,0.239)"
            ],
            "image/svg+xml": "<?xml version=\"1.0\" encoding=\"UTF-8\"?>\n<!DOCTYPE svg PUBLIC \"-//W3C//DTD SVG 1.1//EN\"\n \"http://www.w3.org/Graphics/SVG/1.1/DTD/svg11.dtd\">\n<svg xmlns=\"http://www.w3.org/2000/svg\" version=\"1.1\"\n     width=\"180mm\" height=\"25mm\"\n     viewBox=\"0 0 100 1\" preserveAspectRatio=\"none\"\n     shape-rendering=\"crispEdges\" stroke=\"none\">\n<rect width=\"1\" height=\".96\" x=\"0\" y=\"0\" fill=\"#000000\" />\n<rect width=\"1\" height=\".96\" x=\"1\" y=\"0\" fill=\"#FFFF74\" />\n<rect width=\"1\" height=\".96\" x=\"2\" y=\"0\" fill=\"#FF9BFF\" />\n<rect width=\"1\" height=\".96\" x=\"3\" y=\"0\" fill=\"#00D3FF\" />\n<rect width=\"1\" height=\".96\" x=\"4\" y=\"0\" fill=\"#E2630D\" />\n<rect width=\"1\" height=\".96\" x=\"5\" y=\"0\" fill=\"#007E00\" />\n<rect width=\"1\" height=\".96\" x=\"6\" y=\"0\" fill=\"#0050E6\" />\n<rect width=\"1\" height=\".96\" x=\"7\" y=\"0\" fill=\"#AC0047\" />\n<rect width=\"1\" height=\".96\" x=\"8\" y=\"0\" fill=\"#00FFC8\" />\n<rect width=\"1\" height=\".96\" x=\"9\" y=\"0\" fill=\"#006468\" />\n<rect width=\"1\" height=\".96\" x=\"10\" y=\"0\" fill=\"#FFD5C4\" />\n<rect width=\"1\" height=\".96\" x=\"11\" y=\"0\" fill=\"#6C5200\" />\n<rect width=\"1\" height=\".96\" x=\"12\" y=\"0\" fill=\"#7A7581\" />\n<rect width=\"1\" height=\".96\" x=\"13\" y=\"0\" fill=\"#44005C\" />\n<rect width=\"1\" height=\".96\" x=\"14\" y=\"0\" fill=\"#9E9E77\" />\n<rect width=\"1\" height=\".96\" x=\"15\" y=\"0\" fill=\"#FF5C78\" />\n<rect width=\"1\" height=\".96\" x=\"16\" y=\"0\" fill=\"#8197F1\" />\n<rect width=\"1\" height=\".96\" x=\"17\" y=\"0\" fill=\"#003200\" />\n<rect width=\"1\" height=\".96\" x=\"18\" y=\"0\" fill=\"#C721DD\" />\n<rect width=\"1\" height=\".96\" x=\"19\" y=\"0\" fill=\"#FFAD07\" />\n<rect width=\"1\" height=\".96\" x=\"20\" y=\"0\" fill=\"#611C00\" />\n<rect width=\"1\" height=\".96\" x=\"21\" y=\"0\" fill=\"#F3FFFA\" />\n<rect width=\"1\" height=\".96\" x=\"22\" y=\"0\" fill=\"#009E88\" />\n<rect width=\"1\" height=\".96\" x=\"23\" y=\"0\" fill=\"#5EC700\" />\n<rect width=\"1\" height=\".96\" x=\"24\" y=\"0\" fill=\"#002D54\" />\n<rect width=\"1\" height=\".96\" x=\"25\" y=\"0\" fill=\"#553C4A\" />\n<rect width=\"1\" height=\".96\" x=\"26\" y=\"0\" fill=\"#444439\" />\n<rect width=\"1\" height=\".96\" x=\"27\" y=\"0\" fill=\"#008FB6\" />\n<rect width=\"1\" height=\".96\" x=\"28\" y=\"0\" fill=\"#CFD4FD\" />\n<rect width=\"1\" height=\".96\" x=\"29\" y=\"0\" fill=\"#C40000\" />\n<rect width=\"1\" height=\".96\" x=\"30\" y=\"0\" fill=\"#A4675C\" />\n<rect width=\"1\" height=\".96\" x=\"31\" y=\"0\" fill=\"#BB8FA8\" />\n<rect width=\"1\" height=\".96\" x=\"32\" y=\"0\" fill=\"#290001\" />\n<rect width=\"1\" height=\".96\" x=\"33\" y=\"0\" fill=\"#A78600\" />\n<rect width=\"1\" height=\".96\" x=\"34\" y=\"0\" fill=\"#002D30\" />\n<rect width=\"1\" height=\".96\" x=\"35\" y=\"0\" fill=\"#C7DEAA\" />\n<rect width=\"1\" height=\".96\" x=\"36\" y=\"0\" fill=\"#8D9FA3\" />\n<rect width=\"1\" height=\".96\" x=\"37\" y=\"0\" fill=\"#6F5B95\" />\n<rect width=\"1\" height=\".96\" x=\"38\" y=\"0\" fill=\"#A1FFFF\" />\n<rect width=\"1\" height=\".96\" x=\"39\" y=\"0\" fill=\"#B39688\" />\n<rect width=\"1\" height=\".96\" x=\"40\" y=\"0\" fill=\"#4E6D50\" />\n<rect width=\"1\" height=\".96\" x=\"41\" y=\"0\" fill=\"#FF977B\" />\n<rect width=\"1\" height=\".96\" x=\"42\" y=\"0\" fill=\"#FFD1EC\" />\n<rect width=\"1\" height=\".96\" x=\"43\" y=\"0\" fill=\"#9E5100\" />\n<rect width=\"1\" height=\".96\" x=\"44\" y=\"0\" fill=\"#AE5B8E\" />\n<rect width=\"1\" height=\".96\" x=\"45\" y=\"0\" fill=\"#799400\" />\n<rect width=\"1\" height=\".96\" x=\"46\" y=\"0\" fill=\"#362200\" />\n<rect width=\"1\" height=\".96\" x=\"47\" y=\"0\" fill=\"#0E0026\" />\n<rect width=\"1\" height=\".96\" x=\"48\" y=\"0\" fill=\"#80765F\" />\n<rect width=\"1\" height=\".96\" x=\"49\" y=\"0\" fill=\"#485C00\" />\n<rect width=\"1\" height=\".96\" x=\"50\" y=\"0\" fill=\"#C8C2B5\" />\n<rect width=\"1\" height=\".96\" x=\"51\" y=\"0\" fill=\"#8800A1\" />\n<rect width=\"1\" height=\".96\" x=\"52\" y=\"0\" fill=\"#00A853\" />\n<rect width=\"1\" height=\".96\" x=\"53\" y=\"0\" fill=\"#FFE1AA\" />\n<rect width=\"1\" height=\".96\" x=\"54\" y=\"0\" fill=\"#674F42\" />\n<rect width=\"1\" height=\".96\" x=\"55\" y=\"0\" fill=\"#FF342D\" />\n<rect width=\"1\" height=\".96\" x=\"56\" y=\"0\" fill=\"#6B0041\" />\n<rect width=\"1\" height=\".96\" x=\"57\" y=\"0\" fill=\"#0806B1\" />\n<rect width=\"1\" height=\".96\" x=\"58\" y=\"0\" fill=\"#986DFF\" />\n<rect width=\"1\" height=\".96\" x=\"59\" y=\"0\" fill=\"#FF4EC7\" />\n<rect width=\"1\" height=\".96\" x=\"60\" y=\"0\" fill=\"#8AB9A2\" />\n<rect width=\"1\" height=\".96\" x=\"61\" y=\"0\" fill=\"#2EFF71\" />\n<rect width=\"1\" height=\".96\" x=\"62\" y=\"0\" fill=\"#005577\" />\n<rect width=\"1\" height=\".96\" x=\"63\" y=\"0\" fill=\"#0078E3\" />\n<rect width=\"1\" height=\".96\" x=\"64\" y=\"0\" fill=\"#B2ADB9\" />\n<rect width=\"1\" height=\".96\" x=\"65\" y=\"0\" fill=\"#00C3C6\" />\n<rect width=\"1\" height=\".96\" x=\"66\" y=\"0\" fill=\"#00AEFF\" />\n<rect width=\"1\" height=\".96\" x=\"67\" y=\"0\" fill=\"#4E545F\" />\n<rect width=\"1\" height=\".96\" x=\"68\" y=\"0\" fill=\"#FF9BB0\" />\n<rect width=\"1\" height=\".96\" x=\"69\" y=\"0\" fill=\"#FED206\" />\n<rect width=\"1\" height=\".96\" x=\"70\" y=\"0\" fill=\"#687B7A\" />\n<rect width=\"1\" height=\".96\" x=\"71\" y=\"0\" fill=\"#B1DCFC\" />\n<rect width=\"1\" height=\".96\" x=\"72\" y=\"0\" fill=\"#FFF6FF\" />\n<rect width=\"1\" height=\".96\" x=\"73\" y=\"0\" fill=\"#620019\" />\n<rect width=\"1\" height=\".96\" x=\"74\" y=\"0\" fill=\"#C79253\" />\n<rect width=\"1\" height=\".96\" x=\"75\" y=\"0\" fill=\"#A891CF\" />\n<rect width=\"1\" height=\".96\" x=\"76\" y=\"0\" fill=\"#EF007A\" />\n<rect width=\"1\" height=\".96\" x=\"77\" y=\"0\" fill=\"#B8CE00\" />\n<rect width=\"1\" height=\".96\" x=\"78\" y=\"0\" fill=\"#001700\" />\n<rect width=\"1\" height=\".96\" x=\"79\" y=\"0\" fill=\"#204B39\" />\n<rect width=\"1\" height=\".96\" x=\"80\" y=\"0\" fill=\"#875866\" />\n<rect width=\"1\" height=\".96\" x=\"81\" y=\"0\" fill=\"#B5FF4E\" />\n<rect width=\"1\" height=\".96\" x=\"82\" y=\"0\" fill=\"#B40080\" />\n<rect width=\"1\" height=\".96\" x=\"83\" y=\"0\" fill=\"#853F34\" />\n<rect width=\"1\" height=\".96\" x=\"84\" y=\"0\" fill=\"#69936B\" />\n<rect width=\"1\" height=\".96\" x=\"85\" y=\"0\" fill=\"#FFBC80\" />\n<rect width=\"1\" height=\".96\" x=\"86\" y=\"0\" fill=\"#4C3779\" />\n<rect width=\"1\" height=\".96\" x=\"87\" y=\"0\" fill=\"#323606\" />\n<rect width=\"1\" height=\".96\" x=\"88\" y=\"0\" fill=\"#008E94\" />\n<rect width=\"1\" height=\".96\" x=\"89\" y=\"0\" fill=\"#CAAC51\" />\n<rect width=\"1\" height=\".96\" x=\"90\" y=\"0\" fill=\"#787B3B\" />\n<rect width=\"1\" height=\".96\" x=\"91\" y=\"0\" fill=\"#B6F9D9\" />\n<rect width=\"1\" height=\".96\" x=\"92\" y=\"0\" fill=\"#DA003F\" />\n<rect width=\"1\" height=\".96\" x=\"93\" y=\"0\" fill=\"#2E2124\" />\n<rect width=\"1\" height=\".96\" x=\"94\" y=\"0\" fill=\"#005815\" />\n<rect width=\"1\" height=\".96\" x=\"95\" y=\"0\" fill=\"#FF8E1D\" />\n<rect width=\"1\" height=\".96\" x=\"96\" y=\"0\" fill=\"#6674B1\" />\n<rect width=\"1\" height=\".96\" x=\"97\" y=\"0\" fill=\"#00CDAD\" />\n<rect width=\"1\" height=\".96\" x=\"98\" y=\"0\" fill=\"#007F63\" />\n<rect width=\"1\" height=\".96\" x=\"99\" y=\"0\" fill=\"#996F3D\" />\n</svg>"
          },
          "metadata": {},
          "execution_count": 134
        }
      ]
    },
    {
      "cell_type": "markdown",
      "metadata": {
        "id": "4vC4C4H54X5X"
      },
      "source": [
        "and then we can create a randomly checkered matrix using the `rand` command"
      ]
    },
    {
      "cell_type": "code",
      "metadata": {
        "id": "_5S-JgGL4X5Y",
        "colab": {
          "base_uri": "https://localhost:8080/",
          "height": 304
        },
        "outputId": "aa3c04d7-0637-4fcc-fa47-105708ab6372"
      },
      "source": [
        "rand(palette, 3, 3)"
      ],
      "execution_count": null,
      "outputs": [
        {
          "output_type": "execute_result",
          "data": {
            "text/plain": [
              "3×3 Array{RGB{N0f8},2} with eltype RGB{FixedPointNumbers.N0f8}:\n",
              " RGB{N0f8}(0.0,0.176,0.188)  …  RGB{N0f8}(1.0,0.737,0.502)\n",
              " RGB{N0f8}(0.0,0.659,0.325)     RGB{N0f8}(0.267,0.0,0.361)\n",
              " RGB{N0f8}(0.0,0.0,0.0)         RGB{N0f8}(0.0,0.09,0.0)"
            ],
            "image/svg+xml": "<?xml version=\"1.0\" encoding=\"UTF-8\"?>\n<!DOCTYPE svg PUBLIC \"-//W3C//DTD SVG 1.1//EN\"\n \"http://www.w3.org/Graphics/SVG/1.1/DTD/svg11.dtd\">\n<svg xmlns=\"http://www.w3.org/2000/svg\" version=\"1.1\"\n     width=\"75mm\" height=\"75mm\"\n     viewBox=\"0 0 3 3\" preserveAspectRatio=\"none\"\n     shape-rendering=\"crispEdges\" stroke=\"none\">\n<rect width=\".96\" height=\".96\" x=\"0\" y=\"0\" fill=\"#002D30\" />\n<rect width=\".96\" height=\".96\" x=\"1\" y=\"0\" fill=\"#CAAC51\" />\n<rect width=\".96\" height=\".96\" x=\"2\" y=\"0\" fill=\"#FFBC80\" />\n<rect width=\".96\" height=\".96\" x=\"0\" y=\"1\" fill=\"#00A853\" />\n<rect width=\".96\" height=\".96\" x=\"1\" y=\"1\" fill=\"#AE5B8E\" />\n<rect width=\".96\" height=\".96\" x=\"2\" y=\"1\" fill=\"#44005C\" />\n<rect width=\".96\" height=\".96\" x=\"0\" y=\"2\" fill=\"#000000\" />\n<rect width=\".96\" height=\".96\" x=\"1\" y=\"2\" fill=\"#E2630D\" />\n<rect width=\".96\" height=\".96\" x=\"2\" y=\"2\" fill=\"#001700\" />\n</svg>"
          },
          "metadata": {},
          "execution_count": 135
        }
      ]
    },
    {
      "cell_type": "code",
      "metadata": {
        "id": "ZV4pT2JM5lDI"
      },
      "source": [
        ""
      ],
      "execution_count": null,
      "outputs": []
    },
    {
      "cell_type": "markdown",
      "metadata": {
        "id": "DTs9FnHq5pPl"
      },
      "source": [
        "# Plotting\n",
        "\n",
        "## Basics\n",
        "There are a few different ways to plot in Julia (including calling PyPlot). <br>\n",
        "\n",
        "Here we'll show you how to use `Plots.jl`.  If it's not installed yet, you need to use the package manager to install it, and Julia will precompile it for you the first time you use it:"
      ]
    },
    {
      "cell_type": "code",
      "metadata": {
        "id": "h8pL3LBs5pP4"
      },
      "source": [
        "# using Pkg\n",
        "# Pkg.add(\"Plots\")\n",
        "using Plots"
      ],
      "execution_count": null,
      "outputs": []
    },
    {
      "cell_type": "markdown",
      "metadata": {
        "id": "5uQwJVm65pQA"
      },
      "source": [
        "One of the advantages to `Plots.jl` is that it allows you to seamlessly change backends. In this notebook, we'll try out the `gr()` and `plotlyjs()` backends.<br>\n",
        "\n",
        "In the name of scientific inquiry, let's use this notebook to examine the relationship between the global temperature and the number of pirates between roughly 1860 and 2000."
      ]
    },
    {
      "cell_type": "code",
      "metadata": {
        "id": "k3-vF7ev5pQA"
      },
      "source": [
        "globaltemperatures = [14.4, 14.5, 14.8, 15.2, 15.5, 15.8]\n",
        "numpirates = [45000, 20000, 15000, 5000, 400, 17];"
      ],
      "execution_count": null,
      "outputs": []
    },
    {
      "cell_type": "markdown",
      "metadata": {
        "id": "veWBFccI5pQF"
      },
      "source": [
        "Plots supports multiple backends — that is, libraries that actually do the drawing — all with the same API. To start out, let's try the GR backend.  You choose it with a call to `gr()`:"
      ]
    },
    {
      "cell_type": "code",
      "metadata": {
        "id": "2vs_UyiC5pQF",
        "colab": {
          "base_uri": "https://localhost:8080/"
        },
        "outputId": "85a97884-4de5-4c7c-ab15-44f125a1a3da"
      },
      "source": [
        "gr()"
      ],
      "execution_count": null,
      "outputs": [
        {
          "output_type": "execute_result",
          "data": {
            "text/plain": [
              "Plots.GRBackend()"
            ]
          },
          "metadata": {},
          "execution_count": 138
        }
      ]
    },
    {
      "cell_type": "markdown",
      "metadata": {
        "id": "aheLc7l15pQF"
      },
      "source": [
        "and now we can use commands like `plot` and `scatter` to generate plots."
      ]
    },
    {
      "cell_type": "code",
      "metadata": {
        "id": "aGEA5YKy5pQF",
        "colab": {
          "base_uri": "https://localhost:8080/",
          "height": 421
        },
        "outputId": "4f105053-b06a-4c12-f181-e6f5d84c346e"
      },
      "source": [
        "plot(numpirates, globaltemperatures, label=\"line\")  \n",
        "scatter!(numpirates, globaltemperatures, label=\"points\") "
      ],
      "execution_count": null,
      "outputs": [
        {
          "output_type": "execute_result",
          "data": {
            "image/svg+xml": "<?xml version=\"1.0\" encoding=\"utf-8\"?>\n<svg xmlns=\"http://www.w3.org/2000/svg\" xmlns:xlink=\"http://www.w3.org/1999/xlink\" width=\"600\" height=\"400\" viewBox=\"0 0 2400 1600\">\n<defs>\n  <clipPath id=\"clip280\">\n    <rect x=\"0\" y=\"0\" width=\"2400\" height=\"1600\"/>\n  </clipPath>\n</defs>\n<path clip-path=\"url(#clip280)\" d=\"\nM0 1600 L2400 1600 L2400 0 L0 0  Z\n  \" fill=\"#ffffff\" fill-rule=\"evenodd\" fill-opacity=\"1\"/>\n<defs>\n  <clipPath id=\"clip281\">\n    <rect x=\"480\" y=\"0\" width=\"1681\" height=\"1600\"/>\n  </clipPath>\n</defs>\n<path clip-path=\"url(#clip280)\" d=\"\nM214.353 1474.16 L2352.76 1474.16 L2352.76 47.2441 L214.353 47.2441  Z\n  \" fill=\"#ffffff\" fill-rule=\"evenodd\" fill-opacity=\"1\"/>\n<defs>\n  <clipPath id=\"clip282\">\n    <rect x=\"214\" y=\"47\" width=\"2139\" height=\"1428\"/>\n  </clipPath>\n</defs>\n<polyline clip-path=\"url(#clip282)\" style=\"stroke:#000000; stroke-linecap:butt; stroke-linejoin:round; stroke-width:2; stroke-opacity:0.1; fill:none\" points=\"\n  274.111,1474.16 274.111,47.2441 \n  \"/>\n<polyline clip-path=\"url(#clip282)\" style=\"stroke:#000000; stroke-linecap:butt; stroke-linejoin:round; stroke-width:2; stroke-opacity:0.1; fill:none\" points=\"\n  722.583,1474.16 722.583,47.2441 \n  \"/>\n<polyline clip-path=\"url(#clip282)\" style=\"stroke:#000000; stroke-linecap:butt; stroke-linejoin:round; stroke-width:2; stroke-opacity:0.1; fill:none\" points=\"\n  1171.06,1474.16 1171.06,47.2441 \n  \"/>\n<polyline clip-path=\"url(#clip282)\" style=\"stroke:#000000; stroke-linecap:butt; stroke-linejoin:round; stroke-width:2; stroke-opacity:0.1; fill:none\" points=\"\n  1619.53,1474.16 1619.53,47.2441 \n  \"/>\n<polyline clip-path=\"url(#clip282)\" style=\"stroke:#000000; stroke-linecap:butt; stroke-linejoin:round; stroke-width:2; stroke-opacity:0.1; fill:none\" points=\"\n  2068,1474.16 2068,47.2441 \n  \"/>\n<polyline clip-path=\"url(#clip280)\" style=\"stroke:#000000; stroke-linecap:butt; stroke-linejoin:round; stroke-width:4; stroke-opacity:1; fill:none\" points=\"\n  214.353,1474.16 2352.76,1474.16 \n  \"/>\n<polyline clip-path=\"url(#clip280)\" style=\"stroke:#000000; stroke-linecap:butt; stroke-linejoin:round; stroke-width:4; stroke-opacity:1; fill:none\" points=\"\n  274.111,1474.16 274.111,1455.27 \n  \"/>\n<polyline clip-path=\"url(#clip280)\" style=\"stroke:#000000; stroke-linecap:butt; stroke-linejoin:round; stroke-width:4; stroke-opacity:1; fill:none\" points=\"\n  722.583,1474.16 722.583,1455.27 \n  \"/>\n<polyline clip-path=\"url(#clip280)\" style=\"stroke:#000000; stroke-linecap:butt; stroke-linejoin:round; stroke-width:4; stroke-opacity:1; fill:none\" points=\"\n  1171.06,1474.16 1171.06,1455.27 \n  \"/>\n<polyline clip-path=\"url(#clip280)\" style=\"stroke:#000000; stroke-linecap:butt; stroke-linejoin:round; stroke-width:4; stroke-opacity:1; fill:none\" points=\"\n  1619.53,1474.16 1619.53,1455.27 \n  \"/>\n<polyline clip-path=\"url(#clip280)\" style=\"stroke:#000000; stroke-linecap:butt; stroke-linejoin:round; stroke-width:4; stroke-opacity:1; fill:none\" points=\"\n  2068,1474.16 2068,1455.27 \n  \"/>\n<path clip-path=\"url(#clip280)\" d=\"M274.111 1505.08 Q270.5 1505.08 268.671 1508.65 Q266.866 1512.19 266.866 1519.32 Q266.866 1526.43 268.671 1529.99 Q270.5 1533.53 274.111 1533.53 Q277.745 1533.53 279.551 1529.99 Q281.379 1526.43 281.379 1519.32 Q281.379 1512.19 279.551 1508.65 Q277.745 1505.08 274.111 1505.08 M274.111 1501.38 Q279.921 1501.38 282.977 1505.99 Q286.055 1510.57 286.055 1519.32 Q286.055 1528.05 282.977 1532.65 Q279.921 1537.24 274.111 1537.24 Q268.301 1537.24 265.222 1532.65 Q262.167 1528.05 262.167 1519.32 Q262.167 1510.57 265.222 1505.99 Q268.301 1501.38 274.111 1501.38 Z\" fill=\"#000000\" fill-rule=\"evenodd\" fill-opacity=\"1\" /><path clip-path=\"url(#clip280)\" d=\"M629.482 1548.29 L637.121 1548.29 L637.121 1521.92 L628.81 1523.59 L628.81 1519.33 L637.074 1517.66 L641.75 1517.66 L641.75 1548.29 L649.389 1548.29 L649.389 1552.22 L629.482 1552.22 L629.482 1548.29 Z\" fill=\"#000000\" fill-rule=\"evenodd\" fill-opacity=\"1\" /><path clip-path=\"url(#clip280)\" d=\"M658.833 1546.35 L663.718 1546.35 L663.718 1552.22 L658.833 1552.22 L658.833 1546.35 Z\" fill=\"#000000\" fill-rule=\"evenodd\" fill-opacity=\"1\" /><path clip-path=\"url(#clip280)\" d=\"M683.903 1520.74 Q680.292 1520.74 678.463 1524.31 Q676.657 1527.85 676.657 1534.98 Q676.657 1542.09 678.463 1545.65 Q680.292 1549.19 683.903 1549.19 Q687.537 1549.19 689.342 1545.65 Q691.171 1542.09 691.171 1534.98 Q691.171 1527.85 689.342 1524.31 Q687.537 1520.74 683.903 1520.74 M683.903 1517.04 Q689.713 1517.04 692.768 1521.65 Q695.847 1526.23 695.847 1534.98 Q695.847 1543.71 692.768 1548.31 Q689.713 1552.9 683.903 1552.9 Q678.093 1552.9 675.014 1548.31 Q671.958 1543.71 671.958 1534.98 Q671.958 1526.23 675.014 1521.65 Q678.093 1517.04 683.903 1517.04 Z\" fill=\"#000000\" fill-rule=\"evenodd\" fill-opacity=\"1\" /><path clip-path=\"url(#clip280)\" d=\"M732.236 1526.76 L721.657 1537.39 L732.236 1547.97 L729.481 1550.77 L718.856 1540.14 L708.231 1550.77 L705.5 1547.97 L716.055 1537.39 L705.5 1526.76 L708.231 1523.96 L718.856 1534.59 L729.481 1523.96 L732.236 1526.76 Z\" fill=\"#000000\" fill-rule=\"evenodd\" fill-opacity=\"1\" /><path clip-path=\"url(#clip280)\" d=\"M744.597 1548.29 L752.236 1548.29 L752.236 1521.92 L743.925 1523.59 L743.925 1519.33 L752.189 1517.66 L756.865 1517.66 L756.865 1548.29 L764.504 1548.29 L764.504 1552.22 L744.597 1552.22 L744.597 1548.29 Z\" fill=\"#000000\" fill-rule=\"evenodd\" fill-opacity=\"1\" /><path clip-path=\"url(#clip280)\" d=\"M783.948 1520.74 Q780.337 1520.74 778.509 1524.31 Q776.703 1527.85 776.703 1534.98 Q776.703 1542.09 778.509 1545.65 Q780.337 1549.19 783.948 1549.19 Q787.583 1549.19 789.388 1545.65 Q791.217 1542.09 791.217 1534.98 Q791.217 1527.85 789.388 1524.31 Q787.583 1520.74 783.948 1520.74 M783.948 1517.04 Q789.759 1517.04 792.814 1521.65 Q795.893 1526.23 795.893 1534.98 Q795.893 1543.71 792.814 1548.31 Q789.759 1552.9 783.948 1552.9 Q778.138 1552.9 775.06 1548.31 Q772.004 1543.71 772.004 1534.98 Q772.004 1526.23 775.06 1521.65 Q778.138 1517.04 783.948 1517.04 Z\" fill=\"#000000\" fill-rule=\"evenodd\" fill-opacity=\"1\" /><path clip-path=\"url(#clip280)\" d=\"M808.569 1500.04 L798.977 1515.03 L808.569 1515.03 L808.569 1500.04 M807.572 1496.73 L812.35 1496.73 L812.35 1515.03 L816.356 1515.03 L816.356 1518.19 L812.35 1518.19 L812.35 1524.81 L808.569 1524.81 L808.569 1518.19 L795.893 1518.19 L795.893 1514.53 L807.572 1496.73 Z\" fill=\"#000000\" fill-rule=\"evenodd\" fill-opacity=\"1\" /><path clip-path=\"url(#clip280)\" d=\"M1082.04 1548.29 L1098.36 1548.29 L1098.36 1552.22 L1076.41 1552.22 L1076.41 1548.29 Q1079.08 1545.53 1083.66 1540.91 Q1088.27 1536.25 1089.45 1534.91 Q1091.69 1532.39 1092.57 1530.65 Q1093.47 1528.89 1093.47 1527.2 Q1093.47 1524.45 1091.53 1522.71 Q1089.61 1520.97 1086.51 1520.97 Q1084.31 1520.97 1081.85 1521.74 Q1079.42 1522.5 1076.65 1524.05 L1076.65 1519.33 Q1079.47 1518.2 1081.92 1517.62 Q1084.38 1517.04 1086.41 1517.04 Q1091.78 1517.04 1094.98 1519.72 Q1098.17 1522.41 1098.17 1526.9 Q1098.17 1529.03 1097.36 1530.95 Q1096.58 1532.85 1094.47 1535.44 Q1093.89 1536.11 1090.79 1539.33 Q1087.69 1542.53 1082.04 1548.29 Z\" fill=\"#000000\" fill-rule=\"evenodd\" fill-opacity=\"1\" /><path clip-path=\"url(#clip280)\" d=\"M1108.17 1546.35 L1113.06 1546.35 L1113.06 1552.22 L1108.17 1552.22 L1108.17 1546.35 Z\" fill=\"#000000\" fill-rule=\"evenodd\" fill-opacity=\"1\" /><path clip-path=\"url(#clip280)\" d=\"M1133.24 1520.74 Q1129.63 1520.74 1127.8 1524.31 Q1126 1527.85 1126 1534.98 Q1126 1542.09 1127.8 1545.65 Q1129.63 1549.19 1133.24 1549.19 Q1136.88 1549.19 1138.68 1545.65 Q1140.51 1542.09 1140.51 1534.98 Q1140.51 1527.85 1138.68 1524.31 Q1136.88 1520.74 1133.24 1520.74 M1133.24 1517.04 Q1139.05 1517.04 1142.11 1521.65 Q1145.19 1526.23 1145.19 1534.98 Q1145.19 1543.71 1142.11 1548.31 Q1139.05 1552.9 1133.24 1552.9 Q1127.43 1552.9 1124.35 1548.31 Q1121.3 1543.71 1121.3 1534.98 Q1121.3 1526.23 1124.35 1521.65 Q1127.43 1517.04 1133.24 1517.04 Z\" fill=\"#000000\" fill-rule=\"evenodd\" fill-opacity=\"1\" /><path clip-path=\"url(#clip280)\" d=\"M1181.58 1526.76 L1171 1537.39 L1181.58 1547.97 L1178.82 1550.77 L1168.2 1540.14 L1157.57 1550.77 L1154.84 1547.97 L1165.4 1537.39 L1154.84 1526.76 L1157.57 1523.96 L1168.2 1534.59 L1178.82 1523.96 L1181.58 1526.76 Z\" fill=\"#000000\" fill-rule=\"evenodd\" fill-opacity=\"1\" /><path clip-path=\"url(#clip280)\" d=\"M1193.94 1548.29 L1201.58 1548.29 L1201.58 1521.92 L1193.27 1523.59 L1193.27 1519.33 L1201.53 1517.66 L1206.21 1517.66 L1206.21 1548.29 L1213.84 1548.29 L1213.84 1552.22 L1193.94 1552.22 L1193.94 1548.29 Z\" fill=\"#000000\" fill-rule=\"evenodd\" fill-opacity=\"1\" /><path clip-path=\"url(#clip280)\" d=\"M1233.29 1520.74 Q1229.68 1520.74 1227.85 1524.31 Q1226.04 1527.85 1226.04 1534.98 Q1226.04 1542.09 1227.85 1545.65 Q1229.68 1549.19 1233.29 1549.19 Q1236.92 1549.19 1238.73 1545.65 Q1240.56 1542.09 1240.56 1534.98 Q1240.56 1527.85 1238.73 1524.31 Q1236.92 1520.74 1233.29 1520.74 M1233.29 1517.04 Q1239.1 1517.04 1242.15 1521.65 Q1245.23 1526.23 1245.23 1534.98 Q1245.23 1543.71 1242.15 1548.31 Q1239.1 1552.9 1233.29 1552.9 Q1227.48 1552.9 1224.4 1548.31 Q1221.34 1543.71 1221.34 1534.98 Q1221.34 1526.23 1224.4 1521.65 Q1227.48 1517.04 1233.29 1517.04 Z\" fill=\"#000000\" fill-rule=\"evenodd\" fill-opacity=\"1\" /><path clip-path=\"url(#clip280)\" d=\"M1257.91 1500.04 L1248.32 1515.03 L1257.91 1515.03 L1257.91 1500.04 M1256.91 1496.73 L1261.69 1496.73 L1261.69 1515.03 L1265.7 1515.03 L1265.7 1518.19 L1261.69 1518.19 L1261.69 1524.81 L1257.91 1524.81 L1257.91 1518.19 L1245.23 1518.19 L1245.23 1514.53 L1256.91 1496.73 Z\" fill=\"#000000\" fill-rule=\"evenodd\" fill-opacity=\"1\" /><path clip-path=\"url(#clip280)\" d=\"M1540.58 1533.59 Q1543.94 1534.31 1545.81 1536.58 Q1547.71 1538.85 1547.71 1542.18 Q1547.71 1547.29 1544.19 1550.1 Q1540.67 1552.9 1534.19 1552.9 Q1532.02 1552.9 1529.7 1552.46 Q1527.41 1552.04 1524.96 1551.18 L1524.96 1546.67 Q1526.9 1547.8 1529.22 1548.38 Q1531.53 1548.96 1534.05 1548.96 Q1538.45 1548.96 1540.74 1547.22 Q1543.06 1545.49 1543.06 1542.18 Q1543.06 1539.12 1540.9 1537.41 Q1538.78 1535.67 1534.96 1535.67 L1530.93 1535.67 L1530.93 1531.83 L1535.14 1531.83 Q1538.59 1531.83 1540.42 1530.47 Q1542.25 1529.08 1542.25 1526.48 Q1542.25 1523.82 1540.35 1522.41 Q1538.47 1520.97 1534.96 1520.97 Q1533.03 1520.97 1530.84 1521.39 Q1528.64 1521.81 1526 1522.69 L1526 1518.52 Q1528.66 1517.78 1530.97 1517.41 Q1533.31 1517.04 1535.37 1517.04 Q1540.7 1517.04 1543.8 1519.47 Q1546.9 1521.88 1546.9 1526 Q1546.9 1528.87 1545.26 1530.86 Q1543.61 1532.83 1540.58 1533.59 Z\" fill=\"#000000\" fill-rule=\"evenodd\" fill-opacity=\"1\" /><path clip-path=\"url(#clip280)\" d=\"M1556.58 1546.35 L1561.46 1546.35 L1561.46 1552.22 L1556.58 1552.22 L1556.58 1546.35 Z\" fill=\"#000000\" fill-rule=\"evenodd\" fill-opacity=\"1\" /><path clip-path=\"url(#clip280)\" d=\"M1581.65 1520.74 Q1578.03 1520.74 1576.21 1524.31 Q1574.4 1527.85 1574.4 1534.98 Q1574.4 1542.09 1576.21 1545.65 Q1578.03 1549.19 1581.65 1549.19 Q1585.28 1549.19 1587.09 1545.65 Q1588.91 1542.09 1588.91 1534.98 Q1588.91 1527.85 1587.09 1524.31 Q1585.28 1520.74 1581.65 1520.74 M1581.65 1517.04 Q1587.46 1517.04 1590.51 1521.65 Q1593.59 1526.23 1593.59 1534.98 Q1593.59 1543.71 1590.51 1548.31 Q1587.46 1552.9 1581.65 1552.9 Q1575.84 1552.9 1572.76 1548.31 Q1569.7 1543.71 1569.7 1534.98 Q1569.7 1526.23 1572.76 1521.65 Q1575.84 1517.04 1581.65 1517.04 Z\" fill=\"#000000\" fill-rule=\"evenodd\" fill-opacity=\"1\" /><path clip-path=\"url(#clip280)\" d=\"M1629.98 1526.76 L1619.4 1537.39 L1629.98 1547.97 L1627.22 1550.77 L1616.6 1540.14 L1605.97 1550.77 L1603.24 1547.97 L1613.8 1537.39 L1603.24 1526.76 L1605.97 1523.96 L1616.6 1534.59 L1627.22 1523.96 L1629.98 1526.76 Z\" fill=\"#000000\" fill-rule=\"evenodd\" fill-opacity=\"1\" /><path clip-path=\"url(#clip280)\" d=\"M1642.34 1548.29 L1649.98 1548.29 L1649.98 1521.92 L1641.67 1523.59 L1641.67 1519.33 L1649.93 1517.66 L1654.61 1517.66 L1654.61 1548.29 L1662.25 1548.29 L1662.25 1552.22 L1642.34 1552.22 L1642.34 1548.29 Z\" fill=\"#000000\" fill-rule=\"evenodd\" fill-opacity=\"1\" /><path clip-path=\"url(#clip280)\" d=\"M1681.69 1520.74 Q1678.08 1520.74 1676.25 1524.31 Q1674.45 1527.85 1674.45 1534.98 Q1674.45 1542.09 1676.25 1545.65 Q1678.08 1549.19 1681.69 1549.19 Q1685.33 1549.19 1687.13 1545.65 Q1688.96 1542.09 1688.96 1534.98 Q1688.96 1527.85 1687.13 1524.31 Q1685.33 1520.74 1681.69 1520.74 M1681.69 1517.04 Q1687.5 1517.04 1690.56 1521.65 Q1693.64 1526.23 1693.64 1534.98 Q1693.64 1543.71 1690.56 1548.31 Q1687.5 1552.9 1681.69 1552.9 Q1675.88 1552.9 1672.8 1548.31 Q1669.75 1543.71 1669.75 1534.98 Q1669.75 1526.23 1672.8 1521.65 Q1675.88 1517.04 1681.69 1517.04 Z\" fill=\"#000000\" fill-rule=\"evenodd\" fill-opacity=\"1\" /><path clip-path=\"url(#clip280)\" d=\"M1706.31 1500.04 L1696.72 1515.03 L1706.31 1515.03 L1706.31 1500.04 M1705.32 1496.73 L1710.09 1496.73 L1710.09 1515.03 L1714.1 1515.03 L1714.1 1518.19 L1710.09 1518.19 L1710.09 1524.81 L1706.31 1524.81 L1706.31 1518.19 L1693.64 1518.19 L1693.64 1514.53 L1705.32 1496.73 Z\" fill=\"#000000\" fill-rule=\"evenodd\" fill-opacity=\"1\" /><path clip-path=\"url(#clip280)\" d=\"M1988.38 1521.74 L1976.58 1540.19 L1988.38 1540.19 L1988.38 1521.74 M1987.15 1517.66 L1993.03 1517.66 L1993.03 1540.19 L1997.96 1540.19 L1997.96 1544.08 L1993.03 1544.08 L1993.03 1552.22 L1988.38 1552.22 L1988.38 1544.08 L1972.78 1544.08 L1972.78 1539.56 L1987.15 1517.66 Z\" fill=\"#000000\" fill-rule=\"evenodd\" fill-opacity=\"1\" /><path clip-path=\"url(#clip280)\" d=\"M2005.7 1546.35 L2010.58 1546.35 L2010.58 1552.22 L2005.7 1552.22 L2005.7 1546.35 Z\" fill=\"#000000\" fill-rule=\"evenodd\" fill-opacity=\"1\" /><path clip-path=\"url(#clip280)\" d=\"M2030.77 1520.74 Q2027.15 1520.74 2025.33 1524.31 Q2023.52 1527.85 2023.52 1534.98 Q2023.52 1542.09 2025.33 1545.65 Q2027.15 1549.19 2030.77 1549.19 Q2034.4 1549.19 2036.21 1545.65 Q2038.03 1542.09 2038.03 1534.98 Q2038.03 1527.85 2036.21 1524.31 Q2034.4 1520.74 2030.77 1520.74 M2030.77 1517.04 Q2036.58 1517.04 2039.63 1521.65 Q2042.71 1526.23 2042.71 1534.98 Q2042.71 1543.71 2039.63 1548.31 Q2036.58 1552.9 2030.77 1552.9 Q2024.96 1552.9 2021.88 1548.31 Q2018.82 1543.71 2018.82 1534.98 Q2018.82 1526.23 2021.88 1521.65 Q2024.96 1517.04 2030.77 1517.04 Z\" fill=\"#000000\" fill-rule=\"evenodd\" fill-opacity=\"1\" /><path clip-path=\"url(#clip280)\" d=\"M2079.1 1526.76 L2068.52 1537.39 L2079.1 1547.97 L2076.34 1550.77 L2065.72 1540.14 L2055.09 1550.77 L2052.36 1547.97 L2062.92 1537.39 L2052.36 1526.76 L2055.09 1523.96 L2065.72 1534.59 L2076.34 1523.96 L2079.1 1526.76 Z\" fill=\"#000000\" fill-rule=\"evenodd\" fill-opacity=\"1\" /><path clip-path=\"url(#clip280)\" d=\"M2091.46 1548.29 L2099.1 1548.29 L2099.1 1521.92 L2090.79 1523.59 L2090.79 1519.33 L2099.05 1517.66 L2103.73 1517.66 L2103.73 1548.29 L2111.37 1548.29 L2111.37 1552.22 L2091.46 1552.22 L2091.46 1548.29 Z\" fill=\"#000000\" fill-rule=\"evenodd\" fill-opacity=\"1\" /><path clip-path=\"url(#clip280)\" d=\"M2130.81 1520.74 Q2127.2 1520.74 2125.37 1524.31 Q2123.57 1527.85 2123.57 1534.98 Q2123.57 1542.09 2125.37 1545.65 Q2127.2 1549.19 2130.81 1549.19 Q2134.45 1549.19 2136.25 1545.65 Q2138.08 1542.09 2138.08 1534.98 Q2138.08 1527.85 2136.25 1524.31 Q2134.45 1520.74 2130.81 1520.74 M2130.81 1517.04 Q2136.62 1517.04 2139.68 1521.65 Q2142.76 1526.23 2142.76 1534.98 Q2142.76 1543.71 2139.68 1548.31 Q2136.62 1552.9 2130.81 1552.9 Q2125 1552.9 2121.92 1548.31 Q2118.87 1543.71 2118.87 1534.98 Q2118.87 1526.23 2121.92 1521.65 Q2125 1517.04 2130.81 1517.04 Z\" fill=\"#000000\" fill-rule=\"evenodd\" fill-opacity=\"1\" /><path clip-path=\"url(#clip280)\" d=\"M2155.43 1500.04 L2145.84 1515.03 L2155.43 1515.03 L2155.43 1500.04 M2154.44 1496.73 L2159.21 1496.73 L2159.21 1515.03 L2163.22 1515.03 L2163.22 1518.19 L2159.21 1518.19 L2159.21 1524.81 L2155.43 1524.81 L2155.43 1518.19 L2142.76 1518.19 L2142.76 1514.53 L2154.44 1496.73 Z\" fill=\"#000000\" fill-rule=\"evenodd\" fill-opacity=\"1\" /><polyline clip-path=\"url(#clip282)\" style=\"stroke:#000000; stroke-linecap:butt; stroke-linejoin:round; stroke-width:2; stroke-opacity:0.1; fill:none\" points=\"\n  214.353,1337.63 2352.76,1337.63 \n  \"/>\n<polyline clip-path=\"url(#clip282)\" style=\"stroke:#000000; stroke-linecap:butt; stroke-linejoin:round; stroke-width:2; stroke-opacity:0.1; fill:none\" points=\"\n  214.353,1097.24 2352.76,1097.24 \n  \"/>\n<polyline clip-path=\"url(#clip282)\" style=\"stroke:#000000; stroke-linecap:butt; stroke-linejoin:round; stroke-width:2; stroke-opacity:0.1; fill:none\" points=\"\n  214.353,856.858 2352.76,856.858 \n  \"/>\n<polyline clip-path=\"url(#clip282)\" style=\"stroke:#000000; stroke-linecap:butt; stroke-linejoin:round; stroke-width:2; stroke-opacity:0.1; fill:none\" points=\"\n  214.353,616.474 2352.76,616.474 \n  \"/>\n<polyline clip-path=\"url(#clip282)\" style=\"stroke:#000000; stroke-linecap:butt; stroke-linejoin:round; stroke-width:2; stroke-opacity:0.1; fill:none\" points=\"\n  214.353,376.09 2352.76,376.09 \n  \"/>\n<polyline clip-path=\"url(#clip282)\" style=\"stroke:#000000; stroke-linecap:butt; stroke-linejoin:round; stroke-width:2; stroke-opacity:0.1; fill:none\" points=\"\n  214.353,135.705 2352.76,135.705 \n  \"/>\n<polyline clip-path=\"url(#clip280)\" style=\"stroke:#000000; stroke-linecap:butt; stroke-linejoin:round; stroke-width:4; stroke-opacity:1; fill:none\" points=\"\n  214.353,1474.16 214.353,47.2441 \n  \"/>\n<polyline clip-path=\"url(#clip280)\" style=\"stroke:#000000; stroke-linecap:butt; stroke-linejoin:round; stroke-width:4; stroke-opacity:1; fill:none\" points=\"\n  214.353,1337.63 233.25,1337.63 \n  \"/>\n<polyline clip-path=\"url(#clip280)\" style=\"stroke:#000000; stroke-linecap:butt; stroke-linejoin:round; stroke-width:4; stroke-opacity:1; fill:none\" points=\"\n  214.353,1097.24 233.25,1097.24 \n  \"/>\n<polyline clip-path=\"url(#clip280)\" style=\"stroke:#000000; stroke-linecap:butt; stroke-linejoin:round; stroke-width:4; stroke-opacity:1; fill:none\" points=\"\n  214.353,856.858 233.25,856.858 \n  \"/>\n<polyline clip-path=\"url(#clip280)\" style=\"stroke:#000000; stroke-linecap:butt; stroke-linejoin:round; stroke-width:4; stroke-opacity:1; fill:none\" points=\"\n  214.353,616.474 233.25,616.474 \n  \"/>\n<polyline clip-path=\"url(#clip280)\" style=\"stroke:#000000; stroke-linecap:butt; stroke-linejoin:round; stroke-width:4; stroke-opacity:1; fill:none\" points=\"\n  214.353,376.09 233.25,376.09 \n  \"/>\n<polyline clip-path=\"url(#clip280)\" style=\"stroke:#000000; stroke-linecap:butt; stroke-linejoin:round; stroke-width:4; stroke-opacity:1; fill:none\" points=\"\n  214.353,135.705 233.25,135.705 \n  \"/>\n<path clip-path=\"url(#clip280)\" d=\"M51.6634 1350.97 L59.3023 1350.97 L59.3023 1324.61 L50.9921 1326.27 L50.9921 1322.01 L59.256 1320.35 L63.9319 1320.35 L63.9319 1350.97 L71.5707 1350.97 L71.5707 1354.91 L51.6634 1354.91 L51.6634 1350.97 Z\" fill=\"#000000\" fill-rule=\"evenodd\" fill-opacity=\"1\" /><path clip-path=\"url(#clip280)\" d=\"M93.8623 1324.42 L82.0568 1342.87 L93.8623 1342.87 L93.8623 1324.42 M92.6354 1320.35 L98.515 1320.35 L98.515 1342.87 L103.446 1342.87 L103.446 1346.76 L98.515 1346.76 L98.515 1354.91 L93.8623 1354.91 L93.8623 1346.76 L78.2605 1346.76 L78.2605 1342.24 L92.6354 1320.35 Z\" fill=\"#000000\" fill-rule=\"evenodd\" fill-opacity=\"1\" /><path clip-path=\"url(#clip280)\" d=\"M111.177 1349.03 L116.061 1349.03 L116.061 1354.91 L111.177 1354.91 L111.177 1349.03 Z\" fill=\"#000000\" fill-rule=\"evenodd\" fill-opacity=\"1\" /><path clip-path=\"url(#clip280)\" d=\"M126.293 1320.35 L144.649 1320.35 L144.649 1324.28 L130.575 1324.28 L130.575 1332.75 Q131.594 1332.41 132.612 1332.24 Q133.631 1332.06 134.649 1332.06 Q140.436 1332.06 143.816 1335.23 Q147.195 1338.4 147.195 1343.82 Q147.195 1349.4 143.723 1352.5 Q140.251 1355.58 133.931 1355.58 Q131.756 1355.58 129.487 1355.21 Q127.242 1354.84 124.834 1354.1 L124.834 1349.4 Q126.918 1350.53 129.14 1351.09 Q131.362 1351.64 133.839 1351.64 Q137.844 1351.64 140.181 1349.54 Q142.519 1347.43 142.519 1343.82 Q142.519 1340.21 140.181 1338.1 Q137.844 1335.99 133.839 1335.99 Q131.964 1335.99 130.089 1336.41 Q128.237 1336.83 126.293 1337.71 L126.293 1320.35 Z\" fill=\"#000000\" fill-rule=\"evenodd\" fill-opacity=\"1\" /><path clip-path=\"url(#clip280)\" d=\"M166.408 1323.43 Q162.797 1323.43 160.968 1326.99 Q159.163 1330.53 159.163 1337.66 Q159.163 1344.77 160.968 1348.33 Q162.797 1351.87 166.408 1351.87 Q170.042 1351.87 171.848 1348.33 Q173.677 1344.77 173.677 1337.66 Q173.677 1330.53 171.848 1326.99 Q170.042 1323.43 166.408 1323.43 M166.408 1319.72 Q172.218 1319.72 175.274 1324.33 Q178.353 1328.91 178.353 1337.66 Q178.353 1346.39 175.274 1350.99 Q172.218 1355.58 166.408 1355.58 Q160.598 1355.58 157.519 1350.99 Q154.464 1346.39 154.464 1337.66 Q154.464 1328.91 157.519 1324.33 Q160.598 1319.72 166.408 1319.72 Z\" fill=\"#000000\" fill-rule=\"evenodd\" fill-opacity=\"1\" /><path clip-path=\"url(#clip280)\" d=\"M52.6588 1110.59 L60.2976 1110.59 L60.2976 1084.22 L51.9875 1085.89 L51.9875 1081.63 L60.2513 1079.96 L64.9272 1079.96 L64.9272 1110.59 L72.5661 1110.59 L72.5661 1114.52 L52.6588 1114.52 L52.6588 1110.59 Z\" fill=\"#000000\" fill-rule=\"evenodd\" fill-opacity=\"1\" /><path clip-path=\"url(#clip280)\" d=\"M94.8576 1084.04 L83.0521 1102.49 L94.8576 1102.49 L94.8576 1084.04 M93.6308 1079.96 L99.5104 1079.96 L99.5104 1102.49 L104.441 1102.49 L104.441 1106.37 L99.5104 1106.37 L99.5104 1114.52 L94.8576 1114.52 L94.8576 1106.37 L79.2559 1106.37 L79.2559 1101.86 L93.6308 1079.96 Z\" fill=\"#000000\" fill-rule=\"evenodd\" fill-opacity=\"1\" /><path clip-path=\"url(#clip280)\" d=\"M112.172 1108.64 L117.057 1108.64 L117.057 1114.52 L112.172 1114.52 L112.172 1108.64 Z\" fill=\"#000000\" fill-rule=\"evenodd\" fill-opacity=\"1\" /><path clip-path=\"url(#clip280)\" d=\"M126.061 1079.96 L148.283 1079.96 L148.283 1081.95 L135.737 1114.52 L130.853 1114.52 L142.658 1083.9 L126.061 1083.9 L126.061 1079.96 Z\" fill=\"#000000\" fill-rule=\"evenodd\" fill-opacity=\"1\" /><path clip-path=\"url(#clip280)\" d=\"M157.45 1079.96 L175.806 1079.96 L175.806 1083.9 L161.732 1083.9 L161.732 1092.37 Q162.751 1092.02 163.769 1091.86 Q164.788 1091.68 165.806 1091.68 Q171.593 1091.68 174.973 1094.85 Q178.353 1098.02 178.353 1103.43 Q178.353 1109.01 174.88 1112.11 Q171.408 1115.19 165.089 1115.19 Q162.913 1115.19 160.644 1114.82 Q158.399 1114.45 155.992 1113.71 L155.992 1109.01 Q158.075 1110.15 160.297 1110.7 Q162.519 1111.26 164.996 1111.26 Q169.001 1111.26 171.339 1109.15 Q173.677 1107.05 173.677 1103.43 Q173.677 1099.82 171.339 1097.72 Q169.001 1095.61 164.996 1095.61 Q163.121 1095.61 161.246 1096.03 Q159.394 1096.44 157.45 1097.32 L157.45 1079.96 Z\" fill=\"#000000\" fill-rule=\"evenodd\" fill-opacity=\"1\" /><path clip-path=\"url(#clip280)\" d=\"M51.6634 870.203 L59.3023 870.203 L59.3023 843.837 L50.9921 845.504 L50.9921 841.245 L59.256 839.578 L63.9319 839.578 L63.9319 870.203 L71.5707 870.203 L71.5707 874.138 L51.6634 874.138 L51.6634 870.203 Z\" fill=\"#000000\" fill-rule=\"evenodd\" fill-opacity=\"1\" /><path clip-path=\"url(#clip280)\" d=\"M81.0614 839.578 L99.4178 839.578 L99.4178 843.513 L85.3438 843.513 L85.3438 851.985 Q86.3623 851.638 87.3808 851.476 Q88.3993 851.291 89.4178 851.291 Q95.2049 851.291 98.5845 854.462 Q101.964 857.634 101.964 863.05 Q101.964 868.629 98.4919 871.731 Q95.0197 874.809 88.7003 874.809 Q86.5243 874.809 84.2558 874.439 Q82.0105 874.069 79.6031 873.328 L79.6031 868.629 Q81.6864 869.763 83.9086 870.319 Q86.1308 870.874 88.6077 870.874 Q92.6123 870.874 94.9502 868.768 Q97.2882 866.661 97.2882 863.05 Q97.2882 859.439 94.9502 857.333 Q92.6123 855.226 88.6077 855.226 Q86.7327 855.226 84.8577 855.643 Q83.0058 856.059 81.0614 856.939 L81.0614 839.578 Z\" fill=\"#000000\" fill-rule=\"evenodd\" fill-opacity=\"1\" /><path clip-path=\"url(#clip280)\" d=\"M111.177 868.258 L116.061 868.258 L116.061 874.138 L111.177 874.138 L111.177 868.258 Z\" fill=\"#000000\" fill-rule=\"evenodd\" fill-opacity=\"1\" /><path clip-path=\"url(#clip280)\" d=\"M136.246 842.657 Q132.635 842.657 130.807 846.222 Q129.001 849.763 129.001 856.893 Q129.001 863.999 130.807 867.564 Q132.635 871.106 136.246 871.106 Q139.881 871.106 141.686 867.564 Q143.515 863.999 143.515 856.893 Q143.515 849.763 141.686 846.222 Q139.881 842.657 136.246 842.657 M136.246 838.953 Q142.056 838.953 145.112 843.56 Q148.191 848.143 148.191 856.893 Q148.191 865.62 145.112 870.226 Q142.056 874.809 136.246 874.809 Q130.436 874.809 127.357 870.226 Q124.302 865.62 124.302 856.893 Q124.302 848.143 127.357 843.56 Q130.436 838.953 136.246 838.953 Z\" fill=\"#000000\" fill-rule=\"evenodd\" fill-opacity=\"1\" /><path clip-path=\"url(#clip280)\" d=\"M166.408 842.657 Q162.797 842.657 160.968 846.222 Q159.163 849.763 159.163 856.893 Q159.163 863.999 160.968 867.564 Q162.797 871.106 166.408 871.106 Q170.042 871.106 171.848 867.564 Q173.677 863.999 173.677 856.893 Q173.677 849.763 171.848 846.222 Q170.042 842.657 166.408 842.657 M166.408 838.953 Q172.218 838.953 175.274 843.56 Q178.353 848.143 178.353 856.893 Q178.353 865.62 175.274 870.226 Q172.218 874.809 166.408 874.809 Q160.598 874.809 157.519 870.226 Q154.464 865.62 154.464 856.893 Q154.464 848.143 157.519 843.56 Q160.598 838.953 166.408 838.953 Z\" fill=\"#000000\" fill-rule=\"evenodd\" fill-opacity=\"1\" /><path clip-path=\"url(#clip280)\" d=\"M52.6588 629.819 L60.2976 629.819 L60.2976 603.453 L51.9875 605.12 L51.9875 600.861 L60.2513 599.194 L64.9272 599.194 L64.9272 629.819 L72.5661 629.819 L72.5661 633.754 L52.6588 633.754 L52.6588 629.819 Z\" fill=\"#000000\" fill-rule=\"evenodd\" fill-opacity=\"1\" /><path clip-path=\"url(#clip280)\" d=\"M82.0568 599.194 L100.413 599.194 L100.413 603.129 L86.3392 603.129 L86.3392 611.601 Q87.3577 611.254 88.3762 611.092 Q89.3947 610.907 90.4132 610.907 Q96.2002 610.907 99.5798 614.078 Q102.959 617.249 102.959 622.666 Q102.959 628.245 99.4872 631.346 Q96.015 634.425 89.6956 634.425 Q87.5197 634.425 85.2512 634.055 Q83.0058 633.684 80.5984 632.944 L80.5984 628.245 Q82.6818 629.379 84.904 629.934 Q87.1262 630.49 89.603 630.49 Q93.6076 630.49 95.9456 628.384 Q98.2835 626.277 98.2835 622.666 Q98.2835 619.055 95.9456 616.948 Q93.6076 614.842 89.603 614.842 Q87.728 614.842 85.8531 615.259 Q84.0012 615.675 82.0568 616.555 L82.0568 599.194 Z\" fill=\"#000000\" fill-rule=\"evenodd\" fill-opacity=\"1\" /><path clip-path=\"url(#clip280)\" d=\"M112.172 627.874 L117.057 627.874 L117.057 633.754 L112.172 633.754 L112.172 627.874 Z\" fill=\"#000000\" fill-rule=\"evenodd\" fill-opacity=\"1\" /><path clip-path=\"url(#clip280)\" d=\"M131.269 629.819 L147.589 629.819 L147.589 633.754 L125.645 633.754 L125.645 629.819 Q128.307 627.064 132.89 622.434 Q137.496 617.782 138.677 616.439 Q140.922 613.916 141.802 612.18 Q142.705 610.421 142.705 608.731 Q142.705 605.976 140.76 604.24 Q138.839 602.504 135.737 602.504 Q133.538 602.504 131.084 603.268 Q128.654 604.032 125.876 605.583 L125.876 600.861 Q128.7 599.726 131.154 599.148 Q133.607 598.569 135.644 598.569 Q141.015 598.569 144.209 601.254 Q147.404 603.939 147.404 608.43 Q147.404 610.56 146.593 612.481 Q145.806 614.379 143.7 616.972 Q143.121 617.643 140.019 620.86 Q136.918 624.055 131.269 629.819 Z\" fill=\"#000000\" fill-rule=\"evenodd\" fill-opacity=\"1\" /><path clip-path=\"url(#clip280)\" d=\"M157.45 599.194 L175.806 599.194 L175.806 603.129 L161.732 603.129 L161.732 611.601 Q162.751 611.254 163.769 611.092 Q164.788 610.907 165.806 610.907 Q171.593 610.907 174.973 614.078 Q178.353 617.249 178.353 622.666 Q178.353 628.245 174.88 631.346 Q171.408 634.425 165.089 634.425 Q162.913 634.425 160.644 634.055 Q158.399 633.684 155.992 632.944 L155.992 628.245 Q158.075 629.379 160.297 629.934 Q162.519 630.49 164.996 630.49 Q169.001 630.49 171.339 628.384 Q173.677 626.277 173.677 622.666 Q173.677 619.055 171.339 616.948 Q169.001 614.842 164.996 614.842 Q163.121 614.842 161.246 615.259 Q159.394 615.675 157.45 616.555 L157.45 599.194 Z\" fill=\"#000000\" fill-rule=\"evenodd\" fill-opacity=\"1\" /><path clip-path=\"url(#clip280)\" d=\"M51.6634 389.435 L59.3023 389.435 L59.3023 363.069 L50.9921 364.736 L50.9921 360.476 L59.256 358.81 L63.9319 358.81 L63.9319 389.435 L71.5707 389.435 L71.5707 393.37 L51.6634 393.37 L51.6634 389.435 Z\" fill=\"#000000\" fill-rule=\"evenodd\" fill-opacity=\"1\" /><path clip-path=\"url(#clip280)\" d=\"M81.0614 358.81 L99.4178 358.81 L99.4178 362.745 L85.3438 362.745 L85.3438 371.217 Q86.3623 370.87 87.3808 370.708 Q88.3993 370.523 89.4178 370.523 Q95.2049 370.523 98.5845 373.694 Q101.964 376.865 101.964 382.282 Q101.964 387.86 98.4919 390.962 Q95.0197 394.041 88.7003 394.041 Q86.5243 394.041 84.2558 393.671 Q82.0105 393.3 79.6031 392.559 L79.6031 387.86 Q81.6864 388.995 83.9086 389.55 Q86.1308 390.106 88.6077 390.106 Q92.6123 390.106 94.9502 387.999 Q97.2882 385.893 97.2882 382.282 Q97.2882 378.671 94.9502 376.564 Q92.6123 374.458 88.6077 374.458 Q86.7327 374.458 84.8577 374.874 Q83.0058 375.291 81.0614 376.171 L81.0614 358.81 Z\" fill=\"#000000\" fill-rule=\"evenodd\" fill-opacity=\"1\" /><path clip-path=\"url(#clip280)\" d=\"M111.177 387.49 L116.061 387.49 L116.061 393.37 L111.177 393.37 L111.177 387.49 Z\" fill=\"#000000\" fill-rule=\"evenodd\" fill-opacity=\"1\" /><path clip-path=\"url(#clip280)\" d=\"M126.293 358.81 L144.649 358.81 L144.649 362.745 L130.575 362.745 L130.575 371.217 Q131.594 370.87 132.612 370.708 Q133.631 370.523 134.649 370.523 Q140.436 370.523 143.816 373.694 Q147.195 376.865 147.195 382.282 Q147.195 387.86 143.723 390.962 Q140.251 394.041 133.931 394.041 Q131.756 394.041 129.487 393.671 Q127.242 393.3 124.834 392.559 L124.834 387.86 Q126.918 388.995 129.14 389.55 Q131.362 390.106 133.839 390.106 Q137.844 390.106 140.181 387.999 Q142.519 385.893 142.519 382.282 Q142.519 378.671 140.181 376.564 Q137.844 374.458 133.839 374.458 Q131.964 374.458 130.089 374.874 Q128.237 375.291 126.293 376.171 L126.293 358.81 Z\" fill=\"#000000\" fill-rule=\"evenodd\" fill-opacity=\"1\" /><path clip-path=\"url(#clip280)\" d=\"M166.408 361.888 Q162.797 361.888 160.968 365.453 Q159.163 368.995 159.163 376.124 Q159.163 383.231 160.968 386.796 Q162.797 390.337 166.408 390.337 Q170.042 390.337 171.848 386.796 Q173.677 383.231 173.677 376.124 Q173.677 368.995 171.848 365.453 Q170.042 361.888 166.408 361.888 M166.408 358.185 Q172.218 358.185 175.274 362.791 Q178.353 367.374 178.353 376.124 Q178.353 384.851 175.274 389.458 Q172.218 394.041 166.408 394.041 Q160.598 394.041 157.519 389.458 Q154.464 384.851 154.464 376.124 Q154.464 367.374 157.519 362.791 Q160.598 358.185 166.408 358.185 Z\" fill=\"#000000\" fill-rule=\"evenodd\" fill-opacity=\"1\" /><path clip-path=\"url(#clip280)\" d=\"M52.6588 149.05 L60.2976 149.05 L60.2976 122.685 L51.9875 124.351 L51.9875 120.092 L60.2513 118.425 L64.9272 118.425 L64.9272 149.05 L72.5661 149.05 L72.5661 152.985 L52.6588 152.985 L52.6588 149.05 Z\" fill=\"#000000\" fill-rule=\"evenodd\" fill-opacity=\"1\" /><path clip-path=\"url(#clip280)\" d=\"M82.0568 118.425 L100.413 118.425 L100.413 122.361 L86.3392 122.361 L86.3392 130.833 Q87.3577 130.486 88.3762 130.324 Q89.3947 130.138 90.4132 130.138 Q96.2002 130.138 99.5798 133.31 Q102.959 136.481 102.959 141.898 Q102.959 147.476 99.4872 150.578 Q96.015 153.657 89.6956 153.657 Q87.5197 153.657 85.2512 153.286 Q83.0058 152.916 80.5984 152.175 L80.5984 147.476 Q82.6818 148.611 84.904 149.166 Q87.1262 149.722 89.603 149.722 Q93.6076 149.722 95.9456 147.615 Q98.2835 145.509 98.2835 141.898 Q98.2835 138.286 95.9456 136.18 Q93.6076 134.074 89.603 134.074 Q87.728 134.074 85.8531 134.49 Q84.0012 134.907 82.0568 135.786 L82.0568 118.425 Z\" fill=\"#000000\" fill-rule=\"evenodd\" fill-opacity=\"1\" /><path clip-path=\"url(#clip280)\" d=\"M112.172 147.106 L117.057 147.106 L117.057 152.985 L112.172 152.985 L112.172 147.106 Z\" fill=\"#000000\" fill-rule=\"evenodd\" fill-opacity=\"1\" /><path clip-path=\"url(#clip280)\" d=\"M126.061 118.425 L148.283 118.425 L148.283 120.416 L135.737 152.985 L130.853 152.985 L142.658 122.361 L126.061 122.361 L126.061 118.425 Z\" fill=\"#000000\" fill-rule=\"evenodd\" fill-opacity=\"1\" /><path clip-path=\"url(#clip280)\" d=\"M157.45 118.425 L175.806 118.425 L175.806 122.361 L161.732 122.361 L161.732 130.833 Q162.751 130.486 163.769 130.324 Q164.788 130.138 165.806 130.138 Q171.593 130.138 174.973 133.31 Q178.353 136.481 178.353 141.898 Q178.353 147.476 174.88 150.578 Q171.408 153.657 165.089 153.657 Q162.913 153.657 160.644 153.286 Q158.399 152.916 155.992 152.175 L155.992 147.476 Q158.075 148.611 160.297 149.166 Q162.519 149.722 164.996 149.722 Q169.001 149.722 171.339 147.615 Q173.677 145.509 173.677 141.898 Q173.677 138.286 171.339 136.18 Q169.001 134.074 164.996 134.074 Q163.121 134.074 161.246 134.49 Q159.394 134.907 157.45 135.786 L157.45 118.425 Z\" fill=\"#000000\" fill-rule=\"evenodd\" fill-opacity=\"1\" /><polyline clip-path=\"url(#clip282)\" style=\"stroke:#009af9; stroke-linecap:butt; stroke-linejoin:round; stroke-width:4; stroke-opacity:1; fill:none\" points=\"\n  2292.24,1433.78 1171.06,1337.63 946.819,1049.17 498.347,664.551 292.05,376.09 274.873,87.6286 \n  \"/>\n<circle clip-path=\"url(#clip282)\" cx=\"2292.24\" cy=\"1433.78\" r=\"14\" fill=\"#e26f46\" fill-rule=\"evenodd\" fill-opacity=\"1\" stroke=\"#000000\" stroke-opacity=\"1\" stroke-width=\"3.2\"/>\n<circle clip-path=\"url(#clip282)\" cx=\"1171.06\" cy=\"1337.63\" r=\"14\" fill=\"#e26f46\" fill-rule=\"evenodd\" fill-opacity=\"1\" stroke=\"#000000\" stroke-opacity=\"1\" stroke-width=\"3.2\"/>\n<circle clip-path=\"url(#clip282)\" cx=\"946.819\" cy=\"1049.17\" r=\"14\" fill=\"#e26f46\" fill-rule=\"evenodd\" fill-opacity=\"1\" stroke=\"#000000\" stroke-opacity=\"1\" stroke-width=\"3.2\"/>\n<circle clip-path=\"url(#clip282)\" cx=\"498.347\" cy=\"664.551\" r=\"14\" fill=\"#e26f46\" fill-rule=\"evenodd\" fill-opacity=\"1\" stroke=\"#000000\" stroke-opacity=\"1\" stroke-width=\"3.2\"/>\n<circle clip-path=\"url(#clip282)\" cx=\"292.05\" cy=\"376.09\" r=\"14\" fill=\"#e26f46\" fill-rule=\"evenodd\" fill-opacity=\"1\" stroke=\"#000000\" stroke-opacity=\"1\" stroke-width=\"3.2\"/>\n<circle clip-path=\"url(#clip282)\" cx=\"274.873\" cy=\"87.6286\" r=\"14\" fill=\"#e26f46\" fill-rule=\"evenodd\" fill-opacity=\"1\" stroke=\"#000000\" stroke-opacity=\"1\" stroke-width=\"3.2\"/>\n<path clip-path=\"url(#clip280)\" d=\"\nM1904.89 250.328 L2281.48 250.328 L2281.48 94.8081 L1904.89 94.8081  Z\n  \" fill=\"#ffffff\" fill-rule=\"evenodd\" fill-opacity=\"1\"/>\n<polyline clip-path=\"url(#clip280)\" style=\"stroke:#000000; stroke-linecap:butt; stroke-linejoin:round; stroke-width:4; stroke-opacity:1; fill:none\" points=\"\n  1904.89,250.328 2281.48,250.328 2281.48,94.8081 1904.89,94.8081 1904.89,250.328 \n  \"/>\n<polyline clip-path=\"url(#clip280)\" style=\"stroke:#009af9; stroke-linecap:butt; stroke-linejoin:round; stroke-width:4; stroke-opacity:1; fill:none\" points=\"\n  1928.65,146.648 2071.21,146.648 \n  \"/>\n<path clip-path=\"url(#clip280)\" d=\"M2094.97 127.91 L2099.23 127.91 L2099.23 163.928 L2094.97 163.928 L2094.97 127.91 Z\" fill=\"#000000\" fill-rule=\"evenodd\" fill-opacity=\"1\" /><path clip-path=\"url(#clip280)\" d=\"M2108.15 138.002 L2112.41 138.002 L2112.41 163.928 L2108.15 163.928 L2108.15 138.002 M2108.15 127.91 L2112.41 127.91 L2112.41 133.303 L2108.15 133.303 L2108.15 127.91 Z\" fill=\"#000000\" fill-rule=\"evenodd\" fill-opacity=\"1\" /><path clip-path=\"url(#clip280)\" d=\"M2142.87 148.28 L2142.87 163.928 L2138.61 163.928 L2138.61 148.419 Q2138.61 144.738 2137.17 142.91 Q2135.74 141.081 2132.87 141.081 Q2129.42 141.081 2127.43 143.28 Q2125.44 145.479 2125.44 149.275 L2125.44 163.928 L2121.16 163.928 L2121.16 138.002 L2125.44 138.002 L2125.44 142.03 Q2126.97 139.692 2129.03 138.535 Q2131.11 137.377 2133.82 137.377 Q2138.28 137.377 2140.58 140.155 Q2142.87 142.91 2142.87 148.28 Z\" fill=\"#000000\" fill-rule=\"evenodd\" fill-opacity=\"1\" /><path clip-path=\"url(#clip280)\" d=\"M2173.54 149.9 L2173.54 151.984 L2153.96 151.984 Q2154.23 156.382 2156.6 158.697 Q2158.98 160.988 2163.22 160.988 Q2165.67 160.988 2167.96 160.386 Q2170.28 159.785 2172.54 158.581 L2172.54 162.609 Q2170.25 163.581 2167.84 164.09 Q2165.44 164.599 2162.96 164.599 Q2156.76 164.599 2153.12 160.988 Q2149.51 157.377 2149.51 151.22 Q2149.51 144.854 2152.94 141.127 Q2156.39 137.377 2162.22 137.377 Q2167.45 137.377 2170.48 140.757 Q2173.54 144.113 2173.54 149.9 M2169.28 148.65 Q2169.23 145.155 2167.31 143.072 Q2165.41 140.988 2162.27 140.988 Q2158.7 140.988 2156.55 143.002 Q2154.42 145.016 2154.1 148.674 L2169.28 148.65 Z\" fill=\"#000000\" fill-rule=\"evenodd\" fill-opacity=\"1\" /><circle clip-path=\"url(#clip280)\" cx=\"1999.93\" cy=\"198.488\" r=\"23\" fill=\"#e26f46\" fill-rule=\"evenodd\" fill-opacity=\"1\" stroke=\"#000000\" stroke-opacity=\"1\" stroke-width=\"5.12\"/>\n<path clip-path=\"url(#clip280)\" d=\"M2099.26 211.879 L2099.26 225.629 L2094.97 225.629 L2094.97 189.842 L2099.26 189.842 L2099.26 193.777 Q2100.6 191.463 2102.64 190.352 Q2104.7 189.217 2107.54 189.217 Q2112.27 189.217 2115.21 192.967 Q2118.17 196.717 2118.17 202.828 Q2118.17 208.939 2115.21 212.689 Q2112.27 216.439 2107.54 216.439 Q2104.7 216.439 2102.64 215.328 Q2100.6 214.194 2099.26 211.879 M2113.75 202.828 Q2113.75 198.129 2111.8 195.467 Q2109.88 192.782 2106.5 192.782 Q2103.12 192.782 2101.18 195.467 Q2099.26 198.129 2099.26 202.828 Q2099.26 207.527 2101.18 210.213 Q2103.12 212.875 2106.5 212.875 Q2109.88 212.875 2111.8 210.213 Q2113.75 207.527 2113.75 202.828 Z\" fill=\"#000000\" fill-rule=\"evenodd\" fill-opacity=\"1\" /><path clip-path=\"url(#clip280)\" d=\"M2135.28 192.828 Q2131.85 192.828 2129.86 195.514 Q2127.87 198.176 2127.87 202.828 Q2127.87 207.481 2129.84 210.166 Q2131.83 212.828 2135.28 212.828 Q2138.68 212.828 2140.67 210.143 Q2142.66 207.458 2142.66 202.828 Q2142.66 198.222 2140.67 195.537 Q2138.68 192.828 2135.28 192.828 M2135.28 189.217 Q2140.83 189.217 2144 192.828 Q2147.17 196.44 2147.17 202.828 Q2147.17 209.194 2144 212.828 Q2140.83 216.439 2135.28 216.439 Q2129.7 216.439 2126.53 212.828 Q2123.38 209.194 2123.38 202.828 Q2123.38 196.44 2126.53 192.828 Q2129.7 189.217 2135.28 189.217 Z\" fill=\"#000000\" fill-rule=\"evenodd\" fill-opacity=\"1\" /><path clip-path=\"url(#clip280)\" d=\"M2154.23 189.842 L2158.49 189.842 L2158.49 215.768 L2154.23 215.768 L2154.23 189.842 M2154.23 179.75 L2158.49 179.75 L2158.49 185.143 L2154.23 185.143 L2154.23 179.75 Z\" fill=\"#000000\" fill-rule=\"evenodd\" fill-opacity=\"1\" /><path clip-path=\"url(#clip280)\" d=\"M2188.96 200.12 L2188.96 215.768 L2184.7 215.768 L2184.7 200.259 Q2184.7 196.578 2183.26 194.75 Q2181.83 192.921 2178.96 192.921 Q2175.51 192.921 2173.52 195.12 Q2171.53 197.319 2171.53 201.115 L2171.53 215.768 L2167.24 215.768 L2167.24 189.842 L2171.53 189.842 L2171.53 193.87 Q2173.05 191.532 2175.11 190.375 Q2177.2 189.217 2179.91 189.217 Q2184.37 189.217 2186.66 191.995 Q2188.96 194.75 2188.96 200.12 Z\" fill=\"#000000\" fill-rule=\"evenodd\" fill-opacity=\"1\" /><path clip-path=\"url(#clip280)\" d=\"M2201.66 182.481 L2201.66 189.842 L2210.44 189.842 L2210.44 193.152 L2201.66 193.152 L2201.66 207.226 Q2201.66 210.398 2202.52 211.301 Q2203.4 212.203 2206.06 212.203 L2210.44 212.203 L2210.44 215.768 L2206.06 215.768 Q2201.13 215.768 2199.26 213.939 Q2197.38 212.088 2197.38 207.226 L2197.38 193.152 L2194.26 193.152 L2194.26 189.842 L2197.38 189.842 L2197.38 182.481 L2201.66 182.481 Z\" fill=\"#000000\" fill-rule=\"evenodd\" fill-opacity=\"1\" /><path clip-path=\"url(#clip280)\" d=\"M2232.57 190.606 L2232.57 194.634 Q2230.76 193.708 2228.82 193.245 Q2226.87 192.782 2224.79 192.782 Q2221.62 192.782 2220.02 193.754 Q2218.45 194.727 2218.45 196.671 Q2218.45 198.152 2219.58 199.009 Q2220.72 199.842 2224.14 200.606 L2225.6 200.93 Q2230.14 201.902 2232.03 203.685 Q2233.96 205.444 2233.96 208.615 Q2233.96 212.226 2231.09 214.333 Q2228.24 216.439 2223.24 216.439 Q2221.15 216.439 2218.89 216.023 Q2216.64 215.629 2214.14 214.819 L2214.14 210.421 Q2216.5 211.648 2218.79 212.273 Q2221.09 212.875 2223.33 212.875 Q2226.34 212.875 2227.96 211.856 Q2229.58 210.814 2229.58 208.939 Q2229.58 207.203 2228.4 206.277 Q2227.24 205.352 2223.28 204.495 L2221.8 204.148 Q2217.84 203.314 2216.09 201.602 Q2214.33 199.865 2214.33 196.856 Q2214.33 193.199 2216.92 191.208 Q2219.51 189.217 2224.28 189.217 Q2226.64 189.217 2228.72 189.565 Q2230.81 189.912 2232.57 190.606 Z\" fill=\"#000000\" fill-rule=\"evenodd\" fill-opacity=\"1\" /></svg>\n"
          },
          "metadata": {},
          "execution_count": 139
        }
      ]
    },
    {
      "cell_type": "markdown",
      "metadata": {
        "id": "gqqNM3zQ5pQF"
      },
      "source": [
        "The `!` at the end of the `scatter!` function name makes `scatter!` a mutating function, indicating that the scattered points will be added onto the pre-existing plot.\n",
        "\n",
        "In contrast, see what happens when you replace `scatter!` in the above with the non-mutating function `scatter`.\n",
        "\n",
        "Next, let's update this plot with the `xlabel!`, `ylabel!`, and `title!` commands to add more information to our plot."
      ]
    },
    {
      "cell_type": "code",
      "metadata": {
        "id": "iMPc_ZmQ5pQF",
        "colab": {
          "base_uri": "https://localhost:8080/",
          "height": 421
        },
        "outputId": "a7364cc3-fcd6-452a-d69a-99eeb366b9df"
      },
      "source": [
        "xlabel!(\"Number of Pirates [Approximate]\")\n",
        "ylabel!(\"Global Temperature (C)\")\n",
        "title!(\"Influence of pirate population on global warming\")"
      ],
      "execution_count": null,
      "outputs": [
        {
          "output_type": "execute_result",
          "data": {
            "image/svg+xml": "<?xml version=\"1.0\" encoding=\"utf-8\"?>\n<svg xmlns=\"http://www.w3.org/2000/svg\" xmlns:xlink=\"http://www.w3.org/1999/xlink\" width=\"600\" height=\"400\" viewBox=\"0 0 2400 1600\">\n<defs>\n  <clipPath id=\"clip320\">\n    <rect x=\"0\" y=\"0\" width=\"2400\" height=\"1600\"/>\n  </clipPath>\n</defs>\n<path clip-path=\"url(#clip320)\" d=\"\nM0 1600 L2400 1600 L2400 0 L0 0  Z\n  \" fill=\"#ffffff\" fill-rule=\"evenodd\" fill-opacity=\"1\"/>\n<defs>\n  <clipPath id=\"clip321\">\n    <rect x=\"480\" y=\"0\" width=\"1681\" height=\"1600\"/>\n  </clipPath>\n</defs>\n<path clip-path=\"url(#clip320)\" d=\"\nM277.621 1410.9 L2352.76 1410.9 L2352.76 123.472 L277.621 123.472  Z\n  \" fill=\"#ffffff\" fill-rule=\"evenodd\" fill-opacity=\"1\"/>\n<defs>\n  <clipPath id=\"clip322\">\n    <rect x=\"277\" y=\"123\" width=\"2076\" height=\"1288\"/>\n  </clipPath>\n</defs>\n<polyline clip-path=\"url(#clip322)\" style=\"stroke:#000000; stroke-linecap:butt; stroke-linejoin:round; stroke-width:2; stroke-opacity:0.1; fill:none\" points=\"\n  335.611,1410.9 335.611,123.472 \n  \"/>\n<polyline clip-path=\"url(#clip322)\" style=\"stroke:#000000; stroke-linecap:butt; stroke-linejoin:round; stroke-width:2; stroke-opacity:0.1; fill:none\" points=\"\n  770.814,1410.9 770.814,123.472 \n  \"/>\n<polyline clip-path=\"url(#clip322)\" style=\"stroke:#000000; stroke-linecap:butt; stroke-linejoin:round; stroke-width:2; stroke-opacity:0.1; fill:none\" points=\"\n  1206.02,1410.9 1206.02,123.472 \n  \"/>\n<polyline clip-path=\"url(#clip322)\" style=\"stroke:#000000; stroke-linecap:butt; stroke-linejoin:round; stroke-width:2; stroke-opacity:0.1; fill:none\" points=\"\n  1641.22,1410.9 1641.22,123.472 \n  \"/>\n<polyline clip-path=\"url(#clip322)\" style=\"stroke:#000000; stroke-linecap:butt; stroke-linejoin:round; stroke-width:2; stroke-opacity:0.1; fill:none\" points=\"\n  2076.42,1410.9 2076.42,123.472 \n  \"/>\n<polyline clip-path=\"url(#clip320)\" style=\"stroke:#000000; stroke-linecap:butt; stroke-linejoin:round; stroke-width:4; stroke-opacity:1; fill:none\" points=\"\n  277.621,1410.9 2352.76,1410.9 \n  \"/>\n<polyline clip-path=\"url(#clip320)\" style=\"stroke:#000000; stroke-linecap:butt; stroke-linejoin:round; stroke-width:4; stroke-opacity:1; fill:none\" points=\"\n  335.611,1410.9 335.611,1392 \n  \"/>\n<polyline clip-path=\"url(#clip320)\" style=\"stroke:#000000; stroke-linecap:butt; stroke-linejoin:round; stroke-width:4; stroke-opacity:1; fill:none\" points=\"\n  770.814,1410.9 770.814,1392 \n  \"/>\n<polyline clip-path=\"url(#clip320)\" style=\"stroke:#000000; stroke-linecap:butt; stroke-linejoin:round; stroke-width:4; stroke-opacity:1; fill:none\" points=\"\n  1206.02,1410.9 1206.02,1392 \n  \"/>\n<polyline clip-path=\"url(#clip320)\" style=\"stroke:#000000; stroke-linecap:butt; stroke-linejoin:round; stroke-width:4; stroke-opacity:1; fill:none\" points=\"\n  1641.22,1410.9 1641.22,1392 \n  \"/>\n<polyline clip-path=\"url(#clip320)\" style=\"stroke:#000000; stroke-linecap:butt; stroke-linejoin:round; stroke-width:4; stroke-opacity:1; fill:none\" points=\"\n  2076.42,1410.9 2076.42,1392 \n  \"/>\n<path clip-path=\"url(#clip320)\" d=\"M335.611 1441.82 Q332 1441.82 330.171 1445.38 Q328.366 1448.92 328.366 1456.05 Q328.366 1463.16 330.171 1466.72 Q332 1470.26 335.611 1470.26 Q339.245 1470.26 341.051 1466.72 Q342.879 1463.16 342.879 1456.05 Q342.879 1448.92 341.051 1445.38 Q339.245 1441.82 335.611 1441.82 M335.611 1438.11 Q341.421 1438.11 344.477 1442.72 Q347.555 1447.3 347.555 1456.05 Q347.555 1464.78 344.477 1469.38 Q341.421 1473.97 335.611 1473.97 Q329.801 1473.97 326.722 1469.38 Q323.667 1464.78 323.667 1456.05 Q323.667 1447.3 326.722 1442.72 Q329.801 1438.11 335.611 1438.11 Z\" fill=\"#000000\" fill-rule=\"evenodd\" fill-opacity=\"1\" /><path clip-path=\"url(#clip320)\" d=\"M677.713 1485.02 L685.352 1485.02 L685.352 1458.66 L677.042 1460.32 L677.042 1456.06 L685.305 1454.4 L689.981 1454.4 L689.981 1485.02 L697.62 1485.02 L697.62 1488.96 L677.713 1488.96 L677.713 1485.02 Z\" fill=\"#000000\" fill-rule=\"evenodd\" fill-opacity=\"1\" /><path clip-path=\"url(#clip320)\" d=\"M707.065 1483.08 L711.949 1483.08 L711.949 1488.96 L707.065 1488.96 L707.065 1483.08 Z\" fill=\"#000000\" fill-rule=\"evenodd\" fill-opacity=\"1\" /><path clip-path=\"url(#clip320)\" d=\"M732.134 1457.48 Q728.523 1457.48 726.694 1461.04 Q724.889 1464.58 724.889 1471.71 Q724.889 1478.82 726.694 1482.38 Q728.523 1485.92 732.134 1485.92 Q735.768 1485.92 737.574 1482.38 Q739.402 1478.82 739.402 1471.71 Q739.402 1464.58 737.574 1461.04 Q735.768 1457.48 732.134 1457.48 M732.134 1453.77 Q737.944 1453.77 741 1458.38 Q744.078 1462.96 744.078 1471.71 Q744.078 1480.44 741 1485.04 Q737.944 1489.63 732.134 1489.63 Q726.324 1489.63 723.245 1485.04 Q720.19 1480.44 720.19 1471.71 Q720.19 1462.96 723.245 1458.38 Q726.324 1453.77 732.134 1453.77 Z\" fill=\"#000000\" fill-rule=\"evenodd\" fill-opacity=\"1\" /><path clip-path=\"url(#clip320)\" d=\"M780.467 1463.49 L769.888 1474.12 L780.467 1484.7 L777.712 1487.5 L767.087 1476.87 L756.462 1487.5 L753.731 1484.7 L764.287 1474.12 L753.731 1463.49 L756.462 1460.69 L767.087 1471.32 L777.712 1460.69 L780.467 1463.49 Z\" fill=\"#000000\" fill-rule=\"evenodd\" fill-opacity=\"1\" /><path clip-path=\"url(#clip320)\" d=\"M792.828 1485.02 L800.467 1485.02 L800.467 1458.66 L792.157 1460.32 L792.157 1456.06 L800.421 1454.4 L805.096 1454.4 L805.096 1485.02 L812.735 1485.02 L812.735 1488.96 L792.828 1488.96 L792.828 1485.02 Z\" fill=\"#000000\" fill-rule=\"evenodd\" fill-opacity=\"1\" /><path clip-path=\"url(#clip320)\" d=\"M832.18 1457.48 Q828.569 1457.48 826.74 1461.04 Q824.934 1464.58 824.934 1471.71 Q824.934 1478.82 826.74 1482.38 Q828.569 1485.92 832.18 1485.92 Q835.814 1485.92 837.619 1482.38 Q839.448 1478.82 839.448 1471.71 Q839.448 1464.58 837.619 1461.04 Q835.814 1457.48 832.18 1457.48 M832.18 1453.77 Q837.99 1453.77 841.045 1458.38 Q844.124 1462.96 844.124 1471.71 Q844.124 1480.44 841.045 1485.04 Q837.99 1489.63 832.18 1489.63 Q826.37 1489.63 823.291 1485.04 Q820.235 1480.44 820.235 1471.71 Q820.235 1462.96 823.291 1458.38 Q826.37 1453.77 832.18 1453.77 Z\" fill=\"#000000\" fill-rule=\"evenodd\" fill-opacity=\"1\" /><path clip-path=\"url(#clip320)\" d=\"M856.8 1436.78 L847.209 1451.77 L856.8 1451.77 L856.8 1436.78 M855.804 1433.47 L860.581 1433.47 L860.581 1451.77 L864.587 1451.77 L864.587 1454.93 L860.581 1454.93 L860.581 1461.55 L856.8 1461.55 L856.8 1454.93 L844.124 1454.93 L844.124 1451.26 L855.804 1433.47 Z\" fill=\"#000000\" fill-rule=\"evenodd\" fill-opacity=\"1\" /><path clip-path=\"url(#clip320)\" d=\"M1117 1485.02 L1133.32 1485.02 L1133.32 1488.96 L1111.38 1488.96 L1111.38 1485.02 Q1114.04 1482.27 1118.62 1477.64 Q1123.23 1472.98 1124.41 1471.64 Q1126.65 1469.12 1127.53 1467.38 Q1128.44 1465.62 1128.44 1463.93 Q1128.44 1461.18 1126.49 1459.44 Q1124.57 1457.71 1121.47 1457.71 Q1119.27 1457.71 1116.82 1458.47 Q1114.39 1459.23 1111.61 1460.79 L1111.61 1456.06 Q1114.43 1454.93 1116.89 1454.35 Q1119.34 1453.77 1121.38 1453.77 Q1126.75 1453.77 1129.94 1456.46 Q1133.14 1459.14 1133.14 1463.63 Q1133.14 1465.76 1132.33 1467.68 Q1131.54 1469.58 1129.43 1472.17 Q1128.85 1472.85 1125.75 1476.06 Q1122.65 1479.26 1117 1485.02 Z\" fill=\"#000000\" fill-rule=\"evenodd\" fill-opacity=\"1\" /><path clip-path=\"url(#clip320)\" d=\"M1143.14 1483.08 L1148.02 1483.08 L1148.02 1488.96 L1143.14 1488.96 L1143.14 1483.08 Z\" fill=\"#000000\" fill-rule=\"evenodd\" fill-opacity=\"1\" /><path clip-path=\"url(#clip320)\" d=\"M1168.21 1457.48 Q1164.59 1457.48 1162.77 1461.04 Q1160.96 1464.58 1160.96 1471.71 Q1160.96 1478.82 1162.77 1482.38 Q1164.59 1485.92 1168.21 1485.92 Q1171.84 1485.92 1173.64 1482.38 Q1175.47 1478.82 1175.47 1471.71 Q1175.47 1464.58 1173.64 1461.04 Q1171.84 1457.48 1168.21 1457.48 M1168.21 1453.77 Q1174.02 1453.77 1177.07 1458.38 Q1180.15 1462.96 1180.15 1471.71 Q1180.15 1480.44 1177.07 1485.04 Q1174.02 1489.63 1168.21 1489.63 Q1162.4 1489.63 1159.32 1485.04 Q1156.26 1480.44 1156.26 1471.71 Q1156.26 1462.96 1159.32 1458.38 Q1162.4 1453.77 1168.21 1453.77 Z\" fill=\"#000000\" fill-rule=\"evenodd\" fill-opacity=\"1\" /><path clip-path=\"url(#clip320)\" d=\"M1216.54 1463.49 L1205.96 1474.12 L1216.54 1484.7 L1213.78 1487.5 L1203.16 1476.87 L1192.53 1487.5 L1189.8 1484.7 L1200.36 1474.12 L1189.8 1463.49 L1192.53 1460.69 L1203.16 1471.32 L1213.78 1460.69 L1216.54 1463.49 Z\" fill=\"#000000\" fill-rule=\"evenodd\" fill-opacity=\"1\" /><path clip-path=\"url(#clip320)\" d=\"M1228.9 1485.02 L1236.54 1485.02 L1236.54 1458.66 L1228.23 1460.32 L1228.23 1456.06 L1236.49 1454.4 L1241.17 1454.4 L1241.17 1485.02 L1248.81 1485.02 L1248.81 1488.96 L1228.9 1488.96 L1228.9 1485.02 Z\" fill=\"#000000\" fill-rule=\"evenodd\" fill-opacity=\"1\" /><path clip-path=\"url(#clip320)\" d=\"M1268.25 1457.48 Q1264.64 1457.48 1262.81 1461.04 Q1261.01 1464.58 1261.01 1471.71 Q1261.01 1478.82 1262.81 1482.38 Q1264.64 1485.92 1268.25 1485.92 Q1271.89 1485.92 1273.69 1482.38 Q1275.52 1478.82 1275.52 1471.71 Q1275.52 1464.58 1273.69 1461.04 Q1271.89 1457.48 1268.25 1457.48 M1268.25 1453.77 Q1274.06 1453.77 1277.12 1458.38 Q1280.2 1462.96 1280.2 1471.71 Q1280.2 1480.44 1277.12 1485.04 Q1274.06 1489.63 1268.25 1489.63 Q1262.44 1489.63 1259.36 1485.04 Q1256.31 1480.44 1256.31 1471.71 Q1256.31 1462.96 1259.36 1458.38 Q1262.44 1453.77 1268.25 1453.77 Z\" fill=\"#000000\" fill-rule=\"evenodd\" fill-opacity=\"1\" /><path clip-path=\"url(#clip320)\" d=\"M1292.87 1436.78 L1283.28 1451.77 L1292.87 1451.77 L1292.87 1436.78 M1291.87 1433.47 L1296.65 1433.47 L1296.65 1451.77 L1300.66 1451.77 L1300.66 1454.93 L1296.65 1454.93 L1296.65 1461.55 L1292.87 1461.55 L1292.87 1454.93 L1280.2 1454.93 L1280.2 1451.26 L1291.87 1433.47 Z\" fill=\"#000000\" fill-rule=\"evenodd\" fill-opacity=\"1\" /><path clip-path=\"url(#clip320)\" d=\"M1562.27 1470.32 Q1565.63 1471.04 1567.51 1473.31 Q1569.4 1475.58 1569.4 1478.91 Q1569.4 1484.03 1565.89 1486.83 Q1562.37 1489.63 1555.89 1489.63 Q1553.71 1489.63 1551.39 1489.19 Q1549.1 1488.77 1546.65 1487.91 L1546.65 1483.4 Q1548.59 1484.54 1550.91 1485.11 Q1553.22 1485.69 1555.75 1485.69 Q1560.14 1485.69 1562.44 1483.96 Q1564.75 1482.22 1564.75 1478.91 Q1564.75 1475.85 1562.6 1474.14 Q1560.47 1472.41 1556.65 1472.41 L1552.62 1472.41 L1552.62 1468.56 L1556.83 1468.56 Q1560.28 1468.56 1562.11 1467.2 Q1563.94 1465.81 1563.94 1463.22 Q1563.94 1460.55 1562.04 1459.14 Q1560.17 1457.71 1556.65 1457.71 Q1554.73 1457.71 1552.53 1458.12 Q1550.33 1458.54 1547.69 1459.42 L1547.69 1455.25 Q1550.35 1454.51 1552.67 1454.14 Q1555.01 1453.77 1557.07 1453.77 Q1562.39 1453.77 1565.49 1456.2 Q1568.59 1458.61 1568.59 1462.73 Q1568.59 1465.6 1566.95 1467.59 Q1565.31 1469.56 1562.27 1470.32 Z\" fill=\"#000000\" fill-rule=\"evenodd\" fill-opacity=\"1\" /><path clip-path=\"url(#clip320)\" d=\"M1578.27 1483.08 L1583.15 1483.08 L1583.15 1488.96 L1578.27 1488.96 L1578.27 1483.08 Z\" fill=\"#000000\" fill-rule=\"evenodd\" fill-opacity=\"1\" /><path clip-path=\"url(#clip320)\" d=\"M1603.34 1457.48 Q1599.73 1457.48 1597.9 1461.04 Q1596.09 1464.58 1596.09 1471.71 Q1596.09 1478.82 1597.9 1482.38 Q1599.73 1485.92 1603.34 1485.92 Q1606.97 1485.92 1608.78 1482.38 Q1610.61 1478.82 1610.61 1471.71 Q1610.61 1464.58 1608.78 1461.04 Q1606.97 1457.48 1603.34 1457.48 M1603.34 1453.77 Q1609.15 1453.77 1612.2 1458.38 Q1615.28 1462.96 1615.28 1471.71 Q1615.28 1480.44 1612.2 1485.04 Q1609.15 1489.63 1603.34 1489.63 Q1597.53 1489.63 1594.45 1485.04 Q1591.39 1480.44 1591.39 1471.71 Q1591.39 1462.96 1594.45 1458.38 Q1597.53 1453.77 1603.34 1453.77 Z\" fill=\"#000000\" fill-rule=\"evenodd\" fill-opacity=\"1\" /><path clip-path=\"url(#clip320)\" d=\"M1651.67 1463.49 L1641.09 1474.12 L1651.67 1484.7 L1648.92 1487.5 L1638.29 1476.87 L1627.67 1487.5 L1624.94 1484.7 L1635.49 1474.12 L1624.94 1463.49 L1627.67 1460.69 L1638.29 1471.32 L1648.92 1460.69 L1651.67 1463.49 Z\" fill=\"#000000\" fill-rule=\"evenodd\" fill-opacity=\"1\" /><path clip-path=\"url(#clip320)\" d=\"M1664.03 1485.02 L1671.67 1485.02 L1671.67 1458.66 L1663.36 1460.32 L1663.36 1456.06 L1671.63 1454.4 L1676.3 1454.4 L1676.3 1485.02 L1683.94 1485.02 L1683.94 1488.96 L1664.03 1488.96 L1664.03 1485.02 Z\" fill=\"#000000\" fill-rule=\"evenodd\" fill-opacity=\"1\" /><path clip-path=\"url(#clip320)\" d=\"M1703.38 1457.48 Q1699.77 1457.48 1697.95 1461.04 Q1696.14 1464.58 1696.14 1471.71 Q1696.14 1478.82 1697.95 1482.38 Q1699.77 1485.92 1703.38 1485.92 Q1707.02 1485.92 1708.82 1482.38 Q1710.65 1478.82 1710.65 1471.71 Q1710.65 1464.58 1708.82 1461.04 Q1707.02 1457.48 1703.38 1457.48 M1703.38 1453.77 Q1709.19 1453.77 1712.25 1458.38 Q1715.33 1462.96 1715.33 1471.71 Q1715.33 1480.44 1712.25 1485.04 Q1709.19 1489.63 1703.38 1489.63 Q1697.57 1489.63 1694.5 1485.04 Q1691.44 1480.44 1691.44 1471.71 Q1691.44 1462.96 1694.5 1458.38 Q1697.57 1453.77 1703.38 1453.77 Z\" fill=\"#000000\" fill-rule=\"evenodd\" fill-opacity=\"1\" /><path clip-path=\"url(#clip320)\" d=\"M1728.01 1436.78 L1718.41 1451.77 L1728.01 1451.77 L1728.01 1436.78 M1727.01 1433.47 L1731.79 1433.47 L1731.79 1451.77 L1735.79 1451.77 L1735.79 1454.93 L1731.79 1454.93 L1731.79 1461.55 L1728.01 1461.55 L1728.01 1454.93 L1715.33 1454.93 L1715.33 1451.26 L1727.01 1433.47 Z\" fill=\"#000000\" fill-rule=\"evenodd\" fill-opacity=\"1\" /><path clip-path=\"url(#clip320)\" d=\"M1996.81 1458.47 L1985 1476.92 L1996.81 1476.92 L1996.81 1458.47 M1995.58 1454.4 L2001.46 1454.4 L2001.46 1476.92 L2006.39 1476.92 L2006.39 1480.81 L2001.46 1480.81 L2001.46 1488.96 L1996.81 1488.96 L1996.81 1480.81 L1981.2 1480.81 L1981.2 1476.29 L1995.58 1454.4 Z\" fill=\"#000000\" fill-rule=\"evenodd\" fill-opacity=\"1\" /><path clip-path=\"url(#clip320)\" d=\"M2014.12 1483.08 L2019.01 1483.08 L2019.01 1488.96 L2014.12 1488.96 L2014.12 1483.08 Z\" fill=\"#000000\" fill-rule=\"evenodd\" fill-opacity=\"1\" /><path clip-path=\"url(#clip320)\" d=\"M2039.19 1457.48 Q2035.58 1457.48 2033.75 1461.04 Q2031.95 1464.58 2031.95 1471.71 Q2031.95 1478.82 2033.75 1482.38 Q2035.58 1485.92 2039.19 1485.92 Q2042.82 1485.92 2044.63 1482.38 Q2046.46 1478.82 2046.46 1471.71 Q2046.46 1464.58 2044.63 1461.04 Q2042.82 1457.48 2039.19 1457.48 M2039.19 1453.77 Q2045 1453.77 2048.06 1458.38 Q2051.13 1462.96 2051.13 1471.71 Q2051.13 1480.44 2048.06 1485.04 Q2045 1489.63 2039.19 1489.63 Q2033.38 1489.63 2030.3 1485.04 Q2027.25 1480.44 2027.25 1471.71 Q2027.25 1462.96 2030.3 1458.38 Q2033.38 1453.77 2039.19 1453.77 Z\" fill=\"#000000\" fill-rule=\"evenodd\" fill-opacity=\"1\" /><path clip-path=\"url(#clip320)\" d=\"M2087.52 1463.49 L2076.94 1474.12 L2087.52 1484.7 L2084.77 1487.5 L2074.14 1476.87 L2063.52 1487.5 L2060.79 1484.7 L2071.34 1474.12 L2060.79 1463.49 L2063.52 1460.69 L2074.14 1471.32 L2084.77 1460.69 L2087.52 1463.49 Z\" fill=\"#000000\" fill-rule=\"evenodd\" fill-opacity=\"1\" /><path clip-path=\"url(#clip320)\" d=\"M2099.88 1485.02 L2107.52 1485.02 L2107.52 1458.66 L2099.21 1460.32 L2099.21 1456.06 L2107.48 1454.4 L2112.15 1454.4 L2112.15 1485.02 L2119.79 1485.02 L2119.79 1488.96 L2099.88 1488.96 L2099.88 1485.02 Z\" fill=\"#000000\" fill-rule=\"evenodd\" fill-opacity=\"1\" /><path clip-path=\"url(#clip320)\" d=\"M2139.24 1457.48 Q2135.63 1457.48 2133.8 1461.04 Q2131.99 1464.58 2131.99 1471.71 Q2131.99 1478.82 2133.8 1482.38 Q2135.63 1485.92 2139.24 1485.92 Q2142.87 1485.92 2144.68 1482.38 Q2146.5 1478.82 2146.5 1471.71 Q2146.5 1464.58 2144.68 1461.04 Q2142.87 1457.48 2139.24 1457.48 M2139.24 1453.77 Q2145.05 1453.77 2148.1 1458.38 Q2151.18 1462.96 2151.18 1471.71 Q2151.18 1480.44 2148.1 1485.04 Q2145.05 1489.63 2139.24 1489.63 Q2133.43 1489.63 2130.35 1485.04 Q2127.29 1480.44 2127.29 1471.71 Q2127.29 1462.96 2130.35 1458.38 Q2133.43 1453.77 2139.24 1453.77 Z\" fill=\"#000000\" fill-rule=\"evenodd\" fill-opacity=\"1\" /><path clip-path=\"url(#clip320)\" d=\"M2163.86 1436.78 L2154.27 1451.77 L2163.86 1451.77 L2163.86 1436.78 M2162.86 1433.47 L2167.64 1433.47 L2167.64 1451.77 L2171.64 1451.77 L2171.64 1454.93 L2167.64 1454.93 L2167.64 1461.55 L2163.86 1461.55 L2163.86 1454.93 L2151.18 1454.93 L2151.18 1451.26 L2162.86 1433.47 Z\" fill=\"#000000\" fill-rule=\"evenodd\" fill-opacity=\"1\" /><path clip-path=\"url(#clip320)\" d=\"M782.967 1526.67 L791.625 1526.67 L812.695 1566.42 L812.695 1526.67 L818.934 1526.67 L818.934 1574.19 L810.276 1574.19 L789.206 1534.43 L789.206 1574.19 L782.967 1574.19 L782.967 1526.67 Z\" fill=\"#000000\" fill-rule=\"evenodd\" fill-opacity=\"1\" /><path clip-path=\"url(#clip320)\" d=\"M830.869 1560.12 L830.869 1538.54 L836.726 1538.54 L836.726 1559.89 Q836.726 1564.96 838.699 1567.5 Q840.673 1570.02 844.619 1570.02 Q849.362 1570.02 852.099 1566.99 Q854.868 1563.97 854.868 1558.75 L854.868 1538.54 L860.725 1538.54 L860.725 1574.19 L854.868 1574.19 L854.868 1568.71 Q852.736 1571.96 849.903 1573.55 Q847.102 1575.11 843.378 1575.11 Q837.235 1575.11 834.052 1571.29 Q830.869 1567.47 830.869 1560.12 M845.606 1537.68 L845.606 1537.68 Z\" fill=\"#000000\" fill-rule=\"evenodd\" fill-opacity=\"1\" /><path clip-path=\"url(#clip320)\" d=\"M900.542 1545.38 Q902.738 1541.43 905.794 1539.56 Q908.849 1537.68 912.987 1537.68 Q918.557 1537.68 921.581 1541.59 Q924.604 1545.48 924.604 1552.67 L924.604 1574.19 L918.716 1574.19 L918.716 1552.86 Q918.716 1547.74 916.902 1545.25 Q915.088 1542.77 911.364 1542.77 Q906.812 1542.77 904.17 1545.79 Q901.529 1548.82 901.529 1554.04 L901.529 1574.19 L895.64 1574.19 L895.64 1552.86 Q895.64 1547.7 893.826 1545.25 Q892.012 1542.77 888.224 1542.77 Q883.737 1542.77 881.095 1545.83 Q878.453 1548.85 878.453 1554.04 L878.453 1574.19 L872.565 1574.19 L872.565 1538.54 L878.453 1538.54 L878.453 1544.08 Q880.458 1540.8 883.259 1539.24 Q886.06 1537.68 889.911 1537.68 Q893.794 1537.68 896.5 1539.65 Q899.237 1541.62 900.542 1545.38 Z\" fill=\"#000000\" fill-rule=\"evenodd\" fill-opacity=\"1\" /><path clip-path=\"url(#clip320)\" d=\"M961.876 1556.39 Q961.876 1549.93 959.202 1546.27 Q956.56 1542.58 951.913 1542.58 Q947.266 1542.58 944.593 1546.27 Q941.951 1549.93 941.951 1556.39 Q941.951 1562.85 944.593 1566.55 Q947.266 1570.21 951.913 1570.21 Q956.56 1570.21 959.202 1566.55 Q961.876 1562.85 961.876 1556.39 M941.951 1543.95 Q943.797 1540.77 946.598 1539.24 Q949.431 1537.68 953.346 1537.68 Q959.839 1537.68 963.881 1542.83 Q967.955 1547.99 967.955 1556.39 Q967.955 1564.8 963.881 1569.95 Q959.839 1575.11 953.346 1575.11 Q949.431 1575.11 946.598 1573.58 Q943.797 1572.02 941.951 1568.84 L941.951 1574.19 L936.063 1574.19 L936.063 1524.66 L941.951 1524.66 L941.951 1543.95 Z\" fill=\"#000000\" fill-rule=\"evenodd\" fill-opacity=\"1\" /><path clip-path=\"url(#clip320)\" d=\"M1008.15 1554.9 L1008.15 1557.76 L981.227 1557.76 Q981.609 1563.81 984.856 1566.99 Q988.134 1570.14 993.959 1570.14 Q997.333 1570.14 1000.48 1569.32 Q1003.67 1568.49 1006.79 1566.83 L1006.79 1572.37 Q1003.63 1573.71 1000.32 1574.41 Q997.014 1575.11 993.609 1575.11 Q985.079 1575.11 980.082 1570.14 Q975.116 1565.18 975.116 1556.71 Q975.116 1547.96 979.827 1542.83 Q984.569 1537.68 992.59 1537.68 Q999.783 1537.68 1003.95 1542.33 Q1008.15 1546.94 1008.15 1554.9 M1002.3 1553.18 Q1002.23 1548.37 999.592 1545.51 Q996.982 1542.64 992.654 1542.64 Q987.752 1542.64 984.792 1545.41 Q981.864 1548.18 981.418 1553.21 L1002.3 1553.18 Z\" fill=\"#000000\" fill-rule=\"evenodd\" fill-opacity=\"1\" /><path clip-path=\"url(#clip320)\" d=\"M1038.42 1544.01 Q1037.44 1543.44 1036.26 1543.18 Q1035.11 1542.9 1033.71 1542.9 Q1028.75 1542.9 1026.07 1546.14 Q1023.43 1549.36 1023.43 1555.41 L1023.43 1574.19 L1017.54 1574.19 L1017.54 1538.54 L1023.43 1538.54 L1023.43 1544.08 Q1025.28 1540.83 1028.24 1539.27 Q1031.2 1537.68 1035.43 1537.68 Q1036.04 1537.68 1036.77 1537.77 Q1037.5 1537.84 1038.39 1538 L1038.42 1544.01 Z\" fill=\"#000000\" fill-rule=\"evenodd\" fill-opacity=\"1\" /><path clip-path=\"url(#clip320)\" d=\"M1079.1 1542.64 Q1074.39 1542.64 1071.65 1546.34 Q1068.91 1550 1068.91 1556.39 Q1068.91 1562.79 1071.62 1566.48 Q1074.36 1570.14 1079.1 1570.14 Q1083.78 1570.14 1086.52 1566.45 Q1089.25 1562.76 1089.25 1556.39 Q1089.25 1550.06 1086.52 1546.37 Q1083.78 1542.64 1079.1 1542.64 M1079.1 1537.68 Q1086.74 1537.68 1091.1 1542.64 Q1095.46 1547.61 1095.46 1556.39 Q1095.46 1565.15 1091.1 1570.14 Q1086.74 1575.11 1079.1 1575.11 Q1071.43 1575.11 1067.07 1570.14 Q1062.74 1565.15 1062.74 1556.39 Q1062.74 1547.61 1067.07 1542.64 Q1071.43 1537.68 1079.1 1537.68 Z\" fill=\"#000000\" fill-rule=\"evenodd\" fill-opacity=\"1\" /><path clip-path=\"url(#clip320)\" d=\"M1123.21 1524.66 L1123.21 1529.53 L1117.61 1529.53 Q1114.46 1529.53 1113.22 1530.8 Q1112.01 1532.08 1112.01 1535.39 L1112.01 1538.54 L1121.65 1538.54 L1121.65 1543.09 L1112.01 1543.09 L1112.01 1574.19 L1106.12 1574.19 L1106.12 1543.09 L1100.52 1543.09 L1100.52 1538.54 L1106.12 1538.54 L1106.12 1536.05 Q1106.12 1530.1 1108.89 1527.4 Q1111.66 1524.66 1117.68 1524.66 L1123.21 1524.66 Z\" fill=\"#000000\" fill-rule=\"evenodd\" fill-opacity=\"1\" /><path clip-path=\"url(#clip320)\" d=\"M1155.52 1531.95 L1155.52 1549.8 L1163.6 1549.8 Q1168.09 1549.8 1170.54 1547.48 Q1172.99 1545.16 1172.99 1540.86 Q1172.99 1536.6 1170.54 1534.27 Q1168.09 1531.95 1163.6 1531.95 L1155.52 1531.95 M1149.09 1526.67 L1163.6 1526.67 Q1171.59 1526.67 1175.67 1530.29 Q1179.77 1533.89 1179.77 1540.86 Q1179.77 1547.9 1175.67 1551.49 Q1171.59 1555.09 1163.6 1555.09 L1155.52 1555.09 L1155.52 1574.19 L1149.09 1574.19 L1149.09 1526.67 Z\" fill=\"#000000\" fill-rule=\"evenodd\" fill-opacity=\"1\" /><path clip-path=\"url(#clip320)\" d=\"M1186.71 1538.54 L1192.57 1538.54 L1192.57 1574.19 L1186.71 1574.19 L1186.71 1538.54 M1186.71 1524.66 L1192.57 1524.66 L1192.57 1532.08 L1186.71 1532.08 L1186.71 1524.66 Z\" fill=\"#000000\" fill-rule=\"evenodd\" fill-opacity=\"1\" /><path clip-path=\"url(#clip320)\" d=\"M1225.48 1544.01 Q1224.49 1543.44 1223.32 1543.18 Q1222.17 1542.9 1220.77 1542.9 Q1215.8 1542.9 1213.13 1546.14 Q1210.49 1549.36 1210.49 1555.41 L1210.49 1574.19 L1204.6 1574.19 L1204.6 1538.54 L1210.49 1538.54 L1210.49 1544.08 Q1212.33 1540.83 1215.29 1539.27 Q1218.25 1537.68 1222.49 1537.68 Q1223.09 1537.68 1223.82 1537.77 Q1224.56 1537.84 1225.45 1538 L1225.48 1544.01 Z\" fill=\"#000000\" fill-rule=\"evenodd\" fill-opacity=\"1\" /><path clip-path=\"url(#clip320)\" d=\"M1247.82 1556.27 Q1240.73 1556.27 1237.99 1557.89 Q1235.25 1559.51 1235.25 1563.43 Q1235.25 1566.55 1237.29 1568.39 Q1239.36 1570.21 1242.89 1570.21 Q1247.76 1570.21 1250.69 1566.77 Q1253.65 1563.3 1253.65 1557.57 L1253.65 1556.27 L1247.82 1556.27 M1259.5 1553.85 L1259.5 1574.19 L1253.65 1574.19 L1253.65 1568.77 Q1251.64 1572.02 1248.65 1573.58 Q1245.66 1575.11 1241.33 1575.11 Q1235.86 1575.11 1232.61 1572.05 Q1229.39 1568.97 1229.39 1563.81 Q1229.39 1557.79 1233.4 1554.74 Q1237.45 1551.68 1245.44 1551.68 L1253.65 1551.68 L1253.65 1551.11 Q1253.65 1547.07 1250.97 1544.87 Q1248.33 1542.64 1243.53 1542.64 Q1240.47 1542.64 1237.57 1543.38 Q1234.68 1544.11 1232 1545.57 L1232 1540.16 Q1235.22 1538.92 1238.24 1538.31 Q1241.27 1537.68 1244.13 1537.68 Q1251.87 1537.68 1255.68 1541.69 Q1259.5 1545.7 1259.5 1553.85 Z\" fill=\"#000000\" fill-rule=\"evenodd\" fill-opacity=\"1\" /><path clip-path=\"url(#clip320)\" d=\"M1277.36 1528.42 L1277.36 1538.54 L1289.42 1538.54 L1289.42 1543.09 L1277.36 1543.09 L1277.36 1562.44 Q1277.36 1566.8 1278.54 1568.04 Q1279.75 1569.28 1283.41 1569.28 L1289.42 1569.28 L1289.42 1574.19 L1283.41 1574.19 Q1276.63 1574.19 1274.05 1571.67 Q1271.47 1569.12 1271.47 1562.44 L1271.47 1543.09 L1267.17 1543.09 L1267.17 1538.54 L1271.47 1538.54 L1271.47 1528.42 L1277.36 1528.42 Z\" fill=\"#000000\" fill-rule=\"evenodd\" fill-opacity=\"1\" /><path clip-path=\"url(#clip320)\" d=\"M1327.62 1554.9 L1327.62 1557.76 L1300.69 1557.76 Q1301.07 1563.81 1304.32 1566.99 Q1307.6 1570.14 1313.42 1570.14 Q1316.8 1570.14 1319.95 1569.32 Q1323.13 1568.49 1326.25 1566.83 L1326.25 1572.37 Q1323.1 1573.71 1319.79 1574.41 Q1316.48 1575.11 1313.07 1575.11 Q1304.54 1575.11 1299.54 1570.14 Q1294.58 1565.18 1294.58 1556.71 Q1294.58 1547.96 1299.29 1542.83 Q1304.03 1537.68 1312.05 1537.68 Q1319.25 1537.68 1323.42 1542.33 Q1327.62 1546.94 1327.62 1554.9 M1321.76 1553.18 Q1321.7 1548.37 1319.06 1545.51 Q1316.45 1542.64 1312.12 1542.64 Q1307.22 1542.64 1304.26 1545.41 Q1301.33 1548.18 1300.88 1553.21 L1321.76 1553.18 Z\" fill=\"#000000\" fill-rule=\"evenodd\" fill-opacity=\"1\" /><path clip-path=\"url(#clip320)\" d=\"M1359.96 1539.59 L1359.96 1545.13 Q1357.47 1543.85 1354.8 1543.22 Q1352.13 1542.58 1349.26 1542.58 Q1344.9 1542.58 1342.7 1543.92 Q1340.54 1545.25 1340.54 1547.93 Q1340.54 1549.96 1342.1 1551.14 Q1343.66 1552.29 1348.37 1553.34 L1350.37 1553.78 Q1356.61 1555.12 1359.22 1557.57 Q1361.86 1559.99 1361.86 1564.35 Q1361.86 1569.32 1357.92 1572.21 Q1354 1575.11 1347.13 1575.11 Q1344.26 1575.11 1341.14 1574.54 Q1338.06 1573.99 1334.62 1572.88 L1334.62 1566.83 Q1337.87 1568.52 1341.02 1569.38 Q1344.17 1570.21 1347.26 1570.21 Q1351.39 1570.21 1353.62 1568.81 Q1355.85 1567.37 1355.85 1564.8 Q1355.85 1562.41 1354.23 1561.14 Q1352.63 1559.86 1347.19 1558.68 L1345.15 1558.21 Q1339.71 1557.06 1337.29 1554.71 Q1334.87 1552.32 1334.87 1548.18 Q1334.87 1543.15 1338.44 1540.42 Q1342 1537.68 1348.56 1537.68 Q1351.81 1537.68 1354.67 1538.16 Q1357.54 1538.63 1359.96 1539.59 Z\" fill=\"#000000\" fill-rule=\"evenodd\" fill-opacity=\"1\" /><path clip-path=\"url(#clip320)\" d=\"M1391.37 1524.66 L1404.87 1524.66 L1404.87 1529.21 L1397.23 1529.21 L1397.23 1578.23 L1404.87 1578.23 L1404.87 1582.78 L1391.37 1582.78 L1391.37 1524.66 Z\" fill=\"#000000\" fill-rule=\"evenodd\" fill-opacity=\"1\" /><path clip-path=\"url(#clip320)\" d=\"M1433.48 1533 L1424.76 1556.65 L1442.23 1556.65 L1433.48 1533 M1429.85 1526.67 L1437.14 1526.67 L1455.25 1574.19 L1448.57 1574.19 L1444.24 1562 L1422.82 1562 L1418.49 1574.19 L1411.71 1574.19 L1429.85 1526.67 Z\" fill=\"#000000\" fill-rule=\"evenodd\" fill-opacity=\"1\" /><path clip-path=\"url(#clip320)\" d=\"M1467.6 1568.84 L1467.6 1587.74 L1461.71 1587.74 L1461.71 1538.54 L1467.6 1538.54 L1467.6 1543.95 Q1469.45 1540.77 1472.25 1539.24 Q1475.08 1537.68 1478.99 1537.68 Q1485.49 1537.68 1489.53 1542.83 Q1493.6 1547.99 1493.6 1556.39 Q1493.6 1564.8 1489.53 1569.95 Q1485.49 1575.11 1478.99 1575.11 Q1475.08 1575.11 1472.25 1573.58 Q1469.45 1572.02 1467.6 1568.84 M1487.52 1556.39 Q1487.52 1549.93 1484.85 1546.27 Q1482.21 1542.58 1477.56 1542.58 Q1472.91 1542.58 1470.24 1546.27 Q1467.6 1549.93 1467.6 1556.39 Q1467.6 1562.85 1470.24 1566.55 Q1472.91 1570.21 1477.56 1570.21 Q1482.21 1570.21 1484.85 1566.55 Q1487.52 1562.85 1487.52 1556.39 Z\" fill=\"#000000\" fill-rule=\"evenodd\" fill-opacity=\"1\" /><path clip-path=\"url(#clip320)\" d=\"M1508.98 1568.84 L1508.98 1587.74 L1503.09 1587.74 L1503.09 1538.54 L1508.98 1538.54 L1508.98 1543.95 Q1510.82 1540.77 1513.62 1539.24 Q1516.46 1537.68 1520.37 1537.68 Q1526.86 1537.68 1530.91 1542.83 Q1534.98 1547.99 1534.98 1556.39 Q1534.98 1564.8 1530.91 1569.95 Q1526.86 1575.11 1520.37 1575.11 Q1516.46 1575.11 1513.62 1573.58 Q1510.82 1572.02 1508.98 1568.84 M1528.9 1556.39 Q1528.9 1549.93 1526.23 1546.27 Q1523.59 1542.58 1518.94 1542.58 Q1514.29 1542.58 1511.62 1546.27 Q1508.98 1549.93 1508.98 1556.39 Q1508.98 1562.85 1511.62 1566.55 Q1514.29 1570.21 1518.94 1570.21 Q1523.59 1570.21 1526.23 1566.55 Q1528.9 1562.85 1528.9 1556.39 Z\" fill=\"#000000\" fill-rule=\"evenodd\" fill-opacity=\"1\" /><path clip-path=\"url(#clip320)\" d=\"M1565.34 1544.01 Q1564.36 1543.44 1563.18 1543.18 Q1562.03 1542.9 1560.63 1542.9 Q1555.67 1542.9 1553 1546.14 Q1550.35 1549.36 1550.35 1555.41 L1550.35 1574.19 L1544.47 1574.19 L1544.47 1538.54 L1550.35 1538.54 L1550.35 1544.08 Q1552.2 1540.83 1555.16 1539.27 Q1558.12 1537.68 1562.35 1537.68 Q1562.96 1537.68 1563.69 1537.77 Q1564.42 1537.84 1565.31 1538 L1565.34 1544.01 Z\" fill=\"#000000\" fill-rule=\"evenodd\" fill-opacity=\"1\" /><path clip-path=\"url(#clip320)\" d=\"M1583.87 1542.64 Q1579.16 1542.64 1576.42 1546.34 Q1573.68 1550 1573.68 1556.39 Q1573.68 1562.79 1576.39 1566.48 Q1579.13 1570.14 1583.87 1570.14 Q1588.55 1570.14 1591.28 1566.45 Q1594.02 1562.76 1594.02 1556.39 Q1594.02 1550.06 1591.28 1546.37 Q1588.55 1542.64 1583.87 1542.64 M1583.87 1537.68 Q1591.51 1537.68 1595.87 1542.64 Q1600.23 1547.61 1600.23 1556.39 Q1600.23 1565.15 1595.87 1570.14 Q1591.51 1575.11 1583.87 1575.11 Q1576.2 1575.11 1571.84 1570.14 Q1567.51 1565.15 1567.51 1556.39 Q1567.51 1547.61 1571.84 1542.64 Q1576.2 1537.68 1583.87 1537.68 Z\" fill=\"#000000\" fill-rule=\"evenodd\" fill-opacity=\"1\" /><path clip-path=\"url(#clip320)\" d=\"M1637.56 1538.54 L1624.67 1555.88 L1638.23 1574.19 L1631.33 1574.19 L1620.95 1560.18 L1610.57 1574.19 L1603.67 1574.19 L1617.51 1555.53 L1604.84 1538.54 L1611.75 1538.54 L1621.2 1551.24 L1630.66 1538.54 L1637.56 1538.54 Z\" fill=\"#000000\" fill-rule=\"evenodd\" fill-opacity=\"1\" /><path clip-path=\"url(#clip320)\" d=\"M1646.51 1538.54 L1652.36 1538.54 L1652.36 1574.19 L1646.51 1574.19 L1646.51 1538.54 M1646.51 1524.66 L1652.36 1524.66 L1652.36 1532.08 L1646.51 1532.08 L1646.51 1524.66 Z\" fill=\"#000000\" fill-rule=\"evenodd\" fill-opacity=\"1\" /><path clip-path=\"url(#clip320)\" d=\"M1692.37 1545.38 Q1694.57 1541.43 1697.62 1539.56 Q1700.68 1537.68 1704.82 1537.68 Q1710.39 1537.68 1713.41 1541.59 Q1716.43 1545.48 1716.43 1552.67 L1716.43 1574.19 L1710.55 1574.19 L1710.55 1552.86 Q1710.55 1547.74 1708.73 1545.25 Q1706.92 1542.77 1703.19 1542.77 Q1698.64 1542.77 1696 1545.79 Q1693.36 1548.82 1693.36 1554.04 L1693.36 1574.19 L1687.47 1574.19 L1687.47 1552.86 Q1687.47 1547.7 1685.66 1545.25 Q1683.84 1542.77 1680.05 1542.77 Q1675.57 1542.77 1672.93 1545.83 Q1670.28 1548.85 1670.28 1554.04 L1670.28 1574.19 L1664.39 1574.19 L1664.39 1538.54 L1670.28 1538.54 L1670.28 1544.08 Q1672.29 1540.8 1675.09 1539.24 Q1677.89 1537.68 1681.74 1537.68 Q1685.62 1537.68 1688.33 1539.65 Q1691.07 1541.62 1692.37 1545.38 Z\" fill=\"#000000\" fill-rule=\"evenodd\" fill-opacity=\"1\" /><path clip-path=\"url(#clip320)\" d=\"M1744.32 1556.27 Q1737.22 1556.27 1734.48 1557.89 Q1731.74 1559.51 1731.74 1563.43 Q1731.74 1566.55 1733.78 1568.39 Q1735.85 1570.21 1739.38 1570.21 Q1744.25 1570.21 1747.18 1566.77 Q1750.14 1563.3 1750.14 1557.57 L1750.14 1556.27 L1744.32 1556.27 M1756 1553.85 L1756 1574.19 L1750.14 1574.19 L1750.14 1568.77 Q1748.14 1572.02 1745.14 1573.58 Q1742.15 1575.11 1737.82 1575.11 Q1732.35 1575.11 1729.1 1572.05 Q1725.89 1568.97 1725.89 1563.81 Q1725.89 1557.79 1729.9 1554.74 Q1733.94 1551.68 1741.93 1551.68 L1750.14 1551.68 L1750.14 1551.11 Q1750.14 1547.07 1747.47 1544.87 Q1744.83 1542.64 1740.02 1542.64 Q1736.96 1542.64 1734.07 1543.38 Q1731.17 1544.11 1728.5 1545.57 L1728.5 1540.16 Q1731.71 1538.92 1734.74 1538.31 Q1737.76 1537.68 1740.62 1537.68 Q1748.36 1537.68 1752.18 1541.69 Q1756 1545.7 1756 1553.85 Z\" fill=\"#000000\" fill-rule=\"evenodd\" fill-opacity=\"1\" /><path clip-path=\"url(#clip320)\" d=\"M1773.85 1528.42 L1773.85 1538.54 L1785.92 1538.54 L1785.92 1543.09 L1773.85 1543.09 L1773.85 1562.44 Q1773.85 1566.8 1775.03 1568.04 Q1776.24 1569.28 1779.9 1569.28 L1785.92 1569.28 L1785.92 1574.19 L1779.9 1574.19 Q1773.12 1574.19 1770.54 1571.67 Q1767.97 1569.12 1767.97 1562.44 L1767.97 1543.09 L1763.67 1543.09 L1763.67 1538.54 L1767.97 1538.54 L1767.97 1528.42 L1773.85 1528.42 Z\" fill=\"#000000\" fill-rule=\"evenodd\" fill-opacity=\"1\" /><path clip-path=\"url(#clip320)\" d=\"M1824.11 1554.9 L1824.11 1557.76 L1797.18 1557.76 Q1797.57 1563.81 1800.81 1566.99 Q1804.09 1570.14 1809.92 1570.14 Q1813.29 1570.14 1816.44 1569.32 Q1819.62 1568.49 1822.74 1566.83 L1822.74 1572.37 Q1819.59 1573.71 1816.28 1574.41 Q1812.97 1575.11 1809.56 1575.11 Q1801.03 1575.11 1796.04 1570.14 Q1791.07 1565.18 1791.07 1556.71 Q1791.07 1547.96 1795.78 1542.83 Q1800.53 1537.68 1808.55 1537.68 Q1815.74 1537.68 1819.91 1542.33 Q1824.11 1546.94 1824.11 1554.9 M1818.25 1553.18 Q1818.19 1548.37 1815.55 1545.51 Q1812.94 1542.64 1808.61 1542.64 Q1803.71 1542.64 1800.75 1545.41 Q1797.82 1548.18 1797.37 1553.21 L1818.25 1553.18 Z\" fill=\"#000000\" fill-rule=\"evenodd\" fill-opacity=\"1\" /><path clip-path=\"url(#clip320)\" d=\"M1847.41 1524.66 L1847.41 1582.78 L1833.91 1582.78 L1833.91 1578.23 L1841.52 1578.23 L1841.52 1529.21 L1833.91 1529.21 L1833.91 1524.66 L1847.41 1524.66 Z\" fill=\"#000000\" fill-rule=\"evenodd\" fill-opacity=\"1\" /><polyline clip-path=\"url(#clip322)\" style=\"stroke:#000000; stroke-linecap:butt; stroke-linejoin:round; stroke-width:2; stroke-opacity:0.1; fill:none\" points=\"\n  277.621,1287.71 2352.76,1287.71 \n  \"/>\n<polyline clip-path=\"url(#clip322)\" style=\"stroke:#000000; stroke-linecap:butt; stroke-linejoin:round; stroke-width:2; stroke-opacity:0.1; fill:none\" points=\"\n  277.621,1070.82 2352.76,1070.82 \n  \"/>\n<polyline clip-path=\"url(#clip322)\" style=\"stroke:#000000; stroke-linecap:butt; stroke-linejoin:round; stroke-width:2; stroke-opacity:0.1; fill:none\" points=\"\n  277.621,853.938 2352.76,853.938 \n  \"/>\n<polyline clip-path=\"url(#clip322)\" style=\"stroke:#000000; stroke-linecap:butt; stroke-linejoin:round; stroke-width:2; stroke-opacity:0.1; fill:none\" points=\"\n  277.621,637.054 2352.76,637.054 \n  \"/>\n<polyline clip-path=\"url(#clip322)\" style=\"stroke:#000000; stroke-linecap:butt; stroke-linejoin:round; stroke-width:2; stroke-opacity:0.1; fill:none\" points=\"\n  277.621,420.17 2352.76,420.17 \n  \"/>\n<polyline clip-path=\"url(#clip322)\" style=\"stroke:#000000; stroke-linecap:butt; stroke-linejoin:round; stroke-width:2; stroke-opacity:0.1; fill:none\" points=\"\n  277.621,203.286 2352.76,203.286 \n  \"/>\n<polyline clip-path=\"url(#clip320)\" style=\"stroke:#000000; stroke-linecap:butt; stroke-linejoin:round; stroke-width:4; stroke-opacity:1; fill:none\" points=\"\n  277.621,1410.9 277.621,123.472 \n  \"/>\n<polyline clip-path=\"url(#clip320)\" style=\"stroke:#000000; stroke-linecap:butt; stroke-linejoin:round; stroke-width:4; stroke-opacity:1; fill:none\" points=\"\n  277.621,1287.71 296.518,1287.71 \n  \"/>\n<polyline clip-path=\"url(#clip320)\" style=\"stroke:#000000; stroke-linecap:butt; stroke-linejoin:round; stroke-width:4; stroke-opacity:1; fill:none\" points=\"\n  277.621,1070.82 296.518,1070.82 \n  \"/>\n<polyline clip-path=\"url(#clip320)\" style=\"stroke:#000000; stroke-linecap:butt; stroke-linejoin:round; stroke-width:4; stroke-opacity:1; fill:none\" points=\"\n  277.621,853.938 296.518,853.938 \n  \"/>\n<polyline clip-path=\"url(#clip320)\" style=\"stroke:#000000; stroke-linecap:butt; stroke-linejoin:round; stroke-width:4; stroke-opacity:1; fill:none\" points=\"\n  277.621,637.054 296.518,637.054 \n  \"/>\n<polyline clip-path=\"url(#clip320)\" style=\"stroke:#000000; stroke-linecap:butt; stroke-linejoin:round; stroke-width:4; stroke-opacity:1; fill:none\" points=\"\n  277.621,420.17 296.518,420.17 \n  \"/>\n<polyline clip-path=\"url(#clip320)\" style=\"stroke:#000000; stroke-linecap:butt; stroke-linejoin:round; stroke-width:4; stroke-opacity:1; fill:none\" points=\"\n  277.621,203.286 296.518,203.286 \n  \"/>\n<path clip-path=\"url(#clip320)\" d=\"M114.931 1301.05 L122.57 1301.05 L122.57 1274.69 L114.26 1276.35 L114.26 1272.09 L122.524 1270.43 L127.2 1270.43 L127.2 1301.05 L134.839 1301.05 L134.839 1304.99 L114.931 1304.99 L114.931 1301.05 Z\" fill=\"#000000\" fill-rule=\"evenodd\" fill-opacity=\"1\" /><path clip-path=\"url(#clip320)\" d=\"M157.13 1274.5 L145.325 1292.95 L157.13 1292.95 L157.13 1274.5 M155.903 1270.43 L161.783 1270.43 L161.783 1292.95 L166.714 1292.95 L166.714 1296.84 L161.783 1296.84 L161.783 1304.99 L157.13 1304.99 L157.13 1296.84 L141.529 1296.84 L141.529 1292.32 L155.903 1270.43 Z\" fill=\"#000000\" fill-rule=\"evenodd\" fill-opacity=\"1\" /><path clip-path=\"url(#clip320)\" d=\"M174.445 1299.11 L179.329 1299.11 L179.329 1304.99 L174.445 1304.99 L174.445 1299.11 Z\" fill=\"#000000\" fill-rule=\"evenodd\" fill-opacity=\"1\" /><path clip-path=\"url(#clip320)\" d=\"M189.561 1270.43 L207.917 1270.43 L207.917 1274.36 L193.843 1274.36 L193.843 1282.83 Q194.862 1282.49 195.88 1282.32 Q196.899 1282.14 197.917 1282.14 Q203.704 1282.14 207.084 1285.31 Q210.463 1288.48 210.463 1293.9 Q210.463 1299.48 206.991 1302.58 Q203.519 1305.66 197.2 1305.66 Q195.024 1305.66 192.755 1305.29 Q190.51 1304.92 188.102 1304.18 L188.102 1299.48 Q190.186 1300.61 192.408 1301.17 Q194.63 1301.72 197.107 1301.72 Q201.112 1301.72 203.449 1299.62 Q205.787 1297.51 205.787 1293.9 Q205.787 1290.29 203.449 1288.18 Q201.112 1286.07 197.107 1286.07 Q195.232 1286.07 193.357 1286.49 Q191.505 1286.91 189.561 1287.79 L189.561 1270.43 Z\" fill=\"#000000\" fill-rule=\"evenodd\" fill-opacity=\"1\" /><path clip-path=\"url(#clip320)\" d=\"M229.676 1273.51 Q226.065 1273.51 224.236 1277.07 Q222.431 1280.61 222.431 1287.74 Q222.431 1294.85 224.236 1298.41 Q226.065 1301.95 229.676 1301.95 Q233.31 1301.95 235.116 1298.41 Q236.945 1294.85 236.945 1287.74 Q236.945 1280.61 235.116 1277.07 Q233.31 1273.51 229.676 1273.51 M229.676 1269.8 Q235.486 1269.8 238.542 1274.41 Q241.621 1278.99 241.621 1287.74 Q241.621 1296.47 238.542 1301.07 Q235.486 1305.66 229.676 1305.66 Q223.866 1305.66 220.787 1301.07 Q217.732 1296.47 217.732 1287.74 Q217.732 1278.99 220.787 1274.41 Q223.866 1269.8 229.676 1269.8 Z\" fill=\"#000000\" fill-rule=\"evenodd\" fill-opacity=\"1\" /><path clip-path=\"url(#clip320)\" d=\"M115.927 1084.17 L123.566 1084.17 L123.566 1057.8 L115.256 1059.47 L115.256 1055.21 L123.519 1053.54 L128.195 1053.54 L128.195 1084.17 L135.834 1084.17 L135.834 1088.1 L115.927 1088.1 L115.927 1084.17 Z\" fill=\"#000000\" fill-rule=\"evenodd\" fill-opacity=\"1\" /><path clip-path=\"url(#clip320)\" d=\"M158.126 1057.62 L146.32 1076.07 L158.126 1076.07 L158.126 1057.62 M156.899 1053.54 L162.778 1053.54 L162.778 1076.07 L167.709 1076.07 L167.709 1079.95 L162.778 1079.95 L162.778 1088.1 L158.126 1088.1 L158.126 1079.95 L142.524 1079.95 L142.524 1075.44 L156.899 1053.54 Z\" fill=\"#000000\" fill-rule=\"evenodd\" fill-opacity=\"1\" /><path clip-path=\"url(#clip320)\" d=\"M175.44 1082.22 L180.325 1082.22 L180.325 1088.1 L175.44 1088.1 L175.44 1082.22 Z\" fill=\"#000000\" fill-rule=\"evenodd\" fill-opacity=\"1\" /><path clip-path=\"url(#clip320)\" d=\"M189.329 1053.54 L211.551 1053.54 L211.551 1055.53 L199.005 1088.1 L194.121 1088.1 L205.926 1057.48 L189.329 1057.48 L189.329 1053.54 Z\" fill=\"#000000\" fill-rule=\"evenodd\" fill-opacity=\"1\" /><path clip-path=\"url(#clip320)\" d=\"M220.718 1053.54 L239.074 1053.54 L239.074 1057.48 L225 1057.48 L225 1065.95 Q226.019 1065.6 227.037 1065.44 Q228.056 1065.26 229.074 1065.26 Q234.861 1065.26 238.241 1068.43 Q241.621 1071.6 241.621 1077.01 Q241.621 1082.59 238.148 1085.69 Q234.676 1088.77 228.357 1088.77 Q226.181 1088.77 223.912 1088.4 Q221.667 1088.03 219.26 1087.29 L219.26 1082.59 Q221.343 1083.73 223.565 1084.28 Q225.787 1084.84 228.264 1084.84 Q232.269 1084.84 234.607 1082.73 Q236.945 1080.63 236.945 1077.01 Q236.945 1073.4 234.607 1071.3 Q232.269 1069.19 228.264 1069.19 Q226.389 1069.19 224.514 1069.61 Q222.662 1070.02 220.718 1070.9 L220.718 1053.54 Z\" fill=\"#000000\" fill-rule=\"evenodd\" fill-opacity=\"1\" /><path clip-path=\"url(#clip320)\" d=\"M114.931 867.283 L122.57 867.283 L122.57 840.917 L114.26 842.584 L114.26 838.325 L122.524 836.658 L127.2 836.658 L127.2 867.283 L134.839 867.283 L134.839 871.218 L114.931 871.218 L114.931 867.283 Z\" fill=\"#000000\" fill-rule=\"evenodd\" fill-opacity=\"1\" /><path clip-path=\"url(#clip320)\" d=\"M144.329 836.658 L162.686 836.658 L162.686 840.593 L148.612 840.593 L148.612 849.065 Q149.63 848.718 150.649 848.556 Q151.667 848.371 152.686 848.371 Q158.473 848.371 161.852 851.542 Q165.232 854.714 165.232 860.13 Q165.232 865.709 161.76 868.811 Q158.288 871.889 151.968 871.889 Q149.792 871.889 147.524 871.519 Q145.279 871.149 142.871 870.408 L142.871 865.709 Q144.954 866.843 147.177 867.399 Q149.399 867.954 151.876 867.954 Q155.88 867.954 158.218 865.848 Q160.556 863.741 160.556 860.13 Q160.556 856.519 158.218 854.413 Q155.88 852.306 151.876 852.306 Q150.001 852.306 148.126 852.723 Q146.274 853.139 144.329 854.019 L144.329 836.658 Z\" fill=\"#000000\" fill-rule=\"evenodd\" fill-opacity=\"1\" /><path clip-path=\"url(#clip320)\" d=\"M174.445 865.338 L179.329 865.338 L179.329 871.218 L174.445 871.218 L174.445 865.338 Z\" fill=\"#000000\" fill-rule=\"evenodd\" fill-opacity=\"1\" /><path clip-path=\"url(#clip320)\" d=\"M199.514 839.737 Q195.903 839.737 194.075 843.302 Q192.269 846.843 192.269 853.973 Q192.269 861.079 194.075 864.644 Q195.903 868.186 199.514 868.186 Q203.149 868.186 204.954 864.644 Q206.783 861.079 206.783 853.973 Q206.783 846.843 204.954 843.302 Q203.149 839.737 199.514 839.737 M199.514 836.033 Q205.324 836.033 208.38 840.64 Q211.459 845.223 211.459 853.973 Q211.459 862.7 208.38 867.306 Q205.324 871.889 199.514 871.889 Q193.704 871.889 190.625 867.306 Q187.57 862.7 187.57 853.973 Q187.57 845.223 190.625 840.64 Q193.704 836.033 199.514 836.033 Z\" fill=\"#000000\" fill-rule=\"evenodd\" fill-opacity=\"1\" /><path clip-path=\"url(#clip320)\" d=\"M229.676 839.737 Q226.065 839.737 224.236 843.302 Q222.431 846.843 222.431 853.973 Q222.431 861.079 224.236 864.644 Q226.065 868.186 229.676 868.186 Q233.31 868.186 235.116 864.644 Q236.945 861.079 236.945 853.973 Q236.945 846.843 235.116 843.302 Q233.31 839.737 229.676 839.737 M229.676 836.033 Q235.486 836.033 238.542 840.64 Q241.621 845.223 241.621 853.973 Q241.621 862.7 238.542 867.306 Q235.486 871.889 229.676 871.889 Q223.866 871.889 220.787 867.306 Q217.732 862.7 217.732 853.973 Q217.732 845.223 220.787 840.64 Q223.866 836.033 229.676 836.033 Z\" fill=\"#000000\" fill-rule=\"evenodd\" fill-opacity=\"1\" /><path clip-path=\"url(#clip320)\" d=\"M115.927 650.399 L123.566 650.399 L123.566 624.033 L115.256 625.7 L115.256 621.441 L123.519 619.774 L128.195 619.774 L128.195 650.399 L135.834 650.399 L135.834 654.334 L115.927 654.334 L115.927 650.399 Z\" fill=\"#000000\" fill-rule=\"evenodd\" fill-opacity=\"1\" /><path clip-path=\"url(#clip320)\" d=\"M145.325 619.774 L163.681 619.774 L163.681 623.709 L149.607 623.709 L149.607 632.181 Q150.626 631.834 151.644 631.672 Q152.663 631.487 153.681 631.487 Q159.468 631.487 162.848 634.658 Q166.227 637.829 166.227 643.246 Q166.227 648.825 162.755 651.926 Q159.283 655.005 152.964 655.005 Q150.788 655.005 148.519 654.635 Q146.274 654.264 143.866 653.524 L143.866 648.825 Q145.95 649.959 148.172 650.514 Q150.394 651.07 152.871 651.07 Q156.876 651.07 159.214 648.964 Q161.552 646.857 161.552 643.246 Q161.552 639.635 159.214 637.528 Q156.876 635.422 152.871 635.422 Q150.996 635.422 149.121 635.839 Q147.269 636.255 145.325 637.135 L145.325 619.774 Z\" fill=\"#000000\" fill-rule=\"evenodd\" fill-opacity=\"1\" /><path clip-path=\"url(#clip320)\" d=\"M175.44 648.454 L180.325 648.454 L180.325 654.334 L175.44 654.334 L175.44 648.454 Z\" fill=\"#000000\" fill-rule=\"evenodd\" fill-opacity=\"1\" /><path clip-path=\"url(#clip320)\" d=\"M194.538 650.399 L210.857 650.399 L210.857 654.334 L188.913 654.334 L188.913 650.399 Q191.575 647.644 196.158 643.014 Q200.764 638.362 201.945 637.019 Q204.19 634.496 205.07 632.76 Q205.973 631.001 205.973 629.311 Q205.973 626.556 204.028 624.82 Q202.107 623.084 199.005 623.084 Q196.806 623.084 194.352 623.848 Q191.922 624.612 189.144 626.163 L189.144 621.441 Q191.968 620.306 194.422 619.728 Q196.875 619.149 198.912 619.149 Q204.283 619.149 207.477 621.834 Q210.672 624.519 210.672 629.01 Q210.672 631.14 209.861 633.061 Q209.074 634.959 206.968 637.552 Q206.389 638.223 203.287 641.44 Q200.186 644.635 194.538 650.399 Z\" fill=\"#000000\" fill-rule=\"evenodd\" fill-opacity=\"1\" /><path clip-path=\"url(#clip320)\" d=\"M220.718 619.774 L239.074 619.774 L239.074 623.709 L225 623.709 L225 632.181 Q226.019 631.834 227.037 631.672 Q228.056 631.487 229.074 631.487 Q234.861 631.487 238.241 634.658 Q241.621 637.829 241.621 643.246 Q241.621 648.825 238.148 651.926 Q234.676 655.005 228.357 655.005 Q226.181 655.005 223.912 654.635 Q221.667 654.264 219.26 653.524 L219.26 648.825 Q221.343 649.959 223.565 650.514 Q225.787 651.07 228.264 651.07 Q232.269 651.07 234.607 648.964 Q236.945 646.857 236.945 643.246 Q236.945 639.635 234.607 637.528 Q232.269 635.422 228.264 635.422 Q226.389 635.422 224.514 635.839 Q222.662 636.255 220.718 637.135 L220.718 619.774 Z\" fill=\"#000000\" fill-rule=\"evenodd\" fill-opacity=\"1\" /><path clip-path=\"url(#clip320)\" d=\"M114.931 433.515 L122.57 433.515 L122.57 407.149 L114.26 408.816 L114.26 404.556 L122.524 402.89 L127.2 402.89 L127.2 433.515 L134.839 433.515 L134.839 437.45 L114.931 437.45 L114.931 433.515 Z\" fill=\"#000000\" fill-rule=\"evenodd\" fill-opacity=\"1\" /><path clip-path=\"url(#clip320)\" d=\"M144.329 402.89 L162.686 402.89 L162.686 406.825 L148.612 406.825 L148.612 415.297 Q149.63 414.95 150.649 414.788 Q151.667 414.603 152.686 414.603 Q158.473 414.603 161.852 417.774 Q165.232 420.945 165.232 426.362 Q165.232 431.94 161.76 435.042 Q158.288 438.121 151.968 438.121 Q149.792 438.121 147.524 437.751 Q145.279 437.38 142.871 436.64 L142.871 431.94 Q144.954 433.075 147.177 433.63 Q149.399 434.186 151.876 434.186 Q155.88 434.186 158.218 432.079 Q160.556 429.973 160.556 426.362 Q160.556 422.751 158.218 420.644 Q155.88 418.538 151.876 418.538 Q150.001 418.538 148.126 418.954 Q146.274 419.371 144.329 420.251 L144.329 402.89 Z\" fill=\"#000000\" fill-rule=\"evenodd\" fill-opacity=\"1\" /><path clip-path=\"url(#clip320)\" d=\"M174.445 431.57 L179.329 431.57 L179.329 437.45 L174.445 437.45 L174.445 431.57 Z\" fill=\"#000000\" fill-rule=\"evenodd\" fill-opacity=\"1\" /><path clip-path=\"url(#clip320)\" d=\"M189.561 402.89 L207.917 402.89 L207.917 406.825 L193.843 406.825 L193.843 415.297 Q194.862 414.95 195.88 414.788 Q196.899 414.603 197.917 414.603 Q203.704 414.603 207.084 417.774 Q210.463 420.945 210.463 426.362 Q210.463 431.94 206.991 435.042 Q203.519 438.121 197.2 438.121 Q195.024 438.121 192.755 437.751 Q190.51 437.38 188.102 436.64 L188.102 431.94 Q190.186 433.075 192.408 433.63 Q194.63 434.186 197.107 434.186 Q201.112 434.186 203.449 432.079 Q205.787 429.973 205.787 426.362 Q205.787 422.751 203.449 420.644 Q201.112 418.538 197.107 418.538 Q195.232 418.538 193.357 418.954 Q191.505 419.371 189.561 420.251 L189.561 402.89 Z\" fill=\"#000000\" fill-rule=\"evenodd\" fill-opacity=\"1\" /><path clip-path=\"url(#clip320)\" d=\"M229.676 405.968 Q226.065 405.968 224.236 409.533 Q222.431 413.075 222.431 420.204 Q222.431 427.311 224.236 430.876 Q226.065 434.417 229.676 434.417 Q233.31 434.417 235.116 430.876 Q236.945 427.311 236.945 420.204 Q236.945 413.075 235.116 409.533 Q233.31 405.968 229.676 405.968 M229.676 402.265 Q235.486 402.265 238.542 406.871 Q241.621 411.454 241.621 420.204 Q241.621 428.931 238.542 433.538 Q235.486 438.121 229.676 438.121 Q223.866 438.121 220.787 433.538 Q217.732 428.931 217.732 420.204 Q217.732 411.454 220.787 406.871 Q223.866 402.265 229.676 402.265 Z\" fill=\"#000000\" fill-rule=\"evenodd\" fill-opacity=\"1\" /><path clip-path=\"url(#clip320)\" d=\"M115.927 216.63 L123.566 216.63 L123.566 190.265 L115.256 191.931 L115.256 187.672 L123.519 186.006 L128.195 186.006 L128.195 216.63 L135.834 216.63 L135.834 220.566 L115.927 220.566 L115.927 216.63 Z\" fill=\"#000000\" fill-rule=\"evenodd\" fill-opacity=\"1\" /><path clip-path=\"url(#clip320)\" d=\"M145.325 186.006 L163.681 186.006 L163.681 189.941 L149.607 189.941 L149.607 198.413 Q150.626 198.066 151.644 197.904 Q152.663 197.718 153.681 197.718 Q159.468 197.718 162.848 200.89 Q166.227 204.061 166.227 209.478 Q166.227 215.056 162.755 218.158 Q159.283 221.237 152.964 221.237 Q150.788 221.237 148.519 220.866 Q146.274 220.496 143.866 219.755 L143.866 215.056 Q145.95 216.191 148.172 216.746 Q150.394 217.302 152.871 217.302 Q156.876 217.302 159.214 215.195 Q161.552 213.089 161.552 209.478 Q161.552 205.867 159.214 203.76 Q156.876 201.654 152.871 201.654 Q150.996 201.654 149.121 202.07 Q147.269 202.487 145.325 203.367 L145.325 186.006 Z\" fill=\"#000000\" fill-rule=\"evenodd\" fill-opacity=\"1\" /><path clip-path=\"url(#clip320)\" d=\"M175.44 214.686 L180.325 214.686 L180.325 220.566 L175.44 220.566 L175.44 214.686 Z\" fill=\"#000000\" fill-rule=\"evenodd\" fill-opacity=\"1\" /><path clip-path=\"url(#clip320)\" d=\"M189.329 186.006 L211.551 186.006 L211.551 187.996 L199.005 220.566 L194.121 220.566 L205.926 189.941 L189.329 189.941 L189.329 186.006 Z\" fill=\"#000000\" fill-rule=\"evenodd\" fill-opacity=\"1\" /><path clip-path=\"url(#clip320)\" d=\"M220.718 186.006 L239.074 186.006 L239.074 189.941 L225 189.941 L225 198.413 Q226.019 198.066 227.037 197.904 Q228.056 197.718 229.074 197.718 Q234.861 197.718 238.241 200.89 Q241.621 204.061 241.621 209.478 Q241.621 215.056 238.148 218.158 Q234.676 221.237 228.357 221.237 Q226.181 221.237 223.912 220.866 Q221.667 220.496 219.26 219.755 L219.26 215.056 Q221.343 216.191 223.565 216.746 Q225.787 217.302 228.264 217.302 Q232.269 217.302 234.607 215.195 Q236.945 213.089 236.945 209.478 Q236.945 205.867 234.607 203.76 Q232.269 201.654 228.264 201.654 Q226.389 201.654 224.514 202.07 Q222.662 202.487 220.718 203.367 L220.718 186.006 Z\" fill=\"#000000\" fill-rule=\"evenodd\" fill-opacity=\"1\" /><path clip-path=\"url(#clip320)\" d=\"M57.2247 1106.75 L44.4614 1106.75 L44.4614 1117.25 L39.1779 1117.25 L39.1779 1100.38 L59.58 1100.38 Q62.2218 1104.11 63.5904 1108.59 Q64.9272 1113.08 64.9272 1118.17 Q64.9272 1129.31 58.4342 1135.62 Q51.9093 1141.89 40.2919 1141.89 Q28.6427 1141.89 22.1496 1135.62 Q15.6248 1129.31 15.6248 1118.17 Q15.6248 1113.53 16.7706 1109.36 Q17.9164 1105.16 20.1444 1101.62 L26.9876 1101.62 Q23.9639 1105.19 22.4361 1109.2 Q20.9083 1113.21 20.9083 1117.63 Q20.9083 1126.35 25.7781 1130.75 Q30.6479 1135.11 40.2919 1135.11 Q49.9041 1135.11 54.7739 1130.75 Q59.6436 1126.35 59.6436 1117.63 Q59.6436 1114.23 59.0707 1111.55 Q58.466 1108.88 57.2247 1106.75 Z\" fill=\"#000000\" fill-rule=\"evenodd\" fill-opacity=\"1\" /><path clip-path=\"url(#clip320)\" d=\"M14.479 1088.89 L14.479 1083.03 L64.0042 1083.03 L64.0042 1088.89 L14.479 1088.89 Z\" fill=\"#000000\" fill-rule=\"evenodd\" fill-opacity=\"1\" /><path clip-path=\"url(#clip320)\" d=\"M32.4621 1056.97 Q32.4621 1061.68 36.1542 1064.42 Q39.8145 1067.15 46.212 1067.15 Q52.6095 1067.15 56.3017 1064.45 Q59.9619 1061.71 59.9619 1056.97 Q59.9619 1052.29 56.2698 1049.55 Q52.5777 1046.81 46.212 1046.81 Q39.8781 1046.81 36.186 1049.55 Q32.4621 1052.29 32.4621 1056.97 M27.4968 1056.97 Q27.4968 1049.33 32.4621 1044.97 Q37.4273 1040.61 46.212 1040.61 Q54.9649 1040.61 59.9619 1044.97 Q64.9272 1049.33 64.9272 1056.97 Q64.9272 1064.64 59.9619 1069 Q54.9649 1073.33 46.212 1073.33 Q37.4273 1073.33 32.4621 1069 Q27.4968 1064.64 27.4968 1056.97 Z\" fill=\"#000000\" fill-rule=\"evenodd\" fill-opacity=\"1\" /><path clip-path=\"url(#clip320)\" d=\"M46.212 1005.31 Q39.7508 1005.31 36.0905 1007.98 Q32.3984 1010.62 32.3984 1015.27 Q32.3984 1019.92 36.0905 1022.59 Q39.7508 1025.23 46.212 1025.23 Q52.6732 1025.23 56.3653 1022.59 Q60.0256 1019.92 60.0256 1015.27 Q60.0256 1010.62 56.3653 1007.98 Q52.6732 1005.31 46.212 1005.31 M33.7671 1025.23 Q30.5842 1023.39 29.0564 1020.59 Q27.4968 1017.75 27.4968 1013.84 Q27.4968 1007.35 32.6531 1003.3 Q37.8093 999.23 46.212 999.23 Q54.6147 999.23 59.771 1003.3 Q64.9272 1007.35 64.9272 1013.84 Q64.9272 1017.75 63.3994 1020.59 Q61.8398 1023.39 58.657 1025.23 L64.0042 1025.23 L64.0042 1031.12 L14.479 1031.12 L14.479 1025.23 L33.7671 1025.23 Z\" fill=\"#000000\" fill-rule=\"evenodd\" fill-opacity=\"1\" /><path clip-path=\"url(#clip320)\" d=\"M46.0847 973.322 Q46.0847 980.42 47.7079 983.157 Q49.3312 985.894 53.2461 985.894 Q56.3653 985.894 58.2114 983.857 Q60.0256 981.788 60.0256 978.255 Q60.0256 973.386 56.5881 970.457 Q53.1188 967.497 47.3897 967.497 L46.0847 967.497 L46.0847 973.322 M43.6657 961.641 L64.0042 961.641 L64.0042 967.497 L58.5933 967.497 Q61.8398 969.502 63.3994 972.494 Q64.9272 975.486 64.9272 979.815 Q64.9272 985.289 61.8716 988.536 Q58.7843 991.751 53.6281 991.751 Q47.6125 991.751 44.5569 987.74 Q41.5014 983.698 41.5014 975.709 L41.5014 967.497 L40.9285 967.497 Q36.8862 967.497 34.6901 970.171 Q32.4621 972.813 32.4621 977.619 Q32.4621 980.674 33.1941 983.571 Q33.9262 986.467 35.3903 989.141 L29.9795 989.141 Q28.7381 985.926 28.1334 982.902 Q27.4968 979.879 27.4968 977.014 Q27.4968 969.28 31.5072 965.46 Q35.5176 961.641 43.6657 961.641 Z\" fill=\"#000000\" fill-rule=\"evenodd\" fill-opacity=\"1\" /><path clip-path=\"url(#clip320)\" d=\"M14.479 949.578 L14.479 943.721 L64.0042 943.721 L64.0042 949.578 L14.479 949.578 Z\" fill=\"#000000\" fill-rule=\"evenodd\" fill-opacity=\"1\" /><path clip-path=\"url(#clip320)\" d=\"M16.4842 917.081 L16.4842 876.881 L21.895 876.881 L21.895 893.751 L64.0042 893.751 L64.0042 900.212 L21.895 900.212 L21.895 917.081 L16.4842 917.081 Z\" fill=\"#000000\" fill-rule=\"evenodd\" fill-opacity=\"1\" /><path clip-path=\"url(#clip320)\" d=\"M44.7161 851.514 L47.5806 851.514 L47.5806 878.441 Q53.6281 878.059 56.8109 874.813 Q59.9619 871.534 59.9619 865.71 Q59.9619 862.336 59.1344 859.185 Q58.3069 856.002 56.6518 852.883 L62.1899 852.883 Q63.5267 856.034 64.227 859.344 Q64.9272 862.654 64.9272 866.06 Q64.9272 874.59 59.9619 879.587 Q54.9967 884.552 46.5303 884.552 Q37.7774 884.552 32.6531 879.841 Q27.4968 875.099 27.4968 867.078 Q27.4968 859.885 32.1438 855.715 Q36.7589 851.514 44.7161 851.514 M42.9973 857.371 Q38.1912 857.434 35.3266 860.076 Q32.4621 862.686 32.4621 867.015 Q32.4621 871.916 35.2312 874.876 Q38.0002 877.804 43.0292 878.25 L42.9973 857.371 Z\" fill=\"#000000\" fill-rule=\"evenodd\" fill-opacity=\"1\" /><path clip-path=\"url(#clip320)\" d=\"M35.1993 814.147 Q31.2526 811.951 29.3747 808.896 Q27.4968 805.84 27.4968 801.702 Q27.4968 796.132 31.4117 793.109 Q35.2948 790.085 42.4881 790.085 L64.0042 790.085 L64.0042 795.973 L42.679 795.973 Q37.5546 795.973 35.072 797.788 Q32.5894 799.602 32.5894 803.326 Q32.5894 807.877 35.6131 810.519 Q38.6368 813.161 43.8567 813.161 L64.0042 813.161 L64.0042 819.049 L42.679 819.049 Q37.5228 819.049 35.072 820.863 Q32.5894 822.677 32.5894 826.465 Q32.5894 830.953 35.6449 833.595 Q38.6686 836.236 43.8567 836.236 L64.0042 836.236 L64.0042 842.125 L28.3562 842.125 L28.3562 836.236 L33.8944 836.236 Q30.616 834.231 29.0564 831.43 Q27.4968 828.629 27.4968 824.778 Q27.4968 820.895 29.4702 818.19 Q31.4436 815.452 35.1993 814.147 Z\" fill=\"#000000\" fill-rule=\"evenodd\" fill-opacity=\"1\" /><path clip-path=\"url(#clip320)\" d=\"M58.657 772.738 L77.5631 772.738 L77.5631 778.627 L28.3562 778.627 L28.3562 772.738 L33.7671 772.738 Q30.5842 770.892 29.0564 768.091 Q27.4968 765.259 27.4968 761.344 Q27.4968 754.851 32.6531 750.809 Q37.8093 746.735 46.212 746.735 Q54.6147 746.735 59.771 750.809 Q64.9272 754.851 64.9272 761.344 Q64.9272 765.259 63.3994 768.091 Q61.8398 770.892 58.657 772.738 M46.212 752.814 Q39.7508 752.814 36.0905 755.487 Q32.3984 758.129 32.3984 762.776 Q32.3984 767.423 36.0905 770.097 Q39.7508 772.738 46.212 772.738 Q52.6732 772.738 56.3653 770.097 Q60.0256 767.423 60.0256 762.776 Q60.0256 758.129 56.3653 755.487 Q52.6732 752.814 46.212 752.814 Z\" fill=\"#000000\" fill-rule=\"evenodd\" fill-opacity=\"1\" /><path clip-path=\"url(#clip320)\" d=\"M44.7161 706.535 L47.5806 706.535 L47.5806 733.462 Q53.6281 733.08 56.8109 729.834 Q59.9619 726.555 59.9619 720.731 Q59.9619 717.357 59.1344 714.206 Q58.3069 711.023 56.6518 707.904 L62.1899 707.904 Q63.5267 711.055 64.227 714.365 Q64.9272 717.675 64.9272 721.081 Q64.9272 729.611 59.9619 734.608 Q54.9967 739.573 46.5303 739.573 Q37.7774 739.573 32.6531 734.863 Q27.4968 730.12 27.4968 722.099 Q27.4968 714.906 32.1438 710.736 Q36.7589 706.535 44.7161 706.535 M42.9973 712.392 Q38.1912 712.455 35.3266 715.097 Q32.4621 717.707 32.4621 722.036 Q32.4621 726.937 35.2312 729.897 Q38.0002 732.825 43.0292 733.271 L42.9973 712.392 Z\" fill=\"#000000\" fill-rule=\"evenodd\" fill-opacity=\"1\" /><path clip-path=\"url(#clip320)\" d=\"M33.8307 676.266 Q33.2578 677.253 33.0032 678.431 Q32.7167 679.576 32.7167 680.977 Q32.7167 685.942 35.9632 688.616 Q39.1779 691.257 45.2253 691.257 L64.0042 691.257 L64.0042 697.146 L28.3562 697.146 L28.3562 691.257 L33.8944 691.257 Q30.6479 689.411 29.0883 686.451 Q27.4968 683.491 27.4968 679.258 Q27.4968 678.653 27.5923 677.921 Q27.656 677.189 27.8151 676.298 L33.8307 676.266 Z\" fill=\"#000000\" fill-rule=\"evenodd\" fill-opacity=\"1\" /><path clip-path=\"url(#clip320)\" d=\"M46.0847 653.923 Q46.0847 661.02 47.7079 663.758 Q49.3312 666.495 53.2461 666.495 Q56.3653 666.495 58.2114 664.458 Q60.0256 662.389 60.0256 658.856 Q60.0256 653.986 56.5881 651.058 Q53.1188 648.098 47.3897 648.098 L46.0847 648.098 L46.0847 653.923 M43.6657 642.241 L64.0042 642.241 L64.0042 648.098 L58.5933 648.098 Q61.8398 650.103 63.3994 653.095 Q64.9272 656.087 64.9272 660.416 Q64.9272 665.89 61.8716 669.137 Q58.7843 672.351 53.6281 672.351 Q47.6125 672.351 44.5569 668.341 Q41.5014 664.299 41.5014 656.31 L41.5014 648.098 L40.9285 648.098 Q36.8862 648.098 34.6901 650.772 Q32.4621 653.413 32.4621 658.219 Q32.4621 661.275 33.1941 664.171 Q33.9262 667.068 35.3903 669.741 L29.9795 669.741 Q28.7381 666.527 28.1334 663.503 Q27.4968 660.479 27.4968 657.615 Q27.4968 649.88 31.5072 646.061 Q35.5176 642.241 43.6657 642.241 Z\" fill=\"#000000\" fill-rule=\"evenodd\" fill-opacity=\"1\" /><path clip-path=\"url(#clip320)\" d=\"M18.2347 624.386 L28.3562 624.386 L28.3562 612.323 L32.9077 612.323 L32.9077 624.386 L52.2594 624.386 Q56.6199 624.386 57.8613 623.208 Q59.1026 621.999 59.1026 618.338 L59.1026 612.323 L64.0042 612.323 L64.0042 618.338 Q64.0042 625.118 61.4897 627.696 Q58.9434 630.274 52.2594 630.274 L32.9077 630.274 L32.9077 634.571 L28.3562 634.571 L28.3562 630.274 L18.2347 630.274 L18.2347 624.386 Z\" fill=\"#000000\" fill-rule=\"evenodd\" fill-opacity=\"1\" /><path clip-path=\"url(#clip320)\" d=\"M49.9359 605.225 L28.3562 605.225 L28.3562 599.368 L49.7131 599.368 Q54.7739 599.368 57.3202 597.395 Q59.8346 595.422 59.8346 591.475 Q59.8346 586.733 56.8109 583.995 Q53.7872 581.226 48.5673 581.226 L28.3562 581.226 L28.3562 575.37 L64.0042 575.37 L64.0042 581.226 L58.5296 581.226 Q61.7762 583.359 63.3676 586.191 Q64.9272 588.992 64.9272 592.716 Q64.9272 598.859 61.1078 602.042 Q57.2883 605.225 49.9359 605.225 M27.4968 590.488 L27.4968 590.488 Z\" fill=\"#000000\" fill-rule=\"evenodd\" fill-opacity=\"1\" /><path clip-path=\"url(#clip320)\" d=\"M33.8307 542.65 Q33.2578 543.637 33.0032 544.814 Q32.7167 545.96 32.7167 547.361 Q32.7167 552.326 35.9632 554.999 Q39.1779 557.641 45.2253 557.641 L64.0042 557.641 L64.0042 563.53 L28.3562 563.53 L28.3562 557.641 L33.8944 557.641 Q30.6479 555.795 29.0883 552.835 Q27.4968 549.875 27.4968 545.642 Q27.4968 545.037 27.5923 544.305 Q27.656 543.573 27.8151 542.682 L33.8307 542.65 Z\" fill=\"#000000\" fill-rule=\"evenodd\" fill-opacity=\"1\" /><path clip-path=\"url(#clip320)\" d=\"M44.7161 507.448 L47.5806 507.448 L47.5806 534.375 Q53.6281 533.993 56.8109 530.746 Q59.9619 527.468 59.9619 521.643 Q59.9619 518.269 59.1344 515.118 Q58.3069 511.935 56.6518 508.816 L62.1899 508.816 Q63.5267 511.967 64.227 515.277 Q64.9272 518.588 64.9272 521.993 Q64.9272 530.523 59.9619 535.52 Q54.9967 540.486 46.5303 540.486 Q37.7774 540.486 32.6531 535.775 Q27.4968 531.033 27.4968 523.012 Q27.4968 515.819 32.1438 511.649 Q36.7589 507.448 44.7161 507.448 M42.9973 513.304 Q38.1912 513.368 35.3266 516.01 Q32.4621 518.619 32.4621 522.948 Q32.4621 527.85 35.2312 530.81 Q38.0002 533.738 43.0292 534.184 L42.9973 513.304 Z\" fill=\"#000000\" fill-rule=\"evenodd\" fill-opacity=\"1\" /><path clip-path=\"url(#clip320)\" d=\"M14.5426 463.047 Q21.8632 467.312 29.0246 469.381 Q36.186 471.45 43.5384 471.45 Q50.8908 471.45 58.1159 469.381 Q65.3091 467.28 72.5979 463.047 L72.5979 468.139 Q65.1182 472.914 57.8931 475.301 Q50.668 477.656 43.5384 477.656 Q36.4406 477.656 29.2474 475.301 Q22.0542 472.946 14.5426 468.139 L14.5426 463.047 Z\" fill=\"#000000\" fill-rule=\"evenodd\" fill-opacity=\"1\" /><path clip-path=\"url(#clip320)\" d=\"M20.1444 415.845 L26.9239 415.845 Q23.9002 419.092 22.4043 422.784 Q20.9083 426.444 20.9083 430.582 Q20.9083 438.73 25.9054 443.059 Q30.8707 447.387 40.2919 447.387 Q49.6813 447.387 54.6784 443.059 Q59.6436 438.73 59.6436 430.582 Q59.6436 426.444 58.1477 422.784 Q56.6518 419.092 53.6281 415.845 L60.3439 415.845 Q62.6355 419.219 63.7814 423.007 Q64.9272 426.762 64.9272 430.964 Q64.9272 441.754 58.3387 447.96 Q51.7183 454.167 40.2919 454.167 Q28.8336 454.167 22.2451 447.96 Q15.6248 441.754 15.6248 430.964 Q15.6248 426.699 16.7706 422.943 Q17.8846 419.155 20.1444 415.845 Z\" fill=\"#000000\" fill-rule=\"evenodd\" fill-opacity=\"1\" /><path clip-path=\"url(#clip320)\" d=\"M14.5426 407.092 L14.5426 402 Q22.0542 397.225 29.2474 394.87 Q36.4406 392.483 43.5384 392.483 Q50.668 392.483 57.8931 394.87 Q65.1182 397.225 72.5979 402 L72.5979 407.092 Q65.3091 402.859 58.1159 400.79 Q50.8908 398.69 43.5384 398.69 Q36.186 398.69 29.0246 400.79 Q21.8632 402.859 14.5426 407.092 Z\" fill=\"#000000\" fill-rule=\"evenodd\" fill-opacity=\"1\" /><path clip-path=\"url(#clip320)\" d=\"M311.597 12.096 L319.78 12.096 L319.78 72.576 L311.597 72.576 L311.597 12.096 Z\" fill=\"#000000\" fill-rule=\"evenodd\" fill-opacity=\"1\" /><path clip-path=\"url(#clip320)\" d=\"M373.454 45.1919 L373.454 72.576 L366.001 72.576 L366.001 45.4349 Q366.001 38.994 363.489 35.7938 Q360.978 32.5936 355.954 32.5936 Q349.919 32.5936 346.435 36.4419 Q342.951 40.2903 342.951 46.9338 L342.951 72.576 L335.457 72.576 L335.457 27.2059 L342.951 27.2059 L342.951 34.2544 Q345.625 30.163 349.23 28.1376 Q352.876 26.1121 357.615 26.1121 Q365.433 26.1121 369.444 30.9732 Q373.454 35.7938 373.454 45.1919 Z\" fill=\"#000000\" fill-rule=\"evenodd\" fill-opacity=\"1\" /><path clip-path=\"url(#clip320)\" d=\"M411.29 9.54393 L411.29 15.7418 L404.16 15.7418 Q400.15 15.7418 398.57 17.3622 Q397.031 18.9825 397.031 23.1955 L397.031 27.2059 L409.305 27.2059 L409.305 32.9987 L397.031 32.9987 L397.031 72.576 L389.536 72.576 L389.536 32.9987 L382.407 32.9987 L382.407 27.2059 L389.536 27.2059 L389.536 24.0462 Q389.536 16.471 393.061 13.0277 Q396.585 9.54393 404.241 9.54393 L411.29 9.54393 Z\" fill=\"#000000\" fill-rule=\"evenodd\" fill-opacity=\"1\" /><path clip-path=\"url(#clip320)\" d=\"M417.528 9.54393 L424.982 9.54393 L424.982 72.576 L417.528 72.576 L417.528 9.54393 Z\" fill=\"#000000\" fill-rule=\"evenodd\" fill-opacity=\"1\" /><path clip-path=\"url(#clip320)\" d=\"M439.808 54.671 L439.808 27.2059 L447.262 27.2059 L447.262 54.3874 Q447.262 60.8284 449.773 64.0691 Q452.285 67.2693 457.308 67.2693 Q463.344 67.2693 466.828 63.421 Q470.352 59.5726 470.352 52.9291 L470.352 27.2059 L477.806 27.2059 L477.806 72.576 L470.352 72.576 L470.352 65.6084 Q467.638 69.7404 464.033 71.7658 Q460.468 73.7508 455.728 73.7508 Q447.91 73.7508 443.859 68.8897 Q439.808 64.0286 439.808 54.671 M458.564 26.1121 L458.564 26.1121 Z\" fill=\"#000000\" fill-rule=\"evenodd\" fill-opacity=\"1\" /><path clip-path=\"url(#clip320)\" d=\"M531.966 48.0275 L531.966 51.6733 L497.696 51.6733 Q498.182 59.3701 502.314 63.421 Q506.486 67.4314 513.899 67.4314 Q518.193 67.4314 522.203 66.3781 Q526.254 65.3249 530.224 63.2184 L530.224 70.267 Q526.214 71.9684 522.001 72.8596 Q517.788 73.7508 513.454 73.7508 Q502.597 73.7508 496.237 67.4314 Q489.918 61.1119 489.918 50.3365 Q489.918 39.1965 495.913 32.6746 Q501.949 26.1121 512.157 26.1121 Q521.312 26.1121 526.619 32.0264 Q531.966 37.9003 531.966 48.0275 M524.513 45.84 Q524.431 39.7232 521.069 36.0774 Q517.747 32.4315 512.238 32.4315 Q506 32.4315 502.233 35.9558 Q498.506 39.4801 497.939 45.8805 L524.513 45.84 Z\" fill=\"#000000\" fill-rule=\"evenodd\" fill-opacity=\"1\" /><path clip-path=\"url(#clip320)\" d=\"M581.914 45.1919 L581.914 72.576 L574.46 72.576 L574.46 45.4349 Q574.46 38.994 571.949 35.7938 Q569.437 32.5936 564.414 32.5936 Q558.378 32.5936 554.894 36.4419 Q551.411 40.2903 551.411 46.9338 L551.411 72.576 L543.916 72.576 L543.916 27.2059 L551.411 27.2059 L551.411 34.2544 Q554.084 30.163 557.689 28.1376 Q561.335 26.1121 566.075 26.1121 Q573.893 26.1121 577.903 30.9732 Q581.914 35.7938 581.914 45.1919 Z\" fill=\"#000000\" fill-rule=\"evenodd\" fill-opacity=\"1\" /><path clip-path=\"url(#clip320)\" d=\"M629.431 28.9478 L629.431 35.9153 Q626.271 34.1734 623.071 33.3227 Q619.911 32.4315 616.671 32.4315 Q609.419 32.4315 605.409 37.0496 Q601.399 41.6271 601.399 49.9314 Q601.399 58.2358 605.409 62.8538 Q609.419 67.4314 616.671 67.4314 Q619.911 67.4314 623.071 66.5807 Q626.271 65.6895 629.431 63.9476 L629.431 70.8341 Q626.312 72.2924 622.949 73.0216 Q619.628 73.7508 615.86 73.7508 Q605.612 73.7508 599.576 67.3098 Q593.54 60.8689 593.54 49.9314 Q593.54 38.832 599.616 32.472 Q605.733 26.1121 616.347 26.1121 Q619.79 26.1121 623.071 26.8413 Q626.352 27.5299 629.431 28.9478 Z\" fill=\"#000000\" fill-rule=\"evenodd\" fill-opacity=\"1\" /><path clip-path=\"url(#clip320)\" d=\"M681.201 48.0275 L681.201 51.6733 L646.931 51.6733 Q647.417 59.3701 651.549 63.421 Q655.721 67.4314 663.134 67.4314 Q667.428 67.4314 671.439 66.3781 Q675.49 65.3249 679.46 63.2184 L679.46 70.267 Q675.449 71.9684 671.236 72.8596 Q667.023 73.7508 662.689 73.7508 Q651.832 73.7508 645.473 67.4314 Q639.153 61.1119 639.153 50.3365 Q639.153 39.1965 645.148 32.6746 Q651.184 26.1121 661.393 26.1121 Q670.548 26.1121 675.854 32.0264 Q681.201 37.9003 681.201 48.0275 M673.748 45.84 Q673.667 39.7232 670.305 36.0774 Q666.983 32.4315 661.474 32.4315 Q655.235 32.4315 651.468 35.9558 Q647.741 39.4801 647.174 45.8805 L673.748 45.84 Z\" fill=\"#000000\" fill-rule=\"evenodd\" fill-opacity=\"1\" /><path clip-path=\"url(#clip320)\" d=\"M737.388 32.4315 Q731.392 32.4315 727.908 37.1306 Q724.425 41.7891 724.425 49.9314 Q724.425 58.0738 727.868 62.7728 Q731.352 67.4314 737.388 67.4314 Q743.342 67.4314 746.826 62.7323 Q750.31 58.0333 750.31 49.9314 Q750.31 41.8701 746.826 37.1711 Q743.342 32.4315 737.388 32.4315 M737.388 26.1121 Q747.11 26.1121 752.659 32.4315 Q758.209 38.7509 758.209 49.9314 Q758.209 61.0714 752.659 67.4314 Q747.11 73.7508 737.388 73.7508 Q727.625 73.7508 722.075 67.4314 Q716.566 61.0714 716.566 49.9314 Q716.566 38.7509 722.075 32.4315 Q727.625 26.1121 737.388 26.1121 Z\" fill=\"#000000\" fill-rule=\"evenodd\" fill-opacity=\"1\" /><path clip-path=\"url(#clip320)\" d=\"M793.533 9.54393 L793.533 15.7418 L786.403 15.7418 Q782.393 15.7418 780.813 17.3622 Q779.274 18.9825 779.274 23.1955 L779.274 27.2059 L791.548 27.2059 L791.548 32.9987 L779.274 32.9987 L779.274 72.576 L771.78 72.576 L771.78 32.9987 L764.65 32.9987 L764.65 27.2059 L771.78 27.2059 L771.78 24.0462 Q771.78 16.471 775.304 13.0277 Q778.828 9.54393 786.484 9.54393 L793.533 9.54393 Z\" fill=\"#000000\" fill-rule=\"evenodd\" fill-opacity=\"1\" /><path clip-path=\"url(#clip320)\" d=\"M833.353 65.7705 L833.353 89.8329 L825.859 89.8329 L825.859 27.2059 L833.353 27.2059 L833.353 34.0924 Q835.703 30.0415 839.268 28.0971 Q842.873 26.1121 847.856 26.1121 Q856.12 26.1121 861.264 32.6746 Q866.449 39.2371 866.449 49.9314 Q866.449 60.6258 861.264 67.1883 Q856.12 73.7508 847.856 73.7508 Q842.873 73.7508 839.268 71.8063 Q835.703 69.8214 833.353 65.7705 M858.712 49.9314 Q858.712 41.7081 855.309 37.0496 Q851.947 32.3505 846.033 32.3505 Q840.118 32.3505 836.716 37.0496 Q833.353 41.7081 833.353 49.9314 Q833.353 58.1548 836.716 62.8538 Q840.118 67.5124 846.033 67.5124 Q851.947 67.5124 855.309 62.8538 Q858.712 58.1548 858.712 49.9314 Z\" fill=\"#000000\" fill-rule=\"evenodd\" fill-opacity=\"1\" /><path clip-path=\"url(#clip320)\" d=\"M878.805 27.2059 L886.258 27.2059 L886.258 72.576 L878.805 72.576 L878.805 27.2059 M878.805 9.54393 L886.258 9.54393 L886.258 18.9825 L878.805 18.9825 L878.805 9.54393 Z\" fill=\"#000000\" fill-rule=\"evenodd\" fill-opacity=\"1\" /><path clip-path=\"url(#clip320)\" d=\"M928.145 34.1734 Q926.889 33.4443 925.39 33.1202 Q923.932 32.7556 922.149 32.7556 Q915.83 32.7556 912.427 36.8875 Q909.065 40.9789 909.065 48.6757 L909.065 72.576 L901.571 72.576 L901.571 27.2059 L909.065 27.2059 L909.065 34.2544 Q911.414 30.1225 915.182 28.1376 Q918.949 26.1121 924.337 26.1121 Q925.106 26.1121 926.038 26.2337 Q926.97 26.3147 928.104 26.5172 L928.145 34.1734 Z\" fill=\"#000000\" fill-rule=\"evenodd\" fill-opacity=\"1\" /><path clip-path=\"url(#clip320)\" d=\"M956.582 49.7694 Q947.548 49.7694 944.065 51.8354 Q940.581 53.9013 940.581 58.8839 Q940.581 62.8538 943.173 65.2034 Q945.807 67.5124 950.303 67.5124 Q956.501 67.5124 960.228 63.1374 Q963.995 58.7219 963.995 51.4303 L963.995 49.7694 L956.582 49.7694 M971.449 46.6907 L971.449 72.576 L963.995 72.576 L963.995 65.6895 Q961.443 69.8214 957.635 71.8063 Q953.827 73.7508 948.318 73.7508 Q941.351 73.7508 937.219 69.8619 Q933.127 65.9325 933.127 59.3701 Q933.127 51.7138 938.231 47.825 Q943.376 43.9361 953.544 43.9361 L963.995 43.9361 L963.995 43.2069 Q963.995 38.0623 960.592 35.2672 Q957.23 32.4315 951.113 32.4315 Q947.224 32.4315 943.538 33.3632 Q939.852 34.295 936.449 36.1584 L936.449 29.2718 Q940.54 27.692 944.389 26.9223 Q948.237 26.1121 951.883 26.1121 Q961.727 26.1121 966.588 31.2163 Q971.449 36.3204 971.449 46.6907 Z\" fill=\"#000000\" fill-rule=\"evenodd\" fill-opacity=\"1\" /><path clip-path=\"url(#clip320)\" d=\"M994.174 14.324 L994.174 27.2059 L1009.53 27.2059 L1009.53 32.9987 L994.174 32.9987 L994.174 57.6282 Q994.174 63.1779 995.673 64.7578 Q997.213 66.3376 1001.87 66.3376 L1009.53 66.3376 L1009.53 72.576 L1001.87 72.576 Q993.243 72.576 989.961 69.3758 Q986.68 66.1351 986.68 57.6282 L986.68 32.9987 L981.211 32.9987 L981.211 27.2059 L986.68 27.2059 L986.68 14.324 L994.174 14.324 Z\" fill=\"#000000\" fill-rule=\"evenodd\" fill-opacity=\"1\" /><path clip-path=\"url(#clip320)\" d=\"M1058.14 48.0275 L1058.14 51.6733 L1023.87 51.6733 Q1024.35 59.3701 1028.49 63.421 Q1032.66 67.4314 1040.07 67.4314 Q1044.37 67.4314 1048.38 66.3781 Q1052.43 65.3249 1056.4 63.2184 L1056.4 70.267 Q1052.39 71.9684 1048.17 72.8596 Q1043.96 73.7508 1039.63 73.7508 Q1028.77 73.7508 1022.41 67.4314 Q1016.09 61.1119 1016.09 50.3365 Q1016.09 39.1965 1022.09 32.6746 Q1028.12 26.1121 1038.33 26.1121 Q1047.48 26.1121 1052.79 32.0264 Q1058.14 37.9003 1058.14 48.0275 M1050.68 45.84 Q1050.6 39.7232 1047.24 36.0774 Q1043.92 32.4315 1038.41 32.4315 Q1032.17 32.4315 1028.4 35.9558 Q1024.68 39.4801 1024.11 45.8805 L1050.68 45.84 Z\" fill=\"#000000\" fill-rule=\"evenodd\" fill-opacity=\"1\" /><path clip-path=\"url(#clip320)\" d=\"M1103.95 65.7705 L1103.95 89.8329 L1096.46 89.8329 L1096.46 27.2059 L1103.95 27.2059 L1103.95 34.0924 Q1106.3 30.0415 1109.87 28.0971 Q1113.47 26.1121 1118.46 26.1121 Q1126.72 26.1121 1131.86 32.6746 Q1137.05 39.2371 1137.05 49.9314 Q1137.05 60.6258 1131.86 67.1883 Q1126.72 73.7508 1118.46 73.7508 Q1113.47 73.7508 1109.87 71.8063 Q1106.3 69.8214 1103.95 65.7705 M1129.31 49.9314 Q1129.31 41.7081 1125.91 37.0496 Q1122.55 32.3505 1116.63 32.3505 Q1110.72 32.3505 1107.32 37.0496 Q1103.95 41.7081 1103.95 49.9314 Q1103.95 58.1548 1107.32 62.8538 Q1110.72 67.5124 1116.63 67.5124 Q1122.55 67.5124 1125.91 62.8538 Q1129.31 58.1548 1129.31 49.9314 Z\" fill=\"#000000\" fill-rule=\"evenodd\" fill-opacity=\"1\" /><path clip-path=\"url(#clip320)\" d=\"M1166.99 32.4315 Q1160.99 32.4315 1157.51 37.1306 Q1154.02 41.7891 1154.02 49.9314 Q1154.02 58.0738 1157.47 62.7728 Q1160.95 67.4314 1166.99 67.4314 Q1172.94 67.4314 1176.42 62.7323 Q1179.91 58.0333 1179.91 49.9314 Q1179.91 41.8701 1176.42 37.1711 Q1172.94 32.4315 1166.99 32.4315 M1166.99 26.1121 Q1176.71 26.1121 1182.26 32.4315 Q1187.81 38.7509 1187.81 49.9314 Q1187.81 61.0714 1182.26 67.4314 Q1176.71 73.7508 1166.99 73.7508 Q1157.22 73.7508 1151.67 67.4314 Q1146.16 61.0714 1146.16 49.9314 Q1146.16 38.7509 1151.67 32.4315 Q1157.22 26.1121 1166.99 26.1121 Z\" fill=\"#000000\" fill-rule=\"evenodd\" fill-opacity=\"1\" /><path clip-path=\"url(#clip320)\" d=\"M1207.37 65.7705 L1207.37 89.8329 L1199.88 89.8329 L1199.88 27.2059 L1207.37 27.2059 L1207.37 34.0924 Q1209.72 30.0415 1213.29 28.0971 Q1216.89 26.1121 1221.88 26.1121 Q1230.14 26.1121 1235.28 32.6746 Q1240.47 39.2371 1240.47 49.9314 Q1240.47 60.6258 1235.28 67.1883 Q1230.14 73.7508 1221.88 73.7508 Q1216.89 73.7508 1213.29 71.8063 Q1209.72 69.8214 1207.37 65.7705 M1232.73 49.9314 Q1232.73 41.7081 1229.33 37.0496 Q1225.97 32.3505 1220.05 32.3505 Q1214.14 32.3505 1210.74 37.0496 Q1207.37 41.7081 1207.37 49.9314 Q1207.37 58.1548 1210.74 62.8538 Q1214.14 67.5124 1220.05 67.5124 Q1225.97 67.5124 1229.33 62.8538 Q1232.73 58.1548 1232.73 49.9314 Z\" fill=\"#000000\" fill-rule=\"evenodd\" fill-opacity=\"1\" /><path clip-path=\"url(#clip320)\" d=\"M1252.05 54.671 L1252.05 27.2059 L1259.51 27.2059 L1259.51 54.3874 Q1259.51 60.8284 1262.02 64.0691 Q1264.53 67.2693 1269.55 67.2693 Q1275.59 67.2693 1279.07 63.421 Q1282.6 59.5726 1282.6 52.9291 L1282.6 27.2059 L1290.05 27.2059 L1290.05 72.576 L1282.6 72.576 L1282.6 65.6084 Q1279.88 69.7404 1276.28 71.7658 Q1272.71 73.7508 1267.97 73.7508 Q1260.16 73.7508 1256.11 68.8897 Q1252.05 64.0286 1252.05 54.671 M1270.81 26.1121 L1270.81 26.1121 Z\" fill=\"#000000\" fill-rule=\"evenodd\" fill-opacity=\"1\" /><path clip-path=\"url(#clip320)\" d=\"M1305.41 9.54393 L1312.86 9.54393 L1312.86 72.576 L1305.41 72.576 L1305.41 9.54393 Z\" fill=\"#000000\" fill-rule=\"evenodd\" fill-opacity=\"1\" /><path clip-path=\"url(#clip320)\" d=\"M1349.07 49.7694 Q1340.04 49.7694 1336.56 51.8354 Q1333.07 53.9013 1333.07 58.8839 Q1333.07 62.8538 1335.67 65.2034 Q1338.3 67.5124 1342.8 67.5124 Q1348.99 67.5124 1352.72 63.1374 Q1356.49 58.7219 1356.49 51.4303 L1356.49 49.7694 L1349.07 49.7694 M1363.94 46.6907 L1363.94 72.576 L1356.49 72.576 L1356.49 65.6895 Q1353.94 69.8214 1350.13 71.8063 Q1346.32 73.7508 1340.81 73.7508 Q1333.84 73.7508 1329.71 69.8619 Q1325.62 65.9325 1325.62 59.3701 Q1325.62 51.7138 1330.72 47.825 Q1335.87 43.9361 1346.04 43.9361 L1356.49 43.9361 L1356.49 43.2069 Q1356.49 38.0623 1353.08 35.2672 Q1349.72 32.4315 1343.61 32.4315 Q1339.72 32.4315 1336.03 33.3632 Q1332.34 34.295 1328.94 36.1584 L1328.94 29.2718 Q1333.03 27.692 1336.88 26.9223 Q1340.73 26.1121 1344.38 26.1121 Q1354.22 26.1121 1359.08 31.2163 Q1363.94 36.3204 1363.94 46.6907 Z\" fill=\"#000000\" fill-rule=\"evenodd\" fill-opacity=\"1\" /><path clip-path=\"url(#clip320)\" d=\"M1386.67 14.324 L1386.67 27.2059 L1402.02 27.2059 L1402.02 32.9987 L1386.67 32.9987 L1386.67 57.6282 Q1386.67 63.1779 1388.17 64.7578 Q1389.7 66.3376 1394.36 66.3376 L1402.02 66.3376 L1402.02 72.576 L1394.36 72.576 Q1385.73 72.576 1382.45 69.3758 Q1379.17 66.1351 1379.17 57.6282 L1379.17 32.9987 L1373.7 32.9987 L1373.7 27.2059 L1379.17 27.2059 L1379.17 14.324 L1386.67 14.324 Z\" fill=\"#000000\" fill-rule=\"evenodd\" fill-opacity=\"1\" /><path clip-path=\"url(#clip320)\" d=\"M1411.82 27.2059 L1419.28 27.2059 L1419.28 72.576 L1411.82 72.576 L1411.82 27.2059 M1411.82 9.54393 L1419.28 9.54393 L1419.28 18.9825 L1411.82 18.9825 L1411.82 9.54393 Z\" fill=\"#000000\" fill-rule=\"evenodd\" fill-opacity=\"1\" /><path clip-path=\"url(#clip320)\" d=\"M1452.45 32.4315 Q1446.46 32.4315 1442.97 37.1306 Q1439.49 41.7891 1439.49 49.9314 Q1439.49 58.0738 1442.93 62.7728 Q1446.42 67.4314 1452.45 67.4314 Q1458.41 67.4314 1461.89 62.7323 Q1465.38 58.0333 1465.38 49.9314 Q1465.38 41.8701 1461.89 37.1711 Q1458.41 32.4315 1452.45 32.4315 M1452.45 26.1121 Q1462.18 26.1121 1467.73 32.4315 Q1473.27 38.7509 1473.27 49.9314 Q1473.27 61.0714 1467.73 67.4314 Q1462.18 73.7508 1452.45 73.7508 Q1442.69 73.7508 1437.14 67.4314 Q1431.63 61.0714 1431.63 49.9314 Q1431.63 38.7509 1437.14 32.4315 Q1442.69 26.1121 1452.45 26.1121 Z\" fill=\"#000000\" fill-rule=\"evenodd\" fill-opacity=\"1\" /><path clip-path=\"url(#clip320)\" d=\"M1523.34 45.1919 L1523.34 72.576 L1515.89 72.576 L1515.89 45.4349 Q1515.89 38.994 1513.38 35.7938 Q1510.87 32.5936 1505.84 32.5936 Q1499.81 32.5936 1496.32 36.4419 Q1492.84 40.2903 1492.84 46.9338 L1492.84 72.576 L1485.35 72.576 L1485.35 27.2059 L1492.84 27.2059 L1492.84 34.2544 Q1495.51 30.163 1499.12 28.1376 Q1502.77 26.1121 1507.5 26.1121 Q1515.32 26.1121 1519.33 30.9732 Q1523.34 35.7938 1523.34 45.1919 Z\" fill=\"#000000\" fill-rule=\"evenodd\" fill-opacity=\"1\" /><path clip-path=\"url(#clip320)\" d=\"M1582.16 32.4315 Q1576.17 32.4315 1572.68 37.1306 Q1569.2 41.7891 1569.2 49.9314 Q1569.2 58.0738 1572.64 62.7728 Q1576.13 67.4314 1582.16 67.4314 Q1588.12 67.4314 1591.6 62.7323 Q1595.09 58.0333 1595.09 49.9314 Q1595.09 41.8701 1591.6 37.1711 Q1588.12 32.4315 1582.16 32.4315 M1582.16 26.1121 Q1591.89 26.1121 1597.43 32.4315 Q1602.98 38.7509 1602.98 49.9314 Q1602.98 61.0714 1597.43 67.4314 Q1591.89 73.7508 1582.16 73.7508 Q1572.4 73.7508 1566.85 67.4314 Q1561.34 61.0714 1561.34 49.9314 Q1561.34 38.7509 1566.85 32.4315 Q1572.4 26.1121 1582.16 26.1121 Z\" fill=\"#000000\" fill-rule=\"evenodd\" fill-opacity=\"1\" /><path clip-path=\"url(#clip320)\" d=\"M1653.05 45.1919 L1653.05 72.576 L1645.6 72.576 L1645.6 45.4349 Q1645.6 38.994 1643.09 35.7938 Q1640.58 32.5936 1635.55 32.5936 Q1629.52 32.5936 1626.03 36.4419 Q1622.55 40.2903 1622.55 46.9338 L1622.55 72.576 L1615.06 72.576 L1615.06 27.2059 L1622.55 27.2059 L1622.55 34.2544 Q1625.22 30.163 1628.83 28.1376 Q1632.48 26.1121 1637.21 26.1121 Q1645.03 26.1121 1649.04 30.9732 Q1653.05 35.7938 1653.05 45.1919 Z\" fill=\"#000000\" fill-rule=\"evenodd\" fill-opacity=\"1\" /><path clip-path=\"url(#clip320)\" d=\"M1724.15 49.3643 Q1724.15 41.2625 1720.79 36.8065 Q1717.46 32.3505 1711.43 32.3505 Q1705.43 32.3505 1702.07 36.8065 Q1698.75 41.2625 1698.75 49.3643 Q1698.75 57.4256 1702.07 61.8816 Q1705.43 66.3376 1711.43 66.3376 Q1717.46 66.3376 1720.79 61.8816 Q1724.15 57.4256 1724.15 49.3643 M1731.6 66.9452 Q1731.6 78.5308 1726.46 84.1616 Q1721.31 89.8329 1710.7 89.8329 Q1706.77 89.8329 1703.29 89.2252 Q1699.8 88.6581 1696.52 87.4428 L1696.52 80.1917 Q1699.8 81.9741 1703 82.8248 Q1706.2 83.6755 1709.52 83.6755 Q1716.86 83.6755 1720.5 79.8271 Q1724.15 76.0193 1724.15 68.282 L1724.15 64.5957 Q1721.84 68.6061 1718.23 70.5911 Q1714.63 72.576 1709.6 72.576 Q1701.26 72.576 1696.16 66.2161 Q1691.05 59.8562 1691.05 49.3643 Q1691.05 38.832 1696.16 32.472 Q1701.26 26.1121 1709.6 26.1121 Q1714.63 26.1121 1718.23 28.0971 Q1721.84 30.082 1724.15 34.0924 L1724.15 27.2059 L1731.6 27.2059 L1731.6 66.9452 Z\" fill=\"#000000\" fill-rule=\"evenodd\" fill-opacity=\"1\" /><path clip-path=\"url(#clip320)\" d=\"M1746.95 9.54393 L1754.41 9.54393 L1754.41 72.576 L1746.95 72.576 L1746.95 9.54393 Z\" fill=\"#000000\" fill-rule=\"evenodd\" fill-opacity=\"1\" /><path clip-path=\"url(#clip320)\" d=\"M1787.58 32.4315 Q1781.59 32.4315 1778.11 37.1306 Q1774.62 41.7891 1774.62 49.9314 Q1774.62 58.0738 1778.06 62.7728 Q1781.55 67.4314 1787.58 67.4314 Q1793.54 67.4314 1797.02 62.7323 Q1800.51 58.0333 1800.51 49.9314 Q1800.51 41.8701 1797.02 37.1711 Q1793.54 32.4315 1787.58 32.4315 M1787.58 26.1121 Q1797.31 26.1121 1802.86 32.4315 Q1808.41 38.7509 1808.41 49.9314 Q1808.41 61.0714 1802.86 67.4314 Q1797.31 73.7508 1787.58 73.7508 Q1777.82 73.7508 1772.27 67.4314 Q1766.76 61.0714 1766.76 49.9314 Q1766.76 38.7509 1772.27 32.4315 Q1777.82 26.1121 1787.58 26.1121 Z\" fill=\"#000000\" fill-rule=\"evenodd\" fill-opacity=\"1\" /><path clip-path=\"url(#clip320)\" d=\"M1853.33 49.9314 Q1853.33 41.7081 1849.93 37.0496 Q1846.57 32.3505 1840.65 32.3505 Q1834.74 32.3505 1831.33 37.0496 Q1827.97 41.7081 1827.97 49.9314 Q1827.97 58.1548 1831.33 62.8538 Q1834.74 67.5124 1840.65 67.5124 Q1846.57 67.5124 1849.93 62.8538 Q1853.33 58.1548 1853.33 49.9314 M1827.97 34.0924 Q1830.32 30.0415 1833.89 28.0971 Q1837.49 26.1121 1842.47 26.1121 Q1850.74 26.1121 1855.88 32.6746 Q1861.07 39.2371 1861.07 49.9314 Q1861.07 60.6258 1855.88 67.1883 Q1850.74 73.7508 1842.47 73.7508 Q1837.49 73.7508 1833.89 71.8063 Q1830.32 69.8214 1827.97 65.7705 L1827.97 72.576 L1820.48 72.576 L1820.48 9.54393 L1827.97 9.54393 L1827.97 34.0924 Z\" fill=\"#000000\" fill-rule=\"evenodd\" fill-opacity=\"1\" /><path clip-path=\"url(#clip320)\" d=\"M1894.04 49.7694 Q1885.01 49.7694 1881.52 51.8354 Q1878.04 53.9013 1878.04 58.8839 Q1878.04 62.8538 1880.63 65.2034 Q1883.27 67.5124 1887.76 67.5124 Q1893.96 67.5124 1897.69 63.1374 Q1901.46 58.7219 1901.46 51.4303 L1901.46 49.7694 L1894.04 49.7694 M1908.91 46.6907 L1908.91 72.576 L1901.46 72.576 L1901.46 65.6895 Q1898.9 69.8214 1895.1 71.8063 Q1891.29 73.7508 1885.78 73.7508 Q1878.81 73.7508 1874.68 69.8619 Q1870.59 65.9325 1870.59 59.3701 Q1870.59 51.7138 1875.69 47.825 Q1880.84 43.9361 1891 43.9361 L1901.46 43.9361 L1901.46 43.2069 Q1901.46 38.0623 1898.05 35.2672 Q1894.69 32.4315 1888.57 32.4315 Q1884.68 32.4315 1881 33.3632 Q1877.31 34.295 1873.91 36.1584 L1873.91 29.2718 Q1878 27.692 1881.85 26.9223 Q1885.7 26.1121 1889.34 26.1121 Q1899.19 26.1121 1904.05 31.2163 Q1908.91 36.3204 1908.91 46.6907 Z\" fill=\"#000000\" fill-rule=\"evenodd\" fill-opacity=\"1\" /><path clip-path=\"url(#clip320)\" d=\"M1924.26 9.54393 L1931.72 9.54393 L1931.72 72.576 L1924.26 72.576 L1924.26 9.54393 Z\" fill=\"#000000\" fill-rule=\"evenodd\" fill-opacity=\"1\" /><path clip-path=\"url(#clip320)\" d=\"M1969.35 27.2059 L1976.8 27.2059 L1986.12 62.6108 L1995.4 27.2059 L2004.19 27.2059 L2013.5 62.6108 L2022.78 27.2059 L2030.23 27.2059 L2018.36 72.576 L2009.57 72.576 L1999.81 35.3887 L1990.01 72.576 L1981.22 72.576 L1969.35 27.2059 Z\" fill=\"#000000\" fill-rule=\"evenodd\" fill-opacity=\"1\" /><path clip-path=\"url(#clip320)\" d=\"M2062.15 49.7694 Q2053.12 49.7694 2049.64 51.8354 Q2046.15 53.9013 2046.15 58.8839 Q2046.15 62.8538 2048.75 65.2034 Q2051.38 67.5124 2055.88 67.5124 Q2062.07 67.5124 2065.8 63.1374 Q2069.57 58.7219 2069.57 51.4303 L2069.57 49.7694 L2062.15 49.7694 M2077.02 46.6907 L2077.02 72.576 L2069.57 72.576 L2069.57 65.6895 Q2067.02 69.8214 2063.21 71.8063 Q2059.4 73.7508 2053.89 73.7508 Q2046.92 73.7508 2042.79 69.8619 Q2038.7 65.9325 2038.7 59.3701 Q2038.7 51.7138 2043.8 47.825 Q2048.95 43.9361 2059.12 43.9361 L2069.57 43.9361 L2069.57 43.2069 Q2069.57 38.0623 2066.17 35.2672 Q2062.8 32.4315 2056.69 32.4315 Q2052.8 32.4315 2049.11 33.3632 Q2045.42 34.295 2042.02 36.1584 L2042.02 29.2718 Q2046.11 27.692 2049.96 26.9223 Q2053.81 26.1121 2057.46 26.1121 Q2067.3 26.1121 2072.16 31.2163 Q2077.02 36.3204 2077.02 46.6907 Z\" fill=\"#000000\" fill-rule=\"evenodd\" fill-opacity=\"1\" /><path clip-path=\"url(#clip320)\" d=\"M2118.66 34.1734 Q2117.41 33.4443 2115.91 33.1202 Q2114.45 32.7556 2112.67 32.7556 Q2106.35 32.7556 2102.95 36.8875 Q2099.59 40.9789 2099.59 48.6757 L2099.59 72.576 L2092.09 72.576 L2092.09 27.2059 L2099.59 27.2059 L2099.59 34.2544 Q2101.93 30.1225 2105.7 28.1376 Q2109.47 26.1121 2114.86 26.1121 Q2115.63 26.1121 2116.56 26.2337 Q2117.49 26.3147 2118.62 26.5172 L2118.66 34.1734 Z\" fill=\"#000000\" fill-rule=\"evenodd\" fill-opacity=\"1\" /><path clip-path=\"url(#clip320)\" d=\"M2160.35 35.9153 Q2163.14 30.8922 2167.03 28.5022 Q2170.92 26.1121 2176.19 26.1121 Q2183.28 26.1121 2187.13 31.0947 Q2190.97 36.0368 2190.97 45.1919 L2190.97 72.576 L2183.48 72.576 L2183.48 45.4349 Q2183.48 38.913 2181.17 35.7533 Q2178.86 32.5936 2174.12 32.5936 Q2168.33 32.5936 2164.97 36.4419 Q2161.6 40.2903 2161.6 46.9338 L2161.6 72.576 L2154.11 72.576 L2154.11 45.4349 Q2154.11 38.8725 2151.8 35.7533 Q2149.49 32.5936 2144.67 32.5936 Q2138.96 32.5936 2135.6 36.4824 Q2132.24 40.3308 2132.24 46.9338 L2132.24 72.576 L2124.74 72.576 L2124.74 27.2059 L2132.24 27.2059 L2132.24 34.2544 Q2134.79 30.082 2138.35 28.0971 Q2141.92 26.1121 2146.82 26.1121 Q2151.76 26.1121 2155.2 28.6237 Q2158.69 31.1352 2160.35 35.9153 Z\" fill=\"#000000\" fill-rule=\"evenodd\" fill-opacity=\"1\" /><path clip-path=\"url(#clip320)\" d=\"M2205.84 27.2059 L2213.29 27.2059 L2213.29 72.576 L2205.84 72.576 L2205.84 27.2059 M2205.84 9.54393 L2213.29 9.54393 L2213.29 18.9825 L2205.84 18.9825 L2205.84 9.54393 Z\" fill=\"#000000\" fill-rule=\"evenodd\" fill-opacity=\"1\" /><path clip-path=\"url(#clip320)\" d=\"M2266.6 45.1919 L2266.6 72.576 L2259.15 72.576 L2259.15 45.4349 Q2259.15 38.994 2256.64 35.7938 Q2254.13 32.5936 2249.1 32.5936 Q2243.07 32.5936 2239.58 36.4419 Q2236.1 40.2903 2236.1 46.9338 L2236.1 72.576 L2228.61 72.576 L2228.61 27.2059 L2236.1 27.2059 L2236.1 34.2544 Q2238.77 30.163 2242.38 28.1376 Q2246.03 26.1121 2250.76 26.1121 Q2258.58 26.1121 2262.59 30.9732 Q2266.6 35.7938 2266.6 45.1919 Z\" fill=\"#000000\" fill-rule=\"evenodd\" fill-opacity=\"1\" /><path clip-path=\"url(#clip320)\" d=\"M2311.33 49.3643 Q2311.33 41.2625 2307.96 36.8065 Q2304.64 32.3505 2298.61 32.3505 Q2292.61 32.3505 2289.25 36.8065 Q2285.93 41.2625 2285.93 49.3643 Q2285.93 57.4256 2289.25 61.8816 Q2292.61 66.3376 2298.61 66.3376 Q2304.64 66.3376 2307.96 61.8816 Q2311.33 57.4256 2311.33 49.3643 M2318.78 66.9452 Q2318.78 78.5308 2313.63 84.1616 Q2308.49 89.8329 2297.88 89.8329 Q2293.95 89.8329 2290.46 89.2252 Q2286.98 88.6581 2283.7 87.4428 L2283.7 80.1917 Q2286.98 81.9741 2290.18 82.8248 Q2293.38 83.6755 2296.7 83.6755 Q2304.03 83.6755 2307.68 79.8271 Q2311.33 76.0193 2311.33 68.282 L2311.33 64.5957 Q2309.02 68.6061 2305.41 70.5911 Q2301.81 72.576 2296.78 72.576 Q2288.44 72.576 2283.33 66.2161 Q2278.23 59.8562 2278.23 49.3643 Q2278.23 38.832 2283.33 32.472 Q2288.44 26.1121 2296.78 26.1121 Q2301.81 26.1121 2305.41 28.0971 Q2309.02 30.082 2311.33 34.0924 L2311.33 27.2059 L2318.78 27.2059 L2318.78 66.9452 Z\" fill=\"#000000\" fill-rule=\"evenodd\" fill-opacity=\"1\" /><polyline clip-path=\"url(#clip322)\" style=\"stroke:#009af9; stroke-linecap:butt; stroke-linejoin:round; stroke-width:4; stroke-opacity:1; fill:none\" points=\"\n  2294.03,1374.46 1206.02,1287.71 988.416,1027.45 553.213,680.431 353.019,420.17 336.351,159.909 \n  \"/>\n<circle clip-path=\"url(#clip322)\" cx=\"2294.03\" cy=\"1374.46\" r=\"14\" fill=\"#e26f46\" fill-rule=\"evenodd\" fill-opacity=\"1\" stroke=\"#000000\" stroke-opacity=\"1\" stroke-width=\"3.2\"/>\n<circle clip-path=\"url(#clip322)\" cx=\"1206.02\" cy=\"1287.71\" r=\"14\" fill=\"#e26f46\" fill-rule=\"evenodd\" fill-opacity=\"1\" stroke=\"#000000\" stroke-opacity=\"1\" stroke-width=\"3.2\"/>\n<circle clip-path=\"url(#clip322)\" cx=\"988.416\" cy=\"1027.45\" r=\"14\" fill=\"#e26f46\" fill-rule=\"evenodd\" fill-opacity=\"1\" stroke=\"#000000\" stroke-opacity=\"1\" stroke-width=\"3.2\"/>\n<circle clip-path=\"url(#clip322)\" cx=\"553.213\" cy=\"680.431\" r=\"14\" fill=\"#e26f46\" fill-rule=\"evenodd\" fill-opacity=\"1\" stroke=\"#000000\" stroke-opacity=\"1\" stroke-width=\"3.2\"/>\n<circle clip-path=\"url(#clip322)\" cx=\"353.019\" cy=\"420.17\" r=\"14\" fill=\"#e26f46\" fill-rule=\"evenodd\" fill-opacity=\"1\" stroke=\"#000000\" stroke-opacity=\"1\" stroke-width=\"3.2\"/>\n<circle clip-path=\"url(#clip322)\" cx=\"336.351\" cy=\"159.909\" r=\"14\" fill=\"#e26f46\" fill-rule=\"evenodd\" fill-opacity=\"1\" stroke=\"#000000\" stroke-opacity=\"1\" stroke-width=\"3.2\"/>\n<path clip-path=\"url(#clip320)\" d=\"\nM1914.03 321.906 L2283.58 321.906 L2283.58 166.386 L1914.03 166.386  Z\n  \" fill=\"#ffffff\" fill-rule=\"evenodd\" fill-opacity=\"1\"/>\n<polyline clip-path=\"url(#clip320)\" style=\"stroke:#000000; stroke-linecap:butt; stroke-linejoin:round; stroke-width:4; stroke-opacity:1; fill:none\" points=\"\n  1914.03,321.906 2283.58,321.906 2283.58,166.386 1914.03,166.386 1914.03,321.906 \n  \"/>\n<polyline clip-path=\"url(#clip320)\" style=\"stroke:#009af9; stroke-linecap:butt; stroke-linejoin:round; stroke-width:4; stroke-opacity:1; fill:none\" points=\"\n  1937.09,218.226 2075.43,218.226 \n  \"/>\n<path clip-path=\"url(#clip320)\" d=\"M2098.49 199.488 L2102.75 199.488 L2102.75 235.506 L2098.49 235.506 L2098.49 199.488 Z\" fill=\"#000000\" fill-rule=\"evenodd\" fill-opacity=\"1\" /><path clip-path=\"url(#clip320)\" d=\"M2111.66 209.58 L2115.92 209.58 L2115.92 235.506 L2111.66 235.506 L2111.66 209.58 M2111.66 199.488 L2115.92 199.488 L2115.92 204.881 L2111.66 204.881 L2111.66 199.488 Z\" fill=\"#000000\" fill-rule=\"evenodd\" fill-opacity=\"1\" /><path clip-path=\"url(#clip320)\" d=\"M2146.38 219.858 L2146.38 235.506 L2142.12 235.506 L2142.12 219.997 Q2142.12 216.317 2140.69 214.488 Q2139.25 212.659 2136.38 212.659 Q2132.93 212.659 2130.94 214.858 Q2128.95 217.057 2128.95 220.854 L2128.95 235.506 L2124.67 235.506 L2124.67 209.58 L2128.95 209.58 L2128.95 213.608 Q2130.48 211.27 2132.54 210.113 Q2134.62 208.955 2137.33 208.955 Q2141.8 208.955 2144.09 211.733 Q2146.38 214.488 2146.38 219.858 Z\" fill=\"#000000\" fill-rule=\"evenodd\" fill-opacity=\"1\" /><path clip-path=\"url(#clip320)\" d=\"M2177.05 221.479 L2177.05 223.562 L2157.47 223.562 Q2157.75 227.96 2160.11 230.275 Q2162.49 232.566 2166.73 232.566 Q2169.18 232.566 2171.48 231.965 Q2173.79 231.363 2176.06 230.159 L2176.06 234.187 Q2173.77 235.159 2171.36 235.668 Q2168.95 236.178 2166.48 236.178 Q2160.27 236.178 2156.64 232.566 Q2153.03 228.955 2153.03 222.798 Q2153.03 216.432 2156.45 212.705 Q2159.9 208.955 2165.73 208.955 Q2170.97 208.955 2174 212.335 Q2177.05 215.692 2177.05 221.479 M2172.8 220.229 Q2172.75 216.733 2170.83 214.65 Q2168.93 212.567 2165.78 212.567 Q2162.22 212.567 2160.06 214.58 Q2157.93 216.594 2157.61 220.252 L2172.8 220.229 Z\" fill=\"#000000\" fill-rule=\"evenodd\" fill-opacity=\"1\" /><circle clip-path=\"url(#clip320)\" cx=\"2006.26\" cy=\"270.066\" r=\"23\" fill=\"#e26f46\" fill-rule=\"evenodd\" fill-opacity=\"1\" stroke=\"#000000\" stroke-opacity=\"1\" stroke-width=\"5.12\"/>\n<path clip-path=\"url(#clip320)\" d=\"M2102.77 283.457 L2102.77 297.207 L2098.49 297.207 L2098.49 261.42 L2102.77 261.42 L2102.77 265.356 Q2104.11 263.041 2106.15 261.93 Q2108.21 260.795 2111.06 260.795 Q2115.78 260.795 2118.72 264.545 Q2121.68 268.295 2121.68 274.407 Q2121.68 280.518 2118.72 284.268 Q2115.78 288.018 2111.06 288.018 Q2108.21 288.018 2106.15 286.906 Q2104.11 285.772 2102.77 283.457 M2117.26 274.407 Q2117.26 269.707 2115.32 267.045 Q2113.4 264.36 2110.02 264.36 Q2106.64 264.36 2104.69 267.045 Q2102.77 269.707 2102.77 274.407 Q2102.77 279.106 2104.69 281.791 Q2106.64 284.453 2110.02 284.453 Q2113.4 284.453 2115.32 281.791 Q2117.26 279.106 2117.26 274.407 Z\" fill=\"#000000\" fill-rule=\"evenodd\" fill-opacity=\"1\" /><path clip-path=\"url(#clip320)\" d=\"M2138.79 264.407 Q2135.36 264.407 2133.37 267.092 Q2131.38 269.754 2131.38 274.407 Q2131.38 279.059 2133.35 281.744 Q2135.34 284.406 2138.79 284.406 Q2142.19 284.406 2144.18 281.721 Q2146.17 279.036 2146.17 274.407 Q2146.17 269.8 2144.18 267.115 Q2142.19 264.407 2138.79 264.407 M2138.79 260.795 Q2144.35 260.795 2147.52 264.407 Q2150.69 268.018 2150.69 274.407 Q2150.69 280.772 2147.52 284.406 Q2144.35 288.018 2138.79 288.018 Q2133.21 288.018 2130.04 284.406 Q2126.89 280.772 2126.89 274.407 Q2126.89 268.018 2130.04 264.407 Q2133.21 260.795 2138.79 260.795 Z\" fill=\"#000000\" fill-rule=\"evenodd\" fill-opacity=\"1\" /><path clip-path=\"url(#clip320)\" d=\"M2157.75 261.42 L2162.01 261.42 L2162.01 287.346 L2157.75 287.346 L2157.75 261.42 M2157.75 251.328 L2162.01 251.328 L2162.01 256.721 L2157.75 256.721 L2157.75 251.328 Z\" fill=\"#000000\" fill-rule=\"evenodd\" fill-opacity=\"1\" /><path clip-path=\"url(#clip320)\" d=\"M2192.47 271.698 L2192.47 287.346 L2188.21 287.346 L2188.21 271.837 Q2188.21 268.157 2186.78 266.328 Q2185.34 264.499 2182.47 264.499 Q2179.02 264.499 2177.03 266.698 Q2175.04 268.897 2175.04 272.694 L2175.04 287.346 L2170.76 287.346 L2170.76 261.42 L2175.04 261.42 L2175.04 265.448 Q2176.57 263.11 2178.63 261.953 Q2180.71 260.795 2183.42 260.795 Q2187.89 260.795 2190.18 263.573 Q2192.47 266.328 2192.47 271.698 Z\" fill=\"#000000\" fill-rule=\"evenodd\" fill-opacity=\"1\" /><path clip-path=\"url(#clip320)\" d=\"M2205.18 254.059 L2205.18 261.42 L2213.95 261.42 L2213.95 264.731 L2205.18 264.731 L2205.18 278.805 Q2205.18 281.976 2206.04 282.879 Q2206.92 283.781 2209.58 283.781 L2213.95 283.781 L2213.95 287.346 L2209.58 287.346 Q2204.65 287.346 2202.77 285.518 Q2200.9 283.666 2200.9 278.805 L2200.9 264.731 L2197.77 264.731 L2197.77 261.42 L2200.9 261.42 L2200.9 254.059 L2205.18 254.059 Z\" fill=\"#000000\" fill-rule=\"evenodd\" fill-opacity=\"1\" /><path clip-path=\"url(#clip320)\" d=\"M2236.08 262.184 L2236.08 266.212 Q2234.28 265.286 2232.33 264.823 Q2230.39 264.36 2228.3 264.36 Q2225.13 264.36 2223.54 265.333 Q2221.96 266.305 2221.96 268.249 Q2221.96 269.731 2223.1 270.587 Q2224.23 271.42 2227.66 272.184 L2229.11 272.508 Q2233.65 273.481 2235.55 275.263 Q2237.47 277.022 2237.47 280.194 Q2237.47 283.805 2234.6 285.911 Q2231.75 288.018 2226.75 288.018 Q2224.67 288.018 2222.4 287.601 Q2220.16 287.207 2217.66 286.397 L2217.66 281.999 Q2220.02 283.226 2222.31 283.851 Q2224.6 284.453 2226.85 284.453 Q2229.85 284.453 2231.48 283.434 Q2233.1 282.393 2233.1 280.518 Q2233.1 278.782 2231.92 277.856 Q2230.76 276.93 2226.8 276.073 L2225.32 275.726 Q2221.36 274.893 2219.6 273.18 Q2217.84 271.444 2217.84 268.434 Q2217.84 264.777 2220.43 262.786 Q2223.03 260.795 2227.79 260.795 Q2230.16 260.795 2232.24 261.143 Q2234.32 261.49 2236.08 262.184 Z\" fill=\"#000000\" fill-rule=\"evenodd\" fill-opacity=\"1\" /></svg>\n"
          },
          "metadata": {},
          "execution_count": 140
        }
      ]
    },
    {
      "cell_type": "markdown",
      "metadata": {
        "id": "_zWfIT265pQF"
      },
      "source": [
        "This still doesn't look quite right. The number of pirates has decreased since 1860, so reading the plot from left to right is like looking backwards in time rather than forwards. Let's flip the x axis to better see how pirate populations have caused global temperatures to change over time!"
      ]
    },
    {
      "cell_type": "code",
      "metadata": {
        "id": "kq9G7oOt5pQF",
        "colab": {
          "base_uri": "https://localhost:8080/",
          "height": 421
        },
        "outputId": "456a60f5-c9f7-4d50-f14e-6a70bd415d67"
      },
      "source": [
        "xflip!()"
      ],
      "execution_count": null,
      "outputs": [
        {
          "output_type": "execute_result",
          "data": {
            "image/svg+xml": "<?xml version=\"1.0\" encoding=\"utf-8\"?>\n<svg xmlns=\"http://www.w3.org/2000/svg\" xmlns:xlink=\"http://www.w3.org/1999/xlink\" width=\"600\" height=\"400\" viewBox=\"0 0 2400 1600\">\n<defs>\n  <clipPath id=\"clip360\">\n    <rect x=\"0\" y=\"0\" width=\"2400\" height=\"1600\"/>\n  </clipPath>\n</defs>\n<path clip-path=\"url(#clip360)\" d=\"\nM0 1600 L2400 1600 L2400 0 L0 0  Z\n  \" fill=\"#ffffff\" fill-rule=\"evenodd\" fill-opacity=\"1\"/>\n<defs>\n  <clipPath id=\"clip361\">\n    <rect x=\"480\" y=\"0\" width=\"1681\" height=\"1600\"/>\n  </clipPath>\n</defs>\n<path clip-path=\"url(#clip360)\" d=\"\nM277.621 1410.9 L2352.76 1410.9 L2352.76 123.472 L277.621 123.472  Z\n  \" fill=\"#ffffff\" fill-rule=\"evenodd\" fill-opacity=\"1\"/>\n<defs>\n  <clipPath id=\"clip362\">\n    <rect x=\"277\" y=\"123\" width=\"2076\" height=\"1288\"/>\n  </clipPath>\n</defs>\n<polyline clip-path=\"url(#clip362)\" style=\"stroke:#000000; stroke-linecap:butt; stroke-linejoin:round; stroke-width:2; stroke-opacity:0.1; fill:none\" points=\"\n  2294.77,1410.9 2294.77,123.472 \n  \"/>\n<polyline clip-path=\"url(#clip362)\" style=\"stroke:#000000; stroke-linecap:butt; stroke-linejoin:round; stroke-width:2; stroke-opacity:0.1; fill:none\" points=\"\n  1859.56,1410.9 1859.56,123.472 \n  \"/>\n<polyline clip-path=\"url(#clip362)\" style=\"stroke:#000000; stroke-linecap:butt; stroke-linejoin:round; stroke-width:2; stroke-opacity:0.1; fill:none\" points=\"\n  1424.36,1410.9 1424.36,123.472 \n  \"/>\n<polyline clip-path=\"url(#clip362)\" style=\"stroke:#000000; stroke-linecap:butt; stroke-linejoin:round; stroke-width:2; stroke-opacity:0.1; fill:none\" points=\"\n  989.156,1410.9 989.156,123.472 \n  \"/>\n<polyline clip-path=\"url(#clip362)\" style=\"stroke:#000000; stroke-linecap:butt; stroke-linejoin:round; stroke-width:2; stroke-opacity:0.1; fill:none\" points=\"\n  553.952,1410.9 553.952,123.472 \n  \"/>\n<polyline clip-path=\"url(#clip360)\" style=\"stroke:#000000; stroke-linecap:butt; stroke-linejoin:round; stroke-width:4; stroke-opacity:1; fill:none\" points=\"\n  2352.76,1410.9 277.621,1410.9 \n  \"/>\n<polyline clip-path=\"url(#clip360)\" style=\"stroke:#000000; stroke-linecap:butt; stroke-linejoin:round; stroke-width:4; stroke-opacity:1; fill:none\" points=\"\n  2294.77,1410.9 2294.77,1392 \n  \"/>\n<polyline clip-path=\"url(#clip360)\" style=\"stroke:#000000; stroke-linecap:butt; stroke-linejoin:round; stroke-width:4; stroke-opacity:1; fill:none\" points=\"\n  1859.56,1410.9 1859.56,1392 \n  \"/>\n<polyline clip-path=\"url(#clip360)\" style=\"stroke:#000000; stroke-linecap:butt; stroke-linejoin:round; stroke-width:4; stroke-opacity:1; fill:none\" points=\"\n  1424.36,1410.9 1424.36,1392 \n  \"/>\n<polyline clip-path=\"url(#clip360)\" style=\"stroke:#000000; stroke-linecap:butt; stroke-linejoin:round; stroke-width:4; stroke-opacity:1; fill:none\" points=\"\n  989.156,1410.9 989.156,1392 \n  \"/>\n<polyline clip-path=\"url(#clip360)\" style=\"stroke:#000000; stroke-linecap:butt; stroke-linejoin:round; stroke-width:4; stroke-opacity:1; fill:none\" points=\"\n  553.952,1410.9 553.952,1392 \n  \"/>\n<path clip-path=\"url(#clip360)\" d=\"M2294.77 1441.82 Q2291.15 1441.82 2289.33 1445.38 Q2287.52 1448.92 2287.52 1456.05 Q2287.52 1463.16 2289.33 1466.72 Q2291.15 1470.26 2294.77 1470.26 Q2298.4 1470.26 2300.21 1466.72 Q2302.03 1463.16 2302.03 1456.05 Q2302.03 1448.92 2300.21 1445.38 Q2298.4 1441.82 2294.77 1441.82 M2294.77 1438.11 Q2300.58 1438.11 2303.63 1442.72 Q2306.71 1447.3 2306.71 1456.05 Q2306.71 1464.78 2303.63 1469.38 Q2300.58 1473.97 2294.77 1473.97 Q2288.96 1473.97 2285.88 1469.38 Q2282.82 1464.78 2282.82 1456.05 Q2282.82 1447.3 2285.88 1442.72 Q2288.96 1438.11 2294.77 1438.11 Z\" fill=\"#000000\" fill-rule=\"evenodd\" fill-opacity=\"1\" /><path clip-path=\"url(#clip360)\" d=\"M1766.46 1485.02 L1774.1 1485.02 L1774.1 1458.66 L1765.79 1460.32 L1765.79 1456.06 L1774.05 1454.4 L1778.73 1454.4 L1778.73 1485.02 L1786.37 1485.02 L1786.37 1488.96 L1766.46 1488.96 L1766.46 1485.02 Z\" fill=\"#000000\" fill-rule=\"evenodd\" fill-opacity=\"1\" /><path clip-path=\"url(#clip360)\" d=\"M1795.81 1483.08 L1800.7 1483.08 L1800.7 1488.96 L1795.81 1488.96 L1795.81 1483.08 Z\" fill=\"#000000\" fill-rule=\"evenodd\" fill-opacity=\"1\" /><path clip-path=\"url(#clip360)\" d=\"M1820.88 1457.48 Q1817.27 1457.48 1815.44 1461.04 Q1813.64 1464.58 1813.64 1471.71 Q1813.64 1478.82 1815.44 1482.38 Q1817.27 1485.92 1820.88 1485.92 Q1824.52 1485.92 1826.32 1482.38 Q1828.15 1478.82 1828.15 1471.71 Q1828.15 1464.58 1826.32 1461.04 Q1824.52 1457.48 1820.88 1457.48 M1820.88 1453.77 Q1826.69 1453.77 1829.75 1458.38 Q1832.83 1462.96 1832.83 1471.71 Q1832.83 1480.44 1829.75 1485.04 Q1826.69 1489.63 1820.88 1489.63 Q1815.07 1489.63 1811.99 1485.04 Q1808.94 1480.44 1808.94 1471.71 Q1808.94 1462.96 1811.99 1458.38 Q1815.07 1453.77 1820.88 1453.77 Z\" fill=\"#000000\" fill-rule=\"evenodd\" fill-opacity=\"1\" /><path clip-path=\"url(#clip360)\" d=\"M1869.21 1463.49 L1858.64 1474.12 L1869.21 1484.7 L1866.46 1487.5 L1855.84 1476.87 L1845.21 1487.5 L1842.48 1484.7 L1853.03 1474.12 L1842.48 1463.49 L1845.21 1460.69 L1855.84 1471.32 L1866.46 1460.69 L1869.21 1463.49 Z\" fill=\"#000000\" fill-rule=\"evenodd\" fill-opacity=\"1\" /><path clip-path=\"url(#clip360)\" d=\"M1881.58 1485.02 L1889.21 1485.02 L1889.21 1458.66 L1880.9 1460.32 L1880.9 1456.06 L1889.17 1454.4 L1893.84 1454.4 L1893.84 1485.02 L1901.48 1485.02 L1901.48 1488.96 L1881.58 1488.96 L1881.58 1485.02 Z\" fill=\"#000000\" fill-rule=\"evenodd\" fill-opacity=\"1\" /><path clip-path=\"url(#clip360)\" d=\"M1920.93 1457.48 Q1917.32 1457.48 1915.49 1461.04 Q1913.68 1464.58 1913.68 1471.71 Q1913.68 1478.82 1915.49 1482.38 Q1917.32 1485.92 1920.93 1485.92 Q1924.56 1485.92 1926.37 1482.38 Q1928.2 1478.82 1928.2 1471.71 Q1928.2 1464.58 1926.37 1461.04 Q1924.56 1457.48 1920.93 1457.48 M1920.93 1453.77 Q1926.74 1453.77 1929.79 1458.38 Q1932.87 1462.96 1932.87 1471.71 Q1932.87 1480.44 1929.79 1485.04 Q1926.74 1489.63 1920.93 1489.63 Q1915.12 1489.63 1912.04 1485.04 Q1908.98 1480.44 1908.98 1471.71 Q1908.98 1462.96 1912.04 1458.38 Q1915.12 1453.77 1920.93 1453.77 Z\" fill=\"#000000\" fill-rule=\"evenodd\" fill-opacity=\"1\" /><path clip-path=\"url(#clip360)\" d=\"M1945.55 1436.78 L1935.96 1451.77 L1945.55 1451.77 L1945.55 1436.78 M1944.55 1433.47 L1949.33 1433.47 L1949.33 1451.77 L1953.33 1451.77 L1953.33 1454.93 L1949.33 1454.93 L1949.33 1461.55 L1945.55 1461.55 L1945.55 1454.93 L1932.87 1454.93 L1932.87 1451.26 L1944.55 1433.47 Z\" fill=\"#000000\" fill-rule=\"evenodd\" fill-opacity=\"1\" /><path clip-path=\"url(#clip360)\" d=\"M1335.34 1485.02 L1351.66 1485.02 L1351.66 1488.96 L1329.72 1488.96 L1329.72 1485.02 Q1332.38 1482.27 1336.96 1477.64 Q1341.57 1472.98 1342.75 1471.64 Q1345 1469.12 1345.88 1467.38 Q1346.78 1465.62 1346.78 1463.93 Q1346.78 1461.18 1344.83 1459.44 Q1342.91 1457.71 1339.81 1457.71 Q1337.61 1457.71 1335.16 1458.47 Q1332.73 1459.23 1329.95 1460.79 L1329.95 1456.06 Q1332.77 1454.93 1335.23 1454.35 Q1337.68 1453.77 1339.72 1453.77 Q1345.09 1453.77 1348.28 1456.46 Q1351.48 1459.14 1351.48 1463.63 Q1351.48 1465.76 1350.67 1467.68 Q1349.88 1469.58 1347.77 1472.17 Q1347.2 1472.85 1344.09 1476.06 Q1340.99 1479.26 1335.34 1485.02 Z\" fill=\"#000000\" fill-rule=\"evenodd\" fill-opacity=\"1\" /><path clip-path=\"url(#clip360)\" d=\"M1361.48 1483.08 L1366.36 1483.08 L1366.36 1488.96 L1361.48 1488.96 L1361.48 1483.08 Z\" fill=\"#000000\" fill-rule=\"evenodd\" fill-opacity=\"1\" /><path clip-path=\"url(#clip360)\" d=\"M1386.55 1457.48 Q1382.94 1457.48 1381.11 1461.04 Q1379.3 1464.58 1379.3 1471.71 Q1379.3 1478.82 1381.11 1482.38 Q1382.94 1485.92 1386.55 1485.92 Q1390.18 1485.92 1391.99 1482.38 Q1393.82 1478.82 1393.82 1471.71 Q1393.82 1464.58 1391.99 1461.04 Q1390.18 1457.48 1386.55 1457.48 M1386.55 1453.77 Q1392.36 1453.77 1395.41 1458.38 Q1398.49 1462.96 1398.49 1471.71 Q1398.49 1480.44 1395.41 1485.04 Q1392.36 1489.63 1386.55 1489.63 Q1380.74 1489.63 1377.66 1485.04 Q1374.6 1480.44 1374.6 1471.71 Q1374.6 1462.96 1377.66 1458.38 Q1380.74 1453.77 1386.55 1453.77 Z\" fill=\"#000000\" fill-rule=\"evenodd\" fill-opacity=\"1\" /><path clip-path=\"url(#clip360)\" d=\"M1434.88 1463.49 L1424.3 1474.12 L1434.88 1484.7 L1432.13 1487.5 L1421.5 1476.87 L1410.88 1487.5 L1408.14 1484.7 L1418.7 1474.12 L1408.14 1463.49 L1410.88 1460.69 L1421.5 1471.32 L1432.13 1460.69 L1434.88 1463.49 Z\" fill=\"#000000\" fill-rule=\"evenodd\" fill-opacity=\"1\" /><path clip-path=\"url(#clip360)\" d=\"M1447.24 1485.02 L1454.88 1485.02 L1454.88 1458.66 L1446.57 1460.32 L1446.57 1456.06 L1454.83 1454.4 L1459.51 1454.4 L1459.51 1485.02 L1467.15 1485.02 L1467.15 1488.96 L1447.24 1488.96 L1447.24 1485.02 Z\" fill=\"#000000\" fill-rule=\"evenodd\" fill-opacity=\"1\" /><path clip-path=\"url(#clip360)\" d=\"M1486.59 1457.48 Q1482.98 1457.48 1481.15 1461.04 Q1479.35 1464.58 1479.35 1471.71 Q1479.35 1478.82 1481.15 1482.38 Q1482.98 1485.92 1486.59 1485.92 Q1490.23 1485.92 1492.03 1482.38 Q1493.86 1478.82 1493.86 1471.71 Q1493.86 1464.58 1492.03 1461.04 Q1490.23 1457.48 1486.59 1457.48 M1486.59 1453.77 Q1492.4 1453.77 1495.46 1458.38 Q1498.54 1462.96 1498.54 1471.71 Q1498.54 1480.44 1495.46 1485.04 Q1492.4 1489.63 1486.59 1489.63 Q1480.78 1489.63 1477.7 1485.04 Q1474.65 1480.44 1474.65 1471.71 Q1474.65 1462.96 1477.7 1458.38 Q1480.78 1453.77 1486.59 1453.77 Z\" fill=\"#000000\" fill-rule=\"evenodd\" fill-opacity=\"1\" /><path clip-path=\"url(#clip360)\" d=\"M1511.21 1436.78 L1501.62 1451.77 L1511.21 1451.77 L1511.21 1436.78 M1510.22 1433.47 L1514.99 1433.47 L1514.99 1451.77 L1519 1451.77 L1519 1454.93 L1514.99 1454.93 L1514.99 1461.55 L1511.21 1461.55 L1511.21 1454.93 L1498.54 1454.93 L1498.54 1451.26 L1510.22 1433.47 Z\" fill=\"#000000\" fill-rule=\"evenodd\" fill-opacity=\"1\" /><path clip-path=\"url(#clip360)\" d=\"M910.209 1470.32 Q913.566 1471.04 915.441 1473.31 Q917.339 1475.58 917.339 1478.91 Q917.339 1484.03 913.82 1486.83 Q910.302 1489.63 903.821 1489.63 Q901.645 1489.63 899.33 1489.19 Q897.038 1488.77 894.584 1487.91 L894.584 1483.4 Q896.529 1484.54 898.844 1485.11 Q901.159 1485.69 903.682 1485.69 Q908.08 1485.69 910.371 1483.96 Q912.686 1482.22 912.686 1478.91 Q912.686 1475.85 910.533 1474.14 Q908.404 1472.41 904.584 1472.41 L900.557 1472.41 L900.557 1468.56 L904.77 1468.56 Q908.219 1468.56 910.047 1467.2 Q911.876 1465.81 911.876 1463.22 Q911.876 1460.55 909.978 1459.14 Q908.103 1457.71 904.584 1457.71 Q902.663 1457.71 900.464 1458.12 Q898.265 1458.54 895.626 1459.42 L895.626 1455.25 Q898.288 1454.51 900.603 1454.14 Q902.941 1453.77 905.001 1453.77 Q910.325 1453.77 913.427 1456.2 Q916.529 1458.61 916.529 1462.73 Q916.529 1465.6 914.885 1467.59 Q913.242 1469.56 910.209 1470.32 Z\" fill=\"#000000\" fill-rule=\"evenodd\" fill-opacity=\"1\" /><path clip-path=\"url(#clip360)\" d=\"M926.205 1483.08 L931.089 1483.08 L931.089 1488.96 L926.205 1488.96 L926.205 1483.08 Z\" fill=\"#000000\" fill-rule=\"evenodd\" fill-opacity=\"1\" /><path clip-path=\"url(#clip360)\" d=\"M951.274 1457.48 Q947.663 1457.48 945.834 1461.04 Q944.029 1464.58 944.029 1471.71 Q944.029 1478.82 945.834 1482.38 Q947.663 1485.92 951.274 1485.92 Q954.908 1485.92 956.714 1482.38 Q958.542 1478.82 958.542 1471.71 Q958.542 1464.58 956.714 1461.04 Q954.908 1457.48 951.274 1457.48 M951.274 1453.77 Q957.084 1453.77 960.14 1458.38 Q963.218 1462.96 963.218 1471.71 Q963.218 1480.44 960.14 1485.04 Q957.084 1489.63 951.274 1489.63 Q945.464 1489.63 942.385 1485.04 Q939.33 1480.44 939.33 1471.71 Q939.33 1462.96 942.385 1458.38 Q945.464 1453.77 951.274 1453.77 Z\" fill=\"#000000\" fill-rule=\"evenodd\" fill-opacity=\"1\" /><path clip-path=\"url(#clip360)\" d=\"M999.607 1463.49 L989.028 1474.12 L999.607 1484.7 L996.852 1487.5 L986.227 1476.87 L975.603 1487.5 L972.871 1484.7 L983.427 1474.12 L972.871 1463.49 L975.603 1460.69 L986.227 1471.32 L996.852 1460.69 L999.607 1463.49 Z\" fill=\"#000000\" fill-rule=\"evenodd\" fill-opacity=\"1\" /><path clip-path=\"url(#clip360)\" d=\"M1011.97 1485.02 L1019.61 1485.02 L1019.61 1458.66 L1011.3 1460.32 L1011.3 1456.06 L1019.56 1454.4 L1024.24 1454.4 L1024.24 1485.02 L1031.88 1485.02 L1031.88 1488.96 L1011.97 1488.96 L1011.97 1485.02 Z\" fill=\"#000000\" fill-rule=\"evenodd\" fill-opacity=\"1\" /><path clip-path=\"url(#clip360)\" d=\"M1051.32 1457.48 Q1047.71 1457.48 1045.88 1461.04 Q1044.07 1464.58 1044.07 1471.71 Q1044.07 1478.82 1045.88 1482.38 Q1047.71 1485.92 1051.32 1485.92 Q1054.95 1485.92 1056.76 1482.38 Q1058.59 1478.82 1058.59 1471.71 Q1058.59 1464.58 1056.76 1461.04 Q1054.95 1457.48 1051.32 1457.48 M1051.32 1453.77 Q1057.13 1453.77 1060.19 1458.38 Q1063.26 1462.96 1063.26 1471.71 Q1063.26 1480.44 1060.19 1485.04 Q1057.13 1489.63 1051.32 1489.63 Q1045.51 1489.63 1042.43 1485.04 Q1039.38 1480.44 1039.38 1471.71 Q1039.38 1462.96 1042.43 1458.38 Q1045.51 1453.77 1051.32 1453.77 Z\" fill=\"#000000\" fill-rule=\"evenodd\" fill-opacity=\"1\" /><path clip-path=\"url(#clip360)\" d=\"M1075.94 1436.78 L1066.35 1451.77 L1075.94 1451.77 L1075.94 1436.78 M1074.94 1433.47 L1079.72 1433.47 L1079.72 1451.77 L1083.73 1451.77 L1083.73 1454.93 L1079.72 1454.93 L1079.72 1461.55 L1075.94 1461.55 L1075.94 1454.93 L1063.26 1454.93 L1063.26 1451.26 L1074.94 1433.47 Z\" fill=\"#000000\" fill-rule=\"evenodd\" fill-opacity=\"1\" /><path clip-path=\"url(#clip360)\" d=\"M474.335 1458.47 L462.529 1476.92 L474.335 1476.92 L474.335 1458.47 M473.108 1454.4 L478.988 1454.4 L478.988 1476.92 L483.918 1476.92 L483.918 1480.81 L478.988 1480.81 L478.988 1488.96 L474.335 1488.96 L474.335 1480.81 L458.733 1480.81 L458.733 1476.29 L473.108 1454.4 Z\" fill=\"#000000\" fill-rule=\"evenodd\" fill-opacity=\"1\" /><path clip-path=\"url(#clip360)\" d=\"M491.65 1483.08 L496.534 1483.08 L496.534 1488.96 L491.65 1488.96 L491.65 1483.08 Z\" fill=\"#000000\" fill-rule=\"evenodd\" fill-opacity=\"1\" /><path clip-path=\"url(#clip360)\" d=\"M516.719 1457.48 Q513.108 1457.48 511.279 1461.04 Q509.474 1464.58 509.474 1471.71 Q509.474 1478.82 511.279 1482.38 Q513.108 1485.92 516.719 1485.92 Q520.353 1485.92 522.159 1482.38 Q523.987 1478.82 523.987 1471.71 Q523.987 1464.58 522.159 1461.04 Q520.353 1457.48 516.719 1457.48 M516.719 1453.77 Q522.529 1453.77 525.585 1458.38 Q528.663 1462.96 528.663 1471.71 Q528.663 1480.44 525.585 1485.04 Q522.529 1489.63 516.719 1489.63 Q510.909 1489.63 507.83 1485.04 Q504.774 1480.44 504.774 1471.71 Q504.774 1462.96 507.83 1458.38 Q510.909 1453.77 516.719 1453.77 Z\" fill=\"#000000\" fill-rule=\"evenodd\" fill-opacity=\"1\" /><path clip-path=\"url(#clip360)\" d=\"M565.052 1463.49 L554.473 1474.12 L565.052 1484.7 L562.297 1487.5 L551.672 1476.87 L541.047 1487.5 L538.316 1484.7 L548.871 1474.12 L538.316 1463.49 L541.047 1460.69 L551.672 1471.32 L562.297 1460.69 L565.052 1463.49 Z\" fill=\"#000000\" fill-rule=\"evenodd\" fill-opacity=\"1\" /><path clip-path=\"url(#clip360)\" d=\"M577.413 1485.02 L585.052 1485.02 L585.052 1458.66 L576.742 1460.32 L576.742 1456.06 L585.006 1454.4 L589.681 1454.4 L589.681 1485.02 L597.32 1485.02 L597.32 1488.96 L577.413 1488.96 L577.413 1485.02 Z\" fill=\"#000000\" fill-rule=\"evenodd\" fill-opacity=\"1\" /><path clip-path=\"url(#clip360)\" d=\"M616.765 1457.48 Q613.154 1457.48 611.325 1461.04 Q609.519 1464.58 609.519 1471.71 Q609.519 1478.82 611.325 1482.38 Q613.154 1485.92 616.765 1485.92 Q620.399 1485.92 622.204 1482.38 Q624.033 1478.82 624.033 1471.71 Q624.033 1464.58 622.204 1461.04 Q620.399 1457.48 616.765 1457.48 M616.765 1453.77 Q622.575 1453.77 625.63 1458.38 Q628.709 1462.96 628.709 1471.71 Q628.709 1480.44 625.63 1485.04 Q622.575 1489.63 616.765 1489.63 Q610.954 1489.63 607.876 1485.04 Q604.82 1480.44 604.82 1471.71 Q604.82 1462.96 607.876 1458.38 Q610.954 1453.77 616.765 1453.77 Z\" fill=\"#000000\" fill-rule=\"evenodd\" fill-opacity=\"1\" /><path clip-path=\"url(#clip360)\" d=\"M641.385 1436.78 L631.793 1451.77 L641.385 1451.77 L641.385 1436.78 M640.389 1433.47 L645.166 1433.47 L645.166 1451.77 L649.172 1451.77 L649.172 1454.93 L645.166 1454.93 L645.166 1461.55 L641.385 1461.55 L641.385 1454.93 L628.709 1454.93 L628.709 1451.26 L640.389 1433.47 Z\" fill=\"#000000\" fill-rule=\"evenodd\" fill-opacity=\"1\" /><path clip-path=\"url(#clip360)\" d=\"M782.967 1526.67 L791.625 1526.67 L812.695 1566.42 L812.695 1526.67 L818.934 1526.67 L818.934 1574.19 L810.276 1574.19 L789.206 1534.43 L789.206 1574.19 L782.967 1574.19 L782.967 1526.67 Z\" fill=\"#000000\" fill-rule=\"evenodd\" fill-opacity=\"1\" /><path clip-path=\"url(#clip360)\" d=\"M830.869 1560.12 L830.869 1538.54 L836.726 1538.54 L836.726 1559.89 Q836.726 1564.96 838.699 1567.5 Q840.673 1570.02 844.619 1570.02 Q849.362 1570.02 852.099 1566.99 Q854.868 1563.97 854.868 1558.75 L854.868 1538.54 L860.725 1538.54 L860.725 1574.19 L854.868 1574.19 L854.868 1568.71 Q852.736 1571.96 849.903 1573.55 Q847.102 1575.11 843.378 1575.11 Q837.235 1575.11 834.052 1571.29 Q830.869 1567.47 830.869 1560.12 M845.606 1537.68 L845.606 1537.68 Z\" fill=\"#000000\" fill-rule=\"evenodd\" fill-opacity=\"1\" /><path clip-path=\"url(#clip360)\" d=\"M900.542 1545.38 Q902.738 1541.43 905.794 1539.56 Q908.849 1537.68 912.987 1537.68 Q918.557 1537.68 921.581 1541.59 Q924.604 1545.48 924.604 1552.67 L924.604 1574.19 L918.716 1574.19 L918.716 1552.86 Q918.716 1547.74 916.902 1545.25 Q915.088 1542.77 911.364 1542.77 Q906.812 1542.77 904.17 1545.79 Q901.529 1548.82 901.529 1554.04 L901.529 1574.19 L895.64 1574.19 L895.64 1552.86 Q895.64 1547.7 893.826 1545.25 Q892.012 1542.77 888.224 1542.77 Q883.737 1542.77 881.095 1545.83 Q878.453 1548.85 878.453 1554.04 L878.453 1574.19 L872.565 1574.19 L872.565 1538.54 L878.453 1538.54 L878.453 1544.08 Q880.458 1540.8 883.259 1539.24 Q886.06 1537.68 889.911 1537.68 Q893.794 1537.68 896.5 1539.65 Q899.237 1541.62 900.542 1545.38 Z\" fill=\"#000000\" fill-rule=\"evenodd\" fill-opacity=\"1\" /><path clip-path=\"url(#clip360)\" d=\"M961.876 1556.39 Q961.876 1549.93 959.202 1546.27 Q956.56 1542.58 951.913 1542.58 Q947.266 1542.58 944.593 1546.27 Q941.951 1549.93 941.951 1556.39 Q941.951 1562.85 944.593 1566.55 Q947.266 1570.21 951.913 1570.21 Q956.56 1570.21 959.202 1566.55 Q961.876 1562.85 961.876 1556.39 M941.951 1543.95 Q943.797 1540.77 946.598 1539.24 Q949.431 1537.68 953.346 1537.68 Q959.839 1537.68 963.881 1542.83 Q967.955 1547.99 967.955 1556.39 Q967.955 1564.8 963.881 1569.95 Q959.839 1575.11 953.346 1575.11 Q949.431 1575.11 946.598 1573.58 Q943.797 1572.02 941.951 1568.84 L941.951 1574.19 L936.063 1574.19 L936.063 1524.66 L941.951 1524.66 L941.951 1543.95 Z\" fill=\"#000000\" fill-rule=\"evenodd\" fill-opacity=\"1\" /><path clip-path=\"url(#clip360)\" d=\"M1008.15 1554.9 L1008.15 1557.76 L981.227 1557.76 Q981.609 1563.81 984.856 1566.99 Q988.134 1570.14 993.959 1570.14 Q997.333 1570.14 1000.48 1569.32 Q1003.67 1568.49 1006.79 1566.83 L1006.79 1572.37 Q1003.63 1573.71 1000.32 1574.41 Q997.014 1575.11 993.609 1575.11 Q985.079 1575.11 980.082 1570.14 Q975.116 1565.18 975.116 1556.71 Q975.116 1547.96 979.827 1542.83 Q984.569 1537.68 992.59 1537.68 Q999.783 1537.68 1003.95 1542.33 Q1008.15 1546.94 1008.15 1554.9 M1002.3 1553.18 Q1002.23 1548.37 999.592 1545.51 Q996.982 1542.64 992.654 1542.64 Q987.752 1542.64 984.792 1545.41 Q981.864 1548.18 981.418 1553.21 L1002.3 1553.18 Z\" fill=\"#000000\" fill-rule=\"evenodd\" fill-opacity=\"1\" /><path clip-path=\"url(#clip360)\" d=\"M1038.42 1544.01 Q1037.44 1543.44 1036.26 1543.18 Q1035.11 1542.9 1033.71 1542.9 Q1028.75 1542.9 1026.07 1546.14 Q1023.43 1549.36 1023.43 1555.41 L1023.43 1574.19 L1017.54 1574.19 L1017.54 1538.54 L1023.43 1538.54 L1023.43 1544.08 Q1025.28 1540.83 1028.24 1539.27 Q1031.2 1537.68 1035.43 1537.68 Q1036.04 1537.68 1036.77 1537.77 Q1037.5 1537.84 1038.39 1538 L1038.42 1544.01 Z\" fill=\"#000000\" fill-rule=\"evenodd\" fill-opacity=\"1\" /><path clip-path=\"url(#clip360)\" d=\"M1079.1 1542.64 Q1074.39 1542.64 1071.65 1546.34 Q1068.91 1550 1068.91 1556.39 Q1068.91 1562.79 1071.62 1566.48 Q1074.36 1570.14 1079.1 1570.14 Q1083.78 1570.14 1086.52 1566.45 Q1089.25 1562.76 1089.25 1556.39 Q1089.25 1550.06 1086.52 1546.37 Q1083.78 1542.64 1079.1 1542.64 M1079.1 1537.68 Q1086.74 1537.68 1091.1 1542.64 Q1095.46 1547.61 1095.46 1556.39 Q1095.46 1565.15 1091.1 1570.14 Q1086.74 1575.11 1079.1 1575.11 Q1071.43 1575.11 1067.07 1570.14 Q1062.74 1565.15 1062.74 1556.39 Q1062.74 1547.61 1067.07 1542.64 Q1071.43 1537.68 1079.1 1537.68 Z\" fill=\"#000000\" fill-rule=\"evenodd\" fill-opacity=\"1\" /><path clip-path=\"url(#clip360)\" d=\"M1123.21 1524.66 L1123.21 1529.53 L1117.61 1529.53 Q1114.46 1529.53 1113.22 1530.8 Q1112.01 1532.08 1112.01 1535.39 L1112.01 1538.54 L1121.65 1538.54 L1121.65 1543.09 L1112.01 1543.09 L1112.01 1574.19 L1106.12 1574.19 L1106.12 1543.09 L1100.52 1543.09 L1100.52 1538.54 L1106.12 1538.54 L1106.12 1536.05 Q1106.12 1530.1 1108.89 1527.4 Q1111.66 1524.66 1117.68 1524.66 L1123.21 1524.66 Z\" fill=\"#000000\" fill-rule=\"evenodd\" fill-opacity=\"1\" /><path clip-path=\"url(#clip360)\" d=\"M1155.52 1531.95 L1155.52 1549.8 L1163.6 1549.8 Q1168.09 1549.8 1170.54 1547.48 Q1172.99 1545.16 1172.99 1540.86 Q1172.99 1536.6 1170.54 1534.27 Q1168.09 1531.95 1163.6 1531.95 L1155.52 1531.95 M1149.09 1526.67 L1163.6 1526.67 Q1171.59 1526.67 1175.67 1530.29 Q1179.77 1533.89 1179.77 1540.86 Q1179.77 1547.9 1175.67 1551.49 Q1171.59 1555.09 1163.6 1555.09 L1155.52 1555.09 L1155.52 1574.19 L1149.09 1574.19 L1149.09 1526.67 Z\" fill=\"#000000\" fill-rule=\"evenodd\" fill-opacity=\"1\" /><path clip-path=\"url(#clip360)\" d=\"M1186.71 1538.54 L1192.57 1538.54 L1192.57 1574.19 L1186.71 1574.19 L1186.71 1538.54 M1186.71 1524.66 L1192.57 1524.66 L1192.57 1532.08 L1186.71 1532.08 L1186.71 1524.66 Z\" fill=\"#000000\" fill-rule=\"evenodd\" fill-opacity=\"1\" /><path clip-path=\"url(#clip360)\" d=\"M1225.48 1544.01 Q1224.49 1543.44 1223.32 1543.18 Q1222.17 1542.9 1220.77 1542.9 Q1215.8 1542.9 1213.13 1546.14 Q1210.49 1549.36 1210.49 1555.41 L1210.49 1574.19 L1204.6 1574.19 L1204.6 1538.54 L1210.49 1538.54 L1210.49 1544.08 Q1212.33 1540.83 1215.29 1539.27 Q1218.25 1537.68 1222.49 1537.68 Q1223.09 1537.68 1223.82 1537.77 Q1224.56 1537.84 1225.45 1538 L1225.48 1544.01 Z\" fill=\"#000000\" fill-rule=\"evenodd\" fill-opacity=\"1\" /><path clip-path=\"url(#clip360)\" d=\"M1247.82 1556.27 Q1240.73 1556.27 1237.99 1557.89 Q1235.25 1559.51 1235.25 1563.43 Q1235.25 1566.55 1237.29 1568.39 Q1239.36 1570.21 1242.89 1570.21 Q1247.76 1570.21 1250.69 1566.77 Q1253.65 1563.3 1253.65 1557.57 L1253.65 1556.27 L1247.82 1556.27 M1259.5 1553.85 L1259.5 1574.19 L1253.65 1574.19 L1253.65 1568.77 Q1251.64 1572.02 1248.65 1573.58 Q1245.66 1575.11 1241.33 1575.11 Q1235.86 1575.11 1232.61 1572.05 Q1229.39 1568.97 1229.39 1563.81 Q1229.39 1557.79 1233.4 1554.74 Q1237.45 1551.68 1245.44 1551.68 L1253.65 1551.68 L1253.65 1551.11 Q1253.65 1547.07 1250.97 1544.87 Q1248.33 1542.64 1243.53 1542.64 Q1240.47 1542.64 1237.57 1543.38 Q1234.68 1544.11 1232 1545.57 L1232 1540.16 Q1235.22 1538.92 1238.24 1538.31 Q1241.27 1537.68 1244.13 1537.68 Q1251.87 1537.68 1255.68 1541.69 Q1259.5 1545.7 1259.5 1553.85 Z\" fill=\"#000000\" fill-rule=\"evenodd\" fill-opacity=\"1\" /><path clip-path=\"url(#clip360)\" d=\"M1277.36 1528.42 L1277.36 1538.54 L1289.42 1538.54 L1289.42 1543.09 L1277.36 1543.09 L1277.36 1562.44 Q1277.36 1566.8 1278.54 1568.04 Q1279.75 1569.28 1283.41 1569.28 L1289.42 1569.28 L1289.42 1574.19 L1283.41 1574.19 Q1276.63 1574.19 1274.05 1571.67 Q1271.47 1569.12 1271.47 1562.44 L1271.47 1543.09 L1267.17 1543.09 L1267.17 1538.54 L1271.47 1538.54 L1271.47 1528.42 L1277.36 1528.42 Z\" fill=\"#000000\" fill-rule=\"evenodd\" fill-opacity=\"1\" /><path clip-path=\"url(#clip360)\" d=\"M1327.62 1554.9 L1327.62 1557.76 L1300.69 1557.76 Q1301.07 1563.81 1304.32 1566.99 Q1307.6 1570.14 1313.42 1570.14 Q1316.8 1570.14 1319.95 1569.32 Q1323.13 1568.49 1326.25 1566.83 L1326.25 1572.37 Q1323.1 1573.71 1319.79 1574.41 Q1316.48 1575.11 1313.07 1575.11 Q1304.54 1575.11 1299.54 1570.14 Q1294.58 1565.18 1294.58 1556.71 Q1294.58 1547.96 1299.29 1542.83 Q1304.03 1537.68 1312.05 1537.68 Q1319.25 1537.68 1323.42 1542.33 Q1327.62 1546.94 1327.62 1554.9 M1321.76 1553.18 Q1321.7 1548.37 1319.06 1545.51 Q1316.45 1542.64 1312.12 1542.64 Q1307.22 1542.64 1304.26 1545.41 Q1301.33 1548.18 1300.88 1553.21 L1321.76 1553.18 Z\" fill=\"#000000\" fill-rule=\"evenodd\" fill-opacity=\"1\" /><path clip-path=\"url(#clip360)\" d=\"M1359.96 1539.59 L1359.96 1545.13 Q1357.47 1543.85 1354.8 1543.22 Q1352.13 1542.58 1349.26 1542.58 Q1344.9 1542.58 1342.7 1543.92 Q1340.54 1545.25 1340.54 1547.93 Q1340.54 1549.96 1342.1 1551.14 Q1343.66 1552.29 1348.37 1553.34 L1350.37 1553.78 Q1356.61 1555.12 1359.22 1557.57 Q1361.86 1559.99 1361.86 1564.35 Q1361.86 1569.32 1357.92 1572.21 Q1354 1575.11 1347.13 1575.11 Q1344.26 1575.11 1341.14 1574.54 Q1338.06 1573.99 1334.62 1572.88 L1334.62 1566.83 Q1337.87 1568.52 1341.02 1569.38 Q1344.17 1570.21 1347.26 1570.21 Q1351.39 1570.21 1353.62 1568.81 Q1355.85 1567.37 1355.85 1564.8 Q1355.85 1562.41 1354.23 1561.14 Q1352.63 1559.86 1347.19 1558.68 L1345.15 1558.21 Q1339.71 1557.06 1337.29 1554.71 Q1334.87 1552.32 1334.87 1548.18 Q1334.87 1543.15 1338.44 1540.42 Q1342 1537.68 1348.56 1537.68 Q1351.81 1537.68 1354.67 1538.16 Q1357.54 1538.63 1359.96 1539.59 Z\" fill=\"#000000\" fill-rule=\"evenodd\" fill-opacity=\"1\" /><path clip-path=\"url(#clip360)\" d=\"M1391.37 1524.66 L1404.87 1524.66 L1404.87 1529.21 L1397.23 1529.21 L1397.23 1578.23 L1404.87 1578.23 L1404.87 1582.78 L1391.37 1582.78 L1391.37 1524.66 Z\" fill=\"#000000\" fill-rule=\"evenodd\" fill-opacity=\"1\" /><path clip-path=\"url(#clip360)\" d=\"M1433.48 1533 L1424.76 1556.65 L1442.23 1556.65 L1433.48 1533 M1429.85 1526.67 L1437.14 1526.67 L1455.25 1574.19 L1448.57 1574.19 L1444.24 1562 L1422.82 1562 L1418.49 1574.19 L1411.71 1574.19 L1429.85 1526.67 Z\" fill=\"#000000\" fill-rule=\"evenodd\" fill-opacity=\"1\" /><path clip-path=\"url(#clip360)\" d=\"M1467.6 1568.84 L1467.6 1587.74 L1461.71 1587.74 L1461.71 1538.54 L1467.6 1538.54 L1467.6 1543.95 Q1469.45 1540.77 1472.25 1539.24 Q1475.08 1537.68 1478.99 1537.68 Q1485.49 1537.68 1489.53 1542.83 Q1493.6 1547.99 1493.6 1556.39 Q1493.6 1564.8 1489.53 1569.95 Q1485.49 1575.11 1478.99 1575.11 Q1475.08 1575.11 1472.25 1573.58 Q1469.45 1572.02 1467.6 1568.84 M1487.52 1556.39 Q1487.52 1549.93 1484.85 1546.27 Q1482.21 1542.58 1477.56 1542.58 Q1472.91 1542.58 1470.24 1546.27 Q1467.6 1549.93 1467.6 1556.39 Q1467.6 1562.85 1470.24 1566.55 Q1472.91 1570.21 1477.56 1570.21 Q1482.21 1570.21 1484.85 1566.55 Q1487.52 1562.85 1487.52 1556.39 Z\" fill=\"#000000\" fill-rule=\"evenodd\" fill-opacity=\"1\" /><path clip-path=\"url(#clip360)\" d=\"M1508.98 1568.84 L1508.98 1587.74 L1503.09 1587.74 L1503.09 1538.54 L1508.98 1538.54 L1508.98 1543.95 Q1510.82 1540.77 1513.62 1539.24 Q1516.46 1537.68 1520.37 1537.68 Q1526.86 1537.68 1530.91 1542.83 Q1534.98 1547.99 1534.98 1556.39 Q1534.98 1564.8 1530.91 1569.95 Q1526.86 1575.11 1520.37 1575.11 Q1516.46 1575.11 1513.62 1573.58 Q1510.82 1572.02 1508.98 1568.84 M1528.9 1556.39 Q1528.9 1549.93 1526.23 1546.27 Q1523.59 1542.58 1518.94 1542.58 Q1514.29 1542.58 1511.62 1546.27 Q1508.98 1549.93 1508.98 1556.39 Q1508.98 1562.85 1511.62 1566.55 Q1514.29 1570.21 1518.94 1570.21 Q1523.59 1570.21 1526.23 1566.55 Q1528.9 1562.85 1528.9 1556.39 Z\" fill=\"#000000\" fill-rule=\"evenodd\" fill-opacity=\"1\" /><path clip-path=\"url(#clip360)\" d=\"M1565.34 1544.01 Q1564.36 1543.44 1563.18 1543.18 Q1562.03 1542.9 1560.63 1542.9 Q1555.67 1542.9 1553 1546.14 Q1550.35 1549.36 1550.35 1555.41 L1550.35 1574.19 L1544.47 1574.19 L1544.47 1538.54 L1550.35 1538.54 L1550.35 1544.08 Q1552.2 1540.83 1555.16 1539.27 Q1558.12 1537.68 1562.35 1537.68 Q1562.96 1537.68 1563.69 1537.77 Q1564.42 1537.84 1565.31 1538 L1565.34 1544.01 Z\" fill=\"#000000\" fill-rule=\"evenodd\" fill-opacity=\"1\" /><path clip-path=\"url(#clip360)\" d=\"M1583.87 1542.64 Q1579.16 1542.64 1576.42 1546.34 Q1573.68 1550 1573.68 1556.39 Q1573.68 1562.79 1576.39 1566.48 Q1579.13 1570.14 1583.87 1570.14 Q1588.55 1570.14 1591.28 1566.45 Q1594.02 1562.76 1594.02 1556.39 Q1594.02 1550.06 1591.28 1546.37 Q1588.55 1542.64 1583.87 1542.64 M1583.87 1537.68 Q1591.51 1537.68 1595.87 1542.64 Q1600.23 1547.61 1600.23 1556.39 Q1600.23 1565.15 1595.87 1570.14 Q1591.51 1575.11 1583.87 1575.11 Q1576.2 1575.11 1571.84 1570.14 Q1567.51 1565.15 1567.51 1556.39 Q1567.51 1547.61 1571.84 1542.64 Q1576.2 1537.68 1583.87 1537.68 Z\" fill=\"#000000\" fill-rule=\"evenodd\" fill-opacity=\"1\" /><path clip-path=\"url(#clip360)\" d=\"M1637.56 1538.54 L1624.67 1555.88 L1638.23 1574.19 L1631.33 1574.19 L1620.95 1560.18 L1610.57 1574.19 L1603.67 1574.19 L1617.51 1555.53 L1604.84 1538.54 L1611.75 1538.54 L1621.2 1551.24 L1630.66 1538.54 L1637.56 1538.54 Z\" fill=\"#000000\" fill-rule=\"evenodd\" fill-opacity=\"1\" /><path clip-path=\"url(#clip360)\" d=\"M1646.51 1538.54 L1652.36 1538.54 L1652.36 1574.19 L1646.51 1574.19 L1646.51 1538.54 M1646.51 1524.66 L1652.36 1524.66 L1652.36 1532.08 L1646.51 1532.08 L1646.51 1524.66 Z\" fill=\"#000000\" fill-rule=\"evenodd\" fill-opacity=\"1\" /><path clip-path=\"url(#clip360)\" d=\"M1692.37 1545.38 Q1694.57 1541.43 1697.62 1539.56 Q1700.68 1537.68 1704.82 1537.68 Q1710.39 1537.68 1713.41 1541.59 Q1716.43 1545.48 1716.43 1552.67 L1716.43 1574.19 L1710.55 1574.19 L1710.55 1552.86 Q1710.55 1547.74 1708.73 1545.25 Q1706.92 1542.77 1703.19 1542.77 Q1698.64 1542.77 1696 1545.79 Q1693.36 1548.82 1693.36 1554.04 L1693.36 1574.19 L1687.47 1574.19 L1687.47 1552.86 Q1687.47 1547.7 1685.66 1545.25 Q1683.84 1542.77 1680.05 1542.77 Q1675.57 1542.77 1672.93 1545.83 Q1670.28 1548.85 1670.28 1554.04 L1670.28 1574.19 L1664.39 1574.19 L1664.39 1538.54 L1670.28 1538.54 L1670.28 1544.08 Q1672.29 1540.8 1675.09 1539.24 Q1677.89 1537.68 1681.74 1537.68 Q1685.62 1537.68 1688.33 1539.65 Q1691.07 1541.62 1692.37 1545.38 Z\" fill=\"#000000\" fill-rule=\"evenodd\" fill-opacity=\"1\" /><path clip-path=\"url(#clip360)\" d=\"M1744.32 1556.27 Q1737.22 1556.27 1734.48 1557.89 Q1731.74 1559.51 1731.74 1563.43 Q1731.74 1566.55 1733.78 1568.39 Q1735.85 1570.21 1739.38 1570.21 Q1744.25 1570.21 1747.18 1566.77 Q1750.14 1563.3 1750.14 1557.57 L1750.14 1556.27 L1744.32 1556.27 M1756 1553.85 L1756 1574.19 L1750.14 1574.19 L1750.14 1568.77 Q1748.14 1572.02 1745.14 1573.58 Q1742.15 1575.11 1737.82 1575.11 Q1732.35 1575.11 1729.1 1572.05 Q1725.89 1568.97 1725.89 1563.81 Q1725.89 1557.79 1729.9 1554.74 Q1733.94 1551.68 1741.93 1551.68 L1750.14 1551.68 L1750.14 1551.11 Q1750.14 1547.07 1747.47 1544.87 Q1744.83 1542.64 1740.02 1542.64 Q1736.96 1542.64 1734.07 1543.38 Q1731.17 1544.11 1728.5 1545.57 L1728.5 1540.16 Q1731.71 1538.92 1734.74 1538.31 Q1737.76 1537.68 1740.62 1537.68 Q1748.36 1537.68 1752.18 1541.69 Q1756 1545.7 1756 1553.85 Z\" fill=\"#000000\" fill-rule=\"evenodd\" fill-opacity=\"1\" /><path clip-path=\"url(#clip360)\" d=\"M1773.85 1528.42 L1773.85 1538.54 L1785.92 1538.54 L1785.92 1543.09 L1773.85 1543.09 L1773.85 1562.44 Q1773.85 1566.8 1775.03 1568.04 Q1776.24 1569.28 1779.9 1569.28 L1785.92 1569.28 L1785.92 1574.19 L1779.9 1574.19 Q1773.12 1574.19 1770.54 1571.67 Q1767.97 1569.12 1767.97 1562.44 L1767.97 1543.09 L1763.67 1543.09 L1763.67 1538.54 L1767.97 1538.54 L1767.97 1528.42 L1773.85 1528.42 Z\" fill=\"#000000\" fill-rule=\"evenodd\" fill-opacity=\"1\" /><path clip-path=\"url(#clip360)\" d=\"M1824.11 1554.9 L1824.11 1557.76 L1797.18 1557.76 Q1797.57 1563.81 1800.81 1566.99 Q1804.09 1570.14 1809.92 1570.14 Q1813.29 1570.14 1816.44 1569.32 Q1819.62 1568.49 1822.74 1566.83 L1822.74 1572.37 Q1819.59 1573.71 1816.28 1574.41 Q1812.97 1575.11 1809.56 1575.11 Q1801.03 1575.11 1796.04 1570.14 Q1791.07 1565.18 1791.07 1556.71 Q1791.07 1547.96 1795.78 1542.83 Q1800.53 1537.68 1808.55 1537.68 Q1815.74 1537.68 1819.91 1542.33 Q1824.11 1546.94 1824.11 1554.9 M1818.25 1553.18 Q1818.19 1548.37 1815.55 1545.51 Q1812.94 1542.64 1808.61 1542.64 Q1803.71 1542.64 1800.75 1545.41 Q1797.82 1548.18 1797.37 1553.21 L1818.25 1553.18 Z\" fill=\"#000000\" fill-rule=\"evenodd\" fill-opacity=\"1\" /><path clip-path=\"url(#clip360)\" d=\"M1847.41 1524.66 L1847.41 1582.78 L1833.91 1582.78 L1833.91 1578.23 L1841.52 1578.23 L1841.52 1529.21 L1833.91 1529.21 L1833.91 1524.66 L1847.41 1524.66 Z\" fill=\"#000000\" fill-rule=\"evenodd\" fill-opacity=\"1\" /><polyline clip-path=\"url(#clip362)\" style=\"stroke:#000000; stroke-linecap:butt; stroke-linejoin:round; stroke-width:2; stroke-opacity:0.1; fill:none\" points=\"\n  2352.76,1287.71 277.621,1287.71 \n  \"/>\n<polyline clip-path=\"url(#clip362)\" style=\"stroke:#000000; stroke-linecap:butt; stroke-linejoin:round; stroke-width:2; stroke-opacity:0.1; fill:none\" points=\"\n  2352.76,1070.82 277.621,1070.82 \n  \"/>\n<polyline clip-path=\"url(#clip362)\" style=\"stroke:#000000; stroke-linecap:butt; stroke-linejoin:round; stroke-width:2; stroke-opacity:0.1; fill:none\" points=\"\n  2352.76,853.938 277.621,853.938 \n  \"/>\n<polyline clip-path=\"url(#clip362)\" style=\"stroke:#000000; stroke-linecap:butt; stroke-linejoin:round; stroke-width:2; stroke-opacity:0.1; fill:none\" points=\"\n  2352.76,637.054 277.621,637.054 \n  \"/>\n<polyline clip-path=\"url(#clip362)\" style=\"stroke:#000000; stroke-linecap:butt; stroke-linejoin:round; stroke-width:2; stroke-opacity:0.1; fill:none\" points=\"\n  2352.76,420.17 277.621,420.17 \n  \"/>\n<polyline clip-path=\"url(#clip362)\" style=\"stroke:#000000; stroke-linecap:butt; stroke-linejoin:round; stroke-width:2; stroke-opacity:0.1; fill:none\" points=\"\n  2352.76,203.286 277.621,203.286 \n  \"/>\n<polyline clip-path=\"url(#clip360)\" style=\"stroke:#000000; stroke-linecap:butt; stroke-linejoin:round; stroke-width:4; stroke-opacity:1; fill:none\" points=\"\n  277.621,1410.9 277.621,123.472 \n  \"/>\n<polyline clip-path=\"url(#clip360)\" style=\"stroke:#000000; stroke-linecap:butt; stroke-linejoin:round; stroke-width:4; stroke-opacity:1; fill:none\" points=\"\n  277.621,1287.71 296.518,1287.71 \n  \"/>\n<polyline clip-path=\"url(#clip360)\" style=\"stroke:#000000; stroke-linecap:butt; stroke-linejoin:round; stroke-width:4; stroke-opacity:1; fill:none\" points=\"\n  277.621,1070.82 296.518,1070.82 \n  \"/>\n<polyline clip-path=\"url(#clip360)\" style=\"stroke:#000000; stroke-linecap:butt; stroke-linejoin:round; stroke-width:4; stroke-opacity:1; fill:none\" points=\"\n  277.621,853.938 296.518,853.938 \n  \"/>\n<polyline clip-path=\"url(#clip360)\" style=\"stroke:#000000; stroke-linecap:butt; stroke-linejoin:round; stroke-width:4; stroke-opacity:1; fill:none\" points=\"\n  277.621,637.054 296.518,637.054 \n  \"/>\n<polyline clip-path=\"url(#clip360)\" style=\"stroke:#000000; stroke-linecap:butt; stroke-linejoin:round; stroke-width:4; stroke-opacity:1; fill:none\" points=\"\n  277.621,420.17 296.518,420.17 \n  \"/>\n<polyline clip-path=\"url(#clip360)\" style=\"stroke:#000000; stroke-linecap:butt; stroke-linejoin:round; stroke-width:4; stroke-opacity:1; fill:none\" points=\"\n  277.621,203.286 296.518,203.286 \n  \"/>\n<path clip-path=\"url(#clip360)\" d=\"M114.931 1301.05 L122.57 1301.05 L122.57 1274.69 L114.26 1276.35 L114.26 1272.09 L122.524 1270.43 L127.2 1270.43 L127.2 1301.05 L134.839 1301.05 L134.839 1304.99 L114.931 1304.99 L114.931 1301.05 Z\" fill=\"#000000\" fill-rule=\"evenodd\" fill-opacity=\"1\" /><path clip-path=\"url(#clip360)\" d=\"M157.13 1274.5 L145.325 1292.95 L157.13 1292.95 L157.13 1274.5 M155.903 1270.43 L161.783 1270.43 L161.783 1292.95 L166.714 1292.95 L166.714 1296.84 L161.783 1296.84 L161.783 1304.99 L157.13 1304.99 L157.13 1296.84 L141.529 1296.84 L141.529 1292.32 L155.903 1270.43 Z\" fill=\"#000000\" fill-rule=\"evenodd\" fill-opacity=\"1\" /><path clip-path=\"url(#clip360)\" d=\"M174.445 1299.11 L179.329 1299.11 L179.329 1304.99 L174.445 1304.99 L174.445 1299.11 Z\" fill=\"#000000\" fill-rule=\"evenodd\" fill-opacity=\"1\" /><path clip-path=\"url(#clip360)\" d=\"M189.561 1270.43 L207.917 1270.43 L207.917 1274.36 L193.843 1274.36 L193.843 1282.83 Q194.862 1282.49 195.88 1282.32 Q196.899 1282.14 197.917 1282.14 Q203.704 1282.14 207.084 1285.31 Q210.463 1288.48 210.463 1293.9 Q210.463 1299.48 206.991 1302.58 Q203.519 1305.66 197.2 1305.66 Q195.024 1305.66 192.755 1305.29 Q190.51 1304.92 188.102 1304.18 L188.102 1299.48 Q190.186 1300.61 192.408 1301.17 Q194.63 1301.72 197.107 1301.72 Q201.112 1301.72 203.449 1299.62 Q205.787 1297.51 205.787 1293.9 Q205.787 1290.29 203.449 1288.18 Q201.112 1286.07 197.107 1286.07 Q195.232 1286.07 193.357 1286.49 Q191.505 1286.91 189.561 1287.79 L189.561 1270.43 Z\" fill=\"#000000\" fill-rule=\"evenodd\" fill-opacity=\"1\" /><path clip-path=\"url(#clip360)\" d=\"M229.676 1273.51 Q226.065 1273.51 224.236 1277.07 Q222.431 1280.61 222.431 1287.74 Q222.431 1294.85 224.236 1298.41 Q226.065 1301.95 229.676 1301.95 Q233.31 1301.95 235.116 1298.41 Q236.945 1294.85 236.945 1287.74 Q236.945 1280.61 235.116 1277.07 Q233.31 1273.51 229.676 1273.51 M229.676 1269.8 Q235.486 1269.8 238.542 1274.41 Q241.621 1278.99 241.621 1287.74 Q241.621 1296.47 238.542 1301.07 Q235.486 1305.66 229.676 1305.66 Q223.866 1305.66 220.787 1301.07 Q217.732 1296.47 217.732 1287.74 Q217.732 1278.99 220.787 1274.41 Q223.866 1269.8 229.676 1269.8 Z\" fill=\"#000000\" fill-rule=\"evenodd\" fill-opacity=\"1\" /><path clip-path=\"url(#clip360)\" d=\"M115.927 1084.17 L123.566 1084.17 L123.566 1057.8 L115.256 1059.47 L115.256 1055.21 L123.519 1053.54 L128.195 1053.54 L128.195 1084.17 L135.834 1084.17 L135.834 1088.1 L115.927 1088.1 L115.927 1084.17 Z\" fill=\"#000000\" fill-rule=\"evenodd\" fill-opacity=\"1\" /><path clip-path=\"url(#clip360)\" d=\"M158.126 1057.62 L146.32 1076.07 L158.126 1076.07 L158.126 1057.62 M156.899 1053.54 L162.778 1053.54 L162.778 1076.07 L167.709 1076.07 L167.709 1079.95 L162.778 1079.95 L162.778 1088.1 L158.126 1088.1 L158.126 1079.95 L142.524 1079.95 L142.524 1075.44 L156.899 1053.54 Z\" fill=\"#000000\" fill-rule=\"evenodd\" fill-opacity=\"1\" /><path clip-path=\"url(#clip360)\" d=\"M175.44 1082.22 L180.325 1082.22 L180.325 1088.1 L175.44 1088.1 L175.44 1082.22 Z\" fill=\"#000000\" fill-rule=\"evenodd\" fill-opacity=\"1\" /><path clip-path=\"url(#clip360)\" d=\"M189.329 1053.54 L211.551 1053.54 L211.551 1055.53 L199.005 1088.1 L194.121 1088.1 L205.926 1057.48 L189.329 1057.48 L189.329 1053.54 Z\" fill=\"#000000\" fill-rule=\"evenodd\" fill-opacity=\"1\" /><path clip-path=\"url(#clip360)\" d=\"M220.718 1053.54 L239.074 1053.54 L239.074 1057.48 L225 1057.48 L225 1065.95 Q226.019 1065.6 227.037 1065.44 Q228.056 1065.26 229.074 1065.26 Q234.861 1065.26 238.241 1068.43 Q241.621 1071.6 241.621 1077.01 Q241.621 1082.59 238.148 1085.69 Q234.676 1088.77 228.357 1088.77 Q226.181 1088.77 223.912 1088.4 Q221.667 1088.03 219.26 1087.29 L219.26 1082.59 Q221.343 1083.73 223.565 1084.28 Q225.787 1084.84 228.264 1084.84 Q232.269 1084.84 234.607 1082.73 Q236.945 1080.63 236.945 1077.01 Q236.945 1073.4 234.607 1071.3 Q232.269 1069.19 228.264 1069.19 Q226.389 1069.19 224.514 1069.61 Q222.662 1070.02 220.718 1070.9 L220.718 1053.54 Z\" fill=\"#000000\" fill-rule=\"evenodd\" fill-opacity=\"1\" /><path clip-path=\"url(#clip360)\" d=\"M114.931 867.283 L122.57 867.283 L122.57 840.917 L114.26 842.584 L114.26 838.325 L122.524 836.658 L127.2 836.658 L127.2 867.283 L134.839 867.283 L134.839 871.218 L114.931 871.218 L114.931 867.283 Z\" fill=\"#000000\" fill-rule=\"evenodd\" fill-opacity=\"1\" /><path clip-path=\"url(#clip360)\" d=\"M144.329 836.658 L162.686 836.658 L162.686 840.593 L148.612 840.593 L148.612 849.065 Q149.63 848.718 150.649 848.556 Q151.667 848.371 152.686 848.371 Q158.473 848.371 161.852 851.542 Q165.232 854.714 165.232 860.13 Q165.232 865.709 161.76 868.811 Q158.288 871.889 151.968 871.889 Q149.792 871.889 147.524 871.519 Q145.279 871.149 142.871 870.408 L142.871 865.709 Q144.954 866.843 147.177 867.399 Q149.399 867.954 151.876 867.954 Q155.88 867.954 158.218 865.848 Q160.556 863.741 160.556 860.13 Q160.556 856.519 158.218 854.413 Q155.88 852.306 151.876 852.306 Q150.001 852.306 148.126 852.723 Q146.274 853.139 144.329 854.019 L144.329 836.658 Z\" fill=\"#000000\" fill-rule=\"evenodd\" fill-opacity=\"1\" /><path clip-path=\"url(#clip360)\" d=\"M174.445 865.338 L179.329 865.338 L179.329 871.218 L174.445 871.218 L174.445 865.338 Z\" fill=\"#000000\" fill-rule=\"evenodd\" fill-opacity=\"1\" /><path clip-path=\"url(#clip360)\" d=\"M199.514 839.737 Q195.903 839.737 194.075 843.302 Q192.269 846.843 192.269 853.973 Q192.269 861.079 194.075 864.644 Q195.903 868.186 199.514 868.186 Q203.149 868.186 204.954 864.644 Q206.783 861.079 206.783 853.973 Q206.783 846.843 204.954 843.302 Q203.149 839.737 199.514 839.737 M199.514 836.033 Q205.324 836.033 208.38 840.64 Q211.459 845.223 211.459 853.973 Q211.459 862.7 208.38 867.306 Q205.324 871.889 199.514 871.889 Q193.704 871.889 190.625 867.306 Q187.57 862.7 187.57 853.973 Q187.57 845.223 190.625 840.64 Q193.704 836.033 199.514 836.033 Z\" fill=\"#000000\" fill-rule=\"evenodd\" fill-opacity=\"1\" /><path clip-path=\"url(#clip360)\" d=\"M229.676 839.737 Q226.065 839.737 224.236 843.302 Q222.431 846.843 222.431 853.973 Q222.431 861.079 224.236 864.644 Q226.065 868.186 229.676 868.186 Q233.31 868.186 235.116 864.644 Q236.945 861.079 236.945 853.973 Q236.945 846.843 235.116 843.302 Q233.31 839.737 229.676 839.737 M229.676 836.033 Q235.486 836.033 238.542 840.64 Q241.621 845.223 241.621 853.973 Q241.621 862.7 238.542 867.306 Q235.486 871.889 229.676 871.889 Q223.866 871.889 220.787 867.306 Q217.732 862.7 217.732 853.973 Q217.732 845.223 220.787 840.64 Q223.866 836.033 229.676 836.033 Z\" fill=\"#000000\" fill-rule=\"evenodd\" fill-opacity=\"1\" /><path clip-path=\"url(#clip360)\" d=\"M115.927 650.399 L123.566 650.399 L123.566 624.033 L115.256 625.7 L115.256 621.441 L123.519 619.774 L128.195 619.774 L128.195 650.399 L135.834 650.399 L135.834 654.334 L115.927 654.334 L115.927 650.399 Z\" fill=\"#000000\" fill-rule=\"evenodd\" fill-opacity=\"1\" /><path clip-path=\"url(#clip360)\" d=\"M145.325 619.774 L163.681 619.774 L163.681 623.709 L149.607 623.709 L149.607 632.181 Q150.626 631.834 151.644 631.672 Q152.663 631.487 153.681 631.487 Q159.468 631.487 162.848 634.658 Q166.227 637.829 166.227 643.246 Q166.227 648.825 162.755 651.926 Q159.283 655.005 152.964 655.005 Q150.788 655.005 148.519 654.635 Q146.274 654.264 143.866 653.524 L143.866 648.825 Q145.95 649.959 148.172 650.514 Q150.394 651.07 152.871 651.07 Q156.876 651.07 159.214 648.964 Q161.552 646.857 161.552 643.246 Q161.552 639.635 159.214 637.528 Q156.876 635.422 152.871 635.422 Q150.996 635.422 149.121 635.839 Q147.269 636.255 145.325 637.135 L145.325 619.774 Z\" fill=\"#000000\" fill-rule=\"evenodd\" fill-opacity=\"1\" /><path clip-path=\"url(#clip360)\" d=\"M175.44 648.454 L180.325 648.454 L180.325 654.334 L175.44 654.334 L175.44 648.454 Z\" fill=\"#000000\" fill-rule=\"evenodd\" fill-opacity=\"1\" /><path clip-path=\"url(#clip360)\" d=\"M194.538 650.399 L210.857 650.399 L210.857 654.334 L188.913 654.334 L188.913 650.399 Q191.575 647.644 196.158 643.014 Q200.764 638.362 201.945 637.019 Q204.19 634.496 205.07 632.76 Q205.973 631.001 205.973 629.311 Q205.973 626.556 204.028 624.82 Q202.107 623.084 199.005 623.084 Q196.806 623.084 194.352 623.848 Q191.922 624.612 189.144 626.163 L189.144 621.441 Q191.968 620.306 194.422 619.728 Q196.875 619.149 198.912 619.149 Q204.283 619.149 207.477 621.834 Q210.672 624.519 210.672 629.01 Q210.672 631.14 209.861 633.061 Q209.074 634.959 206.968 637.552 Q206.389 638.223 203.287 641.44 Q200.186 644.635 194.538 650.399 Z\" fill=\"#000000\" fill-rule=\"evenodd\" fill-opacity=\"1\" /><path clip-path=\"url(#clip360)\" d=\"M220.718 619.774 L239.074 619.774 L239.074 623.709 L225 623.709 L225 632.181 Q226.019 631.834 227.037 631.672 Q228.056 631.487 229.074 631.487 Q234.861 631.487 238.241 634.658 Q241.621 637.829 241.621 643.246 Q241.621 648.825 238.148 651.926 Q234.676 655.005 228.357 655.005 Q226.181 655.005 223.912 654.635 Q221.667 654.264 219.26 653.524 L219.26 648.825 Q221.343 649.959 223.565 650.514 Q225.787 651.07 228.264 651.07 Q232.269 651.07 234.607 648.964 Q236.945 646.857 236.945 643.246 Q236.945 639.635 234.607 637.528 Q232.269 635.422 228.264 635.422 Q226.389 635.422 224.514 635.839 Q222.662 636.255 220.718 637.135 L220.718 619.774 Z\" fill=\"#000000\" fill-rule=\"evenodd\" fill-opacity=\"1\" /><path clip-path=\"url(#clip360)\" d=\"M114.931 433.515 L122.57 433.515 L122.57 407.149 L114.26 408.816 L114.26 404.556 L122.524 402.89 L127.2 402.89 L127.2 433.515 L134.839 433.515 L134.839 437.45 L114.931 437.45 L114.931 433.515 Z\" fill=\"#000000\" fill-rule=\"evenodd\" fill-opacity=\"1\" /><path clip-path=\"url(#clip360)\" d=\"M144.329 402.89 L162.686 402.89 L162.686 406.825 L148.612 406.825 L148.612 415.297 Q149.63 414.95 150.649 414.788 Q151.667 414.603 152.686 414.603 Q158.473 414.603 161.852 417.774 Q165.232 420.945 165.232 426.362 Q165.232 431.94 161.76 435.042 Q158.288 438.121 151.968 438.121 Q149.792 438.121 147.524 437.751 Q145.279 437.38 142.871 436.64 L142.871 431.94 Q144.954 433.075 147.177 433.63 Q149.399 434.186 151.876 434.186 Q155.88 434.186 158.218 432.079 Q160.556 429.973 160.556 426.362 Q160.556 422.751 158.218 420.644 Q155.88 418.538 151.876 418.538 Q150.001 418.538 148.126 418.954 Q146.274 419.371 144.329 420.251 L144.329 402.89 Z\" fill=\"#000000\" fill-rule=\"evenodd\" fill-opacity=\"1\" /><path clip-path=\"url(#clip360)\" d=\"M174.445 431.57 L179.329 431.57 L179.329 437.45 L174.445 437.45 L174.445 431.57 Z\" fill=\"#000000\" fill-rule=\"evenodd\" fill-opacity=\"1\" /><path clip-path=\"url(#clip360)\" d=\"M189.561 402.89 L207.917 402.89 L207.917 406.825 L193.843 406.825 L193.843 415.297 Q194.862 414.95 195.88 414.788 Q196.899 414.603 197.917 414.603 Q203.704 414.603 207.084 417.774 Q210.463 420.945 210.463 426.362 Q210.463 431.94 206.991 435.042 Q203.519 438.121 197.2 438.121 Q195.024 438.121 192.755 437.751 Q190.51 437.38 188.102 436.64 L188.102 431.94 Q190.186 433.075 192.408 433.63 Q194.63 434.186 197.107 434.186 Q201.112 434.186 203.449 432.079 Q205.787 429.973 205.787 426.362 Q205.787 422.751 203.449 420.644 Q201.112 418.538 197.107 418.538 Q195.232 418.538 193.357 418.954 Q191.505 419.371 189.561 420.251 L189.561 402.89 Z\" fill=\"#000000\" fill-rule=\"evenodd\" fill-opacity=\"1\" /><path clip-path=\"url(#clip360)\" d=\"M229.676 405.968 Q226.065 405.968 224.236 409.533 Q222.431 413.075 222.431 420.204 Q222.431 427.311 224.236 430.876 Q226.065 434.417 229.676 434.417 Q233.31 434.417 235.116 430.876 Q236.945 427.311 236.945 420.204 Q236.945 413.075 235.116 409.533 Q233.31 405.968 229.676 405.968 M229.676 402.265 Q235.486 402.265 238.542 406.871 Q241.621 411.454 241.621 420.204 Q241.621 428.931 238.542 433.538 Q235.486 438.121 229.676 438.121 Q223.866 438.121 220.787 433.538 Q217.732 428.931 217.732 420.204 Q217.732 411.454 220.787 406.871 Q223.866 402.265 229.676 402.265 Z\" fill=\"#000000\" fill-rule=\"evenodd\" fill-opacity=\"1\" /><path clip-path=\"url(#clip360)\" d=\"M115.927 216.63 L123.566 216.63 L123.566 190.265 L115.256 191.931 L115.256 187.672 L123.519 186.006 L128.195 186.006 L128.195 216.63 L135.834 216.63 L135.834 220.566 L115.927 220.566 L115.927 216.63 Z\" fill=\"#000000\" fill-rule=\"evenodd\" fill-opacity=\"1\" /><path clip-path=\"url(#clip360)\" d=\"M145.325 186.006 L163.681 186.006 L163.681 189.941 L149.607 189.941 L149.607 198.413 Q150.626 198.066 151.644 197.904 Q152.663 197.718 153.681 197.718 Q159.468 197.718 162.848 200.89 Q166.227 204.061 166.227 209.478 Q166.227 215.056 162.755 218.158 Q159.283 221.237 152.964 221.237 Q150.788 221.237 148.519 220.866 Q146.274 220.496 143.866 219.755 L143.866 215.056 Q145.95 216.191 148.172 216.746 Q150.394 217.302 152.871 217.302 Q156.876 217.302 159.214 215.195 Q161.552 213.089 161.552 209.478 Q161.552 205.867 159.214 203.76 Q156.876 201.654 152.871 201.654 Q150.996 201.654 149.121 202.07 Q147.269 202.487 145.325 203.367 L145.325 186.006 Z\" fill=\"#000000\" fill-rule=\"evenodd\" fill-opacity=\"1\" /><path clip-path=\"url(#clip360)\" d=\"M175.44 214.686 L180.325 214.686 L180.325 220.566 L175.44 220.566 L175.44 214.686 Z\" fill=\"#000000\" fill-rule=\"evenodd\" fill-opacity=\"1\" /><path clip-path=\"url(#clip360)\" d=\"M189.329 186.006 L211.551 186.006 L211.551 187.996 L199.005 220.566 L194.121 220.566 L205.926 189.941 L189.329 189.941 L189.329 186.006 Z\" fill=\"#000000\" fill-rule=\"evenodd\" fill-opacity=\"1\" /><path clip-path=\"url(#clip360)\" d=\"M220.718 186.006 L239.074 186.006 L239.074 189.941 L225 189.941 L225 198.413 Q226.019 198.066 227.037 197.904 Q228.056 197.718 229.074 197.718 Q234.861 197.718 238.241 200.89 Q241.621 204.061 241.621 209.478 Q241.621 215.056 238.148 218.158 Q234.676 221.237 228.357 221.237 Q226.181 221.237 223.912 220.866 Q221.667 220.496 219.26 219.755 L219.26 215.056 Q221.343 216.191 223.565 216.746 Q225.787 217.302 228.264 217.302 Q232.269 217.302 234.607 215.195 Q236.945 213.089 236.945 209.478 Q236.945 205.867 234.607 203.76 Q232.269 201.654 228.264 201.654 Q226.389 201.654 224.514 202.07 Q222.662 202.487 220.718 203.367 L220.718 186.006 Z\" fill=\"#000000\" fill-rule=\"evenodd\" fill-opacity=\"1\" /><path clip-path=\"url(#clip360)\" d=\"M57.2247 1106.75 L44.4614 1106.75 L44.4614 1117.25 L39.1779 1117.25 L39.1779 1100.38 L59.58 1100.38 Q62.2218 1104.11 63.5904 1108.59 Q64.9272 1113.08 64.9272 1118.17 Q64.9272 1129.31 58.4342 1135.62 Q51.9093 1141.89 40.2919 1141.89 Q28.6427 1141.89 22.1496 1135.62 Q15.6248 1129.31 15.6248 1118.17 Q15.6248 1113.53 16.7706 1109.36 Q17.9164 1105.16 20.1444 1101.62 L26.9876 1101.62 Q23.9639 1105.19 22.4361 1109.2 Q20.9083 1113.21 20.9083 1117.63 Q20.9083 1126.35 25.7781 1130.75 Q30.6479 1135.11 40.2919 1135.11 Q49.9041 1135.11 54.7739 1130.75 Q59.6436 1126.35 59.6436 1117.63 Q59.6436 1114.23 59.0707 1111.55 Q58.466 1108.88 57.2247 1106.75 Z\" fill=\"#000000\" fill-rule=\"evenodd\" fill-opacity=\"1\" /><path clip-path=\"url(#clip360)\" d=\"M14.479 1088.89 L14.479 1083.03 L64.0042 1083.03 L64.0042 1088.89 L14.479 1088.89 Z\" fill=\"#000000\" fill-rule=\"evenodd\" fill-opacity=\"1\" /><path clip-path=\"url(#clip360)\" d=\"M32.4621 1056.97 Q32.4621 1061.68 36.1542 1064.42 Q39.8145 1067.15 46.212 1067.15 Q52.6095 1067.15 56.3017 1064.45 Q59.9619 1061.71 59.9619 1056.97 Q59.9619 1052.29 56.2698 1049.55 Q52.5777 1046.81 46.212 1046.81 Q39.8781 1046.81 36.186 1049.55 Q32.4621 1052.29 32.4621 1056.97 M27.4968 1056.97 Q27.4968 1049.33 32.4621 1044.97 Q37.4273 1040.61 46.212 1040.61 Q54.9649 1040.61 59.9619 1044.97 Q64.9272 1049.33 64.9272 1056.97 Q64.9272 1064.64 59.9619 1069 Q54.9649 1073.33 46.212 1073.33 Q37.4273 1073.33 32.4621 1069 Q27.4968 1064.64 27.4968 1056.97 Z\" fill=\"#000000\" fill-rule=\"evenodd\" fill-opacity=\"1\" /><path clip-path=\"url(#clip360)\" d=\"M46.212 1005.31 Q39.7508 1005.31 36.0905 1007.98 Q32.3984 1010.62 32.3984 1015.27 Q32.3984 1019.92 36.0905 1022.59 Q39.7508 1025.23 46.212 1025.23 Q52.6732 1025.23 56.3653 1022.59 Q60.0256 1019.92 60.0256 1015.27 Q60.0256 1010.62 56.3653 1007.98 Q52.6732 1005.31 46.212 1005.31 M33.7671 1025.23 Q30.5842 1023.39 29.0564 1020.59 Q27.4968 1017.75 27.4968 1013.84 Q27.4968 1007.35 32.6531 1003.3 Q37.8093 999.23 46.212 999.23 Q54.6147 999.23 59.771 1003.3 Q64.9272 1007.35 64.9272 1013.84 Q64.9272 1017.75 63.3994 1020.59 Q61.8398 1023.39 58.657 1025.23 L64.0042 1025.23 L64.0042 1031.12 L14.479 1031.12 L14.479 1025.23 L33.7671 1025.23 Z\" fill=\"#000000\" fill-rule=\"evenodd\" fill-opacity=\"1\" /><path clip-path=\"url(#clip360)\" d=\"M46.0847 973.322 Q46.0847 980.42 47.7079 983.157 Q49.3312 985.894 53.2461 985.894 Q56.3653 985.894 58.2114 983.857 Q60.0256 981.788 60.0256 978.255 Q60.0256 973.386 56.5881 970.457 Q53.1188 967.497 47.3897 967.497 L46.0847 967.497 L46.0847 973.322 M43.6657 961.641 L64.0042 961.641 L64.0042 967.497 L58.5933 967.497 Q61.8398 969.502 63.3994 972.494 Q64.9272 975.486 64.9272 979.815 Q64.9272 985.289 61.8716 988.536 Q58.7843 991.751 53.6281 991.751 Q47.6125 991.751 44.5569 987.74 Q41.5014 983.698 41.5014 975.709 L41.5014 967.497 L40.9285 967.497 Q36.8862 967.497 34.6901 970.171 Q32.4621 972.813 32.4621 977.619 Q32.4621 980.674 33.1941 983.571 Q33.9262 986.467 35.3903 989.141 L29.9795 989.141 Q28.7381 985.926 28.1334 982.902 Q27.4968 979.879 27.4968 977.014 Q27.4968 969.28 31.5072 965.46 Q35.5176 961.641 43.6657 961.641 Z\" fill=\"#000000\" fill-rule=\"evenodd\" fill-opacity=\"1\" /><path clip-path=\"url(#clip360)\" d=\"M14.479 949.578 L14.479 943.721 L64.0042 943.721 L64.0042 949.578 L14.479 949.578 Z\" fill=\"#000000\" fill-rule=\"evenodd\" fill-opacity=\"1\" /><path clip-path=\"url(#clip360)\" d=\"M16.4842 917.081 L16.4842 876.881 L21.895 876.881 L21.895 893.751 L64.0042 893.751 L64.0042 900.212 L21.895 900.212 L21.895 917.081 L16.4842 917.081 Z\" fill=\"#000000\" fill-rule=\"evenodd\" fill-opacity=\"1\" /><path clip-path=\"url(#clip360)\" d=\"M44.7161 851.514 L47.5806 851.514 L47.5806 878.441 Q53.6281 878.059 56.8109 874.813 Q59.9619 871.534 59.9619 865.71 Q59.9619 862.336 59.1344 859.185 Q58.3069 856.002 56.6518 852.883 L62.1899 852.883 Q63.5267 856.034 64.227 859.344 Q64.9272 862.654 64.9272 866.06 Q64.9272 874.59 59.9619 879.587 Q54.9967 884.552 46.5303 884.552 Q37.7774 884.552 32.6531 879.841 Q27.4968 875.099 27.4968 867.078 Q27.4968 859.885 32.1438 855.715 Q36.7589 851.514 44.7161 851.514 M42.9973 857.371 Q38.1912 857.434 35.3266 860.076 Q32.4621 862.686 32.4621 867.015 Q32.4621 871.916 35.2312 874.876 Q38.0002 877.804 43.0292 878.25 L42.9973 857.371 Z\" fill=\"#000000\" fill-rule=\"evenodd\" fill-opacity=\"1\" /><path clip-path=\"url(#clip360)\" d=\"M35.1993 814.147 Q31.2526 811.951 29.3747 808.896 Q27.4968 805.84 27.4968 801.702 Q27.4968 796.132 31.4117 793.109 Q35.2948 790.085 42.4881 790.085 L64.0042 790.085 L64.0042 795.973 L42.679 795.973 Q37.5546 795.973 35.072 797.788 Q32.5894 799.602 32.5894 803.326 Q32.5894 807.877 35.6131 810.519 Q38.6368 813.161 43.8567 813.161 L64.0042 813.161 L64.0042 819.049 L42.679 819.049 Q37.5228 819.049 35.072 820.863 Q32.5894 822.677 32.5894 826.465 Q32.5894 830.953 35.6449 833.595 Q38.6686 836.236 43.8567 836.236 L64.0042 836.236 L64.0042 842.125 L28.3562 842.125 L28.3562 836.236 L33.8944 836.236 Q30.616 834.231 29.0564 831.43 Q27.4968 828.629 27.4968 824.778 Q27.4968 820.895 29.4702 818.19 Q31.4436 815.452 35.1993 814.147 Z\" fill=\"#000000\" fill-rule=\"evenodd\" fill-opacity=\"1\" /><path clip-path=\"url(#clip360)\" d=\"M58.657 772.738 L77.5631 772.738 L77.5631 778.627 L28.3562 778.627 L28.3562 772.738 L33.7671 772.738 Q30.5842 770.892 29.0564 768.091 Q27.4968 765.259 27.4968 761.344 Q27.4968 754.851 32.6531 750.809 Q37.8093 746.735 46.212 746.735 Q54.6147 746.735 59.771 750.809 Q64.9272 754.851 64.9272 761.344 Q64.9272 765.259 63.3994 768.091 Q61.8398 770.892 58.657 772.738 M46.212 752.814 Q39.7508 752.814 36.0905 755.487 Q32.3984 758.129 32.3984 762.776 Q32.3984 767.423 36.0905 770.097 Q39.7508 772.738 46.212 772.738 Q52.6732 772.738 56.3653 770.097 Q60.0256 767.423 60.0256 762.776 Q60.0256 758.129 56.3653 755.487 Q52.6732 752.814 46.212 752.814 Z\" fill=\"#000000\" fill-rule=\"evenodd\" fill-opacity=\"1\" /><path clip-path=\"url(#clip360)\" d=\"M44.7161 706.535 L47.5806 706.535 L47.5806 733.462 Q53.6281 733.08 56.8109 729.834 Q59.9619 726.555 59.9619 720.731 Q59.9619 717.357 59.1344 714.206 Q58.3069 711.023 56.6518 707.904 L62.1899 707.904 Q63.5267 711.055 64.227 714.365 Q64.9272 717.675 64.9272 721.081 Q64.9272 729.611 59.9619 734.608 Q54.9967 739.573 46.5303 739.573 Q37.7774 739.573 32.6531 734.863 Q27.4968 730.12 27.4968 722.099 Q27.4968 714.906 32.1438 710.736 Q36.7589 706.535 44.7161 706.535 M42.9973 712.392 Q38.1912 712.455 35.3266 715.097 Q32.4621 717.707 32.4621 722.036 Q32.4621 726.937 35.2312 729.897 Q38.0002 732.825 43.0292 733.271 L42.9973 712.392 Z\" fill=\"#000000\" fill-rule=\"evenodd\" fill-opacity=\"1\" /><path clip-path=\"url(#clip360)\" d=\"M33.8307 676.266 Q33.2578 677.253 33.0032 678.431 Q32.7167 679.576 32.7167 680.977 Q32.7167 685.942 35.9632 688.616 Q39.1779 691.257 45.2253 691.257 L64.0042 691.257 L64.0042 697.146 L28.3562 697.146 L28.3562 691.257 L33.8944 691.257 Q30.6479 689.411 29.0883 686.451 Q27.4968 683.491 27.4968 679.258 Q27.4968 678.653 27.5923 677.921 Q27.656 677.189 27.8151 676.298 L33.8307 676.266 Z\" fill=\"#000000\" fill-rule=\"evenodd\" fill-opacity=\"1\" /><path clip-path=\"url(#clip360)\" d=\"M46.0847 653.923 Q46.0847 661.02 47.7079 663.758 Q49.3312 666.495 53.2461 666.495 Q56.3653 666.495 58.2114 664.458 Q60.0256 662.389 60.0256 658.856 Q60.0256 653.986 56.5881 651.058 Q53.1188 648.098 47.3897 648.098 L46.0847 648.098 L46.0847 653.923 M43.6657 642.241 L64.0042 642.241 L64.0042 648.098 L58.5933 648.098 Q61.8398 650.103 63.3994 653.095 Q64.9272 656.087 64.9272 660.416 Q64.9272 665.89 61.8716 669.137 Q58.7843 672.351 53.6281 672.351 Q47.6125 672.351 44.5569 668.341 Q41.5014 664.299 41.5014 656.31 L41.5014 648.098 L40.9285 648.098 Q36.8862 648.098 34.6901 650.772 Q32.4621 653.413 32.4621 658.219 Q32.4621 661.275 33.1941 664.171 Q33.9262 667.068 35.3903 669.741 L29.9795 669.741 Q28.7381 666.527 28.1334 663.503 Q27.4968 660.479 27.4968 657.615 Q27.4968 649.88 31.5072 646.061 Q35.5176 642.241 43.6657 642.241 Z\" fill=\"#000000\" fill-rule=\"evenodd\" fill-opacity=\"1\" /><path clip-path=\"url(#clip360)\" d=\"M18.2347 624.386 L28.3562 624.386 L28.3562 612.323 L32.9077 612.323 L32.9077 624.386 L52.2594 624.386 Q56.6199 624.386 57.8613 623.208 Q59.1026 621.999 59.1026 618.338 L59.1026 612.323 L64.0042 612.323 L64.0042 618.338 Q64.0042 625.118 61.4897 627.696 Q58.9434 630.274 52.2594 630.274 L32.9077 630.274 L32.9077 634.571 L28.3562 634.571 L28.3562 630.274 L18.2347 630.274 L18.2347 624.386 Z\" fill=\"#000000\" fill-rule=\"evenodd\" fill-opacity=\"1\" /><path clip-path=\"url(#clip360)\" d=\"M49.9359 605.225 L28.3562 605.225 L28.3562 599.368 L49.7131 599.368 Q54.7739 599.368 57.3202 597.395 Q59.8346 595.422 59.8346 591.475 Q59.8346 586.733 56.8109 583.995 Q53.7872 581.226 48.5673 581.226 L28.3562 581.226 L28.3562 575.37 L64.0042 575.37 L64.0042 581.226 L58.5296 581.226 Q61.7762 583.359 63.3676 586.191 Q64.9272 588.992 64.9272 592.716 Q64.9272 598.859 61.1078 602.042 Q57.2883 605.225 49.9359 605.225 M27.4968 590.488 L27.4968 590.488 Z\" fill=\"#000000\" fill-rule=\"evenodd\" fill-opacity=\"1\" /><path clip-path=\"url(#clip360)\" d=\"M33.8307 542.65 Q33.2578 543.637 33.0032 544.814 Q32.7167 545.96 32.7167 547.361 Q32.7167 552.326 35.9632 554.999 Q39.1779 557.641 45.2253 557.641 L64.0042 557.641 L64.0042 563.53 L28.3562 563.53 L28.3562 557.641 L33.8944 557.641 Q30.6479 555.795 29.0883 552.835 Q27.4968 549.875 27.4968 545.642 Q27.4968 545.037 27.5923 544.305 Q27.656 543.573 27.8151 542.682 L33.8307 542.65 Z\" fill=\"#000000\" fill-rule=\"evenodd\" fill-opacity=\"1\" /><path clip-path=\"url(#clip360)\" d=\"M44.7161 507.448 L47.5806 507.448 L47.5806 534.375 Q53.6281 533.993 56.8109 530.746 Q59.9619 527.468 59.9619 521.643 Q59.9619 518.269 59.1344 515.118 Q58.3069 511.935 56.6518 508.816 L62.1899 508.816 Q63.5267 511.967 64.227 515.277 Q64.9272 518.588 64.9272 521.993 Q64.9272 530.523 59.9619 535.52 Q54.9967 540.486 46.5303 540.486 Q37.7774 540.486 32.6531 535.775 Q27.4968 531.033 27.4968 523.012 Q27.4968 515.819 32.1438 511.649 Q36.7589 507.448 44.7161 507.448 M42.9973 513.304 Q38.1912 513.368 35.3266 516.01 Q32.4621 518.619 32.4621 522.948 Q32.4621 527.85 35.2312 530.81 Q38.0002 533.738 43.0292 534.184 L42.9973 513.304 Z\" fill=\"#000000\" fill-rule=\"evenodd\" fill-opacity=\"1\" /><path clip-path=\"url(#clip360)\" d=\"M14.5426 463.047 Q21.8632 467.312 29.0246 469.381 Q36.186 471.45 43.5384 471.45 Q50.8908 471.45 58.1159 469.381 Q65.3091 467.28 72.5979 463.047 L72.5979 468.139 Q65.1182 472.914 57.8931 475.301 Q50.668 477.656 43.5384 477.656 Q36.4406 477.656 29.2474 475.301 Q22.0542 472.946 14.5426 468.139 L14.5426 463.047 Z\" fill=\"#000000\" fill-rule=\"evenodd\" fill-opacity=\"1\" /><path clip-path=\"url(#clip360)\" d=\"M20.1444 415.845 L26.9239 415.845 Q23.9002 419.092 22.4043 422.784 Q20.9083 426.444 20.9083 430.582 Q20.9083 438.73 25.9054 443.059 Q30.8707 447.387 40.2919 447.387 Q49.6813 447.387 54.6784 443.059 Q59.6436 438.73 59.6436 430.582 Q59.6436 426.444 58.1477 422.784 Q56.6518 419.092 53.6281 415.845 L60.3439 415.845 Q62.6355 419.219 63.7814 423.007 Q64.9272 426.762 64.9272 430.964 Q64.9272 441.754 58.3387 447.96 Q51.7183 454.167 40.2919 454.167 Q28.8336 454.167 22.2451 447.96 Q15.6248 441.754 15.6248 430.964 Q15.6248 426.699 16.7706 422.943 Q17.8846 419.155 20.1444 415.845 Z\" fill=\"#000000\" fill-rule=\"evenodd\" fill-opacity=\"1\" /><path clip-path=\"url(#clip360)\" d=\"M14.5426 407.092 L14.5426 402 Q22.0542 397.225 29.2474 394.87 Q36.4406 392.483 43.5384 392.483 Q50.668 392.483 57.8931 394.87 Q65.1182 397.225 72.5979 402 L72.5979 407.092 Q65.3091 402.859 58.1159 400.79 Q50.8908 398.69 43.5384 398.69 Q36.186 398.69 29.0246 400.79 Q21.8632 402.859 14.5426 407.092 Z\" fill=\"#000000\" fill-rule=\"evenodd\" fill-opacity=\"1\" /><path clip-path=\"url(#clip360)\" d=\"M311.597 12.096 L319.78 12.096 L319.78 72.576 L311.597 72.576 L311.597 12.096 Z\" fill=\"#000000\" fill-rule=\"evenodd\" fill-opacity=\"1\" /><path clip-path=\"url(#clip360)\" d=\"M373.454 45.1919 L373.454 72.576 L366.001 72.576 L366.001 45.4349 Q366.001 38.994 363.489 35.7938 Q360.978 32.5936 355.954 32.5936 Q349.919 32.5936 346.435 36.4419 Q342.951 40.2903 342.951 46.9338 L342.951 72.576 L335.457 72.576 L335.457 27.2059 L342.951 27.2059 L342.951 34.2544 Q345.625 30.163 349.23 28.1376 Q352.876 26.1121 357.615 26.1121 Q365.433 26.1121 369.444 30.9732 Q373.454 35.7938 373.454 45.1919 Z\" fill=\"#000000\" fill-rule=\"evenodd\" fill-opacity=\"1\" /><path clip-path=\"url(#clip360)\" d=\"M411.29 9.54393 L411.29 15.7418 L404.16 15.7418 Q400.15 15.7418 398.57 17.3622 Q397.031 18.9825 397.031 23.1955 L397.031 27.2059 L409.305 27.2059 L409.305 32.9987 L397.031 32.9987 L397.031 72.576 L389.536 72.576 L389.536 32.9987 L382.407 32.9987 L382.407 27.2059 L389.536 27.2059 L389.536 24.0462 Q389.536 16.471 393.061 13.0277 Q396.585 9.54393 404.241 9.54393 L411.29 9.54393 Z\" fill=\"#000000\" fill-rule=\"evenodd\" fill-opacity=\"1\" /><path clip-path=\"url(#clip360)\" d=\"M417.528 9.54393 L424.982 9.54393 L424.982 72.576 L417.528 72.576 L417.528 9.54393 Z\" fill=\"#000000\" fill-rule=\"evenodd\" fill-opacity=\"1\" /><path clip-path=\"url(#clip360)\" d=\"M439.808 54.671 L439.808 27.2059 L447.262 27.2059 L447.262 54.3874 Q447.262 60.8284 449.773 64.0691 Q452.285 67.2693 457.308 67.2693 Q463.344 67.2693 466.828 63.421 Q470.352 59.5726 470.352 52.9291 L470.352 27.2059 L477.806 27.2059 L477.806 72.576 L470.352 72.576 L470.352 65.6084 Q467.638 69.7404 464.033 71.7658 Q460.468 73.7508 455.728 73.7508 Q447.91 73.7508 443.859 68.8897 Q439.808 64.0286 439.808 54.671 M458.564 26.1121 L458.564 26.1121 Z\" fill=\"#000000\" fill-rule=\"evenodd\" fill-opacity=\"1\" /><path clip-path=\"url(#clip360)\" d=\"M531.966 48.0275 L531.966 51.6733 L497.696 51.6733 Q498.182 59.3701 502.314 63.421 Q506.486 67.4314 513.899 67.4314 Q518.193 67.4314 522.203 66.3781 Q526.254 65.3249 530.224 63.2184 L530.224 70.267 Q526.214 71.9684 522.001 72.8596 Q517.788 73.7508 513.454 73.7508 Q502.597 73.7508 496.237 67.4314 Q489.918 61.1119 489.918 50.3365 Q489.918 39.1965 495.913 32.6746 Q501.949 26.1121 512.157 26.1121 Q521.312 26.1121 526.619 32.0264 Q531.966 37.9003 531.966 48.0275 M524.513 45.84 Q524.431 39.7232 521.069 36.0774 Q517.747 32.4315 512.238 32.4315 Q506 32.4315 502.233 35.9558 Q498.506 39.4801 497.939 45.8805 L524.513 45.84 Z\" fill=\"#000000\" fill-rule=\"evenodd\" fill-opacity=\"1\" /><path clip-path=\"url(#clip360)\" d=\"M581.914 45.1919 L581.914 72.576 L574.46 72.576 L574.46 45.4349 Q574.46 38.994 571.949 35.7938 Q569.437 32.5936 564.414 32.5936 Q558.378 32.5936 554.894 36.4419 Q551.411 40.2903 551.411 46.9338 L551.411 72.576 L543.916 72.576 L543.916 27.2059 L551.411 27.2059 L551.411 34.2544 Q554.084 30.163 557.689 28.1376 Q561.335 26.1121 566.075 26.1121 Q573.893 26.1121 577.903 30.9732 Q581.914 35.7938 581.914 45.1919 Z\" fill=\"#000000\" fill-rule=\"evenodd\" fill-opacity=\"1\" /><path clip-path=\"url(#clip360)\" d=\"M629.431 28.9478 L629.431 35.9153 Q626.271 34.1734 623.071 33.3227 Q619.911 32.4315 616.671 32.4315 Q609.419 32.4315 605.409 37.0496 Q601.399 41.6271 601.399 49.9314 Q601.399 58.2358 605.409 62.8538 Q609.419 67.4314 616.671 67.4314 Q619.911 67.4314 623.071 66.5807 Q626.271 65.6895 629.431 63.9476 L629.431 70.8341 Q626.312 72.2924 622.949 73.0216 Q619.628 73.7508 615.86 73.7508 Q605.612 73.7508 599.576 67.3098 Q593.54 60.8689 593.54 49.9314 Q593.54 38.832 599.616 32.472 Q605.733 26.1121 616.347 26.1121 Q619.79 26.1121 623.071 26.8413 Q626.352 27.5299 629.431 28.9478 Z\" fill=\"#000000\" fill-rule=\"evenodd\" fill-opacity=\"1\" /><path clip-path=\"url(#clip360)\" d=\"M681.201 48.0275 L681.201 51.6733 L646.931 51.6733 Q647.417 59.3701 651.549 63.421 Q655.721 67.4314 663.134 67.4314 Q667.428 67.4314 671.439 66.3781 Q675.49 65.3249 679.46 63.2184 L679.46 70.267 Q675.449 71.9684 671.236 72.8596 Q667.023 73.7508 662.689 73.7508 Q651.832 73.7508 645.473 67.4314 Q639.153 61.1119 639.153 50.3365 Q639.153 39.1965 645.148 32.6746 Q651.184 26.1121 661.393 26.1121 Q670.548 26.1121 675.854 32.0264 Q681.201 37.9003 681.201 48.0275 M673.748 45.84 Q673.667 39.7232 670.305 36.0774 Q666.983 32.4315 661.474 32.4315 Q655.235 32.4315 651.468 35.9558 Q647.741 39.4801 647.174 45.8805 L673.748 45.84 Z\" fill=\"#000000\" fill-rule=\"evenodd\" fill-opacity=\"1\" /><path clip-path=\"url(#clip360)\" d=\"M737.388 32.4315 Q731.392 32.4315 727.908 37.1306 Q724.425 41.7891 724.425 49.9314 Q724.425 58.0738 727.868 62.7728 Q731.352 67.4314 737.388 67.4314 Q743.342 67.4314 746.826 62.7323 Q750.31 58.0333 750.31 49.9314 Q750.31 41.8701 746.826 37.1711 Q743.342 32.4315 737.388 32.4315 M737.388 26.1121 Q747.11 26.1121 752.659 32.4315 Q758.209 38.7509 758.209 49.9314 Q758.209 61.0714 752.659 67.4314 Q747.11 73.7508 737.388 73.7508 Q727.625 73.7508 722.075 67.4314 Q716.566 61.0714 716.566 49.9314 Q716.566 38.7509 722.075 32.4315 Q727.625 26.1121 737.388 26.1121 Z\" fill=\"#000000\" fill-rule=\"evenodd\" fill-opacity=\"1\" /><path clip-path=\"url(#clip360)\" d=\"M793.533 9.54393 L793.533 15.7418 L786.403 15.7418 Q782.393 15.7418 780.813 17.3622 Q779.274 18.9825 779.274 23.1955 L779.274 27.2059 L791.548 27.2059 L791.548 32.9987 L779.274 32.9987 L779.274 72.576 L771.78 72.576 L771.78 32.9987 L764.65 32.9987 L764.65 27.2059 L771.78 27.2059 L771.78 24.0462 Q771.78 16.471 775.304 13.0277 Q778.828 9.54393 786.484 9.54393 L793.533 9.54393 Z\" fill=\"#000000\" fill-rule=\"evenodd\" fill-opacity=\"1\" /><path clip-path=\"url(#clip360)\" d=\"M833.353 65.7705 L833.353 89.8329 L825.859 89.8329 L825.859 27.2059 L833.353 27.2059 L833.353 34.0924 Q835.703 30.0415 839.268 28.0971 Q842.873 26.1121 847.856 26.1121 Q856.12 26.1121 861.264 32.6746 Q866.449 39.2371 866.449 49.9314 Q866.449 60.6258 861.264 67.1883 Q856.12 73.7508 847.856 73.7508 Q842.873 73.7508 839.268 71.8063 Q835.703 69.8214 833.353 65.7705 M858.712 49.9314 Q858.712 41.7081 855.309 37.0496 Q851.947 32.3505 846.033 32.3505 Q840.118 32.3505 836.716 37.0496 Q833.353 41.7081 833.353 49.9314 Q833.353 58.1548 836.716 62.8538 Q840.118 67.5124 846.033 67.5124 Q851.947 67.5124 855.309 62.8538 Q858.712 58.1548 858.712 49.9314 Z\" fill=\"#000000\" fill-rule=\"evenodd\" fill-opacity=\"1\" /><path clip-path=\"url(#clip360)\" d=\"M878.805 27.2059 L886.258 27.2059 L886.258 72.576 L878.805 72.576 L878.805 27.2059 M878.805 9.54393 L886.258 9.54393 L886.258 18.9825 L878.805 18.9825 L878.805 9.54393 Z\" fill=\"#000000\" fill-rule=\"evenodd\" fill-opacity=\"1\" /><path clip-path=\"url(#clip360)\" d=\"M928.145 34.1734 Q926.889 33.4443 925.39 33.1202 Q923.932 32.7556 922.149 32.7556 Q915.83 32.7556 912.427 36.8875 Q909.065 40.9789 909.065 48.6757 L909.065 72.576 L901.571 72.576 L901.571 27.2059 L909.065 27.2059 L909.065 34.2544 Q911.414 30.1225 915.182 28.1376 Q918.949 26.1121 924.337 26.1121 Q925.106 26.1121 926.038 26.2337 Q926.97 26.3147 928.104 26.5172 L928.145 34.1734 Z\" fill=\"#000000\" fill-rule=\"evenodd\" fill-opacity=\"1\" /><path clip-path=\"url(#clip360)\" d=\"M956.582 49.7694 Q947.548 49.7694 944.065 51.8354 Q940.581 53.9013 940.581 58.8839 Q940.581 62.8538 943.173 65.2034 Q945.807 67.5124 950.303 67.5124 Q956.501 67.5124 960.228 63.1374 Q963.995 58.7219 963.995 51.4303 L963.995 49.7694 L956.582 49.7694 M971.449 46.6907 L971.449 72.576 L963.995 72.576 L963.995 65.6895 Q961.443 69.8214 957.635 71.8063 Q953.827 73.7508 948.318 73.7508 Q941.351 73.7508 937.219 69.8619 Q933.127 65.9325 933.127 59.3701 Q933.127 51.7138 938.231 47.825 Q943.376 43.9361 953.544 43.9361 L963.995 43.9361 L963.995 43.2069 Q963.995 38.0623 960.592 35.2672 Q957.23 32.4315 951.113 32.4315 Q947.224 32.4315 943.538 33.3632 Q939.852 34.295 936.449 36.1584 L936.449 29.2718 Q940.54 27.692 944.389 26.9223 Q948.237 26.1121 951.883 26.1121 Q961.727 26.1121 966.588 31.2163 Q971.449 36.3204 971.449 46.6907 Z\" fill=\"#000000\" fill-rule=\"evenodd\" fill-opacity=\"1\" /><path clip-path=\"url(#clip360)\" d=\"M994.174 14.324 L994.174 27.2059 L1009.53 27.2059 L1009.53 32.9987 L994.174 32.9987 L994.174 57.6282 Q994.174 63.1779 995.673 64.7578 Q997.213 66.3376 1001.87 66.3376 L1009.53 66.3376 L1009.53 72.576 L1001.87 72.576 Q993.243 72.576 989.961 69.3758 Q986.68 66.1351 986.68 57.6282 L986.68 32.9987 L981.211 32.9987 L981.211 27.2059 L986.68 27.2059 L986.68 14.324 L994.174 14.324 Z\" fill=\"#000000\" fill-rule=\"evenodd\" fill-opacity=\"1\" /><path clip-path=\"url(#clip360)\" d=\"M1058.14 48.0275 L1058.14 51.6733 L1023.87 51.6733 Q1024.35 59.3701 1028.49 63.421 Q1032.66 67.4314 1040.07 67.4314 Q1044.37 67.4314 1048.38 66.3781 Q1052.43 65.3249 1056.4 63.2184 L1056.4 70.267 Q1052.39 71.9684 1048.17 72.8596 Q1043.96 73.7508 1039.63 73.7508 Q1028.77 73.7508 1022.41 67.4314 Q1016.09 61.1119 1016.09 50.3365 Q1016.09 39.1965 1022.09 32.6746 Q1028.12 26.1121 1038.33 26.1121 Q1047.48 26.1121 1052.79 32.0264 Q1058.14 37.9003 1058.14 48.0275 M1050.68 45.84 Q1050.6 39.7232 1047.24 36.0774 Q1043.92 32.4315 1038.41 32.4315 Q1032.17 32.4315 1028.4 35.9558 Q1024.68 39.4801 1024.11 45.8805 L1050.68 45.84 Z\" fill=\"#000000\" fill-rule=\"evenodd\" fill-opacity=\"1\" /><path clip-path=\"url(#clip360)\" d=\"M1103.95 65.7705 L1103.95 89.8329 L1096.46 89.8329 L1096.46 27.2059 L1103.95 27.2059 L1103.95 34.0924 Q1106.3 30.0415 1109.87 28.0971 Q1113.47 26.1121 1118.46 26.1121 Q1126.72 26.1121 1131.86 32.6746 Q1137.05 39.2371 1137.05 49.9314 Q1137.05 60.6258 1131.86 67.1883 Q1126.72 73.7508 1118.46 73.7508 Q1113.47 73.7508 1109.87 71.8063 Q1106.3 69.8214 1103.95 65.7705 M1129.31 49.9314 Q1129.31 41.7081 1125.91 37.0496 Q1122.55 32.3505 1116.63 32.3505 Q1110.72 32.3505 1107.32 37.0496 Q1103.95 41.7081 1103.95 49.9314 Q1103.95 58.1548 1107.32 62.8538 Q1110.72 67.5124 1116.63 67.5124 Q1122.55 67.5124 1125.91 62.8538 Q1129.31 58.1548 1129.31 49.9314 Z\" fill=\"#000000\" fill-rule=\"evenodd\" fill-opacity=\"1\" /><path clip-path=\"url(#clip360)\" d=\"M1166.99 32.4315 Q1160.99 32.4315 1157.51 37.1306 Q1154.02 41.7891 1154.02 49.9314 Q1154.02 58.0738 1157.47 62.7728 Q1160.95 67.4314 1166.99 67.4314 Q1172.94 67.4314 1176.42 62.7323 Q1179.91 58.0333 1179.91 49.9314 Q1179.91 41.8701 1176.42 37.1711 Q1172.94 32.4315 1166.99 32.4315 M1166.99 26.1121 Q1176.71 26.1121 1182.26 32.4315 Q1187.81 38.7509 1187.81 49.9314 Q1187.81 61.0714 1182.26 67.4314 Q1176.71 73.7508 1166.99 73.7508 Q1157.22 73.7508 1151.67 67.4314 Q1146.16 61.0714 1146.16 49.9314 Q1146.16 38.7509 1151.67 32.4315 Q1157.22 26.1121 1166.99 26.1121 Z\" fill=\"#000000\" fill-rule=\"evenodd\" fill-opacity=\"1\" /><path clip-path=\"url(#clip360)\" d=\"M1207.37 65.7705 L1207.37 89.8329 L1199.88 89.8329 L1199.88 27.2059 L1207.37 27.2059 L1207.37 34.0924 Q1209.72 30.0415 1213.29 28.0971 Q1216.89 26.1121 1221.88 26.1121 Q1230.14 26.1121 1235.28 32.6746 Q1240.47 39.2371 1240.47 49.9314 Q1240.47 60.6258 1235.28 67.1883 Q1230.14 73.7508 1221.88 73.7508 Q1216.89 73.7508 1213.29 71.8063 Q1209.72 69.8214 1207.37 65.7705 M1232.73 49.9314 Q1232.73 41.7081 1229.33 37.0496 Q1225.97 32.3505 1220.05 32.3505 Q1214.14 32.3505 1210.74 37.0496 Q1207.37 41.7081 1207.37 49.9314 Q1207.37 58.1548 1210.74 62.8538 Q1214.14 67.5124 1220.05 67.5124 Q1225.97 67.5124 1229.33 62.8538 Q1232.73 58.1548 1232.73 49.9314 Z\" fill=\"#000000\" fill-rule=\"evenodd\" fill-opacity=\"1\" /><path clip-path=\"url(#clip360)\" d=\"M1252.05 54.671 L1252.05 27.2059 L1259.51 27.2059 L1259.51 54.3874 Q1259.51 60.8284 1262.02 64.0691 Q1264.53 67.2693 1269.55 67.2693 Q1275.59 67.2693 1279.07 63.421 Q1282.6 59.5726 1282.6 52.9291 L1282.6 27.2059 L1290.05 27.2059 L1290.05 72.576 L1282.6 72.576 L1282.6 65.6084 Q1279.88 69.7404 1276.28 71.7658 Q1272.71 73.7508 1267.97 73.7508 Q1260.16 73.7508 1256.11 68.8897 Q1252.05 64.0286 1252.05 54.671 M1270.81 26.1121 L1270.81 26.1121 Z\" fill=\"#000000\" fill-rule=\"evenodd\" fill-opacity=\"1\" /><path clip-path=\"url(#clip360)\" d=\"M1305.41 9.54393 L1312.86 9.54393 L1312.86 72.576 L1305.41 72.576 L1305.41 9.54393 Z\" fill=\"#000000\" fill-rule=\"evenodd\" fill-opacity=\"1\" /><path clip-path=\"url(#clip360)\" d=\"M1349.07 49.7694 Q1340.04 49.7694 1336.56 51.8354 Q1333.07 53.9013 1333.07 58.8839 Q1333.07 62.8538 1335.67 65.2034 Q1338.3 67.5124 1342.8 67.5124 Q1348.99 67.5124 1352.72 63.1374 Q1356.49 58.7219 1356.49 51.4303 L1356.49 49.7694 L1349.07 49.7694 M1363.94 46.6907 L1363.94 72.576 L1356.49 72.576 L1356.49 65.6895 Q1353.94 69.8214 1350.13 71.8063 Q1346.32 73.7508 1340.81 73.7508 Q1333.84 73.7508 1329.71 69.8619 Q1325.62 65.9325 1325.62 59.3701 Q1325.62 51.7138 1330.72 47.825 Q1335.87 43.9361 1346.04 43.9361 L1356.49 43.9361 L1356.49 43.2069 Q1356.49 38.0623 1353.08 35.2672 Q1349.72 32.4315 1343.61 32.4315 Q1339.72 32.4315 1336.03 33.3632 Q1332.34 34.295 1328.94 36.1584 L1328.94 29.2718 Q1333.03 27.692 1336.88 26.9223 Q1340.73 26.1121 1344.38 26.1121 Q1354.22 26.1121 1359.08 31.2163 Q1363.94 36.3204 1363.94 46.6907 Z\" fill=\"#000000\" fill-rule=\"evenodd\" fill-opacity=\"1\" /><path clip-path=\"url(#clip360)\" d=\"M1386.67 14.324 L1386.67 27.2059 L1402.02 27.2059 L1402.02 32.9987 L1386.67 32.9987 L1386.67 57.6282 Q1386.67 63.1779 1388.17 64.7578 Q1389.7 66.3376 1394.36 66.3376 L1402.02 66.3376 L1402.02 72.576 L1394.36 72.576 Q1385.73 72.576 1382.45 69.3758 Q1379.17 66.1351 1379.17 57.6282 L1379.17 32.9987 L1373.7 32.9987 L1373.7 27.2059 L1379.17 27.2059 L1379.17 14.324 L1386.67 14.324 Z\" fill=\"#000000\" fill-rule=\"evenodd\" fill-opacity=\"1\" /><path clip-path=\"url(#clip360)\" d=\"M1411.82 27.2059 L1419.28 27.2059 L1419.28 72.576 L1411.82 72.576 L1411.82 27.2059 M1411.82 9.54393 L1419.28 9.54393 L1419.28 18.9825 L1411.82 18.9825 L1411.82 9.54393 Z\" fill=\"#000000\" fill-rule=\"evenodd\" fill-opacity=\"1\" /><path clip-path=\"url(#clip360)\" d=\"M1452.45 32.4315 Q1446.46 32.4315 1442.97 37.1306 Q1439.49 41.7891 1439.49 49.9314 Q1439.49 58.0738 1442.93 62.7728 Q1446.42 67.4314 1452.45 67.4314 Q1458.41 67.4314 1461.89 62.7323 Q1465.38 58.0333 1465.38 49.9314 Q1465.38 41.8701 1461.89 37.1711 Q1458.41 32.4315 1452.45 32.4315 M1452.45 26.1121 Q1462.18 26.1121 1467.73 32.4315 Q1473.27 38.7509 1473.27 49.9314 Q1473.27 61.0714 1467.73 67.4314 Q1462.18 73.7508 1452.45 73.7508 Q1442.69 73.7508 1437.14 67.4314 Q1431.63 61.0714 1431.63 49.9314 Q1431.63 38.7509 1437.14 32.4315 Q1442.69 26.1121 1452.45 26.1121 Z\" fill=\"#000000\" fill-rule=\"evenodd\" fill-opacity=\"1\" /><path clip-path=\"url(#clip360)\" d=\"M1523.34 45.1919 L1523.34 72.576 L1515.89 72.576 L1515.89 45.4349 Q1515.89 38.994 1513.38 35.7938 Q1510.87 32.5936 1505.84 32.5936 Q1499.81 32.5936 1496.32 36.4419 Q1492.84 40.2903 1492.84 46.9338 L1492.84 72.576 L1485.35 72.576 L1485.35 27.2059 L1492.84 27.2059 L1492.84 34.2544 Q1495.51 30.163 1499.12 28.1376 Q1502.77 26.1121 1507.5 26.1121 Q1515.32 26.1121 1519.33 30.9732 Q1523.34 35.7938 1523.34 45.1919 Z\" fill=\"#000000\" fill-rule=\"evenodd\" fill-opacity=\"1\" /><path clip-path=\"url(#clip360)\" d=\"M1582.16 32.4315 Q1576.17 32.4315 1572.68 37.1306 Q1569.2 41.7891 1569.2 49.9314 Q1569.2 58.0738 1572.64 62.7728 Q1576.13 67.4314 1582.16 67.4314 Q1588.12 67.4314 1591.6 62.7323 Q1595.09 58.0333 1595.09 49.9314 Q1595.09 41.8701 1591.6 37.1711 Q1588.12 32.4315 1582.16 32.4315 M1582.16 26.1121 Q1591.89 26.1121 1597.43 32.4315 Q1602.98 38.7509 1602.98 49.9314 Q1602.98 61.0714 1597.43 67.4314 Q1591.89 73.7508 1582.16 73.7508 Q1572.4 73.7508 1566.85 67.4314 Q1561.34 61.0714 1561.34 49.9314 Q1561.34 38.7509 1566.85 32.4315 Q1572.4 26.1121 1582.16 26.1121 Z\" fill=\"#000000\" fill-rule=\"evenodd\" fill-opacity=\"1\" /><path clip-path=\"url(#clip360)\" d=\"M1653.05 45.1919 L1653.05 72.576 L1645.6 72.576 L1645.6 45.4349 Q1645.6 38.994 1643.09 35.7938 Q1640.58 32.5936 1635.55 32.5936 Q1629.52 32.5936 1626.03 36.4419 Q1622.55 40.2903 1622.55 46.9338 L1622.55 72.576 L1615.06 72.576 L1615.06 27.2059 L1622.55 27.2059 L1622.55 34.2544 Q1625.22 30.163 1628.83 28.1376 Q1632.48 26.1121 1637.21 26.1121 Q1645.03 26.1121 1649.04 30.9732 Q1653.05 35.7938 1653.05 45.1919 Z\" fill=\"#000000\" fill-rule=\"evenodd\" fill-opacity=\"1\" /><path clip-path=\"url(#clip360)\" d=\"M1724.15 49.3643 Q1724.15 41.2625 1720.79 36.8065 Q1717.46 32.3505 1711.43 32.3505 Q1705.43 32.3505 1702.07 36.8065 Q1698.75 41.2625 1698.75 49.3643 Q1698.75 57.4256 1702.07 61.8816 Q1705.43 66.3376 1711.43 66.3376 Q1717.46 66.3376 1720.79 61.8816 Q1724.15 57.4256 1724.15 49.3643 M1731.6 66.9452 Q1731.6 78.5308 1726.46 84.1616 Q1721.31 89.8329 1710.7 89.8329 Q1706.77 89.8329 1703.29 89.2252 Q1699.8 88.6581 1696.52 87.4428 L1696.52 80.1917 Q1699.8 81.9741 1703 82.8248 Q1706.2 83.6755 1709.52 83.6755 Q1716.86 83.6755 1720.5 79.8271 Q1724.15 76.0193 1724.15 68.282 L1724.15 64.5957 Q1721.84 68.6061 1718.23 70.5911 Q1714.63 72.576 1709.6 72.576 Q1701.26 72.576 1696.16 66.2161 Q1691.05 59.8562 1691.05 49.3643 Q1691.05 38.832 1696.16 32.472 Q1701.26 26.1121 1709.6 26.1121 Q1714.63 26.1121 1718.23 28.0971 Q1721.84 30.082 1724.15 34.0924 L1724.15 27.2059 L1731.6 27.2059 L1731.6 66.9452 Z\" fill=\"#000000\" fill-rule=\"evenodd\" fill-opacity=\"1\" /><path clip-path=\"url(#clip360)\" d=\"M1746.95 9.54393 L1754.41 9.54393 L1754.41 72.576 L1746.95 72.576 L1746.95 9.54393 Z\" fill=\"#000000\" fill-rule=\"evenodd\" fill-opacity=\"1\" /><path clip-path=\"url(#clip360)\" d=\"M1787.58 32.4315 Q1781.59 32.4315 1778.11 37.1306 Q1774.62 41.7891 1774.62 49.9314 Q1774.62 58.0738 1778.06 62.7728 Q1781.55 67.4314 1787.58 67.4314 Q1793.54 67.4314 1797.02 62.7323 Q1800.51 58.0333 1800.51 49.9314 Q1800.51 41.8701 1797.02 37.1711 Q1793.54 32.4315 1787.58 32.4315 M1787.58 26.1121 Q1797.31 26.1121 1802.86 32.4315 Q1808.41 38.7509 1808.41 49.9314 Q1808.41 61.0714 1802.86 67.4314 Q1797.31 73.7508 1787.58 73.7508 Q1777.82 73.7508 1772.27 67.4314 Q1766.76 61.0714 1766.76 49.9314 Q1766.76 38.7509 1772.27 32.4315 Q1777.82 26.1121 1787.58 26.1121 Z\" fill=\"#000000\" fill-rule=\"evenodd\" fill-opacity=\"1\" /><path clip-path=\"url(#clip360)\" d=\"M1853.33 49.9314 Q1853.33 41.7081 1849.93 37.0496 Q1846.57 32.3505 1840.65 32.3505 Q1834.74 32.3505 1831.33 37.0496 Q1827.97 41.7081 1827.97 49.9314 Q1827.97 58.1548 1831.33 62.8538 Q1834.74 67.5124 1840.65 67.5124 Q1846.57 67.5124 1849.93 62.8538 Q1853.33 58.1548 1853.33 49.9314 M1827.97 34.0924 Q1830.32 30.0415 1833.89 28.0971 Q1837.49 26.1121 1842.47 26.1121 Q1850.74 26.1121 1855.88 32.6746 Q1861.07 39.2371 1861.07 49.9314 Q1861.07 60.6258 1855.88 67.1883 Q1850.74 73.7508 1842.47 73.7508 Q1837.49 73.7508 1833.89 71.8063 Q1830.32 69.8214 1827.97 65.7705 L1827.97 72.576 L1820.48 72.576 L1820.48 9.54393 L1827.97 9.54393 L1827.97 34.0924 Z\" fill=\"#000000\" fill-rule=\"evenodd\" fill-opacity=\"1\" /><path clip-path=\"url(#clip360)\" d=\"M1894.04 49.7694 Q1885.01 49.7694 1881.52 51.8354 Q1878.04 53.9013 1878.04 58.8839 Q1878.04 62.8538 1880.63 65.2034 Q1883.27 67.5124 1887.76 67.5124 Q1893.96 67.5124 1897.69 63.1374 Q1901.46 58.7219 1901.46 51.4303 L1901.46 49.7694 L1894.04 49.7694 M1908.91 46.6907 L1908.91 72.576 L1901.46 72.576 L1901.46 65.6895 Q1898.9 69.8214 1895.1 71.8063 Q1891.29 73.7508 1885.78 73.7508 Q1878.81 73.7508 1874.68 69.8619 Q1870.59 65.9325 1870.59 59.3701 Q1870.59 51.7138 1875.69 47.825 Q1880.84 43.9361 1891 43.9361 L1901.46 43.9361 L1901.46 43.2069 Q1901.46 38.0623 1898.05 35.2672 Q1894.69 32.4315 1888.57 32.4315 Q1884.68 32.4315 1881 33.3632 Q1877.31 34.295 1873.91 36.1584 L1873.91 29.2718 Q1878 27.692 1881.85 26.9223 Q1885.7 26.1121 1889.34 26.1121 Q1899.19 26.1121 1904.05 31.2163 Q1908.91 36.3204 1908.91 46.6907 Z\" fill=\"#000000\" fill-rule=\"evenodd\" fill-opacity=\"1\" /><path clip-path=\"url(#clip360)\" d=\"M1924.26 9.54393 L1931.72 9.54393 L1931.72 72.576 L1924.26 72.576 L1924.26 9.54393 Z\" fill=\"#000000\" fill-rule=\"evenodd\" fill-opacity=\"1\" /><path clip-path=\"url(#clip360)\" d=\"M1969.35 27.2059 L1976.8 27.2059 L1986.12 62.6108 L1995.4 27.2059 L2004.19 27.2059 L2013.5 62.6108 L2022.78 27.2059 L2030.23 27.2059 L2018.36 72.576 L2009.57 72.576 L1999.81 35.3887 L1990.01 72.576 L1981.22 72.576 L1969.35 27.2059 Z\" fill=\"#000000\" fill-rule=\"evenodd\" fill-opacity=\"1\" /><path clip-path=\"url(#clip360)\" d=\"M2062.15 49.7694 Q2053.12 49.7694 2049.64 51.8354 Q2046.15 53.9013 2046.15 58.8839 Q2046.15 62.8538 2048.75 65.2034 Q2051.38 67.5124 2055.88 67.5124 Q2062.07 67.5124 2065.8 63.1374 Q2069.57 58.7219 2069.57 51.4303 L2069.57 49.7694 L2062.15 49.7694 M2077.02 46.6907 L2077.02 72.576 L2069.57 72.576 L2069.57 65.6895 Q2067.02 69.8214 2063.21 71.8063 Q2059.4 73.7508 2053.89 73.7508 Q2046.92 73.7508 2042.79 69.8619 Q2038.7 65.9325 2038.7 59.3701 Q2038.7 51.7138 2043.8 47.825 Q2048.95 43.9361 2059.12 43.9361 L2069.57 43.9361 L2069.57 43.2069 Q2069.57 38.0623 2066.17 35.2672 Q2062.8 32.4315 2056.69 32.4315 Q2052.8 32.4315 2049.11 33.3632 Q2045.42 34.295 2042.02 36.1584 L2042.02 29.2718 Q2046.11 27.692 2049.96 26.9223 Q2053.81 26.1121 2057.46 26.1121 Q2067.3 26.1121 2072.16 31.2163 Q2077.02 36.3204 2077.02 46.6907 Z\" fill=\"#000000\" fill-rule=\"evenodd\" fill-opacity=\"1\" /><path clip-path=\"url(#clip360)\" d=\"M2118.66 34.1734 Q2117.41 33.4443 2115.91 33.1202 Q2114.45 32.7556 2112.67 32.7556 Q2106.35 32.7556 2102.95 36.8875 Q2099.59 40.9789 2099.59 48.6757 L2099.59 72.576 L2092.09 72.576 L2092.09 27.2059 L2099.59 27.2059 L2099.59 34.2544 Q2101.93 30.1225 2105.7 28.1376 Q2109.47 26.1121 2114.86 26.1121 Q2115.63 26.1121 2116.56 26.2337 Q2117.49 26.3147 2118.62 26.5172 L2118.66 34.1734 Z\" fill=\"#000000\" fill-rule=\"evenodd\" fill-opacity=\"1\" /><path clip-path=\"url(#clip360)\" d=\"M2160.35 35.9153 Q2163.14 30.8922 2167.03 28.5022 Q2170.92 26.1121 2176.19 26.1121 Q2183.28 26.1121 2187.13 31.0947 Q2190.97 36.0368 2190.97 45.1919 L2190.97 72.576 L2183.48 72.576 L2183.48 45.4349 Q2183.48 38.913 2181.17 35.7533 Q2178.86 32.5936 2174.12 32.5936 Q2168.33 32.5936 2164.97 36.4419 Q2161.6 40.2903 2161.6 46.9338 L2161.6 72.576 L2154.11 72.576 L2154.11 45.4349 Q2154.11 38.8725 2151.8 35.7533 Q2149.49 32.5936 2144.67 32.5936 Q2138.96 32.5936 2135.6 36.4824 Q2132.24 40.3308 2132.24 46.9338 L2132.24 72.576 L2124.74 72.576 L2124.74 27.2059 L2132.24 27.2059 L2132.24 34.2544 Q2134.79 30.082 2138.35 28.0971 Q2141.92 26.1121 2146.82 26.1121 Q2151.76 26.1121 2155.2 28.6237 Q2158.69 31.1352 2160.35 35.9153 Z\" fill=\"#000000\" fill-rule=\"evenodd\" fill-opacity=\"1\" /><path clip-path=\"url(#clip360)\" d=\"M2205.84 27.2059 L2213.29 27.2059 L2213.29 72.576 L2205.84 72.576 L2205.84 27.2059 M2205.84 9.54393 L2213.29 9.54393 L2213.29 18.9825 L2205.84 18.9825 L2205.84 9.54393 Z\" fill=\"#000000\" fill-rule=\"evenodd\" fill-opacity=\"1\" /><path clip-path=\"url(#clip360)\" d=\"M2266.6 45.1919 L2266.6 72.576 L2259.15 72.576 L2259.15 45.4349 Q2259.15 38.994 2256.64 35.7938 Q2254.13 32.5936 2249.1 32.5936 Q2243.07 32.5936 2239.58 36.4419 Q2236.1 40.2903 2236.1 46.9338 L2236.1 72.576 L2228.61 72.576 L2228.61 27.2059 L2236.1 27.2059 L2236.1 34.2544 Q2238.77 30.163 2242.38 28.1376 Q2246.03 26.1121 2250.76 26.1121 Q2258.58 26.1121 2262.59 30.9732 Q2266.6 35.7938 2266.6 45.1919 Z\" fill=\"#000000\" fill-rule=\"evenodd\" fill-opacity=\"1\" /><path clip-path=\"url(#clip360)\" d=\"M2311.33 49.3643 Q2311.33 41.2625 2307.96 36.8065 Q2304.64 32.3505 2298.61 32.3505 Q2292.61 32.3505 2289.25 36.8065 Q2285.93 41.2625 2285.93 49.3643 Q2285.93 57.4256 2289.25 61.8816 Q2292.61 66.3376 2298.61 66.3376 Q2304.64 66.3376 2307.96 61.8816 Q2311.33 57.4256 2311.33 49.3643 M2318.78 66.9452 Q2318.78 78.5308 2313.63 84.1616 Q2308.49 89.8329 2297.88 89.8329 Q2293.95 89.8329 2290.46 89.2252 Q2286.98 88.6581 2283.7 87.4428 L2283.7 80.1917 Q2286.98 81.9741 2290.18 82.8248 Q2293.38 83.6755 2296.7 83.6755 Q2304.03 83.6755 2307.68 79.8271 Q2311.33 76.0193 2311.33 68.282 L2311.33 64.5957 Q2309.02 68.6061 2305.41 70.5911 Q2301.81 72.576 2296.78 72.576 Q2288.44 72.576 2283.33 66.2161 Q2278.23 59.8562 2278.23 49.3643 Q2278.23 38.832 2283.33 32.472 Q2288.44 26.1121 2296.78 26.1121 Q2301.81 26.1121 2305.41 28.0971 Q2309.02 30.082 2311.33 34.0924 L2311.33 27.2059 L2318.78 27.2059 L2318.78 66.9452 Z\" fill=\"#000000\" fill-rule=\"evenodd\" fill-opacity=\"1\" /><polyline clip-path=\"url(#clip362)\" style=\"stroke:#009af9; stroke-linecap:butt; stroke-linejoin:round; stroke-width:4; stroke-opacity:1; fill:none\" points=\"\n  336.351,1374.46 1424.36,1287.71 1641.96,1027.45 2077.16,680.431 2277.36,420.17 2294.03,159.909 \n  \"/>\n<circle clip-path=\"url(#clip362)\" cx=\"336.351\" cy=\"1374.46\" r=\"14\" fill=\"#e26f46\" fill-rule=\"evenodd\" fill-opacity=\"1\" stroke=\"#000000\" stroke-opacity=\"1\" stroke-width=\"3.2\"/>\n<circle clip-path=\"url(#clip362)\" cx=\"1424.36\" cy=\"1287.71\" r=\"14\" fill=\"#e26f46\" fill-rule=\"evenodd\" fill-opacity=\"1\" stroke=\"#000000\" stroke-opacity=\"1\" stroke-width=\"3.2\"/>\n<circle clip-path=\"url(#clip362)\" cx=\"1641.96\" cy=\"1027.45\" r=\"14\" fill=\"#e26f46\" fill-rule=\"evenodd\" fill-opacity=\"1\" stroke=\"#000000\" stroke-opacity=\"1\" stroke-width=\"3.2\"/>\n<circle clip-path=\"url(#clip362)\" cx=\"2077.16\" cy=\"680.431\" r=\"14\" fill=\"#e26f46\" fill-rule=\"evenodd\" fill-opacity=\"1\" stroke=\"#000000\" stroke-opacity=\"1\" stroke-width=\"3.2\"/>\n<circle clip-path=\"url(#clip362)\" cx=\"2277.36\" cy=\"420.17\" r=\"14\" fill=\"#e26f46\" fill-rule=\"evenodd\" fill-opacity=\"1\" stroke=\"#000000\" stroke-opacity=\"1\" stroke-width=\"3.2\"/>\n<circle clip-path=\"url(#clip362)\" cx=\"2294.03\" cy=\"159.909\" r=\"14\" fill=\"#e26f46\" fill-rule=\"evenodd\" fill-opacity=\"1\" stroke=\"#000000\" stroke-opacity=\"1\" stroke-width=\"3.2\"/>\n<path clip-path=\"url(#clip360)\" d=\"\nM1914.03 321.906 L2283.58 321.906 L2283.58 166.386 L1914.03 166.386  Z\n  \" fill=\"#ffffff\" fill-rule=\"evenodd\" fill-opacity=\"1\"/>\n<polyline clip-path=\"url(#clip360)\" style=\"stroke:#000000; stroke-linecap:butt; stroke-linejoin:round; stroke-width:4; stroke-opacity:1; fill:none\" points=\"\n  1914.03,321.906 2283.58,321.906 2283.58,166.386 1914.03,166.386 1914.03,321.906 \n  \"/>\n<polyline clip-path=\"url(#clip360)\" style=\"stroke:#009af9; stroke-linecap:butt; stroke-linejoin:round; stroke-width:4; stroke-opacity:1; fill:none\" points=\"\n  1937.09,218.226 2075.43,218.226 \n  \"/>\n<path clip-path=\"url(#clip360)\" d=\"M2098.49 199.488 L2102.75 199.488 L2102.75 235.506 L2098.49 235.506 L2098.49 199.488 Z\" fill=\"#000000\" fill-rule=\"evenodd\" fill-opacity=\"1\" /><path clip-path=\"url(#clip360)\" d=\"M2111.66 209.58 L2115.92 209.58 L2115.92 235.506 L2111.66 235.506 L2111.66 209.58 M2111.66 199.488 L2115.92 199.488 L2115.92 204.881 L2111.66 204.881 L2111.66 199.488 Z\" fill=\"#000000\" fill-rule=\"evenodd\" fill-opacity=\"1\" /><path clip-path=\"url(#clip360)\" d=\"M2146.38 219.858 L2146.38 235.506 L2142.12 235.506 L2142.12 219.997 Q2142.12 216.317 2140.69 214.488 Q2139.25 212.659 2136.38 212.659 Q2132.93 212.659 2130.94 214.858 Q2128.95 217.057 2128.95 220.854 L2128.95 235.506 L2124.67 235.506 L2124.67 209.58 L2128.95 209.58 L2128.95 213.608 Q2130.48 211.27 2132.54 210.113 Q2134.62 208.955 2137.33 208.955 Q2141.8 208.955 2144.09 211.733 Q2146.38 214.488 2146.38 219.858 Z\" fill=\"#000000\" fill-rule=\"evenodd\" fill-opacity=\"1\" /><path clip-path=\"url(#clip360)\" d=\"M2177.05 221.479 L2177.05 223.562 L2157.47 223.562 Q2157.75 227.96 2160.11 230.275 Q2162.49 232.566 2166.73 232.566 Q2169.18 232.566 2171.48 231.965 Q2173.79 231.363 2176.06 230.159 L2176.06 234.187 Q2173.77 235.159 2171.36 235.668 Q2168.95 236.178 2166.48 236.178 Q2160.27 236.178 2156.64 232.566 Q2153.03 228.955 2153.03 222.798 Q2153.03 216.432 2156.45 212.705 Q2159.9 208.955 2165.73 208.955 Q2170.97 208.955 2174 212.335 Q2177.05 215.692 2177.05 221.479 M2172.8 220.229 Q2172.75 216.733 2170.83 214.65 Q2168.93 212.567 2165.78 212.567 Q2162.22 212.567 2160.06 214.58 Q2157.93 216.594 2157.61 220.252 L2172.8 220.229 Z\" fill=\"#000000\" fill-rule=\"evenodd\" fill-opacity=\"1\" /><circle clip-path=\"url(#clip360)\" cx=\"2006.26\" cy=\"270.066\" r=\"23\" fill=\"#e26f46\" fill-rule=\"evenodd\" fill-opacity=\"1\" stroke=\"#000000\" stroke-opacity=\"1\" stroke-width=\"5.12\"/>\n<path clip-path=\"url(#clip360)\" d=\"M2102.77 283.457 L2102.77 297.207 L2098.49 297.207 L2098.49 261.42 L2102.77 261.42 L2102.77 265.356 Q2104.11 263.041 2106.15 261.93 Q2108.21 260.795 2111.06 260.795 Q2115.78 260.795 2118.72 264.545 Q2121.68 268.295 2121.68 274.407 Q2121.68 280.518 2118.72 284.268 Q2115.78 288.018 2111.06 288.018 Q2108.21 288.018 2106.15 286.906 Q2104.11 285.772 2102.77 283.457 M2117.26 274.407 Q2117.26 269.707 2115.32 267.045 Q2113.4 264.36 2110.02 264.36 Q2106.64 264.36 2104.69 267.045 Q2102.77 269.707 2102.77 274.407 Q2102.77 279.106 2104.69 281.791 Q2106.64 284.453 2110.02 284.453 Q2113.4 284.453 2115.32 281.791 Q2117.26 279.106 2117.26 274.407 Z\" fill=\"#000000\" fill-rule=\"evenodd\" fill-opacity=\"1\" /><path clip-path=\"url(#clip360)\" d=\"M2138.79 264.407 Q2135.36 264.407 2133.37 267.092 Q2131.38 269.754 2131.38 274.407 Q2131.38 279.059 2133.35 281.744 Q2135.34 284.406 2138.79 284.406 Q2142.19 284.406 2144.18 281.721 Q2146.17 279.036 2146.17 274.407 Q2146.17 269.8 2144.18 267.115 Q2142.19 264.407 2138.79 264.407 M2138.79 260.795 Q2144.35 260.795 2147.52 264.407 Q2150.69 268.018 2150.69 274.407 Q2150.69 280.772 2147.52 284.406 Q2144.35 288.018 2138.79 288.018 Q2133.21 288.018 2130.04 284.406 Q2126.89 280.772 2126.89 274.407 Q2126.89 268.018 2130.04 264.407 Q2133.21 260.795 2138.79 260.795 Z\" fill=\"#000000\" fill-rule=\"evenodd\" fill-opacity=\"1\" /><path clip-path=\"url(#clip360)\" d=\"M2157.75 261.42 L2162.01 261.42 L2162.01 287.346 L2157.75 287.346 L2157.75 261.42 M2157.75 251.328 L2162.01 251.328 L2162.01 256.721 L2157.75 256.721 L2157.75 251.328 Z\" fill=\"#000000\" fill-rule=\"evenodd\" fill-opacity=\"1\" /><path clip-path=\"url(#clip360)\" d=\"M2192.47 271.698 L2192.47 287.346 L2188.21 287.346 L2188.21 271.837 Q2188.21 268.157 2186.78 266.328 Q2185.34 264.499 2182.47 264.499 Q2179.02 264.499 2177.03 266.698 Q2175.04 268.897 2175.04 272.694 L2175.04 287.346 L2170.76 287.346 L2170.76 261.42 L2175.04 261.42 L2175.04 265.448 Q2176.57 263.11 2178.63 261.953 Q2180.71 260.795 2183.42 260.795 Q2187.89 260.795 2190.18 263.573 Q2192.47 266.328 2192.47 271.698 Z\" fill=\"#000000\" fill-rule=\"evenodd\" fill-opacity=\"1\" /><path clip-path=\"url(#clip360)\" d=\"M2205.18 254.059 L2205.18 261.42 L2213.95 261.42 L2213.95 264.731 L2205.18 264.731 L2205.18 278.805 Q2205.18 281.976 2206.04 282.879 Q2206.92 283.781 2209.58 283.781 L2213.95 283.781 L2213.95 287.346 L2209.58 287.346 Q2204.65 287.346 2202.77 285.518 Q2200.9 283.666 2200.9 278.805 L2200.9 264.731 L2197.77 264.731 L2197.77 261.42 L2200.9 261.42 L2200.9 254.059 L2205.18 254.059 Z\" fill=\"#000000\" fill-rule=\"evenodd\" fill-opacity=\"1\" /><path clip-path=\"url(#clip360)\" d=\"M2236.08 262.184 L2236.08 266.212 Q2234.28 265.286 2232.33 264.823 Q2230.39 264.36 2228.3 264.36 Q2225.13 264.36 2223.54 265.333 Q2221.96 266.305 2221.96 268.249 Q2221.96 269.731 2223.1 270.587 Q2224.23 271.42 2227.66 272.184 L2229.11 272.508 Q2233.65 273.481 2235.55 275.263 Q2237.47 277.022 2237.47 280.194 Q2237.47 283.805 2234.6 285.911 Q2231.75 288.018 2226.75 288.018 Q2224.67 288.018 2222.4 287.601 Q2220.16 287.207 2217.66 286.397 L2217.66 281.999 Q2220.02 283.226 2222.31 283.851 Q2224.6 284.453 2226.85 284.453 Q2229.85 284.453 2231.48 283.434 Q2233.1 282.393 2233.1 280.518 Q2233.1 278.782 2231.92 277.856 Q2230.76 276.93 2226.8 276.073 L2225.32 275.726 Q2221.36 274.893 2219.6 273.18 Q2217.84 271.444 2217.84 268.434 Q2217.84 264.777 2220.43 262.786 Q2223.03 260.795 2227.79 260.795 Q2230.16 260.795 2232.24 261.143 Q2234.32 261.49 2236.08 262.184 Z\" fill=\"#000000\" fill-rule=\"evenodd\" fill-opacity=\"1\" /></svg>\n"
          },
          "metadata": {},
          "execution_count": 141
        }
      ]
    },
    {
      "cell_type": "markdown",
      "metadata": {
        "id": "awy-PK3D5pQF"
      },
      "source": [
        "And there we have it!\n",
        "\n",
        "Note: We've had some confusion about this exercise. :) This is a joke about how people often conflate correlation and causation.\n",
        "\n",
        "**Without changing syntax, we can create this plot with the UnicodePlots backend**"
      ]
    },
    {
      "cell_type": "code",
      "metadata": {
        "id": "cSdhtRiy5pQF",
        "colab": {
          "base_uri": "https://localhost:8080/"
        },
        "outputId": "bd1766f3-2fd2-44f7-e586-3dc2eab1b0b9"
      },
      "source": [
        "Pkg.add(\"UnicodePlots\")\n",
        "unicodeplots()"
      ],
      "execution_count": null,
      "outputs": [
        {
          "output_type": "stream",
          "name": "stderr",
          "text": [
            "\u001b[32m\u001b[1m   Resolving\u001b[22m\u001b[39m package versions...\n",
            "\u001b[32m\u001b[1m   Installed\u001b[22m\u001b[39m Crayons ────── v4.0.4\n",
            "\u001b[32m\u001b[1m   Installed\u001b[22m\u001b[39m UnicodePlots ─ v2.4.6\n",
            "\u001b[32m\u001b[1m    Updating\u001b[22m\u001b[39m `~/.julia/environments/v1.6/Project.toml`\n",
            " \u001b[90m [b8865327] \u001b[39m\u001b[92m+ UnicodePlots v2.4.6\u001b[39m\n",
            "\u001b[32m\u001b[1m    Updating\u001b[22m\u001b[39m `~/.julia/environments/v1.6/Manifest.toml`\n",
            " \u001b[90m [a8cc5b0e] \u001b[39m\u001b[92m+ Crayons v4.0.4\u001b[39m\n",
            " \u001b[90m [b8865327] \u001b[39m\u001b[92m+ UnicodePlots v2.4.6\u001b[39m\n",
            "\u001b[32m\u001b[1mPrecompiling\u001b[22m\u001b[39m project...\n",
            "\u001b[32m  ✓ \u001b[39m\u001b[90mCrayons\u001b[39m\n",
            "\u001b[32m  ✓ \u001b[39mUnicodePlots\n",
            "2 dependencies successfully precompiled in 4 seconds (130 already precompiled)\n"
          ]
        },
        {
          "output_type": "execute_result",
          "data": {
            "text/plain": [
              "Plots.UnicodePlotsBackend()"
            ]
          },
          "metadata": {},
          "execution_count": 142
        }
      ]
    },
    {
      "cell_type": "code",
      "metadata": {
        "id": "QtAF0d8s5pQU",
        "colab": {
          "base_uri": "https://localhost:8080/"
        },
        "outputId": "0f4a8411-dacb-4063-8abc-ae765a87191e"
      },
      "source": [
        "plot(numpirates, globaltemperatures, label=\"line\")  \n",
        "scatter!(numpirates, globaltemperatures, label=\"points\") \n",
        "xlabel!(\"Number of Pirates [Approximate]\")\n",
        "ylabel!(\"Global Temperature (C)\")\n",
        "title!(\"Influence of pirate population on global warming\")"
      ],
      "execution_count": null,
      "outputs": [
        {
          "output_type": "execute_result",
          "data": {
            "text/plain": [
              "\u0000                          \u001b[1mInfluence of pirate population on global warming\u001b[22m       \n",
              "\u0000                          \u001b[90m+----------------------------------------+\u001b[39m             \n",
              "\u0000                   \u001b[90m15.842\u001b[39m \u001b[90m|\u001b[39m\u001b[0m \u001b[38;5;175m⚬\u001b[39m\u001b[0m \u001b[0m \u001b[0m \u001b[0m \u001b[0m \u001b[0m \u001b[0m \u001b[0m \u001b[0m \u001b[0m \u001b[0m \u001b[0m \u001b[0m \u001b[0m \u001b[0m \u001b[0m \u001b[0m \u001b[0m \u001b[0m \u001b[0m \u001b[0m \u001b[0m \u001b[0m \u001b[0m \u001b[0m \u001b[0m \u001b[0m \u001b[0m \u001b[0m \u001b[0m \u001b[0m \u001b[0m \u001b[0m \u001b[0m \u001b[0m \u001b[0m \u001b[0m \u001b[0m \u001b[90m|\u001b[39m \u001b[38;5;39mline\u001b[39m        \n",
              "\u0000                          \u001b[90m|\u001b[39m\u001b[0m \u001b[38;5;39m|\u001b[39m\u001b[0m \u001b[0m \u001b[0m \u001b[0m \u001b[0m \u001b[0m \u001b[0m \u001b[0m \u001b[0m \u001b[0m \u001b[0m \u001b[0m \u001b[0m \u001b[0m \u001b[0m \u001b[0m \u001b[0m \u001b[0m \u001b[0m \u001b[0m \u001b[0m \u001b[0m \u001b[0m \u001b[0m \u001b[0m \u001b[0m \u001b[0m \u001b[0m \u001b[0m \u001b[0m \u001b[0m \u001b[0m \u001b[0m \u001b[0m \u001b[0m \u001b[0m \u001b[0m \u001b[0m \u001b[90m|\u001b[39m \u001b[38;5;173mpoints\u001b[39m      \n",
              "\u0000                          \u001b[90m|\u001b[39m\u001b[0m \u001b[38;5;39m\\\u001b[39m\u001b[0m \u001b[0m \u001b[0m \u001b[0m \u001b[0m \u001b[0m \u001b[0m \u001b[0m \u001b[0m \u001b[0m \u001b[0m \u001b[0m \u001b[0m \u001b[0m \u001b[0m \u001b[0m \u001b[0m \u001b[0m \u001b[0m \u001b[0m \u001b[0m \u001b[0m \u001b[0m \u001b[0m \u001b[0m \u001b[0m \u001b[0m \u001b[0m \u001b[0m \u001b[0m \u001b[0m \u001b[0m \u001b[0m \u001b[0m \u001b[0m \u001b[0m \u001b[0m \u001b[0m \u001b[90m|\u001b[39m             \n",
              "\u0000                          \u001b[90m|\u001b[39m\u001b[0m \u001b[38;5;175m⚬\u001b[39m\u001b[0m \u001b[0m \u001b[0m \u001b[0m \u001b[0m \u001b[0m \u001b[0m \u001b[0m \u001b[0m \u001b[0m \u001b[0m \u001b[0m \u001b[0m \u001b[0m \u001b[0m \u001b[0m \u001b[0m \u001b[0m \u001b[0m \u001b[0m \u001b[0m \u001b[0m \u001b[0m \u001b[0m \u001b[0m \u001b[0m \u001b[0m \u001b[0m \u001b[0m \u001b[0m \u001b[0m \u001b[0m \u001b[0m \u001b[0m \u001b[0m \u001b[0m \u001b[0m \u001b[0m \u001b[90m|\u001b[39m             \n",
              "\u0000                          \u001b[90m|\u001b[39m\u001b[0m \u001b[0m|\u001b[38;5;39m*\u001b[39m\u001b[38;5;39m.\u001b[39m\u001b[0m \u001b[0m \u001b[0m \u001b[0m \u001b[0m \u001b[0m \u001b[0m \u001b[0m \u001b[0m \u001b[0m \u001b[0m \u001b[0m \u001b[0m \u001b[0m \u001b[0m \u001b[0m \u001b[0m \u001b[0m \u001b[0m \u001b[0m \u001b[0m \u001b[0m \u001b[0m \u001b[0m \u001b[0m \u001b[0m \u001b[0m \u001b[0m \u001b[0m \u001b[0m \u001b[0m \u001b[0m \u001b[0m \u001b[0m \u001b[0m \u001b[0m \u001b[90m|\u001b[39m             \n",
              "\u0000                          \u001b[90m|\u001b[39m\u001b[0m \u001b[0m|\u001b[0m \u001b[38;5;39m\\\u001b[39m\u001b[38;5;39m.\u001b[39m\u001b[0m \u001b[0m \u001b[0m \u001b[0m \u001b[0m \u001b[0m \u001b[0m \u001b[0m \u001b[0m \u001b[0m \u001b[0m \u001b[0m \u001b[0m \u001b[0m \u001b[0m \u001b[0m \u001b[0m \u001b[0m \u001b[0m \u001b[0m \u001b[0m \u001b[0m \u001b[0m \u001b[0m \u001b[0m \u001b[0m \u001b[0m \u001b[0m \u001b[0m \u001b[0m \u001b[0m \u001b[0m \u001b[0m \u001b[0m \u001b[0m \u001b[90m|\u001b[39m             \n",
              "\u0000                          \u001b[90m|\u001b[39m\u001b[0m \u001b[0m|\u001b[0m \u001b[0m \u001b[38;5;39m\"\u001b[39m\u001b[38;5;175m⚬\u001b[39m\u001b[38;5;39m.\u001b[39m\u001b[0m \u001b[0m \u001b[0m \u001b[0m \u001b[0m \u001b[0m \u001b[0m \u001b[0m \u001b[0m \u001b[0m \u001b[0m \u001b[0m \u001b[0m \u001b[0m \u001b[0m \u001b[0m \u001b[0m \u001b[0m \u001b[0m \u001b[0m \u001b[0m \u001b[0m \u001b[0m \u001b[0m \u001b[0m \u001b[0m \u001b[0m \u001b[0m \u001b[0m \u001b[0m \u001b[0m \u001b[0m \u001b[0m \u001b[90m|\u001b[39m             \n",
              "\u0000   \u001b[0mGlobal Temperature (C) \u001b[90m|\u001b[39m\u001b[0m \u001b[0m|\u001b[0m \u001b[0m \u001b[0m \u001b[0m \u001b[38;5;39m\"\u001b[39m\u001b[38;5;39m*\u001b[39m\u001b[38;5;39m.\u001b[39m\u001b[0m \u001b[0m \u001b[0m \u001b[0m \u001b[0m \u001b[0m \u001b[0m \u001b[0m \u001b[0m \u001b[0m \u001b[0m \u001b[0m \u001b[0m \u001b[0m \u001b[0m \u001b[0m \u001b[0m \u001b[0m \u001b[0m \u001b[0m \u001b[0m \u001b[0m \u001b[0m \u001b[0m \u001b[0m \u001b[0m \u001b[0m \u001b[0m \u001b[0m \u001b[0m \u001b[0m \u001b[90m|\u001b[39m             \n",
              "\u0000                          \u001b[90m|\u001b[39m\u001b[0m \u001b[0m|\u001b[0m \u001b[0m \u001b[0m \u001b[0m \u001b[0m \u001b[0m \u001b[38;5;39m\"\u001b[39m\u001b[38;5;39m*\u001b[39m\u001b[38;5;39m.\u001b[39m\u001b[0m \u001b[0m \u001b[0m \u001b[0m \u001b[0m \u001b[0m \u001b[0m \u001b[0m \u001b[0m \u001b[0m \u001b[0m \u001b[0m \u001b[0m \u001b[0m \u001b[0m \u001b[0m \u001b[0m \u001b[0m \u001b[0m \u001b[0m \u001b[0m \u001b[0m \u001b[0m \u001b[0m \u001b[0m \u001b[0m \u001b[0m \u001b[0m \u001b[0m \u001b[90m|\u001b[39m             \n",
              "\u0000                          \u001b[90m|\u001b[39m\u001b[0m \u001b[0m|\u001b[0m \u001b[0m \u001b[0m \u001b[0m \u001b[0m \u001b[0m \u001b[0m \u001b[0m \u001b[38;5;39m\"\u001b[39m\u001b[38;5;39m*\u001b[39m\u001b[38;5;39m.\u001b[39m\u001b[0m \u001b[0m \u001b[0m \u001b[0m \u001b[0m \u001b[0m \u001b[0m \u001b[0m \u001b[0m \u001b[0m \u001b[0m \u001b[0m \u001b[0m \u001b[0m \u001b[0m \u001b[0m \u001b[0m \u001b[0m \u001b[0m \u001b[0m \u001b[0m \u001b[0m \u001b[0m \u001b[0m \u001b[0m \u001b[0m \u001b[0m \u001b[90m|\u001b[39m             \n",
              "\u0000                          \u001b[90m|\u001b[39m\u001b[0m \u001b[0m|\u001b[0m \u001b[0m \u001b[0m \u001b[0m \u001b[0m \u001b[0m \u001b[0m \u001b[0m \u001b[0m \u001b[0m \u001b[38;5;39m\"\u001b[39m\u001b[38;5;175m⚬\u001b[39m\u001b[38;5;39m.\u001b[39m\u001b[0m \u001b[0m \u001b[0m \u001b[0m \u001b[0m \u001b[0m \u001b[0m \u001b[0m \u001b[0m \u001b[0m \u001b[0m \u001b[0m \u001b[0m \u001b[0m \u001b[0m \u001b[0m \u001b[0m \u001b[0m \u001b[0m \u001b[0m \u001b[0m \u001b[0m \u001b[0m \u001b[0m \u001b[0m \u001b[90m|\u001b[39m             \n",
              "\u0000                          \u001b[90m|\u001b[39m\u001b[0m \u001b[0m|\u001b[0m \u001b[0m \u001b[0m \u001b[0m \u001b[0m \u001b[0m \u001b[0m \u001b[0m \u001b[0m \u001b[0m \u001b[0m \u001b[0m \u001b[38;5;39m\\\u001b[39m\u001b[38;5;39m.\u001b[39m\u001b[0m \u001b[0m \u001b[0m \u001b[0m \u001b[0m \u001b[0m \u001b[0m \u001b[0m \u001b[0m \u001b[0m \u001b[0m \u001b[0m \u001b[0m \u001b[0m \u001b[0m \u001b[0m \u001b[0m \u001b[0m \u001b[0m \u001b[0m \u001b[0m \u001b[0m \u001b[0m \u001b[0m \u001b[90m|\u001b[39m             \n",
              "\u0000                          \u001b[90m|\u001b[39m\u001b[0m \u001b[0m|\u001b[0m \u001b[0m \u001b[0m \u001b[0m \u001b[0m \u001b[0m \u001b[0m \u001b[0m \u001b[0m \u001b[0m \u001b[0m \u001b[0m \u001b[0m \u001b[38;5;39m\"\u001b[39m\u001b[38;5;39m.\u001b[39m\u001b[0m \u001b[0m \u001b[0m \u001b[0m \u001b[0m \u001b[0m \u001b[0m \u001b[0m \u001b[0m \u001b[0m \u001b[0m \u001b[0m \u001b[0m \u001b[0m \u001b[0m \u001b[0m \u001b[0m \u001b[0m \u001b[0m \u001b[0m \u001b[0m \u001b[0m \u001b[0m \u001b[90m|\u001b[39m             \n",
              "\u0000                          \u001b[90m|\u001b[39m\u001b[0m \u001b[0m|\u001b[0m \u001b[0m \u001b[0m \u001b[0m \u001b[0m \u001b[0m \u001b[0m \u001b[0m \u001b[0m \u001b[0m \u001b[0m \u001b[0m \u001b[0m \u001b[0m \u001b[0m \u001b[38;5;175m⚬\u001b[39m\u001b[38;5;39m-\u001b[39m\u001b[38;5;39m-\u001b[39m\u001b[38;5;39m_\u001b[39m\u001b[38;5;39m_\u001b[39m\u001b[38;5;39m_\u001b[39m\u001b[38;5;39m_\u001b[39m\u001b[38;5;39m_\u001b[39m\u001b[38;5;39m_\u001b[39m\u001b[38;5;39m_\u001b[39m\u001b[0m \u001b[0m \u001b[0m \u001b[0m \u001b[0m \u001b[0m \u001b[0m \u001b[0m \u001b[0m \u001b[0m \u001b[0m \u001b[0m \u001b[0m \u001b[90m|\u001b[39m             \n",
              "\u0000                   \u001b[90m14.358\u001b[39m \u001b[90m|\u001b[39m\u001b[0m \u001b[0m|\u001b[0m \u001b[0m \u001b[0m \u001b[0m \u001b[0m \u001b[0m \u001b[0m \u001b[0m \u001b[0m \u001b[0m \u001b[0m \u001b[0m \u001b[0m \u001b[0m \u001b[0m \u001b[0m \u001b[0m \u001b[0m \u001b[0m \u001b[0m \u001b[0m \u001b[0m \u001b[0m \u001b[0m \u001b[0m \u001b[38;5;39m\"\u001b[39m\u001b[38;5;39m\"\u001b[39m\u001b[38;5;39m\"\u001b[39m\u001b[38;5;39m\"\u001b[39m\u001b[38;5;39m\"\u001b[39m\u001b[38;5;39m\"\u001b[39m\u001b[38;5;39m\\\u001b[39m\u001b[38;5;39m-\u001b[39m\u001b[38;5;39m-\u001b[39m\u001b[38;5;39m-\u001b[39m\u001b[38;5;39m-\u001b[39m\u001b[38;5;175m⚬\u001b[39m\u001b[0m \u001b[90m|\u001b[39m             \n",
              "\u0000                          \u001b[90m+----------------------------------------+\u001b[39m             \n",
              "\u0000                           \u001b[90m-1332.49\u001b[39m\u001b[0mNumber of Pirates [Approximate]\u001b[90m46349.5\u001b[39m        \n"
            ]
          },
          "metadata": {},
          "execution_count": 143
        }
      ]
    },
    {
      "cell_type": "markdown",
      "metadata": {
        "collapsed": true,
        "id": "JAgXE8fM5pQU"
      },
      "source": [
        "And notice how this second plot differs from the first!  Using text like this is a little silly in a Jupyter notebook where we have fancy drawing capabilities, but it can be very useful for quick and dirty visualization in a terminal."
      ]
    },
    {
      "cell_type": "code",
      "metadata": {
        "id": "RSBZdlx66kA5"
      },
      "source": [
        ""
      ],
      "execution_count": null,
      "outputs": []
    },
    {
      "cell_type": "markdown",
      "metadata": {
        "id": "CwUdrmz-7Avf"
      },
      "source": [
        "# Multiple dispatch"
      ]
    },
    {
      "cell_type": "markdown",
      "metadata": {
        "id": "mocd6S7T7Avu"
      },
      "source": [
        "In this notebook we'll explore **multiple dispatch**, which is a key feature of Julia.\n",
        "\n",
        "Multiple dispatch makes software *generic* and *fast*!\n",
        "\n",
        "#### Starting with the familiar\n",
        "\n",
        "To understand multiple dispatch in Julia, let's start with what we've already seen.\n",
        "\n",
        "We can declare functions in Julia without giving Julia any information about the types of the input arguments that function will receive:"
      ]
    },
    {
      "cell_type": "code",
      "metadata": {
        "id": "ZKbmbMqf7Avw",
        "colab": {
          "base_uri": "https://localhost:8080/"
        },
        "outputId": "ea73ce98-3502-4a38-f7f4-35ff4ab0aae4"
      },
      "source": [
        "f(x) = x^2"
      ],
      "execution_count": null,
      "outputs": [
        {
          "output_type": "execute_result",
          "data": {
            "text/plain": [
              "f (generic function with 1 method)"
            ]
          },
          "metadata": {},
          "execution_count": 145
        }
      ]
    },
    {
      "cell_type": "markdown",
      "metadata": {
        "id": "c4AFyJX77Av3"
      },
      "source": [
        "and then Julia will determine on its own which input argument types make sense and which do not:"
      ]
    },
    {
      "cell_type": "code",
      "metadata": {
        "id": "bY8fXrry7Av6",
        "colab": {
          "base_uri": "https://localhost:8080/"
        },
        "outputId": "d470af36-9e76-47d3-d7ec-ed732ed31f20"
      },
      "source": [
        "f(10)"
      ],
      "execution_count": null,
      "outputs": [
        {
          "output_type": "execute_result",
          "data": {
            "text/plain": [
              "100"
            ]
          },
          "metadata": {},
          "execution_count": 146
        }
      ]
    },
    {
      "cell_type": "code",
      "metadata": {
        "id": "oMT_Uccj7Av8",
        "colab": {
          "base_uri": "https://localhost:8080/",
          "height": 401
        },
        "outputId": "08dfd07b-491d-487b-b2f0-16d75cafc862"
      },
      "source": [
        "f([1, 2, 3])"
      ],
      "execution_count": null,
      "outputs": [
        {
          "output_type": "error",
          "ename": "LoadError",
          "evalue": "ignored",
          "traceback": [
            "MethodError: no method matching ^(::Vector{Int64}, ::Int64)\n\u001b[0mClosest candidates are:\n\u001b[0m  ^(\u001b[91m::Union{AbstractChar, AbstractString}\u001b[39m, ::Integer) at strings/basic.jl:718\n\u001b[0m  ^(\u001b[91m::Complex{var\"#s79\"} where var\"#s79\"<:AbstractFloat\u001b[39m, ::Integer) at complex.jl:818\n\u001b[0m  ^(\u001b[91m::Complex{var\"#s79\"} where var\"#s79\"<:Integer\u001b[39m, ::Integer) at complex.jl:820\n\u001b[0m  ...",
            "",
            "Stacktrace:",
            " [1] macro expansion",
            "   @ ./none:0 [inlined]",
            " [2] literal_pow",
            "   @ ./none:0 [inlined]",
            " [3] f(x::Vector{Int64})",
            "   @ Main ./In[145]:1",
            " [4] top-level scope",
            "   @ In[147]:1",
            " [5] eval",
            "   @ ./boot.jl:360 [inlined]",
            " [6] include_string(mapexpr::typeof(REPL.softscope), mod::Module, code::String, filename::String)",
            "   @ Base ./loading.jl:1094"
          ]
        }
      ]
    },
    {
      "cell_type": "markdown",
      "metadata": {
        "id": "-GLqIDcb7Av9"
      },
      "source": [
        "#### Specifying the types of our input arguments\n",
        "\n",
        "However, we also have the *option* to tell Julia explicitly what types our input arguments are allowed to have.\n",
        "\n",
        "For example, let's write a function `foo` that only takes strings as inputs."
      ]
    },
    {
      "cell_type": "code",
      "metadata": {
        "id": "bb1kJ5Ry7Av_",
        "colab": {
          "base_uri": "https://localhost:8080/"
        },
        "outputId": "5f2f4290-d06c-4084-9484-60e2ef40f8ea"
      },
      "source": [
        "foo(x::String, y::String) = println(\"My inputs x and y are both strings!\")"
      ],
      "execution_count": null,
      "outputs": [
        {
          "output_type": "execute_result",
          "data": {
            "text/plain": [
              "foo (generic function with 1 method)"
            ]
          },
          "metadata": {},
          "execution_count": 148
        }
      ]
    },
    {
      "cell_type": "markdown",
      "metadata": {
        "id": "_bChD5zw7AwB"
      },
      "source": [
        "We see here that in order to restrict the type of `x` and `y` to `String`s, we just follow the input argument name by a double colon and the keyword `String`.\n",
        "\n",
        "Now we'll see that `foo` works on `String`s and doesn't work on other input argument types."
      ]
    },
    {
      "cell_type": "code",
      "metadata": {
        "id": "-GK7-l-E7AwE",
        "colab": {
          "base_uri": "https://localhost:8080/"
        },
        "outputId": "a51baf5a-c400-430f-99b8-5a0951c8a26e"
      },
      "source": [
        "foo(\"hello\", \"hi!\")"
      ],
      "execution_count": null,
      "outputs": [
        {
          "output_type": "stream",
          "name": "stdout",
          "text": [
            "My inputs x and y are both strings!\n"
          ]
        }
      ]
    },
    {
      "cell_type": "code",
      "metadata": {
        "id": "T8JkCcmb7AwF",
        "colab": {
          "base_uri": "https://localhost:8080/",
          "height": 214
        },
        "outputId": "0a87dd7b-18a5-42f8-ca34-1075bce95a02"
      },
      "source": [
        "foo(3, 4)"
      ],
      "execution_count": null,
      "outputs": [
        {
          "output_type": "error",
          "ename": "LoadError",
          "evalue": "ignored",
          "traceback": [
            "MethodError: no method matching foo(::Int64, ::Int64)",
            "",
            "Stacktrace:",
            " [1] top-level scope",
            "   @ In[150]:1",
            " [2] eval",
            "   @ ./boot.jl:360 [inlined]",
            " [3] include_string(mapexpr::typeof(REPL.softscope), mod::Module, code::String, filename::String)",
            "   @ Base ./loading.jl:1094"
          ]
        }
      ]
    },
    {
      "cell_type": "markdown",
      "metadata": {
        "id": "QlAG6A9s7AwG"
      },
      "source": [
        "To get `foo` to work on integer (`Int`) inputs, let's tack `::Int` onto our input arguments when we declare `foo`."
      ]
    },
    {
      "cell_type": "code",
      "metadata": {
        "id": "We1ZI5rD7AwH",
        "colab": {
          "base_uri": "https://localhost:8080/"
        },
        "outputId": "cd515d5f-c71e-4c81-a24a-2034a2470f0a"
      },
      "source": [
        "foo(x::Int, y::Int) = println(\"My inputs x and y are both integers!\")"
      ],
      "execution_count": null,
      "outputs": [
        {
          "output_type": "execute_result",
          "data": {
            "text/plain": [
              "foo (generic function with 2 methods)"
            ]
          },
          "metadata": {},
          "execution_count": 151
        }
      ]
    },
    {
      "cell_type": "code",
      "metadata": {
        "id": "q8JKnyrH7AwJ",
        "colab": {
          "base_uri": "https://localhost:8080/"
        },
        "outputId": "45a593a6-d862-4460-c985-119ffad68034"
      },
      "source": [
        "foo(3, 4)"
      ],
      "execution_count": null,
      "outputs": [
        {
          "output_type": "stream",
          "name": "stdout",
          "text": [
            "My inputs x and y are both integers!\n"
          ]
        }
      ]
    },
    {
      "cell_type": "markdown",
      "metadata": {
        "id": "QbafgKZ97AwJ"
      },
      "source": [
        "Now `foo` works on integers! But look, `foo` also still works when `x` and `y` are strings!"
      ]
    },
    {
      "cell_type": "code",
      "metadata": {
        "id": "0GOvTzjQ7AwL",
        "colab": {
          "base_uri": "https://localhost:8080/"
        },
        "outputId": "9f41c97d-0e64-4a2a-ed1a-fae33c1ddd3d"
      },
      "source": [
        "foo(\"hello\", \"hi!\")"
      ],
      "execution_count": null,
      "outputs": [
        {
          "output_type": "stream",
          "name": "stdout",
          "text": [
            "My inputs x and y are both strings!\n"
          ]
        }
      ]
    },
    {
      "cell_type": "markdown",
      "metadata": {
        "id": "20CF5tRA7AwM"
      },
      "source": [
        "This is starting to get to the heart of multiple dispatch. When we declared\n",
        "\n",
        "```julia\n",
        "foo(x::Int, y::Int) = println(\"My inputs x and y are both integers!\")\n",
        "```\n",
        "we didn't overwrite or replace\n",
        "```julia\n",
        "foo(y::String, y::String)```\n",
        "\n",
        "Instead, we just added an additional ***method*** to the ***generic function*** called `foo`.\n",
        "\n",
        "A ***generic function*** is the abstract concept associated with a particular operation.\n",
        "\n",
        "For example, the generic function `+` represents the concept of addition.\n",
        "\n",
        "A ***method*** is a specific implementation of a generic function for *particular argument types*.\n",
        "\n",
        "For example, `+` has methods that accept floating point numbers, integers, matrices, etc.\n",
        "\n",
        "We can use the `methods` to see how many methods there are for `foo`."
      ]
    },
    {
      "cell_type": "code",
      "metadata": {
        "id": "aggQrC027AwN",
        "colab": {
          "base_uri": "https://localhost:8080/",
          "height": 80
        },
        "outputId": "39a4ee4f-8491-4456-90c9-854bf629d0f5"
      },
      "source": [
        "methods(foo)"
      ],
      "execution_count": null,
      "outputs": [
        {
          "output_type": "execute_result",
          "data": {
            "text/html": [
              "# 2 methods for generic function <b>foo</b>:<ul><li> foo(x::<b>String</b>, y::<b>String</b>) in Main at In[148]:1</li> <li> foo(x::<b>Int64</b>, y::<b>Int64</b>) in Main at In[151]:1</li> </ul>"
            ],
            "text/plain": [
              "# 2 methods for generic function \"foo\":\n",
              "[1] foo(x::String, y::String) in Main at In[148]:1\n",
              "[2] foo(x::Int64, y::Int64) in Main at In[151]:1"
            ]
          },
          "metadata": {},
          "execution_count": 154
        }
      ]
    },
    {
      "cell_type": "markdown",
      "metadata": {
        "id": "dTNoG5h67AwO"
      },
      "source": [
        "Aside: how many methods do you think there are for addition?"
      ]
    },
    {
      "cell_type": "code",
      "metadata": {
        "id": "s4RcmDVr7AwP",
        "colab": {
          "base_uri": "https://localhost:8080/",
          "height": 1000
        },
        "outputId": "5a019695-5c11-405a-af92-511cac796d32"
      },
      "source": [
        "methods(+)"
      ],
      "execution_count": null,
      "outputs": [
        {
          "output_type": "execute_result",
          "data": {
            "text/html": [
              "# 243 methods for generic function <b>+</b>:<ul><li> +(x::<b>T</b>, y::<b>T</b>)<i> where T<:Union{Int128, Int16, Int32, Int64, Int8, UInt128, UInt16, UInt32, UInt64, UInt8}</i> in Base at <a href=\"https://github.com/JuliaLang/julia/tree/f9720dc2ebd6cd9e3086365f281e62506444ef37/base/int.jl#L87\" target=\"_blank\">int.jl:87</a></li> <li> +(c::<b>Union{UInt16, UInt32, UInt64, UInt8}</b>, x::<b>BigInt</b>) in Base.GMP at <a href=\"https://github.com/JuliaLang/julia/tree/f9720dc2ebd6cd9e3086365f281e62506444ef37/base/gmp.jl#L528\" target=\"_blank\">gmp.jl:528</a></li> <li> +(c::<b>Union{Int16, Int32, Int64, Int8}</b>, x::<b>BigInt</b>) in Base.GMP at <a href=\"https://github.com/JuliaLang/julia/tree/f9720dc2ebd6cd9e3086365f281e62506444ef37/base/gmp.jl#L534\" target=\"_blank\">gmp.jl:534</a></li> <li> +(c::<b>Union{UInt16, UInt32, UInt64, UInt8}</b>, x::<b>BigFloat</b>) in Base.MPFR at <a href=\"https://github.com/JuliaLang/julia/tree/f9720dc2ebd6cd9e3086365f281e62506444ef37/base/mpfr.jl#L376\" target=\"_blank\">mpfr.jl:376</a></li> <li> +(c::<b>Union{Int16, Int32, Int64, Int8}</b>, x::<b>BigFloat</b>) in Base.MPFR at <a href=\"https://github.com/JuliaLang/julia/tree/f9720dc2ebd6cd9e3086365f281e62506444ef37/base/mpfr.jl#L384\" target=\"_blank\">mpfr.jl:384</a></li> <li> +(c::<b>Union{Float16, Float32, Float64}</b>, x::<b>BigFloat</b>) in Base.MPFR at <a href=\"https://github.com/JuliaLang/julia/tree/f9720dc2ebd6cd9e3086365f281e62506444ef37/base/mpfr.jl#L392\" target=\"_blank\">mpfr.jl:392</a></li> <li> +(x::<b>Union{Dates.CompoundPeriod, Dates.Period}</b>) in Dates at <a href=\"file:///buildworker/worker/package_linux64/build/usr/share/julia/stdlib/v1.6/Dates/src/periods.jl\" target=\"_blank\">/usr/local/share/julia/stdlib/v1.6/Dates/src/periods.jl:362</a></li> <li> +(a::<b>Union{LMS, XYZ}</b>, b::<b>Union{LMS, XYZ}</b>) in Colors at <a href=\"file:///root/.julia/packages/Colors/yDxFN/src/algorithms.jl\" target=\"_blank\">/root/.julia/packages/Colors/yDxFN/src/algorithms.jl:4</a></li> <li> +(a::<b>StaticArrays.StaticMatrix{N, M, T} where {N, M, T}</b>, b::<b>LinearAlgebra.UniformScaling</b>) in StaticArrays at <a href=\"file:///root/.julia/packages/StaticArrays/OWJK7/src/linalg.jl\" target=\"_blank\">/root/.julia/packages/StaticArrays/OWJK7/src/linalg.jl:29</a></li> <li> +(a::<b>StaticArrays.StaticArray</b>) in StaticArrays at <a href=\"file:///root/.julia/packages/StaticArrays/OWJK7/src/linalg.jl\" target=\"_blank\">/root/.julia/packages/StaticArrays/OWJK7/src/linalg.jl:7</a></li> <li> +(a::<b>StaticArrays.StaticArray</b>, b::<b>StaticArrays.StaticArray</b>) in StaticArrays at <a href=\"file:///root/.julia/packages/StaticArrays/OWJK7/src/linalg.jl\" target=\"_blank\">/root/.julia/packages/StaticArrays/OWJK7/src/linalg.jl:12</a></li> <li> +(a::<b>StaticArrays.StaticArray</b>, b::<b>AbstractArray</b>) in StaticArrays at <a href=\"file:///root/.julia/packages/StaticArrays/OWJK7/src/linalg.jl\" target=\"_blank\">/root/.julia/packages/StaticArrays/OWJK7/src/linalg.jl:14</a></li> <li> +(index1::<b>CartesianIndex{N}</b>, index2::<b>CartesianIndex{N}</b>)<i> where N</i> in Base.IteratorsMD at <a href=\"https://github.com/JuliaLang/julia/tree/f9720dc2ebd6cd9e3086365f281e62506444ef37/base/multidimensional.jl#L114\" target=\"_blank\">multidimensional.jl:114</a></li> <li> +(a::<b>Tuple{Vararg{Measures.Measure, N}}</b>, b::<b>Tuple{Vararg{Measures.Measure, N}}</b>)<i> where N</i> in Measures at <a href=\"file:///root/.julia/packages/Measures/0Zkai/src/point.jl\" target=\"_blank\">/root/.julia/packages/Measures/0Zkai/src/point.jl:21</a></li> <li> +(a::<b>Tuple{Vararg{Measures.Measure, N}} where N</b>, b::<b>Tuple{Vararg{Measures.Measure, N}} where N</b>) in Measures at <a href=\"file:///root/.julia/packages/Measures/0Zkai/src/point.jl\" target=\"_blank\">/root/.julia/packages/Measures/0Zkai/src/point.jl:15</a></li> <li> +(a::<b>ChainRulesCore.Tangent{P, T} where T</b>, b::<b>ChainRulesCore.Tangent{P, T} where T</b>)<i> where P</i> in ChainRulesCore at <a href=\"file:///root/.julia/packages/ChainRulesCore/Y1Mee/src/tangent_arithmetic.jl\" target=\"_blank\">/root/.julia/packages/ChainRulesCore/Y1Mee/src/tangent_arithmetic.jl:128</a></li> <li> +(a::<b>ChainRulesCore.Tangent</b>, b::<b>ChainRulesCore.AbstractThunk</b>) in ChainRulesCore at <a href=\"file:///root/.julia/packages/ChainRulesCore/Y1Mee/src/tangent_arithmetic.jl\" target=\"_blank\">/root/.julia/packages/ChainRulesCore/Y1Mee/src/tangent_arithmetic.jl:122</a></li> <li> +(a::<b>ChainRulesCore.Tangent</b>, ::<b>ChainRulesCore.ZeroTangent</b>) in ChainRulesCore at <a href=\"file:///root/.julia/packages/ChainRulesCore/Y1Mee/src/tangent_arithmetic.jl\" target=\"_blank\">/root/.julia/packages/ChainRulesCore/Y1Mee/src/tangent_arithmetic.jl:99</a></li> <li> +(a::<b>ChainRulesCore.Tangent</b>, ::<b>ChainRulesCore.NoTangent</b>) in ChainRulesCore at <a href=\"file:///root/.julia/packages/ChainRulesCore/Y1Mee/src/tangent_arithmetic.jl\" target=\"_blank\">/root/.julia/packages/ChainRulesCore/Y1Mee/src/tangent_arithmetic.jl:59</a></li> <li> +(::<b>ChainRulesCore.Tangent</b>, x::<b>ChainRulesCore.NotImplemented</b>) in ChainRulesCore at <a href=\"file:///root/.julia/packages/ChainRulesCore/Y1Mee/src/tangent_arithmetic.jl\" target=\"_blank\">/root/.julia/packages/ChainRulesCore/Y1Mee/src/tangent_arithmetic.jl:25</a></li> <li> +(a::<b>ChainRulesCore.Tangent{P, T} where T</b>, b::<b>P</b>)<i> where P</i> in ChainRulesCore at <a href=\"file:///root/.julia/packages/ChainRulesCore/Y1Mee/src/tangent_arithmetic.jl\" target=\"_blank\">/root/.julia/packages/ChainRulesCore/Y1Mee/src/tangent_arithmetic.jl:145</a></li> <li> +(A::<b>SparseArrays.AbstractSparseMatrix{Tv, Ti} where {Tv, Ti}</b>, B::<b>LinearAlgebra.Hermitian{var\"#s832\", var\"#s831\"} where {var\"#s832\", var\"#s831\"<:(SparseArrays.AbstractSparseMatrix{Tv, Ti} where {Tv, Ti})}</b>) in SparseArrays at <a href=\"file:///buildworker/worker/package_linux64/build/usr/share/julia/stdlib/v1.6/SparseArrays/src/linalg.jl\" target=\"_blank\">/usr/local/share/julia/stdlib/v1.6/SparseArrays/src/linalg.jl:14</a></li> <li> +(A::<b>SparseArrays.AbstractSparseMatrix{Tv, Ti} where {Tv, Ti}</b>, B::<b>LinearAlgebra.Hermitian</b>) in SparseArrays at <a href=\"file:///buildworker/worker/package_linux64/build/usr/share/julia/stdlib/v1.6/SparseArrays/src/linalg.jl\" target=\"_blank\">/usr/local/share/julia/stdlib/v1.6/SparseArrays/src/linalg.jl:17</a></li> <li> +(A::<b>SparseArrays.AbstractSparseMatrix{Tv, Ti} where {Tv, Ti}</b>, B::<b>LinearAlgebra.Symmetric{var\"#s832\", var\"#s831\"} where {var\"#s832\", var\"#s831\"<:(SparseArrays.AbstractSparseMatrix{Tv, Ti} where {Tv, Ti})}</b>) in SparseArrays at <a href=\"file:///buildworker/worker/package_linux64/build/usr/share/julia/stdlib/v1.6/SparseArrays/src/linalg.jl\" target=\"_blank\">/usr/local/share/julia/stdlib/v1.6/SparseArrays/src/linalg.jl:14</a></li> <li> +(A::<b>SparseArrays.AbstractSparseMatrix{Tv, Ti} where {Tv, Ti}</b>, B::<b>LinearAlgebra.Symmetric</b>) in SparseArrays at <a href=\"file:///buildworker/worker/package_linux64/build/usr/share/julia/stdlib/v1.6/SparseArrays/src/linalg.jl\" target=\"_blank\">/usr/local/share/julia/stdlib/v1.6/SparseArrays/src/linalg.jl:17</a></li> <li> +(Da::<b>LinearAlgebra.Diagonal</b>, Db::<b>LinearAlgebra.Diagonal</b>) in LinearAlgebra at <a href=\"file:///buildworker/worker/package_linux64/build/usr/share/julia/stdlib/v1.6/LinearAlgebra/src/diagonal.jl\" target=\"_blank\">/usr/local/share/julia/stdlib/v1.6/LinearAlgebra/src/diagonal.jl:156</a></li> <li> +(D::<b>LinearAlgebra.Diagonal</b>, S::<b>LinearAlgebra.Symmetric</b>) in LinearAlgebra at <a href=\"file:///buildworker/worker/package_linux64/build/usr/share/julia/stdlib/v1.6/LinearAlgebra/src/diagonal.jl\" target=\"_blank\">/usr/local/share/julia/stdlib/v1.6/LinearAlgebra/src/diagonal.jl:160</a></li> <li> +(D::<b>LinearAlgebra.Diagonal{var\"#s832\", V} where {var\"#s832\"<:Real, V<:AbstractVector{var\"#s832\"}}</b>, H::<b>LinearAlgebra.Hermitian</b>) in LinearAlgebra at <a href=\"file:///buildworker/worker/package_linux64/build/usr/share/julia/stdlib/v1.6/LinearAlgebra/src/diagonal.jl\" target=\"_blank\">/usr/local/share/julia/stdlib/v1.6/LinearAlgebra/src/diagonal.jl:166</a></li> <li> +(A::<b>LinearAlgebra.Diagonal</b>, B::<b>LinearAlgebra.Bidiagonal</b>) in LinearAlgebra at <a href=\"file:///buildworker/worker/package_linux64/build/usr/share/julia/stdlib/v1.6/LinearAlgebra/src/special.jl\" target=\"_blank\">/usr/local/share/julia/stdlib/v1.6/LinearAlgebra/src/special.jl:125</a></li> <li> +(A::<b>LinearAlgebra.Diagonal</b>, B::<b>LinearAlgebra.SymTridiagonal</b>) in LinearAlgebra at <a href=\"file:///buildworker/worker/package_linux64/build/usr/share/julia/stdlib/v1.6/LinearAlgebra/src/special.jl\" target=\"_blank\">/usr/local/share/julia/stdlib/v1.6/LinearAlgebra/src/special.jl:135</a></li> <li> +(A::<b>LinearAlgebra.Diagonal</b>, B::<b>LinearAlgebra.Tridiagonal</b>) in LinearAlgebra at <a href=\"file:///buildworker/worker/package_linux64/build/usr/share/julia/stdlib/v1.6/LinearAlgebra/src/special.jl\" target=\"_blank\">/usr/local/share/julia/stdlib/v1.6/LinearAlgebra/src/special.jl:163</a></li> <li> +(A::<b>LinearAlgebra.Diagonal{var\"#s832\", V} where {var\"#s832\"<:Number, V<:AbstractVector{var\"#s832\"}}</b>, B::<b>LinearAlgebra.UniformScaling</b>) in LinearAlgebra at <a href=\"file:///buildworker/worker/package_linux64/build/usr/share/julia/stdlib/v1.6/LinearAlgebra/src/special.jl\" target=\"_blank\">/usr/local/share/julia/stdlib/v1.6/LinearAlgebra/src/special.jl:241</a></li> <li> +(x::<b>Base.TwicePrecision</b>, y::<b>Number</b>) in Base at <a href=\"https://github.com/JuliaLang/julia/tree/f9720dc2ebd6cd9e3086365f281e62506444ef37/base/twiceprecision.jl#L267\" target=\"_blank\">twiceprecision.jl:267</a></li> <li> +(x::<b>Base.TwicePrecision{T}</b>, y::<b>Base.TwicePrecision{T}</b>)<i> where T</i> in Base at <a href=\"https://github.com/JuliaLang/julia/tree/f9720dc2ebd6cd9e3086365f281e62506444ef37/base/twiceprecision.jl#L273\" target=\"_blank\">twiceprecision.jl:273</a></li> <li> +(x::<b>Base.TwicePrecision</b>, y::<b>Base.TwicePrecision</b>) in Base at <a href=\"https://github.com/JuliaLang/julia/tree/f9720dc2ebd6cd9e3086365f281e62506444ef37/base/twiceprecision.jl#L278\" target=\"_blank\">twiceprecision.jl:278</a></li> <li> +(x::<b>X</b>, y::<b>X</b>)<i> where X<:FixedPointNumbers.FixedPoint</i> in FixedPointNumbers at <a href=\"file:///root/.julia/packages/FixedPointNumbers/HAGk2/src/FixedPointNumbers.jl\" target=\"_blank\">/root/.julia/packages/FixedPointNumbers/HAGk2/src/FixedPointNumbers.jl:237</a></li> <li> +(x::<b>P</b>, y::<b>P</b>)<i> where P<:Dates.Period</i> in Dates at <a href=\"file:///buildworker/worker/package_linux64/build/usr/share/julia/stdlib/v1.6/Dates/src/periods.jl\" target=\"_blank\">/usr/local/share/julia/stdlib/v1.6/Dates/src/periods.jl:79</a></li> <li> +(x::<b>Dates.Period</b>, y::<b>Dates.Period</b>) in Dates at <a href=\"file:///buildworker/worker/package_linux64/build/usr/share/julia/stdlib/v1.6/Dates/src/periods.jl\" target=\"_blank\">/usr/local/share/julia/stdlib/v1.6/Dates/src/periods.jl:351</a></li> <li> +(y::<b>Dates.Period</b>, x::<b>Dates.CompoundPeriod</b>) in Dates at <a href=\"file:///buildworker/worker/package_linux64/build/usr/share/julia/stdlib/v1.6/Dates/src/periods.jl\" target=\"_blank\">/usr/local/share/julia/stdlib/v1.6/Dates/src/periods.jl:353</a></li> <li> +(y::<b>Dates.Period</b>, x::<b>Dates.TimeType</b>) in Dates at <a href=\"file:///buildworker/worker/package_linux64/build/usr/share/julia/stdlib/v1.6/Dates/src/arithmetic.jl\" target=\"_blank\">/usr/local/share/julia/stdlib/v1.6/Dates/src/arithmetic.jl:85</a></li> <li> +(x::<b>Dates.Period</b>, r::<b>AbstractRange{var\"#s832\"} where var\"#s832\"<:Dates.TimeType</b>) in Dates at <a href=\"file:///buildworker/worker/package_linux64/build/usr/share/julia/stdlib/v1.6/Dates/src/ranges.jl\" target=\"_blank\">/usr/local/share/julia/stdlib/v1.6/Dates/src/ranges.jl:62</a></li> <li> +(y::<b>Union{Dates.CompoundPeriod, Dates.Period}</b>, x::<b>AbstractArray{var\"#s832\", N} where {var\"#s832\"<:Dates.TimeType, N}</b>) in Dates at <a href=\"file:///buildworker/worker/package_linux64/build/usr/share/julia/stdlib/v1.6/Dates/src/deprecated.jl\" target=\"_blank\">/usr/local/share/julia/stdlib/v1.6/Dates/src/deprecated.jl:14</a></li> <li> +(J::<b>LinearAlgebra.UniformScaling</b>) in LinearAlgebra at <a href=\"file:///buildworker/worker/package_linux64/build/usr/share/julia/stdlib/v1.6/LinearAlgebra/src/uniformscaling.jl\" target=\"_blank\">/usr/local/share/julia/stdlib/v1.6/LinearAlgebra/src/uniformscaling.jl:150</a></li> <li> +(J::<b>LinearAlgebra.UniformScaling</b>, x::<b>Number</b>) in LinearAlgebra at <a href=\"file:///buildworker/worker/package_linux64/build/usr/share/julia/stdlib/v1.6/LinearAlgebra/src/uniformscaling.jl\" target=\"_blank\">/usr/local/share/julia/stdlib/v1.6/LinearAlgebra/src/uniformscaling.jl:145</a></li> <li> +(J1::<b>LinearAlgebra.UniformScaling</b>, J2::<b>LinearAlgebra.UniformScaling</b>) in LinearAlgebra at <a href=\"file:///buildworker/worker/package_linux64/build/usr/share/julia/stdlib/v1.6/LinearAlgebra/src/uniformscaling.jl\" target=\"_blank\">/usr/local/share/julia/stdlib/v1.6/LinearAlgebra/src/uniformscaling.jl:151</a></li> <li> +(J::<b>LinearAlgebra.UniformScaling</b>, B::<b>BitMatrix</b>) in LinearAlgebra at <a href=\"file:///buildworker/worker/package_linux64/build/usr/share/julia/stdlib/v1.6/LinearAlgebra/src/uniformscaling.jl\" target=\"_blank\">/usr/local/share/julia/stdlib/v1.6/LinearAlgebra/src/uniformscaling.jl:153</a></li> <li> +(J::<b>LinearAlgebra.UniformScaling</b>, F::<b>LinearAlgebra.Hessenberg</b>) in LinearAlgebra at <a href=\"file:///buildworker/worker/package_linux64/build/usr/share/julia/stdlib/v1.6/LinearAlgebra/src/hessenberg.jl\" target=\"_blank\">/usr/local/share/julia/stdlib/v1.6/LinearAlgebra/src/hessenberg.jl:560</a></li> <li> +(A::<b>LinearAlgebra.UniformScaling</b>, B::<b>LinearAlgebra.Tridiagonal{var\"#s832\", V} where {var\"#s832\"<:Number, V<:AbstractVector{var\"#s832\"}}</b>) in LinearAlgebra at <a href=\"file:///buildworker/worker/package_linux64/build/usr/share/julia/stdlib/v1.6/LinearAlgebra/src/special.jl\" target=\"_blank\">/usr/local/share/julia/stdlib/v1.6/LinearAlgebra/src/special.jl:245</a></li> <li> +(A::<b>LinearAlgebra.UniformScaling</b>, B::<b>LinearAlgebra.SymTridiagonal{var\"#s832\", V} where {var\"#s832\"<:Number, V<:AbstractVector{var\"#s832\"}}</b>) in LinearAlgebra at <a href=\"file:///buildworker/worker/package_linux64/build/usr/share/julia/stdlib/v1.6/LinearAlgebra/src/special.jl\" target=\"_blank\">/usr/local/share/julia/stdlib/v1.6/LinearAlgebra/src/special.jl:250</a></li> <li> +(A::<b>LinearAlgebra.UniformScaling</b>, B::<b>LinearAlgebra.Bidiagonal{var\"#s832\", V} where {var\"#s832\"<:Number, V<:AbstractVector{var\"#s832\"}}</b>) in LinearAlgebra at <a href=\"file:///buildworker/worker/package_linux64/build/usr/share/julia/stdlib/v1.6/LinearAlgebra/src/special.jl\" target=\"_blank\">/usr/local/share/julia/stdlib/v1.6/LinearAlgebra/src/special.jl:255</a></li> <li> +(A::<b>LinearAlgebra.UniformScaling</b>, B::<b>LinearAlgebra.Diagonal{var\"#s832\", V} where {var\"#s832\"<:Number, V<:AbstractVector{var\"#s832\"}}</b>) in LinearAlgebra at <a href=\"file:///buildworker/worker/package_linux64/build/usr/share/julia/stdlib/v1.6/LinearAlgebra/src/special.jl\" target=\"_blank\">/usr/local/share/julia/stdlib/v1.6/LinearAlgebra/src/special.jl:260</a></li> <li> +(a::<b>LinearAlgebra.UniformScaling</b>, b::<b>StaticArrays.StaticMatrix{N, M, T} where {N, M, T}</b>) in StaticArrays at <a href=\"file:///root/.julia/packages/StaticArrays/OWJK7/src/linalg.jl\" target=\"_blank\">/root/.julia/packages/StaticArrays/OWJK7/src/linalg.jl:30</a></li> <li> +(J::<b>LinearAlgebra.UniformScaling</b>, A::<b>AbstractMatrix{T} where T</b>) in LinearAlgebra at <a href=\"file:///buildworker/worker/package_linux64/build/usr/share/julia/stdlib/v1.6/LinearAlgebra/src/uniformscaling.jl\" target=\"_blank\">/usr/local/share/julia/stdlib/v1.6/LinearAlgebra/src/uniformscaling.jl:154</a></li> <li> +(x::<b>AbstractIrrational</b>, y::<b>AbstractIrrational</b>) in Base at <a href=\"https://github.com/JuliaLang/julia/tree/f9720dc2ebd6cd9e3086365f281e62506444ef37/base/irrationals.jl#L156\" target=\"_blank\">irrationals.jl:156</a></li> <li> +(x::<b>GeometryBasics.OffsetInteger{O, T} where T<:Integer</b>, y::<b>GeometryBasics.OffsetInteger{O, T} where T<:Integer</b>)<i> where O</i> in GeometryBasics at <a href=\"file:///root/.julia/packages/GeometryBasics/WMp6v/src/offsetintegers.jl\" target=\"_blank\">/root/.julia/packages/GeometryBasics/WMp6v/src/offsetintegers.jl:63</a></li> <li> +(x::<b>Dates.Instant</b>) in Dates at <a href=\"file:///buildworker/worker/package_linux64/build/usr/share/julia/stdlib/v1.6/Dates/src/arithmetic.jl\" target=\"_blank\">/usr/local/share/julia/stdlib/v1.6/Dates/src/arithmetic.jl:4</a></li> <li> +(A::<b>LinearAlgebra.Bidiagonal</b>, B::<b>LinearAlgebra.Bidiagonal</b>) in LinearAlgebra at <a href=\"file:///buildworker/worker/package_linux64/build/usr/share/julia/stdlib/v1.6/LinearAlgebra/src/bidiag.jl\" target=\"_blank\">/usr/local/share/julia/stdlib/v1.6/LinearAlgebra/src/bidiag.jl:354</a></li> <li> +(A::<b>LinearAlgebra.Bidiagonal</b>, B::<b>LinearAlgebra.UpperTriangular</b>) in LinearAlgebra at <a href=\"file:///buildworker/worker/package_linux64/build/usr/share/julia/stdlib/v1.6/LinearAlgebra/src/special.jl\" target=\"_blank\">/usr/local/share/julia/stdlib/v1.6/LinearAlgebra/src/special.jl:94</a></li> <li> +(A::<b>LinearAlgebra.Bidiagonal</b>, B::<b>LinearAlgebra.UnitUpperTriangular</b>) in LinearAlgebra at <a href=\"file:///buildworker/worker/package_linux64/build/usr/share/julia/stdlib/v1.6/LinearAlgebra/src/special.jl\" target=\"_blank\">/usr/local/share/julia/stdlib/v1.6/LinearAlgebra/src/special.jl:94</a></li> <li> +(A::<b>LinearAlgebra.Bidiagonal</b>, B::<b>LinearAlgebra.LowerTriangular</b>) in LinearAlgebra at <a href=\"file:///buildworker/worker/package_linux64/build/usr/share/julia/stdlib/v1.6/LinearAlgebra/src/special.jl\" target=\"_blank\">/usr/local/share/julia/stdlib/v1.6/LinearAlgebra/src/special.jl:94</a></li> <li> +(A::<b>LinearAlgebra.Bidiagonal</b>, B::<b>LinearAlgebra.UnitLowerTriangular</b>) in LinearAlgebra at <a href=\"file:///buildworker/worker/package_linux64/build/usr/share/julia/stdlib/v1.6/LinearAlgebra/src/special.jl\" target=\"_blank\">/usr/local/share/julia/stdlib/v1.6/LinearAlgebra/src/special.jl:94</a></li> <li> +(A::<b>LinearAlgebra.Bidiagonal</b>, B::<b>LinearAlgebra.Diagonal</b>) in LinearAlgebra at <a href=\"file:///buildworker/worker/package_linux64/build/usr/share/julia/stdlib/v1.6/LinearAlgebra/src/special.jl\" target=\"_blank\">/usr/local/share/julia/stdlib/v1.6/LinearAlgebra/src/special.jl:115</a></li> <li> +(A::<b>LinearAlgebra.Bidiagonal</b>, B::<b>LinearAlgebra.Tridiagonal</b>) in LinearAlgebra at <a href=\"file:///buildworker/worker/package_linux64/build/usr/share/julia/stdlib/v1.6/LinearAlgebra/src/special.jl\" target=\"_blank\">/usr/local/share/julia/stdlib/v1.6/LinearAlgebra/src/special.jl:183</a></li> <li> +(A::<b>LinearAlgebra.Bidiagonal</b>, B::<b>LinearAlgebra.SymTridiagonal</b>) in LinearAlgebra at <a href=\"file:///buildworker/worker/package_linux64/build/usr/share/julia/stdlib/v1.6/LinearAlgebra/src/special.jl\" target=\"_blank\">/usr/local/share/julia/stdlib/v1.6/LinearAlgebra/src/special.jl:203</a></li> <li> +(A::<b>LinearAlgebra.Bidiagonal{var\"#s832\", V} where {var\"#s832\"<:Number, V<:AbstractVector{var\"#s832\"}}</b>, B::<b>LinearAlgebra.UniformScaling</b>) in LinearAlgebra at <a href=\"file:///buildworker/worker/package_linux64/build/usr/share/julia/stdlib/v1.6/LinearAlgebra/src/special.jl\" target=\"_blank\">/usr/local/share/julia/stdlib/v1.6/LinearAlgebra/src/special.jl:236</a></li> <li> +(A::<b>LinearAlgebra.UnitLowerTriangular</b>, B::<b>LinearAlgebra.LowerTriangular</b>) in LinearAlgebra at <a href=\"file:///buildworker/worker/package_linux64/build/usr/share/julia/stdlib/v1.6/LinearAlgebra/src/triangular.jl\" target=\"_blank\">/usr/local/share/julia/stdlib/v1.6/LinearAlgebra/src/triangular.jl:653</a></li> <li> +(A::<b>LinearAlgebra.UnitLowerTriangular</b>, B::<b>LinearAlgebra.UnitLowerTriangular</b>) in LinearAlgebra at <a href=\"file:///buildworker/worker/package_linux64/build/usr/share/julia/stdlib/v1.6/LinearAlgebra/src/triangular.jl\" target=\"_blank\">/usr/local/share/julia/stdlib/v1.6/LinearAlgebra/src/triangular.jl:655</a></li> <li> +(UL::<b>LinearAlgebra.UnitLowerTriangular</b>, J::<b>LinearAlgebra.UniformScaling</b>) in LinearAlgebra at <a href=\"file:///buildworker/worker/package_linux64/build/usr/share/julia/stdlib/v1.6/LinearAlgebra/src/uniformscaling.jl\" target=\"_blank\">/usr/local/share/julia/stdlib/v1.6/LinearAlgebra/src/uniformscaling.jl:182</a></li> <li> +(A::<b>LinearAlgebra.UnitLowerTriangular</b>, B::<b>LinearAlgebra.Bidiagonal</b>) in LinearAlgebra at <a href=\"file:///buildworker/worker/package_linux64/build/usr/share/julia/stdlib/v1.6/LinearAlgebra/src/special.jl\" target=\"_blank\">/usr/local/share/julia/stdlib/v1.6/LinearAlgebra/src/special.jl:86</a></li> <li> +(A::<b>LinearAlgebra.UpperHessenberg</b>, B::<b>LinearAlgebra.UpperHessenberg</b>) in LinearAlgebra at <a href=\"file:///buildworker/worker/package_linux64/build/usr/share/julia/stdlib/v1.6/LinearAlgebra/src/hessenberg.jl\" target=\"_blank\">/usr/local/share/julia/stdlib/v1.6/LinearAlgebra/src/hessenberg.jl:101</a></li> <li> +(H::<b>LinearAlgebra.UpperHessenberg</b>, J::<b>LinearAlgebra.UniformScaling</b>) in LinearAlgebra at <a href=\"file:///buildworker/worker/package_linux64/build/usr/share/julia/stdlib/v1.6/LinearAlgebra/src/hessenberg.jl\" target=\"_blank\">/usr/local/share/julia/stdlib/v1.6/LinearAlgebra/src/hessenberg.jl:106</a></li> <li> +(A::<b>LinearAlgebra.Symmetric</b>, B::<b>LinearAlgebra.Symmetric</b>) in LinearAlgebra at <a href=\"file:///buildworker/worker/package_linux64/build/usr/share/julia/stdlib/v1.6/LinearAlgebra/src/symmetric.jl\" target=\"_blank\">/usr/local/share/julia/stdlib/v1.6/LinearAlgebra/src/symmetric.jl:469</a></li> <li> +(S::<b>LinearAlgebra.Symmetric</b>, D::<b>LinearAlgebra.Diagonal</b>) in LinearAlgebra at <a href=\"file:///buildworker/worker/package_linux64/build/usr/share/julia/stdlib/v1.6/LinearAlgebra/src/diagonal.jl\" target=\"_blank\">/usr/local/share/julia/stdlib/v1.6/LinearAlgebra/src/diagonal.jl:163</a></li> <li> +(A::<b>LinearAlgebra.Symmetric{var\"#s830\", var\"#s829\"} where {var\"#s830\", var\"#s829\"<:(SparseArrays.AbstractSparseMatrix{Tv, Ti} where {Tv, Ti})}</b>, B::<b>SparseArrays.AbstractSparseMatrix{Tv, Ti} where {Tv, Ti}</b>) in SparseArrays at <a href=\"file:///buildworker/worker/package_linux64/build/usr/share/julia/stdlib/v1.6/SparseArrays/src/linalg.jl\" target=\"_blank\">/usr/local/share/julia/stdlib/v1.6/SparseArrays/src/linalg.jl:15</a></li> <li> +(A::<b>LinearAlgebra.Symmetric</b>, B::<b>SparseArrays.AbstractSparseMatrix{Tv, Ti} where {Tv, Ti}</b>) in SparseArrays at <a href=\"file:///buildworker/worker/package_linux64/build/usr/share/julia/stdlib/v1.6/SparseArrays/src/linalg.jl\" target=\"_blank\">/usr/local/share/julia/stdlib/v1.6/SparseArrays/src/linalg.jl:18</a></li> <li> +(A::<b>LinearAlgebra.Symmetric{var\"#s824\", var\"#s823\"} where {var\"#s824\"<:Real, var\"#s823\"<:(SparseArrays.AbstractSparseMatrix{Tv, Ti} where {Tv, Ti})}</b>, B::<b>LinearAlgebra.Hermitian{var\"#s822\", var\"#s821\"} where {var\"#s822\", var\"#s821\"<:(SparseArrays.AbstractSparseMatrix{Tv, Ti} where {Tv, Ti})}</b>) in SparseArrays at <a href=\"file:///buildworker/worker/package_linux64/build/usr/share/julia/stdlib/v1.6/SparseArrays/src/linalg.jl\" target=\"_blank\">/usr/local/share/julia/stdlib/v1.6/SparseArrays/src/linalg.jl:25</a></li> <li> +(A::<b>LinearAlgebra.Symmetric{var\"#s831\", S} where {var\"#s831\"<:Real, S<:(AbstractMatrix{var\"#s832\"} where var\"#s832\"<:var\"#s831\")}</b>, B::<b>LinearAlgebra.Hermitian</b>) in LinearAlgebra at <a href=\"file:///buildworker/worker/package_linux64/build/usr/share/julia/stdlib/v1.6/LinearAlgebra/src/symmetric.jl\" target=\"_blank\">/usr/local/share/julia/stdlib/v1.6/LinearAlgebra/src/symmetric.jl:484</a></li> <li> +(A::<b>LinearAlgebra.Symmetric{var\"#s832\", var\"#s831\"} where {var\"#s832\", var\"#s831\"<:(SparseArrays.AbstractSparseMatrix{Tv, Ti} where {Tv, Ti})}</b>, B::<b>LinearAlgebra.Hermitian{var\"#s830\", var\"#s829\"} where {var\"#s830\", var\"#s829\"<:(SparseArrays.AbstractSparseMatrix{Tv, Ti} where {Tv, Ti})}</b>) in SparseArrays at <a href=\"file:///buildworker/worker/package_linux64/build/usr/share/julia/stdlib/v1.6/SparseArrays/src/linalg.jl\" target=\"_blank\">/usr/local/share/julia/stdlib/v1.6/SparseArrays/src/linalg.jl:23</a></li> <li> +(A::<b>LinearAlgebra.SymTridiagonal</b>, B::<b>LinearAlgebra.SymTridiagonal</b>) in LinearAlgebra at <a href=\"file:///buildworker/worker/package_linux64/build/usr/share/julia/stdlib/v1.6/LinearAlgebra/src/tridiag.jl\" target=\"_blank\">/usr/local/share/julia/stdlib/v1.6/LinearAlgebra/src/tridiag.jl:205</a></li> <li> +(A::<b>LinearAlgebra.SymTridiagonal</b>, B::<b>LinearAlgebra.Diagonal</b>) in LinearAlgebra at <a href=\"file:///buildworker/worker/package_linux64/build/usr/share/julia/stdlib/v1.6/LinearAlgebra/src/special.jl\" target=\"_blank\">/usr/local/share/julia/stdlib/v1.6/LinearAlgebra/src/special.jl:145</a></li> <li> +(A::<b>LinearAlgebra.SymTridiagonal</b>, B::<b>LinearAlgebra.Tridiagonal</b>) in LinearAlgebra at <a href=\"file:///buildworker/worker/package_linux64/build/usr/share/julia/stdlib/v1.6/LinearAlgebra/src/special.jl\" target=\"_blank\">/usr/local/share/julia/stdlib/v1.6/LinearAlgebra/src/special.jl:159</a></li> <li> +(A::<b>LinearAlgebra.SymTridiagonal</b>, B::<b>LinearAlgebra.Bidiagonal</b>) in LinearAlgebra at <a href=\"file:///buildworker/worker/package_linux64/build/usr/share/julia/stdlib/v1.6/LinearAlgebra/src/special.jl\" target=\"_blank\">/usr/local/share/julia/stdlib/v1.6/LinearAlgebra/src/special.jl:213</a></li> <li> +(A::<b>LinearAlgebra.SymTridiagonal{var\"#s832\", V} where {var\"#s832\"<:Number, V<:AbstractVector{var\"#s832\"}}</b>, B::<b>LinearAlgebra.UniformScaling</b>) in LinearAlgebra at <a href=\"file:///buildworker/worker/package_linux64/build/usr/share/julia/stdlib/v1.6/LinearAlgebra/src/special.jl\" target=\"_blank\">/usr/local/share/julia/stdlib/v1.6/LinearAlgebra/src/special.jl:231</a></li> <li> +(r1::<b>LinRange{T}</b>, r2::<b>LinRange{T}</b>)<i> where T</i> in Base at <a href=\"https://github.com/JuliaLang/julia/tree/f9720dc2ebd6cd9e3086365f281e62506444ef37/base/range.jl#L1108\" target=\"_blank\">range.jl:1108</a></li> <li> +(A::<b>LinearAlgebra.UnitUpperTriangular</b>, B::<b>LinearAlgebra.UpperTriangular</b>) in LinearAlgebra at <a href=\"file:///buildworker/worker/package_linux64/build/usr/share/julia/stdlib/v1.6/LinearAlgebra/src/triangular.jl\" target=\"_blank\">/usr/local/share/julia/stdlib/v1.6/LinearAlgebra/src/triangular.jl:652</a></li> <li> +(A::<b>LinearAlgebra.UnitUpperTriangular</b>, B::<b>LinearAlgebra.UnitUpperTriangular</b>) in LinearAlgebra at <a href=\"file:///buildworker/worker/package_linux64/build/usr/share/julia/stdlib/v1.6/LinearAlgebra/src/triangular.jl\" target=\"_blank\">/usr/local/share/julia/stdlib/v1.6/LinearAlgebra/src/triangular.jl:654</a></li> <li> +(UL::<b>LinearAlgebra.UnitUpperTriangular</b>, J::<b>LinearAlgebra.UniformScaling</b>) in LinearAlgebra at <a href=\"file:///buildworker/worker/package_linux64/build/usr/share/julia/stdlib/v1.6/LinearAlgebra/src/uniformscaling.jl\" target=\"_blank\">/usr/local/share/julia/stdlib/v1.6/LinearAlgebra/src/uniformscaling.jl:182</a></li> <li> +(A::<b>LinearAlgebra.UnitUpperTriangular</b>, B::<b>LinearAlgebra.Bidiagonal</b>) in LinearAlgebra at <a href=\"file:///buildworker/worker/package_linux64/build/usr/share/julia/stdlib/v1.6/LinearAlgebra/src/special.jl\" target=\"_blank\">/usr/local/share/julia/stdlib/v1.6/LinearAlgebra/src/special.jl:86</a></li> <li> +(A::<b>Array</b>, Bs::<b>Array...</b>) in Base at <a href=\"https://github.com/JuliaLang/julia/tree/f9720dc2ebd6cd9e3086365f281e62506444ef37/base/arraymath.jl#L43\" target=\"_blank\">arraymath.jl:43</a></li> <li> +(X::<b>StridedArray{var\"#s832\", N} where {var\"#s832\"<:Union{Dates.CompoundPeriod, Dates.Period}, N}</b>, Y::<b>StridedArray{var\"#s831\", N} where {var\"#s831\"<:Union{Dates.CompoundPeriod, Dates.Period}, N}</b>) in Dates at <a href=\"file:///buildworker/worker/package_linux64/build/usr/share/julia/stdlib/v1.6/Dates/src/deprecated.jl\" target=\"_blank\">/usr/local/share/julia/stdlib/v1.6/Dates/src/deprecated.jl:62</a></li> <li> +(A::<b>Array</b>, B::<b>SparseArrays.AbstractSparseMatrixCSC</b>) in SparseArrays at <a href=\"file:///buildworker/worker/package_linux64/build/usr/share/julia/stdlib/v1.6/SparseArrays/src/sparsematrix.jl\" target=\"_blank\">/usr/local/share/julia/stdlib/v1.6/SparseArrays/src/sparsematrix.jl:1745</a></li> <li> +(x::<b>StridedArray{var\"#s832\", N} where {var\"#s832\"<:Union{Dates.CompoundPeriod, Dates.Period}, N}</b>) in Dates at <a href=\"file:///buildworker/worker/package_linux64/build/usr/share/julia/stdlib/v1.6/Dates/src/deprecated.jl\" target=\"_blank\">/usr/local/share/julia/stdlib/v1.6/Dates/src/deprecated.jl:55</a></li> <li> +(x::<b>StridedArray{var\"#s832\", N} where {var\"#s832\"<:Union{Dates.CompoundPeriod, Dates.Period}, N}</b>, y::<b>Dates.TimeType</b>) in Dates at <a href=\"file:///buildworker/worker/package_linux64/build/usr/share/julia/stdlib/v1.6/Dates/src/deprecated.jl\" target=\"_blank\">/usr/local/share/julia/stdlib/v1.6/Dates/src/deprecated.jl:10</a></li> <li> +(r1::<b>StepRangeLen{T, R, S} where S</b>, r2::<b>StepRangeLen{T, R, S} where S</b>)<i> where {R<:Base.TwicePrecision, T}</i> in Base at <a href=\"https://github.com/JuliaLang/julia/tree/f9720dc2ebd6cd9e3086365f281e62506444ef37/base/twiceprecision.jl#L574\" target=\"_blank\">twiceprecision.jl:574</a></li> <li> +(r1::<b>StepRangeLen{T, S, S1} where S1</b>, r2::<b>StepRangeLen{T, S, S1} where S1</b>)<i> where {T, S}</i> in Base at <a href=\"https://github.com/JuliaLang/julia/tree/f9720dc2ebd6cd9e3086365f281e62506444ef37/base/range.jl#L1124\" target=\"_blank\">range.jl:1124</a></li> <li> +(a::<b>Measures.Length{U, T} where T</b>, b::<b>Measures.Length{U, T} where T</b>)<i> where U</i> in Measures at <a href=\"file:///root/.julia/packages/Measures/0Zkai/src/length.jl\" target=\"_blank\">/root/.julia/packages/Measures/0Zkai/src/length.jl:28</a></li> <li> +(a::<b>Measures.Measure</b>, b::<b>Measures.Measure</b>) in Measures at <a href=\"file:///root/.julia/packages/Measures/0Zkai/src/operations.jl\" target=\"_blank\">/root/.julia/packages/Measures/0Zkai/src/operations.jl:41</a></li> <li> +(a::<b>Dict</b>, d::<b>ChainRulesCore.Tangent{P, T} where T</b>)<i> where P</i> in ChainRulesCore at <a href=\"file:///root/.julia/packages/ChainRulesCore/Y1Mee/src/tangent_arithmetic.jl\" target=\"_blank\">/root/.julia/packages/ChainRulesCore/Y1Mee/src/tangent_arithmetic.jl:144</a></li> <li> +(a::<b>ChainRulesCore.AbstractThunk</b>, b::<b>ChainRulesCore.Tangent</b>) in ChainRulesCore at <a href=\"file:///root/.julia/packages/ChainRulesCore/Y1Mee/src/tangent_arithmetic.jl\" target=\"_blank\">/root/.julia/packages/ChainRulesCore/Y1Mee/src/tangent_arithmetic.jl:121</a></li> <li> +(a::<b>ChainRulesCore.AbstractThunk</b>, b::<b>ChainRulesCore.AbstractThunk</b>) in ChainRulesCore at <a href=\"file:///root/.julia/packages/ChainRulesCore/Y1Mee/src/tangent_arithmetic.jl\" target=\"_blank\">/root/.julia/packages/ChainRulesCore/Y1Mee/src/tangent_arithmetic.jl:118</a></li> <li> +(a::<b>ChainRulesCore.AbstractThunk</b>, ::<b>ChainRulesCore.ZeroTangent</b>) in ChainRulesCore at <a href=\"file:///root/.julia/packages/ChainRulesCore/Y1Mee/src/tangent_arithmetic.jl\" target=\"_blank\">/root/.julia/packages/ChainRulesCore/Y1Mee/src/tangent_arithmetic.jl:99</a></li> <li> +(a::<b>ChainRulesCore.AbstractThunk</b>, ::<b>ChainRulesCore.NoTangent</b>) in ChainRulesCore at <a href=\"file:///root/.julia/packages/ChainRulesCore/Y1Mee/src/tangent_arithmetic.jl\" target=\"_blank\">/root/.julia/packages/ChainRulesCore/Y1Mee/src/tangent_arithmetic.jl:59</a></li> <li> +(::<b>ChainRulesCore.AbstractThunk</b>, x::<b>ChainRulesCore.NotImplemented</b>) in ChainRulesCore at <a href=\"file:///root/.julia/packages/ChainRulesCore/Y1Mee/src/tangent_arithmetic.jl\" target=\"_blank\">/root/.julia/packages/ChainRulesCore/Y1Mee/src/tangent_arithmetic.jl:25</a></li> <li> +(a::<b>ChainRulesCore.AbstractThunk</b>, b) in ChainRulesCore at <a href=\"file:///root/.julia/packages/ChainRulesCore/Y1Mee/src/tangent_arithmetic.jl\" target=\"_blank\">/root/.julia/packages/ChainRulesCore/Y1Mee/src/tangent_arithmetic.jl:121</a></li> <li> +(y::<b>Dates.TimeType</b>, x::<b>StridedArray{var\"#s832\", N} where {var\"#s832\"<:Union{Dates.CompoundPeriod, Dates.Period}, N}</b>) in Dates at <a href=\"file:///buildworker/worker/package_linux64/build/usr/share/julia/stdlib/v1.6/Dates/src/deprecated.jl\" target=\"_blank\">/usr/local/share/julia/stdlib/v1.6/Dates/src/deprecated.jl:18</a></li> <li> +(x::<b>T</b>, y::<b>Integer</b>)<i> where T<:AbstractChar</i> in Base at <a href=\"https://github.com/JuliaLang/julia/tree/f9720dc2ebd6cd9e3086365f281e62506444ef37/base/char.jl#L223\" target=\"_blank\">char.jl:223</a></li> <li> +(A::<b>BitArray</b>, B::<b>BitArray</b>) in Base at <a href=\"https://github.com/JuliaLang/julia/tree/f9720dc2ebd6cd9e3086365f281e62506444ef37/base/bitarray.jl#L1127\" target=\"_blank\">bitarray.jl:1127</a></li> <li> +(x::<b>Ptr</b>, y::<b>Integer</b>) in Base at <a href=\"https://github.com/JuliaLang/julia/tree/f9720dc2ebd6cd9e3086365f281e62506444ef37/base/pointer.jl#L159\" target=\"_blank\">pointer.jl:159</a></li> <li> +(y::<b>AbstractFloat</b>, x::<b>Bool</b>) in Base at <a href=\"https://github.com/JuliaLang/julia/tree/f9720dc2ebd6cd9e3086365f281e62506444ef37/base/bool.jl#L102\" target=\"_blank\">bool.jl:102</a></li> <li> +(x::<b>Dates.AbstractTime</b>, y::<b>Missing</b>) in Dates at <a href=\"file:///buildworker/worker/package_linux64/build/usr/share/julia/stdlib/v1.6/Dates/src/arithmetic.jl\" target=\"_blank\">/usr/local/share/julia/stdlib/v1.6/Dates/src/arithmetic.jl:88</a></li> <li> +(A::<b>LinearAlgebra.LowerTriangular</b>, B::<b>LinearAlgebra.LowerTriangular</b>) in LinearAlgebra at <a href=\"file:///buildworker/worker/package_linux64/build/usr/share/julia/stdlib/v1.6/LinearAlgebra/src/triangular.jl\" target=\"_blank\">/usr/local/share/julia/stdlib/v1.6/LinearAlgebra/src/triangular.jl:649</a></li> <li> +(A::<b>LinearAlgebra.LowerTriangular</b>, B::<b>LinearAlgebra.UnitLowerTriangular</b>) in LinearAlgebra at <a href=\"file:///buildworker/worker/package_linux64/build/usr/share/julia/stdlib/v1.6/LinearAlgebra/src/triangular.jl\" target=\"_blank\">/usr/local/share/julia/stdlib/v1.6/LinearAlgebra/src/triangular.jl:651</a></li> <li> +(A::<b>LinearAlgebra.LowerTriangular</b>, B::<b>LinearAlgebra.Bidiagonal</b>) in LinearAlgebra at <a href=\"file:///buildworker/worker/package_linux64/build/usr/share/julia/stdlib/v1.6/LinearAlgebra/src/special.jl\" target=\"_blank\">/usr/local/share/julia/stdlib/v1.6/LinearAlgebra/src/special.jl:86</a></li> <li> +(r1::<b>OrdinalRange</b>, r2::<b>OrdinalRange</b>) in Base at <a href=\"https://github.com/JuliaLang/julia/tree/f9720dc2ebd6cd9e3086365f281e62506444ef37/base/range.jl#L1101\" target=\"_blank\">range.jl:1101</a></li> <li> +(r1::<b>Union{LinRange, OrdinalRange, StepRangeLen}</b>, r2::<b>Union{LinRange, OrdinalRange, StepRangeLen}</b>) in Base at <a href=\"https://github.com/JuliaLang/julia/tree/f9720dc2ebd6cd9e3086365f281e62506444ef37/base/range.jl#L1117\" target=\"_blank\">range.jl:1117</a></li> <li> +(A::<b>LinearAlgebra.Tridiagonal</b>, B::<b>LinearAlgebra.Tridiagonal</b>) in LinearAlgebra at <a href=\"file:///buildworker/worker/package_linux64/build/usr/share/julia/stdlib/v1.6/LinearAlgebra/src/tridiag.jl\" target=\"_blank\">/usr/local/share/julia/stdlib/v1.6/LinearAlgebra/src/tridiag.jl:733</a></li> <li> +(A::<b>LinearAlgebra.Tridiagonal</b>, B::<b>LinearAlgebra.SymTridiagonal</b>) in LinearAlgebra at <a href=\"file:///buildworker/worker/package_linux64/build/usr/share/julia/stdlib/v1.6/LinearAlgebra/src/special.jl\" target=\"_blank\">/usr/local/share/julia/stdlib/v1.6/LinearAlgebra/src/special.jl:157</a></li> <li> +(A::<b>LinearAlgebra.Tridiagonal</b>, B::<b>LinearAlgebra.Diagonal</b>) in LinearAlgebra at <a href=\"file:///buildworker/worker/package_linux64/build/usr/share/julia/stdlib/v1.6/LinearAlgebra/src/special.jl\" target=\"_blank\">/usr/local/share/julia/stdlib/v1.6/LinearAlgebra/src/special.jl:173</a></li> <li> +(A::<b>LinearAlgebra.Tridiagonal</b>, B::<b>LinearAlgebra.Bidiagonal</b>) in LinearAlgebra at <a href=\"file:///buildworker/worker/package_linux64/build/usr/share/julia/stdlib/v1.6/LinearAlgebra/src/special.jl\" target=\"_blank\">/usr/local/share/julia/stdlib/v1.6/LinearAlgebra/src/special.jl:193</a></li> <li> +(A::<b>LinearAlgebra.Tridiagonal{var\"#s832\", V} where {var\"#s832\"<:Number, V<:AbstractVector{var\"#s832\"}}</b>, B::<b>LinearAlgebra.UniformScaling</b>) in LinearAlgebra at <a href=\"file:///buildworker/worker/package_linux64/build/usr/share/julia/stdlib/v1.6/LinearAlgebra/src/special.jl\" target=\"_blank\">/usr/local/share/julia/stdlib/v1.6/LinearAlgebra/src/special.jl:226</a></li> <li> +(r::<b>AbstractRange{var\"#s832\"} where var\"#s832\"<:Dates.TimeType</b>, x::<b>Dates.Period</b>) in Dates at <a href=\"file:///buildworker/worker/package_linux64/build/usr/share/julia/stdlib/v1.6/Dates/src/ranges.jl\" target=\"_blank\">/usr/local/share/julia/stdlib/v1.6/Dates/src/ranges.jl:63</a></li> <li> +(A::<b>LinearAlgebra.Hermitian</b>, B::<b>LinearAlgebra.Hermitian</b>) in LinearAlgebra at <a href=\"file:///buildworker/worker/package_linux64/build/usr/share/julia/stdlib/v1.6/LinearAlgebra/src/symmetric.jl\" target=\"_blank\">/usr/local/share/julia/stdlib/v1.6/LinearAlgebra/src/symmetric.jl:469</a></li> <li> +(H::<b>LinearAlgebra.Hermitian</b>, D::<b>LinearAlgebra.Diagonal{var\"#s832\", V} where {var\"#s832\"<:Real, V<:AbstractVector{var\"#s832\"}}</b>) in LinearAlgebra at <a href=\"file:///buildworker/worker/package_linux64/build/usr/share/julia/stdlib/v1.6/LinearAlgebra/src/diagonal.jl\" target=\"_blank\">/usr/local/share/julia/stdlib/v1.6/LinearAlgebra/src/diagonal.jl:169</a></li> <li> +(A::<b>LinearAlgebra.Hermitian</b>, J::<b>LinearAlgebra.UniformScaling{var\"#s832\"} where var\"#s832\"<:Complex</b>) in LinearAlgebra at <a href=\"file:///buildworker/worker/package_linux64/build/usr/share/julia/stdlib/v1.6/LinearAlgebra/src/uniformscaling.jl\" target=\"_blank\">/usr/local/share/julia/stdlib/v1.6/LinearAlgebra/src/uniformscaling.jl:196</a></li> <li> +(A::<b>LinearAlgebra.Hermitian{var\"#s830\", var\"#s829\"} where {var\"#s830\", var\"#s829\"<:(SparseArrays.AbstractSparseMatrix{Tv, Ti} where {Tv, Ti})}</b>, B::<b>SparseArrays.AbstractSparseMatrix{Tv, Ti} where {Tv, Ti}</b>) in SparseArrays at <a href=\"file:///buildworker/worker/package_linux64/build/usr/share/julia/stdlib/v1.6/SparseArrays/src/linalg.jl\" target=\"_blank\">/usr/local/share/julia/stdlib/v1.6/SparseArrays/src/linalg.jl:15</a></li> <li> +(A::<b>LinearAlgebra.Hermitian</b>, B::<b>SparseArrays.AbstractSparseMatrix{Tv, Ti} where {Tv, Ti}</b>) in SparseArrays at <a href=\"file:///buildworker/worker/package_linux64/build/usr/share/julia/stdlib/v1.6/SparseArrays/src/linalg.jl\" target=\"_blank\">/usr/local/share/julia/stdlib/v1.6/SparseArrays/src/linalg.jl:18</a></li> <li> +(A::<b>LinearAlgebra.Hermitian{var\"#s820\", var\"#s819\"} where {var\"#s820\", var\"#s819\"<:(SparseArrays.AbstractSparseMatrix{Tv, Ti} where {Tv, Ti})}</b>, B::<b>LinearAlgebra.Symmetric{var\"#s818\", var\"#s817\"} where {var\"#s818\"<:Real, var\"#s817\"<:(SparseArrays.AbstractSparseMatrix{Tv, Ti} where {Tv, Ti})}</b>) in SparseArrays at <a href=\"file:///buildworker/worker/package_linux64/build/usr/share/julia/stdlib/v1.6/SparseArrays/src/linalg.jl\" target=\"_blank\">/usr/local/share/julia/stdlib/v1.6/SparseArrays/src/linalg.jl:26</a></li> <li> +(A::<b>LinearAlgebra.Hermitian</b>, B::<b>LinearAlgebra.Symmetric{var\"#s832\", S} where {var\"#s832\"<:Real, S<:(AbstractMatrix{var\"#s832\"} where var\"#s832\"<:var\"#s832\")}</b>) in LinearAlgebra at <a href=\"file:///buildworker/worker/package_linux64/build/usr/share/julia/stdlib/v1.6/LinearAlgebra/src/symmetric.jl\" target=\"_blank\">/usr/local/share/julia/stdlib/v1.6/LinearAlgebra/src/symmetric.jl:483</a></li> <li> +(A::<b>LinearAlgebra.Hermitian{var\"#s828\", var\"#s827\"} where {var\"#s828\", var\"#s827\"<:(SparseArrays.AbstractSparseMatrix{Tv, Ti} where {Tv, Ti})}</b>, B::<b>LinearAlgebra.Symmetric{var\"#s826\", var\"#s825\"} where {var\"#s826\", var\"#s825\"<:(SparseArrays.AbstractSparseMatrix{Tv, Ti} where {Tv, Ti})}</b>) in SparseArrays at <a href=\"file:///buildworker/worker/package_linux64/build/usr/share/julia/stdlib/v1.6/SparseArrays/src/linalg.jl\" target=\"_blank\">/usr/local/share/julia/stdlib/v1.6/SparseArrays/src/linalg.jl:24</a></li> <li> +(F::<b>LinearAlgebra.Hessenberg</b>, J::<b>LinearAlgebra.UniformScaling</b>) in LinearAlgebra at <a href=\"file:///buildworker/worker/package_linux64/build/usr/share/julia/stdlib/v1.6/LinearAlgebra/src/hessenberg.jl\" target=\"_blank\">/usr/local/share/julia/stdlib/v1.6/LinearAlgebra/src/hessenberg.jl:559</a></li> <li> +(x::<b>Rational</b>, y::<b>Integer</b>) in Base at <a href=\"https://github.com/JuliaLang/julia/tree/f9720dc2ebd6cd9e3086365f281e62506444ef37/base/rational.jl#L288\" target=\"_blank\">rational.jl:288</a></li> <li> +(A::<b>LinearAlgebra.UpperTriangular</b>, B::<b>LinearAlgebra.UpperTriangular</b>) in LinearAlgebra at <a href=\"file:///buildworker/worker/package_linux64/build/usr/share/julia/stdlib/v1.6/LinearAlgebra/src/triangular.jl\" target=\"_blank\">/usr/local/share/julia/stdlib/v1.6/LinearAlgebra/src/triangular.jl:648</a></li> <li> +(A::<b>LinearAlgebra.UpperTriangular</b>, B::<b>LinearAlgebra.UnitUpperTriangular</b>) in LinearAlgebra at <a href=\"file:///buildworker/worker/package_linux64/build/usr/share/julia/stdlib/v1.6/LinearAlgebra/src/triangular.jl\" target=\"_blank\">/usr/local/share/julia/stdlib/v1.6/LinearAlgebra/src/triangular.jl:650</a></li> <li> +(A::<b>LinearAlgebra.AbstractTriangular</b>, B::<b>LinearAlgebra.AbstractTriangular</b>) in LinearAlgebra at <a href=\"file:///buildworker/worker/package_linux64/build/usr/share/julia/stdlib/v1.6/LinearAlgebra/src/triangular.jl\" target=\"_blank\">/usr/local/share/julia/stdlib/v1.6/LinearAlgebra/src/triangular.jl:656</a></li> <li> +(A::<b>LinearAlgebra.UpperTriangular</b>, B::<b>LinearAlgebra.Bidiagonal</b>) in LinearAlgebra at <a href=\"file:///buildworker/worker/package_linux64/build/usr/share/julia/stdlib/v1.6/LinearAlgebra/src/special.jl\" target=\"_blank\">/usr/local/share/julia/stdlib/v1.6/LinearAlgebra/src/special.jl:86</a></li> <li> +(z::<b>Complex</b>, w::<b>Complex</b>) in Base at <a href=\"https://github.com/JuliaLang/julia/tree/f9720dc2ebd6cd9e3086365f281e62506444ef37/base/complex.jl#L275\" target=\"_blank\">complex.jl:275</a></li> <li> +(x::<b>AbstractArray{var\"#s832\", N} where {var\"#s832\"<:Dates.TimeType, N}</b>, y::<b>Union{Dates.CompoundPeriod, Dates.Period}</b>) in Dates at <a href=\"file:///buildworker/worker/package_linux64/build/usr/share/julia/stdlib/v1.6/Dates/src/deprecated.jl\" target=\"_blank\">/usr/local/share/julia/stdlib/v1.6/Dates/src/deprecated.jl:6</a></li> <li> +(a::<b>AbstractArray</b>, b::<b>StaticArrays.StaticArray</b>) in StaticArrays at <a href=\"file:///root/.julia/packages/StaticArrays/OWJK7/src/linalg.jl\" target=\"_blank\">/root/.julia/packages/StaticArrays/OWJK7/src/linalg.jl:13</a></li> <li> +(h::<b>GeometryBasics.HyperRectangle{N, T}</b>, move::<b>StaticArrays.StaticVector{N, T} where T</b>)<i> where {N, T}</i> in GeometryBasics at <a href=\"file:///root/.julia/packages/GeometryBasics/WMp6v/src/primitives/rectangles.jl\" target=\"_blank\">/root/.julia/packages/GeometryBasics/WMp6v/src/primitives/rectangles.jl:273</a></li> <li> +(h::<b>GeometryBasics.HyperRectangle{N, T}</b>, move::<b>Number</b>)<i> where {N, T}</i> in GeometryBasics at <a href=\"file:///root/.julia/packages/GeometryBasics/WMp6v/src/primitives/rectangles.jl\" target=\"_blank\">/root/.julia/packages/GeometryBasics/WMp6v/src/primitives/rectangles.jl:267</a></li> <li> +(A::<b>SparseArrays.AbstractSparseMatrixCSC</b>, B::<b>SparseArrays.AbstractSparseMatrixCSC</b>) in SparseArrays at <a href=\"file:///buildworker/worker/package_linux64/build/usr/share/julia/stdlib/v1.6/SparseArrays/src/sparsematrix.jl\" target=\"_blank\">/usr/local/share/julia/stdlib/v1.6/SparseArrays/src/sparsematrix.jl:1741</a></li> <li> +(x::<b>SparseArrays.AbstractSparseVector{Tv, Ti} where {Tv, Ti}</b>, y::<b>SparseArrays.AbstractSparseVector{Tv, Ti} where {Tv, Ti}</b>) in SparseArrays at <a href=\"file:///buildworker/worker/package_linux64/build/usr/share/julia/stdlib/v1.6/SparseArrays/src/sparsevector.jl\" target=\"_blank\">/usr/local/share/julia/stdlib/v1.6/SparseArrays/src/sparsevector.jl:1345</a></li> <li> +(A::<b>SparseArrays.AbstractSparseMatrixCSC</b>, B::<b>Array</b>) in SparseArrays at <a href=\"file:///buildworker/worker/package_linux64/build/usr/share/julia/stdlib/v1.6/SparseArrays/src/sparsematrix.jl\" target=\"_blank\">/usr/local/share/julia/stdlib/v1.6/SparseArrays/src/sparsematrix.jl:1744</a></li> <li> +(A::<b>AbstractArray</b>, B::<b>AbstractArray</b>) in Base at <a href=\"https://github.com/JuliaLang/julia/tree/f9720dc2ebd6cd9e3086365f281e62506444ef37/base/arraymath.jl#L37\" target=\"_blank\">arraymath.jl:37</a></li> <li> +(A::<b>SparseArrays.AbstractSparseMatrixCSC</b>, J::<b>LinearAlgebra.UniformScaling</b>) in SparseArrays at <a href=\"file:///buildworker/worker/package_linux64/build/usr/share/julia/stdlib/v1.6/SparseArrays/src/sparsematrix.jl\" target=\"_blank\">/usr/local/share/julia/stdlib/v1.6/SparseArrays/src/sparsematrix.jl:3797</a></li> <li> +(bb1::<b>Measures.BoundingBox</b>, bb2::<b>Measures.BoundingBox</b>) in Plots at <a href=\"file:///root/.julia/packages/Plots/5kcBO/src/layouts.jl\" target=\"_blank\">/root/.julia/packages/Plots/5kcBO/src/layouts.jl:19</a></li> <li> +(::<b>ChainRulesCore.ZeroTangent</b>, b::<b>ChainRulesCore.Tangent</b>) in ChainRulesCore at <a href=\"file:///root/.julia/packages/ChainRulesCore/Y1Mee/src/tangent_arithmetic.jl\" target=\"_blank\">/root/.julia/packages/ChainRulesCore/Y1Mee/src/tangent_arithmetic.jl:98</a></li> <li> +(::<b>ChainRulesCore.ZeroTangent</b>, b::<b>ChainRulesCore.AbstractThunk</b>) in ChainRulesCore at <a href=\"file:///root/.julia/packages/ChainRulesCore/Y1Mee/src/tangent_arithmetic.jl\" target=\"_blank\">/root/.julia/packages/ChainRulesCore/Y1Mee/src/tangent_arithmetic.jl:98</a></li> <li> +(::<b>ChainRulesCore.ZeroTangent</b>, ::<b>ChainRulesCore.ZeroTangent</b>) in ChainRulesCore at <a href=\"file:///root/.julia/packages/ChainRulesCore/Y1Mee/src/tangent_arithmetic.jl\" target=\"_blank\">/root/.julia/packages/ChainRulesCore/Y1Mee/src/tangent_arithmetic.jl:92</a></li> <li> +(::<b>ChainRulesCore.ZeroTangent</b>, ::<b>ChainRulesCore.NoTangent</b>) in ChainRulesCore at <a href=\"file:///root/.julia/packages/ChainRulesCore/Y1Mee/src/tangent_arithmetic.jl\" target=\"_blank\">/root/.julia/packages/ChainRulesCore/Y1Mee/src/tangent_arithmetic.jl:73</a></li> <li> +(::<b>ChainRulesCore.ZeroTangent</b>, x::<b>ChainRulesCore.NotImplemented</b>) in ChainRulesCore at <a href=\"file:///root/.julia/packages/ChainRulesCore/Y1Mee/src/tangent_arithmetic.jl\" target=\"_blank\">/root/.julia/packages/ChainRulesCore/Y1Mee/src/tangent_arithmetic.jl:25</a></li> <li> +(::<b>ChainRulesCore.ZeroTangent</b>, b) in ChainRulesCore at <a href=\"file:///root/.julia/packages/ChainRulesCore/Y1Mee/src/tangent_arithmetic.jl\" target=\"_blank\">/root/.julia/packages/ChainRulesCore/Y1Mee/src/tangent_arithmetic.jl:98</a></li> <li> +(a::<b>Pkg.Resolve.FieldValue</b>, b::<b>Pkg.Resolve.FieldValue</b>) in Pkg.Resolve at <a href=\"file:///buildworker/worker/package_linux64/build/usr/share/julia/stdlib/v1.6/Pkg/src/Resolve/fieldvalues.jl\" target=\"_blank\">/usr/local/share/julia/stdlib/v1.6/Pkg/src/Resolve/fieldvalues.jl:43</a></li> <li> +(x::<b>BigInt</b>, y::<b>BigInt</b>) in Base.GMP at <a href=\"https://github.com/JuliaLang/julia/tree/f9720dc2ebd6cd9e3086365f281e62506444ef37/base/gmp.jl#L479\" target=\"_blank\">gmp.jl:479</a></li> <li> +(a::<b>BigInt</b>, b::<b>BigInt</b>, c::<b>BigInt</b>) in Base.GMP at <a href=\"https://github.com/JuliaLang/julia/tree/f9720dc2ebd6cd9e3086365f281e62506444ef37/base/gmp.jl#L519\" target=\"_blank\">gmp.jl:519</a></li> <li> +(a::<b>BigInt</b>, b::<b>BigInt</b>, c::<b>BigInt</b>, d::<b>BigInt</b>) in Base.GMP at <a href=\"https://github.com/JuliaLang/julia/tree/f9720dc2ebd6cd9e3086365f281e62506444ef37/base/gmp.jl#L520\" target=\"_blank\">gmp.jl:520</a></li> <li> +(a::<b>BigInt</b>, b::<b>BigInt</b>, c::<b>BigInt</b>, d::<b>BigInt</b>, e::<b>BigInt</b>) in Base.GMP at <a href=\"https://github.com/JuliaLang/julia/tree/f9720dc2ebd6cd9e3086365f281e62506444ef37/base/gmp.jl#L521\" target=\"_blank\">gmp.jl:521</a></li> <li> +(x::<b>BigInt</b>, c::<b>Union{UInt16, UInt32, UInt64, UInt8}</b>) in Base.GMP at <a href=\"https://github.com/JuliaLang/julia/tree/f9720dc2ebd6cd9e3086365f281e62506444ef37/base/gmp.jl#L527\" target=\"_blank\">gmp.jl:527</a></li> <li> +(x::<b>BigInt</b>, c::<b>Union{Int16, Int32, Int64, Int8}</b>) in Base.GMP at <a href=\"https://github.com/JuliaLang/julia/tree/f9720dc2ebd6cd9e3086365f281e62506444ef37/base/gmp.jl#L533\" target=\"_blank\">gmp.jl:533</a></li> <li> +(c::<b>BigInt</b>, x::<b>BigFloat</b>) in Base.MPFR at <a href=\"https://github.com/JuliaLang/julia/tree/f9720dc2ebd6cd9e3086365f281e62506444ef37/base/mpfr.jl#L400\" target=\"_blank\">mpfr.jl:400</a></li> <li> +(::<b>Missing</b>) in Base at <a href=\"https://github.com/JuliaLang/julia/tree/f9720dc2ebd6cd9e3086365f281e62506444ef37/base/missing.jl#L101\" target=\"_blank\">missing.jl:101</a></li> <li> +(::<b>Missing</b>, ::<b>Missing</b>) in Base at <a href=\"https://github.com/JuliaLang/julia/tree/f9720dc2ebd6cd9e3086365f281e62506444ef37/base/missing.jl#L115\" target=\"_blank\">missing.jl:115</a></li> <li> +(::<b>Missing</b>, ::<b>Number</b>) in Base at <a href=\"https://github.com/JuliaLang/julia/tree/f9720dc2ebd6cd9e3086365f281e62506444ef37/base/missing.jl#L116\" target=\"_blank\">missing.jl:116</a></li> <li> +(x::<b>Missing</b>, y::<b>Dates.AbstractTime</b>) in Dates at <a href=\"file:///buildworker/worker/package_linux64/build/usr/share/julia/stdlib/v1.6/Dates/src/arithmetic.jl\" target=\"_blank\">/usr/local/share/julia/stdlib/v1.6/Dates/src/arithmetic.jl:89</a></li> <li> +(dt::<b>Dates.DateTime</b>, y::<b>Dates.Year</b>) in Dates at <a href=\"file:///buildworker/worker/package_linux64/build/usr/share/julia/stdlib/v1.6/Dates/src/arithmetic.jl\" target=\"_blank\">/usr/local/share/julia/stdlib/v1.6/Dates/src/arithmetic.jl:23</a></li> <li> +(dt::<b>Dates.DateTime</b>, z::<b>Dates.Month</b>) in Dates at <a href=\"file:///buildworker/worker/package_linux64/build/usr/share/julia/stdlib/v1.6/Dates/src/arithmetic.jl\" target=\"_blank\">/usr/local/share/julia/stdlib/v1.6/Dates/src/arithmetic.jl:47</a></li> <li> +(x::<b>Dates.DateTime</b>, y::<b>Dates.Quarter</b>) in Dates at <a href=\"file:///buildworker/worker/package_linux64/build/usr/share/julia/stdlib/v1.6/Dates/src/arithmetic.jl\" target=\"_blank\">/usr/local/share/julia/stdlib/v1.6/Dates/src/arithmetic.jl:75</a></li> <li> +(x::<b>Dates.DateTime</b>, y::<b>Dates.Period</b>) in Dates at <a href=\"file:///buildworker/worker/package_linux64/build/usr/share/julia/stdlib/v1.6/Dates/src/arithmetic.jl\" target=\"_blank\">/usr/local/share/julia/stdlib/v1.6/Dates/src/arithmetic.jl:81</a></li> <li> +(a::<b>Pkg.Resolve.VersionWeight</b>, b::<b>Pkg.Resolve.VersionWeight</b>) in Pkg.Resolve at <a href=\"file:///buildworker/worker/package_linux64/build/usr/share/julia/stdlib/v1.6/Pkg/src/Resolve/versionweights.jl\" target=\"_blank\">/usr/local/share/julia/stdlib/v1.6/Pkg/src/Resolve/versionweights.jl:22</a></li> <li> +(dt::<b>Dates.Date</b>, t::<b>Dates.Time</b>) in Dates at <a href=\"file:///buildworker/worker/package_linux64/build/usr/share/julia/stdlib/v1.6/Dates/src/arithmetic.jl\" target=\"_blank\">/usr/local/share/julia/stdlib/v1.6/Dates/src/arithmetic.jl:19</a></li> <li> +(dt::<b>Dates.Date</b>, y::<b>Dates.Year</b>) in Dates at <a href=\"file:///buildworker/worker/package_linux64/build/usr/share/julia/stdlib/v1.6/Dates/src/arithmetic.jl\" target=\"_blank\">/usr/local/share/julia/stdlib/v1.6/Dates/src/arithmetic.jl:27</a></li> <li> +(dt::<b>Dates.Date</b>, z::<b>Dates.Month</b>) in Dates at <a href=\"file:///buildworker/worker/package_linux64/build/usr/share/julia/stdlib/v1.6/Dates/src/arithmetic.jl\" target=\"_blank\">/usr/local/share/julia/stdlib/v1.6/Dates/src/arithmetic.jl:54</a></li> <li> +(x::<b>Dates.Date</b>, y::<b>Dates.Quarter</b>) in Dates at <a href=\"file:///buildworker/worker/package_linux64/build/usr/share/julia/stdlib/v1.6/Dates/src/arithmetic.jl\" target=\"_blank\">/usr/local/share/julia/stdlib/v1.6/Dates/src/arithmetic.jl:73</a></li> <li> +(x::<b>Dates.Date</b>, y::<b>Dates.Week</b>) in Dates at <a href=\"file:///buildworker/worker/package_linux64/build/usr/share/julia/stdlib/v1.6/Dates/src/arithmetic.jl\" target=\"_blank\">/usr/local/share/julia/stdlib/v1.6/Dates/src/arithmetic.jl:77</a></li> <li> +(x::<b>Dates.Date</b>, y::<b>Dates.Day</b>) in Dates at <a href=\"file:///buildworker/worker/package_linux64/build/usr/share/julia/stdlib/v1.6/Dates/src/arithmetic.jl\" target=\"_blank\">/usr/local/share/julia/stdlib/v1.6/Dates/src/arithmetic.jl:79</a></li> <li> +(::<b>ChainRulesCore.NoTangent</b>, ::<b>ChainRulesCore.ZeroTangent</b>) in ChainRulesCore at <a href=\"file:///root/.julia/packages/ChainRulesCore/Y1Mee/src/tangent_arithmetic.jl\" target=\"_blank\">/root/.julia/packages/ChainRulesCore/Y1Mee/src/tangent_arithmetic.jl:72</a></li> <li> +(::<b>ChainRulesCore.NoTangent</b>, b::<b>ChainRulesCore.Tangent</b>) in ChainRulesCore at <a href=\"file:///root/.julia/packages/ChainRulesCore/Y1Mee/src/tangent_arithmetic.jl\" target=\"_blank\">/root/.julia/packages/ChainRulesCore/Y1Mee/src/tangent_arithmetic.jl:58</a></li> <li> +(::<b>ChainRulesCore.NoTangent</b>, b::<b>ChainRulesCore.AbstractThunk</b>) in ChainRulesCore at <a href=\"file:///root/.julia/packages/ChainRulesCore/Y1Mee/src/tangent_arithmetic.jl\" target=\"_blank\">/root/.julia/packages/ChainRulesCore/Y1Mee/src/tangent_arithmetic.jl:58</a></li> <li> +(::<b>ChainRulesCore.NoTangent</b>, ::<b>ChainRulesCore.NoTangent</b>) in ChainRulesCore at <a href=\"file:///root/.julia/packages/ChainRulesCore/Y1Mee/src/tangent_arithmetic.jl\" target=\"_blank\">/root/.julia/packages/ChainRulesCore/Y1Mee/src/tangent_arithmetic.jl:52</a></li> <li> +(::<b>ChainRulesCore.NoTangent</b>, x::<b>ChainRulesCore.NotImplemented</b>) in ChainRulesCore at <a href=\"file:///root/.julia/packages/ChainRulesCore/Y1Mee/src/tangent_arithmetic.jl\" target=\"_blank\">/root/.julia/packages/ChainRulesCore/Y1Mee/src/tangent_arithmetic.jl:25</a></li> <li> +(::<b>ChainRulesCore.NoTangent</b>, b) in ChainRulesCore at <a href=\"file:///root/.julia/packages/ChainRulesCore/Y1Mee/src/tangent_arithmetic.jl\" target=\"_blank\">/root/.julia/packages/ChainRulesCore/Y1Mee/src/tangent_arithmetic.jl:58</a></li> <li> +(x::<b>BigFloat</b>, y::<b>BigFloat</b>) in Base.MPFR at <a href=\"https://github.com/JuliaLang/julia/tree/f9720dc2ebd6cd9e3086365f281e62506444ef37/base/mpfr.jl#L364\" target=\"_blank\">mpfr.jl:364</a></li> <li> +(x::<b>BigFloat</b>, c::<b>Union{UInt16, UInt32, UInt64, UInt8}</b>) in Base.MPFR at <a href=\"https://github.com/JuliaLang/julia/tree/f9720dc2ebd6cd9e3086365f281e62506444ef37/base/mpfr.jl#L371\" target=\"_blank\">mpfr.jl:371</a></li> <li> +(x::<b>BigFloat</b>, c::<b>Union{Int16, Int32, Int64, Int8}</b>) in Base.MPFR at <a href=\"https://github.com/JuliaLang/julia/tree/f9720dc2ebd6cd9e3086365f281e62506444ef37/base/mpfr.jl#L379\" target=\"_blank\">mpfr.jl:379</a></li> <li> +(x::<b>BigFloat</b>, c::<b>Union{Float16, Float32, Float64}</b>) in Base.MPFR at <a href=\"https://github.com/JuliaLang/julia/tree/f9720dc2ebd6cd9e3086365f281e62506444ef37/base/mpfr.jl#L387\" target=\"_blank\">mpfr.jl:387</a></li> <li> +(x::<b>BigFloat</b>, c::<b>BigInt</b>) in Base.MPFR at <a href=\"https://github.com/JuliaLang/julia/tree/f9720dc2ebd6cd9e3086365f281e62506444ef37/base/mpfr.jl#L395\" target=\"_blank\">mpfr.jl:395</a></li> <li> +(a::<b>BigFloat</b>, b::<b>BigFloat</b>, c::<b>BigFloat</b>) in Base.MPFR at <a href=\"https://github.com/JuliaLang/julia/tree/f9720dc2ebd6cd9e3086365f281e62506444ef37/base/mpfr.jl#L536\" target=\"_blank\">mpfr.jl:536</a></li> <li> +(a::<b>BigFloat</b>, b::<b>BigFloat</b>, c::<b>BigFloat</b>, d::<b>BigFloat</b>) in Base.MPFR at <a href=\"https://github.com/JuliaLang/julia/tree/f9720dc2ebd6cd9e3086365f281e62506444ef37/base/mpfr.jl#L542\" target=\"_blank\">mpfr.jl:542</a></li> <li> +(a::<b>BigFloat</b>, b::<b>BigFloat</b>, c::<b>BigFloat</b>, d::<b>BigFloat</b>, e::<b>BigFloat</b>) in Base.MPFR at <a href=\"https://github.com/JuliaLang/julia/tree/f9720dc2ebd6cd9e3086365f281e62506444ef37/base/mpfr.jl#L549\" target=\"_blank\">mpfr.jl:549</a></li> <li> +(z::<b>Complex{Bool}</b>, x::<b>Bool</b>) in Base at <a href=\"https://github.com/JuliaLang/julia/tree/f9720dc2ebd6cd9e3086365f281e62506444ef37/base/complex.jl#L287\" target=\"_blank\">complex.jl:287</a></li> <li> +(z::<b>Complex</b>, x::<b>Bool</b>) in Base at <a href=\"https://github.com/JuliaLang/julia/tree/f9720dc2ebd6cd9e3086365f281e62506444ef37/base/complex.jl#L294\" target=\"_blank\">complex.jl:294</a></li> <li> +(z::<b>Complex{Bool}</b>, x::<b>Real</b>) in Base at <a href=\"https://github.com/JuliaLang/julia/tree/f9720dc2ebd6cd9e3086365f281e62506444ef37/base/complex.jl#L301\" target=\"_blank\">complex.jl:301</a></li> <li> +(z::<b>Complex</b>) in Base at <a href=\"https://github.com/JuliaLang/julia/tree/f9720dc2ebd6cd9e3086365f281e62506444ef37/base/complex.jl#L273\" target=\"_blank\">complex.jl:273</a></li> <li> +(z::<b>Complex</b>, x::<b>Real</b>) in Base at <a href=\"https://github.com/JuliaLang/julia/tree/f9720dc2ebd6cd9e3086365f281e62506444ef37/base/complex.jl#L313\" target=\"_blank\">complex.jl:313</a></li> <li> +(x::<b>Dates.CompoundPeriod</b>, y::<b>Dates.Period</b>) in Dates at <a href=\"file:///buildworker/worker/package_linux64/build/usr/share/julia/stdlib/v1.6/Dates/src/periods.jl\" target=\"_blank\">/usr/local/share/julia/stdlib/v1.6/Dates/src/periods.jl:352</a></li> <li> +(x::<b>Dates.CompoundPeriod</b>, y::<b>Dates.CompoundPeriod</b>) in Dates at <a href=\"file:///buildworker/worker/package_linux64/build/usr/share/julia/stdlib/v1.6/Dates/src/periods.jl\" target=\"_blank\">/usr/local/share/julia/stdlib/v1.6/Dates/src/periods.jl:354</a></li> <li> +(x::<b>Dates.CompoundPeriod</b>, y::<b>Dates.TimeType</b>) in Dates at <a href=\"file:///buildworker/worker/package_linux64/build/usr/share/julia/stdlib/v1.6/Dates/src/periods.jl\" target=\"_blank\">/usr/local/share/julia/stdlib/v1.6/Dates/src/periods.jl:382</a></li> <li> +(level::<b>Base.CoreLogging.LogLevel</b>, inc::<b>Integer</b>) in Base.CoreLogging at <a href=\"https://github.com/JuliaLang/julia/tree/f9720dc2ebd6cd9e3086365f281e62506444ef37/base/logging.jl#L131\" target=\"_blank\">logging.jl:131</a></li> <li> +(x::<b>Rational{BigInt}</b>, y::<b>Rational{BigInt}</b>) in Base.GMP.MPQ at <a href=\"https://github.com/JuliaLang/julia/tree/f9720dc2ebd6cd9e3086365f281e62506444ef37/base/gmp.jl#L886\" target=\"_blank\">gmp.jl:886</a></li> <li> +(x::<b>Rational</b>) in Base at <a href=\"https://github.com/JuliaLang/julia/tree/f9720dc2ebd6cd9e3086365f281e62506444ef37/base/rational.jl#L267\" target=\"_blank\">rational.jl:267</a></li> <li> +(x::<b>Rational</b>, y::<b>Rational</b>) in Base at <a href=\"https://github.com/JuliaLang/julia/tree/f9720dc2ebd6cd9e3086365f281e62506444ef37/base/rational.jl#L283\" target=\"_blank\">rational.jl:283</a></li> <li> +(t::<b>Dates.Time</b>, dt::<b>Dates.Date</b>) in Dates at <a href=\"file:///buildworker/worker/package_linux64/build/usr/share/julia/stdlib/v1.6/Dates/src/arithmetic.jl\" target=\"_blank\">/usr/local/share/julia/stdlib/v1.6/Dates/src/arithmetic.jl:20</a></li> <li> +(x::<b>Dates.Time</b>, y::<b>Dates.TimePeriod</b>) in Dates at <a href=\"file:///buildworker/worker/package_linux64/build/usr/share/julia/stdlib/v1.6/Dates/src/arithmetic.jl\" target=\"_blank\">/usr/local/share/julia/stdlib/v1.6/Dates/src/arithmetic.jl:83</a></li> <li> +(x::<b>Dates.TimeType</b>) in Dates at <a href=\"file:///buildworker/worker/package_linux64/build/usr/share/julia/stdlib/v1.6/Dates/src/arithmetic.jl\" target=\"_blank\">/usr/local/share/julia/stdlib/v1.6/Dates/src/arithmetic.jl:8</a></li> <li> +(a::<b>Dates.TimeType</b>, b::<b>Dates.Period</b>, c::<b>Dates.Period</b>) in Dates at <a href=\"file:///buildworker/worker/package_linux64/build/usr/share/julia/stdlib/v1.6/Dates/src/periods.jl\" target=\"_blank\">/usr/local/share/julia/stdlib/v1.6/Dates/src/periods.jl:373</a></li> <li> +(a::<b>Dates.TimeType</b>, b::<b>Dates.Period</b>, c::<b>Dates.Period</b>, d::<b>Dates.Period...</b>) in Dates at <a href=\"file:///buildworker/worker/package_linux64/build/usr/share/julia/stdlib/v1.6/Dates/src/periods.jl\" target=\"_blank\">/usr/local/share/julia/stdlib/v1.6/Dates/src/periods.jl:374</a></li> <li> +(x::<b>Dates.TimeType</b>, y::<b>Dates.CompoundPeriod</b>) in Dates at <a href=\"file:///buildworker/worker/package_linux64/build/usr/share/julia/stdlib/v1.6/Dates/src/periods.jl\" target=\"_blank\">/usr/local/share/julia/stdlib/v1.6/Dates/src/periods.jl:376</a></li> <li> +(x::<b>ChainRulesCore.NotImplemented</b>, ::<b>ChainRulesCore.Tangent</b>) in ChainRulesCore at <a href=\"file:///root/.julia/packages/ChainRulesCore/Y1Mee/src/tangent_arithmetic.jl\" target=\"_blank\">/root/.julia/packages/ChainRulesCore/Y1Mee/src/tangent_arithmetic.jl:24</a></li> <li> +(x::<b>ChainRulesCore.NotImplemented</b>, ::<b>ChainRulesCore.AbstractThunk</b>) in ChainRulesCore at <a href=\"file:///root/.julia/packages/ChainRulesCore/Y1Mee/src/tangent_arithmetic.jl\" target=\"_blank\">/root/.julia/packages/ChainRulesCore/Y1Mee/src/tangent_arithmetic.jl:24</a></li> <li> +(x::<b>ChainRulesCore.NotImplemented</b>, ::<b>ChainRulesCore.NoTangent</b>) in ChainRulesCore at <a href=\"file:///root/.julia/packages/ChainRulesCore/Y1Mee/src/tangent_arithmetic.jl\" target=\"_blank\">/root/.julia/packages/ChainRulesCore/Y1Mee/src/tangent_arithmetic.jl:24</a></li> <li> +(x::<b>ChainRulesCore.NotImplemented</b>, ::<b>ChainRulesCore.ZeroTangent</b>) in ChainRulesCore at <a href=\"file:///root/.julia/packages/ChainRulesCore/Y1Mee/src/tangent_arithmetic.jl\" target=\"_blank\">/root/.julia/packages/ChainRulesCore/Y1Mee/src/tangent_arithmetic.jl:24</a></li> <li> +(x::<b>ChainRulesCore.NotImplemented</b>, ::<b>ChainRulesCore.NotImplemented</b>) in ChainRulesCore at <a href=\"file:///root/.julia/packages/ChainRulesCore/Y1Mee/src/tangent_arithmetic.jl\" target=\"_blank\">/root/.julia/packages/ChainRulesCore/Y1Mee/src/tangent_arithmetic.jl:19</a></li> <li> +(x::<b>ChainRulesCore.NotImplemented</b>, ::<b>Any</b>) in ChainRulesCore at <a href=\"file:///root/.julia/packages/ChainRulesCore/Y1Mee/src/tangent_arithmetic.jl\" target=\"_blank\">/root/.julia/packages/ChainRulesCore/Y1Mee/src/tangent_arithmetic.jl:24</a></li> <li> +(x::<b>ChainRulesCore.AbstractTangent</b>) in ChainRulesCore at <a href=\"file:///root/.julia/packages/ChainRulesCore/Y1Mee/src/tangent_types/abstract_tangent.jl\" target=\"_blank\">/root/.julia/packages/ChainRulesCore/Y1Mee/src/tangent_types/abstract_tangent.jl:38</a></li> <li> +(B::<b>BitMatrix</b>, J::<b>LinearAlgebra.UniformScaling</b>) in LinearAlgebra at <a href=\"file:///buildworker/worker/package_linux64/build/usr/share/julia/stdlib/v1.6/LinearAlgebra/src/uniformscaling.jl\" target=\"_blank\">/usr/local/share/julia/stdlib/v1.6/LinearAlgebra/src/uniformscaling.jl:152</a></li> <li> +(A::<b>AbstractMatrix{T} where T</b>, J::<b>LinearAlgebra.UniformScaling</b>) in LinearAlgebra at <a href=\"file:///buildworker/worker/package_linux64/build/usr/share/julia/stdlib/v1.6/LinearAlgebra/src/uniformscaling.jl\" target=\"_blank\">/usr/local/share/julia/stdlib/v1.6/LinearAlgebra/src/uniformscaling.jl:215</a></li> <li> +(x::<b>AbstractArray{var\"#s79\", N} where {var\"#s79\"<:Number, N}</b>) in Base at <a href=\"https://github.com/JuliaLang/julia/tree/f9720dc2ebd6cd9e3086365f281e62506444ef37/base/abstractarraymath.jl#L97\" target=\"_blank\">abstractarraymath.jl:97</a></li> <li> +(x::<b>Float32</b>, y::<b>Float32</b>) in Base at <a href=\"https://github.com/JuliaLang/julia/tree/f9720dc2ebd6cd9e3086365f281e62506444ef37/base/float.jl#L325\" target=\"_blank\">float.jl:325</a></li> <li> +(x::<b>Float64</b>, y::<b>Float64</b>) in Base at <a href=\"https://github.com/JuliaLang/julia/tree/f9720dc2ebd6cd9e3086365f281e62506444ef37/base/float.jl#L326\" target=\"_blank\">float.jl:326</a></li> <li> +(x::<b>Bool</b>) in Base at <a href=\"https://github.com/JuliaLang/julia/tree/f9720dc2ebd6cd9e3086365f281e62506444ef37/base/bool.jl#L89\" target=\"_blank\">bool.jl:89</a></li> <li> +(x::<b>Integer</b>, y::<b>Ptr</b>) in Base at <a href=\"https://github.com/JuliaLang/julia/tree/f9720dc2ebd6cd9e3086365f281e62506444ef37/base/pointer.jl#L161\" target=\"_blank\">pointer.jl:161</a></li> <li> +(y::<b>Integer</b>, x::<b>Rational</b>) in Base at <a href=\"https://github.com/JuliaLang/julia/tree/f9720dc2ebd6cd9e3086365f281e62506444ef37/base/rational.jl#L295\" target=\"_blank\">rational.jl:295</a></li> <li> +(x::<b>Integer</b>, y::<b>AbstractChar</b>) in Base at <a href=\"https://github.com/JuliaLang/julia/tree/f9720dc2ebd6cd9e3086365f281e62506444ef37/base/char.jl#L224\" target=\"_blank\">char.jl:224</a></li> <li> +(x::<b>Number</b>, y::<b>Base.TwicePrecision</b>) in Base at <a href=\"https://github.com/JuliaLang/julia/tree/f9720dc2ebd6cd9e3086365f281e62506444ef37/base/twiceprecision.jl#L271\" target=\"_blank\">twiceprecision.jl:271</a></li> <li> +(::<b>Number</b>, ::<b>Missing</b>) in Base at <a href=\"https://github.com/JuliaLang/julia/tree/f9720dc2ebd6cd9e3086365f281e62506444ef37/base/missing.jl#L117\" target=\"_blank\">missing.jl:117</a></li> <li> +(x::<b>Number</b>, J::<b>LinearAlgebra.UniformScaling</b>) in LinearAlgebra at <a href=\"file:///buildworker/worker/package_linux64/build/usr/share/julia/stdlib/v1.6/LinearAlgebra/src/uniformscaling.jl\" target=\"_blank\">/usr/local/share/julia/stdlib/v1.6/LinearAlgebra/src/uniformscaling.jl:146</a></li> <li> +(x::<b>Bool</b>, y::<b>Bool</b>) in Base at <a href=\"https://github.com/JuliaLang/julia/tree/f9720dc2ebd6cd9e3086365f281e62506444ef37/base/bool.jl#L92\" target=\"_blank\">bool.jl:92</a></li> <li> +(a::<b>Integer</b>, b::<b>Integer</b>) in Base at <a href=\"https://github.com/JuliaLang/julia/tree/f9720dc2ebd6cd9e3086365f281e62506444ef37/base/int.jl#L919\" target=\"_blank\">int.jl:919</a></li> <li> +(x::<b>Bool</b>, y::<b>T</b>)<i> where T<:AbstractFloat</i> in Base at <a href=\"https://github.com/JuliaLang/julia/tree/f9720dc2ebd6cd9e3086365f281e62506444ef37/base/bool.jl#L99\" target=\"_blank\">bool.jl:99</a></li> <li> +(x::<b>Bool</b>, z::<b>Complex{Bool}</b>) in Base at <a href=\"https://github.com/JuliaLang/julia/tree/f9720dc2ebd6cd9e3086365f281e62506444ef37/base/complex.jl#L286\" target=\"_blank\">complex.jl:286</a></li> <li> +(x::<b>Real</b>, z::<b>Complex{Bool}</b>) in Base at <a href=\"https://github.com/JuliaLang/julia/tree/f9720dc2ebd6cd9e3086365f281e62506444ef37/base/complex.jl#L300\" target=\"_blank\">complex.jl:300</a></li> <li> +(x::<b>Bool</b>, z::<b>Complex</b>) in Base at <a href=\"https://github.com/JuliaLang/julia/tree/f9720dc2ebd6cd9e3086365f281e62506444ef37/base/complex.jl#L293\" target=\"_blank\">complex.jl:293</a></li> <li> +(x::<b>Real</b>, z::<b>Complex</b>) in Base at <a href=\"https://github.com/JuliaLang/julia/tree/f9720dc2ebd6cd9e3086365f281e62506444ef37/base/complex.jl#L312\" target=\"_blank\">complex.jl:312</a></li> <li> +(x::<b>Float16</b>, y::<b>Float16</b>) in Base at <a href=\"https://github.com/JuliaLang/julia/tree/f9720dc2ebd6cd9e3086365f281e62506444ef37/base/float.jl#L324\" target=\"_blank\">float.jl:324</a></li> <li> +(x::<b>Number</b>) in Base at <a href=\"https://github.com/JuliaLang/julia/tree/f9720dc2ebd6cd9e3086365f281e62506444ef37/base/operators.jl#L515\" target=\"_blank\">operators.jl:515</a></li> <li> +(a::<b>P</b>, d::<b>ChainRulesCore.Tangent{P, T} where T</b>)<i> where P</i> in ChainRulesCore at <a href=\"file:///root/.julia/packages/ChainRulesCore/Y1Mee/src/tangent_arithmetic.jl\" target=\"_blank\">/root/.julia/packages/ChainRulesCore/Y1Mee/src/tangent_arithmetic.jl:132</a></li> <li> +(a, b::<b>ChainRulesCore.AbstractThunk</b>) in ChainRulesCore at <a href=\"file:///root/.julia/packages/ChainRulesCore/Y1Mee/src/tangent_arithmetic.jl\" target=\"_blank\">/root/.julia/packages/ChainRulesCore/Y1Mee/src/tangent_arithmetic.jl:122</a></li> <li> +(a, ::<b>ChainRulesCore.ZeroTangent</b>) in ChainRulesCore at <a href=\"file:///root/.julia/packages/ChainRulesCore/Y1Mee/src/tangent_arithmetic.jl\" target=\"_blank\">/root/.julia/packages/ChainRulesCore/Y1Mee/src/tangent_arithmetic.jl:99</a></li> <li> +(a, ::<b>ChainRulesCore.NoTangent</b>) in ChainRulesCore at <a href=\"file:///root/.julia/packages/ChainRulesCore/Y1Mee/src/tangent_arithmetic.jl\" target=\"_blank\">/root/.julia/packages/ChainRulesCore/Y1Mee/src/tangent_arithmetic.jl:59</a></li> <li> +(::<b>Any</b>, x::<b>ChainRulesCore.NotImplemented</b>) in ChainRulesCore at <a href=\"file:///root/.julia/packages/ChainRulesCore/Y1Mee/src/tangent_arithmetic.jl\" target=\"_blank\">/root/.julia/packages/ChainRulesCore/Y1Mee/src/tangent_arithmetic.jl:25</a></li> <li> +(x::<b>T</b>, y::<b>T</b>)<i> where T<:Number</i> in Base at <a href=\"https://github.com/JuliaLang/julia/tree/f9720dc2ebd6cd9e3086365f281e62506444ef37/base/promotion.jl#L396\" target=\"_blank\">promotion.jl:396</a></li> <li> +(x::<b>Number</b>, y::<b>Number</b>) in Base at <a href=\"https://github.com/JuliaLang/julia/tree/f9720dc2ebd6cd9e3086365f281e62506444ef37/base/promotion.jl#L321\" target=\"_blank\">promotion.jl:321</a></li> <li> +(a, b, c, xs...) in Base at <a href=\"https://github.com/JuliaLang/julia/tree/f9720dc2ebd6cd9e3086365f281e62506444ef37/base/operators.jl#L560\" target=\"_blank\">operators.jl:560</a></li> </ul>"
            ],
            "text/plain": [
              "# 243 methods for generic function \"+\":\n",
              "[1] +(x::T, y::T) where T<:Union{Int128, Int16, Int32, Int64, Int8, UInt128, UInt16, UInt32, UInt64, UInt8} in Base at int.jl:87\n",
              "[2] +(c::Union{UInt16, UInt32, UInt64, UInt8}, x::BigInt) in Base.GMP at gmp.jl:528\n",
              "[3] +(c::Union{Int16, Int32, Int64, Int8}, x::BigInt) in Base.GMP at gmp.jl:534\n",
              "[4] +(c::Union{UInt16, UInt32, UInt64, UInt8}, x::BigFloat) in Base.MPFR at mpfr.jl:376\n",
              "[5] +(c::Union{Int16, Int32, Int64, Int8}, x::BigFloat) in Base.MPFR at mpfr.jl:384\n",
              "[6] +(c::Union{Float16, Float32, Float64}, x::BigFloat) in Base.MPFR at mpfr.jl:392\n",
              "[7] +(x::Union{Dates.CompoundPeriod, Dates.Period}) in Dates at /usr/local/share/julia/stdlib/v1.6/Dates/src/periods.jl:362\n",
              "[8] +(a::Union{LMS, XYZ}, b::Union{LMS, XYZ}) in Colors at /root/.julia/packages/Colors/yDxFN/src/algorithms.jl:4\n",
              "[9] +(a::StaticArrays.StaticMatrix{N, M, T} where {N, M, T}, b::LinearAlgebra.UniformScaling) in StaticArrays at /root/.julia/packages/StaticArrays/OWJK7/src/linalg.jl:29\n",
              "[10] +(a::StaticArrays.StaticArray) in StaticArrays at /root/.julia/packages/StaticArrays/OWJK7/src/linalg.jl:7\n",
              "[11] +(a::StaticArrays.StaticArray, b::StaticArrays.StaticArray) in StaticArrays at /root/.julia/packages/StaticArrays/OWJK7/src/linalg.jl:12\n",
              "[12] +(a::StaticArrays.StaticArray, b::AbstractArray) in StaticArrays at /root/.julia/packages/StaticArrays/OWJK7/src/linalg.jl:14\n",
              "[13] +(index1::CartesianIndex{N}, index2::CartesianIndex{N}) where N in Base.IteratorsMD at multidimensional.jl:114\n",
              "[14] +(a::Tuple{Vararg{Measures.Measure, N}}, b::Tuple{Vararg{Measures.Measure, N}}) where N in Measures at /root/.julia/packages/Measures/0Zkai/src/point.jl:21\n",
              "[15] +(a::Tuple{Vararg{Measures.Measure, N}} where N, b::Tuple{Vararg{Measures.Measure, N}} where N) in Measures at /root/.julia/packages/Measures/0Zkai/src/point.jl:15\n",
              "[16] +(a::ChainRulesCore.Tangent{P, T} where T, b::ChainRulesCore.Tangent{P, T} where T) where P in ChainRulesCore at /root/.julia/packages/ChainRulesCore/Y1Mee/src/tangent_arithmetic.jl:128\n",
              "[17] +(a::ChainRulesCore.Tangent, b::ChainRulesCore.AbstractThunk) in ChainRulesCore at /root/.julia/packages/ChainRulesCore/Y1Mee/src/tangent_arithmetic.jl:122\n",
              "[18] +(a::ChainRulesCore.Tangent, ::ChainRulesCore.ZeroTangent) in ChainRulesCore at /root/.julia/packages/ChainRulesCore/Y1Mee/src/tangent_arithmetic.jl:99\n",
              "[19] +(a::ChainRulesCore.Tangent, ::ChainRulesCore.NoTangent) in ChainRulesCore at /root/.julia/packages/ChainRulesCore/Y1Mee/src/tangent_arithmetic.jl:59\n",
              "[20] +(::ChainRulesCore.Tangent, x::ChainRulesCore.NotImplemented) in ChainRulesCore at /root/.julia/packages/ChainRulesCore/Y1Mee/src/tangent_arithmetic.jl:25\n",
              "[21] +(a::ChainRulesCore.Tangent{P, T} where T, b::P) where P in ChainRulesCore at /root/.julia/packages/ChainRulesCore/Y1Mee/src/tangent_arithmetic.jl:145\n",
              "[22] +(A::SparseArrays.AbstractSparseMatrix{Tv, Ti} where {Tv, Ti}, B::LinearAlgebra.Hermitian{var\"#s832\", var\"#s831\"} where {var\"#s832\", var\"#s831\"<:(SparseArrays.AbstractSparseMatrix{Tv, Ti} where {Tv, Ti})}) in SparseArrays at /usr/local/share/julia/stdlib/v1.6/SparseArrays/src/linalg.jl:14\n",
              "[23] +(A::SparseArrays.AbstractSparseMatrix{Tv, Ti} where {Tv, Ti}, B::LinearAlgebra.Hermitian) in SparseArrays at /usr/local/share/julia/stdlib/v1.6/SparseArrays/src/linalg.jl:17\n",
              "[24] +(A::SparseArrays.AbstractSparseMatrix{Tv, Ti} where {Tv, Ti}, B::LinearAlgebra.Symmetric{var\"#s832\", var\"#s831\"} where {var\"#s832\", var\"#s831\"<:(SparseArrays.AbstractSparseMatrix{Tv, Ti} where {Tv, Ti})}) in SparseArrays at /usr/local/share/julia/stdlib/v1.6/SparseArrays/src/linalg.jl:14\n",
              "[25] +(A::SparseArrays.AbstractSparseMatrix{Tv, Ti} where {Tv, Ti}, B::LinearAlgebra.Symmetric) in SparseArrays at /usr/local/share/julia/stdlib/v1.6/SparseArrays/src/linalg.jl:17\n",
              "[26] +(Da::LinearAlgebra.Diagonal, Db::LinearAlgebra.Diagonal) in LinearAlgebra at /usr/local/share/julia/stdlib/v1.6/LinearAlgebra/src/diagonal.jl:156\n",
              "[27] +(D::LinearAlgebra.Diagonal, S::LinearAlgebra.Symmetric) in LinearAlgebra at /usr/local/share/julia/stdlib/v1.6/LinearAlgebra/src/diagonal.jl:160\n",
              "[28] +(D::LinearAlgebra.Diagonal{var\"#s832\", V} where {var\"#s832\"<:Real, V<:AbstractVector{var\"#s832\"}}, H::LinearAlgebra.Hermitian) in LinearAlgebra at /usr/local/share/julia/stdlib/v1.6/LinearAlgebra/src/diagonal.jl:166\n",
              "[29] +(A::LinearAlgebra.Diagonal, B::LinearAlgebra.Bidiagonal) in LinearAlgebra at /usr/local/share/julia/stdlib/v1.6/LinearAlgebra/src/special.jl:125\n",
              "[30] +(A::LinearAlgebra.Diagonal, B::LinearAlgebra.SymTridiagonal) in LinearAlgebra at /usr/local/share/julia/stdlib/v1.6/LinearAlgebra/src/special.jl:135\n",
              "[31] +(A::LinearAlgebra.Diagonal, B::LinearAlgebra.Tridiagonal) in LinearAlgebra at /usr/local/share/julia/stdlib/v1.6/LinearAlgebra/src/special.jl:163\n",
              "[32] +(A::LinearAlgebra.Diagonal{var\"#s832\", V} where {var\"#s832\"<:Number, V<:AbstractVector{var\"#s832\"}}, B::LinearAlgebra.UniformScaling) in LinearAlgebra at /usr/local/share/julia/stdlib/v1.6/LinearAlgebra/src/special.jl:241\n",
              "[33] +(x::Base.TwicePrecision, y::Number) in Base at twiceprecision.jl:267\n",
              "[34] +(x::Base.TwicePrecision{T}, y::Base.TwicePrecision{T}) where T in Base at twiceprecision.jl:273\n",
              "[35] +(x::Base.TwicePrecision, y::Base.TwicePrecision) in Base at twiceprecision.jl:278\n",
              "[36] +(x::X, y::X) where X<:FixedPointNumbers.FixedPoint in FixedPointNumbers at /root/.julia/packages/FixedPointNumbers/HAGk2/src/FixedPointNumbers.jl:237\n",
              "[37] +(x::P, y::P) where P<:Dates.Period in Dates at /usr/local/share/julia/stdlib/v1.6/Dates/src/periods.jl:79\n",
              "[38] +(x::Dates.Period, y::Dates.Period) in Dates at /usr/local/share/julia/stdlib/v1.6/Dates/src/periods.jl:351\n",
              "[39] +(y::Dates.Period, x::Dates.CompoundPeriod) in Dates at /usr/local/share/julia/stdlib/v1.6/Dates/src/periods.jl:353\n",
              "[40] +(y::Dates.Period, x::Dates.TimeType) in Dates at /usr/local/share/julia/stdlib/v1.6/Dates/src/arithmetic.jl:85\n",
              "[41] +(x::Dates.Period, r::AbstractRange{var\"#s832\"} where var\"#s832\"<:Dates.TimeType) in Dates at /usr/local/share/julia/stdlib/v1.6/Dates/src/ranges.jl:62\n",
              "[42] +(y::Union{Dates.CompoundPeriod, Dates.Period}, x::AbstractArray{var\"#s832\", N} where {var\"#s832\"<:Dates.TimeType, N}) in Dates at /usr/local/share/julia/stdlib/v1.6/Dates/src/deprecated.jl:14\n",
              "[43] +(J::LinearAlgebra.UniformScaling) in LinearAlgebra at /usr/local/share/julia/stdlib/v1.6/LinearAlgebra/src/uniformscaling.jl:150\n",
              "[44] +(J::LinearAlgebra.UniformScaling, x::Number) in LinearAlgebra at /usr/local/share/julia/stdlib/v1.6/LinearAlgebra/src/uniformscaling.jl:145\n",
              "[45] +(J1::LinearAlgebra.UniformScaling, J2::LinearAlgebra.UniformScaling) in LinearAlgebra at /usr/local/share/julia/stdlib/v1.6/LinearAlgebra/src/uniformscaling.jl:151\n",
              "[46] +(J::LinearAlgebra.UniformScaling, B::BitMatrix) in LinearAlgebra at /usr/local/share/julia/stdlib/v1.6/LinearAlgebra/src/uniformscaling.jl:153\n",
              "[47] +(J::LinearAlgebra.UniformScaling, F::LinearAlgebra.Hessenberg) in LinearAlgebra at /usr/local/share/julia/stdlib/v1.6/LinearAlgebra/src/hessenberg.jl:560\n",
              "[48] +(A::LinearAlgebra.UniformScaling, B::LinearAlgebra.Tridiagonal{var\"#s832\", V} where {var\"#s832\"<:Number, V<:AbstractVector{var\"#s832\"}}) in LinearAlgebra at /usr/local/share/julia/stdlib/v1.6/LinearAlgebra/src/special.jl:245\n",
              "[49] +(A::LinearAlgebra.UniformScaling, B::LinearAlgebra.SymTridiagonal{var\"#s832\", V} where {var\"#s832\"<:Number, V<:AbstractVector{var\"#s832\"}}) in LinearAlgebra at /usr/local/share/julia/stdlib/v1.6/LinearAlgebra/src/special.jl:250\n",
              "[50] +(A::LinearAlgebra.UniformScaling, B::LinearAlgebra.Bidiagonal{var\"#s832\", V} where {var\"#s832\"<:Number, V<:AbstractVector{var\"#s832\"}}) in LinearAlgebra at /usr/local/share/julia/stdlib/v1.6/LinearAlgebra/src/special.jl:255\n",
              "[51] +(A::LinearAlgebra.UniformScaling, B::LinearAlgebra.Diagonal{var\"#s832\", V} where {var\"#s832\"<:Number, V<:AbstractVector{var\"#s832\"}}) in LinearAlgebra at /usr/local/share/julia/stdlib/v1.6/LinearAlgebra/src/special.jl:260\n",
              "[52] +(a::LinearAlgebra.UniformScaling, b::StaticArrays.StaticMatrix{N, M, T} where {N, M, T}) in StaticArrays at /root/.julia/packages/StaticArrays/OWJK7/src/linalg.jl:30\n",
              "[53] +(J::LinearAlgebra.UniformScaling, A::AbstractMatrix{T} where T) in LinearAlgebra at /usr/local/share/julia/stdlib/v1.6/LinearAlgebra/src/uniformscaling.jl:154\n",
              "[54] +(x::AbstractIrrational, y::AbstractIrrational) in Base at irrationals.jl:156\n",
              "[55] +(x::GeometryBasics.OffsetInteger{O, T} where T<:Integer, y::GeometryBasics.OffsetInteger{O, T} where T<:Integer) where O in GeometryBasics at /root/.julia/packages/GeometryBasics/WMp6v/src/offsetintegers.jl:63\n",
              "[56] +(x::Dates.Instant) in Dates at /usr/local/share/julia/stdlib/v1.6/Dates/src/arithmetic.jl:4\n",
              "[57] +(A::LinearAlgebra.Bidiagonal, B::LinearAlgebra.Bidiagonal) in LinearAlgebra at /usr/local/share/julia/stdlib/v1.6/LinearAlgebra/src/bidiag.jl:354\n",
              "[58] +(A::LinearAlgebra.Bidiagonal, B::LinearAlgebra.UpperTriangular) in LinearAlgebra at /usr/local/share/julia/stdlib/v1.6/LinearAlgebra/src/special.jl:94\n",
              "[59] +(A::LinearAlgebra.Bidiagonal, B::LinearAlgebra.UnitUpperTriangular) in LinearAlgebra at /usr/local/share/julia/stdlib/v1.6/LinearAlgebra/src/special.jl:94\n",
              "[60] +(A::LinearAlgebra.Bidiagonal, B::LinearAlgebra.LowerTriangular) in LinearAlgebra at /usr/local/share/julia/stdlib/v1.6/LinearAlgebra/src/special.jl:94\n",
              "[61] +(A::LinearAlgebra.Bidiagonal, B::LinearAlgebra.UnitLowerTriangular) in LinearAlgebra at /usr/local/share/julia/stdlib/v1.6/LinearAlgebra/src/special.jl:94\n",
              "[62] +(A::LinearAlgebra.Bidiagonal, B::LinearAlgebra.Diagonal) in LinearAlgebra at /usr/local/share/julia/stdlib/v1.6/LinearAlgebra/src/special.jl:115\n",
              "[63] +(A::LinearAlgebra.Bidiagonal, B::LinearAlgebra.Tridiagonal) in LinearAlgebra at /usr/local/share/julia/stdlib/v1.6/LinearAlgebra/src/special.jl:183\n",
              "[64] +(A::LinearAlgebra.Bidiagonal, B::LinearAlgebra.SymTridiagonal) in LinearAlgebra at /usr/local/share/julia/stdlib/v1.6/LinearAlgebra/src/special.jl:203\n",
              "[65] +(A::LinearAlgebra.Bidiagonal{var\"#s832\", V} where {var\"#s832\"<:Number, V<:AbstractVector{var\"#s832\"}}, B::LinearAlgebra.UniformScaling) in LinearAlgebra at /usr/local/share/julia/stdlib/v1.6/LinearAlgebra/src/special.jl:236\n",
              "[66] +(A::LinearAlgebra.UnitLowerTriangular, B::LinearAlgebra.LowerTriangular) in LinearAlgebra at /usr/local/share/julia/stdlib/v1.6/LinearAlgebra/src/triangular.jl:653\n",
              "[67] +(A::LinearAlgebra.UnitLowerTriangular, B::LinearAlgebra.UnitLowerTriangular) in LinearAlgebra at /usr/local/share/julia/stdlib/v1.6/LinearAlgebra/src/triangular.jl:655\n",
              "[68] +(UL::LinearAlgebra.UnitLowerTriangular, J::LinearAlgebra.UniformScaling) in LinearAlgebra at /usr/local/share/julia/stdlib/v1.6/LinearAlgebra/src/uniformscaling.jl:182\n",
              "[69] +(A::LinearAlgebra.UnitLowerTriangular, B::LinearAlgebra.Bidiagonal) in LinearAlgebra at /usr/local/share/julia/stdlib/v1.6/LinearAlgebra/src/special.jl:86\n",
              "[70] +(A::LinearAlgebra.UpperHessenberg, B::LinearAlgebra.UpperHessenberg) in LinearAlgebra at /usr/local/share/julia/stdlib/v1.6/LinearAlgebra/src/hessenberg.jl:101\n",
              "[71] +(H::LinearAlgebra.UpperHessenberg, J::LinearAlgebra.UniformScaling) in LinearAlgebra at /usr/local/share/julia/stdlib/v1.6/LinearAlgebra/src/hessenberg.jl:106\n",
              "[72] +(A::LinearAlgebra.Symmetric, B::LinearAlgebra.Symmetric) in LinearAlgebra at /usr/local/share/julia/stdlib/v1.6/LinearAlgebra/src/symmetric.jl:469\n",
              "[73] +(S::LinearAlgebra.Symmetric, D::LinearAlgebra.Diagonal) in LinearAlgebra at /usr/local/share/julia/stdlib/v1.6/LinearAlgebra/src/diagonal.jl:163\n",
              "[74] +(A::LinearAlgebra.Symmetric{var\"#s830\", var\"#s829\"} where {var\"#s830\", var\"#s829\"<:(SparseArrays.AbstractSparseMatrix{Tv, Ti} where {Tv, Ti})}, B::SparseArrays.AbstractSparseMatrix{Tv, Ti} where {Tv, Ti}) in SparseArrays at /usr/local/share/julia/stdlib/v1.6/SparseArrays/src/linalg.jl:15\n",
              "[75] +(A::LinearAlgebra.Symmetric, B::SparseArrays.AbstractSparseMatrix{Tv, Ti} where {Tv, Ti}) in SparseArrays at /usr/local/share/julia/stdlib/v1.6/SparseArrays/src/linalg.jl:18\n",
              "[76] +(A::LinearAlgebra.Symmetric{var\"#s824\", var\"#s823\"} where {var\"#s824\"<:Real, var\"#s823\"<:(SparseArrays.AbstractSparseMatrix{Tv, Ti} where {Tv, Ti})}, B::LinearAlgebra.Hermitian{var\"#s822\", var\"#s821\"} where {var\"#s822\", var\"#s821\"<:(SparseArrays.AbstractSparseMatrix{Tv, Ti} where {Tv, Ti})}) in SparseArrays at /usr/local/share/julia/stdlib/v1.6/SparseArrays/src/linalg.jl:25\n",
              "[77] +(A::LinearAlgebra.Symmetric{var\"#s831\", S} where {var\"#s831\"<:Real, S<:(AbstractMatrix{var\"#s832\"} where var\"#s832\"<:var\"#s831\")}, B::LinearAlgebra.Hermitian) in LinearAlgebra at /usr/local/share/julia/stdlib/v1.6/LinearAlgebra/src/symmetric.jl:484\n",
              "[78] +(A::LinearAlgebra.Symmetric{var\"#s832\", var\"#s831\"} where {var\"#s832\", var\"#s831\"<:(SparseArrays.AbstractSparseMatrix{Tv, Ti} where {Tv, Ti})}, B::LinearAlgebra.Hermitian{var\"#s830\", var\"#s829\"} where {var\"#s830\", var\"#s829\"<:(SparseArrays.AbstractSparseMatrix{Tv, Ti} where {Tv, Ti})}) in SparseArrays at /usr/local/share/julia/stdlib/v1.6/SparseArrays/src/linalg.jl:23\n",
              "[79] +(A::LinearAlgebra.SymTridiagonal, B::LinearAlgebra.SymTridiagonal) in LinearAlgebra at /usr/local/share/julia/stdlib/v1.6/LinearAlgebra/src/tridiag.jl:205\n",
              "[80] +(A::LinearAlgebra.SymTridiagonal, B::LinearAlgebra.Diagonal) in LinearAlgebra at /usr/local/share/julia/stdlib/v1.6/LinearAlgebra/src/special.jl:145\n",
              "[81] +(A::LinearAlgebra.SymTridiagonal, B::LinearAlgebra.Tridiagonal) in LinearAlgebra at /usr/local/share/julia/stdlib/v1.6/LinearAlgebra/src/special.jl:159\n",
              "[82] +(A::LinearAlgebra.SymTridiagonal, B::LinearAlgebra.Bidiagonal) in LinearAlgebra at /usr/local/share/julia/stdlib/v1.6/LinearAlgebra/src/special.jl:213\n",
              "[83] +(A::LinearAlgebra.SymTridiagonal{var\"#s832\", V} where {var\"#s832\"<:Number, V<:AbstractVector{var\"#s832\"}}, B::LinearAlgebra.UniformScaling) in LinearAlgebra at /usr/local/share/julia/stdlib/v1.6/LinearAlgebra/src/special.jl:231\n",
              "[84] +(r1::LinRange{T}, r2::LinRange{T}) where T in Base at range.jl:1108\n",
              "[85] +(A::LinearAlgebra.UnitUpperTriangular, B::LinearAlgebra.UpperTriangular) in LinearAlgebra at /usr/local/share/julia/stdlib/v1.6/LinearAlgebra/src/triangular.jl:652\n",
              "[86] +(A::LinearAlgebra.UnitUpperTriangular, B::LinearAlgebra.UnitUpperTriangular) in LinearAlgebra at /usr/local/share/julia/stdlib/v1.6/LinearAlgebra/src/triangular.jl:654\n",
              "[87] +(UL::LinearAlgebra.UnitUpperTriangular, J::LinearAlgebra.UniformScaling) in LinearAlgebra at /usr/local/share/julia/stdlib/v1.6/LinearAlgebra/src/uniformscaling.jl:182\n",
              "[88] +(A::LinearAlgebra.UnitUpperTriangular, B::LinearAlgebra.Bidiagonal) in LinearAlgebra at /usr/local/share/julia/stdlib/v1.6/LinearAlgebra/src/special.jl:86\n",
              "[89] +(A::Array, Bs::Array...) in Base at arraymath.jl:43\n",
              "[90] +(X::StridedArray{var\"#s832\", N} where {var\"#s832\"<:Union{Dates.CompoundPeriod, Dates.Period}, N}, Y::StridedArray{var\"#s831\", N} where {var\"#s831\"<:Union{Dates.CompoundPeriod, Dates.Period}, N}) in Dates at /usr/local/share/julia/stdlib/v1.6/Dates/src/deprecated.jl:62\n",
              "[91] +(A::Array, B::SparseArrays.AbstractSparseMatrixCSC) in SparseArrays at /usr/local/share/julia/stdlib/v1.6/SparseArrays/src/sparsematrix.jl:1745\n",
              "[92] +(x::StridedArray{var\"#s832\", N} where {var\"#s832\"<:Union{Dates.CompoundPeriod, Dates.Period}, N}) in Dates at /usr/local/share/julia/stdlib/v1.6/Dates/src/deprecated.jl:55\n",
              "[93] +(x::StridedArray{var\"#s832\", N} where {var\"#s832\"<:Union{Dates.CompoundPeriod, Dates.Period}, N}, y::Dates.TimeType) in Dates at /usr/local/share/julia/stdlib/v1.6/Dates/src/deprecated.jl:10\n",
              "[94] +(r1::StepRangeLen{T, R, S} where S, r2::StepRangeLen{T, R, S} where S) where {R<:Base.TwicePrecision, T} in Base at twiceprecision.jl:574\n",
              "[95] +(r1::StepRangeLen{T, S, S1} where S1, r2::StepRangeLen{T, S, S1} where S1) where {T, S} in Base at range.jl:1124\n",
              "[96] +(a::Measures.Length{U, T} where T, b::Measures.Length{U, T} where T) where U in Measures at /root/.julia/packages/Measures/0Zkai/src/length.jl:28\n",
              "[97] +(a::Measures.Measure, b::Measures.Measure) in Measures at /root/.julia/packages/Measures/0Zkai/src/operations.jl:41\n",
              "[98] +(a::Dict, d::ChainRulesCore.Tangent{P, T} where T) where P in ChainRulesCore at /root/.julia/packages/ChainRulesCore/Y1Mee/src/tangent_arithmetic.jl:144\n",
              "[99] +(a::ChainRulesCore.AbstractThunk, b::ChainRulesCore.Tangent) in ChainRulesCore at /root/.julia/packages/ChainRulesCore/Y1Mee/src/tangent_arithmetic.jl:121\n",
              "[100] +(a::ChainRulesCore.AbstractThunk, b::ChainRulesCore.AbstractThunk) in ChainRulesCore at /root/.julia/packages/ChainRulesCore/Y1Mee/src/tangent_arithmetic.jl:118\n",
              "[101] +(a::ChainRulesCore.AbstractThunk, ::ChainRulesCore.ZeroTangent) in ChainRulesCore at /root/.julia/packages/ChainRulesCore/Y1Mee/src/tangent_arithmetic.jl:99\n",
              "[102] +(a::ChainRulesCore.AbstractThunk, ::ChainRulesCore.NoTangent) in ChainRulesCore at /root/.julia/packages/ChainRulesCore/Y1Mee/src/tangent_arithmetic.jl:59\n",
              "[103] +(::ChainRulesCore.AbstractThunk, x::ChainRulesCore.NotImplemented) in ChainRulesCore at /root/.julia/packages/ChainRulesCore/Y1Mee/src/tangent_arithmetic.jl:25\n",
              "[104] +(a::ChainRulesCore.AbstractThunk, b) in ChainRulesCore at /root/.julia/packages/ChainRulesCore/Y1Mee/src/tangent_arithmetic.jl:121\n",
              "[105] +(y::Dates.TimeType, x::StridedArray{var\"#s832\", N} where {var\"#s832\"<:Union{Dates.CompoundPeriod, Dates.Period}, N}) in Dates at /usr/local/share/julia/stdlib/v1.6/Dates/src/deprecated.jl:18\n",
              "[106] +(x::T, y::Integer) where T<:AbstractChar in Base at char.jl:223\n",
              "[107] +(A::BitArray, B::BitArray) in Base at bitarray.jl:1127\n",
              "[108] +(x::Ptr, y::Integer) in Base at pointer.jl:159\n",
              "[109] +(y::AbstractFloat, x::Bool) in Base at bool.jl:102\n",
              "[110] +(x::Dates.AbstractTime, y::Missing) in Dates at /usr/local/share/julia/stdlib/v1.6/Dates/src/arithmetic.jl:88\n",
              "[111] +(A::LinearAlgebra.LowerTriangular, B::LinearAlgebra.LowerTriangular) in LinearAlgebra at /usr/local/share/julia/stdlib/v1.6/LinearAlgebra/src/triangular.jl:649\n",
              "[112] +(A::LinearAlgebra.LowerTriangular, B::LinearAlgebra.UnitLowerTriangular) in LinearAlgebra at /usr/local/share/julia/stdlib/v1.6/LinearAlgebra/src/triangular.jl:651\n",
              "[113] +(A::LinearAlgebra.LowerTriangular, B::LinearAlgebra.Bidiagonal) in LinearAlgebra at /usr/local/share/julia/stdlib/v1.6/LinearAlgebra/src/special.jl:86\n",
              "[114] +(r1::OrdinalRange, r2::OrdinalRange) in Base at range.jl:1101\n",
              "[115] +(r1::Union{LinRange, OrdinalRange, StepRangeLen}, r2::Union{LinRange, OrdinalRange, StepRangeLen}) in Base at range.jl:1117\n",
              "[116] +(A::LinearAlgebra.Tridiagonal, B::LinearAlgebra.Tridiagonal) in LinearAlgebra at /usr/local/share/julia/stdlib/v1.6/LinearAlgebra/src/tridiag.jl:733\n",
              "[117] +(A::LinearAlgebra.Tridiagonal, B::LinearAlgebra.SymTridiagonal) in LinearAlgebra at /usr/local/share/julia/stdlib/v1.6/LinearAlgebra/src/special.jl:157\n",
              "[118] +(A::LinearAlgebra.Tridiagonal, B::LinearAlgebra.Diagonal) in LinearAlgebra at /usr/local/share/julia/stdlib/v1.6/LinearAlgebra/src/special.jl:173\n",
              "[119] +(A::LinearAlgebra.Tridiagonal, B::LinearAlgebra.Bidiagonal) in LinearAlgebra at /usr/local/share/julia/stdlib/v1.6/LinearAlgebra/src/special.jl:193\n",
              "[120] +(A::LinearAlgebra.Tridiagonal{var\"#s832\", V} where {var\"#s832\"<:Number, V<:AbstractVector{var\"#s832\"}}, B::LinearAlgebra.UniformScaling) in LinearAlgebra at /usr/local/share/julia/stdlib/v1.6/LinearAlgebra/src/special.jl:226\n",
              "[121] +(r::AbstractRange{var\"#s832\"} where var\"#s832\"<:Dates.TimeType, x::Dates.Period) in Dates at /usr/local/share/julia/stdlib/v1.6/Dates/src/ranges.jl:63\n",
              "[122] +(A::LinearAlgebra.Hermitian, B::LinearAlgebra.Hermitian) in LinearAlgebra at /usr/local/share/julia/stdlib/v1.6/LinearAlgebra/src/symmetric.jl:469\n",
              "[123] +(H::LinearAlgebra.Hermitian, D::LinearAlgebra.Diagonal{var\"#s832\", V} where {var\"#s832\"<:Real, V<:AbstractVector{var\"#s832\"}}) in LinearAlgebra at /usr/local/share/julia/stdlib/v1.6/LinearAlgebra/src/diagonal.jl:169\n",
              "[124] +(A::LinearAlgebra.Hermitian, J::LinearAlgebra.UniformScaling{var\"#s832\"} where var\"#s832\"<:Complex) in LinearAlgebra at /usr/local/share/julia/stdlib/v1.6/LinearAlgebra/src/uniformscaling.jl:196\n",
              "[125] +(A::LinearAlgebra.Hermitian{var\"#s830\", var\"#s829\"} where {var\"#s830\", var\"#s829\"<:(SparseArrays.AbstractSparseMatrix{Tv, Ti} where {Tv, Ti})}, B::SparseArrays.AbstractSparseMatrix{Tv, Ti} where {Tv, Ti}) in SparseArrays at /usr/local/share/julia/stdlib/v1.6/SparseArrays/src/linalg.jl:15\n",
              "[126] +(A::LinearAlgebra.Hermitian, B::SparseArrays.AbstractSparseMatrix{Tv, Ti} where {Tv, Ti}) in SparseArrays at /usr/local/share/julia/stdlib/v1.6/SparseArrays/src/linalg.jl:18\n",
              "[127] +(A::LinearAlgebra.Hermitian{var\"#s820\", var\"#s819\"} where {var\"#s820\", var\"#s819\"<:(SparseArrays.AbstractSparseMatrix{Tv, Ti} where {Tv, Ti})}, B::LinearAlgebra.Symmetric{var\"#s818\", var\"#s817\"} where {var\"#s818\"<:Real, var\"#s817\"<:(SparseArrays.AbstractSparseMatrix{Tv, Ti} where {Tv, Ti})}) in SparseArrays at /usr/local/share/julia/stdlib/v1.6/SparseArrays/src/linalg.jl:26\n",
              "[128] +(A::LinearAlgebra.Hermitian, B::LinearAlgebra.Symmetric{var\"#s832\", S} where {var\"#s832\"<:Real, S<:(AbstractMatrix{var\"#s832\"} where var\"#s832\"<:var\"#s832\")}) in LinearAlgebra at /usr/local/share/julia/stdlib/v1.6/LinearAlgebra/src/symmetric.jl:483\n",
              "[129] +(A::LinearAlgebra.Hermitian{var\"#s828\", var\"#s827\"} where {var\"#s828\", var\"#s827\"<:(SparseArrays.AbstractSparseMatrix{Tv, Ti} where {Tv, Ti})}, B::LinearAlgebra.Symmetric{var\"#s826\", var\"#s825\"} where {var\"#s826\", var\"#s825\"<:(SparseArrays.AbstractSparseMatrix{Tv, Ti} where {Tv, Ti})}) in SparseArrays at /usr/local/share/julia/stdlib/v1.6/SparseArrays/src/linalg.jl:24\n",
              "[130] +(F::LinearAlgebra.Hessenberg, J::LinearAlgebra.UniformScaling) in LinearAlgebra at /usr/local/share/julia/stdlib/v1.6/LinearAlgebra/src/hessenberg.jl:559\n",
              "[131] +(x::Rational, y::Integer) in Base at rational.jl:288\n",
              "[132] +(A::LinearAlgebra.UpperTriangular, B::LinearAlgebra.UpperTriangular) in LinearAlgebra at /usr/local/share/julia/stdlib/v1.6/LinearAlgebra/src/triangular.jl:648\n",
              "[133] +(A::LinearAlgebra.UpperTriangular, B::LinearAlgebra.UnitUpperTriangular) in LinearAlgebra at /usr/local/share/julia/stdlib/v1.6/LinearAlgebra/src/triangular.jl:650\n",
              "[134] +(A::LinearAlgebra.AbstractTriangular, B::LinearAlgebra.AbstractTriangular) in LinearAlgebra at /usr/local/share/julia/stdlib/v1.6/LinearAlgebra/src/triangular.jl:656\n",
              "[135] +(A::LinearAlgebra.UpperTriangular, B::LinearAlgebra.Bidiagonal) in LinearAlgebra at /usr/local/share/julia/stdlib/v1.6/LinearAlgebra/src/special.jl:86\n",
              "[136] +(z::Complex, w::Complex) in Base at complex.jl:275\n",
              "[137] +(x::AbstractArray{var\"#s832\", N} where {var\"#s832\"<:Dates.TimeType, N}, y::Union{Dates.CompoundPeriod, Dates.Period}) in Dates at /usr/local/share/julia/stdlib/v1.6/Dates/src/deprecated.jl:6\n",
              "[138] +(a::AbstractArray, b::StaticArrays.StaticArray) in StaticArrays at /root/.julia/packages/StaticArrays/OWJK7/src/linalg.jl:13\n",
              "[139] +(h::GeometryBasics.HyperRectangle{N, T}, move::StaticArrays.StaticVector{N, T} where T) where {N, T} in GeometryBasics at /root/.julia/packages/GeometryBasics/WMp6v/src/primitives/rectangles.jl:273\n",
              "[140] +(h::GeometryBasics.HyperRectangle{N, T}, move::Number) where {N, T} in GeometryBasics at /root/.julia/packages/GeometryBasics/WMp6v/src/primitives/rectangles.jl:267\n",
              "[141] +(A::SparseArrays.AbstractSparseMatrixCSC, B::SparseArrays.AbstractSparseMatrixCSC) in SparseArrays at /usr/local/share/julia/stdlib/v1.6/SparseArrays/src/sparsematrix.jl:1741\n",
              "[142] +(x::SparseArrays.AbstractSparseVector{Tv, Ti} where {Tv, Ti}, y::SparseArrays.AbstractSparseVector{Tv, Ti} where {Tv, Ti}) in SparseArrays at /usr/local/share/julia/stdlib/v1.6/SparseArrays/src/sparsevector.jl:1345\n",
              "[143] +(A::SparseArrays.AbstractSparseMatrixCSC, B::Array) in SparseArrays at /usr/local/share/julia/stdlib/v1.6/SparseArrays/src/sparsematrix.jl:1744\n",
              "[144] +(A::AbstractArray, B::AbstractArray) in Base at arraymath.jl:37\n",
              "[145] +(A::SparseArrays.AbstractSparseMatrixCSC, J::LinearAlgebra.UniformScaling) in SparseArrays at /usr/local/share/julia/stdlib/v1.6/SparseArrays/src/sparsematrix.jl:3797\n",
              "[146] +(bb1::Measures.BoundingBox, bb2::Measures.BoundingBox) in Plots at /root/.julia/packages/Plots/5kcBO/src/layouts.jl:19\n",
              "[147] +(::ChainRulesCore.ZeroTangent, b::ChainRulesCore.Tangent) in ChainRulesCore at /root/.julia/packages/ChainRulesCore/Y1Mee/src/tangent_arithmetic.jl:98\n",
              "[148] +(::ChainRulesCore.ZeroTangent, b::ChainRulesCore.AbstractThunk) in ChainRulesCore at /root/.julia/packages/ChainRulesCore/Y1Mee/src/tangent_arithmetic.jl:98\n",
              "[149] +(::ChainRulesCore.ZeroTangent, ::ChainRulesCore.ZeroTangent) in ChainRulesCore at /root/.julia/packages/ChainRulesCore/Y1Mee/src/tangent_arithmetic.jl:92\n",
              "[150] +(::ChainRulesCore.ZeroTangent, ::ChainRulesCore.NoTangent) in ChainRulesCore at /root/.julia/packages/ChainRulesCore/Y1Mee/src/tangent_arithmetic.jl:73\n",
              "[151] +(::ChainRulesCore.ZeroTangent, x::ChainRulesCore.NotImplemented) in ChainRulesCore at /root/.julia/packages/ChainRulesCore/Y1Mee/src/tangent_arithmetic.jl:25\n",
              "[152] +(::ChainRulesCore.ZeroTangent, b) in ChainRulesCore at /root/.julia/packages/ChainRulesCore/Y1Mee/src/tangent_arithmetic.jl:98\n",
              "[153] +(a::Pkg.Resolve.FieldValue, b::Pkg.Resolve.FieldValue) in Pkg.Resolve at /usr/local/share/julia/stdlib/v1.6/Pkg/src/Resolve/fieldvalues.jl:43\n",
              "[154] +(x::BigInt, y::BigInt) in Base.GMP at gmp.jl:479\n",
              "[155] +(a::BigInt, b::BigInt, c::BigInt) in Base.GMP at gmp.jl:519\n",
              "[156] +(a::BigInt, b::BigInt, c::BigInt, d::BigInt) in Base.GMP at gmp.jl:520\n",
              "[157] +(a::BigInt, b::BigInt, c::BigInt, d::BigInt, e::BigInt) in Base.GMP at gmp.jl:521\n",
              "[158] +(x::BigInt, c::Union{UInt16, UInt32, UInt64, UInt8}) in Base.GMP at gmp.jl:527\n",
              "[159] +(x::BigInt, c::Union{Int16, Int32, Int64, Int8}) in Base.GMP at gmp.jl:533\n",
              "[160] +(c::BigInt, x::BigFloat) in Base.MPFR at mpfr.jl:400\n",
              "[161] +(::Missing) in Base at missing.jl:101\n",
              "[162] +(::Missing, ::Missing) in Base at missing.jl:115\n",
              "[163] +(::Missing, ::Number) in Base at missing.jl:116\n",
              "[164] +(x::Missing, y::Dates.AbstractTime) in Dates at /usr/local/share/julia/stdlib/v1.6/Dates/src/arithmetic.jl:89\n",
              "[165] +(dt::Dates.DateTime, y::Dates.Year) in Dates at /usr/local/share/julia/stdlib/v1.6/Dates/src/arithmetic.jl:23\n",
              "[166] +(dt::Dates.DateTime, z::Dates.Month) in Dates at /usr/local/share/julia/stdlib/v1.6/Dates/src/arithmetic.jl:47\n",
              "[167] +(x::Dates.DateTime, y::Dates.Quarter) in Dates at /usr/local/share/julia/stdlib/v1.6/Dates/src/arithmetic.jl:75\n",
              "[168] +(x::Dates.DateTime, y::Dates.Period) in Dates at /usr/local/share/julia/stdlib/v1.6/Dates/src/arithmetic.jl:81\n",
              "[169] +(a::Pkg.Resolve.VersionWeight, b::Pkg.Resolve.VersionWeight) in Pkg.Resolve at /usr/local/share/julia/stdlib/v1.6/Pkg/src/Resolve/versionweights.jl:22\n",
              "[170] +(dt::Dates.Date, t::Dates.Time) in Dates at /usr/local/share/julia/stdlib/v1.6/Dates/src/arithmetic.jl:19\n",
              "[171] +(dt::Dates.Date, y::Dates.Year) in Dates at /usr/local/share/julia/stdlib/v1.6/Dates/src/arithmetic.jl:27\n",
              "[172] +(dt::Dates.Date, z::Dates.Month) in Dates at /usr/local/share/julia/stdlib/v1.6/Dates/src/arithmetic.jl:54\n",
              "[173] +(x::Dates.Date, y::Dates.Quarter) in Dates at /usr/local/share/julia/stdlib/v1.6/Dates/src/arithmetic.jl:73\n",
              "[174] +(x::Dates.Date, y::Dates.Week) in Dates at /usr/local/share/julia/stdlib/v1.6/Dates/src/arithmetic.jl:77\n",
              "[175] +(x::Dates.Date, y::Dates.Day) in Dates at /usr/local/share/julia/stdlib/v1.6/Dates/src/arithmetic.jl:79\n",
              "[176] +(::ChainRulesCore.NoTangent, ::ChainRulesCore.ZeroTangent) in ChainRulesCore at /root/.julia/packages/ChainRulesCore/Y1Mee/src/tangent_arithmetic.jl:72\n",
              "[177] +(::ChainRulesCore.NoTangent, b::ChainRulesCore.Tangent) in ChainRulesCore at /root/.julia/packages/ChainRulesCore/Y1Mee/src/tangent_arithmetic.jl:58\n",
              "[178] +(::ChainRulesCore.NoTangent, b::ChainRulesCore.AbstractThunk) in ChainRulesCore at /root/.julia/packages/ChainRulesCore/Y1Mee/src/tangent_arithmetic.jl:58\n",
              "[179] +(::ChainRulesCore.NoTangent, ::ChainRulesCore.NoTangent) in ChainRulesCore at /root/.julia/packages/ChainRulesCore/Y1Mee/src/tangent_arithmetic.jl:52\n",
              "[180] +(::ChainRulesCore.NoTangent, x::ChainRulesCore.NotImplemented) in ChainRulesCore at /root/.julia/packages/ChainRulesCore/Y1Mee/src/tangent_arithmetic.jl:25\n",
              "[181] +(::ChainRulesCore.NoTangent, b) in ChainRulesCore at /root/.julia/packages/ChainRulesCore/Y1Mee/src/tangent_arithmetic.jl:58\n",
              "[182] +(x::BigFloat, y::BigFloat) in Base.MPFR at mpfr.jl:364\n",
              "[183] +(x::BigFloat, c::Union{UInt16, UInt32, UInt64, UInt8}) in Base.MPFR at mpfr.jl:371\n",
              "[184] +(x::BigFloat, c::Union{Int16, Int32, Int64, Int8}) in Base.MPFR at mpfr.jl:379\n",
              "[185] +(x::BigFloat, c::Union{Float16, Float32, Float64}) in Base.MPFR at mpfr.jl:387\n",
              "[186] +(x::BigFloat, c::BigInt) in Base.MPFR at mpfr.jl:395\n",
              "[187] +(a::BigFloat, b::BigFloat, c::BigFloat) in Base.MPFR at mpfr.jl:536\n",
              "[188] +(a::BigFloat, b::BigFloat, c::BigFloat, d::BigFloat) in Base.MPFR at mpfr.jl:542\n",
              "[189] +(a::BigFloat, b::BigFloat, c::BigFloat, d::BigFloat, e::BigFloat) in Base.MPFR at mpfr.jl:549\n",
              "[190] +(z::Complex{Bool}, x::Bool) in Base at complex.jl:287\n",
              "[191] +(z::Complex, x::Bool) in Base at complex.jl:294\n",
              "[192] +(z::Complex{Bool}, x::Real) in Base at complex.jl:301\n",
              "[193] +(z::Complex) in Base at complex.jl:273\n",
              "[194] +(z::Complex, x::Real) in Base at complex.jl:313\n",
              "[195] +(x::Dates.CompoundPeriod, y::Dates.Period) in Dates at /usr/local/share/julia/stdlib/v1.6/Dates/src/periods.jl:352\n",
              "[196] +(x::Dates.CompoundPeriod, y::Dates.CompoundPeriod) in Dates at /usr/local/share/julia/stdlib/v1.6/Dates/src/periods.jl:354\n",
              "[197] +(x::Dates.CompoundPeriod, y::Dates.TimeType) in Dates at /usr/local/share/julia/stdlib/v1.6/Dates/src/periods.jl:382\n",
              "[198] +(level::Base.CoreLogging.LogLevel, inc::Integer) in Base.CoreLogging at logging.jl:131\n",
              "[199] +(x::Rational{BigInt}, y::Rational{BigInt}) in Base.GMP.MPQ at gmp.jl:886\n",
              "[200] +(x::Rational) in Base at rational.jl:267\n",
              "[201] +(x::Rational, y::Rational) in Base at rational.jl:283\n",
              "[202] +(t::Dates.Time, dt::Dates.Date) in Dates at /usr/local/share/julia/stdlib/v1.6/Dates/src/arithmetic.jl:20\n",
              "[203] +(x::Dates.Time, y::Dates.TimePeriod) in Dates at /usr/local/share/julia/stdlib/v1.6/Dates/src/arithmetic.jl:83\n",
              "[204] +(x::Dates.TimeType) in Dates at /usr/local/share/julia/stdlib/v1.6/Dates/src/arithmetic.jl:8\n",
              "[205] +(a::Dates.TimeType, b::Dates.Period, c::Dates.Period) in Dates at /usr/local/share/julia/stdlib/v1.6/Dates/src/periods.jl:373\n",
              "[206] +(a::Dates.TimeType, b::Dates.Period, c::Dates.Period, d::Dates.Period...) in Dates at /usr/local/share/julia/stdlib/v1.6/Dates/src/periods.jl:374\n",
              "[207] +(x::Dates.TimeType, y::Dates.CompoundPeriod) in Dates at /usr/local/share/julia/stdlib/v1.6/Dates/src/periods.jl:376\n",
              "[208] +(x::ChainRulesCore.NotImplemented, ::ChainRulesCore.Tangent) in ChainRulesCore at /root/.julia/packages/ChainRulesCore/Y1Mee/src/tangent_arithmetic.jl:24\n",
              "[209] +(x::ChainRulesCore.NotImplemented, ::ChainRulesCore.AbstractThunk) in ChainRulesCore at /root/.julia/packages/ChainRulesCore/Y1Mee/src/tangent_arithmetic.jl:24\n",
              "[210] +(x::ChainRulesCore.NotImplemented, ::ChainRulesCore.NoTangent) in ChainRulesCore at /root/.julia/packages/ChainRulesCore/Y1Mee/src/tangent_arithmetic.jl:24\n",
              "[211] +(x::ChainRulesCore.NotImplemented, ::ChainRulesCore.ZeroTangent) in ChainRulesCore at /root/.julia/packages/ChainRulesCore/Y1Mee/src/tangent_arithmetic.jl:24\n",
              "[212] +(x::ChainRulesCore.NotImplemented, ::ChainRulesCore.NotImplemented) in ChainRulesCore at /root/.julia/packages/ChainRulesCore/Y1Mee/src/tangent_arithmetic.jl:19\n",
              "[213] +(x::ChainRulesCore.NotImplemented, ::Any) in ChainRulesCore at /root/.julia/packages/ChainRulesCore/Y1Mee/src/tangent_arithmetic.jl:24\n",
              "[214] +(x::ChainRulesCore.AbstractTangent) in ChainRulesCore at /root/.julia/packages/ChainRulesCore/Y1Mee/src/tangent_types/abstract_tangent.jl:38\n",
              "[215] +(B::BitMatrix, J::LinearAlgebra.UniformScaling) in LinearAlgebra at /usr/local/share/julia/stdlib/v1.6/LinearAlgebra/src/uniformscaling.jl:152\n",
              "[216] +(A::AbstractMatrix{T} where T, J::LinearAlgebra.UniformScaling) in LinearAlgebra at /usr/local/share/julia/stdlib/v1.6/LinearAlgebra/src/uniformscaling.jl:215\n",
              "[217] +(x::AbstractArray{var\"#s79\", N} where {var\"#s79\"<:Number, N}) in Base at abstractarraymath.jl:97\n",
              "[218] +(x::Float32, y::Float32) in Base at float.jl:325\n",
              "[219] +(x::Float64, y::Float64) in Base at float.jl:326\n",
              "[220] +(x::Bool) in Base at bool.jl:89\n",
              "[221] +(x::Integer, y::Ptr) in Base at pointer.jl:161\n",
              "[222] +(y::Integer, x::Rational) in Base at rational.jl:295\n",
              "[223] +(x::Integer, y::AbstractChar) in Base at char.jl:224\n",
              "[224] +(x::Number, y::Base.TwicePrecision) in Base at twiceprecision.jl:271\n",
              "[225] +(::Number, ::Missing) in Base at missing.jl:117\n",
              "[226] +(x::Number, J::LinearAlgebra.UniformScaling) in LinearAlgebra at /usr/local/share/julia/stdlib/v1.6/LinearAlgebra/src/uniformscaling.jl:146\n",
              "[227] +(x::Bool, y::Bool) in Base at bool.jl:92\n",
              "[228] +(a::Integer, b::Integer) in Base at int.jl:919\n",
              "[229] +(x::Bool, y::T) where T<:AbstractFloat in Base at bool.jl:99\n",
              "[230] +(x::Bool, z::Complex{Bool}) in Base at complex.jl:286\n",
              "[231] +(x::Real, z::Complex{Bool}) in Base at complex.jl:300\n",
              "[232] +(x::Bool, z::Complex) in Base at complex.jl:293\n",
              "[233] +(x::Real, z::Complex) in Base at complex.jl:312\n",
              "[234] +(x::Float16, y::Float16) in Base at float.jl:324\n",
              "[235] +(x::Number) in Base at operators.jl:515\n",
              "[236] +(a::P, d::ChainRulesCore.Tangent{P, T} where T) where P in ChainRulesCore at /root/.julia/packages/ChainRulesCore/Y1Mee/src/tangent_arithmetic.jl:132\n",
              "[237] +(a, b::ChainRulesCore.AbstractThunk) in ChainRulesCore at /root/.julia/packages/ChainRulesCore/Y1Mee/src/tangent_arithmetic.jl:122\n",
              "[238] +(a, ::ChainRulesCore.ZeroTangent) in ChainRulesCore at /root/.julia/packages/ChainRulesCore/Y1Mee/src/tangent_arithmetic.jl:99\n",
              "[239] +(a, ::ChainRulesCore.NoTangent) in ChainRulesCore at /root/.julia/packages/ChainRulesCore/Y1Mee/src/tangent_arithmetic.jl:59\n",
              "[240] +(::Any, x::ChainRulesCore.NotImplemented) in ChainRulesCore at /root/.julia/packages/ChainRulesCore/Y1Mee/src/tangent_arithmetic.jl:25\n",
              "[241] +(x::T, y::T) where T<:Number in Base at promotion.jl:396\n",
              "[242] +(x::Number, y::Number) in Base at promotion.jl:321\n",
              "[243] +(a, b, c, xs...) in Base at operators.jl:560"
            ]
          },
          "metadata": {},
          "execution_count": 155
        }
      ]
    },
    {
      "cell_type": "markdown",
      "metadata": {
        "id": "RIajBy2j7AwQ"
      },
      "source": [
        "So, we now can call `foo` on integers or strings. When you call `foo` on a particular set of arguments, Julia will infer the types of the inputs and dispatch the appropriate method. *This* is multiple dispatch.\n",
        "\n",
        "Multiple dispatch makes our code generic and fast. Our code can be generic and flexible because we can write code in terms of abstract operations such as addition and multiplication, rather than in terms of specific implementations. At the same time, our code runs quickly because Julia is able to call efficient methods for the relevant types.\n",
        "\n",
        "To see which method is being dispatched when we call a generic function, we can use the @which macro:"
      ]
    },
    {
      "cell_type": "code",
      "metadata": {
        "id": "THpzlGe37AwR",
        "colab": {
          "base_uri": "https://localhost:8080/",
          "height": 34
        },
        "outputId": "bec971fe-94e6-4210-dd6c-80f5f08a3b76"
      },
      "source": [
        "@which foo(3, 4)"
      ],
      "execution_count": null,
      "outputs": [
        {
          "output_type": "execute_result",
          "data": {
            "text/html": [
              "foo(x::<b>Int64</b>, y::<b>Int64</b>) in Main at In[151]:1"
            ],
            "text/plain": [
              "foo(x::Int64, y::Int64) in Main at In[151]:1"
            ]
          },
          "metadata": {},
          "execution_count": 156
        }
      ]
    },
    {
      "cell_type": "markdown",
      "metadata": {
        "id": "rOWOu3a47AwS"
      },
      "source": [
        "Let's see what happens when we use `@which` with the addition operator!"
      ]
    },
    {
      "cell_type": "code",
      "metadata": {
        "id": "eX1AFE8y7AwU",
        "colab": {
          "base_uri": "https://localhost:8080/",
          "height": 34
        },
        "outputId": "14e19697-d898-46a6-e1b2-68f2bbceb714"
      },
      "source": [
        "@which 3.0 + 3.0"
      ],
      "execution_count": null,
      "outputs": [
        {
          "output_type": "execute_result",
          "data": {
            "text/html": [
              "+(x::<b>Float64</b>, y::<b>Float64</b>) in Base at <a href=\"https://github.com/JuliaLang/julia/tree/f9720dc2ebd6cd9e3086365f281e62506444ef37/base/float.jl#L326\" target=\"_blank\">float.jl:326</a>"
            ],
            "text/plain": [
              "+(x::Float64, y::Float64) in Base at float.jl:326"
            ]
          },
          "metadata": {},
          "execution_count": 157
        }
      ]
    },
    {
      "cell_type": "markdown",
      "metadata": {
        "id": "mrrNYYRe7AwV"
      },
      "source": [
        "And we can continue to add other methods to our generic function `foo`. Let's add one that takes the ***abstract type*** `Number`, which includes subtypes such as `Int`, `Float64`, and other objects you would think of as numbers:"
      ]
    },
    {
      "cell_type": "code",
      "metadata": {
        "id": "EvSSmf_d7AwV",
        "colab": {
          "base_uri": "https://localhost:8080/"
        },
        "outputId": "67e84634-c024-47ce-a2ee-268dc2a8e6c7"
      },
      "source": [
        "foo(x::Number, y::Number) = println(\"My inputs x and y are both numbers!\")"
      ],
      "execution_count": null,
      "outputs": [
        {
          "output_type": "execute_result",
          "data": {
            "text/plain": [
              "foo (generic function with 3 methods)"
            ]
          },
          "metadata": {},
          "execution_count": 158
        }
      ]
    },
    {
      "cell_type": "markdown",
      "metadata": {
        "id": "F55XgzYS7AwW"
      },
      "source": [
        "This method for `foo` will work on, for example, floating point numbers:"
      ]
    },
    {
      "cell_type": "code",
      "metadata": {
        "id": "AcoOUTJ47AwW",
        "colab": {
          "base_uri": "https://localhost:8080/"
        },
        "outputId": "0740ee1c-5320-435b-d335-0cb2c8b28649"
      },
      "source": [
        "foo(3.0, 4.0)"
      ],
      "execution_count": null,
      "outputs": [
        {
          "output_type": "stream",
          "name": "stdout",
          "text": [
            "My inputs x and y are both numbers!\n"
          ]
        }
      ]
    },
    {
      "cell_type": "markdown",
      "metadata": {
        "id": "4pZNR7J67AwX"
      },
      "source": [
        "We can also add a fallback, duck-typed method for `foo` that takes inputs of any type:"
      ]
    },
    {
      "cell_type": "code",
      "metadata": {
        "id": "MRc0x8x17AwX",
        "colab": {
          "base_uri": "https://localhost:8080/"
        },
        "outputId": "54e3c77a-c58e-414e-d96d-f5076770ab4a"
      },
      "source": [
        "foo(x, y) = println(\"I accept inputs of any type!\")"
      ],
      "execution_count": null,
      "outputs": [
        {
          "output_type": "execute_result",
          "data": {
            "text/plain": [
              "foo (generic function with 4 methods)"
            ]
          },
          "metadata": {},
          "execution_count": 160
        }
      ]
    },
    {
      "cell_type": "markdown",
      "metadata": {
        "id": "rhVgS4mF7AwX"
      },
      "source": [
        "Given the methods we've already written for `foo` so far, this method will be called whenever we pass non-numbers to `foo`:"
      ]
    },
    {
      "cell_type": "code",
      "metadata": {
        "id": "JOAXH5Z37AwX",
        "colab": {
          "base_uri": "https://localhost:8080/"
        },
        "outputId": "91c45a8a-e98f-449c-ed24-2ba4dc84973a"
      },
      "source": [
        "v = rand(3)\n",
        "foo(v, v)"
      ],
      "execution_count": null,
      "outputs": [
        {
          "output_type": "stream",
          "name": "stdout",
          "text": [
            "I accept inputs of any type!\n"
          ]
        }
      ]
    },
    {
      "cell_type": "code",
      "metadata": {
        "id": "mL6o5kXj7Awc",
        "colab": {
          "base_uri": "https://localhost:8080/"
        },
        "outputId": "2ea6af15-1ed5-4a1b-b190-a48e03a38b65"
      },
      "source": [
        "foo(true,false)"
      ],
      "execution_count": null,
      "outputs": [
        {
          "output_type": "stream",
          "name": "stdout",
          "text": [
            "My inputs x and y are both numbers!\n"
          ]
        }
      ]
    },
    {
      "cell_type": "code",
      "metadata": {
        "id": "Omn4kBMO8HZi"
      },
      "source": [
        ""
      ],
      "execution_count": null,
      "outputs": []
    }
  ]
}