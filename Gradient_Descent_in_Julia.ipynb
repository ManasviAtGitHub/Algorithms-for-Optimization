{
  "nbformat": 4,
  "nbformat_minor": 0,
  "metadata": {
    "colab": {
      "name": "Gradient Descent in Julia",
      "provenance": [],
      "collapsed_sections": [],
      "include_colab_link": true
    },
    "kernelspec": {
      "display_name": "Julia",
      "language": "julia",
      "name": "julia"
    },
    "language_info": {
      "file_extension": ".jl",
      "mimetype": "application/julia",
      "name": "julia"
    }
  },
  "cells": [
    {
      "cell_type": "markdown",
      "metadata": {
        "id": "view-in-github",
        "colab_type": "text"
      },
      "source": [
        "<a href=\"https://colab.research.google.com/github/ManasviAtGitHub/Algorithms-for-Optimization/blob/main/Gradient_Descent_in_Julia.ipynb\" target=\"_parent\"><img src=\"https://colab.research.google.com/assets/colab-badge.svg\" alt=\"Open In Colab\"/></a>"
      ]
    },
    {
      "cell_type": "markdown",
      "metadata": {
        "id": "tQ1r1bbb0yBv"
      },
      "source": [
        "# <img src=\"https://github.com/JuliaLang/julia-logo-graphics/raw/master/images/julia-logo-color.png\" height=\"100\" /> _Colab Notebook Template_\n",
        "\n",
        "## Instructions\n",
        "1. Work on a copy of this notebook: _File_ > _Save a copy in Drive_ (you will need a Google account). Alternatively, you can download the notebook using _File_ > _Download .ipynb_, then upload it to [Colab](https://colab.research.google.com/).\n",
        "2. If you need a GPU: _Runtime_ > _Change runtime type_ > _Harware accelerator_ = _GPU_.\n",
        "3. Execute the following cell (click on it and press Ctrl+Enter) to install Julia, IJulia and other packages (if needed, update `JULIA_VERSION` and the other parameters). This takes a couple of minutes.\n",
        "4. Reload this page (press Ctrl+R, or ⌘+R, or the F5 key) and continue to the next section.\n",
        "\n",
        "_Notes_:\n",
        "* If your Colab Runtime gets reset (e.g., due to inactivity), repeat steps 2, 3 and 4.\n",
        "* After installation, if you want to change the Julia version or activate/deactivate the GPU, you will need to reset the Runtime: _Runtime_ > _Factory reset runtime_ and repeat steps 3 and 4."
      ]
    },
    {
      "cell_type": "markdown",
      "metadata": {
        "id": "HS5T2qcb_XNQ"
      },
      "source": [
        "Original Source : https://www.jihongzhang.org/post/gradient-descent-via-julia/"
      ]
    },
    {
      "cell_type": "code",
      "metadata": {
        "id": "GIeFXS0F0zww",
        "colab": {
          "base_uri": "https://localhost:8080/"
        },
        "outputId": "3dff83ef-9a3b-47e4-b3ca-0e3398c26baa"
      },
      "source": [
        "%%shell\n",
        "set -e\n",
        "\n",
        "#---------------------------------------------------#\n",
        "JULIA_VERSION=\"1.6.0\" # any version ≥ 0.7.0\n",
        "JULIA_PACKAGES=\"IJulia BenchmarkTools Plots\"\n",
        "JULIA_PACKAGES_IF_GPU=\"CUDA\" # or CuArrays for older Julia versions\n",
        "JULIA_NUM_THREADS=2\n",
        "#---------------------------------------------------#\n",
        "\n",
        "if [ -n \"$COLAB_GPU\" ] && [ -z `which julia` ]; then\n",
        "  # Install Julia\n",
        "  JULIA_VER=`cut -d '.' -f -2 <<< \"$JULIA_VERSION\"`\n",
        "  echo \"Installing Julia $JULIA_VERSION on the current Colab Runtime...\"\n",
        "  BASE_URL=\"https://julialang-s3.julialang.org/bin/linux/x64\"\n",
        "  URL=\"$BASE_URL/$JULIA_VER/julia-$JULIA_VERSION-linux-x86_64.tar.gz\"\n",
        "  wget -nv $URL -O /tmp/julia.tar.gz # -nv means \"not verbose\"\n",
        "  tar -x -f /tmp/julia.tar.gz -C /usr/local --strip-components 1\n",
        "  rm /tmp/julia.tar.gz\n",
        "\n",
        "  # Install Packages\n",
        "  if [ \"$COLAB_GPU\" = \"1\" ]; then\n",
        "      JULIA_PACKAGES=\"$JULIA_PACKAGES $JULIA_PACKAGES_IF_GPU\"\n",
        "  fi\n",
        "  for PKG in `echo $JULIA_PACKAGES`; do\n",
        "    echo \"Installing Julia package $PKG...\"\n",
        "    julia -e 'using Pkg; pkg\"add '$PKG'; precompile;\"' &> /dev/null\n",
        "  done\n",
        "\n",
        "  # Install kernel and rename it to \"julia\"\n",
        "  echo \"Installing IJulia kernel...\"\n",
        "  julia -e 'using IJulia; IJulia.installkernel(\"julia\", env=Dict(\n",
        "      \"JULIA_NUM_THREADS\"=>\"'\"$JULIA_NUM_THREADS\"'\"))'\n",
        "  KERNEL_DIR=`julia -e \"using IJulia; print(IJulia.kerneldir())\"`\n",
        "  KERNEL_NAME=`ls -d \"$KERNEL_DIR\"/julia*`\n",
        "  mv -f $KERNEL_NAME \"$KERNEL_DIR\"/julia  \n",
        "\n",
        "  echo ''\n",
        "  echo \"Success! Please reload this page and jump to the next section.\"\n",
        "fi"
      ],
      "execution_count": null,
      "outputs": [
        {
          "output_type": "stream",
          "name": "stdout",
          "text": [
            "Installing Julia 1.6.0 on the current Colab Runtime...\n",
            "2021-11-19 16:18:43 URL:https://storage.googleapis.com/julialang2/bin/linux/x64/1.6/julia-1.6.0-linux-x86_64.tar.gz [112838927/112838927] -> \"/tmp/julia.tar.gz\" [1]\n",
            "Installing Julia package IJulia...\n",
            "Installing Julia package BenchmarkTools...\n",
            "Installing Julia package Plots...\n",
            "Installing IJulia kernel...\n",
            "\u001b[36m\u001b[1m[ \u001b[22m\u001b[39m\u001b[36m\u001b[1mInfo: \u001b[22m\u001b[39mInstalling julia kernelspec in /root/.local/share/jupyter/kernels/julia-1.6\n",
            "\n",
            "Success! Please reload this page and jump to the next section.\n"
          ]
        },
        {
          "output_type": "execute_result",
          "data": {
            "text/plain": [
              ""
            ]
          },
          "metadata": {},
          "execution_count": 1
        }
      ]
    },
    {
      "cell_type": "markdown",
      "metadata": {
        "id": "8RC1QNNqk6h1"
      },
      "source": [
        "# Need Help?\n",
        "\n",
        "* Learning: https://julialang.org/learning/\n",
        "* Documentation: https://docs.julialang.org/\n",
        "* Questions & Discussions:\n",
        "  * https://discourse.julialang.org/\n",
        "  * http://julialang.slack.com/\n",
        "  * https://stackoverflow.com/questions/tagged/julia\n",
        "\n",
        "If you ever ask for help or file an issue about Julia, you should generally provide the output of `versioninfo()`."
      ]
    },
    {
      "cell_type": "markdown",
      "metadata": {
        "id": "2UMidUQB03vJ"
      },
      "source": [
        "Add new code cells by clicking the `+ Code` button (or _Insert_ > _Code cell_).\n",
        "\n",
        "Have fun!\n",
        "\n",
        "<img src=\"https://raw.githubusercontent.com/JuliaLang/julia-logo-graphics/master/images/julia-logo-mask.png\" height=\"100\" />"
      ]
    },
    {
      "cell_type": "markdown",
      "metadata": {
        "id": "4x2gDaxNj1PL"
      },
      "source": [
        ""
      ]
    },
    {
      "cell_type": "code",
      "metadata": {
        "id": "N6SJNbrV_jLi",
        "colab": {
          "base_uri": "https://localhost:8080/"
        },
        "outputId": "a6d2214b-4bce-49b2-a364-9c0af7fbd6e2"
      },
      "source": [
        "]add RDatasets,DataFrames"
      ],
      "execution_count": null,
      "outputs": [
        {
          "output_type": "stream",
          "name": "stderr",
          "text": [
            "\u001b[32m\u001b[1m    Updating\u001b[22m\u001b[39m registry at `~/.julia/registries/General`\n",
            "\u001b[32m\u001b[1m   Resolving\u001b[22m\u001b[39m package versions...\n",
            "\u001b[32m\u001b[1m   Installed\u001b[22m\u001b[39m Mocking ──────────── v0.7.3\n",
            "\u001b[32m\u001b[1m   Installed\u001b[22m\u001b[39m Crayons ──────────── v4.0.4\n",
            "\u001b[32m\u001b[1m   Installed\u001b[22m\u001b[39m InlineStrings ────── v1.0.1\n",
            "\u001b[32m\u001b[1m   Installed\u001b[22m\u001b[39m ExprTools ────────── v0.1.6\n",
            "\u001b[32m\u001b[1m   Installed\u001b[22m\u001b[39m RData ────────────── v0.8.3\n",
            "\u001b[32m\u001b[1m   Installed\u001b[22m\u001b[39m SentinelArrays ───── v1.3.8\n",
            "\u001b[32m\u001b[1m   Installed\u001b[22m\u001b[39m CodecZlib ────────── v0.7.0\n",
            "\u001b[32m\u001b[1m   Installed\u001b[22m\u001b[39m PooledArrays ─────── v1.3.0\n",
            "\u001b[32m\u001b[1m   Installed\u001b[22m\u001b[39m DataFrames ───────── v1.2.2\n",
            "\u001b[32m\u001b[1m   Installed\u001b[22m\u001b[39m FileIO ───────────── v1.11.2\n",
            "\u001b[32m\u001b[1m   Installed\u001b[22m\u001b[39m FilePathsBase ────── v0.9.16\n",
            "\u001b[32m\u001b[1m   Installed\u001b[22m\u001b[39m WeakRefStrings ───── v1.4.1\n",
            "\u001b[32m\u001b[1m   Installed\u001b[22m\u001b[39m TranscodingStreams ─ v0.9.6\n",
            "\u001b[32m\u001b[1m   Installed\u001b[22m\u001b[39m InvertedIndices ──── v1.1.0\n",
            "\u001b[32m\u001b[1m   Installed\u001b[22m\u001b[39m CategoricalArrays ── v0.10.2\n",
            "\u001b[32m\u001b[1m   Installed\u001b[22m\u001b[39m TimeZones ────────── v1.6.2\n",
            "\u001b[32m\u001b[1m   Installed\u001b[22m\u001b[39m CSV ──────────────── v0.9.11\n",
            "\u001b[32m\u001b[1m   Installed\u001b[22m\u001b[39m PrettyTables ─────── v1.2.3\n",
            "\u001b[32m\u001b[1m   Installed\u001b[22m\u001b[39m RDatasets ────────── v0.7.6\n",
            "\u001b[32m\u001b[1m    Updating\u001b[22m\u001b[39m `~/.julia/environments/v1.6/Project.toml`\n",
            " \u001b[90m [a93c6f00] \u001b[39m\u001b[92m+ DataFrames v1.2.2\u001b[39m\n",
            " \u001b[90m [ce6b1742] \u001b[39m\u001b[92m+ RDatasets v0.7.6\u001b[39m\n",
            "\u001b[32m\u001b[1m    Updating\u001b[22m\u001b[39m `~/.julia/environments/v1.6/Manifest.toml`\n",
            " \u001b[90m [336ed68f] \u001b[39m\u001b[92m+ CSV v0.9.11\u001b[39m\n",
            " \u001b[90m [324d7699] \u001b[39m\u001b[92m+ CategoricalArrays v0.10.2\u001b[39m\n",
            " \u001b[90m [944b1d66] \u001b[39m\u001b[92m+ CodecZlib v0.7.0\u001b[39m\n",
            " \u001b[90m [a8cc5b0e] \u001b[39m\u001b[92m+ Crayons v4.0.4\u001b[39m\n",
            " \u001b[90m [a93c6f00] \u001b[39m\u001b[92m+ DataFrames v1.2.2\u001b[39m\n",
            " \u001b[90m [e2ba6199] \u001b[39m\u001b[92m+ ExprTools v0.1.6\u001b[39m\n",
            " \u001b[90m [5789e2e9] \u001b[39m\u001b[92m+ FileIO v1.11.2\u001b[39m\n",
            " \u001b[90m [48062228] \u001b[39m\u001b[92m+ FilePathsBase v0.9.16\u001b[39m\n",
            " \u001b[90m [842dd82b] \u001b[39m\u001b[92m+ InlineStrings v1.0.1\u001b[39m\n",
            " \u001b[90m [41ab1584] \u001b[39m\u001b[92m+ InvertedIndices v1.1.0\u001b[39m\n",
            " \u001b[90m [78c3b35d] \u001b[39m\u001b[92m+ Mocking v0.7.3\u001b[39m\n",
            " \u001b[90m [2dfb63ee] \u001b[39m\u001b[92m+ PooledArrays v1.3.0\u001b[39m\n",
            " \u001b[90m [08abe8d2] \u001b[39m\u001b[92m+ PrettyTables v1.2.3\u001b[39m\n",
            " \u001b[90m [df47a6cb] \u001b[39m\u001b[92m+ RData v0.8.3\u001b[39m\n",
            " \u001b[90m [ce6b1742] \u001b[39m\u001b[92m+ RDatasets v0.7.6\u001b[39m\n",
            " \u001b[90m [91c51154] \u001b[39m\u001b[92m+ SentinelArrays v1.3.8\u001b[39m\n",
            " \u001b[90m [f269a46b] \u001b[39m\u001b[92m+ TimeZones v1.6.2\u001b[39m\n",
            " \u001b[90m [3bb67fe8] \u001b[39m\u001b[92m+ TranscodingStreams v0.9.6\u001b[39m\n",
            " \u001b[90m [ea10d353] \u001b[39m\u001b[92m+ WeakRefStrings v1.4.1\u001b[39m\n",
            " \u001b[90m [9fa8497b] \u001b[39m\u001b[92m+ Future\u001b[39m\n",
            " \u001b[90m [4af54fe1] \u001b[39m\u001b[92m+ LazyArtifacts\u001b[39m\n",
            "\u001b[32m\u001b[1m    Building\u001b[22m\u001b[39m TimeZones → `~/.julia/scratchspaces/44cfe95a-1eb2-52ea-b672-e2afdf69b78f/8de32288505b7db196f36d27d7236464ef50dba1/build.log`\n",
            "\u001b[32m\u001b[1mPrecompiling\u001b[22m\u001b[39m project...\n",
            "\u001b[32m  ✓ \u001b[39m\u001b[90mCrayons\u001b[39m\n",
            "\u001b[32m  ✓ \u001b[39m\u001b[90mFilePathsBase\u001b[39m\n",
            "\u001b[32m  ✓ \u001b[39m\u001b[90mSentinelArrays\u001b[39m\n",
            "\u001b[32m  ✓ \u001b[39m\u001b[90mTranscodingStreams\u001b[39m\n",
            "\u001b[32m  ✓ \u001b[39m\u001b[90mFileIO\u001b[39m\n",
            "\u001b[32m  ✓ \u001b[39m\u001b[90mInvertedIndices\u001b[39m\n",
            "\u001b[32m  ✓ \u001b[39m\u001b[90mPooledArrays\u001b[39m\n",
            "\u001b[32m  ✓ \u001b[39m\u001b[90mCategoricalArrays\u001b[39m\n",
            "\u001b[32m  ✓ \u001b[39m\u001b[90mCodecZlib\u001b[39m\n",
            "\u001b[32m  ✓ \u001b[39m\u001b[90mWeakRefStrings\u001b[39m\n",
            "\u001b[32m  ✓ \u001b[39m\u001b[90mPrettyTables\u001b[39m\n",
            "\u001b[32m  ✓ \u001b[39m\u001b[90mCSV\u001b[39m\n",
            "\u001b[32m  ✓ \u001b[39mDataFrames\n",
            "\u001b[32m  ✓ \u001b[39m\u001b[90mRData\u001b[39m\n",
            "\u001b[32m  ✓ \u001b[39mRDatasets\n",
            "15 dependencies successfully precompiled in 65 seconds (135 already precompiled)\n"
          ]
        }
      ]
    },
    {
      "cell_type": "markdown",
      "metadata": {
        "id": "zWrkYOzBCJ22"
      },
      "source": [
        ""
      ]
    },
    {
      "cell_type": "code",
      "metadata": {
        "id": "8DZfejvwCIyV"
      },
      "source": [
        "using RDatasets\n",
        "using DataFrames"
      ],
      "execution_count": null,
      "outputs": []
    },
    {
      "cell_type": "code",
      "metadata": {
        "colab": {
          "base_uri": "https://localhost:8080/",
          "height": 753
        },
        "id": "g3KggOLhCdOY",
        "outputId": "c979f2bc-6cde-47f7-ef6f-85f6866b09a6"
      },
      "source": [
        "mtcars = dataset(\"datasets\", \"mtcars\")"
      ],
      "execution_count": null,
      "outputs": [
        {
          "output_type": "execute_result",
          "data": {
            "text/latex": "\\begin{tabular}{r|ccccccccc}\n\t& Model & MPG & Cyl & Disp & HP & DRat & WT & QSec & \\\\\n\t\\hline\n\t& String3… & Float64 & Int64 & Float64 & Int64 & Float64 & Float64 & Float64 & \\\\\n\t\\hline\n\t1 & Mazda RX4 & 21.0 & 6 & 160.0 & 110 & 3.9 & 2.62 & 16.46 & $\\dots$ \\\\\n\t2 & Mazda RX4 Wag & 21.0 & 6 & 160.0 & 110 & 3.9 & 2.875 & 17.02 & $\\dots$ \\\\\n\t3 & Datsun 710 & 22.8 & 4 & 108.0 & 93 & 3.85 & 2.32 & 18.61 & $\\dots$ \\\\\n\t4 & Hornet 4 Drive & 21.4 & 6 & 258.0 & 110 & 3.08 & 3.215 & 19.44 & $\\dots$ \\\\\n\t5 & Hornet Sportabout & 18.7 & 8 & 360.0 & 175 & 3.15 & 3.44 & 17.02 & $\\dots$ \\\\\n\t6 & Valiant & 18.1 & 6 & 225.0 & 105 & 2.76 & 3.46 & 20.22 & $\\dots$ \\\\\n\t7 & Duster 360 & 14.3 & 8 & 360.0 & 245 & 3.21 & 3.57 & 15.84 & $\\dots$ \\\\\n\t8 & Merc 240D & 24.4 & 4 & 146.7 & 62 & 3.69 & 3.19 & 20.0 & $\\dots$ \\\\\n\t9 & Merc 230 & 22.8 & 4 & 140.8 & 95 & 3.92 & 3.15 & 22.9 & $\\dots$ \\\\\n\t10 & Merc 280 & 19.2 & 6 & 167.6 & 123 & 3.92 & 3.44 & 18.3 & $\\dots$ \\\\\n\t11 & Merc 280C & 17.8 & 6 & 167.6 & 123 & 3.92 & 3.44 & 18.9 & $\\dots$ \\\\\n\t12 & Merc 450SE & 16.4 & 8 & 275.8 & 180 & 3.07 & 4.07 & 17.4 & $\\dots$ \\\\\n\t13 & Merc 450SL & 17.3 & 8 & 275.8 & 180 & 3.07 & 3.73 & 17.6 & $\\dots$ \\\\\n\t14 & Merc 450SLC & 15.2 & 8 & 275.8 & 180 & 3.07 & 3.78 & 18.0 & $\\dots$ \\\\\n\t15 & Cadillac Fleetwood & 10.4 & 8 & 472.0 & 205 & 2.93 & 5.25 & 17.98 & $\\dots$ \\\\\n\t16 & Lincoln Continental & 10.4 & 8 & 460.0 & 215 & 3.0 & 5.424 & 17.82 & $\\dots$ \\\\\n\t17 & Chrysler Imperial & 14.7 & 8 & 440.0 & 230 & 3.23 & 5.345 & 17.42 & $\\dots$ \\\\\n\t18 & Fiat 128 & 32.4 & 4 & 78.7 & 66 & 4.08 & 2.2 & 19.47 & $\\dots$ \\\\\n\t19 & Honda Civic & 30.4 & 4 & 75.7 & 52 & 4.93 & 1.615 & 18.52 & $\\dots$ \\\\\n\t20 & Toyota Corolla & 33.9 & 4 & 71.1 & 65 & 4.22 & 1.835 & 19.9 & $\\dots$ \\\\\n\t21 & Toyota Corona & 21.5 & 4 & 120.1 & 97 & 3.7 & 2.465 & 20.01 & $\\dots$ \\\\\n\t22 & Dodge Challenger & 15.5 & 8 & 318.0 & 150 & 2.76 & 3.52 & 16.87 & $\\dots$ \\\\\n\t23 & AMC Javelin & 15.2 & 8 & 304.0 & 150 & 3.15 & 3.435 & 17.3 & $\\dots$ \\\\\n\t24 & Camaro Z28 & 13.3 & 8 & 350.0 & 245 & 3.73 & 3.84 & 15.41 & $\\dots$ \\\\\n\t25 & Pontiac Firebird & 19.2 & 8 & 400.0 & 175 & 3.08 & 3.845 & 17.05 & $\\dots$ \\\\\n\t26 & Fiat X1-9 & 27.3 & 4 & 79.0 & 66 & 4.08 & 1.935 & 18.9 & $\\dots$ \\\\\n\t27 & Porsche 914-2 & 26.0 & 4 & 120.3 & 91 & 4.43 & 2.14 & 16.7 & $\\dots$ \\\\\n\t28 & Lotus Europa & 30.4 & 4 & 95.1 & 113 & 3.77 & 1.513 & 16.9 & $\\dots$ \\\\\n\t29 & Ford Pantera L & 15.8 & 8 & 351.0 & 264 & 4.22 & 3.17 & 14.5 & $\\dots$ \\\\\n\t30 & Ferrari Dino & 19.7 & 6 & 145.0 & 175 & 3.62 & 2.77 & 15.5 & $\\dots$ \\\\\n\t$\\dots$ & $\\dots$ & $\\dots$ & $\\dots$ & $\\dots$ & $\\dots$ & $\\dots$ & $\\dots$ & $\\dots$ &  \\\\\n\\end{tabular}\n",
            "text/html": [
              "<div class=\"data-frame\"><p>32 rows × 12 columns (omitted printing of 4 columns)</p><table class=\"data-frame\"><thead><tr><th></th><th>Model</th><th>MPG</th><th>Cyl</th><th>Disp</th><th>HP</th><th>DRat</th><th>WT</th><th>QSec</th></tr><tr><th></th><th title=\"InlineStrings.String31\">String3…</th><th title=\"Float64\">Float64</th><th title=\"Int64\">Int64</th><th title=\"Float64\">Float64</th><th title=\"Int64\">Int64</th><th title=\"Float64\">Float64</th><th title=\"Float64\">Float64</th><th title=\"Float64\">Float64</th></tr></thead><tbody><tr><th>1</th><td>Mazda RX4</td><td>21.0</td><td>6</td><td>160.0</td><td>110</td><td>3.9</td><td>2.62</td><td>16.46</td></tr><tr><th>2</th><td>Mazda RX4 Wag</td><td>21.0</td><td>6</td><td>160.0</td><td>110</td><td>3.9</td><td>2.875</td><td>17.02</td></tr><tr><th>3</th><td>Datsun 710</td><td>22.8</td><td>4</td><td>108.0</td><td>93</td><td>3.85</td><td>2.32</td><td>18.61</td></tr><tr><th>4</th><td>Hornet 4 Drive</td><td>21.4</td><td>6</td><td>258.0</td><td>110</td><td>3.08</td><td>3.215</td><td>19.44</td></tr><tr><th>5</th><td>Hornet Sportabout</td><td>18.7</td><td>8</td><td>360.0</td><td>175</td><td>3.15</td><td>3.44</td><td>17.02</td></tr><tr><th>6</th><td>Valiant</td><td>18.1</td><td>6</td><td>225.0</td><td>105</td><td>2.76</td><td>3.46</td><td>20.22</td></tr><tr><th>7</th><td>Duster 360</td><td>14.3</td><td>8</td><td>360.0</td><td>245</td><td>3.21</td><td>3.57</td><td>15.84</td></tr><tr><th>8</th><td>Merc 240D</td><td>24.4</td><td>4</td><td>146.7</td><td>62</td><td>3.69</td><td>3.19</td><td>20.0</td></tr><tr><th>9</th><td>Merc 230</td><td>22.8</td><td>4</td><td>140.8</td><td>95</td><td>3.92</td><td>3.15</td><td>22.9</td></tr><tr><th>10</th><td>Merc 280</td><td>19.2</td><td>6</td><td>167.6</td><td>123</td><td>3.92</td><td>3.44</td><td>18.3</td></tr><tr><th>11</th><td>Merc 280C</td><td>17.8</td><td>6</td><td>167.6</td><td>123</td><td>3.92</td><td>3.44</td><td>18.9</td></tr><tr><th>12</th><td>Merc 450SE</td><td>16.4</td><td>8</td><td>275.8</td><td>180</td><td>3.07</td><td>4.07</td><td>17.4</td></tr><tr><th>13</th><td>Merc 450SL</td><td>17.3</td><td>8</td><td>275.8</td><td>180</td><td>3.07</td><td>3.73</td><td>17.6</td></tr><tr><th>14</th><td>Merc 450SLC</td><td>15.2</td><td>8</td><td>275.8</td><td>180</td><td>3.07</td><td>3.78</td><td>18.0</td></tr><tr><th>15</th><td>Cadillac Fleetwood</td><td>10.4</td><td>8</td><td>472.0</td><td>205</td><td>2.93</td><td>5.25</td><td>17.98</td></tr><tr><th>16</th><td>Lincoln Continental</td><td>10.4</td><td>8</td><td>460.0</td><td>215</td><td>3.0</td><td>5.424</td><td>17.82</td></tr><tr><th>17</th><td>Chrysler Imperial</td><td>14.7</td><td>8</td><td>440.0</td><td>230</td><td>3.23</td><td>5.345</td><td>17.42</td></tr><tr><th>18</th><td>Fiat 128</td><td>32.4</td><td>4</td><td>78.7</td><td>66</td><td>4.08</td><td>2.2</td><td>19.47</td></tr><tr><th>19</th><td>Honda Civic</td><td>30.4</td><td>4</td><td>75.7</td><td>52</td><td>4.93</td><td>1.615</td><td>18.52</td></tr><tr><th>20</th><td>Toyota Corolla</td><td>33.9</td><td>4</td><td>71.1</td><td>65</td><td>4.22</td><td>1.835</td><td>19.9</td></tr><tr><th>21</th><td>Toyota Corona</td><td>21.5</td><td>4</td><td>120.1</td><td>97</td><td>3.7</td><td>2.465</td><td>20.01</td></tr><tr><th>22</th><td>Dodge Challenger</td><td>15.5</td><td>8</td><td>318.0</td><td>150</td><td>2.76</td><td>3.52</td><td>16.87</td></tr><tr><th>23</th><td>AMC Javelin</td><td>15.2</td><td>8</td><td>304.0</td><td>150</td><td>3.15</td><td>3.435</td><td>17.3</td></tr><tr><th>24</th><td>Camaro Z28</td><td>13.3</td><td>8</td><td>350.0</td><td>245</td><td>3.73</td><td>3.84</td><td>15.41</td></tr><tr><th>25</th><td>Pontiac Firebird</td><td>19.2</td><td>8</td><td>400.0</td><td>175</td><td>3.08</td><td>3.845</td><td>17.05</td></tr><tr><th>26</th><td>Fiat X1-9</td><td>27.3</td><td>4</td><td>79.0</td><td>66</td><td>4.08</td><td>1.935</td><td>18.9</td></tr><tr><th>27</th><td>Porsche 914-2</td><td>26.0</td><td>4</td><td>120.3</td><td>91</td><td>4.43</td><td>2.14</td><td>16.7</td></tr><tr><th>28</th><td>Lotus Europa</td><td>30.4</td><td>4</td><td>95.1</td><td>113</td><td>3.77</td><td>1.513</td><td>16.9</td></tr><tr><th>29</th><td>Ford Pantera L</td><td>15.8</td><td>8</td><td>351.0</td><td>264</td><td>4.22</td><td>3.17</td><td>14.5</td></tr><tr><th>30</th><td>Ferrari Dino</td><td>19.7</td><td>6</td><td>145.0</td><td>175</td><td>3.62</td><td>2.77</td><td>15.5</td></tr><tr><th>&vellip;</th><td>&vellip;</td><td>&vellip;</td><td>&vellip;</td><td>&vellip;</td><td>&vellip;</td><td>&vellip;</td><td>&vellip;</td><td>&vellip;</td></tr></tbody></table></div>"
            ],
            "text/plain": [
              "\u001b[1m32×12 DataFrame\u001b[0m\n",
              "\u001b[1m Row \u001b[0m│\u001b[1m Model             \u001b[0m\u001b[1m MPG     \u001b[0m\u001b[1m Cyl   \u001b[0m\u001b[1m Disp    \u001b[0m\u001b[1m HP    \u001b[0m\u001b[1m DRat    \u001b[0m\u001b[1m WT      \u001b[0m\u001b[1m QS\u001b[0m ⋯\n",
              "\u001b[1m     \u001b[0m│\u001b[90m String31…         \u001b[0m\u001b[90m Float64 \u001b[0m\u001b[90m Int64 \u001b[0m\u001b[90m Float64 \u001b[0m\u001b[90m Int64 \u001b[0m\u001b[90m Float64 \u001b[0m\u001b[90m Float64 \u001b[0m\u001b[90m Fl\u001b[0m ⋯\n",
              "─────┼──────────────────────────────────────────────────────────────────────────\n",
              "   1 │ Mazda RX4             21.0      6    160.0    110     3.9     2.62      ⋯\n",
              "   2 │ Mazda RX4 Wag         21.0      6    160.0    110     3.9     2.875\n",
              "   3 │ Datsun 710            22.8      4    108.0     93     3.85    2.32\n",
              "   4 │ Hornet 4 Drive        21.4      6    258.0    110     3.08    3.215\n",
              "   5 │ Hornet Sportabout     18.7      8    360.0    175     3.15    3.44      ⋯\n",
              "   6 │ Valiant               18.1      6    225.0    105     2.76    3.46\n",
              "   7 │ Duster 360            14.3      8    360.0    245     3.21    3.57\n",
              "   8 │ Merc 240D             24.4      4    146.7     62     3.69    3.19\n",
              "   9 │ Merc 230              22.8      4    140.8     95     3.92    3.15      ⋯\n",
              "  10 │ Merc 280              19.2      6    167.6    123     3.92    3.44\n",
              "  11 │ Merc 280C             17.8      6    167.6    123     3.92    3.44\n",
              "  ⋮  │         ⋮             ⋮       ⋮       ⋮       ⋮       ⋮        ⋮        ⋱\n",
              "  23 │ AMC Javelin           15.2      8    304.0    150     3.15    3.435\n",
              "  24 │ Camaro Z28            13.3      8    350.0    245     3.73    3.84      ⋯\n",
              "  25 │ Pontiac Firebird      19.2      8    400.0    175     3.08    3.845\n",
              "  26 │ Fiat X1-9             27.3      4     79.0     66     4.08    1.935\n",
              "  27 │ Porsche 914-2         26.0      4    120.3     91     4.43    2.14\n",
              "  28 │ Lotus Europa          30.4      4     95.1    113     3.77    1.513     ⋯\n",
              "  29 │ Ford Pantera L        15.8      8    351.0    264     4.22    3.17\n",
              "  30 │ Ferrari Dino          19.7      6    145.0    175     3.62    2.77\n",
              "  31 │ Maserati Bora         15.0      8    301.0    335     3.54    3.57\n",
              "  32 │ Volvo 142E            21.4      4    121.0    109     4.11    2.78      ⋯\n",
              "\u001b[36m                                                   5 columns and 11 rows omitted\u001b[0m"
            ]
          },
          "metadata": {},
          "execution_count": 3
        }
      ]
    },
    {
      "cell_type": "code",
      "metadata": {
        "colab": {
          "base_uri": "https://localhost:8080/"
        },
        "id": "t6kAq6NQCtuc",
        "outputId": "dc924807-26c8-437f-e0c6-415f29a9c345"
      },
      "source": [
        "function gradientDesc(x, y, learn_rate, conv_threshold, n, max_iter)\n",
        "    β = rand(Float64, 1)[1]\n",
        "    α = rand(Float64, 1)[1]\n",
        "    ŷ = α .+ β .* x\n",
        "    MSE = sum((y .- ŷ).^2)/n\n",
        "    converged = false\n",
        "    iterations = 0\n",
        "\n",
        "    while converged == false\n",
        "        # Implement the gradient descent algorithm\n",
        "        β_new = β - learn_rate*((1/n)*(sum((ŷ .- y) .* x)))\n",
        "        α_new = α - learn_rate*((1/n)*(sum(ŷ .- y)))\n",
        "        α = α_new\n",
        "        β = β_new\n",
        "        ŷ = β.*x .+ α\n",
        "        MSE_new = sum((y.-ŷ).^2)/n\n",
        "        # decide on whether it is converged or not\n",
        "        if (MSE - MSE_new) <= conv_threshold\n",
        "            converged = true\n",
        "            println(\"Optimal intercept: $α; Optimal slope: $β\")\n",
        "        end\n",
        "        iterations += 1\n",
        "        if iterations > max_iter\n",
        "            converged = true\n",
        "            println(\"Optimal intercept: $α; Optimal slope: $β\")\n",
        "        end\n",
        "    end\n",
        "end"
      ],
      "execution_count": null,
      "outputs": [
        {
          "output_type": "execute_result",
          "data": {
            "text/plain": [
              "gradientDesc (generic function with 1 method)"
            ]
          },
          "metadata": {},
          "execution_count": 4
        }
      ]
    },
    {
      "cell_type": "code",
      "metadata": {
        "colab": {
          "base_uri": "https://localhost:8080/"
        },
        "id": "tgUjkfWxDHo_",
        "outputId": "03056f32-aa94-4fb9-b149-fb4ecb324f23"
      },
      "source": [
        "gradientDesc(mtcars[:,:Disp], mtcars[:,:MPG], 0.0000293, 0.001, 32, 2500000)"
      ],
      "execution_count": null,
      "outputs": [
        {
          "output_type": "stream",
          "name": "stdout",
          "text": [
            "Optimal intercept: 29.599851535611556; Optimal slope: -0.04121510905370332\n"
          ]
        }
      ]
    },
    {
      "cell_type": "code",
      "metadata": {
        "colab": {
          "base_uri": "https://localhost:8080/"
        },
        "id": "ENVjfZsGDSAX",
        "outputId": "b9fe2f1c-1f7e-4bb4-a1a5-ced035569bf2"
      },
      "source": [
        "]add GLM"
      ],
      "execution_count": null,
      "outputs": [
        {
          "output_type": "stream",
          "name": "stderr",
          "text": [
            "\u001b[32m\u001b[1m   Resolving\u001b[22m\u001b[39m package versions...\n",
            "\u001b[32m\u001b[1m   Installed\u001b[22m\u001b[39m OpenSpecFun_jll ── v0.5.5+0\n",
            "\u001b[32m\u001b[1m   Installed\u001b[22m\u001b[39m Rmath ──────────── v0.7.0\n",
            "\u001b[32m\u001b[1m   Installed\u001b[22m\u001b[39m FillArrays ─────── v0.12.7\n",
            "\u001b[32m\u001b[1m   Installed\u001b[22m\u001b[39m StatsFuns ──────── v0.9.13\n",
            "\u001b[32m\u001b[1m   Installed\u001b[22m\u001b[39m QuadGK ─────────── v2.4.2\n",
            "\u001b[32m\u001b[1m   Installed\u001b[22m\u001b[39m StatsModels ────── v0.6.28\n",
            "\u001b[32m\u001b[1m   Installed\u001b[22m\u001b[39m GLM ────────────── v1.5.1\n",
            "\u001b[32m\u001b[1m   Installed\u001b[22m\u001b[39m Distributions ──── v0.25.31\n",
            "\u001b[32m\u001b[1m   Installed\u001b[22m\u001b[39m ShiftedArrays ──── v1.0.0\n",
            "\u001b[32m\u001b[1m   Installed\u001b[22m\u001b[39m Rmath_jll ──────── v0.3.0+0\n",
            "\u001b[32m\u001b[1m   Installed\u001b[22m\u001b[39m DensityInterface ─ v0.4.0\n",
            "\u001b[32m\u001b[1m   Installed\u001b[22m\u001b[39m PDMats ─────────── v0.11.5\n",
            "\u001b[32m\u001b[1m   Installed\u001b[22m\u001b[39m SpecialFunctions ─ v1.8.1\n",
            "\u001b[32m\u001b[1m    Updating\u001b[22m\u001b[39m `~/.julia/environments/v1.6/Project.toml`\n",
            " \u001b[90m [38e38edf] \u001b[39m\u001b[92m+ GLM v1.5.1\u001b[39m\n",
            "\u001b[32m\u001b[1m    Updating\u001b[22m\u001b[39m `~/.julia/environments/v1.6/Manifest.toml`\n",
            " \u001b[90m [b429d917] \u001b[39m\u001b[92m+ DensityInterface v0.4.0\u001b[39m\n",
            " \u001b[90m [31c24e10] \u001b[39m\u001b[92m+ Distributions v0.25.31\u001b[39m\n",
            " \u001b[90m [1a297f60] \u001b[39m\u001b[92m+ FillArrays v0.12.7\u001b[39m\n",
            " \u001b[90m [38e38edf] \u001b[39m\u001b[92m+ GLM v1.5.1\u001b[39m\n",
            " \u001b[90m [90014a1f] \u001b[39m\u001b[92m+ PDMats v0.11.5\u001b[39m\n",
            " \u001b[90m [1fd47b50] \u001b[39m\u001b[92m+ QuadGK v2.4.2\u001b[39m\n",
            " \u001b[90m [79098fc4] \u001b[39m\u001b[92m+ Rmath v0.7.0\u001b[39m\n",
            " \u001b[90m [1277b4bf] \u001b[39m\u001b[92m+ ShiftedArrays v1.0.0\u001b[39m\n",
            " \u001b[90m [276daf66] \u001b[39m\u001b[92m+ SpecialFunctions v1.8.1\u001b[39m\n",
            " \u001b[90m [4c63d2b9] \u001b[39m\u001b[92m+ StatsFuns v0.9.13\u001b[39m\n",
            " \u001b[90m [3eaba693] \u001b[39m\u001b[92m+ StatsModels v0.6.28\u001b[39m\n",
            " \u001b[90m [efe28fd5] \u001b[39m\u001b[92m+ OpenSpecFun_jll v0.5.5+0\u001b[39m\n",
            " \u001b[90m [f50d1b31] \u001b[39m\u001b[92m+ Rmath_jll v0.3.0+0\u001b[39m\n",
            " \u001b[90m [4607b0f0] \u001b[39m\u001b[92m+ SuiteSparse\u001b[39m\n",
            " \u001b[90m [05823500] \u001b[39m\u001b[92m+ OpenLibm_jll\u001b[39m\n",
            "\u001b[32m\u001b[1mPrecompiling\u001b[22m\u001b[39m project...\n",
            "\u001b[32m  ✓ \u001b[39m\u001b[90mShiftedArrays\u001b[39m\n",
            "\u001b[32m  ✓ \u001b[39m\u001b[90mPDMats\u001b[39m\n",
            "\u001b[32m  ✓ \u001b[39m\u001b[90mDensityInterface\u001b[39m\n",
            "\u001b[32m  ✓ \u001b[39m\u001b[90mOpenLibm_jll\u001b[39m\n",
            "\u001b[32m  ✓ \u001b[39m\u001b[90mFillArrays\u001b[39m\n",
            "\u001b[32m  ✓ \u001b[39m\u001b[90mQuadGK\u001b[39m\n",
            "\u001b[32m  ✓ \u001b[39m\u001b[90mOpenSpecFun_jll\u001b[39m\n",
            "\u001b[32m  ✓ \u001b[39m\u001b[90mRmath_jll\u001b[39m\n",
            "\u001b[32m  ✓ \u001b[39m\u001b[90mRmath\u001b[39m\n",
            "\u001b[32m  ✓ \u001b[39m\u001b[90mSpecialFunctions\u001b[39m\n",
            "\u001b[32m  ✓ \u001b[39m\u001b[90mStatsFuns\u001b[39m\n",
            "\u001b[32m  ✓ \u001b[39m\u001b[90mStatsModels\u001b[39m\n",
            "\u001b[32m  ✓ \u001b[39m\u001b[90mDistributions\u001b[39m\n",
            "\u001b[32m  ✓ \u001b[39mGLM\n",
            "14 dependencies successfully precompiled in 26 seconds (150 already precompiled)\n"
          ]
        }
      ]
    },
    {
      "cell_type": "code",
      "metadata": {
        "colab": {
          "base_uri": "https://localhost:8080/"
        },
        "id": "TvEBRx_uDNdv",
        "outputId": "c7389495-37ea-47e7-cf0c-530094841245"
      },
      "source": [
        "using GLM\n",
        "linearRegressor = lm(@formula(MPG ~ Disp), mtcars)"
      ],
      "execution_count": null,
      "outputs": [
        {
          "output_type": "execute_result",
          "data": {
            "text/plain": [
              "StatsModels.TableRegressionModel{LinearModel{GLM.LmResp{Vector{Float64}}, GLM.DensePredChol{Float64, LinearAlgebra.CholeskyPivoted{Float64, Matrix{Float64}}}}, Matrix{Float64}}\n",
              "\n",
              "MPG ~ 1 + Disp\n",
              "\n",
              "Coefficients:\n",
              "───────────────────────────────────────────────────────────────────────────\n",
              "                  Coef.  Std. Error      t  Pr(>|t|)  Lower 95%   Upper 95%\n",
              "───────────────────────────────────────────────────────────────────────────\n",
              "(Intercept)  29.5999     1.22972     24.07    <1e-20  27.0884    32.1113\n",
              "Disp         -0.0412151  0.00471183  -8.75    <1e-09  -0.050838  -0.0315923\n",
              "───────────────────────────────────────────────────────────────────────────"
            ]
          },
          "metadata": {},
          "execution_count": 8
        }
      ]
    }
  ]
}